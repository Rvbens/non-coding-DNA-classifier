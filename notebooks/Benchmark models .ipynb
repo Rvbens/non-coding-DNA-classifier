{
 "cells": [
  {
   "cell_type": "code",
   "execution_count": 1,
   "metadata": {},
   "outputs": [],
   "source": [
    "import pandas as pd\n",
    "import numpy as np\n",
    "import h5py"
   ]
  },
  {
   "cell_type": "code",
   "execution_count": 2,
   "metadata": {},
   "outputs": [],
   "source": [
    "train_h5 = h5py.File('data/Processed/train.hdf5')\n",
    "y_train = train_h5['y_train']"
   ]
  },
  {
   "cell_type": "code",
   "execution_count": 5,
   "metadata": {},
   "outputs": [],
   "source": [
    "y_train = y_train[:]"
   ]
  },
  {
   "cell_type": "code",
   "execution_count": 8,
   "metadata": {},
   "outputs": [],
   "source": [
    "target_cnt = y_train.sum(0)"
   ]
  },
  {
   "cell_type": "code",
   "execution_count": 12,
   "metadata": {},
   "outputs": [],
   "source": [
    "df = pd.read_csv('data/data_danq.txt',sep='\\t')"
   ]
  },
  {
   "cell_type": "code",
   "execution_count": 36,
   "metadata": {},
   "outputs": [
    {
     "data": {
      "text/plain": [
       "Cell Type                                          K562\n",
       "TF/DNase/HistoneMark                               BRF1\n",
       "Treatment                                          None\n",
       "DeepSEA ROC AUC         NA (No positive in Test region)\n",
       "DanQ ROC AUC            NA (No positive in Test region)\n",
       "DanQ-JASPAR ROC AUC     NA (No positive in Test region)\n",
       "DeepSEA PR AUC          NA (No positive in Test region)\n",
       "DanQ PR AUC             NA (No positive in Test region)\n",
       "DanQ-JASPAR PR AUC      NA (No positive in Test region)\n",
       "Name: 598, dtype: object"
      ]
     },
     "execution_count": 36,
     "metadata": {},
     "output_type": "execute_result"
    }
   ],
   "source": [
    "df.iloc[598]"
   ]
  },
  {
   "cell_type": "code",
   "execution_count": 48,
   "metadata": {},
   "outputs": [],
   "source": [
    "nans = df['DeepSEA ROC AUC']=='NA (No positive in Test region)'\n",
    "target_cnt[nans] = 0"
   ]
  },
  {
   "cell_type": "code",
   "execution_count": 49,
   "metadata": {},
   "outputs": [
    {
     "data": {
      "text/html": [
       "<div>\n",
       "<style scoped>\n",
       "    .dataframe tbody tr th:only-of-type {\n",
       "        vertical-align: middle;\n",
       "    }\n",
       "\n",
       "    .dataframe tbody tr th {\n",
       "        vertical-align: top;\n",
       "    }\n",
       "\n",
       "    .dataframe thead th {\n",
       "        text-align: right;\n",
       "    }\n",
       "</style>\n",
       "<table border=\"1\" class=\"dataframe\">\n",
       "  <thead>\n",
       "    <tr style=\"text-align: right;\">\n",
       "      <th></th>\n",
       "      <th>Cell Type</th>\n",
       "      <th>TF/DNase/HistoneMark</th>\n",
       "      <th>Treatment</th>\n",
       "      <th>DeepSEA ROC AUC</th>\n",
       "      <th>DanQ ROC AUC</th>\n",
       "      <th>DanQ-JASPAR ROC AUC</th>\n",
       "      <th>DeepSEA PR AUC</th>\n",
       "      <th>DanQ PR AUC</th>\n",
       "      <th>DanQ-JASPAR PR AUC</th>\n",
       "    </tr>\n",
       "  </thead>\n",
       "  <tbody>\n",
       "    <tr>\n",
       "      <td>598</td>\n",
       "      <td>K562</td>\n",
       "      <td>BRF1</td>\n",
       "      <td>None</td>\n",
       "      <td>NA (No positive in Test region)</td>\n",
       "      <td>NA (No positive in Test region)</td>\n",
       "      <td>NA (No positive in Test region)</td>\n",
       "      <td>NA (No positive in Test region)</td>\n",
       "      <td>NA (No positive in Test region)</td>\n",
       "      <td>NA (No positive in Test region)</td>\n",
       "    </tr>\n",
       "  </tbody>\n",
       "</table>\n",
       "</div>"
      ],
      "text/plain": [
       "    Cell Type TF/DNase/HistoneMark Treatment                  DeepSEA ROC AUC  \\\n",
       "598      K562                 BRF1      None  NA (No positive in Test region)   \n",
       "\n",
       "                        DanQ ROC AUC              DanQ-JASPAR ROC AUC  \\\n",
       "598  NA (No positive in Test region)  NA (No positive in Test region)   \n",
       "\n",
       "                      DeepSEA PR AUC                      DanQ PR AUC  \\\n",
       "598  NA (No positive in Test region)  NA (No positive in Test region)   \n",
       "\n",
       "                  DanQ-JASPAR PR AUC  \n",
       "598  NA (No positive in Test region)  "
      ]
     },
     "execution_count": 49,
     "metadata": {},
     "output_type": "execute_result"
    }
   ],
   "source": [
    "df[nans]"
   ]
  },
  {
   "cell_type": "code",
   "execution_count": 62,
   "metadata": {},
   "outputs": [
    {
     "name": "stdout",
     "output_type": "stream",
     "text": [
      "DeepSEA ROC AUC :  0.9046354159793081\n",
      "DanQ ROC AUC :  0.9109002540354364\n",
      "DanQ-JASPAR ROC AUC :  0.9140298317824826\n",
      "DeepSEA PR AUC :  0.4462988949124813\n",
      "DanQ PR AUC :  0.4698170957981283\n",
      "DanQ-JASPAR PR AUC :  0.47828986563520876\n"
     ]
    }
   ],
   "source": [
    "for i in df.columns[3:]:\n",
    "    df[i][nans] = 0\n",
    "    mu = np.average(df[i].values.astype('float32'),weights=target_cnt)\n",
    "    print(i,': ',mu)"
   ]
  },
  {
   "cell_type": "code",
   "execution_count": 63,
   "metadata": {},
   "outputs": [],
   "source": [
    "DanQ_ROC_AUC =  0.9109002540354364\n",
    "DanQ_PR_AUC  =  0.4698170957981283\n",
    "\n",
    "NCNet_bRR_ROC_AUC = DanQ_ROC_AUC*(103.64/100)\n",
    "NCNet_bRR_PR_AUC  = DanQ_PR_AUC*(114.05/100)\n",
    "\n",
    "NCNet_RbR_ROC_AUC = DanQ_ROC_AUC*(104.37/100)\n",
    "NCNet_RbR_PR_AUC  = DanQ_PR_AUC*(117.48/100)"
   ]
  },
  {
   "cell_type": "code",
   "execution_count": 64,
   "metadata": {},
   "outputs": [
    {
     "data": {
      "text/plain": [
       "(0.9440570232823263, 0.5358263977577654, 0.950706595136785, 0.5519411241436412)"
      ]
     },
     "execution_count": 64,
     "metadata": {},
     "output_type": "execute_result"
    }
   ],
   "source": [
    "NCNet_bRR_ROC_AUC,NCNet_bRR_PR_AUC,NCNet_RbR_ROC_AUC,NCNet_RbR_PR_AUC"
   ]
  },
  {
   "cell_type": "code",
   "execution_count": null,
   "metadata": {},
   "outputs": [],
   "source": []
  }
 ],
 "metadata": {
  "kernelspec": {
   "display_name": "Python 3",
   "language": "python",
   "name": "python3"
  },
  "language_info": {
   "codemirror_mode": {
    "name": "ipython",
    "version": 3
   },
   "file_extension": ".py",
   "mimetype": "text/x-python",
   "name": "python",
   "nbconvert_exporter": "python",
   "pygments_lexer": "ipython3",
   "version": "3.7.4"
  }
 },
 "nbformat": 4,
 "nbformat_minor": 2
}
