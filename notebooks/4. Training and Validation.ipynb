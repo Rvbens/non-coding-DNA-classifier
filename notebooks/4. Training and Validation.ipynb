{
 "cells": [
  {
   "cell_type": "code",
   "execution_count": 1,
   "metadata": {},
   "outputs": [],
   "source": [
    "# basic imports\n",
    "import numpy as np\n",
    "import sys,os,h5py,math\n",
    "import matplotlib.pyplot as plt\n",
    "from argparse import Namespace\n",
    "\n",
    "# PyTorch imports\n",
    "import torch\n",
    "import torch.nn as nn\n",
    "import torch.nn.functional as F\n",
    "from torch.utils.data import Dataset, DataLoader, Sampler\n",
    "import pytorch_lightning as pl\n",
    "\n",
    "# Personal imports\n",
    "sys.path.append(os.path.dirname(os.getcwd())) #add parent folder to PATH\n",
    "import lib.models as models\n",
    "from lib.metrics import accuracy,weighted_aucs\n",
    "\n",
    "chpt_path = None"
   ]
  },
  {
   "cell_type": "markdown",
   "metadata": {
    "heading_collapsed": true
   },
   "source": [
    "## DanQ"
   ]
  },
  {
   "cell_type": "code",
   "execution_count": 2,
   "metadata": {
    "hidden": true
   },
   "outputs": [],
   "source": [
    "class CustomDataset(Dataset):\n",
    "    def __init__(self,x,y):\n",
    "        super(CustomDataset,self).__init__()\n",
    "        self.x, self.y = x,y\n",
    "        \n",
    "    def __len__(self): return len(self.x)\n",
    "\n",
    "    def __getitem__(self, i): return self.x[i].long(), self.y[i].float()"
   ]
  },
  {
   "cell_type": "code",
   "execution_count": 3,
   "metadata": {
    "hidden": true
   },
   "outputs": [],
   "source": [
    "class Experiment(pl.LightningModule):\n",
    "\n",
    "    def __init__(self,bs):\n",
    "        super(Experiment, self).__init__()\n",
    "        self.model = models.DanQ()\n",
    "        self.bs = bs #batch size\n",
    "        self.loss_fn = nn.BCEWithLogitsLoss()\n",
    "        self.class_weights = torch.load('../data/Processed/class_weights')\n",
    "        \n",
    "    def forward(self, x):\n",
    "        return self.model(x)\n",
    "\n",
    "    def training_step(self, batch, batch_nb):\n",
    "        x, y = batch\n",
    "        y_hat = self.forward(x)\n",
    "        loss = self.loss_fn(y_hat, y)\n",
    "        tensorboard_logs = {}#{'train_loss': loss}\n",
    "        return {'loss': loss, 'log': tensorboard_logs}\n",
    "    \n",
    "    def validation_step(self, batch, batch_idx):\n",
    "        x, y = batch\n",
    "        y_hat = self.forward(x)\n",
    "        return {'val_loss': self.loss_fn(y_hat, y)}\n",
    "\n",
    "    def validation_end(self, outputs):\n",
    "        avg_loss = torch.stack([x['val_loss'] for x in outputs]).mean()\n",
    "        tensorboard_logs = {}#{'val_loss': avg_loss}\n",
    "        return {'avg_val_loss': avg_loss, 'log': tensorboard_logs}\n",
    "\n",
    "    def test_step(self, batch, batch_idx):\n",
    "        x, y = batch\n",
    "        y_hat = self.forward(x)\n",
    "        y_pred = F.softmax(y_hat,dim=1).detach().cpu()\n",
    "        return {'test_loss': self.loss_fn(y_hat, y),'y_pred':y_pred, 'y_true':y.cpu()}\n",
    "\n",
    "    def test_end(self, outputs):\n",
    "        avg_loss = torch.stack([x['test_loss'] for x in outputs]).mean()\n",
    "        y_preds = torch.cat([x['y_pred'] for x in outputs])\n",
    "        y_trues = torch.cat([x['y_true'] for x in outputs]).byte()\n",
    "        roc_auc = weighted_auc(y_preds,y_trues, self.class_weights)\n",
    "        \n",
    "        tensorboard_logs = {'test_loss': avg_loss,'roc_auc':roc_auc}\n",
    "        return {'avg_test_loss': avg_loss, 'log': tensorboard_logs}\n",
    "    \n",
    "    def configure_optimizers(self):\n",
    "        return torch.optim.Adam(self.parameters(), lr=1e-4)\n",
    "\n",
    "    @pl.data_loader\n",
    "    def train_dataloader(self):\n",
    "        print('Loading training dataset')\n",
    "        train_h5 = h5py.File('../data/Processed/train.hdf5')\n",
    "        X_train = torch.tensor(train_h5['X_train'][:])\n",
    "        y_train = torch.tensor(train_h5['y_train'][:])\n",
    "        train_h5.close()\n",
    "        trn_ds = CustomDataset(X_train,y_train)\n",
    "        trn_dl = DataLoader(trn_ds, batch_size=self.bs,shuffle=True, num_workers=6)\n",
    "        return trn_dl\n",
    "    \n",
    "    @pl.data_loader\n",
    "    def val_dataloader(self):\n",
    "        valid = np.load('../data/Processed/valid.npz')\n",
    "        X_valid = torch.tensor(valid['arr_0'][:])\n",
    "        y_valid = torch.tensor(valid['arr_1'][:])\n",
    "\n",
    "        vld_ds = CustomDataset(X_valid,y_valid)\n",
    "        vld_dl = DataLoader(vld_ds, batch_size=self.bs,shuffle=False, num_workers=6)\n",
    "        return vld_dl\n",
    "    \n",
    "    @pl.data_loader\n",
    "    def test_dataloader(self):\n",
    "        test = np.load('../data/Processed/test.npz')\n",
    "        X_test = torch.tensor(test['arr_0'][:])\n",
    "        y_test = torch.tensor(test['arr_1'][:])\n",
    "                              \n",
    "        tst_ds = CustomDataset(X_test,y_test)\n",
    "        tst_dl = DataLoader(tst_ds, batch_size=self.bs,shuffle=False, num_workers=6)\n",
    "        return tst_dl"
   ]
  },
  {
   "cell_type": "code",
   "execution_count": 4,
   "metadata": {
    "hidden": true
   },
   "outputs": [
    {
     "name": "stdout",
     "output_type": "stream",
     "text": [
      "Loading training dataset\n"
     ]
    },
    {
     "name": "stderr",
     "output_type": "stream",
     "text": [
      "\r",
      "Validation sanity check:   0%|          | 0/5 [00:00<?, ?batch/s]"
     ]
    },
    {
     "ename": "AttributeError",
     "evalue": "'tuple' object has no attribute 'size'",
     "output_type": "error",
     "traceback": [
      "\u001b[0;31m---------------------------------------------------------------------------\u001b[0m",
      "\u001b[0;31mAttributeError\u001b[0m                            Traceback (most recent call last)",
      "\u001b[0;32m<ipython-input-4-48c34e243480>\u001b[0m in \u001b[0;36m<module>\u001b[0;34m\u001b[0m\n\u001b[1;32m      3\u001b[0m trainer = pl.Trainer(gpus=1,max_nb_epochs=1, train_percent_check=0.01,val_percent_check=0.5,\n\u001b[1;32m      4\u001b[0m                      default_save_path='../data',log_gpu_memory='min_max')    \n\u001b[0;32m----> 5\u001b[0;31m \u001b[0mtrainer\u001b[0m\u001b[0;34m.\u001b[0m\u001b[0mfit\u001b[0m\u001b[0;34m(\u001b[0m\u001b[0mexp\u001b[0m\u001b[0;34m)\u001b[0m\u001b[0;34m\u001b[0m\u001b[0;34m\u001b[0m\u001b[0m\n\u001b[0m\u001b[1;32m      6\u001b[0m \u001b[0;31m# #trainer.test()\u001b[0m\u001b[0;34m\u001b[0m\u001b[0;34m\u001b[0m\u001b[0;34m\u001b[0m\u001b[0m\n",
      "\u001b[0;32m~/anaconda3/envs/mlnd/lib/python3.6/site-packages/pytorch_lightning/trainer/trainer.py\u001b[0m in \u001b[0;36mfit\u001b[0;34m(self, model)\u001b[0m\n\u001b[1;32m    349\u001b[0m \u001b[0;34m\u001b[0m\u001b[0m\n\u001b[1;32m    350\u001b[0m         \u001b[0;32melif\u001b[0m \u001b[0mself\u001b[0m\u001b[0;34m.\u001b[0m\u001b[0msingle_gpu\u001b[0m\u001b[0;34m:\u001b[0m\u001b[0;34m\u001b[0m\u001b[0;34m\u001b[0m\u001b[0m\n\u001b[0;32m--> 351\u001b[0;31m             \u001b[0mself\u001b[0m\u001b[0;34m.\u001b[0m\u001b[0msingle_gpu_train\u001b[0m\u001b[0;34m(\u001b[0m\u001b[0mmodel\u001b[0m\u001b[0;34m)\u001b[0m\u001b[0;34m\u001b[0m\u001b[0;34m\u001b[0m\u001b[0m\n\u001b[0m\u001b[1;32m    352\u001b[0m \u001b[0;34m\u001b[0m\u001b[0m\n\u001b[1;32m    353\u001b[0m         \u001b[0;31m# ON CPU\u001b[0m\u001b[0;34m\u001b[0m\u001b[0;34m\u001b[0m\u001b[0;34m\u001b[0m\u001b[0m\n",
      "\u001b[0;32m~/anaconda3/envs/mlnd/lib/python3.6/site-packages/pytorch_lightning/trainer/dp_mixin.py\u001b[0m in \u001b[0;36msingle_gpu_train\u001b[0;34m(self, model)\u001b[0m\n\u001b[1;32m     75\u001b[0m             \u001b[0mself\u001b[0m\u001b[0;34m.\u001b[0m\u001b[0moptimizers\u001b[0m \u001b[0;34m=\u001b[0m \u001b[0moptimizers\u001b[0m\u001b[0;34m\u001b[0m\u001b[0;34m\u001b[0m\u001b[0m\n\u001b[1;32m     76\u001b[0m \u001b[0;34m\u001b[0m\u001b[0m\n\u001b[0;32m---> 77\u001b[0;31m         \u001b[0mself\u001b[0m\u001b[0;34m.\u001b[0m\u001b[0mrun_pretrain_routine\u001b[0m\u001b[0;34m(\u001b[0m\u001b[0mmodel\u001b[0m\u001b[0;34m)\u001b[0m\u001b[0;34m\u001b[0m\u001b[0;34m\u001b[0m\u001b[0m\n\u001b[0m\u001b[1;32m     78\u001b[0m \u001b[0;34m\u001b[0m\u001b[0m\n\u001b[1;32m     79\u001b[0m     \u001b[0;32mdef\u001b[0m \u001b[0mdp_train\u001b[0m\u001b[0;34m(\u001b[0m\u001b[0mself\u001b[0m\u001b[0;34m,\u001b[0m \u001b[0mmodel\u001b[0m\u001b[0;34m)\u001b[0m\u001b[0;34m:\u001b[0m\u001b[0;34m\u001b[0m\u001b[0;34m\u001b[0m\u001b[0m\n",
      "\u001b[0;32m~/anaconda3/envs/mlnd/lib/python3.6/site-packages/pytorch_lightning/trainer/trainer.py\u001b[0m in \u001b[0;36mrun_pretrain_routine\u001b[0;34m(self, model)\u001b[0m\n\u001b[1;32m    453\u001b[0m             \u001b[0mself\u001b[0m\u001b[0;34m.\u001b[0m\u001b[0mval_progress_bar\u001b[0m \u001b[0;34m=\u001b[0m \u001b[0mtqdm\u001b[0m\u001b[0;34m.\u001b[0m\u001b[0mtqdm\u001b[0m\u001b[0;34m(\u001b[0m\u001b[0mdisable\u001b[0m\u001b[0;34m=\u001b[0m\u001b[0;32mTrue\u001b[0m\u001b[0;34m)\u001b[0m\u001b[0;34m\u001b[0m\u001b[0;34m\u001b[0m\u001b[0m\n\u001b[1;32m    454\u001b[0m \u001b[0;34m\u001b[0m\u001b[0m\n\u001b[0;32m--> 455\u001b[0;31m             \u001b[0mself\u001b[0m\u001b[0;34m.\u001b[0m\u001b[0mevaluate\u001b[0m\u001b[0;34m(\u001b[0m\u001b[0mmodel\u001b[0m\u001b[0;34m,\u001b[0m \u001b[0mself\u001b[0m\u001b[0;34m.\u001b[0m\u001b[0mget_val_dataloaders\u001b[0m\u001b[0;34m(\u001b[0m\u001b[0;34m)\u001b[0m\u001b[0;34m,\u001b[0m \u001b[0mself\u001b[0m\u001b[0;34m.\u001b[0m\u001b[0mnb_sanity_val_steps\u001b[0m\u001b[0;34m,\u001b[0m \u001b[0mself\u001b[0m\u001b[0;34m.\u001b[0m\u001b[0mtesting\u001b[0m\u001b[0;34m)\u001b[0m\u001b[0;34m\u001b[0m\u001b[0;34m\u001b[0m\u001b[0m\n\u001b[0m\u001b[1;32m    456\u001b[0m \u001b[0;34m\u001b[0m\u001b[0m\n\u001b[1;32m    457\u001b[0m             \u001b[0;31m# close progress bars\u001b[0m\u001b[0;34m\u001b[0m\u001b[0;34m\u001b[0m\u001b[0;34m\u001b[0m\u001b[0m\n",
      "\u001b[0;32m~/anaconda3/envs/mlnd/lib/python3.6/site-packages/pytorch_lightning/trainer/evaluation_loop_mixin.py\u001b[0m in \u001b[0;36mevaluate\u001b[0;34m(self, model, dataloaders, max_batches, test)\u001b[0m\n\u001b[1;32m     48\u001b[0m                                                  \u001b[0mbatch_idx\u001b[0m\u001b[0;34m,\u001b[0m\u001b[0;34m\u001b[0m\u001b[0;34m\u001b[0m\u001b[0m\n\u001b[1;32m     49\u001b[0m                                                  \u001b[0mdataloader_idx\u001b[0m\u001b[0;34m,\u001b[0m\u001b[0;34m\u001b[0m\u001b[0;34m\u001b[0m\u001b[0m\n\u001b[0;32m---> 50\u001b[0;31m                                                  test)\n\u001b[0m\u001b[1;32m     51\u001b[0m \u001b[0;34m\u001b[0m\u001b[0m\n\u001b[1;32m     52\u001b[0m                 \u001b[0;31m# track outputs for collation\u001b[0m\u001b[0;34m\u001b[0m\u001b[0;34m\u001b[0m\u001b[0;34m\u001b[0m\u001b[0m\n",
      "\u001b[0;32m~/anaconda3/envs/mlnd/lib/python3.6/site-packages/pytorch_lightning/trainer/evaluation_loop_mixin.py\u001b[0m in \u001b[0;36mevaluation_forward\u001b[0;34m(self, model, batch, batch_idx, dataloader_idx, test)\u001b[0m\n\u001b[1;32m    188\u001b[0m             \u001b[0moutput\u001b[0m \u001b[0;34m=\u001b[0m \u001b[0mmodel\u001b[0m\u001b[0;34m.\u001b[0m\u001b[0mtest_step\u001b[0m\u001b[0;34m(\u001b[0m\u001b[0;34m*\u001b[0m\u001b[0margs\u001b[0m\u001b[0;34m)\u001b[0m\u001b[0;34m\u001b[0m\u001b[0;34m\u001b[0m\u001b[0m\n\u001b[1;32m    189\u001b[0m         \u001b[0;32melse\u001b[0m\u001b[0;34m:\u001b[0m\u001b[0;34m\u001b[0m\u001b[0;34m\u001b[0m\u001b[0m\n\u001b[0;32m--> 190\u001b[0;31m             \u001b[0moutput\u001b[0m \u001b[0;34m=\u001b[0m \u001b[0mmodel\u001b[0m\u001b[0;34m.\u001b[0m\u001b[0mvalidation_step\u001b[0m\u001b[0;34m(\u001b[0m\u001b[0;34m*\u001b[0m\u001b[0margs\u001b[0m\u001b[0;34m)\u001b[0m\u001b[0;34m\u001b[0m\u001b[0;34m\u001b[0m\u001b[0m\n\u001b[0m\u001b[1;32m    191\u001b[0m \u001b[0;34m\u001b[0m\u001b[0m\n\u001b[1;32m    192\u001b[0m         \u001b[0;32mreturn\u001b[0m \u001b[0moutput\u001b[0m\u001b[0;34m\u001b[0m\u001b[0;34m\u001b[0m\u001b[0m\n",
      "\u001b[0;32m<ipython-input-3-4a010879fb08>\u001b[0m in \u001b[0;36mvalidation_step\u001b[0;34m(self, batch, batch_idx)\u001b[0m\n\u001b[1;32m     21\u001b[0m         \u001b[0mx\u001b[0m\u001b[0;34m,\u001b[0m \u001b[0my\u001b[0m \u001b[0;34m=\u001b[0m \u001b[0mbatch\u001b[0m\u001b[0;34m\u001b[0m\u001b[0;34m\u001b[0m\u001b[0m\n\u001b[1;32m     22\u001b[0m         \u001b[0my_hat\u001b[0m \u001b[0;34m=\u001b[0m \u001b[0mself\u001b[0m\u001b[0;34m.\u001b[0m\u001b[0mforward\u001b[0m\u001b[0;34m(\u001b[0m\u001b[0mx\u001b[0m\u001b[0;34m)\u001b[0m\u001b[0;34m\u001b[0m\u001b[0;34m\u001b[0m\u001b[0m\n\u001b[0;32m---> 23\u001b[0;31m         \u001b[0;32mreturn\u001b[0m \u001b[0;34m{\u001b[0m\u001b[0;34m'val_loss'\u001b[0m\u001b[0;34m:\u001b[0m \u001b[0mself\u001b[0m\u001b[0;34m.\u001b[0m\u001b[0mloss_fn\u001b[0m\u001b[0;34m(\u001b[0m\u001b[0my_hat\u001b[0m\u001b[0;34m,\u001b[0m \u001b[0my\u001b[0m\u001b[0;34m)\u001b[0m\u001b[0;34m}\u001b[0m\u001b[0;34m\u001b[0m\u001b[0;34m\u001b[0m\u001b[0m\n\u001b[0m\u001b[1;32m     24\u001b[0m \u001b[0;34m\u001b[0m\u001b[0m\n\u001b[1;32m     25\u001b[0m     \u001b[0;32mdef\u001b[0m \u001b[0mvalidation_end\u001b[0m\u001b[0;34m(\u001b[0m\u001b[0mself\u001b[0m\u001b[0;34m,\u001b[0m \u001b[0moutputs\u001b[0m\u001b[0;34m)\u001b[0m\u001b[0;34m:\u001b[0m\u001b[0;34m\u001b[0m\u001b[0;34m\u001b[0m\u001b[0m\n",
      "\u001b[0;32m~/anaconda3/envs/mlnd/lib/python3.6/site-packages/torch/nn/modules/module.py\u001b[0m in \u001b[0;36m__call__\u001b[0;34m(self, *input, **kwargs)\u001b[0m\n\u001b[1;32m    530\u001b[0m             \u001b[0mresult\u001b[0m \u001b[0;34m=\u001b[0m \u001b[0mself\u001b[0m\u001b[0;34m.\u001b[0m\u001b[0m_slow_forward\u001b[0m\u001b[0;34m(\u001b[0m\u001b[0;34m*\u001b[0m\u001b[0minput\u001b[0m\u001b[0;34m,\u001b[0m \u001b[0;34m**\u001b[0m\u001b[0mkwargs\u001b[0m\u001b[0;34m)\u001b[0m\u001b[0;34m\u001b[0m\u001b[0;34m\u001b[0m\u001b[0m\n\u001b[1;32m    531\u001b[0m         \u001b[0;32melse\u001b[0m\u001b[0;34m:\u001b[0m\u001b[0;34m\u001b[0m\u001b[0;34m\u001b[0m\u001b[0m\n\u001b[0;32m--> 532\u001b[0;31m             \u001b[0mresult\u001b[0m \u001b[0;34m=\u001b[0m \u001b[0mself\u001b[0m\u001b[0;34m.\u001b[0m\u001b[0mforward\u001b[0m\u001b[0;34m(\u001b[0m\u001b[0;34m*\u001b[0m\u001b[0minput\u001b[0m\u001b[0;34m,\u001b[0m \u001b[0;34m**\u001b[0m\u001b[0mkwargs\u001b[0m\u001b[0;34m)\u001b[0m\u001b[0;34m\u001b[0m\u001b[0;34m\u001b[0m\u001b[0m\n\u001b[0m\u001b[1;32m    533\u001b[0m         \u001b[0;32mfor\u001b[0m \u001b[0mhook\u001b[0m \u001b[0;32min\u001b[0m \u001b[0mself\u001b[0m\u001b[0;34m.\u001b[0m\u001b[0m_forward_hooks\u001b[0m\u001b[0;34m.\u001b[0m\u001b[0mvalues\u001b[0m\u001b[0;34m(\u001b[0m\u001b[0;34m)\u001b[0m\u001b[0;34m:\u001b[0m\u001b[0;34m\u001b[0m\u001b[0;34m\u001b[0m\u001b[0m\n\u001b[1;32m    534\u001b[0m             \u001b[0mhook_result\u001b[0m \u001b[0;34m=\u001b[0m \u001b[0mhook\u001b[0m\u001b[0;34m(\u001b[0m\u001b[0mself\u001b[0m\u001b[0;34m,\u001b[0m \u001b[0minput\u001b[0m\u001b[0;34m,\u001b[0m \u001b[0mresult\u001b[0m\u001b[0;34m)\u001b[0m\u001b[0;34m\u001b[0m\u001b[0;34m\u001b[0m\u001b[0m\n",
      "\u001b[0;32m~/anaconda3/envs/mlnd/lib/python3.6/site-packages/torch/nn/modules/loss.py\u001b[0m in \u001b[0;36mforward\u001b[0;34m(self, input, target)\u001b[0m\n\u001b[1;32m    599\u001b[0m                                                   \u001b[0mself\u001b[0m\u001b[0;34m.\u001b[0m\u001b[0mweight\u001b[0m\u001b[0;34m,\u001b[0m\u001b[0;34m\u001b[0m\u001b[0;34m\u001b[0m\u001b[0m\n\u001b[1;32m    600\u001b[0m                                                   \u001b[0mpos_weight\u001b[0m\u001b[0;34m=\u001b[0m\u001b[0mself\u001b[0m\u001b[0;34m.\u001b[0m\u001b[0mpos_weight\u001b[0m\u001b[0;34m,\u001b[0m\u001b[0;34m\u001b[0m\u001b[0;34m\u001b[0m\u001b[0m\n\u001b[0;32m--> 601\u001b[0;31m                                                   reduction=self.reduction)\n\u001b[0m\u001b[1;32m    602\u001b[0m \u001b[0;34m\u001b[0m\u001b[0m\n\u001b[1;32m    603\u001b[0m \u001b[0;34m\u001b[0m\u001b[0m\n",
      "\u001b[0;32m~/anaconda3/envs/mlnd/lib/python3.6/site-packages/torch/nn/functional.py\u001b[0m in \u001b[0;36mbinary_cross_entropy_with_logits\u001b[0;34m(input, target, weight, size_average, reduce, reduction, pos_weight)\u001b[0m\n\u001b[1;32m   2121\u001b[0m         \u001b[0mreduction_enum\u001b[0m \u001b[0;34m=\u001b[0m \u001b[0m_Reduction\u001b[0m\u001b[0;34m.\u001b[0m\u001b[0mget_enum\u001b[0m\u001b[0;34m(\u001b[0m\u001b[0mreduction\u001b[0m\u001b[0;34m)\u001b[0m\u001b[0;34m\u001b[0m\u001b[0;34m\u001b[0m\u001b[0m\n\u001b[1;32m   2122\u001b[0m \u001b[0;34m\u001b[0m\u001b[0m\n\u001b[0;32m-> 2123\u001b[0;31m     \u001b[0;32mif\u001b[0m \u001b[0;32mnot\u001b[0m \u001b[0;34m(\u001b[0m\u001b[0mtarget\u001b[0m\u001b[0;34m.\u001b[0m\u001b[0msize\u001b[0m\u001b[0;34m(\u001b[0m\u001b[0;34m)\u001b[0m \u001b[0;34m==\u001b[0m \u001b[0minput\u001b[0m\u001b[0;34m.\u001b[0m\u001b[0msize\u001b[0m\u001b[0;34m(\u001b[0m\u001b[0;34m)\u001b[0m\u001b[0;34m)\u001b[0m\u001b[0;34m:\u001b[0m\u001b[0;34m\u001b[0m\u001b[0;34m\u001b[0m\u001b[0m\n\u001b[0m\u001b[1;32m   2124\u001b[0m         \u001b[0;32mraise\u001b[0m \u001b[0mValueError\u001b[0m\u001b[0;34m(\u001b[0m\u001b[0;34m\"Target size ({}) must be the same as input size ({})\"\u001b[0m\u001b[0;34m.\u001b[0m\u001b[0mformat\u001b[0m\u001b[0;34m(\u001b[0m\u001b[0mtarget\u001b[0m\u001b[0;34m.\u001b[0m\u001b[0msize\u001b[0m\u001b[0;34m(\u001b[0m\u001b[0;34m)\u001b[0m\u001b[0;34m,\u001b[0m \u001b[0minput\u001b[0m\u001b[0;34m.\u001b[0m\u001b[0msize\u001b[0m\u001b[0;34m(\u001b[0m\u001b[0;34m)\u001b[0m\u001b[0;34m)\u001b[0m\u001b[0;34m)\u001b[0m\u001b[0;34m\u001b[0m\u001b[0;34m\u001b[0m\u001b[0m\n\u001b[1;32m   2125\u001b[0m \u001b[0;34m\u001b[0m\u001b[0m\n",
      "\u001b[0;31mAttributeError\u001b[0m: 'tuple' object has no attribute 'size'"
     ]
    }
   ],
   "source": [
    "exp = Experiment(bs=512)\n",
    "\n",
    "trainer = pl.Trainer(gpus=1,max_nb_epochs=1, train_percent_check=0.01,val_percent_check=0.5,\n",
    "                     default_save_path='../data',log_gpu_memory='min_max')    \n",
    "trainer.fit(exp) \n",
    "# #trainer.test()"
   ]
  },
  {
   "cell_type": "code",
   "execution_count": null,
   "metadata": {
    "hidden": true,
    "scrolled": true
   },
   "outputs": [],
   "source": [
    "exp = Experiment(bs=512)\n",
    "chpt_path = '../data/lightning_logs/version_4/checkpoints/_ckpt_epoch_1.ckpt'\n",
    "exp.load_state_dict(torch.load(chpt_path)['state_dict'])\n",
    "# exp.cuda()\n",
    "trainer = pl.Trainer(gpus=1,max_nb_epochs=1, train_percent_check=0.1,val_percent_check=0.5,\n",
    "                     test_percent_check=0.1, default_save_path='../data',log_gpu_memory='min_max')\n",
    "trainer.test(exp)"
   ]
  },
  {
   "cell_type": "markdown",
   "metadata": {
    "heading_collapsed": true
   },
   "source": [
    "## Transformer XL"
   ]
  },
  {
   "cell_type": "code",
   "execution_count": null,
   "metadata": {
    "hidden": true
   },
   "outputs": [],
   "source": [
    "import transformers as ts"
   ]
  },
  {
   "cell_type": "code",
   "execution_count": null,
   "metadata": {
    "hidden": true
   },
   "outputs": [],
   "source": [
    "class LMDataset(Dataset):\n",
    "    def __init__(self,x,y,mem_len):\n",
    "        super(LMDataset,self).__init__()\n",
    "        self.x, self.y = x,y\n",
    "        self.n = x.shape[0]*math.ceil(1000/mem_len)\n",
    "        \n",
    "    def __len__(self): return self.n\n",
    "    def __getitem__(self, i): \n",
    "        (b_idx,seq_idxs, seq_start) = i\n",
    "        x = self.x[b_idx,seq_idxs[0]:seq_idxs[1]].long()\n",
    "        inp,tgt = x[:-1], x[1:]\n",
    "        return inp,tgt,seq_start\n",
    "    \n",
    "class LMSampleR(Sampler):\n",
    "    def __init__(self, ds, bs,mem_len):\n",
    "        self.ds, self.bs = ds, bs\n",
    "        self.mem_len = mem_len\n",
    "        \n",
    "    def __len__(self): return len(self.ds)\n",
    "    \n",
    "    def __iter__(self):\n",
    "        for i in range(0,self.ds.x.shape[0],self.bs):\n",
    "            for j in range(0,1000,self.mem_len):\n",
    "                seq_idxs = (j,j+self.mem_len+1)\n",
    "                for k in range(self.bs):\n",
    "                    b_idx = i+k\n",
    "                    seq_start = j==0 \n",
    "                    yield (b_idx,seq_idxs, seq_start) # (bs,seq_len)"
   ]
  },
  {
   "cell_type": "code",
   "execution_count": null,
   "metadata": {
    "hidden": true
   },
   "outputs": [],
   "source": [
    "class TransXL_LM(nn.Module):\n",
    "    def __init__(self,cfg):\n",
    "        super(TransXL_LM, self).__init__()\n",
    "        self.cfg = cfg\n",
    "        self.core = ts.TransfoXLModel(cfg)\n",
    "        self.lm_head = nn.Linear(self.cfg.d_model,self.cfg.vocab_size)\n",
    "        \n",
    "    def forward(self,x,mems=None):\n",
    "        last_hidden_state,  mems = self.core(x,mems)\n",
    "        out = self.lm_head(last_hidden_state)\n",
    "        return out, mems"
   ]
  },
  {
   "cell_type": "code",
   "execution_count": null,
   "metadata": {
    "hidden": true
   },
   "outputs": [],
   "source": [
    "class Experiment(pl.LightningModule):\n",
    "\n",
    "    def __init__(self,bs):\n",
    "        super(Experiment, self).__init__()\n",
    "        self.cfg = ts.TransfoXLConfig(vocab_size=4, d_model=64, d_embed=8, n_head=4, d_head=16, d_inner=128, \n",
    "                             n_layer=6, tgt_len=0, ext_len=0, mem_len=512, cutoffs=[1], )\n",
    "        self.model = TransXL_LM(self.cfg)\n",
    "        self.bs = bs #batch size\n",
    "        self.loss_fn = nn.CrossEntropyLoss()\n",
    "        self.class_weights = torch.load('../data/Processed/class_weights')\n",
    "        \n",
    "    def forward(self, x):\n",
    "        return self.model(x)\n",
    "\n",
    "    def training_step(self, batch, batch_nb):\n",
    "        x, y, new_mem = batch\n",
    "        self.mem = None if new_mem[0] else self.mem\n",
    "        y_hat, self.mem = self.forward(x)\n",
    "        loss = self.loss_fn(y_hat.view(-1,self.cfg.vocab_size), y.view(-1))\n",
    "        tensorboard_logs = {'train_loss': loss}\n",
    "        return {'loss': loss, 'log': tensorboard_logs}\n",
    "    \n",
    "    def validation_step(self, batch, batch_idx):\n",
    "        x, y, new_mem = batch\n",
    "        self.mem = None if new_mem[0] else self.mem\n",
    "        y_hat, self.mem = self.forward(x)\n",
    "        return {'val_loss': self.loss_fn(y_hat.view(-1,self.cfg.vocab_size), y.view(-1))}\n",
    "\n",
    "    def validation_end(self, outputs):\n",
    "        avg_loss = torch.stack([x['val_loss'] for x in outputs]).mean()\n",
    "        tensorboard_logs = {'val_loss': avg_loss}\n",
    "        return {'avg_val_loss': avg_loss, 'log': tensorboard_logs}\n",
    "\n",
    "#     def test_step(self, batch, batch_idx):\n",
    "#         x, y, new_mem = batch\n",
    "#         self.mem = None if new_mem[0] else self.mem\n",
    "#         y_hat, self.mem = self.forward(x)\n",
    "#         y_pred = F.softmax(y_hat,dim=1).detach().cpu()\n",
    "#         return {'test_loss': self.loss_fn(y_hat, y),'y_pred':y_pred, 'y_true':y.cpu()}\n",
    "\n",
    "#     def test_end(self, outputs):\n",
    "#         avg_loss = torch.stack([x['test_loss'] for x in outputs]).mean()\n",
    "#         y_preds = torch.cat([x['y_pred'] for x in outputs])\n",
    "#         y_trues = torch.cat([x['y_true'] for x in outputs]).byte()\n",
    "#         roc_auc = weighted_auc(y_preds,y_trues, self.class_weights)\n",
    "        \n",
    "        tensorboard_logs = {'test_loss': avg_loss,'roc_auc':roc_auc}\n",
    "        return {'avg_test_loss': avg_loss, 'log': tensorboard_logs}\n",
    "    \n",
    "    def configure_optimizers(self):\n",
    "        return torch.optim.Adam(self.parameters(), lr=1e-4)\n",
    "\n",
    "    @pl.data_loader\n",
    "    def train_dataloader(self):\n",
    "        print('Loading training dataset')\n",
    "        train_h5 = h5py.File('../data/Processed/train.hdf5')\n",
    "        X_train = torch.tensor(train_h5['X_train'][:])\n",
    "        y_train = torch.tensor(train_h5['y_train'][:])\n",
    "        train_h5.close()\n",
    "        \n",
    "        trn_ds = LMDataset(X_train,y_train,self.cfg.mem_len)\n",
    "        splr   = LMSampleR(trn_ds,self.bs,self.cfg.mem_len)\n",
    "        trn_dl = DataLoader(trn_ds, self.bs,sampler=splr,pin_memory=True)\n",
    "        return trn_dl\n",
    "    \n",
    "    @pl.data_loader\n",
    "    def val_dataloader(self):\n",
    "        valid = np.load('../data/Processed/valid.npz')\n",
    "        X_valid = torch.tensor(valid['arr_0'][:])\n",
    "        y_valid = torch.tensor(valid['arr_1'][:])\n",
    "\n",
    "        vld_ds = LMDataset(X_valid,y_valid,self.cfg.mem_len)\n",
    "        splr   = LMSampleR(vld_ds,self.bs,self.cfg.mem_len)\n",
    "        vld_dl = DataLoader(vld_ds,self.bs,sampler=splr,pin_memory=True)\n",
    "        return vld_dl\n",
    "    \n",
    "#     @pl.data_loader\n",
    "#     def test_dataloader(self):\n",
    "#         test = np.load('../data/Processed/test.npz')\n",
    "#         X_test = torch.tensor(test['arr_0'][:])\n",
    "#         y_test = torch.tensor(test['arr_1'][:])\n",
    "                              \n",
    "#         tst_ds = LMDataset(X_test,y_test,self.cfg.mem_len)\n",
    "#         splr   = LMSampleR(tst_ds,self.bs,self.cfg.mem_len)\n",
    "#         tst_dl = DataLoader(tst_ds,self.bs,sampler=splr,pin_memory=True)\n",
    "#         return tst_dl"
   ]
  },
  {
   "cell_type": "code",
   "execution_count": null,
   "metadata": {
    "hidden": true
   },
   "outputs": [],
   "source": [
    "exp = Experiment(bs=32)\n",
    "\n",
    "trainer = pl.Trainer(gpus=1,max_nb_epochs=1, train_percent_check=0.01,val_percent_check=0.5,\n",
    "                     default_save_path='../data')    \n",
    "\n",
    "trainer.fit(exp)"
   ]
  },
  {
   "cell_type": "code",
   "execution_count": null,
   "metadata": {
    "hidden": true
   },
   "outputs": [],
   "source": [
    "#add acc\n",
    "#dataloader slow when num_workers>0\n",
    "#add shuffler to samplers\n",
    "#apex https://github.com/adityaiitb/pyprof2\n",
    "#resnet+transformerxl"
   ]
  },
  {
   "cell_type": "markdown",
   "metadata": {},
   "source": [
    "## Resnet + TransformerXL"
   ]
  },
  {
   "cell_type": "code",
   "execution_count": 2,
   "metadata": {},
   "outputs": [],
   "source": [
    "class CustomDataset(Dataset):\n",
    "    def __init__(self,x,y,hot=False):\n",
    "        super(CustomDataset,self).__init__()\n",
    "        self.x, self.y = x,y\n",
    "        self.hot = hot\n",
    "    def __len__(self): return len(self.x)\n",
    "\n",
    "    def __getitem__(self, i): \n",
    "        if self.hot: x = torch.FloatTensor(self.x[i])\n",
    "        else:   x = torch.LongTensor(self.x[i])\n",
    "        return  x, torch.FloatTensor(self.y[i])"
   ]
  },
  {
   "cell_type": "code",
   "execution_count": 3,
   "metadata": {},
   "outputs": [],
   "source": [
    "# cyclic lr with restart\n",
    "def lr_i(step_i,cycle_len = 1000, lrs = (3e-4,1e-5),warm_pct = 4/20):\n",
    "    cycle_i = step_i%cycle_len\n",
    "    warm_len = int(cycle_len*warm_pct)\n",
    "    cool_len = cycle_len - warm_len\n",
    "    lr_range = lrs[0]-lrs[1]\n",
    "    \n",
    "    if cycle_i < warm_len:\n",
    "        return lrs[1] + lr_range*(cycle_i/warm_len)\n",
    "    else:\n",
    "        return lrs[0] - lr_range*((cycle_i-warm_len)/cool_len)\n",
    "    \n",
    "# import numpy as np\n",
    "# import matplotlib.pyplot as plt\n",
    "\n",
    "# x = np.linspace(0,50*30,10000)\n",
    "# y = list(map(lr_i,x))\n",
    "# plt.figure(figsize=(20,10))\n",
    "# plt.ylim([0,4e-4])\n",
    "# plt.scatter(x,y)"
   ]
  },
  {
   "cell_type": "code",
   "execution_count": 4,
   "metadata": {},
   "outputs": [],
   "source": [
    "# https://discuss.pytorch.org/t/check-gradient-flow-in-network/15063/8\n",
    "from matplotlib.lines import Line2D\n",
    "def plot_grad_flow(named_parameters,bottom = -0.0001, top=0.001):\n",
    "    '''Plots the gradients flowing through different layers in the net during training.\n",
    "    Can be used for checking for possible gradient vanishing / exploding problems.\n",
    "    \n",
    "    Usage: Plug this function in Trainer class after loss.backwards() as \n",
    "    \"plot_grad_flow(self.model.named_parameters())\" to visualize the gradient flow'''\n",
    "    ave_grads = []\n",
    "    max_grads= []\n",
    "    layers = []\n",
    "    for n, p in named_parameters:\n",
    "        if(p.requires_grad) and (\"bias\" not in n):\n",
    "            layers.append(n)\n",
    "#             print(n)\n",
    "            mean = p.grad.abs().mean()\n",
    "#             if mean.item() == 0: print(n)\n",
    "            ave_grads.append(mean)\n",
    "            max_grads.append(p.grad.abs().max())\n",
    "    fig = plt.figure(figsize=(18,10))       \n",
    "    plt.bar(np.arange(len(max_grads)), max_grads, alpha=0.1, lw=1, color=\"c\")\n",
    "    plt.bar(np.arange(len(max_grads)), ave_grads, alpha=0.1, lw=1, color=\"b\")\n",
    "    plt.hlines(0, 0, len(ave_grads)+1, lw=2, color=\"k\" )\n",
    "    plt.xticks(range(0,len(ave_grads), 1), layers, rotation=\"vertical\")\n",
    "    plt.xlim(left=0, right=len(ave_grads))\n",
    "    plt.ylim(bottom = bottom, top=top) # zoom in on the lower gradient regions\n",
    "    plt.xlabel(\"Layers\")\n",
    "    plt.ylabel(\"average gradient\")\n",
    "    plt.title(\"Gradient flow\")\n",
    "    plt.grid(True)\n",
    "    plt.legend([Line2D([0], [0], color=\"c\", lw=4),\n",
    "                Line2D([0], [0], color=\"b\", lw=4),\n",
    "                Line2D([0], [0], color=\"k\", lw=4)], ['max-gradient', 'mean-gradient', 'zero-gradient'])\n",
    "    return fig"
   ]
  },
  {
   "cell_type": "code",
   "execution_count": 5,
   "metadata": {},
   "outputs": [],
   "source": [
    "def plot_weight_mag(named_parameters,bottom = -0.001, top=1.5):\n",
    "    '''Plots the weight magnitude through different layers in the net during training.'''\n",
    "    ave_wgts = []\n",
    "    max_wgts = []\n",
    "    layers = []\n",
    "    for n, p in named_parameters:\n",
    "        if(p.requires_grad) and (\"bias\" not in n):\n",
    "            layers.append(n)\n",
    "            ave_wgts.append(p.abs().mean())\n",
    "            max_wgts.append(p.abs().max())\n",
    "    fig = plt.figure(figsize=(18,10))       \n",
    "    plt.bar(np.arange(len(max_wgts)), max_wgts, alpha=0.1, lw=1, color=\"c\")\n",
    "    plt.bar(np.arange(len(max_wgts)), ave_wgts, alpha=0.1, lw=1, color=\"b\")\n",
    "    plt.hlines(0, 0, len(ave_wgts)+1, lw=2, color=\"k\" )\n",
    "    plt.xticks(range(0,len(ave_wgts), 1), layers, rotation=\"vertical\")\n",
    "    plt.xlim(left=0, right=len(ave_wgts))\n",
    "    plt.ylim(bottom = bottom, top=top) # zoom in on the lower gradient regions\n",
    "    plt.xlabel(\"Layers\")\n",
    "    plt.ylabel(\"average weight\")\n",
    "    plt.title(\"Weight flow\")\n",
    "    plt.grid(True)\n",
    "    plt.legend([Line2D([0], [0], color=\"c\", lw=4),\n",
    "                Line2D([0], [0], color=\"b\", lw=4),\n",
    "                Line2D([0], [0], color=\"k\", lw=4)], ['max-weight', 'mean-weight', 'zero-weight'])\n",
    "    return fig"
   ]
  },
  {
   "cell_type": "code",
   "execution_count": 6,
   "metadata": {},
   "outputs": [],
   "source": [
    "class Experiment(pl.LightningModule):\n",
    "\n",
    "    def __init__(self,model,hparams):\n",
    "        super(Experiment, self).__init__()\n",
    "        self.model = model\n",
    "        self.loss_fn = nn.BCEWithLogitsLoss()\n",
    "        self.class_weights = torch.load('../data/Processed/class_weights')\n",
    "        \n",
    "        self.bs = hparams.train['bs']\n",
    "        self.lr = hparams.optim['lr']\n",
    "        self.hparams = hparams\n",
    "        \n",
    "    def forward(self, x): return self.model(x)\n",
    "\n",
    "    def optimizer_step(self, current_epoch, batch_idx, optimizer, optimizer_idx, second_order_closure=None):\n",
    "        # warm up lr\n",
    "        if self.trainer.global_step < 500:\n",
    "            lr_scale = min(1., float(self.trainer.global_step + 1) / 200.)\n",
    "            for pg in optimizer.param_groups:\n",
    "                pg['lr'] = lr_scale * self.lr\n",
    "\n",
    "#         for pg in optimizer.param_groups:\n",
    "#             pg['lr'] = lr_i(self.trainer.global_step) \n",
    "        idx = batch_idx-self.hparams.train['batch_acum']+1\n",
    "        if idx%5000==0:\n",
    "            #self.logger.experiment.add_figure('Gradients',plot_grad_flow(self.model.named_parameters()),idx)\n",
    "            with torch.no_grad():\n",
    "                self.logger.experiment.add_figure('Weights',plot_weight_mag(self.model.named_parameters()),idx)\n",
    "            \n",
    "        optimizer.step()\n",
    "        optimizer.zero_grad()\n",
    "    \n",
    "    def training_step(self, batch, batch_nb):\n",
    "        x, y = batch\n",
    "        y_hat, self.mem = self.forward(x)\n",
    "        loss = self.loss_fn(y_hat, y)\n",
    "        tensorboard_logs = {'train_loss': loss}\n",
    "        return {'loss': loss, 'log': tensorboard_logs}\n",
    "    \n",
    "    def validation_step(self, batch, batch_idx):\n",
    "        x, y = batch\n",
    "        y_hat, self.mem = self.forward(x)\n",
    "        y_pred = torch.sigmoid(y_hat)\n",
    "        return {'val_loss': self.loss_fn(y_hat, y),'y_pred':y_pred.cpu(), 'y_true':y.cpu()}\n",
    "\n",
    "    def validation_end(self, outputs):\n",
    "        avg_loss = torch.stack([x['val_loss'] for x in outputs]).mean()\n",
    "        y_preds = torch.cat([x['y_pred'] for x in outputs])\n",
    "        y_trues = torch.cat([x['y_true'] for x in outputs]).byte()\n",
    "\n",
    "        roc_auc, pr_auc = weighted_aucs(y_preds.cuda(),y_trues.cuda(), self.class_weights.cuda())\n",
    "        acc = accuracy(y_preds,y_trues)\n",
    "        tensorboard_logs = {'val_loss': avg_loss,'valid_roc_auc':roc_auc,'valid_pr_auc':pr_auc,'valid_acc':acc}\n",
    "        return {'avg_val_loss': avg_loss, 'log': tensorboard_logs}\n",
    "\n",
    "    def test_step(self, batch, batch_idx):\n",
    "        x, y = batch\n",
    "        y_hat, self.mem = self.forward(x)\n",
    "        y_pred = torch.sigmoid(y_hat)\n",
    "        return {'test_loss': self.loss_fn(y_hat, y),'y_pred':y_pred.cpu(), 'y_true':y.cpu()}\n",
    "\n",
    "    def test_end(self, outputs,save_preds=True):\n",
    "        avg_loss = torch.stack([x['test_loss'] for x in outputs]).mean()\n",
    "        y_preds = torch.cat([x['y_pred'] for x in outputs])\n",
    "        y_trues = torch.cat([x['y_true'] for x in outputs]).byte()\n",
    "        if save_preds: self.preds=[y_preds,y_trues]\n",
    "            \n",
    "        roc_auc, pr_auc = weighted_aucs(y_preds.cuda(),y_trues.cuda(), self.class_weights.cuda())\n",
    "        acc = accuracy(y_preds,y_trues)\n",
    "        print('Test ROC AUC:',roc_auc.item(),'Test PR AUC:',pr_auc.item())\n",
    "        tensorboard_logs = {'test_loss': avg_loss,'test_roc_auc':roc_auc,'test_pr_auc':pr_auc,'test_acc':acc}\n",
    "        return {'avg_test_loss': avg_loss, 'log': tensorboard_logs}\n",
    "    \n",
    "    def configure_optimizers(self):\n",
    "        return eval(self.hparams.optim_name)(self.parameters(), **self.hparams.optim)\n",
    "\n",
    "    @pl.data_loader\n",
    "    def train_dataloader(self):\n",
    "        p = '../data/Processed/train.hdf5'\n",
    "        if self.model.hot: p=p.replace('train','hot_train')\n",
    "        train_h5 = h5py.File(p)\n",
    "        trn_ds = CustomDataset(train_h5['X_train'],train_h5['y_train'],self.model.hot)\n",
    "        trn_dl = DataLoader(trn_ds, self.bs,pin_memory=True,shuffle=True,num_workers=12)\n",
    "        return trn_dl\n",
    "    \n",
    "    @pl.data_loader\n",
    "    def val_dataloader(self):\n",
    "        p = '../data/Processed/valid.npz'\n",
    "        if self.model.hot: p=p.replace('valid','hot_valid')\n",
    "        valid = np.load(p)\n",
    "        vld_ds = CustomDataset(valid['arr_0'],valid['arr_1'],self.model.hot)\n",
    "        vld_dl = DataLoader(vld_ds,self.bs,pin_memory=True)\n",
    "        return vld_dl\n",
    "    \n",
    "    @pl.data_loader\n",
    "    def test_dataloader(self):\n",
    "        p = '../data/Processed/test.npz'\n",
    "        if self.model.hot: p=p.replace('test','hot_test')\n",
    "        test = np.load(p)                    \n",
    "        tst_ds = CustomDataset(test['arr_0'],test['arr_1'],self.model.hot)\n",
    "        tst_dl = DataLoader(tst_ds,self.bs,pin_memory=True)\n",
    "        return tst_dl"
   ]
  },
  {
   "cell_type": "code",
   "execution_count": 7,
   "metadata": {},
   "outputs": [],
   "source": [
    "hparams = {'emb': {'vocab_size':4, 'd_emb':4,'hot':True},\n",
    "           'resnet': {'n_res_blocks':6, 'res_k':0, 'res_p':0.01, \n",
    "                      'block_stride':[2,1]*3,'C':32,'d':4,'bn_ks':3},\n",
    "           'seq_model_name': None, \n",
    "           'seq_model': None,\n",
    "           'lin': {'skip_cnt':False, 'fc_h_dim':512, 'lin_p':0.01},\n",
    "           'train': {'bs':25, 'batch_acum':4},\n",
    "           'optim_name':'torch.optim.AdamW',\n",
    "           'optim':{'lr':1e-4,'betas':(0.5,0.999),'weight_decay':0}\n",
    "          }"
   ]
  },
  {
   "cell_type": "code",
   "execution_count": 8,
   "metadata": {},
   "outputs": [],
   "source": [
    "#NoRNN\n",
    "# hparams['seq_model_name'] ='NoRNN' \n",
    "# hparams['seq_model'] = {'d_model':512}\n",
    "\n",
    "#lstm\n",
    "hparams['seq_model_name'] ='BiLSTM' \n",
    "hparams['seq_model'] = {'d_model':512,'p':0.01}\n",
    "# chpt_path = '../data/lightning_logs/version_34/checkpoints/_ckpt_epoch_5.ckpt'\n",
    "\n",
    "#BERT\n",
    "# hparams['seq_model_name'] ='BERT' \n",
    "# hparams['seq_model'] = {'d_model':256, 'n_layer':4, 'n_head':4}\n",
    "\n",
    "#t_xl model\n",
    "# hparams['seq_model_name'] ='TransXL' \n",
    "# hparams['seq_model'] = {'d_model':352, 'n_layer':6, 'n_head':4, 'd_head':16, 'd_inner':256}"
   ]
  },
  {
   "cell_type": "code",
   "execution_count": null,
   "metadata": {
    "scrolled": true
   },
   "outputs": [
    {
     "name": "stdout",
     "output_type": "stream",
     "text": [
      "Model parameters:\t\t\t\t\n",
      "Resnet part:\t3379k\n",
      "Sequence part:\t4330k\n",
      "Linear part:\t33240k\n",
      "Total:\t\t40950k\n",
      "Selected optimization level O1:  Insert automatic casts around Pytorch functions and Tensor methods.\n",
      "\n",
      "Defaults for this optimization level are:\n",
      "enabled                : True\n",
      "opt_level              : O1\n",
      "cast_model_type        : None\n",
      "patch_torch_functions  : True\n",
      "keep_batchnorm_fp32    : None\n",
      "master_weights         : None\n",
      "loss_scale             : dynamic\n",
      "Processing user overrides (additional kwargs that are not None)...\n",
      "After processing overrides, optimization options are:\n",
      "enabled                : True\n",
      "opt_level              : O1\n",
      "cast_model_type        : None\n",
      "patch_torch_functions  : True\n",
      "keep_batchnorm_fp32    : None\n",
      "master_weights         : None\n",
      "loss_scale             : dynamic\n"
     ]
    },
    {
     "name": "stderr",
     "output_type": "stream",
     "text": [
      "Epoch 1:   5%|▍         | 8800/182400 [15:16<4:47:15, 10.07batch/s, batch_nb=8799, gpu=0, loss=0.077, v_nb=55]\n",
      "Validating:   0%|          | 0/320 [00:00<?, ?batch/s]\u001b[A\n",
      "Epoch 1:   5%|▍         | 8803/182400 [15:16<4:01:23, 11.99batch/s, batch_nb=8799, gpu=0, loss=0.077, v_nb=55]\n",
      "Epoch 1:   5%|▍         | 8806/182400 [15:16<3:26:50, 13.99batch/s, batch_nb=8799, gpu=0, loss=0.077, v_nb=55]\n",
      "Epoch 1:   5%|▍         | 8809/182400 [15:16<3:02:55, 15.82batch/s, batch_nb=8799, gpu=0, loss=0.077, v_nb=55]\n",
      "Epoch 1:   5%|▍         | 8812/182400 [15:16<2:46:00, 17.43batch/s, batch_nb=8799, gpu=0, loss=0.077, v_nb=55]\n",
      "Epoch 1:   5%|▍         | 8815/182400 [15:16<2:34:35, 18.72batch/s, batch_nb=8799, gpu=0, loss=0.077, v_nb=55]\n",
      "Epoch 1:   5%|▍         | 8818/182400 [15:16<2:25:53, 19.83batch/s, batch_nb=8799, gpu=0, loss=0.077, v_nb=55]\n",
      "Epoch 1:   5%|▍         | 8821/182400 [15:17<2:20:18, 20.62batch/s, batch_nb=8799, gpu=0, loss=0.077, v_nb=55]\n",
      "Epoch 1:   5%|▍         | 8824/182400 [15:17<2:15:47, 21.30batch/s, batch_nb=8799, gpu=0, loss=0.077, v_nb=55]\n",
      "Epoch 1:   5%|▍         | 8827/182400 [15:17<2:12:34, 21.82batch/s, batch_nb=8799, gpu=0, loss=0.077, v_nb=55]\n",
      "Epoch 1:   5%|▍         | 8830/182400 [15:17<2:11:02, 22.08batch/s, batch_nb=8799, gpu=0, loss=0.077, v_nb=55]\n",
      "Epoch 1:   5%|▍         | 8833/182400 [15:17<2:09:45, 22.29batch/s, batch_nb=8799, gpu=0, loss=0.077, v_nb=55]\n",
      "Epoch 1:   5%|▍         | 8836/182400 [15:17<2:09:28, 22.34batch/s, batch_nb=8799, gpu=0, loss=0.077, v_nb=55]\n",
      "Epoch 1:   5%|▍         | 8839/182400 [15:17<2:08:30, 22.51batch/s, batch_nb=8799, gpu=0, loss=0.077, v_nb=55]\n",
      "Epoch 1:   5%|▍         | 8842/182400 [15:17<2:07:35, 22.67batch/s, batch_nb=8799, gpu=0, loss=0.077, v_nb=55]\n",
      "Epoch 1:   5%|▍         | 8845/182400 [15:18<2:07:10, 22.75batch/s, batch_nb=8799, gpu=0, loss=0.077, v_nb=55]\n",
      "Epoch 1:   5%|▍         | 8848/182400 [15:18<2:07:16, 22.73batch/s, batch_nb=8799, gpu=0, loss=0.077, v_nb=55]\n",
      "Epoch 1:   5%|▍         | 8851/182400 [15:18<2:06:34, 22.85batch/s, batch_nb=8799, gpu=0, loss=0.077, v_nb=55]\n",
      "Epoch 1:   5%|▍         | 8854/182400 [15:18<2:06:16, 22.91batch/s, batch_nb=8799, gpu=0, loss=0.077, v_nb=55]\n",
      "Epoch 1:   5%|▍         | 8857/182400 [15:18<2:05:54, 22.97batch/s, batch_nb=8799, gpu=0, loss=0.077, v_nb=55]\n",
      "Epoch 1:   5%|▍         | 8860/182400 [15:18<2:05:49, 22.99batch/s, batch_nb=8799, gpu=0, loss=0.077, v_nb=55]\n",
      "Epoch 1:   5%|▍         | 8863/182400 [15:18<2:05:19, 23.08batch/s, batch_nb=8799, gpu=0, loss=0.077, v_nb=55]\n",
      "Epoch 1:   5%|▍         | 8866/182400 [15:18<2:05:14, 23.09batch/s, batch_nb=8799, gpu=0, loss=0.077, v_nb=55]\n",
      "Epoch 1:   5%|▍         | 8869/182400 [15:19<2:05:16, 23.09batch/s, batch_nb=8799, gpu=0, loss=0.077, v_nb=55]\n",
      "Epoch 1:   5%|▍         | 8872/182400 [15:19<2:05:13, 23.10batch/s, batch_nb=8799, gpu=0, loss=0.077, v_nb=55]\n",
      "Epoch 1:   5%|▍         | 8875/182400 [15:19<2:05:12, 23.10batch/s, batch_nb=8799, gpu=0, loss=0.077, v_nb=55]\n",
      "Epoch 1:   5%|▍         | 8878/182400 [15:19<2:04:55, 23.15batch/s, batch_nb=8799, gpu=0, loss=0.077, v_nb=55]\n",
      "Epoch 1:   5%|▍         | 8881/182400 [15:19<2:05:09, 23.11batch/s, batch_nb=8799, gpu=0, loss=0.077, v_nb=55]\n",
      "Epoch 1:   5%|▍         | 8884/182400 [15:19<2:06:14, 22.91batch/s, batch_nb=8799, gpu=0, loss=0.077, v_nb=55]\n",
      "Epoch 1:   5%|▍         | 8887/182400 [15:19<2:06:25, 22.87batch/s, batch_nb=8799, gpu=0, loss=0.077, v_nb=55]\n",
      "Epoch 1:   5%|▍         | 8890/182400 [15:20<2:06:07, 22.93batch/s, batch_nb=8799, gpu=0, loss=0.077, v_nb=55]\n",
      "Epoch 1:   5%|▍         | 8893/182400 [15:20<2:05:48, 22.99batch/s, batch_nb=8799, gpu=0, loss=0.077, v_nb=55]\n",
      "Epoch 1:   5%|▍         | 8896/182400 [15:20<2:05:33, 23.03batch/s, batch_nb=8799, gpu=0, loss=0.077, v_nb=55]\n",
      "Epoch 1:   5%|▍         | 8899/182400 [15:20<2:05:23, 23.06batch/s, batch_nb=8799, gpu=0, loss=0.077, v_nb=55]\n",
      "Epoch 1:   5%|▍         | 8902/182400 [15:20<2:05:23, 23.06batch/s, batch_nb=8799, gpu=0, loss=0.077, v_nb=55]\n",
      "Epoch 1:   5%|▍         | 8905/182400 [15:20<2:05:22, 23.06batch/s, batch_nb=8799, gpu=0, loss=0.077, v_nb=55]\n",
      "Epoch 1:   5%|▍         | 8908/182400 [15:20<2:05:15, 23.08batch/s, batch_nb=8799, gpu=0, loss=0.077, v_nb=55]\n",
      "Epoch 1:   5%|▍         | 8911/182400 [15:20<2:04:54, 23.15batch/s, batch_nb=8799, gpu=0, loss=0.077, v_nb=55]\n",
      "Epoch 1:   5%|▍         | 8914/182400 [15:21<2:05:16, 23.08batch/s, batch_nb=8799, gpu=0, loss=0.077, v_nb=55]\n",
      "Epoch 1:   5%|▍         | 8917/182400 [15:21<2:05:16, 23.08batch/s, batch_nb=8799, gpu=0, loss=0.077, v_nb=55]\n",
      "Epoch 1:   5%|▍         | 8920/182400 [15:21<2:05:20, 23.07batch/s, batch_nb=8799, gpu=0, loss=0.077, v_nb=55]\n",
      "Epoch 1:   5%|▍         | 8923/182400 [15:21<2:05:20, 23.07batch/s, batch_nb=8799, gpu=0, loss=0.077, v_nb=55]\n",
      "Epoch 1:   5%|▍         | 8926/182400 [15:21<2:05:16, 23.08batch/s, batch_nb=8799, gpu=0, loss=0.077, v_nb=55]\n",
      "Epoch 1:   5%|▍         | 8929/182400 [15:21<2:05:33, 23.03batch/s, batch_nb=8799, gpu=0, loss=0.077, v_nb=55]\n",
      "Epoch 1:   5%|▍         | 8932/182400 [15:21<2:05:52, 22.97batch/s, batch_nb=8799, gpu=0, loss=0.077, v_nb=55]\n",
      "Epoch 1:   5%|▍         | 8935/182400 [15:21<2:06:15, 22.90batch/s, batch_nb=8799, gpu=0, loss=0.077, v_nb=55]\n",
      "Epoch 1:   5%|▍         | 8938/182400 [15:22<2:06:19, 22.89batch/s, batch_nb=8799, gpu=0, loss=0.077, v_nb=55]\n",
      "Epoch 1:   5%|▍         | 8941/182400 [15:22<2:06:36, 22.83batch/s, batch_nb=8799, gpu=0, loss=0.077, v_nb=55]\n",
      "Epoch 1:   5%|▍         | 8944/182400 [15:22<2:06:38, 22.83batch/s, batch_nb=8799, gpu=0, loss=0.077, v_nb=55]\n",
      "Epoch 1:   5%|▍         | 8947/182400 [15:22<2:06:34, 22.84batch/s, batch_nb=8799, gpu=0, loss=0.077, v_nb=55]\n",
      "Epoch 1:   5%|▍         | 8950/182400 [15:22<2:06:25, 22.87batch/s, batch_nb=8799, gpu=0, loss=0.077, v_nb=55]\n",
      "Epoch 1:   5%|▍         | 8953/182400 [15:22<2:06:29, 22.85batch/s, batch_nb=8799, gpu=0, loss=0.077, v_nb=55]\n",
      "Epoch 1:   5%|▍         | 8956/182400 [15:22<2:06:36, 22.83batch/s, batch_nb=8799, gpu=0, loss=0.077, v_nb=55]\n",
      "Epoch 1:   5%|▍         | 8959/182400 [15:23<2:06:18, 22.89batch/s, batch_nb=8799, gpu=0, loss=0.077, v_nb=55]\n",
      "Epoch 1:   5%|▍         | 8962/182400 [15:23<2:06:08, 22.92batch/s, batch_nb=8799, gpu=0, loss=0.077, v_nb=55]\n",
      "Epoch 1:   5%|▍         | 8965/182400 [15:23<2:05:55, 22.95batch/s, batch_nb=8799, gpu=0, loss=0.077, v_nb=55]\n",
      "Epoch 1:   5%|▍         | 8968/182400 [15:23<2:05:41, 23.00batch/s, batch_nb=8799, gpu=0, loss=0.077, v_nb=55]\n",
      "Epoch 1:   5%|▍         | 8971/182400 [15:23<2:05:23, 23.05batch/s, batch_nb=8799, gpu=0, loss=0.077, v_nb=55]\n",
      "Epoch 1:   5%|▍         | 8974/182400 [15:23<2:05:41, 23.00batch/s, batch_nb=8799, gpu=0, loss=0.077, v_nb=55]\n",
      "Epoch 1:   5%|▍         | 8977/182400 [15:23<2:06:21, 22.88batch/s, batch_nb=8799, gpu=0, loss=0.077, v_nb=55]\n",
      "Epoch 1:   5%|▍         | 8980/182400 [15:23<2:06:25, 22.86batch/s, batch_nb=8799, gpu=0, loss=0.077, v_nb=55]\n",
      "Epoch 1:   5%|▍         | 8983/182400 [15:24<2:06:38, 22.82batch/s, batch_nb=8799, gpu=0, loss=0.077, v_nb=55]\n",
      "Epoch 1:   5%|▍         | 8986/182400 [15:24<2:06:37, 22.83batch/s, batch_nb=8799, gpu=0, loss=0.077, v_nb=55]\n",
      "Epoch 1:   5%|▍         | 8989/182400 [15:24<2:06:45, 22.80batch/s, batch_nb=8799, gpu=0, loss=0.077, v_nb=55]\n",
      "Epoch 1:   5%|▍         | 8992/182400 [15:24<2:06:40, 22.82batch/s, batch_nb=8799, gpu=0, loss=0.077, v_nb=55]\n",
      "Epoch 1:   5%|▍         | 8995/182400 [15:24<2:06:51, 22.78batch/s, batch_nb=8799, gpu=0, loss=0.077, v_nb=55]\n",
      "Epoch 1:   5%|▍         | 8998/182400 [15:24<2:06:47, 22.79batch/s, batch_nb=8799, gpu=0, loss=0.077, v_nb=55]\n",
      "Epoch 1:   5%|▍         | 9001/182400 [15:24<2:06:40, 22.81batch/s, batch_nb=8799, gpu=0, loss=0.077, v_nb=55]\n",
      "Epoch 1:   5%|▍         | 9004/182400 [15:24<2:06:49, 22.79batch/s, batch_nb=8799, gpu=0, loss=0.077, v_nb=55]\n",
      "Epoch 1:   5%|▍         | 9007/182400 [15:25<2:07:13, 22.71batch/s, batch_nb=8799, gpu=0, loss=0.077, v_nb=55]\n",
      "Epoch 1:   5%|▍         | 9010/182400 [15:25<2:07:04, 22.74batch/s, batch_nb=8799, gpu=0, loss=0.077, v_nb=55]\n",
      "Epoch 1:   5%|▍         | 9013/182400 [15:25<2:06:50, 22.78batch/s, batch_nb=8799, gpu=0, loss=0.077, v_nb=55]\n",
      "Epoch 1:   5%|▍         | 9016/182400 [15:25<2:06:22, 22.87batch/s, batch_nb=8799, gpu=0, loss=0.077, v_nb=55]\n"
     ]
    },
    {
     "name": "stderr",
     "output_type": "stream",
     "text": [
      "Epoch 1:   5%|▍         | 9019/182400 [15:25<2:06:03, 22.92batch/s, batch_nb=8799, gpu=0, loss=0.077, v_nb=55]\n",
      "Epoch 1:   5%|▍         | 9022/182400 [15:25<2:05:37, 23.00batch/s, batch_nb=8799, gpu=0, loss=0.077, v_nb=55]\n",
      "Epoch 1:   5%|▍         | 9025/182400 [15:25<2:05:02, 23.11batch/s, batch_nb=8799, gpu=0, loss=0.077, v_nb=55]\n",
      "Epoch 1:   5%|▍         | 9028/182400 [15:26<2:04:40, 23.18batch/s, batch_nb=8799, gpu=0, loss=0.077, v_nb=55]\n",
      "Epoch 1:   5%|▍         | 9031/182400 [15:26<2:05:05, 23.10batch/s, batch_nb=8799, gpu=0, loss=0.077, v_nb=55]\n",
      "Epoch 1:   5%|▍         | 9034/182400 [15:26<2:04:49, 23.15batch/s, batch_nb=8799, gpu=0, loss=0.077, v_nb=55]\n",
      "Epoch 1:   5%|▍         | 9037/182400 [15:26<2:04:23, 23.23batch/s, batch_nb=8799, gpu=0, loss=0.077, v_nb=55]\n",
      "Epoch 1:   5%|▍         | 9040/182400 [15:26<2:04:17, 23.25batch/s, batch_nb=8799, gpu=0, loss=0.077, v_nb=55]\n",
      "Epoch 1:   5%|▍         | 9043/182400 [15:26<2:04:33, 23.20batch/s, batch_nb=8799, gpu=0, loss=0.077, v_nb=55]\n",
      "Epoch 1:   5%|▍         | 9046/182400 [15:26<2:04:47, 23.15batch/s, batch_nb=8799, gpu=0, loss=0.077, v_nb=55]\n",
      "Epoch 1:   5%|▍         | 9049/182400 [15:26<2:05:09, 23.08batch/s, batch_nb=8799, gpu=0, loss=0.077, v_nb=55]\n",
      "Epoch 1:   5%|▍         | 9052/182400 [15:27<2:05:07, 23.09batch/s, batch_nb=8799, gpu=0, loss=0.077, v_nb=55]\n",
      "Epoch 1:   5%|▍         | 9055/182400 [15:27<2:05:06, 23.09batch/s, batch_nb=8799, gpu=0, loss=0.077, v_nb=55]\n",
      "Epoch 1:   5%|▍         | 9058/182400 [15:27<2:04:53, 23.13batch/s, batch_nb=8799, gpu=0, loss=0.077, v_nb=55]\n",
      "Epoch 1:   5%|▍         | 9061/182400 [15:27<2:04:42, 23.17batch/s, batch_nb=8799, gpu=0, loss=0.077, v_nb=55]\n",
      "Epoch 1:   5%|▍         | 9064/182400 [15:27<2:04:38, 23.18batch/s, batch_nb=8799, gpu=0, loss=0.077, v_nb=55]\n",
      "Epoch 1:   5%|▍         | 9067/182400 [15:27<2:04:21, 23.23batch/s, batch_nb=8799, gpu=0, loss=0.077, v_nb=55]\n",
      "Epoch 1:   5%|▍         | 9070/182400 [15:27<2:04:06, 23.28batch/s, batch_nb=8799, gpu=0, loss=0.077, v_nb=55]\n",
      "Epoch 1:   5%|▍         | 9073/182400 [15:27<2:03:57, 23.30batch/s, batch_nb=8799, gpu=0, loss=0.077, v_nb=55]\n",
      "Epoch 1:   5%|▍         | 9076/182400 [15:28<2:04:18, 23.24batch/s, batch_nb=8799, gpu=0, loss=0.077, v_nb=55]\n",
      "Epoch 1:   5%|▍         | 9079/182400 [15:28<2:04:10, 23.26batch/s, batch_nb=8799, gpu=0, loss=0.077, v_nb=55]\n",
      "Epoch 1:   5%|▍         | 9082/182400 [15:28<2:04:21, 23.23batch/s, batch_nb=8799, gpu=0, loss=0.077, v_nb=55]\n",
      "Epoch 1:   5%|▍         | 9085/182400 [15:28<2:04:19, 23.23batch/s, batch_nb=8799, gpu=0, loss=0.077, v_nb=55]\n",
      "Epoch 1:   5%|▍         | 9088/182400 [15:28<2:04:24, 23.22batch/s, batch_nb=8799, gpu=0, loss=0.077, v_nb=55]\n",
      "Epoch 1:   5%|▍         | 9091/182400 [15:28<2:04:26, 23.21batch/s, batch_nb=8799, gpu=0, loss=0.077, v_nb=55]\n",
      "Epoch 1:   5%|▍         | 9094/182400 [15:28<2:04:21, 23.23batch/s, batch_nb=8799, gpu=0, loss=0.077, v_nb=55]\n",
      "Epoch 1:   5%|▍         | 9097/182400 [15:28<2:04:24, 23.22batch/s, batch_nb=8799, gpu=0, loss=0.077, v_nb=55]\n",
      "Epoch 1:   5%|▍         | 9100/182400 [15:29<2:04:33, 23.19batch/s, batch_nb=8799, gpu=0, loss=0.077, v_nb=55]\n",
      "Epoch 1:   5%|▍         | 9103/182400 [15:29<2:04:19, 23.23batch/s, batch_nb=8799, gpu=0, loss=0.077, v_nb=55]\n",
      "Epoch 1:   5%|▍         | 9106/182400 [15:29<2:03:53, 23.31batch/s, batch_nb=8799, gpu=0, loss=0.077, v_nb=55]\n",
      "Epoch 1:   5%|▍         | 9109/182400 [15:29<2:03:53, 23.31batch/s, batch_nb=8799, gpu=0, loss=0.077, v_nb=55]\n",
      "Epoch 1:   5%|▍         | 9112/182400 [15:29<2:04:10, 23.26batch/s, batch_nb=8799, gpu=0, loss=0.077, v_nb=55]\n",
      "Epoch 1:   5%|▍         | 9115/182400 [15:29<2:04:23, 23.22batch/s, batch_nb=8799, gpu=0, loss=0.077, v_nb=55]\n",
      "Epoch 1:   5%|▌         | 9120/182400 [15:31<2:04:28, 23.20batch/s, batch_nb=8799, gpu=0, loss=0.077, v_nb=55]\n",
      "Epoch 1:   8%|▊         | 14490/182400 [24:30<4:29:57, 10.37batch/s, batch_nb=14169, gpu=0, loss=0.075, v_nb=55]"
     ]
    },
    {
     "name": "stdout",
     "output_type": "stream",
     "text": [
      "Gradient overflow.  Skipping step, loss scaler 0 reducing loss scale to 4194304.0\n"
     ]
    },
    {
     "name": "stderr",
     "output_type": "stream",
     "text": [
      "Epoch 1:   9%|▉         | 16598/182400 [28:01<4:26:36, 10.36batch/s, batch_nb=16277, gpu=0, loss=0.075, v_nb=55]"
     ]
    },
    {
     "name": "stdout",
     "output_type": "stream",
     "text": [
      "Gradient overflow.  Skipping step, loss scaler 0 reducing loss scale to 4194304.0\n"
     ]
    },
    {
     "name": "stderr",
     "output_type": "stream",
     "text": [
      "Epoch 1:  10%|▉         | 17681/182400 [29:49<4:27:12, 10.27batch/s, batch_nb=17360, gpu=0, loss=0.073, v_nb=55]"
     ]
    },
    {
     "name": "stdout",
     "output_type": "stream",
     "text": [
      "Gradient overflow.  Skipping step, loss scaler 0 reducing loss scale to 2097152.0\n"
     ]
    },
    {
     "name": "stderr",
     "output_type": "stream",
     "text": [
      "Epoch 1:  10%|▉         | 17920/182400 [30:13<4:31:49, 10.08batch/s, batch_nb=17599, gpu=0, loss=0.072, v_nb=55]\n",
      "Validating:   0%|          | 0/320 [00:00<?, ?batch/s]\u001b[A\n",
      "Epoch 1:  10%|▉         | 17922/182400 [30:13<3:55:46, 11.63batch/s, batch_nb=17599, gpu=0, loss=0.072, v_nb=55]\n",
      "Epoch 1:  10%|▉         | 17925/182400 [30:13<3:20:35, 13.67batch/s, batch_nb=17599, gpu=0, loss=0.072, v_nb=55]\n",
      "Epoch 1:  10%|▉         | 17928/182400 [30:13<2:55:59, 15.58batch/s, batch_nb=17599, gpu=0, loss=0.072, v_nb=55]\n",
      "Epoch 1:  10%|▉         | 17931/182400 [30:13<2:39:03, 17.23batch/s, batch_nb=17599, gpu=0, loss=0.072, v_nb=55]\n",
      "Epoch 1:  10%|▉         | 17934/182400 [30:13<2:27:17, 18.61batch/s, batch_nb=17599, gpu=0, loss=0.072, v_nb=55]\n",
      "Epoch 1:  10%|▉         | 17937/182400 [30:14<2:18:08, 19.84batch/s, batch_nb=17599, gpu=0, loss=0.072, v_nb=55]\n",
      "Epoch 1:  10%|▉         | 17940/182400 [30:14<2:11:51, 20.79batch/s, batch_nb=17599, gpu=0, loss=0.072, v_nb=55]\n",
      "Epoch 1:  10%|▉         | 17943/182400 [30:14<2:07:30, 21.50batch/s, batch_nb=17599, gpu=0, loss=0.072, v_nb=55]\n",
      "Epoch 1:  10%|▉         | 17946/182400 [30:14<2:04:26, 22.02batch/s, batch_nb=17599, gpu=0, loss=0.072, v_nb=55]\n",
      "Epoch 1:  10%|▉         | 17949/182400 [30:14<2:02:11, 22.43batch/s, batch_nb=17599, gpu=0, loss=0.072, v_nb=55]\n",
      "Epoch 1:  10%|▉         | 17952/182400 [30:14<2:00:40, 22.71batch/s, batch_nb=17599, gpu=0, loss=0.072, v_nb=55]\n",
      "Epoch 1:  10%|▉         | 17955/182400 [30:14<1:59:52, 22.86batch/s, batch_nb=17599, gpu=0, loss=0.072, v_nb=55]\n",
      "Epoch 1:  10%|▉         | 17958/182400 [30:15<1:59:08, 23.00batch/s, batch_nb=17599, gpu=0, loss=0.072, v_nb=55]\n",
      "Epoch 1:  10%|▉         | 17961/182400 [30:15<1:58:51, 23.06batch/s, batch_nb=17599, gpu=0, loss=0.072, v_nb=55]\n",
      "Epoch 1:  10%|▉         | 17964/182400 [30:15<1:58:36, 23.11batch/s, batch_nb=17599, gpu=0, loss=0.072, v_nb=55]\n",
      "Epoch 1:  10%|▉         | 17967/182400 [30:15<1:58:23, 23.15batch/s, batch_nb=17599, gpu=0, loss=0.072, v_nb=55]\n",
      "Epoch 1:  10%|▉         | 17970/182400 [30:15<1:58:16, 23.17batch/s, batch_nb=17599, gpu=0, loss=0.072, v_nb=55]\n",
      "Epoch 1:  10%|▉         | 17973/182400 [30:15<1:58:15, 23.17batch/s, batch_nb=17599, gpu=0, loss=0.072, v_nb=55]\n",
      "Epoch 1:  10%|▉         | 17976/182400 [30:15<1:57:51, 23.25batch/s, batch_nb=17599, gpu=0, loss=0.072, v_nb=55]\n",
      "Epoch 1:  10%|▉         | 17979/182400 [30:15<1:57:27, 23.33batch/s, batch_nb=17599, gpu=0, loss=0.072, v_nb=55]\n",
      "Epoch 1:  10%|▉         | 17982/182400 [30:16<1:57:34, 23.31batch/s, batch_nb=17599, gpu=0, loss=0.072, v_nb=55]\n",
      "Epoch 1:  10%|▉         | 17985/182400 [30:16<1:57:41, 23.28batch/s, batch_nb=17599, gpu=0, loss=0.072, v_nb=55]\n",
      "Epoch 1:  10%|▉         | 17988/182400 [30:16<1:57:49, 23.26batch/s, batch_nb=17599, gpu=0, loss=0.072, v_nb=55]\n",
      "Epoch 1:  10%|▉         | 17991/182400 [30:16<1:58:10, 23.19batch/s, batch_nb=17599, gpu=0, loss=0.072, v_nb=55]\n",
      "Epoch 1:  10%|▉         | 17994/182400 [30:16<1:57:49, 23.26batch/s, batch_nb=17599, gpu=0, loss=0.072, v_nb=55]\n",
      "Epoch 1:  10%|▉         | 17997/182400 [30:16<1:57:40, 23.28batch/s, batch_nb=17599, gpu=0, loss=0.072, v_nb=55]\n",
      "Epoch 1:  10%|▉         | 18000/182400 [30:16<1:57:53, 23.24batch/s, batch_nb=17599, gpu=0, loss=0.072, v_nb=55]\n",
      "Epoch 1:  10%|▉         | 18003/182400 [30:16<1:57:58, 23.22batch/s, batch_nb=17599, gpu=0, loss=0.072, v_nb=55]\n",
      "Epoch 1:  10%|▉         | 18006/182400 [30:17<1:58:00, 23.22batch/s, batch_nb=17599, gpu=0, loss=0.072, v_nb=55]\n",
      "Epoch 1:  10%|▉         | 18009/182400 [30:17<1:57:43, 23.27batch/s, batch_nb=17599, gpu=0, loss=0.072, v_nb=55]\n",
      "Epoch 1:  10%|▉         | 18012/182400 [30:17<1:57:32, 23.31batch/s, batch_nb=17599, gpu=0, loss=0.072, v_nb=55]\n",
      "Epoch 1:  10%|▉         | 18015/182400 [30:17<1:57:35, 23.30batch/s, batch_nb=17599, gpu=0, loss=0.072, v_nb=55]\n",
      "Epoch 1:  10%|▉         | 18018/182400 [30:17<1:57:21, 23.34batch/s, batch_nb=17599, gpu=0, loss=0.072, v_nb=55]\n",
      "Epoch 1:  10%|▉         | 18021/182400 [30:17<1:57:20, 23.35batch/s, batch_nb=17599, gpu=0, loss=0.072, v_nb=55]\n",
      "Epoch 1:  10%|▉         | 18024/182400 [30:17<1:57:19, 23.35batch/s, batch_nb=17599, gpu=0, loss=0.072, v_nb=55]\n",
      "Epoch 1:  10%|▉         | 18027/182400 [30:17<1:56:57, 23.42batch/s, batch_nb=17599, gpu=0, loss=0.072, v_nb=55]\n",
      "Epoch 1:  10%|▉         | 18030/182400 [30:18<1:56:55, 23.43batch/s, batch_nb=17599, gpu=0, loss=0.072, v_nb=55]\n",
      "Epoch 1:  10%|▉         | 18033/182400 [30:18<1:57:17, 23.36batch/s, batch_nb=17599, gpu=0, loss=0.072, v_nb=55]\n",
      "Epoch 1:  10%|▉         | 18036/182400 [30:18<1:57:26, 23.33batch/s, batch_nb=17599, gpu=0, loss=0.072, v_nb=55]\n",
      "Epoch 1:  10%|▉         | 18039/182400 [30:18<1:57:48, 23.25batch/s, batch_nb=17599, gpu=0, loss=0.072, v_nb=55]\n",
      "Epoch 1:  10%|▉         | 18042/182400 [30:18<1:58:07, 23.19batch/s, batch_nb=17599, gpu=0, loss=0.072, v_nb=55]\n",
      "Epoch 1:  10%|▉         | 18045/182400 [30:18<1:58:38, 23.09batch/s, batch_nb=17599, gpu=0, loss=0.072, v_nb=55]\n",
      "Epoch 1:  10%|▉         | 18048/182400 [30:18<1:58:37, 23.09batch/s, batch_nb=17599, gpu=0, loss=0.072, v_nb=55]\n",
      "Epoch 1:  10%|▉         | 18051/182400 [30:19<1:58:34, 23.10batch/s, batch_nb=17599, gpu=0, loss=0.072, v_nb=55]\n",
      "Epoch 1:  10%|▉         | 18054/182400 [30:19<1:58:41, 23.08batch/s, batch_nb=17599, gpu=0, loss=0.072, v_nb=55]\n",
      "Epoch 1:  10%|▉         | 18057/182400 [30:19<1:58:39, 23.08batch/s, batch_nb=17599, gpu=0, loss=0.072, v_nb=55]\n",
      "Epoch 1:  10%|▉         | 18060/182400 [30:19<1:58:47, 23.06batch/s, batch_nb=17599, gpu=0, loss=0.072, v_nb=55]\n",
      "Epoch 1:  10%|▉         | 18063/182400 [30:19<1:59:00, 23.01batch/s, batch_nb=17599, gpu=0, loss=0.072, v_nb=55]\n",
      "Epoch 1:  10%|▉         | 18066/182400 [30:19<1:59:02, 23.01batch/s, batch_nb=17599, gpu=0, loss=0.072, v_nb=55]\n",
      "Epoch 1:  10%|▉         | 18069/182400 [30:19<1:58:54, 23.03batch/s, batch_nb=17599, gpu=0, loss=0.072, v_nb=55]\n",
      "Epoch 1:  10%|▉         | 18072/182400 [30:19<1:58:52, 23.04batch/s, batch_nb=17599, gpu=0, loss=0.072, v_nb=55]\n",
      "Epoch 1:  10%|▉         | 18075/182400 [30:20<1:59:02, 23.01batch/s, batch_nb=17599, gpu=0, loss=0.072, v_nb=55]\n",
      "Epoch 1:  10%|▉         | 18078/182400 [30:20<1:59:15, 22.96batch/s, batch_nb=17599, gpu=0, loss=0.072, v_nb=55]\n",
      "Epoch 1:  10%|▉         | 18081/182400 [30:20<1:58:58, 23.02batch/s, batch_nb=17599, gpu=0, loss=0.072, v_nb=55]\n",
      "Epoch 1:  10%|▉         | 18084/182400 [30:20<1:58:31, 23.11batch/s, batch_nb=17599, gpu=0, loss=0.072, v_nb=55]\n",
      "Epoch 1:  10%|▉         | 18087/182400 [30:20<1:58:20, 23.14batch/s, batch_nb=17599, gpu=0, loss=0.072, v_nb=55]\n",
      "Epoch 1:  10%|▉         | 18090/182400 [30:20<1:58:24, 23.13batch/s, batch_nb=17599, gpu=0, loss=0.072, v_nb=55]\n",
      "Epoch 1:  10%|▉         | 18093/182400 [30:20<1:58:13, 23.16batch/s, batch_nb=17599, gpu=0, loss=0.072, v_nb=55]\n",
      "Epoch 1:  10%|▉         | 18096/182400 [30:20<1:58:09, 23.18batch/s, batch_nb=17599, gpu=0, loss=0.072, v_nb=55]\n",
      "Epoch 1:  10%|▉         | 18099/182400 [30:21<1:57:51, 23.24batch/s, batch_nb=17599, gpu=0, loss=0.072, v_nb=55]\n",
      "Epoch 1:  10%|▉         | 18102/182400 [30:21<1:57:29, 23.30batch/s, batch_nb=17599, gpu=0, loss=0.072, v_nb=55]\n",
      "Epoch 1:  10%|▉         | 18105/182400 [30:21<1:57:30, 23.30batch/s, batch_nb=17599, gpu=0, loss=0.072, v_nb=55]\n",
      "Epoch 1:  10%|▉         | 18108/182400 [30:21<1:57:11, 23.37batch/s, batch_nb=17599, gpu=0, loss=0.072, v_nb=55]\n",
      "Epoch 1:  10%|▉         | 18111/182400 [30:21<1:57:31, 23.30batch/s, batch_nb=17599, gpu=0, loss=0.072, v_nb=55]\n",
      "Epoch 1:  10%|▉         | 18114/182400 [30:21<1:57:42, 23.26batch/s, batch_nb=17599, gpu=0, loss=0.072, v_nb=55]\n",
      "Epoch 1:  10%|▉         | 18117/182400 [30:21<1:57:23, 23.32batch/s, batch_nb=17599, gpu=0, loss=0.072, v_nb=55]\n",
      "Epoch 1:  10%|▉         | 18120/182400 [30:22<1:57:32, 23.29batch/s, batch_nb=17599, gpu=0, loss=0.072, v_nb=55]\n",
      "Epoch 1:  10%|▉         | 18123/182400 [30:22<1:58:10, 23.17batch/s, batch_nb=17599, gpu=0, loss=0.072, v_nb=55]\n",
      "Epoch 1:  10%|▉         | 18126/182400 [30:22<1:58:38, 23.08batch/s, batch_nb=17599, gpu=0, loss=0.072, v_nb=55]\n",
      "Epoch 1:  10%|▉         | 18129/182400 [30:22<1:58:27, 23.11batch/s, batch_nb=17599, gpu=0, loss=0.072, v_nb=55]\n"
     ]
    },
    {
     "name": "stderr",
     "output_type": "stream",
     "text": [
      "Epoch 1:  10%|▉         | 18132/182400 [30:22<1:58:22, 23.13batch/s, batch_nb=17599, gpu=0, loss=0.072, v_nb=55]\n",
      "Epoch 1:  10%|▉         | 18135/182400 [30:22<1:58:39, 23.07batch/s, batch_nb=17599, gpu=0, loss=0.072, v_nb=55]\n",
      "Epoch 1:  10%|▉         | 18138/182400 [30:22<1:58:39, 23.07batch/s, batch_nb=17599, gpu=0, loss=0.072, v_nb=55]\n",
      "Epoch 1:  10%|▉         | 18141/182400 [30:22<1:58:56, 23.02batch/s, batch_nb=17599, gpu=0, loss=0.072, v_nb=55]\n",
      "Epoch 1:  10%|▉         | 18144/182400 [30:23<1:59:00, 23.00batch/s, batch_nb=17599, gpu=0, loss=0.072, v_nb=55]\n",
      "Epoch 1:  10%|▉         | 18147/182400 [30:23<1:58:53, 23.02batch/s, batch_nb=17599, gpu=0, loss=0.072, v_nb=55]\n",
      "Epoch 1:  10%|▉         | 18150/182400 [30:23<1:58:29, 23.10batch/s, batch_nb=17599, gpu=0, loss=0.072, v_nb=55]\n",
      "Epoch 1:  10%|▉         | 18153/182400 [30:23<1:58:13, 23.15batch/s, batch_nb=17599, gpu=0, loss=0.072, v_nb=55]\n",
      "Epoch 1:  10%|▉         | 18156/182400 [30:23<1:58:08, 23.17batch/s, batch_nb=17599, gpu=0, loss=0.072, v_nb=55]\n",
      "Epoch 1:  10%|▉         | 18159/182400 [30:23<1:58:10, 23.16batch/s, batch_nb=17599, gpu=0, loss=0.072, v_nb=55]\n",
      "Epoch 1:  10%|▉         | 18162/182400 [30:23<1:58:32, 23.09batch/s, batch_nb=17599, gpu=0, loss=0.072, v_nb=55]\n",
      "Epoch 1:  10%|▉         | 18165/182400 [30:23<1:58:32, 23.09batch/s, batch_nb=17599, gpu=0, loss=0.072, v_nb=55]\n",
      "Epoch 1:  10%|▉         | 18168/182400 [30:24<1:58:20, 23.13batch/s, batch_nb=17599, gpu=0, loss=0.072, v_nb=55]\n",
      "Epoch 1:  10%|▉         | 18171/182400 [30:24<1:58:13, 23.15batch/s, batch_nb=17599, gpu=0, loss=0.072, v_nb=55]\n",
      "Epoch 1:  10%|▉         | 18174/182400 [30:24<1:58:11, 23.16batch/s, batch_nb=17599, gpu=0, loss=0.072, v_nb=55]\n",
      "Epoch 1:  10%|▉         | 18177/182400 [30:24<1:58:02, 23.19batch/s, batch_nb=17599, gpu=0, loss=0.072, v_nb=55]\n",
      "Epoch 1:  10%|▉         | 18180/182400 [30:24<1:58:27, 23.11batch/s, batch_nb=17599, gpu=0, loss=0.072, v_nb=55]\n",
      "Epoch 1:  10%|▉         | 18183/182400 [30:24<1:58:06, 23.17batch/s, batch_nb=17599, gpu=0, loss=0.072, v_nb=55]\n",
      "Epoch 1:  10%|▉         | 18186/182400 [30:24<1:57:53, 23.22batch/s, batch_nb=17599, gpu=0, loss=0.072, v_nb=55]\n",
      "Epoch 1:  10%|▉         | 18189/182400 [30:24<1:57:33, 23.28batch/s, batch_nb=17599, gpu=0, loss=0.072, v_nb=55]\n",
      "Epoch 1:  10%|▉         | 18192/182400 [30:25<1:57:34, 23.28batch/s, batch_nb=17599, gpu=0, loss=0.072, v_nb=55]\n",
      "Epoch 1:  10%|▉         | 18195/182400 [30:25<1:57:22, 23.32batch/s, batch_nb=17599, gpu=0, loss=0.072, v_nb=55]\n",
      "Epoch 1:  10%|▉         | 18198/182400 [30:25<1:57:20, 23.32batch/s, batch_nb=17599, gpu=0, loss=0.072, v_nb=55]\n",
      "Epoch 1:  10%|▉         | 18201/182400 [30:25<1:58:26, 23.11batch/s, batch_nb=17599, gpu=0, loss=0.072, v_nb=55]\n",
      "Epoch 1:  10%|▉         | 18204/182400 [30:25<1:59:21, 22.93batch/s, batch_nb=17599, gpu=0, loss=0.072, v_nb=55]\n",
      "Epoch 1:  10%|▉         | 18207/182400 [30:25<1:59:20, 22.93batch/s, batch_nb=17599, gpu=0, loss=0.072, v_nb=55]\n",
      "Epoch 1:  10%|▉         | 18210/182400 [30:25<1:59:14, 22.95batch/s, batch_nb=17599, gpu=0, loss=0.072, v_nb=55]\n",
      "Epoch 1:  10%|▉         | 18213/182400 [30:26<1:59:29, 22.90batch/s, batch_nb=17599, gpu=0, loss=0.072, v_nb=55]\n",
      "Epoch 1:  10%|▉         | 18216/182400 [30:26<1:59:45, 22.85batch/s, batch_nb=17599, gpu=0, loss=0.072, v_nb=55]\n",
      "Epoch 1:  10%|▉         | 18219/182400 [30:26<1:59:12, 22.95batch/s, batch_nb=17599, gpu=0, loss=0.072, v_nb=55]\n",
      "Epoch 1:  10%|▉         | 18222/182400 [30:26<1:58:44, 23.05batch/s, batch_nb=17599, gpu=0, loss=0.072, v_nb=55]\n",
      "Epoch 1:  10%|▉         | 18225/182400 [30:26<1:58:02, 23.18batch/s, batch_nb=17599, gpu=0, loss=0.072, v_nb=55]\n",
      "Epoch 1:  10%|▉         | 18228/182400 [30:26<1:57:47, 23.23batch/s, batch_nb=17599, gpu=0, loss=0.072, v_nb=55]\n",
      "Epoch 1:  10%|▉         | 18231/182400 [30:26<1:57:32, 23.28batch/s, batch_nb=17599, gpu=0, loss=0.072, v_nb=55]\n",
      "Epoch 1:  10%|▉         | 18234/182400 [30:26<1:57:23, 23.31batch/s, batch_nb=17599, gpu=0, loss=0.072, v_nb=55]\n",
      "Epoch 1:  10%|▉         | 18237/182400 [30:27<1:57:29, 23.29batch/s, batch_nb=17599, gpu=0, loss=0.072, v_nb=55]\n",
      "Epoch 1:  10%|█         | 18240/182400 [30:29<1:57:39, 23.25batch/s, batch_nb=17599, gpu=0, loss=0.072, v_nb=55]\n",
      "Epoch 1:  12%|█▏        | 22038/182400 [36:53<4:17:34, 10.38batch/s, batch_nb=21397, gpu=0, loss=0.074, v_nb=55] "
     ]
    },
    {
     "name": "stdout",
     "output_type": "stream",
     "text": [
      "Gradient overflow.  Skipping step, loss scaler 0 reducing loss scale to 4194304.0\n"
     ]
    },
    {
     "name": "stderr",
     "output_type": "stream",
     "text": [
      "Epoch 1:  13%|█▎        | 24198/182400 [40:29<4:15:34, 10.32batch/s, batch_nb=23557, gpu=0, loss=0.072, v_nb=55]"
     ]
    },
    {
     "name": "stdout",
     "output_type": "stream",
     "text": [
      "Gradient overflow.  Skipping step, loss scaler 0 reducing loss scale to 4194304.0\n"
     ]
    },
    {
     "name": "stderr",
     "output_type": "stream",
     "text": [
      "Epoch 1:  15%|█▍        | 26490/182400 [44:20<4:09:50, 10.40batch/s, batch_nb=25849, gpu=0, loss=0.071, v_nb=55]"
     ]
    },
    {
     "name": "stdout",
     "output_type": "stream",
     "text": [
      "Gradient overflow.  Skipping step, loss scaler 0 reducing loss scale to 4194304.0\n"
     ]
    },
    {
     "name": "stderr",
     "output_type": "stream",
     "text": [
      "Epoch 1:  15%|█▍        | 27040/182400 [45:15<4:15:49, 10.12batch/s, batch_nb=26399, gpu=0, loss=0.072, v_nb=55]\n",
      "Validating:   0%|          | 0/320 [00:00<?, ?batch/s]\u001b[A\n",
      "Epoch 1:  15%|█▍        | 27043/182400 [45:16<3:34:39, 12.06batch/s, batch_nb=26399, gpu=0, loss=0.072, v_nb=55]\n",
      "Epoch 1:  15%|█▍        | 27046/182400 [45:16<3:03:41, 14.10batch/s, batch_nb=26399, gpu=0, loss=0.072, v_nb=55]\n",
      "Epoch 1:  15%|█▍        | 27049/182400 [45:16<2:42:31, 15.93batch/s, batch_nb=26399, gpu=0, loss=0.072, v_nb=55]\n",
      "Epoch 1:  15%|█▍        | 27052/182400 [45:16<2:27:43, 17.53batch/s, batch_nb=26399, gpu=0, loss=0.072, v_nb=55]\n",
      "Epoch 1:  15%|█▍        | 27055/182400 [45:16<2:16:58, 18.90batch/s, batch_nb=26399, gpu=0, loss=0.072, v_nb=55]\n",
      "Epoch 1:  15%|█▍        | 27058/182400 [45:16<2:09:34, 19.98batch/s, batch_nb=26399, gpu=0, loss=0.072, v_nb=55]\n",
      "Epoch 1:  15%|█▍        | 27061/182400 [45:16<2:04:29, 20.80batch/s, batch_nb=26399, gpu=0, loss=0.072, v_nb=55]\n",
      "Epoch 1:  15%|█▍        | 27064/182400 [45:17<2:00:40, 21.45batch/s, batch_nb=26399, gpu=0, loss=0.072, v_nb=55]\n",
      "Epoch 1:  15%|█▍        | 27067/182400 [45:17<1:57:54, 21.96batch/s, batch_nb=26399, gpu=0, loss=0.072, v_nb=55]\n",
      "Epoch 1:  15%|█▍        | 27070/182400 [45:17<1:56:19, 22.26batch/s, batch_nb=26399, gpu=0, loss=0.072, v_nb=55]\n",
      "Epoch 1:  15%|█▍        | 27073/182400 [45:17<1:55:01, 22.50batch/s, batch_nb=26399, gpu=0, loss=0.072, v_nb=55]\n",
      "Epoch 1:  15%|█▍        | 27076/182400 [45:17<1:54:19, 22.64batch/s, batch_nb=26399, gpu=0, loss=0.072, v_nb=55]\n",
      "Epoch 1:  15%|█▍        | 27079/182400 [45:17<1:53:47, 22.75batch/s, batch_nb=26399, gpu=0, loss=0.072, v_nb=55]\n",
      "Epoch 1:  15%|█▍        | 27082/182400 [45:17<1:53:06, 22.89batch/s, batch_nb=26399, gpu=0, loss=0.072, v_nb=55]\n",
      "Epoch 1:  15%|█▍        | 27085/182400 [45:17<1:52:27, 23.02batch/s, batch_nb=26399, gpu=0, loss=0.072, v_nb=55]\n",
      "Epoch 1:  15%|█▍        | 27088/182400 [45:18<1:52:10, 23.08batch/s, batch_nb=26399, gpu=0, loss=0.072, v_nb=55]\n",
      "Epoch 1:  15%|█▍        | 27091/182400 [45:18<1:52:16, 23.05batch/s, batch_nb=26399, gpu=0, loss=0.072, v_nb=55]\n",
      "Epoch 1:  15%|█▍        | 27094/182400 [45:18<1:52:23, 23.03batch/s, batch_nb=26399, gpu=0, loss=0.072, v_nb=55]\n",
      "Epoch 1:  15%|█▍        | 27097/182400 [45:18<1:52:07, 23.09batch/s, batch_nb=26399, gpu=0, loss=0.072, v_nb=55]\n",
      "Epoch 1:  15%|█▍        | 27100/182400 [45:18<1:51:51, 23.14batch/s, batch_nb=26399, gpu=0, loss=0.072, v_nb=55]\n",
      "Epoch 1:  15%|█▍        | 27103/182400 [45:18<1:51:57, 23.12batch/s, batch_nb=26399, gpu=0, loss=0.072, v_nb=55]\n",
      "Epoch 1:  15%|█▍        | 27106/182400 [45:18<1:51:30, 23.21batch/s, batch_nb=26399, gpu=0, loss=0.072, v_nb=55]\n",
      "Epoch 1:  15%|█▍        | 27109/182400 [45:18<1:51:14, 23.26batch/s, batch_nb=26399, gpu=0, loss=0.072, v_nb=55]\n",
      "Epoch 1:  15%|█▍        | 27112/182400 [45:19<1:51:07, 23.29batch/s, batch_nb=26399, gpu=0, loss=0.072, v_nb=55]\n",
      "Epoch 1:  15%|█▍        | 27115/182400 [45:19<1:51:19, 23.25batch/s, batch_nb=26399, gpu=0, loss=0.072, v_nb=55]\n",
      "Epoch 1:  15%|█▍        | 27118/182400 [45:19<1:51:09, 23.28batch/s, batch_nb=26399, gpu=0, loss=0.072, v_nb=55]\n",
      "Epoch 1:  15%|█▍        | 27121/182400 [45:19<1:51:06, 23.29batch/s, batch_nb=26399, gpu=0, loss=0.072, v_nb=55]\n",
      "Epoch 1:  15%|█▍        | 27124/182400 [45:19<1:51:03, 23.30batch/s, batch_nb=26399, gpu=0, loss=0.072, v_nb=55]\n",
      "Epoch 1:  15%|█▍        | 27127/182400 [45:19<1:50:56, 23.33batch/s, batch_nb=26399, gpu=0, loss=0.072, v_nb=55]\n",
      "Epoch 1:  15%|█▍        | 27130/182400 [45:19<1:51:20, 23.24batch/s, batch_nb=26399, gpu=0, loss=0.072, v_nb=55]\n",
      "Epoch 1:  15%|█▍        | 27133/182400 [45:19<1:51:15, 23.26batch/s, batch_nb=26399, gpu=0, loss=0.072, v_nb=55]\n",
      "Epoch 1:  15%|█▍        | 27136/182400 [45:20<1:51:04, 23.30batch/s, batch_nb=26399, gpu=0, loss=0.072, v_nb=55]\n",
      "Epoch 1:  15%|█▍        | 27139/182400 [45:20<1:51:09, 23.28batch/s, batch_nb=26399, gpu=0, loss=0.072, v_nb=55]\n",
      "Epoch 1:  15%|█▍        | 27142/182400 [45:20<1:51:23, 23.23batch/s, batch_nb=26399, gpu=0, loss=0.072, v_nb=55]\n",
      "Epoch 1:  15%|█▍        | 27145/182400 [45:20<1:50:51, 23.34batch/s, batch_nb=26399, gpu=0, loss=0.072, v_nb=55]\n",
      "Epoch 1:  15%|█▍        | 27148/182400 [45:20<1:51:13, 23.26batch/s, batch_nb=26399, gpu=0, loss=0.072, v_nb=55]\n",
      "Epoch 1:  15%|█▍        | 27151/182400 [45:20<1:51:48, 23.14batch/s, batch_nb=26399, gpu=0, loss=0.072, v_nb=55]\n",
      "Epoch 1:  15%|█▍        | 27154/182400 [45:20<1:52:26, 23.01batch/s, batch_nb=26399, gpu=0, loss=0.072, v_nb=55]\n",
      "Epoch 1:  15%|█▍        | 27157/182400 [45:21<1:52:20, 23.03batch/s, batch_nb=26399, gpu=0, loss=0.072, v_nb=55]\n",
      "Epoch 1:  15%|█▍        | 27160/182400 [45:21<1:52:26, 23.01batch/s, batch_nb=26399, gpu=0, loss=0.072, v_nb=55]\n",
      "Epoch 1:  15%|█▍        | 27163/182400 [45:21<1:52:48, 22.93batch/s, batch_nb=26399, gpu=0, loss=0.072, v_nb=55]\n",
      "Epoch 1:  15%|█▍        | 27166/182400 [45:21<1:52:43, 22.95batch/s, batch_nb=26399, gpu=0, loss=0.072, v_nb=55]\n",
      "Epoch 1:  15%|█▍        | 27169/182400 [45:21<1:53:02, 22.89batch/s, batch_nb=26399, gpu=0, loss=0.072, v_nb=55]\n",
      "Epoch 1:  15%|█▍        | 27172/182400 [45:21<1:53:02, 22.89batch/s, batch_nb=26399, gpu=0, loss=0.072, v_nb=55]\n",
      "Epoch 1:  15%|█▍        | 27175/182400 [45:21<1:52:43, 22.95batch/s, batch_nb=26399, gpu=0, loss=0.072, v_nb=55]\n",
      "Epoch 1:  15%|█▍        | 27178/182400 [45:21<1:52:30, 22.99batch/s, batch_nb=26399, gpu=0, loss=0.072, v_nb=55]\n",
      "Epoch 1:  15%|█▍        | 27181/182400 [45:22<1:52:30, 22.99batch/s, batch_nb=26399, gpu=0, loss=0.072, v_nb=55]\n",
      "Epoch 1:  15%|█▍        | 27184/182400 [45:22<1:52:09, 23.07batch/s, batch_nb=26399, gpu=0, loss=0.072, v_nb=55]\n",
      "Epoch 1:  15%|█▍        | 27187/182400 [45:22<1:52:06, 23.08batch/s, batch_nb=26399, gpu=0, loss=0.072, v_nb=55]\n",
      "Epoch 1:  15%|█▍        | 27190/182400 [45:22<1:52:01, 23.09batch/s, batch_nb=26399, gpu=0, loss=0.072, v_nb=55]\n",
      "Epoch 1:  15%|█▍        | 27193/182400 [45:22<1:51:52, 23.12batch/s, batch_nb=26399, gpu=0, loss=0.072, v_nb=55]\n",
      "Epoch 1:  15%|█▍        | 27196/182400 [45:22<1:51:54, 23.12batch/s, batch_nb=26399, gpu=0, loss=0.072, v_nb=55]\n",
      "Epoch 1:  15%|█▍        | 27199/182400 [45:22<1:51:45, 23.14batch/s, batch_nb=26399, gpu=0, loss=0.072, v_nb=55]\n",
      "Epoch 1:  15%|█▍        | 27202/182400 [45:22<1:51:53, 23.12batch/s, batch_nb=26399, gpu=0, loss=0.072, v_nb=55]\n",
      "Epoch 1:  15%|█▍        | 27205/182400 [45:23<1:51:49, 23.13batch/s, batch_nb=26399, gpu=0, loss=0.072, v_nb=55]\n",
      "Epoch 1:  15%|█▍        | 27208/182400 [45:23<1:51:53, 23.12batch/s, batch_nb=26399, gpu=0, loss=0.072, v_nb=55]\n",
      "Epoch 1:  15%|█▍        | 27211/182400 [45:23<1:52:09, 23.06batch/s, batch_nb=26399, gpu=0, loss=0.072, v_nb=55]\n",
      "Epoch 1:  15%|█▍        | 27214/182400 [45:23<1:51:48, 23.13batch/s, batch_nb=26399, gpu=0, loss=0.072, v_nb=55]\n",
      "Epoch 1:  15%|█▍        | 27217/182400 [45:23<1:51:39, 23.16batch/s, batch_nb=26399, gpu=0, loss=0.072, v_nb=55]\n",
      "Epoch 1:  15%|█▍        | 27220/182400 [45:23<1:51:33, 23.18batch/s, batch_nb=26399, gpu=0, loss=0.072, v_nb=55]\n",
      "Epoch 1:  15%|█▍        | 27223/182400 [45:23<1:51:15, 23.24batch/s, batch_nb=26399, gpu=0, loss=0.072, v_nb=55]\n",
      "Epoch 1:  15%|█▍        | 27226/182400 [45:24<1:51:11, 23.26batch/s, batch_nb=26399, gpu=0, loss=0.072, v_nb=55]\n",
      "Epoch 1:  15%|█▍        | 27229/182400 [45:24<1:51:07, 23.27batch/s, batch_nb=26399, gpu=0, loss=0.072, v_nb=55]\n",
      "Epoch 1:  15%|█▍        | 27232/182400 [45:24<1:50:49, 23.34batch/s, batch_nb=26399, gpu=0, loss=0.072, v_nb=55]\n",
      "Epoch 1:  15%|█▍        | 27235/182400 [45:24<1:50:54, 23.32batch/s, batch_nb=26399, gpu=0, loss=0.072, v_nb=55]\n",
      "Epoch 1:  15%|█▍        | 27238/182400 [45:24<1:51:34, 23.18batch/s, batch_nb=26399, gpu=0, loss=0.072, v_nb=55]\n",
      "Epoch 1:  15%|█▍        | 27241/182400 [45:24<1:52:04, 23.07batch/s, batch_nb=26399, gpu=0, loss=0.072, v_nb=55]\n",
      "Epoch 1:  15%|█▍        | 27244/182400 [45:24<1:51:44, 23.14batch/s, batch_nb=26399, gpu=0, loss=0.072, v_nb=55]\n",
      "Epoch 1:  15%|█▍        | 27247/182400 [45:24<1:51:55, 23.10batch/s, batch_nb=26399, gpu=0, loss=0.072, v_nb=55]\n",
      "Epoch 1:  15%|█▍        | 27250/182400 [45:25<1:51:46, 23.13batch/s, batch_nb=26399, gpu=0, loss=0.072, v_nb=55]\n"
     ]
    },
    {
     "name": "stderr",
     "output_type": "stream",
     "text": [
      "Epoch 1:  15%|█▍        | 27253/182400 [45:25<1:51:54, 23.11batch/s, batch_nb=26399, gpu=0, loss=0.072, v_nb=55]\n",
      "Epoch 1:  15%|█▍        | 27256/182400 [45:25<1:51:56, 23.10batch/s, batch_nb=26399, gpu=0, loss=0.072, v_nb=55]\n",
      "Epoch 1:  15%|█▍        | 27259/182400 [45:25<1:51:49, 23.12batch/s, batch_nb=26399, gpu=0, loss=0.072, v_nb=55]\n",
      "Epoch 1:  15%|█▍        | 27262/182400 [45:25<1:51:36, 23.17batch/s, batch_nb=26399, gpu=0, loss=0.072, v_nb=55]\n",
      "Epoch 1:  15%|█▍        | 27265/182400 [45:25<1:52:21, 23.01batch/s, batch_nb=26399, gpu=0, loss=0.072, v_nb=55]\n",
      "Epoch 1:  15%|█▍        | 27268/182400 [45:25<1:52:07, 23.06batch/s, batch_nb=26399, gpu=0, loss=0.072, v_nb=55]\n",
      "Epoch 1:  15%|█▍        | 27271/182400 [45:25<1:52:24, 23.00batch/s, batch_nb=26399, gpu=0, loss=0.072, v_nb=55]\n",
      "Epoch 1:  15%|█▍        | 27274/182400 [45:26<1:52:12, 23.04batch/s, batch_nb=26399, gpu=0, loss=0.072, v_nb=55]\n",
      "Epoch 1:  15%|█▍        | 27277/182400 [45:26<1:51:52, 23.11batch/s, batch_nb=26399, gpu=0, loss=0.072, v_nb=55]\n",
      "Epoch 1:  15%|█▍        | 27280/182400 [45:26<1:52:08, 23.05batch/s, batch_nb=26399, gpu=0, loss=0.072, v_nb=55]\n",
      "Epoch 1:  15%|█▍        | 27283/182400 [45:26<1:51:39, 23.16batch/s, batch_nb=26399, gpu=0, loss=0.072, v_nb=55]\n",
      "Epoch 1:  15%|█▍        | 27286/182400 [45:26<1:51:44, 23.14batch/s, batch_nb=26399, gpu=0, loss=0.072, v_nb=55]\n",
      "Epoch 1:  15%|█▍        | 27289/182400 [45:26<1:51:24, 23.21batch/s, batch_nb=26399, gpu=0, loss=0.072, v_nb=55]\n",
      "Epoch 1:  15%|█▍        | 27292/182400 [45:26<1:51:41, 23.14batch/s, batch_nb=26399, gpu=0, loss=0.072, v_nb=55]\n",
      "Epoch 1:  15%|█▍        | 27295/182400 [45:27<1:51:28, 23.19batch/s, batch_nb=26399, gpu=0, loss=0.072, v_nb=55]\n",
      "Epoch 1:  15%|█▍        | 27298/182400 [45:27<1:51:30, 23.18batch/s, batch_nb=26399, gpu=0, loss=0.072, v_nb=55]\n",
      "Epoch 1:  15%|█▍        | 27301/182400 [45:27<1:51:30, 23.18batch/s, batch_nb=26399, gpu=0, loss=0.072, v_nb=55]\n",
      "Epoch 1:  15%|█▍        | 27304/182400 [45:27<1:51:21, 23.21batch/s, batch_nb=26399, gpu=0, loss=0.072, v_nb=55]\n",
      "Epoch 1:  15%|█▍        | 27307/182400 [45:27<1:51:09, 23.26batch/s, batch_nb=26399, gpu=0, loss=0.072, v_nb=55]\n",
      "Epoch 1:  15%|█▍        | 27310/182400 [45:27<1:51:02, 23.28batch/s, batch_nb=26399, gpu=0, loss=0.072, v_nb=55]\n",
      "Epoch 1:  15%|█▍        | 27313/182400 [45:27<1:50:53, 23.31batch/s, batch_nb=26399, gpu=0, loss=0.072, v_nb=55]\n",
      "Epoch 1:  15%|█▍        | 27316/182400 [45:27<1:51:21, 23.21batch/s, batch_nb=26399, gpu=0, loss=0.072, v_nb=55]\n",
      "Epoch 1:  15%|█▍        | 27319/182400 [45:28<1:51:14, 23.23batch/s, batch_nb=26399, gpu=0, loss=0.072, v_nb=55]\n",
      "Epoch 1:  15%|█▍        | 27322/182400 [45:28<1:51:04, 23.27batch/s, batch_nb=26399, gpu=0, loss=0.072, v_nb=55]\n",
      "Epoch 1:  15%|█▍        | 27325/182400 [45:28<1:50:56, 23.30batch/s, batch_nb=26399, gpu=0, loss=0.072, v_nb=55]\n",
      "Epoch 1:  15%|█▍        | 27328/182400 [45:28<1:51:12, 23.24batch/s, batch_nb=26399, gpu=0, loss=0.072, v_nb=55]\n",
      "Epoch 1:  15%|█▍        | 27331/182400 [45:28<1:51:31, 23.17batch/s, batch_nb=26399, gpu=0, loss=0.072, v_nb=55]\n",
      "Epoch 1:  15%|█▍        | 27334/182400 [45:28<1:51:27, 23.19batch/s, batch_nb=26399, gpu=0, loss=0.072, v_nb=55]\n",
      "Epoch 1:  15%|█▍        | 27337/182400 [45:28<1:51:31, 23.17batch/s, batch_nb=26399, gpu=0, loss=0.072, v_nb=55]\n",
      "Epoch 1:  15%|█▍        | 27340/182400 [45:28<1:51:59, 23.07batch/s, batch_nb=26399, gpu=0, loss=0.072, v_nb=55]\n",
      "Epoch 1:  15%|█▍        | 27343/182400 [45:29<1:51:40, 23.14batch/s, batch_nb=26399, gpu=0, loss=0.072, v_nb=55]\n",
      "Epoch 1:  15%|█▍        | 27346/182400 [45:29<1:51:39, 23.14batch/s, batch_nb=26399, gpu=0, loss=0.072, v_nb=55]\n",
      "Epoch 1:  15%|█▍        | 27349/182400 [45:29<1:51:31, 23.17batch/s, batch_nb=26399, gpu=0, loss=0.072, v_nb=55]\n",
      "Epoch 1:  15%|█▍        | 27352/182400 [45:29<1:51:29, 23.18batch/s, batch_nb=26399, gpu=0, loss=0.072, v_nb=55]\n",
      "Epoch 1:  15%|█▍        | 27355/182400 [45:29<1:51:11, 23.24batch/s, batch_nb=26399, gpu=0, loss=0.072, v_nb=55]\n",
      "Epoch 1:  15%|█▌        | 27360/182400 [45:31<1:51:00, 23.28batch/s, batch_nb=26399, gpu=0, loss=0.072, v_nb=55]\n",
      "Epoch 1:  15%|█▌        | 27590/182400 [45:57<4:08:17, 10.39batch/s, batch_nb=26629, gpu=0, loss=0.074, v_nb=55] "
     ]
    },
    {
     "name": "stdout",
     "output_type": "stream",
     "text": [
      "Gradient overflow.  Skipping step, loss scaler 0 reducing loss scale to 2097152.0\n"
     ]
    },
    {
     "name": "stderr",
     "output_type": "stream",
     "text": [
      "Epoch 1:  17%|█▋        | 31618/182400 [52:44<4:06:36, 10.19batch/s, batch_nb=30657, gpu=0, loss=0.072, v_nb=55]"
     ]
    },
    {
     "name": "stdout",
     "output_type": "stream",
     "text": [
      "Gradient overflow.  Skipping step, loss scaler 0 reducing loss scale to 4194304.0\n"
     ]
    },
    {
     "name": "stderr",
     "output_type": "stream",
     "text": [
      "Epoch 1:  19%|█▊        | 33821/182400 [56:27<4:02:30, 10.21batch/s, batch_nb=32860, gpu=0, loss=0.071, v_nb=55]"
     ]
    },
    {
     "name": "stdout",
     "output_type": "stream",
     "text": [
      "Gradient overflow.  Skipping step, loss scaler 0 reducing loss scale to 4194304.0\n"
     ]
    },
    {
     "name": "stderr",
     "output_type": "stream",
     "text": [
      "Epoch 1:  20%|█▉        | 35918/182400 [59:59<3:59:31, 10.19batch/s, batch_nb=34957, gpu=0, loss=0.071, v_nb=55]"
     ]
    },
    {
     "name": "stdout",
     "output_type": "stream",
     "text": [
      "Gradient overflow.  Skipping step, loss scaler 0 reducing loss scale to 4194304.0\n"
     ]
    },
    {
     "name": "stderr",
     "output_type": "stream",
     "text": [
      "Epoch 1:  20%|█▉        | 36160/182400 [1:00:24<4:03:54,  9.99batch/s, batch_nb=35199, gpu=0, loss=0.071, v_nb=55]\n",
      "Validating:   0%|          | 0/320 [00:00<?, ?batch/s]\u001b[A\n",
      "Epoch 1:  20%|█▉        | 36163/182400 [1:00:24<3:23:51, 11.96batch/s, batch_nb=35199, gpu=0, loss=0.071, v_nb=55]\n",
      "Epoch 1:  20%|█▉        | 36166/182400 [1:00:24<2:53:55, 14.01batch/s, batch_nb=35199, gpu=0, loss=0.071, v_nb=55]\n",
      "Epoch 1:  20%|█▉        | 36169/182400 [1:00:25<2:32:51, 15.94batch/s, batch_nb=35199, gpu=0, loss=0.071, v_nb=55]\n",
      "Epoch 1:  20%|█▉        | 36172/182400 [1:00:25<2:18:12, 17.63batch/s, batch_nb=35199, gpu=0, loss=0.071, v_nb=55]\n",
      "Epoch 1:  20%|█▉        | 36175/182400 [1:00:25<2:08:19, 18.99batch/s, batch_nb=35199, gpu=0, loss=0.071, v_nb=55]\n",
      "Epoch 1:  20%|█▉        | 36178/182400 [1:00:25<2:01:54, 19.99batch/s, batch_nb=35199, gpu=0, loss=0.071, v_nb=55]\n",
      "Epoch 1:  20%|█▉        | 36181/182400 [1:00:25<1:56:39, 20.89batch/s, batch_nb=35199, gpu=0, loss=0.071, v_nb=55]\n",
      "Epoch 1:  20%|█▉        | 36184/182400 [1:00:25<1:53:04, 21.55batch/s, batch_nb=35199, gpu=0, loss=0.071, v_nb=55]\n",
      "Epoch 1:  20%|█▉        | 36187/182400 [1:00:25<1:50:26, 22.06batch/s, batch_nb=35199, gpu=0, loss=0.071, v_nb=55]\n",
      "Epoch 1:  20%|█▉        | 36190/182400 [1:00:25<1:48:49, 22.39batch/s, batch_nb=35199, gpu=0, loss=0.071, v_nb=55]\n",
      "Epoch 1:  20%|█▉        | 36193/182400 [1:00:26<1:47:21, 22.70batch/s, batch_nb=35199, gpu=0, loss=0.071, v_nb=55]\n",
      "Epoch 1:  20%|█▉        | 36196/182400 [1:00:26<1:46:33, 22.87batch/s, batch_nb=35199, gpu=0, loss=0.071, v_nb=55]\n",
      "Epoch 1:  20%|█▉        | 36199/182400 [1:00:26<1:46:20, 22.91batch/s, batch_nb=35199, gpu=0, loss=0.071, v_nb=55]\n",
      "Epoch 1:  20%|█▉        | 36202/182400 [1:00:26<1:46:02, 22.98batch/s, batch_nb=35199, gpu=0, loss=0.071, v_nb=55]\n",
      "Epoch 1:  20%|█▉        | 36205/182400 [1:00:26<1:45:36, 23.07batch/s, batch_nb=35199, gpu=0, loss=0.071, v_nb=55]\n",
      "Epoch 1:  20%|█▉        | 36208/182400 [1:00:26<1:44:54, 23.22batch/s, batch_nb=35199, gpu=0, loss=0.071, v_nb=55]\n",
      "Epoch 1:  20%|█▉        | 36211/182400 [1:00:26<1:44:35, 23.30batch/s, batch_nb=35199, gpu=0, loss=0.071, v_nb=55]\n",
      "Epoch 1:  20%|█▉        | 36214/182400 [1:00:26<1:44:24, 23.34batch/s, batch_nb=35199, gpu=0, loss=0.071, v_nb=55]\n",
      "Epoch 1:  20%|█▉        | 36217/182400 [1:00:27<1:44:36, 23.29batch/s, batch_nb=35199, gpu=0, loss=0.071, v_nb=55]\n",
      "Epoch 1:  20%|█▉        | 36220/182400 [1:00:27<1:44:39, 23.28batch/s, batch_nb=35199, gpu=0, loss=0.071, v_nb=55]\n",
      "Epoch 1:  20%|█▉        | 36223/182400 [1:00:27<1:44:31, 23.31batch/s, batch_nb=35199, gpu=0, loss=0.071, v_nb=55]\n",
      "Epoch 1:  20%|█▉        | 36226/182400 [1:00:27<1:44:29, 23.31batch/s, batch_nb=35199, gpu=0, loss=0.071, v_nb=55]\n",
      "Epoch 1:  20%|█▉        | 36229/182400 [1:00:27<1:44:37, 23.29batch/s, batch_nb=35199, gpu=0, loss=0.071, v_nb=55]\n",
      "Epoch 1:  20%|█▉        | 36232/182400 [1:00:27<1:45:05, 23.18batch/s, batch_nb=35199, gpu=0, loss=0.071, v_nb=55]\n",
      "Epoch 1:  20%|█▉        | 36235/182400 [1:00:27<1:44:48, 23.24batch/s, batch_nb=35199, gpu=0, loss=0.071, v_nb=55]\n",
      "Epoch 1:  20%|█▉        | 36238/182400 [1:00:27<1:44:34, 23.29batch/s, batch_nb=35199, gpu=0, loss=0.071, v_nb=55]\n",
      "Epoch 1:  20%|█▉        | 36241/182400 [1:00:28<1:44:14, 23.37batch/s, batch_nb=35199, gpu=0, loss=0.071, v_nb=55]\n",
      "Epoch 1:  20%|█▉        | 36244/182400 [1:00:28<1:44:20, 23.34batch/s, batch_nb=35199, gpu=0, loss=0.071, v_nb=55]\n",
      "Epoch 1:  20%|█▉        | 36247/182400 [1:00:28<1:44:30, 23.31batch/s, batch_nb=35199, gpu=0, loss=0.071, v_nb=55]\n",
      "Epoch 1:  20%|█▉        | 36250/182400 [1:00:28<1:44:37, 23.28batch/s, batch_nb=35199, gpu=0, loss=0.071, v_nb=55]\n",
      "Epoch 1:  20%|█▉        | 36253/182400 [1:00:28<1:44:40, 23.27batch/s, batch_nb=35199, gpu=0, loss=0.071, v_nb=55]\n",
      "Epoch 1:  20%|█▉        | 36256/182400 [1:00:28<1:44:39, 23.27batch/s, batch_nb=35199, gpu=0, loss=0.071, v_nb=55]\n",
      "Epoch 1:  20%|█▉        | 36259/182400 [1:00:28<1:44:46, 23.25batch/s, batch_nb=35199, gpu=0, loss=0.071, v_nb=55]\n",
      "Epoch 1:  20%|█▉        | 36262/182400 [1:00:29<1:44:47, 23.24batch/s, batch_nb=35199, gpu=0, loss=0.071, v_nb=55]\n",
      "Epoch 1:  20%|█▉        | 36265/182400 [1:00:29<1:44:50, 23.23batch/s, batch_nb=35199, gpu=0, loss=0.071, v_nb=55]\n",
      "Epoch 1:  20%|█▉        | 36268/182400 [1:00:29<1:44:49, 23.23batch/s, batch_nb=35199, gpu=0, loss=0.071, v_nb=55]\n",
      "Epoch 1:  20%|█▉        | 36271/182400 [1:00:29<1:44:50, 23.23batch/s, batch_nb=35199, gpu=0, loss=0.071, v_nb=55]\n",
      "Epoch 1:  20%|█▉        | 36274/182400 [1:00:29<1:44:43, 23.26batch/s, batch_nb=35199, gpu=0, loss=0.071, v_nb=55]\n",
      "Epoch 1:  20%|█▉        | 36277/182400 [1:00:29<1:44:45, 23.25batch/s, batch_nb=35199, gpu=0, loss=0.071, v_nb=55]\n",
      "Epoch 1:  20%|█▉        | 36280/182400 [1:00:29<1:44:38, 23.27batch/s, batch_nb=35199, gpu=0, loss=0.071, v_nb=55]\n",
      "Epoch 1:  20%|█▉        | 36283/182400 [1:00:29<1:45:12, 23.15batch/s, batch_nb=35199, gpu=0, loss=0.071, v_nb=55]\n",
      "Epoch 1:  20%|█▉        | 36286/182400 [1:00:30<1:45:06, 23.17batch/s, batch_nb=35199, gpu=0, loss=0.071, v_nb=55]\n",
      "Epoch 1:  20%|█▉        | 36289/182400 [1:00:30<1:45:00, 23.19batch/s, batch_nb=35199, gpu=0, loss=0.071, v_nb=55]\n",
      "Epoch 1:  20%|█▉        | 36292/182400 [1:00:30<1:44:50, 23.23batch/s, batch_nb=35199, gpu=0, loss=0.071, v_nb=55]\n",
      "Epoch 1:  20%|█▉        | 36295/182400 [1:00:30<1:44:43, 23.25batch/s, batch_nb=35199, gpu=0, loss=0.071, v_nb=55]\n",
      "Epoch 1:  20%|█▉        | 36298/182400 [1:00:30<1:44:39, 23.27batch/s, batch_nb=35199, gpu=0, loss=0.071, v_nb=55]\n",
      "Epoch 1:  20%|█▉        | 36301/182400 [1:00:30<1:44:35, 23.28batch/s, batch_nb=35199, gpu=0, loss=0.071, v_nb=55]\n",
      "Epoch 1:  20%|█▉        | 36304/182400 [1:00:30<1:44:32, 23.29batch/s, batch_nb=35199, gpu=0, loss=0.071, v_nb=55]\n",
      "Epoch 1:  20%|█▉        | 36307/182400 [1:00:30<1:44:30, 23.30batch/s, batch_nb=35199, gpu=0, loss=0.071, v_nb=55]\n",
      "Epoch 1:  20%|█▉        | 36310/182400 [1:00:31<1:44:30, 23.30batch/s, batch_nb=35199, gpu=0, loss=0.071, v_nb=55]\n",
      "Epoch 1:  20%|█▉        | 36313/182400 [1:00:31<1:44:29, 23.30batch/s, batch_nb=35199, gpu=0, loss=0.071, v_nb=55]\n",
      "Epoch 1:  20%|█▉        | 36316/182400 [1:00:31<1:44:22, 23.33batch/s, batch_nb=35199, gpu=0, loss=0.071, v_nb=55]\n",
      "Epoch 1:  20%|█▉        | 36319/182400 [1:00:31<1:44:48, 23.23batch/s, batch_nb=35199, gpu=0, loss=0.071, v_nb=55]\n",
      "Epoch 1:  20%|█▉        | 36322/182400 [1:00:31<1:44:46, 23.24batch/s, batch_nb=35199, gpu=0, loss=0.071, v_nb=55]\n",
      "Epoch 1:  20%|█▉        | 36325/182400 [1:00:31<1:45:22, 23.11batch/s, batch_nb=35199, gpu=0, loss=0.071, v_nb=55]\n",
      "Epoch 1:  20%|█▉        | 36328/182400 [1:00:31<1:45:16, 23.12batch/s, batch_nb=35199, gpu=0, loss=0.071, v_nb=55]\n",
      "Epoch 1:  20%|█▉        | 36331/182400 [1:00:31<1:45:08, 23.16batch/s, batch_nb=35199, gpu=0, loss=0.071, v_nb=55]\n",
      "Epoch 1:  20%|█▉        | 36334/182400 [1:00:32<1:45:12, 23.14batch/s, batch_nb=35199, gpu=0, loss=0.071, v_nb=55]\n",
      "Epoch 1:  20%|█▉        | 36337/182400 [1:00:32<1:45:09, 23.15batch/s, batch_nb=35199, gpu=0, loss=0.071, v_nb=55]\n",
      "Epoch 1:  20%|█▉        | 36340/182400 [1:00:32<1:45:04, 23.17batch/s, batch_nb=35199, gpu=0, loss=0.071, v_nb=55]\n",
      "Epoch 1:  20%|█▉        | 36343/182400 [1:00:32<1:45:15, 23.13batch/s, batch_nb=35199, gpu=0, loss=0.071, v_nb=55]\n",
      "Epoch 1:  20%|█▉        | 36346/182400 [1:00:32<1:45:04, 23.17batch/s, batch_nb=35199, gpu=0, loss=0.071, v_nb=55]\n",
      "Epoch 1:  20%|█▉        | 36349/182400 [1:00:32<1:45:09, 23.15batch/s, batch_nb=35199, gpu=0, loss=0.071, v_nb=55]\n",
      "Epoch 1:  20%|█▉        | 36352/182400 [1:00:32<1:45:01, 23.18batch/s, batch_nb=35199, gpu=0, loss=0.071, v_nb=55]\n",
      "Epoch 1:  20%|█▉        | 36355/182400 [1:00:33<1:45:15, 23.13batch/s, batch_nb=35199, gpu=0, loss=0.071, v_nb=55]\n",
      "Epoch 1:  20%|█▉        | 36358/182400 [1:00:33<1:45:29, 23.07batch/s, batch_nb=35199, gpu=0, loss=0.071, v_nb=55]\n",
      "Epoch 1:  20%|█▉        | 36361/182400 [1:00:33<1:45:32, 23.06batch/s, batch_nb=35199, gpu=0, loss=0.071, v_nb=55]\n",
      "Epoch 1:  20%|█▉        | 36364/182400 [1:00:33<1:45:56, 22.97batch/s, batch_nb=35199, gpu=0, loss=0.071, v_nb=55]\n",
      "Epoch 1:  20%|█▉        | 36367/182400 [1:00:33<1:45:38, 23.04batch/s, batch_nb=35199, gpu=0, loss=0.071, v_nb=55]\n"
     ]
    },
    {
     "name": "stderr",
     "output_type": "stream",
     "text": [
      "Epoch 1:  20%|█▉        | 36370/182400 [1:00:33<1:45:47, 23.00batch/s, batch_nb=35199, gpu=0, loss=0.071, v_nb=55]\n",
      "Epoch 1:  20%|█▉        | 36373/182400 [1:00:33<1:45:52, 22.99batch/s, batch_nb=35199, gpu=0, loss=0.071, v_nb=55]\n",
      "Epoch 1:  20%|█▉        | 36376/182400 [1:00:33<1:46:17, 22.90batch/s, batch_nb=35199, gpu=0, loss=0.071, v_nb=55]\n",
      "Epoch 1:  20%|█▉        | 36379/182400 [1:00:34<1:46:00, 22.96batch/s, batch_nb=35199, gpu=0, loss=0.071, v_nb=55]\n",
      "Epoch 1:  20%|█▉        | 36382/182400 [1:00:34<1:45:26, 23.08batch/s, batch_nb=35199, gpu=0, loss=0.071, v_nb=55]\n",
      "Epoch 1:  20%|█▉        | 36385/182400 [1:00:34<1:45:06, 23.15batch/s, batch_nb=35199, gpu=0, loss=0.071, v_nb=55]\n",
      "Epoch 1:  20%|█▉        | 36388/182400 [1:00:34<1:45:08, 23.15batch/s, batch_nb=35199, gpu=0, loss=0.071, v_nb=55]\n",
      "Epoch 1:  20%|█▉        | 36391/182400 [1:00:34<1:45:05, 23.16batch/s, batch_nb=35199, gpu=0, loss=0.071, v_nb=55]\n",
      "Epoch 1:  20%|█▉        | 36394/182400 [1:00:34<1:45:23, 23.09batch/s, batch_nb=35199, gpu=0, loss=0.071, v_nb=55]\n",
      "Epoch 1:  20%|█▉        | 36397/182400 [1:00:34<1:45:27, 23.07batch/s, batch_nb=35199, gpu=0, loss=0.071, v_nb=55]\n",
      "Epoch 1:  20%|█▉        | 36400/182400 [1:00:34<1:45:59, 22.96batch/s, batch_nb=35199, gpu=0, loss=0.071, v_nb=55]\n",
      "Epoch 1:  20%|█▉        | 36403/182400 [1:00:35<1:46:07, 22.93batch/s, batch_nb=35199, gpu=0, loss=0.071, v_nb=55]\n",
      "Epoch 1:  20%|█▉        | 36406/182400 [1:00:35<1:46:09, 22.92batch/s, batch_nb=35199, gpu=0, loss=0.071, v_nb=55]\n",
      "Epoch 1:  20%|█▉        | 36409/182400 [1:00:35<1:45:56, 22.97batch/s, batch_nb=35199, gpu=0, loss=0.071, v_nb=55]\n",
      "Epoch 1:  20%|█▉        | 36412/182400 [1:00:35<1:45:18, 23.11batch/s, batch_nb=35199, gpu=0, loss=0.071, v_nb=55]\n",
      "Epoch 1:  20%|█▉        | 36415/182400 [1:00:35<1:44:51, 23.20batch/s, batch_nb=35199, gpu=0, loss=0.071, v_nb=55]\n",
      "Epoch 1:  20%|█▉        | 36418/182400 [1:00:35<1:44:49, 23.21batch/s, batch_nb=35199, gpu=0, loss=0.071, v_nb=55]\n",
      "Epoch 1:  20%|█▉        | 36421/182400 [1:00:35<1:44:49, 23.21batch/s, batch_nb=35199, gpu=0, loss=0.071, v_nb=55]\n",
      "Epoch 1:  20%|█▉        | 36424/182400 [1:00:36<1:44:56, 23.18batch/s, batch_nb=35199, gpu=0, loss=0.071, v_nb=55]\n",
      "Epoch 1:  20%|█▉        | 36427/182400 [1:00:36<1:44:42, 23.24batch/s, batch_nb=35199, gpu=0, loss=0.071, v_nb=55]\n",
      "Epoch 1:  20%|█▉        | 36430/182400 [1:00:36<1:44:28, 23.29batch/s, batch_nb=35199, gpu=0, loss=0.071, v_nb=55]\n",
      "Epoch 1:  20%|█▉        | 36433/182400 [1:00:36<1:44:40, 23.24batch/s, batch_nb=35199, gpu=0, loss=0.071, v_nb=55]\n",
      "Epoch 1:  20%|█▉        | 36436/182400 [1:00:36<1:44:36, 23.26batch/s, batch_nb=35199, gpu=0, loss=0.071, v_nb=55]\n",
      "Epoch 1:  20%|█▉        | 36439/182400 [1:00:36<1:44:33, 23.27batch/s, batch_nb=35199, gpu=0, loss=0.071, v_nb=55]\n",
      "Epoch 1:  20%|█▉        | 36442/182400 [1:00:36<1:44:41, 23.24batch/s, batch_nb=35199, gpu=0, loss=0.071, v_nb=55]\n",
      "Epoch 1:  20%|█▉        | 36445/182400 [1:00:36<1:44:39, 23.24batch/s, batch_nb=35199, gpu=0, loss=0.071, v_nb=55]\n",
      "Epoch 1:  20%|█▉        | 36448/182400 [1:00:37<1:45:56, 22.96batch/s, batch_nb=35199, gpu=0, loss=0.071, v_nb=55]\n",
      "Epoch 1:  20%|█▉        | 36451/182400 [1:00:37<1:46:06, 22.92batch/s, batch_nb=35199, gpu=0, loss=0.071, v_nb=55]\n",
      "Epoch 1:  20%|█▉        | 36454/182400 [1:00:37<1:45:36, 23.03batch/s, batch_nb=35199, gpu=0, loss=0.071, v_nb=55]\n",
      "Epoch 1:  20%|█▉        | 36457/182400 [1:00:37<1:45:21, 23.09batch/s, batch_nb=35199, gpu=0, loss=0.071, v_nb=55]\n",
      "Epoch 1:  20%|█▉        | 36460/182400 [1:00:37<1:45:51, 22.98batch/s, batch_nb=35199, gpu=0, loss=0.071, v_nb=55]\n",
      "Epoch 1:  20%|█▉        | 36463/182400 [1:00:37<1:45:58, 22.95batch/s, batch_nb=35199, gpu=0, loss=0.071, v_nb=55]\n",
      "Epoch 1:  20%|█▉        | 36466/182400 [1:00:37<1:46:02, 22.94batch/s, batch_nb=35199, gpu=0, loss=0.071, v_nb=55]\n",
      "Epoch 1:  20%|█▉        | 36469/182400 [1:00:37<1:46:04, 22.93batch/s, batch_nb=35199, gpu=0, loss=0.071, v_nb=55]\n",
      "Epoch 1:  20%|█▉        | 36472/182400 [1:00:38<1:45:34, 23.04batch/s, batch_nb=35199, gpu=0, loss=0.071, v_nb=55]\n",
      "Epoch 1:  20%|█▉        | 36475/182400 [1:00:38<1:45:06, 23.14batch/s, batch_nb=35199, gpu=0, loss=0.071, v_nb=55]\n",
      "Epoch 1:  20%|██        | 36480/182400 [1:00:40<1:45:08, 23.13batch/s, batch_nb=35199, gpu=0, loss=0.071, v_nb=55]\n",
      "Epoch 1:  21%|██        | 38278/182400 [1:03:45<3:53:44, 10.28batch/s, batch_nb=36997, gpu=0, loss=0.070, v_nb=55] "
     ]
    },
    {
     "name": "stdout",
     "output_type": "stream",
     "text": [
      "Gradient overflow.  Skipping step, loss scaler 0 reducing loss scale to 4194304.0\n"
     ]
    },
    {
     "name": "stderr",
     "output_type": "stream",
     "text": [
      "Epoch 1:  22%|██▏       | 40321/182400 [1:07:12<3:51:36, 10.22batch/s, batch_nb=39040, gpu=0, loss=0.070, v_nb=55]"
     ]
    },
    {
     "name": "stdout",
     "output_type": "stream",
     "text": [
      "Gradient overflow.  Skipping step, loss scaler 0 reducing loss scale to 4194304.0\n"
     ]
    },
    {
     "name": "stderr",
     "output_type": "stream",
     "text": [
      "Epoch 1:  23%|██▎       | 42381/182400 [1:10:42<3:47:56, 10.24batch/s, batch_nb=41100, gpu=0, loss=0.070, v_nb=55]"
     ]
    },
    {
     "name": "stdout",
     "output_type": "stream",
     "text": [
      "Gradient overflow.  Skipping step, loss scaler 0 reducing loss scale to 4194304.0\n"
     ]
    },
    {
     "name": "stderr",
     "output_type": "stream",
     "text": [
      "Epoch 1:  25%|██▍       | 44878/182400 [1:14:57<3:45:09, 10.18batch/s, batch_nb=43597, gpu=0, loss=0.067, v_nb=55]"
     ]
    },
    {
     "name": "stdout",
     "output_type": "stream",
     "text": [
      "Gradient overflow.  Skipping step, loss scaler 0 reducing loss scale to 4194304.0\n"
     ]
    },
    {
     "name": "stderr",
     "output_type": "stream",
     "text": [
      "Epoch 1:  25%|██▍       | 45280/182400 [1:15:38<3:48:31, 10.00batch/s, batch_nb=43999, gpu=0, loss=0.071, v_nb=55]\n",
      "Validating:   0%|          | 0/320 [00:00<?, ?batch/s]\u001b[A\n",
      "Epoch 1:  25%|██▍       | 45283/182400 [1:15:38<3:11:21, 11.94batch/s, batch_nb=43999, gpu=0, loss=0.071, v_nb=55]\n",
      "Epoch 1:  25%|██▍       | 45286/182400 [1:15:39<2:43:37, 13.97batch/s, batch_nb=43999, gpu=0, loss=0.071, v_nb=55]\n",
      "Epoch 1:  25%|██▍       | 45289/182400 [1:15:39<2:24:32, 15.81batch/s, batch_nb=43999, gpu=0, loss=0.071, v_nb=55]\n",
      "Epoch 1:  25%|██▍       | 45292/182400 [1:15:39<2:11:04, 17.43batch/s, batch_nb=43999, gpu=0, loss=0.071, v_nb=55]\n",
      "Epoch 1:  25%|██▍       | 45295/182400 [1:15:39<2:01:34, 18.80batch/s, batch_nb=43999, gpu=0, loss=0.071, v_nb=55]\n",
      "Epoch 1:  25%|██▍       | 45298/182400 [1:15:39<1:54:56, 19.88batch/s, batch_nb=43999, gpu=0, loss=0.071, v_nb=55]\n",
      "Epoch 1:  25%|██▍       | 45301/182400 [1:15:39<1:50:11, 20.74batch/s, batch_nb=43999, gpu=0, loss=0.071, v_nb=55]\n",
      "Epoch 1:  25%|██▍       | 45304/182400 [1:15:39<1:46:49, 21.39batch/s, batch_nb=43999, gpu=0, loss=0.071, v_nb=55]\n",
      "Epoch 1:  25%|██▍       | 45307/182400 [1:15:40<1:44:22, 21.89batch/s, batch_nb=43999, gpu=0, loss=0.071, v_nb=55]\n",
      "Epoch 1:  25%|██▍       | 45310/182400 [1:15:40<1:42:51, 22.21batch/s, batch_nb=43999, gpu=0, loss=0.071, v_nb=55]\n",
      "Epoch 1:  25%|██▍       | 45313/182400 [1:15:40<1:41:27, 22.52batch/s, batch_nb=43999, gpu=0, loss=0.071, v_nb=55]\n",
      "Epoch 1:  25%|██▍       | 45316/182400 [1:15:40<1:40:11, 22.80batch/s, batch_nb=43999, gpu=0, loss=0.071, v_nb=55]\n",
      "Epoch 1:  25%|██▍       | 45319/182400 [1:15:40<1:39:45, 22.90batch/s, batch_nb=43999, gpu=0, loss=0.071, v_nb=55]\n",
      "Epoch 1:  25%|██▍       | 45322/182400 [1:15:40<1:39:26, 22.97batch/s, batch_nb=43999, gpu=0, loss=0.071, v_nb=55]\n",
      "Epoch 1:  25%|██▍       | 45325/182400 [1:15:40<1:38:53, 23.10batch/s, batch_nb=43999, gpu=0, loss=0.071, v_nb=55]\n",
      "Epoch 1:  25%|██▍       | 45328/182400 [1:15:40<1:38:41, 23.15batch/s, batch_nb=43999, gpu=0, loss=0.071, v_nb=55]\n",
      "Epoch 1:  25%|██▍       | 45331/182400 [1:15:41<1:38:40, 23.15batch/s, batch_nb=43999, gpu=0, loss=0.071, v_nb=55]\n",
      "Epoch 1:  25%|██▍       | 45334/182400 [1:15:41<1:38:27, 23.20batch/s, batch_nb=43999, gpu=0, loss=0.071, v_nb=55]\n",
      "Epoch 1:  25%|██▍       | 45337/182400 [1:15:41<1:38:12, 23.26batch/s, batch_nb=43999, gpu=0, loss=0.071, v_nb=55]\n",
      "Epoch 1:  25%|██▍       | 45340/182400 [1:15:41<1:38:07, 23.28batch/s, batch_nb=43999, gpu=0, loss=0.071, v_nb=55]\n",
      "Epoch 1:  25%|██▍       | 45343/182400 [1:15:41<1:37:51, 23.34batch/s, batch_nb=43999, gpu=0, loss=0.071, v_nb=55]\n",
      "Epoch 1:  25%|██▍       | 45346/182400 [1:15:41<1:37:47, 23.36batch/s, batch_nb=43999, gpu=0, loss=0.071, v_nb=55]\n",
      "Epoch 1:  25%|██▍       | 45349/182400 [1:15:41<1:37:47, 23.36batch/s, batch_nb=43999, gpu=0, loss=0.071, v_nb=55]\n",
      "Epoch 1:  25%|██▍       | 45352/182400 [1:15:41<1:38:00, 23.30batch/s, batch_nb=43999, gpu=0, loss=0.071, v_nb=55]\n",
      "Epoch 1:  25%|██▍       | 45355/182400 [1:15:42<1:38:19, 23.23batch/s, batch_nb=43999, gpu=0, loss=0.071, v_nb=55]\n",
      "Epoch 1:  25%|██▍       | 45358/182400 [1:15:42<1:38:10, 23.27batch/s, batch_nb=43999, gpu=0, loss=0.071, v_nb=55]\n",
      "Epoch 1:  25%|██▍       | 45361/182400 [1:15:42<1:38:04, 23.29batch/s, batch_nb=43999, gpu=0, loss=0.071, v_nb=55]\n",
      "Epoch 1:  25%|██▍       | 45364/182400 [1:15:42<1:37:55, 23.32batch/s, batch_nb=43999, gpu=0, loss=0.071, v_nb=55]\n",
      "Epoch 1:  25%|██▍       | 45367/182400 [1:15:42<1:37:52, 23.34batch/s, batch_nb=43999, gpu=0, loss=0.071, v_nb=55]\n",
      "Epoch 1:  25%|██▍       | 45370/182400 [1:15:42<1:37:41, 23.38batch/s, batch_nb=43999, gpu=0, loss=0.071, v_nb=55]\n",
      "Epoch 1:  25%|██▍       | 45373/182400 [1:15:42<1:37:44, 23.37batch/s, batch_nb=43999, gpu=0, loss=0.071, v_nb=55]\n",
      "Epoch 1:  25%|██▍       | 45376/182400 [1:15:42<1:37:59, 23.30batch/s, batch_nb=43999, gpu=0, loss=0.071, v_nb=55]\n",
      "Epoch 1:  25%|██▍       | 45379/182400 [1:15:43<1:37:53, 23.33batch/s, batch_nb=43999, gpu=0, loss=0.071, v_nb=55]\n",
      "Epoch 1:  25%|██▍       | 45382/182400 [1:15:43<1:37:53, 23.33batch/s, batch_nb=43999, gpu=0, loss=0.071, v_nb=55]\n",
      "Epoch 1:  25%|██▍       | 45385/182400 [1:15:43<1:37:48, 23.35batch/s, batch_nb=43999, gpu=0, loss=0.071, v_nb=55]\n",
      "Epoch 1:  25%|██▍       | 45388/182400 [1:15:43<1:37:59, 23.31batch/s, batch_nb=43999, gpu=0, loss=0.071, v_nb=55]\n",
      "Epoch 1:  25%|██▍       | 45391/182400 [1:15:43<1:38:25, 23.20batch/s, batch_nb=43999, gpu=0, loss=0.071, v_nb=55]\n",
      "Epoch 1:  25%|██▍       | 45394/182400 [1:15:43<1:38:22, 23.21batch/s, batch_nb=43999, gpu=0, loss=0.071, v_nb=55]\n",
      "Epoch 1:  25%|██▍       | 45397/182400 [1:15:43<1:38:09, 23.26batch/s, batch_nb=43999, gpu=0, loss=0.071, v_nb=55]\n",
      "Epoch 1:  25%|██▍       | 45400/182400 [1:15:44<1:38:03, 23.29batch/s, batch_nb=43999, gpu=0, loss=0.071, v_nb=55]\n",
      "Epoch 1:  25%|██▍       | 45403/182400 [1:15:44<1:37:52, 23.33batch/s, batch_nb=43999, gpu=0, loss=0.071, v_nb=55]\n",
      "Epoch 1:  25%|██▍       | 45406/182400 [1:15:44<1:37:52, 23.33batch/s, batch_nb=43999, gpu=0, loss=0.071, v_nb=55]\n",
      "Epoch 1:  25%|██▍       | 45409/182400 [1:15:44<1:37:45, 23.35batch/s, batch_nb=43999, gpu=0, loss=0.071, v_nb=55]\n",
      "Epoch 1:  25%|██▍       | 45412/182400 [1:15:44<1:37:58, 23.30batch/s, batch_nb=43999, gpu=0, loss=0.071, v_nb=55]\n",
      "Epoch 1:  25%|██▍       | 45415/182400 [1:15:44<1:37:48, 23.34batch/s, batch_nb=43999, gpu=0, loss=0.071, v_nb=55]\n",
      "Epoch 1:  25%|██▍       | 45418/182400 [1:15:44<1:38:06, 23.27batch/s, batch_nb=43999, gpu=0, loss=0.071, v_nb=55]\n",
      "Epoch 1:  25%|██▍       | 45421/182400 [1:15:44<1:38:14, 23.24batch/s, batch_nb=43999, gpu=0, loss=0.071, v_nb=55]\n",
      "Epoch 1:  25%|██▍       | 45424/182400 [1:15:45<1:37:59, 23.30batch/s, batch_nb=43999, gpu=0, loss=0.071, v_nb=55]\n",
      "Epoch 1:  25%|██▍       | 45427/182400 [1:15:45<1:37:55, 23.31batch/s, batch_nb=43999, gpu=0, loss=0.071, v_nb=55]\n",
      "Epoch 1:  25%|██▍       | 45430/182400 [1:15:45<1:37:48, 23.34batch/s, batch_nb=43999, gpu=0, loss=0.071, v_nb=55]\n",
      "Epoch 1:  25%|██▍       | 45433/182400 [1:15:45<1:37:42, 23.36batch/s, batch_nb=43999, gpu=0, loss=0.071, v_nb=55]\n",
      "Epoch 1:  25%|██▍       | 45436/182400 [1:15:45<1:37:31, 23.40batch/s, batch_nb=43999, gpu=0, loss=0.071, v_nb=55]\n",
      "Epoch 1:  25%|██▍       | 45439/182400 [1:15:45<1:37:40, 23.37batch/s, batch_nb=43999, gpu=0, loss=0.071, v_nb=55]\n",
      "Epoch 1:  25%|██▍       | 45442/182400 [1:15:45<1:37:38, 23.38batch/s, batch_nb=43999, gpu=0, loss=0.071, v_nb=55]\n",
      "Epoch 1:  25%|██▍       | 45445/182400 [1:15:45<1:37:35, 23.39batch/s, batch_nb=43999, gpu=0, loss=0.071, v_nb=55]\n",
      "Epoch 1:  25%|██▍       | 45448/182400 [1:15:46<1:37:36, 23.38batch/s, batch_nb=43999, gpu=0, loss=0.071, v_nb=55]\n",
      "Epoch 1:  25%|██▍       | 45451/182400 [1:15:46<1:37:42, 23.36batch/s, batch_nb=43999, gpu=0, loss=0.071, v_nb=55]\n",
      "Epoch 1:  25%|██▍       | 45454/182400 [1:15:46<1:38:28, 23.18batch/s, batch_nb=43999, gpu=0, loss=0.071, v_nb=55]\n",
      "Epoch 1:  25%|██▍       | 45457/182400 [1:15:46<1:38:34, 23.15batch/s, batch_nb=43999, gpu=0, loss=0.071, v_nb=55]\n",
      "Epoch 1:  25%|██▍       | 45460/182400 [1:15:46<1:38:34, 23.15batch/s, batch_nb=43999, gpu=0, loss=0.071, v_nb=55]\n",
      "Epoch 1:  25%|██▍       | 45463/182400 [1:15:46<1:38:40, 23.13batch/s, batch_nb=43999, gpu=0, loss=0.071, v_nb=55]\n",
      "Epoch 1:  25%|██▍       | 45466/182400 [1:15:46<1:38:23, 23.20batch/s, batch_nb=43999, gpu=0, loss=0.071, v_nb=55]\n",
      "Epoch 1:  25%|██▍       | 45469/182400 [1:15:46<1:38:17, 23.22batch/s, batch_nb=43999, gpu=0, loss=0.071, v_nb=55]\n",
      "Epoch 1:  25%|██▍       | 45472/182400 [1:15:47<1:38:26, 23.18batch/s, batch_nb=43999, gpu=0, loss=0.071, v_nb=55]\n",
      "Epoch 1:  25%|██▍       | 45475/182400 [1:15:47<1:38:20, 23.20batch/s, batch_nb=43999, gpu=0, loss=0.071, v_nb=55]\n",
      "Epoch 1:  25%|██▍       | 45478/182400 [1:15:47<1:38:17, 23.22batch/s, batch_nb=43999, gpu=0, loss=0.071, v_nb=55]\n",
      "Epoch 1:  25%|██▍       | 45481/182400 [1:15:47<1:38:11, 23.24batch/s, batch_nb=43999, gpu=0, loss=0.071, v_nb=55]\n",
      "Epoch 1:  25%|██▍       | 45484/182400 [1:15:47<1:38:31, 23.16batch/s, batch_nb=43999, gpu=0, loss=0.071, v_nb=55]\n",
      "Epoch 1:  25%|██▍       | 45487/182400 [1:15:47<1:38:45, 23.11batch/s, batch_nb=43999, gpu=0, loss=0.071, v_nb=55]\n"
     ]
    },
    {
     "name": "stderr",
     "output_type": "stream",
     "text": [
      "Epoch 1:  25%|██▍       | 45490/182400 [1:15:47<1:38:32, 23.16batch/s, batch_nb=43999, gpu=0, loss=0.071, v_nb=55]\n",
      "Epoch 1:  25%|██▍       | 45493/182400 [1:15:48<1:38:50, 23.08batch/s, batch_nb=43999, gpu=0, loss=0.071, v_nb=55]\n",
      "Epoch 1:  25%|██▍       | 45496/182400 [1:15:48<1:38:53, 23.07batch/s, batch_nb=43999, gpu=0, loss=0.071, v_nb=55]\n",
      "Epoch 1:  25%|██▍       | 45499/182400 [1:15:48<1:38:44, 23.11batch/s, batch_nb=43999, gpu=0, loss=0.071, v_nb=55]\n",
      "Epoch 1:  25%|██▍       | 45502/182400 [1:15:48<1:38:43, 23.11batch/s, batch_nb=43999, gpu=0, loss=0.071, v_nb=55]\n",
      "Epoch 1:  25%|██▍       | 45505/182400 [1:15:48<1:38:54, 23.07batch/s, batch_nb=43999, gpu=0, loss=0.071, v_nb=55]\n",
      "Epoch 1:  25%|██▍       | 45508/182400 [1:15:48<1:39:05, 23.03batch/s, batch_nb=43999, gpu=0, loss=0.071, v_nb=55]\n",
      "Epoch 1:  25%|██▍       | 45511/182400 [1:15:48<1:39:34, 22.91batch/s, batch_nb=43999, gpu=0, loss=0.071, v_nb=55]\n",
      "Epoch 1:  25%|██▍       | 45514/182400 [1:15:48<1:39:43, 22.88batch/s, batch_nb=43999, gpu=0, loss=0.071, v_nb=55]\n",
      "Epoch 1:  25%|██▍       | 45517/182400 [1:15:49<1:39:11, 23.00batch/s, batch_nb=43999, gpu=0, loss=0.071, v_nb=55]\n",
      "Epoch 1:  25%|██▍       | 45520/182400 [1:15:49<1:39:07, 23.02batch/s, batch_nb=43999, gpu=0, loss=0.071, v_nb=55]\n",
      "Epoch 1:  25%|██▍       | 45523/182400 [1:15:49<1:39:00, 23.04batch/s, batch_nb=43999, gpu=0, loss=0.071, v_nb=55]\n",
      "Epoch 1:  25%|██▍       | 45526/182400 [1:15:49<1:38:53, 23.07batch/s, batch_nb=43999, gpu=0, loss=0.071, v_nb=55]\n",
      "Epoch 1:  25%|██▍       | 45529/182400 [1:15:49<1:38:40, 23.12batch/s, batch_nb=43999, gpu=0, loss=0.071, v_nb=55]\n",
      "Epoch 1:  25%|██▍       | 45532/182400 [1:15:49<1:38:54, 23.06batch/s, batch_nb=43999, gpu=0, loss=0.071, v_nb=55]\n",
      "Epoch 1:  25%|██▍       | 45535/182400 [1:15:49<1:39:07, 23.01batch/s, batch_nb=43999, gpu=0, loss=0.071, v_nb=55]\n",
      "Epoch 1:  25%|██▍       | 45538/182400 [1:15:49<1:39:09, 23.00batch/s, batch_nb=43999, gpu=0, loss=0.071, v_nb=55]\n",
      "Epoch 1:  25%|██▍       | 45541/182400 [1:15:50<1:39:07, 23.01batch/s, batch_nb=43999, gpu=0, loss=0.071, v_nb=55]\n",
      "Epoch 1:  25%|██▍       | 45544/182400 [1:15:50<1:39:10, 23.00batch/s, batch_nb=43999, gpu=0, loss=0.071, v_nb=55]\n",
      "Epoch 1:  25%|██▍       | 45547/182400 [1:15:50<1:38:33, 23.14batch/s, batch_nb=43999, gpu=0, loss=0.071, v_nb=55]\n",
      "Epoch 1:  25%|██▍       | 45550/182400 [1:15:50<1:38:42, 23.11batch/s, batch_nb=43999, gpu=0, loss=0.071, v_nb=55]\n",
      "Epoch 1:  25%|██▍       | 45553/182400 [1:15:50<1:39:09, 23.00batch/s, batch_nb=43999, gpu=0, loss=0.071, v_nb=55]\n",
      "Epoch 1:  25%|██▍       | 45556/182400 [1:15:50<1:39:16, 22.98batch/s, batch_nb=43999, gpu=0, loss=0.071, v_nb=55]\n",
      "Epoch 1:  25%|██▍       | 45559/182400 [1:15:50<1:38:37, 23.13batch/s, batch_nb=43999, gpu=0, loss=0.071, v_nb=55]\n",
      "Epoch 1:  25%|██▍       | 45562/182400 [1:15:51<1:38:26, 23.17batch/s, batch_nb=43999, gpu=0, loss=0.071, v_nb=55]\n",
      "Epoch 1:  25%|██▍       | 45565/182400 [1:15:51<1:38:28, 23.16batch/s, batch_nb=43999, gpu=0, loss=0.071, v_nb=55]\n",
      "Epoch 1:  25%|██▍       | 45568/182400 [1:15:51<1:38:08, 23.24batch/s, batch_nb=43999, gpu=0, loss=0.071, v_nb=55]\n",
      "Epoch 1:  25%|██▍       | 45571/182400 [1:15:51<1:38:13, 23.22batch/s, batch_nb=43999, gpu=0, loss=0.071, v_nb=55]\n",
      "Epoch 1:  25%|██▍       | 45574/182400 [1:15:51<1:38:06, 23.24batch/s, batch_nb=43999, gpu=0, loss=0.071, v_nb=55]\n",
      "Epoch 1:  25%|██▍       | 45577/182400 [1:15:51<1:37:52, 23.30batch/s, batch_nb=43999, gpu=0, loss=0.071, v_nb=55]\n",
      "Epoch 1:  25%|██▍       | 45580/182400 [1:15:51<1:38:05, 23.25batch/s, batch_nb=43999, gpu=0, loss=0.071, v_nb=55]\n",
      "Epoch 1:  25%|██▍       | 45583/182400 [1:15:51<1:37:54, 23.29batch/s, batch_nb=43999, gpu=0, loss=0.071, v_nb=55]\n",
      "Epoch 1:  25%|██▍       | 45586/182400 [1:15:52<1:38:07, 23.24batch/s, batch_nb=43999, gpu=0, loss=0.071, v_nb=55]\n",
      "Epoch 1:  25%|██▍       | 45589/182400 [1:15:52<1:38:00, 23.27batch/s, batch_nb=43999, gpu=0, loss=0.071, v_nb=55]\n",
      "Epoch 1:  25%|██▍       | 45592/182400 [1:15:52<1:38:09, 23.23batch/s, batch_nb=43999, gpu=0, loss=0.071, v_nb=55]\n",
      "Epoch 1:  25%|██▍       | 45595/182400 [1:15:52<1:38:12, 23.22batch/s, batch_nb=43999, gpu=0, loss=0.071, v_nb=55]\n",
      "Epoch 1:  25%|██▌       | 45600/182400 [1:15:54<1:38:17, 23.20batch/s, batch_nb=43999, gpu=0, loss=0.071, v_nb=55]\n",
      "Epoch 1:  26%|██▌       | 47350/182400 [1:18:56<3:37:27, 10.35batch/s, batch_nb=45749, gpu=0, loss=0.069, v_nb=55] "
     ]
    },
    {
     "name": "stdout",
     "output_type": "stream",
     "text": [
      "Gradient overflow.  Skipping step, loss scaler 0 reducing loss scale to 4194304.0\n"
     ]
    },
    {
     "name": "stderr",
     "output_type": "stream",
     "text": [
      "Epoch 1:  27%|██▋       | 49438/182400 [1:22:30<3:36:29, 10.24batch/s, batch_nb=47837, gpu=0, loss=0.071, v_nb=55]"
     ]
    },
    {
     "name": "stdout",
     "output_type": "stream",
     "text": [
      "Gradient overflow.  Skipping step, loss scaler 0 reducing loss scale to 4194304.0\n"
     ]
    },
    {
     "name": "stderr",
     "output_type": "stream",
     "text": [
      "Epoch 1:  28%|██▊       | 51518/182400 [1:26:02<3:33:40, 10.21batch/s, batch_nb=49917, gpu=0, loss=0.069, v_nb=55]"
     ]
    },
    {
     "name": "stdout",
     "output_type": "stream",
     "text": [
      "Gradient overflow.  Skipping step, loss scaler 0 reducing loss scale to 4194304.0\n"
     ]
    },
    {
     "name": "stderr",
     "output_type": "stream",
     "text": [
      "Epoch 1:  30%|██▉       | 53998/182400 [1:30:17<3:30:32, 10.16batch/s, batch_nb=52397, gpu=0, loss=0.069, v_nb=55]"
     ]
    },
    {
     "name": "stdout",
     "output_type": "stream",
     "text": [
      "Gradient overflow.  Skipping step, loss scaler 0 reducing loss scale to 4194304.0\n"
     ]
    },
    {
     "name": "stderr",
     "output_type": "stream",
     "text": [
      "Epoch 1:  30%|██▉       | 54400/182400 [1:30:59<3:35:41,  9.89batch/s, batch_nb=52799, gpu=0, loss=0.068, v_nb=55]\n",
      "Validating:   0%|          | 0/320 [00:00<?, ?batch/s]\u001b[A\n",
      "Epoch 1:  30%|██▉       | 54403/182400 [1:30:59<2:59:57, 11.85batch/s, batch_nb=52799, gpu=0, loss=0.068, v_nb=55]\n",
      "Epoch 1:  30%|██▉       | 54406/182400 [1:30:59<2:34:16, 13.83batch/s, batch_nb=52799, gpu=0, loss=0.068, v_nb=55]\n",
      "Epoch 1:  30%|██▉       | 54409/182400 [1:30:59<2:15:34, 15.73batch/s, batch_nb=52799, gpu=0, loss=0.068, v_nb=55]\n",
      "Epoch 1:  30%|██▉       | 54412/182400 [1:30:59<2:02:38, 17.39batch/s, batch_nb=52799, gpu=0, loss=0.068, v_nb=55]\n",
      "Epoch 1:  30%|██▉       | 54415/182400 [1:30:59<1:53:54, 18.73batch/s, batch_nb=52799, gpu=0, loss=0.068, v_nb=55]\n",
      "Epoch 1:  30%|██▉       | 54418/182400 [1:30:59<1:47:23, 19.86batch/s, batch_nb=52799, gpu=0, loss=0.068, v_nb=55]\n",
      "Epoch 1:  30%|██▉       | 54421/182400 [1:31:00<1:42:42, 20.77batch/s, batch_nb=52799, gpu=0, loss=0.068, v_nb=55]\n",
      "Epoch 1:  30%|██▉       | 54424/182400 [1:31:00<1:39:28, 21.44batch/s, batch_nb=52799, gpu=0, loss=0.068, v_nb=55]\n",
      "Epoch 1:  30%|██▉       | 54427/182400 [1:31:00<1:37:09, 21.95batch/s, batch_nb=52799, gpu=0, loss=0.068, v_nb=55]\n",
      "Epoch 1:  30%|██▉       | 54430/182400 [1:31:00<1:35:31, 22.33batch/s, batch_nb=52799, gpu=0, loss=0.068, v_nb=55]\n",
      "Epoch 1:  30%|██▉       | 54433/182400 [1:31:00<1:35:27, 22.34batch/s, batch_nb=52799, gpu=0, loss=0.068, v_nb=55]\n",
      "Epoch 1:  30%|██▉       | 54436/182400 [1:31:00<1:34:33, 22.55batch/s, batch_nb=52799, gpu=0, loss=0.068, v_nb=55]\n",
      "Epoch 1:  30%|██▉       | 54439/182400 [1:31:00<1:33:52, 22.72batch/s, batch_nb=52799, gpu=0, loss=0.068, v_nb=55]\n",
      "Epoch 1:  30%|██▉       | 54442/182400 [1:31:01<1:33:28, 22.82batch/s, batch_nb=52799, gpu=0, loss=0.068, v_nb=55]\n",
      "Epoch 1:  30%|██▉       | 54445/182400 [1:31:01<1:33:33, 22.79batch/s, batch_nb=52799, gpu=0, loss=0.068, v_nb=55]\n",
      "Epoch 1:  30%|██▉       | 54448/182400 [1:31:01<1:33:16, 22.86batch/s, batch_nb=52799, gpu=0, loss=0.068, v_nb=55]\n",
      "Epoch 1:  30%|██▉       | 54451/182400 [1:31:01<1:33:27, 22.82batch/s, batch_nb=52799, gpu=0, loss=0.068, v_nb=55]\n",
      "Epoch 1:  30%|██▉       | 54454/182400 [1:31:01<1:33:00, 22.93batch/s, batch_nb=52799, gpu=0, loss=0.068, v_nb=55]\n",
      "Epoch 1:  30%|██▉       | 54457/182400 [1:31:01<1:33:08, 22.90batch/s, batch_nb=52799, gpu=0, loss=0.068, v_nb=55]\n",
      "Epoch 1:  30%|██▉       | 54460/182400 [1:31:01<1:32:49, 22.97batch/s, batch_nb=52799, gpu=0, loss=0.068, v_nb=55]\n",
      "Epoch 1:  30%|██▉       | 54463/182400 [1:31:01<1:32:40, 23.01batch/s, batch_nb=52799, gpu=0, loss=0.068, v_nb=55]\n",
      "Epoch 1:  30%|██▉       | 54466/182400 [1:31:02<1:32:40, 23.01batch/s, batch_nb=52799, gpu=0, loss=0.068, v_nb=55]\n",
      "Epoch 1:  30%|██▉       | 54469/182400 [1:31:02<1:32:25, 23.07batch/s, batch_nb=52799, gpu=0, loss=0.068, v_nb=55]\n",
      "Epoch 1:  30%|██▉       | 54472/182400 [1:31:02<1:33:01, 22.92batch/s, batch_nb=52799, gpu=0, loss=0.068, v_nb=55]\n",
      "Epoch 1:  30%|██▉       | 54475/182400 [1:31:02<1:33:10, 22.88batch/s, batch_nb=52799, gpu=0, loss=0.068, v_nb=55]\n",
      "Epoch 1:  30%|██▉       | 54478/182400 [1:31:02<1:32:57, 22.93batch/s, batch_nb=52799, gpu=0, loss=0.068, v_nb=55]\n",
      "Epoch 1:  30%|██▉       | 54481/182400 [1:31:02<1:32:42, 23.00batch/s, batch_nb=52799, gpu=0, loss=0.068, v_nb=55]\n",
      "Epoch 1:  30%|██▉       | 54484/182400 [1:31:02<1:32:41, 23.00batch/s, batch_nb=52799, gpu=0, loss=0.068, v_nb=55]\n",
      "Epoch 1:  30%|██▉       | 54487/182400 [1:31:02<1:32:32, 23.04batch/s, batch_nb=52799, gpu=0, loss=0.068, v_nb=55]\n",
      "Epoch 1:  30%|██▉       | 54490/182400 [1:31:03<1:32:29, 23.05batch/s, batch_nb=52799, gpu=0, loss=0.068, v_nb=55]\n",
      "Epoch 1:  30%|██▉       | 54493/182400 [1:31:03<1:32:29, 23.05batch/s, batch_nb=52799, gpu=0, loss=0.068, v_nb=55]\n",
      "Epoch 1:  30%|██▉       | 54496/182400 [1:31:03<1:32:44, 22.99batch/s, batch_nb=52799, gpu=0, loss=0.068, v_nb=55]\n",
      "Epoch 1:  30%|██▉       | 54499/182400 [1:31:03<1:32:31, 23.04batch/s, batch_nb=52799, gpu=0, loss=0.068, v_nb=55]\n",
      "Epoch 1:  30%|██▉       | 54502/182400 [1:31:03<1:32:13, 23.11batch/s, batch_nb=52799, gpu=0, loss=0.068, v_nb=55]\n",
      "Epoch 1:  30%|██▉       | 54505/182400 [1:31:03<1:31:55, 23.19batch/s, batch_nb=52799, gpu=0, loss=0.068, v_nb=55]\n",
      "Epoch 1:  30%|██▉       | 54508/182400 [1:31:03<1:31:40, 23.25batch/s, batch_nb=52799, gpu=0, loss=0.068, v_nb=55]\n",
      "Epoch 1:  30%|██▉       | 54511/182400 [1:31:04<1:31:30, 23.29batch/s, batch_nb=52799, gpu=0, loss=0.068, v_nb=55]\n",
      "Epoch 1:  30%|██▉       | 54514/182400 [1:31:04<1:31:32, 23.29batch/s, batch_nb=52799, gpu=0, loss=0.068, v_nb=55]\n",
      "Epoch 1:  30%|██▉       | 54517/182400 [1:31:04<1:31:20, 23.33batch/s, batch_nb=52799, gpu=0, loss=0.068, v_nb=55]\n",
      "Epoch 1:  30%|██▉       | 54520/182400 [1:31:04<1:31:17, 23.35batch/s, batch_nb=52799, gpu=0, loss=0.068, v_nb=55]\n",
      "Epoch 1:  30%|██▉       | 54523/182400 [1:31:04<1:31:09, 23.38batch/s, batch_nb=52799, gpu=0, loss=0.068, v_nb=55]\n",
      "Epoch 1:  30%|██▉       | 54526/182400 [1:31:04<1:31:11, 23.37batch/s, batch_nb=52799, gpu=0, loss=0.068, v_nb=55]\n",
      "Epoch 1:  30%|██▉       | 54529/182400 [1:31:04<1:31:02, 23.41batch/s, batch_nb=52799, gpu=0, loss=0.068, v_nb=55]\n",
      "Epoch 1:  30%|██▉       | 54532/182400 [1:31:04<1:31:11, 23.37batch/s, batch_nb=52799, gpu=0, loss=0.068, v_nb=55]\n",
      "Epoch 1:  30%|██▉       | 54535/182400 [1:31:05<1:31:20, 23.33batch/s, batch_nb=52799, gpu=0, loss=0.068, v_nb=55]\n",
      "Epoch 1:  30%|██▉       | 54538/182400 [1:31:05<1:31:37, 23.26batch/s, batch_nb=52799, gpu=0, loss=0.068, v_nb=55]\n",
      "Epoch 1:  30%|██▉       | 54541/182400 [1:31:05<1:31:17, 23.34batch/s, batch_nb=52799, gpu=0, loss=0.068, v_nb=55]\n",
      "Epoch 1:  30%|██▉       | 54544/182400 [1:31:05<1:31:17, 23.34batch/s, batch_nb=52799, gpu=0, loss=0.068, v_nb=55]\n",
      "Epoch 1:  30%|██▉       | 54547/182400 [1:31:05<1:31:15, 23.35batch/s, batch_nb=52799, gpu=0, loss=0.068, v_nb=55]\n",
      "Epoch 1:  30%|██▉       | 54550/182400 [1:31:05<1:31:00, 23.41batch/s, batch_nb=52799, gpu=0, loss=0.068, v_nb=55]\n",
      "Epoch 1:  30%|██▉       | 54553/182400 [1:31:05<1:31:00, 23.41batch/s, batch_nb=52799, gpu=0, loss=0.068, v_nb=55]\n",
      "Epoch 1:  30%|██▉       | 54556/182400 [1:31:05<1:31:00, 23.41batch/s, batch_nb=52799, gpu=0, loss=0.068, v_nb=55]\n",
      "Epoch 1:  30%|██▉       | 54559/182400 [1:31:06<1:31:12, 23.36batch/s, batch_nb=52799, gpu=0, loss=0.068, v_nb=55]\n",
      "Epoch 1:  30%|██▉       | 54562/182400 [1:31:06<1:31:26, 23.30batch/s, batch_nb=52799, gpu=0, loss=0.068, v_nb=55]\n",
      "Epoch 1:  30%|██▉       | 54565/182400 [1:31:06<1:31:28, 23.29batch/s, batch_nb=52799, gpu=0, loss=0.068, v_nb=55]\n",
      "Epoch 1:  30%|██▉       | 54568/182400 [1:31:06<1:31:44, 23.22batch/s, batch_nb=52799, gpu=0, loss=0.068, v_nb=55]\n",
      "Epoch 1:  30%|██▉       | 54571/182400 [1:31:06<1:31:34, 23.26batch/s, batch_nb=52799, gpu=0, loss=0.068, v_nb=55]\n",
      "Epoch 1:  30%|██▉       | 54574/182400 [1:31:06<1:31:26, 23.30batch/s, batch_nb=52799, gpu=0, loss=0.068, v_nb=55]\n",
      "Epoch 1:  30%|██▉       | 54577/182400 [1:31:06<1:31:48, 23.21batch/s, batch_nb=52799, gpu=0, loss=0.068, v_nb=55]\n",
      "Epoch 1:  30%|██▉       | 54580/182400 [1:31:06<1:31:33, 23.27batch/s, batch_nb=52799, gpu=0, loss=0.068, v_nb=55]\n",
      "Epoch 1:  30%|██▉       | 54583/182400 [1:31:07<1:31:18, 23.33batch/s, batch_nb=52799, gpu=0, loss=0.068, v_nb=55]\n",
      "Epoch 1:  30%|██▉       | 54586/182400 [1:31:07<1:31:32, 23.27batch/s, batch_nb=52799, gpu=0, loss=0.068, v_nb=55]\n",
      "Epoch 1:  30%|██▉       | 54589/182400 [1:31:07<1:31:44, 23.22batch/s, batch_nb=52799, gpu=0, loss=0.068, v_nb=55]\n",
      "Epoch 1:  30%|██▉       | 54592/182400 [1:31:07<1:31:52, 23.18batch/s, batch_nb=52799, gpu=0, loss=0.068, v_nb=55]\n",
      "Epoch 1:  30%|██▉       | 54595/182400 [1:31:07<1:31:40, 23.24batch/s, batch_nb=52799, gpu=0, loss=0.068, v_nb=55]\n",
      "Epoch 1:  30%|██▉       | 54598/182400 [1:31:07<1:31:41, 23.23batch/s, batch_nb=52799, gpu=0, loss=0.068, v_nb=55]\n",
      "Epoch 1:  30%|██▉       | 54601/182400 [1:31:07<1:31:53, 23.18batch/s, batch_nb=52799, gpu=0, loss=0.068, v_nb=55]\n",
      "Epoch 1:  30%|██▉       | 54604/182400 [1:31:08<1:31:54, 23.17batch/s, batch_nb=52799, gpu=0, loss=0.068, v_nb=55]\n",
      "Epoch 1:  30%|██▉       | 54607/182400 [1:31:08<1:31:56, 23.16batch/s, batch_nb=52799, gpu=0, loss=0.068, v_nb=55]\n"
     ]
    },
    {
     "name": "stderr",
     "output_type": "stream",
     "text": [
      "Epoch 1:  30%|██▉       | 54610/182400 [1:31:08<1:32:08, 23.11batch/s, batch_nb=52799, gpu=0, loss=0.068, v_nb=55]\n",
      "Epoch 1:  30%|██▉       | 54613/182400 [1:31:08<1:32:15, 23.09batch/s, batch_nb=52799, gpu=0, loss=0.068, v_nb=55]\n",
      "Epoch 1:  30%|██▉       | 54616/182400 [1:31:08<1:32:33, 23.01batch/s, batch_nb=52799, gpu=0, loss=0.068, v_nb=55]\n",
      "Epoch 1:  30%|██▉       | 54619/182400 [1:31:08<1:32:47, 22.95batch/s, batch_nb=52799, gpu=0, loss=0.068, v_nb=55]\n",
      "Epoch 1:  30%|██▉       | 54622/182400 [1:31:08<1:32:35, 23.00batch/s, batch_nb=52799, gpu=0, loss=0.068, v_nb=55]\n",
      "Epoch 1:  30%|██▉       | 54625/182400 [1:31:08<1:32:44, 22.96batch/s, batch_nb=52799, gpu=0, loss=0.068, v_nb=55]\n",
      "Epoch 1:  30%|██▉       | 54628/182400 [1:31:09<1:32:40, 22.98batch/s, batch_nb=52799, gpu=0, loss=0.068, v_nb=55]\n",
      "Epoch 1:  30%|██▉       | 54631/182400 [1:31:09<1:32:32, 23.01batch/s, batch_nb=52799, gpu=0, loss=0.068, v_nb=55]\n",
      "Epoch 1:  30%|██▉       | 54634/182400 [1:31:09<1:32:43, 22.97batch/s, batch_nb=52799, gpu=0, loss=0.068, v_nb=55]\n",
      "Epoch 1:  30%|██▉       | 54637/182400 [1:31:09<1:32:27, 23.03batch/s, batch_nb=52799, gpu=0, loss=0.068, v_nb=55]\n",
      "Epoch 1:  30%|██▉       | 54640/182400 [1:31:09<1:32:14, 23.09batch/s, batch_nb=52799, gpu=0, loss=0.068, v_nb=55]\n",
      "Epoch 1:  30%|██▉       | 54643/182400 [1:31:09<1:32:07, 23.11batch/s, batch_nb=52799, gpu=0, loss=0.068, v_nb=55]\n",
      "Epoch 1:  30%|██▉       | 54646/182400 [1:31:09<1:32:06, 23.12batch/s, batch_nb=52799, gpu=0, loss=0.068, v_nb=55]\n",
      "Epoch 1:  30%|██▉       | 54649/182400 [1:31:09<1:32:09, 23.10batch/s, batch_nb=52799, gpu=0, loss=0.068, v_nb=55]\n",
      "Epoch 1:  30%|██▉       | 54652/182400 [1:31:10<1:32:02, 23.13batch/s, batch_nb=52799, gpu=0, loss=0.068, v_nb=55]\n",
      "Epoch 1:  30%|██▉       | 54655/182400 [1:31:10<1:32:12, 23.09batch/s, batch_nb=52799, gpu=0, loss=0.068, v_nb=55]\n",
      "Epoch 1:  30%|██▉       | 54658/182400 [1:31:10<1:32:18, 23.07batch/s, batch_nb=52799, gpu=0, loss=0.068, v_nb=55]\n",
      "Epoch 1:  30%|██▉       | 54661/182400 [1:31:10<1:32:34, 23.00batch/s, batch_nb=52799, gpu=0, loss=0.068, v_nb=55]\n",
      "Epoch 1:  30%|██▉       | 54664/182400 [1:31:10<1:32:35, 22.99batch/s, batch_nb=52799, gpu=0, loss=0.068, v_nb=55]\n",
      "Epoch 1:  30%|██▉       | 54667/182400 [1:31:10<1:32:35, 22.99batch/s, batch_nb=52799, gpu=0, loss=0.068, v_nb=55]\n",
      "Epoch 1:  30%|██▉       | 54670/182400 [1:31:10<1:32:36, 22.99batch/s, batch_nb=52799, gpu=0, loss=0.068, v_nb=55]\n",
      "Epoch 1:  30%|██▉       | 54673/182400 [1:31:11<1:32:31, 23.01batch/s, batch_nb=52799, gpu=0, loss=0.068, v_nb=55]\n",
      "Epoch 1:  30%|██▉       | 54676/182400 [1:31:11<1:32:23, 23.04batch/s, batch_nb=52799, gpu=0, loss=0.068, v_nb=55]\n",
      "Epoch 1:  30%|██▉       | 54679/182400 [1:31:11<1:32:13, 23.08batch/s, batch_nb=52799, gpu=0, loss=0.068, v_nb=55]\n",
      "Epoch 1:  30%|██▉       | 54682/182400 [1:31:11<1:32:02, 23.13batch/s, batch_nb=52799, gpu=0, loss=0.068, v_nb=55]\n",
      "Epoch 1:  30%|██▉       | 54685/182400 [1:31:11<1:32:03, 23.12batch/s, batch_nb=52799, gpu=0, loss=0.068, v_nb=55]\n",
      "Epoch 1:  30%|██▉       | 54688/182400 [1:31:11<1:31:57, 23.15batch/s, batch_nb=52799, gpu=0, loss=0.068, v_nb=55]\n",
      "Epoch 1:  30%|██▉       | 54691/182400 [1:31:11<1:31:56, 23.15batch/s, batch_nb=52799, gpu=0, loss=0.068, v_nb=55]\n",
      "Epoch 1:  30%|██▉       | 54694/182400 [1:31:11<1:31:57, 23.14batch/s, batch_nb=52799, gpu=0, loss=0.068, v_nb=55]\n",
      "Epoch 1:  30%|██▉       | 54697/182400 [1:31:12<1:31:57, 23.14batch/s, batch_nb=52799, gpu=0, loss=0.068, v_nb=55]\n",
      "Epoch 1:  30%|██▉       | 54700/182400 [1:31:12<1:31:59, 23.14batch/s, batch_nb=52799, gpu=0, loss=0.068, v_nb=55]\n",
      "Epoch 1:  30%|██▉       | 54703/182400 [1:31:12<1:31:59, 23.14batch/s, batch_nb=52799, gpu=0, loss=0.068, v_nb=55]\n",
      "Epoch 1:  30%|██▉       | 54706/182400 [1:31:12<1:31:54, 23.16batch/s, batch_nb=52799, gpu=0, loss=0.068, v_nb=55]\n",
      "Epoch 1:  30%|██▉       | 54709/182400 [1:31:12<1:31:54, 23.15batch/s, batch_nb=52799, gpu=0, loss=0.068, v_nb=55]\n",
      "Epoch 1:  30%|██▉       | 54712/182400 [1:31:12<1:31:49, 23.18batch/s, batch_nb=52799, gpu=0, loss=0.068, v_nb=55]\n",
      "Epoch 1:  30%|██▉       | 54715/182400 [1:31:12<1:31:23, 23.29batch/s, batch_nb=52799, gpu=0, loss=0.068, v_nb=55]\n",
      "Epoch 1:  30%|███       | 54720/182400 [1:31:14<1:31:28, 23.26batch/s, batch_nb=52799, gpu=0, loss=0.068, v_nb=55]\n",
      "Epoch 1:  31%|███       | 56318/182400 [1:34:01<3:24:24, 10.28batch/s, batch_nb=54397, gpu=0, loss=0.068, v_nb=55] "
     ]
    },
    {
     "name": "stdout",
     "output_type": "stream",
     "text": [
      "Gradient overflow.  Skipping step, loss scaler 0 reducing loss scale to 4194304.0\n"
     ]
    },
    {
     "name": "stderr",
     "output_type": "stream",
     "text": [
      "Epoch 1:  32%|███▏      | 58746/182400 [1:38:12<3:26:52,  9.96batch/s, batch_nb=56825, gpu=0, loss=0.068, v_nb=55]"
     ]
    },
    {
     "name": "stdout",
     "output_type": "stream",
     "text": [
      "Gradient overflow.  Skipping step, loss scaler 0 reducing loss scale to 4194304.0\n"
     ]
    },
    {
     "name": "stderr",
     "output_type": "stream",
     "text": [
      "Epoch 1:  33%|███▎      | 60814/182400 [1:41:46<3:24:54,  9.89batch/s, batch_nb=58893, gpu=0, loss=0.070, v_nb=55]"
     ]
    },
    {
     "name": "stdout",
     "output_type": "stream",
     "text": [
      "Gradient overflow.  Skipping step, loss scaler 0 reducing loss scale to 4194304.0\n"
     ]
    },
    {
     "name": "stderr",
     "output_type": "stream",
     "text": [
      "Epoch 1:  35%|███▍      | 63061/182400 [1:45:38<3:16:30, 10.12batch/s, batch_nb=61140, gpu=0, loss=0.068, v_nb=55]"
     ]
    },
    {
     "name": "stdout",
     "output_type": "stream",
     "text": [
      "Gradient overflow.  Skipping step, loss scaler 0 reducing loss scale to 4194304.0\n"
     ]
    },
    {
     "name": "stderr",
     "output_type": "stream",
     "text": [
      "Epoch 1:  35%|███▍      | 63520/182400 [1:46:26<3:20:04,  9.90batch/s, batch_nb=61599, gpu=0, loss=0.069, v_nb=55]\n",
      "Validating:   0%|          | 0/320 [00:00<?, ?batch/s]\u001b[A\n",
      "Epoch 1:  35%|███▍      | 63523/182400 [1:46:26<2:46:58, 11.87batch/s, batch_nb=61599, gpu=0, loss=0.069, v_nb=55]\n",
      "Epoch 1:  35%|███▍      | 63526/182400 [1:46:26<2:23:28, 13.81batch/s, batch_nb=61599, gpu=0, loss=0.069, v_nb=55]\n",
      "Epoch 1:  35%|███▍      | 63529/182400 [1:46:26<2:05:58, 15.73batch/s, batch_nb=61599, gpu=0, loss=0.069, v_nb=55]\n",
      "Epoch 1:  35%|███▍      | 63532/182400 [1:46:26<1:53:39, 17.43batch/s, batch_nb=61599, gpu=0, loss=0.069, v_nb=55]\n",
      "Epoch 1:  35%|███▍      | 63535/182400 [1:46:26<1:45:15, 18.82batch/s, batch_nb=61599, gpu=0, loss=0.069, v_nb=55]\n",
      "Epoch 1:  35%|███▍      | 63538/182400 [1:46:27<1:39:22, 19.93batch/s, batch_nb=61599, gpu=0, loss=0.069, v_nb=55]\n",
      "Epoch 1:  35%|███▍      | 63541/182400 [1:46:27<1:35:20, 20.78batch/s, batch_nb=61599, gpu=0, loss=0.069, v_nb=55]\n",
      "Epoch 1:  35%|███▍      | 63544/182400 [1:46:27<1:32:25, 21.43batch/s, batch_nb=61599, gpu=0, loss=0.069, v_nb=55]\n",
      "Epoch 1:  35%|███▍      | 63547/182400 [1:46:27<1:30:06, 21.98batch/s, batch_nb=61599, gpu=0, loss=0.069, v_nb=55]\n",
      "Epoch 1:  35%|███▍      | 63550/182400 [1:46:27<1:28:31, 22.38batch/s, batch_nb=61599, gpu=0, loss=0.069, v_nb=55]\n",
      "Epoch 1:  35%|███▍      | 63553/182400 [1:46:27<1:27:20, 22.68batch/s, batch_nb=61599, gpu=0, loss=0.069, v_nb=55]\n",
      "Epoch 1:  35%|███▍      | 63556/182400 [1:46:27<1:26:37, 22.87batch/s, batch_nb=61599, gpu=0, loss=0.069, v_nb=55]\n",
      "Epoch 1:  35%|███▍      | 63559/182400 [1:46:27<1:26:24, 22.92batch/s, batch_nb=61599, gpu=0, loss=0.069, v_nb=55]\n",
      "Epoch 1:  35%|███▍      | 63562/182400 [1:46:28<1:26:24, 22.92batch/s, batch_nb=61599, gpu=0, loss=0.069, v_nb=55]\n",
      "Epoch 1:  35%|███▍      | 63565/182400 [1:46:28<1:26:03, 23.01batch/s, batch_nb=61599, gpu=0, loss=0.069, v_nb=55]\n",
      "Epoch 1:  35%|███▍      | 63568/182400 [1:46:28<1:25:37, 23.13batch/s, batch_nb=61599, gpu=0, loss=0.069, v_nb=55]\n",
      "Epoch 1:  35%|███▍      | 63571/182400 [1:46:28<1:25:33, 23.15batch/s, batch_nb=61599, gpu=0, loss=0.069, v_nb=55]\n",
      "Epoch 1:  35%|███▍      | 63574/182400 [1:46:28<1:25:26, 23.18batch/s, batch_nb=61599, gpu=0, loss=0.069, v_nb=55]\n",
      "Epoch 1:  35%|███▍      | 63577/182400 [1:46:28<1:25:21, 23.20batch/s, batch_nb=61599, gpu=0, loss=0.069, v_nb=55]\n",
      "Epoch 1:  35%|███▍      | 63580/182400 [1:46:28<1:25:12, 23.24batch/s, batch_nb=61599, gpu=0, loss=0.069, v_nb=55]\n",
      "Epoch 1:  35%|███▍      | 63583/182400 [1:46:29<1:25:17, 23.22batch/s, batch_nb=61599, gpu=0, loss=0.069, v_nb=55]\n",
      "Epoch 1:  35%|███▍      | 63586/182400 [1:46:29<1:25:03, 23.28batch/s, batch_nb=61599, gpu=0, loss=0.069, v_nb=55]\n",
      "Epoch 1:  35%|███▍      | 63589/182400 [1:46:29<1:24:53, 23.32batch/s, batch_nb=61599, gpu=0, loss=0.069, v_nb=55]\n",
      "Epoch 1:  35%|███▍      | 63592/182400 [1:46:29<1:24:57, 23.31batch/s, batch_nb=61599, gpu=0, loss=0.069, v_nb=55]\n",
      "Epoch 1:  35%|███▍      | 63595/182400 [1:46:29<1:25:06, 23.26batch/s, batch_nb=61599, gpu=0, loss=0.069, v_nb=55]\n",
      "Epoch 1:  35%|███▍      | 63598/182400 [1:46:29<1:25:21, 23.20batch/s, batch_nb=61599, gpu=0, loss=0.069, v_nb=55]\n",
      "Epoch 1:  35%|███▍      | 63601/182400 [1:46:29<1:25:42, 23.10batch/s, batch_nb=61599, gpu=0, loss=0.069, v_nb=55]\n",
      "Epoch 1:  35%|███▍      | 63604/182400 [1:46:29<1:26:01, 23.02batch/s, batch_nb=61599, gpu=0, loss=0.069, v_nb=55]\n",
      "Epoch 1:  35%|███▍      | 63607/182400 [1:46:30<1:25:52, 23.06batch/s, batch_nb=61599, gpu=0, loss=0.069, v_nb=55]\n",
      "Epoch 1:  35%|███▍      | 63610/182400 [1:46:30<1:26:00, 23.02batch/s, batch_nb=61599, gpu=0, loss=0.069, v_nb=55]\n",
      "Epoch 1:  35%|███▍      | 63613/182400 [1:46:30<1:26:10, 22.98batch/s, batch_nb=61599, gpu=0, loss=0.069, v_nb=55]\n",
      "Epoch 1:  35%|███▍      | 63616/182400 [1:46:30<1:26:23, 22.91batch/s, batch_nb=61599, gpu=0, loss=0.069, v_nb=55]\n",
      "Epoch 1:  35%|███▍      | 63619/182400 [1:46:30<1:26:23, 22.92batch/s, batch_nb=61599, gpu=0, loss=0.069, v_nb=55]\n",
      "Epoch 1:  35%|███▍      | 63622/182400 [1:46:30<1:25:43, 23.09batch/s, batch_nb=61599, gpu=0, loss=0.069, v_nb=55]\n",
      "Epoch 1:  35%|███▍      | 63625/182400 [1:46:30<1:25:23, 23.18batch/s, batch_nb=61599, gpu=0, loss=0.069, v_nb=55]\n",
      "Epoch 1:  35%|███▍      | 63628/182400 [1:46:30<1:25:08, 23.25batch/s, batch_nb=61599, gpu=0, loss=0.069, v_nb=55]\n",
      "Epoch 1:  35%|███▍      | 63631/182400 [1:46:31<1:24:51, 23.33batch/s, batch_nb=61599, gpu=0, loss=0.069, v_nb=55]\n",
      "Epoch 1:  35%|███▍      | 63634/182400 [1:46:31<1:24:44, 23.36batch/s, batch_nb=61599, gpu=0, loss=0.069, v_nb=55]\n",
      "Epoch 1:  35%|███▍      | 63637/182400 [1:46:31<1:24:42, 23.37batch/s, batch_nb=61599, gpu=0, loss=0.069, v_nb=55]\n",
      "Epoch 1:  35%|███▍      | 63640/182400 [1:46:31<1:24:33, 23.41batch/s, batch_nb=61599, gpu=0, loss=0.069, v_nb=55]\n",
      "Epoch 1:  35%|███▍      | 63643/182400 [1:46:31<1:24:46, 23.35batch/s, batch_nb=61599, gpu=0, loss=0.069, v_nb=55]\n",
      "Epoch 1:  35%|███▍      | 63646/182400 [1:46:31<1:24:41, 23.37batch/s, batch_nb=61599, gpu=0, loss=0.069, v_nb=55]\n",
      "Epoch 1:  35%|███▍      | 63649/182400 [1:46:31<1:24:34, 23.40batch/s, batch_nb=61599, gpu=0, loss=0.069, v_nb=55]\n",
      "Epoch 1:  35%|███▍      | 63652/182400 [1:46:31<1:24:36, 23.39batch/s, batch_nb=61599, gpu=0, loss=0.069, v_nb=55]\n",
      "Epoch 1:  35%|███▍      | 63655/182400 [1:46:32<1:24:40, 23.37batch/s, batch_nb=61599, gpu=0, loss=0.069, v_nb=55]\n",
      "Epoch 1:  35%|███▍      | 63658/182400 [1:46:32<1:24:59, 23.29batch/s, batch_nb=61599, gpu=0, loss=0.069, v_nb=55]\n",
      "Epoch 1:  35%|███▍      | 63661/182400 [1:46:32<1:24:49, 23.33batch/s, batch_nb=61599, gpu=0, loss=0.069, v_nb=55]\n",
      "Epoch 1:  35%|███▍      | 63664/182400 [1:46:32<1:24:45, 23.35batch/s, batch_nb=61599, gpu=0, loss=0.069, v_nb=55]\n",
      "Epoch 1:  35%|███▍      | 63667/182400 [1:46:32<1:24:39, 23.38batch/s, batch_nb=61599, gpu=0, loss=0.069, v_nb=55]\n",
      "Epoch 1:  35%|███▍      | 63670/182400 [1:46:32<1:24:37, 23.38batch/s, batch_nb=61599, gpu=0, loss=0.069, v_nb=55]\n",
      "Epoch 1:  35%|███▍      | 63673/182400 [1:46:32<1:25:02, 23.27batch/s, batch_nb=61599, gpu=0, loss=0.069, v_nb=55]\n",
      "Epoch 1:  35%|███▍      | 63676/182400 [1:46:33<1:25:30, 23.14batch/s, batch_nb=61599, gpu=0, loss=0.069, v_nb=55]\n",
      "Epoch 1:  35%|███▍      | 63679/182400 [1:46:33<1:25:41, 23.09batch/s, batch_nb=61599, gpu=0, loss=0.069, v_nb=55]\n",
      "Epoch 1:  35%|███▍      | 63682/182400 [1:46:33<1:25:49, 23.05batch/s, batch_nb=61599, gpu=0, loss=0.069, v_nb=55]\n",
      "Epoch 1:  35%|███▍      | 63685/182400 [1:46:33<1:25:52, 23.04batch/s, batch_nb=61599, gpu=0, loss=0.069, v_nb=55]\n",
      "Epoch 1:  35%|███▍      | 63688/182400 [1:46:33<1:25:37, 23.11batch/s, batch_nb=61599, gpu=0, loss=0.069, v_nb=55]\n",
      "Epoch 1:  35%|███▍      | 63691/182400 [1:46:33<1:25:40, 23.09batch/s, batch_nb=61599, gpu=0, loss=0.069, v_nb=55]\n",
      "Epoch 1:  35%|███▍      | 63694/182400 [1:46:33<1:25:31, 23.13batch/s, batch_nb=61599, gpu=0, loss=0.069, v_nb=55]\n",
      "Epoch 1:  35%|███▍      | 63697/182400 [1:46:33<1:25:24, 23.16batch/s, batch_nb=61599, gpu=0, loss=0.069, v_nb=55]\n",
      "Epoch 1:  35%|███▍      | 63700/182400 [1:46:34<1:25:13, 23.21batch/s, batch_nb=61599, gpu=0, loss=0.069, v_nb=55]\n",
      "Epoch 1:  35%|███▍      | 63703/182400 [1:46:34<1:25:14, 23.21batch/s, batch_nb=61599, gpu=0, loss=0.069, v_nb=55]\n",
      "Epoch 1:  35%|███▍      | 63706/182400 [1:46:34<1:25:18, 23.19batch/s, batch_nb=61599, gpu=0, loss=0.069, v_nb=55]\n",
      "Epoch 1:  35%|███▍      | 63709/182400 [1:46:34<1:25:28, 23.14batch/s, batch_nb=61599, gpu=0, loss=0.069, v_nb=55]\n",
      "Epoch 1:  35%|███▍      | 63712/182400 [1:46:34<1:25:37, 23.10batch/s, batch_nb=61599, gpu=0, loss=0.069, v_nb=55]\n",
      "Epoch 1:  35%|███▍      | 63715/182400 [1:46:34<1:25:43, 23.07batch/s, batch_nb=61599, gpu=0, loss=0.069, v_nb=55]\n",
      "Epoch 1:  35%|███▍      | 63718/182400 [1:46:34<1:25:43, 23.07batch/s, batch_nb=61599, gpu=0, loss=0.069, v_nb=55]\n",
      "Epoch 1:  35%|███▍      | 63721/182400 [1:46:34<1:25:38, 23.10batch/s, batch_nb=61599, gpu=0, loss=0.069, v_nb=55]\n",
      "Epoch 1:  35%|███▍      | 63724/182400 [1:46:35<1:25:29, 23.14batch/s, batch_nb=61599, gpu=0, loss=0.069, v_nb=55]\n",
      "Epoch 1:  35%|███▍      | 63727/182400 [1:46:35<1:25:20, 23.18batch/s, batch_nb=61599, gpu=0, loss=0.069, v_nb=55]\n"
     ]
    },
    {
     "name": "stderr",
     "output_type": "stream",
     "text": [
      "Epoch 1:  35%|███▍      | 63730/182400 [1:46:35<1:25:04, 23.25batch/s, batch_nb=61599, gpu=0, loss=0.069, v_nb=55]\n",
      "Epoch 1:  35%|███▍      | 63733/182400 [1:46:35<1:24:53, 23.30batch/s, batch_nb=61599, gpu=0, loss=0.069, v_nb=55]\n",
      "Epoch 1:  35%|███▍      | 63736/182400 [1:46:35<1:25:03, 23.25batch/s, batch_nb=61599, gpu=0, loss=0.069, v_nb=55]\n",
      "Epoch 1:  35%|███▍      | 63739/182400 [1:46:35<1:24:49, 23.32batch/s, batch_nb=61599, gpu=0, loss=0.069, v_nb=55]\n",
      "Epoch 1:  35%|███▍      | 63742/182400 [1:46:35<1:24:43, 23.34batch/s, batch_nb=61599, gpu=0, loss=0.069, v_nb=55]\n",
      "Epoch 1:  35%|███▍      | 63745/182400 [1:46:36<1:24:42, 23.35batch/s, batch_nb=61599, gpu=0, loss=0.069, v_nb=55]\n",
      "Epoch 1:  35%|███▍      | 63748/182400 [1:46:36<1:24:37, 23.37batch/s, batch_nb=61599, gpu=0, loss=0.069, v_nb=55]\n",
      "Epoch 1:  35%|███▍      | 63751/182400 [1:46:36<1:25:13, 23.20batch/s, batch_nb=61599, gpu=0, loss=0.069, v_nb=55]\n",
      "Epoch 1:  35%|███▍      | 63754/182400 [1:46:36<1:25:23, 23.16batch/s, batch_nb=61599, gpu=0, loss=0.069, v_nb=55]\n",
      "Epoch 1:  35%|███▍      | 63757/182400 [1:46:36<1:25:33, 23.11batch/s, batch_nb=61599, gpu=0, loss=0.069, v_nb=55]\n",
      "Epoch 1:  35%|███▍      | 63760/182400 [1:46:36<1:25:41, 23.07batch/s, batch_nb=61599, gpu=0, loss=0.069, v_nb=55]\n",
      "Epoch 1:  35%|███▍      | 63763/182400 [1:46:36<1:25:54, 23.02batch/s, batch_nb=61599, gpu=0, loss=0.069, v_nb=55]\n",
      "Epoch 1:  35%|███▍      | 63766/182400 [1:46:36<1:25:45, 23.06batch/s, batch_nb=61599, gpu=0, loss=0.069, v_nb=55]\n",
      "Epoch 1:  35%|███▍      | 63769/182400 [1:46:37<1:25:23, 23.15batch/s, batch_nb=61599, gpu=0, loss=0.069, v_nb=55]\n",
      "Epoch 1:  35%|███▍      | 63772/182400 [1:46:37<1:25:17, 23.18batch/s, batch_nb=61599, gpu=0, loss=0.069, v_nb=55]\n",
      "Epoch 1:  35%|███▍      | 63775/182400 [1:46:37<1:25:21, 23.16batch/s, batch_nb=61599, gpu=0, loss=0.069, v_nb=55]\n",
      "Epoch 1:  35%|███▍      | 63778/182400 [1:46:37<1:25:40, 23.08batch/s, batch_nb=61599, gpu=0, loss=0.069, v_nb=55]\n",
      "Epoch 1:  35%|███▍      | 63781/182400 [1:46:37<1:25:33, 23.11batch/s, batch_nb=61599, gpu=0, loss=0.069, v_nb=55]\n",
      "Epoch 1:  35%|███▍      | 63784/182400 [1:46:37<1:25:27, 23.14batch/s, batch_nb=61599, gpu=0, loss=0.069, v_nb=55]\n",
      "Epoch 1:  35%|███▍      | 63787/182400 [1:46:37<1:25:15, 23.19batch/s, batch_nb=61599, gpu=0, loss=0.069, v_nb=55]\n",
      "Epoch 1:  35%|███▍      | 63790/182400 [1:46:37<1:25:09, 23.22batch/s, batch_nb=61599, gpu=0, loss=0.069, v_nb=55]\n",
      "Epoch 1:  35%|███▍      | 63793/182400 [1:46:38<1:25:08, 23.22batch/s, batch_nb=61599, gpu=0, loss=0.069, v_nb=55]\n",
      "Epoch 1:  35%|███▍      | 63796/182400 [1:46:38<1:25:08, 23.22batch/s, batch_nb=61599, gpu=0, loss=0.069, v_nb=55]\n",
      "Epoch 1:  35%|███▍      | 63799/182400 [1:46:38<1:25:06, 23.22batch/s, batch_nb=61599, gpu=0, loss=0.069, v_nb=55]\n",
      "Epoch 1:  35%|███▍      | 63802/182400 [1:46:38<1:25:01, 23.25batch/s, batch_nb=61599, gpu=0, loss=0.069, v_nb=55]\n",
      "Epoch 1:  35%|███▍      | 63805/182400 [1:46:38<1:24:54, 23.28batch/s, batch_nb=61599, gpu=0, loss=0.069, v_nb=55]\n",
      "Epoch 1:  35%|███▍      | 63808/182400 [1:46:38<1:24:41, 23.34batch/s, batch_nb=61599, gpu=0, loss=0.069, v_nb=55]\n",
      "Epoch 1:  35%|███▍      | 63811/182400 [1:46:38<1:24:36, 23.36batch/s, batch_nb=61599, gpu=0, loss=0.069, v_nb=55]\n",
      "Epoch 1:  35%|███▍      | 63814/182400 [1:46:38<1:24:29, 23.39batch/s, batch_nb=61599, gpu=0, loss=0.069, v_nb=55]\n",
      "Epoch 1:  35%|███▍      | 63817/182400 [1:46:39<1:24:28, 23.40batch/s, batch_nb=61599, gpu=0, loss=0.069, v_nb=55]\n",
      "Epoch 1:  35%|███▍      | 63820/182400 [1:46:39<1:24:24, 23.41batch/s, batch_nb=61599, gpu=0, loss=0.069, v_nb=55]\n",
      "Epoch 1:  35%|███▍      | 63823/182400 [1:46:39<1:24:24, 23.41batch/s, batch_nb=61599, gpu=0, loss=0.069, v_nb=55]\n",
      "Epoch 1:  35%|███▍      | 63826/182400 [1:46:39<1:24:38, 23.35batch/s, batch_nb=61599, gpu=0, loss=0.069, v_nb=55]\n",
      "Epoch 1:  35%|███▍      | 63829/182400 [1:46:39<1:24:50, 23.29batch/s, batch_nb=61599, gpu=0, loss=0.069, v_nb=55]\n",
      "Epoch 1:  35%|███▍      | 63832/182400 [1:46:39<1:25:09, 23.20batch/s, batch_nb=61599, gpu=0, loss=0.069, v_nb=55]\n",
      "Epoch 1:  35%|███▍      | 63835/182400 [1:46:39<1:24:51, 23.29batch/s, batch_nb=61599, gpu=0, loss=0.069, v_nb=55]\n",
      "Epoch 1:  35%|███▌      | 63840/182400 [1:46:41<1:25:04, 23.23batch/s, batch_nb=61599, gpu=0, loss=0.069, v_nb=55]\n",
      "Epoch 1:  35%|███▌      | 64141/182400 [1:47:15<3:14:04, 10.16batch/s, batch_nb=61900, gpu=0, loss=0.069, v_nb=55] "
     ]
    },
    {
     "name": "stdout",
     "output_type": "stream",
     "text": [
      "Gradient overflow.  Skipping step, loss scaler 0 reducing loss scale to 2097152.0\n"
     ]
    },
    {
     "name": "stderr",
     "output_type": "stream",
     "text": [
      "Epoch 1:  37%|███▋      | 68286/182400 [1:54:26<3:10:01, 10.01batch/s, batch_nb=66045, gpu=0, loss=0.069, v_nb=55]"
     ]
    },
    {
     "name": "stdout",
     "output_type": "stream",
     "text": [
      "Gradient overflow.  Skipping step, loss scaler 0 reducing loss scale to 4194304.0\n"
     ]
    },
    {
     "name": "stderr",
     "output_type": "stream",
     "text": [
      "Epoch 1:  39%|███▊      | 70566/182400 [1:58:24<3:07:27,  9.94batch/s, batch_nb=68325, gpu=0, loss=0.066, v_nb=55]"
     ]
    },
    {
     "name": "stdout",
     "output_type": "stream",
     "text": [
      "Gradient overflow.  Skipping step, loss scaler 0 reducing loss scale to 4194304.0\n"
     ]
    },
    {
     "name": "stderr",
     "output_type": "stream",
     "text": [
      "Epoch 1:  40%|███▉      | 72618/182400 [2:01:58<3:01:03, 10.11batch/s, batch_nb=70377, gpu=0, loss=0.068, v_nb=55]"
     ]
    },
    {
     "name": "stdout",
     "output_type": "stream",
     "text": [
      "Gradient overflow.  Skipping step, loss scaler 0 reducing loss scale to 4194304.0\n"
     ]
    },
    {
     "name": "stderr",
     "output_type": "stream",
     "text": [
      "Epoch 1:  40%|███▉      | 72640/182400 [2:02:00<3:03:00, 10.00batch/s, batch_nb=70399, gpu=0, loss=0.068, v_nb=55]\n",
      "Validating:   0%|          | 0/320 [00:00<?, ?batch/s]\u001b[A\n",
      "Epoch 1:  40%|███▉      | 72643/182400 [2:02:00<2:32:54, 11.96batch/s, batch_nb=70399, gpu=0, loss=0.068, v_nb=55]\n",
      "Epoch 1:  40%|███▉      | 72646/182400 [2:02:01<2:10:30, 14.02batch/s, batch_nb=70399, gpu=0, loss=0.068, v_nb=55]\n",
      "Epoch 1:  40%|███▉      | 72649/182400 [2:02:01<1:54:49, 15.93batch/s, batch_nb=70399, gpu=0, loss=0.068, v_nb=55]\n",
      "Epoch 1:  40%|███▉      | 72652/182400 [2:02:01<1:43:44, 17.63batch/s, batch_nb=70399, gpu=0, loss=0.068, v_nb=55]\n",
      "Epoch 1:  40%|███▉      | 72655/182400 [2:02:01<1:36:01, 19.05batch/s, batch_nb=70399, gpu=0, loss=0.068, v_nb=55]\n",
      "Epoch 1:  40%|███▉      | 72658/182400 [2:02:01<1:30:43, 20.16batch/s, batch_nb=70399, gpu=0, loss=0.068, v_nb=55]\n",
      "Epoch 1:  40%|███▉      | 72661/182400 [2:02:01<1:26:53, 21.05batch/s, batch_nb=70399, gpu=0, loss=0.068, v_nb=55]\n",
      "Epoch 1:  40%|███▉      | 72664/182400 [2:02:01<1:24:19, 21.69batch/s, batch_nb=70399, gpu=0, loss=0.068, v_nb=55]\n",
      "Epoch 1:  40%|███▉      | 72667/182400 [2:02:02<1:22:27, 22.18batch/s, batch_nb=70399, gpu=0, loss=0.068, v_nb=55]\n",
      "Epoch 1:  40%|███▉      | 72670/182400 [2:02:02<1:21:03, 22.56batch/s, batch_nb=70399, gpu=0, loss=0.068, v_nb=55]\n",
      "Epoch 1:  40%|███▉      | 72673/182400 [2:02:02<1:20:12, 22.80batch/s, batch_nb=70399, gpu=0, loss=0.068, v_nb=55]\n",
      "Epoch 1:  40%|███▉      | 72676/182400 [2:02:02<1:19:36, 22.97batch/s, batch_nb=70399, gpu=0, loss=0.068, v_nb=55]\n",
      "Epoch 1:  40%|███▉      | 72679/182400 [2:02:02<1:19:09, 23.10batch/s, batch_nb=70399, gpu=0, loss=0.068, v_nb=55]\n",
      "Epoch 1:  40%|███▉      | 72682/182400 [2:02:02<1:18:40, 23.24batch/s, batch_nb=70399, gpu=0, loss=0.068, v_nb=55]\n",
      "Epoch 1:  40%|███▉      | 72685/182400 [2:02:02<1:18:26, 23.31batch/s, batch_nb=70399, gpu=0, loss=0.068, v_nb=55]\n",
      "Epoch 1:  40%|███▉      | 72688/182400 [2:02:02<1:18:21, 23.34batch/s, batch_nb=70399, gpu=0, loss=0.068, v_nb=55]\n",
      "Epoch 1:  40%|███▉      | 72691/182400 [2:02:03<1:18:12, 23.38batch/s, batch_nb=70399, gpu=0, loss=0.068, v_nb=55]\n",
      "Epoch 1:  40%|███▉      | 72694/182400 [2:02:03<1:18:24, 23.32batch/s, batch_nb=70399, gpu=0, loss=0.068, v_nb=55]\n",
      "Epoch 1:  40%|███▉      | 72697/182400 [2:02:03<1:18:36, 23.26batch/s, batch_nb=70399, gpu=0, loss=0.068, v_nb=55]\n",
      "Epoch 1:  40%|███▉      | 72700/182400 [2:02:03<1:18:44, 23.22batch/s, batch_nb=70399, gpu=0, loss=0.068, v_nb=55]\n",
      "Epoch 1:  40%|███▉      | 72703/182400 [2:02:03<1:18:41, 23.24batch/s, batch_nb=70399, gpu=0, loss=0.068, v_nb=55]\n",
      "Epoch 1:  40%|███▉      | 72706/182400 [2:02:03<1:18:49, 23.20batch/s, batch_nb=70399, gpu=0, loss=0.068, v_nb=55]\n",
      "Epoch 1:  40%|███▉      | 72709/182400 [2:02:03<1:18:59, 23.15batch/s, batch_nb=70399, gpu=0, loss=0.068, v_nb=55]\n",
      "Epoch 1:  40%|███▉      | 72712/182400 [2:02:03<1:18:59, 23.14batch/s, batch_nb=70399, gpu=0, loss=0.068, v_nb=55]\n",
      "Epoch 1:  40%|███▉      | 72715/182400 [2:02:04<1:18:55, 23.16batch/s, batch_nb=70399, gpu=0, loss=0.068, v_nb=55]\n",
      "Epoch 1:  40%|███▉      | 72718/182400 [2:02:04<1:18:46, 23.21batch/s, batch_nb=70399, gpu=0, loss=0.068, v_nb=55]\n",
      "Epoch 1:  40%|███▉      | 72721/182400 [2:02:04<1:18:34, 23.26batch/s, batch_nb=70399, gpu=0, loss=0.068, v_nb=55]\n",
      "Epoch 1:  40%|███▉      | 72724/182400 [2:02:04<1:18:19, 23.34batch/s, batch_nb=70399, gpu=0, loss=0.068, v_nb=55]\n",
      "Epoch 1:  40%|███▉      | 72727/182400 [2:02:04<1:18:10, 23.38batch/s, batch_nb=70399, gpu=0, loss=0.068, v_nb=55]\n",
      "Epoch 1:  40%|███▉      | 72730/182400 [2:02:04<1:18:12, 23.37batch/s, batch_nb=70399, gpu=0, loss=0.068, v_nb=55]\n",
      "Epoch 1:  40%|███▉      | 72733/182400 [2:02:04<1:18:16, 23.35batch/s, batch_nb=70399, gpu=0, loss=0.068, v_nb=55]\n",
      "Epoch 1:  40%|███▉      | 72736/182400 [2:02:04<1:18:31, 23.28batch/s, batch_nb=70399, gpu=0, loss=0.068, v_nb=55]\n",
      "Epoch 1:  40%|███▉      | 72739/182400 [2:02:05<1:18:46, 23.20batch/s, batch_nb=70399, gpu=0, loss=0.068, v_nb=55]\n",
      "Epoch 1:  40%|███▉      | 72742/182400 [2:02:05<1:18:52, 23.17batch/s, batch_nb=70399, gpu=0, loss=0.068, v_nb=55]\n",
      "Epoch 1:  40%|███▉      | 72745/182400 [2:02:05<1:18:34, 23.26batch/s, batch_nb=70399, gpu=0, loss=0.068, v_nb=55]\n",
      "Epoch 1:  40%|███▉      | 72748/182400 [2:02:05<1:18:30, 23.28batch/s, batch_nb=70399, gpu=0, loss=0.068, v_nb=55]\n",
      "Epoch 1:  40%|███▉      | 72751/182400 [2:02:05<1:18:28, 23.29batch/s, batch_nb=70399, gpu=0, loss=0.068, v_nb=55]\n",
      "Epoch 1:  40%|███▉      | 72754/182400 [2:02:05<1:18:15, 23.35batch/s, batch_nb=70399, gpu=0, loss=0.068, v_nb=55]\n",
      "Epoch 1:  40%|███▉      | 72757/182400 [2:02:05<1:18:14, 23.35batch/s, batch_nb=70399, gpu=0, loss=0.068, v_nb=55]\n",
      "Epoch 1:  40%|███▉      | 72760/182400 [2:02:06<1:18:19, 23.33batch/s, batch_nb=70399, gpu=0, loss=0.068, v_nb=55]\n",
      "Epoch 1:  40%|███▉      | 72763/182400 [2:02:06<1:18:06, 23.39batch/s, batch_nb=70399, gpu=0, loss=0.068, v_nb=55]\n",
      "Epoch 1:  40%|███▉      | 72766/182400 [2:02:06<1:18:09, 23.38batch/s, batch_nb=70399, gpu=0, loss=0.068, v_nb=55]\n",
      "Epoch 1:  40%|███▉      | 72769/182400 [2:02:06<1:18:22, 23.31batch/s, batch_nb=70399, gpu=0, loss=0.068, v_nb=55]\n",
      "Epoch 1:  40%|███▉      | 72772/182400 [2:02:06<1:18:16, 23.34batch/s, batch_nb=70399, gpu=0, loss=0.068, v_nb=55]\n",
      "Epoch 1:  40%|███▉      | 72775/182400 [2:02:06<1:18:14, 23.35batch/s, batch_nb=70399, gpu=0, loss=0.068, v_nb=55]\n",
      "Epoch 1:  40%|███▉      | 72778/182400 [2:02:06<1:18:17, 23.34batch/s, batch_nb=70399, gpu=0, loss=0.068, v_nb=55]\n",
      "Epoch 1:  40%|███▉      | 72781/182400 [2:02:06<1:18:21, 23.32batch/s, batch_nb=70399, gpu=0, loss=0.068, v_nb=55]\n",
      "Epoch 1:  40%|███▉      | 72784/182400 [2:02:07<1:18:36, 23.24batch/s, batch_nb=70399, gpu=0, loss=0.068, v_nb=55]\n",
      "Epoch 1:  40%|███▉      | 72787/182400 [2:02:07<1:18:46, 23.19batch/s, batch_nb=70399, gpu=0, loss=0.068, v_nb=55]\n",
      "Epoch 1:  40%|███▉      | 72790/182400 [2:02:07<1:19:01, 23.11batch/s, batch_nb=70399, gpu=0, loss=0.068, v_nb=55]\n",
      "Epoch 1:  40%|███▉      | 72793/182400 [2:02:07<1:18:43, 23.20batch/s, batch_nb=70399, gpu=0, loss=0.068, v_nb=55]\n",
      "Epoch 1:  40%|███▉      | 72796/182400 [2:02:07<1:18:43, 23.21batch/s, batch_nb=70399, gpu=0, loss=0.068, v_nb=55]\n",
      "Epoch 1:  40%|███▉      | 72799/182400 [2:02:07<1:18:50, 23.17batch/s, batch_nb=70399, gpu=0, loss=0.068, v_nb=55]\n",
      "Epoch 1:  40%|███▉      | 72802/182400 [2:02:07<1:18:55, 23.15batch/s, batch_nb=70399, gpu=0, loss=0.068, v_nb=55]\n",
      "Epoch 1:  40%|███▉      | 72805/182400 [2:02:07<1:18:35, 23.24batch/s, batch_nb=70399, gpu=0, loss=0.068, v_nb=55]\n",
      "Epoch 1:  40%|███▉      | 72808/182400 [2:02:08<1:18:30, 23.27batch/s, batch_nb=70399, gpu=0, loss=0.068, v_nb=55]\n",
      "Epoch 1:  40%|███▉      | 72811/182400 [2:02:08<1:18:24, 23.29batch/s, batch_nb=70399, gpu=0, loss=0.068, v_nb=55]\n",
      "Epoch 1:  40%|███▉      | 72814/182400 [2:02:08<1:18:17, 23.33batch/s, batch_nb=70399, gpu=0, loss=0.068, v_nb=55]\n",
      "Epoch 1:  40%|███▉      | 72817/182400 [2:02:08<1:18:24, 23.30batch/s, batch_nb=70399, gpu=0, loss=0.068, v_nb=55]\n",
      "Epoch 1:  40%|███▉      | 72820/182400 [2:02:08<1:18:23, 23.30batch/s, batch_nb=70399, gpu=0, loss=0.068, v_nb=55]\n",
      "Epoch 1:  40%|███▉      | 72823/182400 [2:02:08<1:18:32, 23.25batch/s, batch_nb=70399, gpu=0, loss=0.068, v_nb=55]\n",
      "Epoch 1:  40%|███▉      | 72826/182400 [2:02:08<1:18:29, 23.27batch/s, batch_nb=70399, gpu=0, loss=0.068, v_nb=55]\n",
      "Epoch 1:  40%|███▉      | 72829/182400 [2:02:08<1:18:29, 23.27batch/s, batch_nb=70399, gpu=0, loss=0.068, v_nb=55]\n",
      "Epoch 1:  40%|███▉      | 72832/182400 [2:02:09<1:18:37, 23.23batch/s, batch_nb=70399, gpu=0, loss=0.068, v_nb=55]\n",
      "Epoch 1:  40%|███▉      | 72835/182400 [2:02:09<1:18:43, 23.20batch/s, batch_nb=70399, gpu=0, loss=0.068, v_nb=55]\n",
      "Epoch 1:  40%|███▉      | 72838/182400 [2:02:09<1:18:32, 23.25batch/s, batch_nb=70399, gpu=0, loss=0.068, v_nb=55]\n",
      "Epoch 1:  40%|███▉      | 72841/182400 [2:02:09<1:18:33, 23.24batch/s, batch_nb=70399, gpu=0, loss=0.068, v_nb=55]\n",
      "Epoch 1:  40%|███▉      | 72844/182400 [2:02:09<1:18:45, 23.18batch/s, batch_nb=70399, gpu=0, loss=0.068, v_nb=55]\n",
      "Epoch 1:  40%|███▉      | 72847/182400 [2:02:09<1:18:53, 23.14batch/s, batch_nb=70399, gpu=0, loss=0.068, v_nb=55]\n"
     ]
    },
    {
     "name": "stderr",
     "output_type": "stream",
     "text": [
      "Epoch 1:  40%|███▉      | 72850/182400 [2:02:09<1:18:59, 23.12batch/s, batch_nb=70399, gpu=0, loss=0.068, v_nb=55]\n",
      "Epoch 1:  40%|███▉      | 72853/182400 [2:02:10<1:18:53, 23.14batch/s, batch_nb=70399, gpu=0, loss=0.068, v_nb=55]\n",
      "Epoch 1:  40%|███▉      | 72856/182400 [2:02:10<1:18:55, 23.13batch/s, batch_nb=70399, gpu=0, loss=0.068, v_nb=55]\n",
      "Epoch 1:  40%|███▉      | 72859/182400 [2:02:10<1:18:43, 23.19batch/s, batch_nb=70399, gpu=0, loss=0.068, v_nb=55]\n",
      "Epoch 1:  40%|███▉      | 72862/182400 [2:02:10<1:18:33, 23.24batch/s, batch_nb=70399, gpu=0, loss=0.068, v_nb=55]\n",
      "Epoch 1:  40%|███▉      | 72865/182400 [2:02:10<1:18:20, 23.30batch/s, batch_nb=70399, gpu=0, loss=0.068, v_nb=55]\n",
      "Epoch 1:  40%|███▉      | 72868/182400 [2:02:10<1:18:23, 23.29batch/s, batch_nb=70399, gpu=0, loss=0.068, v_nb=55]\n",
      "Epoch 1:  40%|███▉      | 72871/182400 [2:02:10<1:18:32, 23.24batch/s, batch_nb=70399, gpu=0, loss=0.068, v_nb=55]\n",
      "Epoch 1:  40%|███▉      | 72874/182400 [2:02:10<1:18:39, 23.21batch/s, batch_nb=70399, gpu=0, loss=0.068, v_nb=55]\n",
      "Epoch 1:  40%|███▉      | 72877/182400 [2:02:11<1:18:44, 23.18batch/s, batch_nb=70399, gpu=0, loss=0.068, v_nb=55]\n",
      "Epoch 1:  40%|███▉      | 72880/182400 [2:02:11<1:18:40, 23.20batch/s, batch_nb=70399, gpu=0, loss=0.068, v_nb=55]\n",
      "Epoch 1:  40%|███▉      | 72883/182400 [2:02:11<1:18:33, 23.24batch/s, batch_nb=70399, gpu=0, loss=0.068, v_nb=55]\n",
      "Epoch 1:  40%|███▉      | 72886/182400 [2:02:11<1:18:27, 23.26batch/s, batch_nb=70399, gpu=0, loss=0.068, v_nb=55]\n",
      "Epoch 1:  40%|███▉      | 72889/182400 [2:02:11<1:18:30, 23.25batch/s, batch_nb=70399, gpu=0, loss=0.068, v_nb=55]\n",
      "Epoch 1:  40%|███▉      | 72892/182400 [2:02:11<1:18:19, 23.30batch/s, batch_nb=70399, gpu=0, loss=0.068, v_nb=55]\n",
      "Epoch 1:  40%|███▉      | 72895/182400 [2:02:11<1:18:16, 23.32batch/s, batch_nb=70399, gpu=0, loss=0.068, v_nb=55]\n",
      "Epoch 1:  40%|███▉      | 72898/182400 [2:02:11<1:18:15, 23.32batch/s, batch_nb=70399, gpu=0, loss=0.068, v_nb=55]\n",
      "Epoch 1:  40%|███▉      | 72901/182400 [2:02:12<1:18:10, 23.35batch/s, batch_nb=70399, gpu=0, loss=0.068, v_nb=55]\n",
      "Epoch 1:  40%|███▉      | 72904/182400 [2:02:12<1:18:08, 23.35batch/s, batch_nb=70399, gpu=0, loss=0.068, v_nb=55]\n",
      "Epoch 1:  40%|███▉      | 72907/182400 [2:02:12<1:18:08, 23.35batch/s, batch_nb=70399, gpu=0, loss=0.068, v_nb=55]\n",
      "Epoch 1:  40%|███▉      | 72910/182400 [2:02:12<1:18:12, 23.33batch/s, batch_nb=70399, gpu=0, loss=0.068, v_nb=55]\n",
      "Epoch 1:  40%|███▉      | 72913/182400 [2:02:12<1:18:13, 23.33batch/s, batch_nb=70399, gpu=0, loss=0.068, v_nb=55]\n",
      "Epoch 1:  40%|███▉      | 72916/182400 [2:02:12<1:18:17, 23.31batch/s, batch_nb=70399, gpu=0, loss=0.068, v_nb=55]\n",
      "Epoch 1:  40%|███▉      | 72919/182400 [2:02:12<1:18:16, 23.31batch/s, batch_nb=70399, gpu=0, loss=0.068, v_nb=55]\n",
      "Epoch 1:  40%|███▉      | 72922/182400 [2:02:12<1:18:23, 23.28batch/s, batch_nb=70399, gpu=0, loss=0.068, v_nb=55]\n",
      "Epoch 1:  40%|███▉      | 72925/182400 [2:02:13<1:18:41, 23.18batch/s, batch_nb=70399, gpu=0, loss=0.068, v_nb=55]\n",
      "Epoch 1:  40%|███▉      | 72928/182400 [2:02:13<1:19:01, 23.09batch/s, batch_nb=70399, gpu=0, loss=0.068, v_nb=55]\n",
      "Epoch 1:  40%|███▉      | 72931/182400 [2:02:13<1:18:45, 23.16batch/s, batch_nb=70399, gpu=0, loss=0.068, v_nb=55]\n",
      "Epoch 1:  40%|███▉      | 72934/182400 [2:02:13<1:18:44, 23.17batch/s, batch_nb=70399, gpu=0, loss=0.068, v_nb=55]\n",
      "Epoch 1:  40%|███▉      | 72937/182400 [2:02:13<1:18:40, 23.19batch/s, batch_nb=70399, gpu=0, loss=0.068, v_nb=55]\n",
      "Epoch 1:  40%|███▉      | 72940/182400 [2:02:13<1:18:49, 23.14batch/s, batch_nb=70399, gpu=0, loss=0.068, v_nb=55]\n",
      "Epoch 1:  40%|███▉      | 72943/182400 [2:02:13<1:18:43, 23.17batch/s, batch_nb=70399, gpu=0, loss=0.068, v_nb=55]\n",
      "Epoch 1:  40%|███▉      | 72946/182400 [2:02:14<1:18:29, 23.24batch/s, batch_nb=70399, gpu=0, loss=0.068, v_nb=55]\n",
      "Epoch 1:  40%|███▉      | 72949/182400 [2:02:14<1:18:30, 23.24batch/s, batch_nb=70399, gpu=0, loss=0.068, v_nb=55]\n",
      "Epoch 1:  40%|███▉      | 72952/182400 [2:02:14<1:18:36, 23.20batch/s, batch_nb=70399, gpu=0, loss=0.068, v_nb=55]\n",
      "Epoch 1:  40%|███▉      | 72955/182400 [2:02:14<1:18:43, 23.17batch/s, batch_nb=70399, gpu=0, loss=0.068, v_nb=55]\n",
      "Epoch 1:  40%|████      | 72960/182400 [2:02:16<1:18:34, 23.21batch/s, batch_nb=70399, gpu=0, loss=0.068, v_nb=55]\n",
      "Epoch 1:  41%|████      | 74390/182400 [2:04:48<2:54:44, 10.30batch/s, batch_nb=71829, gpu=0, loss=0.069, v_nb=55] "
     ]
    },
    {
     "name": "stdout",
     "output_type": "stream",
     "text": [
      "Gradient overflow.  Skipping step, loss scaler 0 reducing loss scale to 2097152.0\n"
     ]
    },
    {
     "name": "stderr",
     "output_type": "stream",
     "text": [
      "Epoch 1:  43%|████▎     | 78421/182400 [2:11:51<2:50:54, 10.14batch/s, batch_nb=75860, gpu=0, loss=0.069, v_nb=55]"
     ]
    },
    {
     "name": "stdout",
     "output_type": "stream",
     "text": [
      "Gradient overflow.  Skipping step, loss scaler 0 reducing loss scale to 4194304.0\n"
     ]
    },
    {
     "name": "stderr",
     "output_type": "stream",
     "text": [
      "Epoch 1:  43%|████▎     | 79138/182400 [2:13:06<2:51:20, 10.04batch/s, batch_nb=76577, gpu=0, loss=0.067, v_nb=55]"
     ]
    },
    {
     "name": "stdout",
     "output_type": "stream",
     "text": [
      "Gradient overflow.  Skipping step, loss scaler 0 reducing loss scale to 2097152.0\n"
     ]
    },
    {
     "name": "stderr",
     "output_type": "stream",
     "text": [
      "Epoch 1:  45%|████▍     | 81760/182400 [2:17:42<2:50:39,  9.83batch/s, batch_nb=79199, gpu=0, loss=0.068, v_nb=55]\n",
      "Validating:   0%|          | 0/320 [00:00<?, ?batch/s]\u001b[A\n",
      "Epoch 1:  45%|████▍     | 81763/182400 [2:17:42<2:23:08, 11.72batch/s, batch_nb=79199, gpu=0, loss=0.068, v_nb=55]\n",
      "Epoch 1:  45%|████▍     | 81766/182400 [2:17:42<2:01:46, 13.77batch/s, batch_nb=79199, gpu=0, loss=0.068, v_nb=55]\n",
      "Epoch 1:  45%|████▍     | 81769/182400 [2:17:42<1:46:46, 15.71batch/s, batch_nb=79199, gpu=0, loss=0.068, v_nb=55]\n",
      "Epoch 1:  45%|████▍     | 81772/182400 [2:17:42<1:36:22, 17.40batch/s, batch_nb=79199, gpu=0, loss=0.068, v_nb=55]\n",
      "Epoch 1:  45%|████▍     | 81775/182400 [2:17:43<1:29:00, 18.84batch/s, batch_nb=79199, gpu=0, loss=0.068, v_nb=55]\n",
      "Epoch 1:  45%|████▍     | 81778/182400 [2:17:43<1:23:50, 20.00batch/s, batch_nb=79199, gpu=0, loss=0.068, v_nb=55]\n",
      "Epoch 1:  45%|████▍     | 81781/182400 [2:17:43<1:20:11, 20.91batch/s, batch_nb=79199, gpu=0, loss=0.068, v_nb=55]\n",
      "Epoch 1:  45%|████▍     | 81784/182400 [2:17:43<1:17:43, 21.58batch/s, batch_nb=79199, gpu=0, loss=0.068, v_nb=55]\n",
      "Epoch 1:  45%|████▍     | 81787/182400 [2:17:43<1:16:01, 22.06batch/s, batch_nb=79199, gpu=0, loss=0.068, v_nb=55]\n",
      "Epoch 1:  45%|████▍     | 81790/182400 [2:17:43<1:15:11, 22.30batch/s, batch_nb=79199, gpu=0, loss=0.068, v_nb=55]\n",
      "Epoch 1:  45%|████▍     | 81793/182400 [2:17:43<1:14:07, 22.62batch/s, batch_nb=79199, gpu=0, loss=0.068, v_nb=55]\n",
      "Epoch 1:  45%|████▍     | 81796/182400 [2:17:43<1:13:46, 22.73batch/s, batch_nb=79199, gpu=0, loss=0.068, v_nb=55]\n",
      "Epoch 1:  45%|████▍     | 81799/182400 [2:17:44<1:13:12, 22.90batch/s, batch_nb=79199, gpu=0, loss=0.068, v_nb=55]\n",
      "Epoch 1:  45%|████▍     | 81802/182400 [2:17:44<1:12:47, 23.04batch/s, batch_nb=79199, gpu=0, loss=0.068, v_nb=55]\n",
      "Epoch 1:  45%|████▍     | 81805/182400 [2:17:44<1:12:45, 23.05batch/s, batch_nb=79199, gpu=0, loss=0.068, v_nb=55]\n",
      "Epoch 1:  45%|████▍     | 81808/182400 [2:17:44<1:12:30, 23.12batch/s, batch_nb=79199, gpu=0, loss=0.068, v_nb=55]\n",
      "Epoch 1:  45%|████▍     | 81811/182400 [2:17:44<1:12:20, 23.18batch/s, batch_nb=79199, gpu=0, loss=0.068, v_nb=55]\n",
      "Epoch 1:  45%|████▍     | 81814/182400 [2:17:44<1:12:21, 23.17batch/s, batch_nb=79199, gpu=0, loss=0.068, v_nb=55]\n",
      "Epoch 1:  45%|████▍     | 81817/182400 [2:17:44<1:12:28, 23.13batch/s, batch_nb=79199, gpu=0, loss=0.068, v_nb=55]\n",
      "Epoch 1:  45%|████▍     | 81820/182400 [2:17:44<1:12:26, 23.14batch/s, batch_nb=79199, gpu=0, loss=0.068, v_nb=55]\n",
      "Epoch 1:  45%|████▍     | 81823/182400 [2:17:45<1:12:20, 23.17batch/s, batch_nb=79199, gpu=0, loss=0.068, v_nb=55]\n",
      "Epoch 1:  45%|████▍     | 81826/182400 [2:17:45<1:12:08, 23.24batch/s, batch_nb=79199, gpu=0, loss=0.068, v_nb=55]\n",
      "Epoch 1:  45%|████▍     | 81829/182400 [2:17:45<1:11:58, 23.29batch/s, batch_nb=79199, gpu=0, loss=0.068, v_nb=55]\n",
      "Epoch 1:  45%|████▍     | 81832/182400 [2:17:45<1:11:51, 23.33batch/s, batch_nb=79199, gpu=0, loss=0.068, v_nb=55]\n",
      "Epoch 1:  45%|████▍     | 81835/182400 [2:17:45<1:12:06, 23.24batch/s, batch_nb=79199, gpu=0, loss=0.068, v_nb=55]\n",
      "Epoch 1:  45%|████▍     | 81838/182400 [2:17:45<1:12:00, 23.28batch/s, batch_nb=79199, gpu=0, loss=0.068, v_nb=55]\n",
      "Epoch 1:  45%|████▍     | 81841/182400 [2:17:45<1:12:09, 23.23batch/s, batch_nb=79199, gpu=0, loss=0.068, v_nb=55]\n",
      "Epoch 1:  45%|████▍     | 81844/182400 [2:17:45<1:12:04, 23.25batch/s, batch_nb=79199, gpu=0, loss=0.068, v_nb=55]\n",
      "Epoch 1:  45%|████▍     | 81847/182400 [2:17:46<1:11:58, 23.29batch/s, batch_nb=79199, gpu=0, loss=0.068, v_nb=55]\n",
      "Epoch 1:  45%|████▍     | 81850/182400 [2:17:46<1:11:50, 23.33batch/s, batch_nb=79199, gpu=0, loss=0.068, v_nb=55]\n",
      "Epoch 1:  45%|████▍     | 81853/182400 [2:17:46<1:11:42, 23.37batch/s, batch_nb=79199, gpu=0, loss=0.068, v_nb=55]\n",
      "Epoch 1:  45%|████▍     | 81856/182400 [2:17:46<1:11:40, 23.38batch/s, batch_nb=79199, gpu=0, loss=0.068, v_nb=55]\n",
      "Epoch 1:  45%|████▍     | 81859/182400 [2:17:46<1:11:54, 23.30batch/s, batch_nb=79199, gpu=0, loss=0.068, v_nb=55]\n",
      "Epoch 1:  45%|████▍     | 81862/182400 [2:17:46<1:12:35, 23.08batch/s, batch_nb=79199, gpu=0, loss=0.068, v_nb=55]\n",
      "Epoch 1:  45%|████▍     | 81865/182400 [2:17:46<1:12:33, 23.09batch/s, batch_nb=79199, gpu=0, loss=0.068, v_nb=55]\n",
      "Epoch 1:  45%|████▍     | 81868/182400 [2:17:47<1:12:43, 23.04batch/s, batch_nb=79199, gpu=0, loss=0.068, v_nb=55]\n",
      "Epoch 1:  45%|████▍     | 81871/182400 [2:17:47<1:12:50, 23.00batch/s, batch_nb=79199, gpu=0, loss=0.068, v_nb=55]\n",
      "Epoch 1:  45%|████▍     | 81874/182400 [2:17:47<1:12:44, 23.03batch/s, batch_nb=79199, gpu=0, loss=0.068, v_nb=55]\n",
      "Epoch 1:  45%|████▍     | 81877/182400 [2:17:47<1:12:47, 23.02batch/s, batch_nb=79199, gpu=0, loss=0.068, v_nb=55]\n",
      "Epoch 1:  45%|████▍     | 81880/182400 [2:17:47<1:12:34, 23.09batch/s, batch_nb=79199, gpu=0, loss=0.068, v_nb=55]\n",
      "Epoch 1:  45%|████▍     | 81883/182400 [2:17:47<1:12:30, 23.10batch/s, batch_nb=79199, gpu=0, loss=0.068, v_nb=55]\n",
      "Epoch 1:  45%|████▍     | 81886/182400 [2:17:47<1:12:26, 23.13batch/s, batch_nb=79199, gpu=0, loss=0.068, v_nb=55]\n",
      "Epoch 1:  45%|████▍     | 81889/182400 [2:17:47<1:12:36, 23.07batch/s, batch_nb=79199, gpu=0, loss=0.068, v_nb=55]\n",
      "Epoch 1:  45%|████▍     | 81892/182400 [2:17:48<1:12:31, 23.10batch/s, batch_nb=79199, gpu=0, loss=0.068, v_nb=55]\n",
      "Epoch 1:  45%|████▍     | 81895/182400 [2:17:48<1:12:33, 23.09batch/s, batch_nb=79199, gpu=0, loss=0.068, v_nb=55]\n",
      "Epoch 1:  45%|████▍     | 81898/182400 [2:17:48<1:12:23, 23.14batch/s, batch_nb=79199, gpu=0, loss=0.068, v_nb=55]\n",
      "Epoch 1:  45%|████▍     | 81901/182400 [2:17:48<1:12:27, 23.12batch/s, batch_nb=79199, gpu=0, loss=0.068, v_nb=55]\n",
      "Epoch 1:  45%|████▍     | 81904/182400 [2:17:48<1:12:18, 23.17batch/s, batch_nb=79199, gpu=0, loss=0.068, v_nb=55]\n",
      "Epoch 1:  45%|████▍     | 81907/182400 [2:17:48<1:12:06, 23.23batch/s, batch_nb=79199, gpu=0, loss=0.068, v_nb=55]\n",
      "Epoch 1:  45%|████▍     | 81910/182400 [2:17:48<1:12:12, 23.19batch/s, batch_nb=79199, gpu=0, loss=0.068, v_nb=55]\n",
      "Epoch 1:  45%|████▍     | 81913/182400 [2:17:48<1:12:11, 23.20batch/s, batch_nb=79199, gpu=0, loss=0.068, v_nb=55]\n",
      "Epoch 1:  45%|████▍     | 81916/182400 [2:17:49<1:12:08, 23.22batch/s, batch_nb=79199, gpu=0, loss=0.068, v_nb=55]\n",
      "Epoch 1:  45%|████▍     | 81919/182400 [2:17:49<1:12:17, 23.17batch/s, batch_nb=79199, gpu=0, loss=0.068, v_nb=55]\n",
      "Epoch 1:  45%|████▍     | 81922/182400 [2:17:49<1:12:06, 23.22batch/s, batch_nb=79199, gpu=0, loss=0.068, v_nb=55]\n",
      "Epoch 1:  45%|████▍     | 81925/182400 [2:17:49<1:12:06, 23.22batch/s, batch_nb=79199, gpu=0, loss=0.068, v_nb=55]\n",
      "Epoch 1:  45%|████▍     | 81928/182400 [2:17:49<1:12:19, 23.15batch/s, batch_nb=79199, gpu=0, loss=0.068, v_nb=55]\n",
      "Epoch 1:  45%|████▍     | 81931/182400 [2:17:49<1:12:31, 23.09batch/s, batch_nb=79199, gpu=0, loss=0.068, v_nb=55]\n",
      "Epoch 1:  45%|████▍     | 81934/182400 [2:17:49<1:12:26, 23.11batch/s, batch_nb=79199, gpu=0, loss=0.068, v_nb=55]\n",
      "Epoch 1:  45%|████▍     | 81937/182400 [2:17:49<1:12:16, 23.16batch/s, batch_nb=79199, gpu=0, loss=0.068, v_nb=55]\n",
      "Epoch 1:  45%|████▍     | 81940/182400 [2:17:50<1:12:19, 23.15batch/s, batch_nb=79199, gpu=0, loss=0.068, v_nb=55]\n",
      "Epoch 1:  45%|████▍     | 81943/182400 [2:17:50<1:12:26, 23.11batch/s, batch_nb=79199, gpu=0, loss=0.068, v_nb=55]\n",
      "Epoch 1:  45%|████▍     | 81946/182400 [2:17:50<1:12:56, 22.95batch/s, batch_nb=79199, gpu=0, loss=0.068, v_nb=55]\n",
      "Epoch 1:  45%|████▍     | 81949/182400 [2:17:50<1:12:40, 23.04batch/s, batch_nb=79199, gpu=0, loss=0.068, v_nb=55]\n",
      "Epoch 1:  45%|████▍     | 81952/182400 [2:17:50<1:12:28, 23.10batch/s, batch_nb=79199, gpu=0, loss=0.068, v_nb=55]\n",
      "Epoch 1:  45%|████▍     | 81955/182400 [2:17:50<1:12:13, 23.18batch/s, batch_nb=79199, gpu=0, loss=0.068, v_nb=55]\n",
      "Epoch 1:  45%|████▍     | 81958/182400 [2:17:50<1:12:16, 23.16batch/s, batch_nb=79199, gpu=0, loss=0.068, v_nb=55]\n",
      "Epoch 1:  45%|████▍     | 81961/182400 [2:17:51<1:12:16, 23.16batch/s, batch_nb=79199, gpu=0, loss=0.068, v_nb=55]\n",
      "Epoch 1:  45%|████▍     | 81964/182400 [2:17:51<1:12:10, 23.19batch/s, batch_nb=79199, gpu=0, loss=0.068, v_nb=55]\n",
      "Epoch 1:  45%|████▍     | 81967/182400 [2:17:51<1:12:07, 23.21batch/s, batch_nb=79199, gpu=0, loss=0.068, v_nb=55]\n"
     ]
    },
    {
     "name": "stderr",
     "output_type": "stream",
     "text": [
      "Epoch 1:  45%|████▍     | 81970/182400 [2:17:51<1:12:05, 23.22batch/s, batch_nb=79199, gpu=0, loss=0.068, v_nb=55]\n",
      "Epoch 1:  45%|████▍     | 81973/182400 [2:17:51<1:11:58, 23.25batch/s, batch_nb=79199, gpu=0, loss=0.068, v_nb=55]\n",
      "Epoch 1:  45%|████▍     | 81976/182400 [2:17:51<1:11:53, 23.28batch/s, batch_nb=79199, gpu=0, loss=0.068, v_nb=55]\n",
      "Epoch 1:  45%|████▍     | 81979/182400 [2:17:51<1:12:07, 23.21batch/s, batch_nb=79199, gpu=0, loss=0.068, v_nb=55]\n",
      "Epoch 1:  45%|████▍     | 81982/182400 [2:17:51<1:12:29, 23.09batch/s, batch_nb=79199, gpu=0, loss=0.068, v_nb=55]\n",
      "Epoch 1:  45%|████▍     | 81985/182400 [2:17:52<1:12:29, 23.09batch/s, batch_nb=79199, gpu=0, loss=0.068, v_nb=55]\n",
      "Epoch 1:  45%|████▍     | 81988/182400 [2:17:52<1:12:50, 22.98batch/s, batch_nb=79199, gpu=0, loss=0.068, v_nb=55]\n",
      "Epoch 1:  45%|████▍     | 81991/182400 [2:17:52<1:12:46, 23.00batch/s, batch_nb=79199, gpu=0, loss=0.068, v_nb=55]\n",
      "Epoch 1:  45%|████▍     | 81994/182400 [2:17:52<1:12:52, 22.96batch/s, batch_nb=79199, gpu=0, loss=0.068, v_nb=55]\n",
      "Epoch 1:  45%|████▍     | 81997/182400 [2:17:52<1:12:46, 22.99batch/s, batch_nb=79199, gpu=0, loss=0.068, v_nb=55]\n",
      "Epoch 1:  45%|████▍     | 82000/182400 [2:17:52<1:12:44, 23.00batch/s, batch_nb=79199, gpu=0, loss=0.068, v_nb=55]\n",
      "Epoch 1:  45%|████▍     | 82003/182400 [2:17:52<1:13:00, 22.92batch/s, batch_nb=79199, gpu=0, loss=0.068, v_nb=55]\n",
      "Epoch 1:  45%|████▍     | 82006/182400 [2:17:52<1:12:52, 22.96batch/s, batch_nb=79199, gpu=0, loss=0.068, v_nb=55]\n",
      "Epoch 1:  45%|████▍     | 82009/182400 [2:17:53<1:12:45, 23.00batch/s, batch_nb=79199, gpu=0, loss=0.068, v_nb=55]\n",
      "Epoch 1:  45%|████▍     | 82012/182400 [2:17:53<1:12:55, 22.95batch/s, batch_nb=79199, gpu=0, loss=0.068, v_nb=55]\n",
      "Epoch 1:  45%|████▍     | 82015/182400 [2:17:53<1:12:51, 22.96batch/s, batch_nb=79199, gpu=0, loss=0.068, v_nb=55]\n",
      "Epoch 1:  45%|████▍     | 82018/182400 [2:17:53<1:13:00, 22.92batch/s, batch_nb=79199, gpu=0, loss=0.068, v_nb=55]\n",
      "Epoch 1:  45%|████▍     | 82021/182400 [2:17:53<1:12:44, 23.00batch/s, batch_nb=79199, gpu=0, loss=0.068, v_nb=55]\n",
      "Epoch 1:  45%|████▍     | 82024/182400 [2:17:53<1:13:20, 22.81batch/s, batch_nb=79199, gpu=0, loss=0.068, v_nb=55]\n",
      "Epoch 1:  45%|████▍     | 82027/182400 [2:17:53<1:12:59, 22.92batch/s, batch_nb=79199, gpu=0, loss=0.068, v_nb=55]\n",
      "Epoch 1:  45%|████▍     | 82030/182400 [2:17:54<1:13:04, 22.89batch/s, batch_nb=79199, gpu=0, loss=0.068, v_nb=55]\n",
      "Epoch 1:  45%|████▍     | 82033/182400 [2:17:54<1:12:34, 23.05batch/s, batch_nb=79199, gpu=0, loss=0.068, v_nb=55]\n",
      "Epoch 1:  45%|████▍     | 82036/182400 [2:17:54<1:12:13, 23.16batch/s, batch_nb=79199, gpu=0, loss=0.068, v_nb=55]\n",
      "Epoch 1:  45%|████▍     | 82039/182400 [2:17:54<1:12:07, 23.19batch/s, batch_nb=79199, gpu=0, loss=0.068, v_nb=55]\n",
      "Epoch 1:  45%|████▍     | 82042/182400 [2:17:54<1:11:52, 23.27batch/s, batch_nb=79199, gpu=0, loss=0.068, v_nb=55]\n",
      "Epoch 1:  45%|████▍     | 82045/182400 [2:17:54<1:11:42, 23.32batch/s, batch_nb=79199, gpu=0, loss=0.068, v_nb=55]\n",
      "Epoch 1:  45%|████▍     | 82048/182400 [2:17:54<1:11:34, 23.37batch/s, batch_nb=79199, gpu=0, loss=0.068, v_nb=55]\n",
      "Epoch 1:  45%|████▍     | 82051/182400 [2:17:54<1:11:39, 23.34batch/s, batch_nb=79199, gpu=0, loss=0.068, v_nb=55]\n",
      "Epoch 1:  45%|████▍     | 82054/182400 [2:17:55<1:11:40, 23.33batch/s, batch_nb=79199, gpu=0, loss=0.068, v_nb=55]\n",
      "Epoch 1:  45%|████▍     | 82057/182400 [2:17:55<1:11:36, 23.35batch/s, batch_nb=79199, gpu=0, loss=0.068, v_nb=55]\n",
      "Epoch 1:  45%|████▍     | 82060/182400 [2:17:55<1:11:38, 23.34batch/s, batch_nb=79199, gpu=0, loss=0.068, v_nb=55]\n",
      "Epoch 1:  45%|████▍     | 82063/182400 [2:17:55<1:11:34, 23.36batch/s, batch_nb=79199, gpu=0, loss=0.068, v_nb=55]\n",
      "Epoch 1:  45%|████▍     | 82066/182400 [2:17:55<1:11:34, 23.37batch/s, batch_nb=79199, gpu=0, loss=0.068, v_nb=55]\n",
      "Epoch 1:  45%|████▍     | 82069/182400 [2:17:55<1:11:23, 23.42batch/s, batch_nb=79199, gpu=0, loss=0.068, v_nb=55]\n",
      "Epoch 1:  45%|████▍     | 82072/182400 [2:17:55<1:11:18, 23.45batch/s, batch_nb=79199, gpu=0, loss=0.068, v_nb=55]\n",
      "Epoch 1:  45%|████▍     | 82075/182400 [2:17:55<1:11:20, 23.44batch/s, batch_nb=79199, gpu=0, loss=0.068, v_nb=55]\n",
      "Epoch 1:  45%|████▌     | 82080/182400 [2:17:58<1:11:28, 23.39batch/s, batch_nb=79199, gpu=0, loss=0.068, v_nb=55]\n",
      "Epoch 1:  46%|████▌     | 83526/182400 [2:20:33<2:47:29,  9.84batch/s, batch_nb=80645, gpu=0, loss=0.067, v_nb=55] "
     ]
    },
    {
     "name": "stdout",
     "output_type": "stream",
     "text": [
      "Gradient overflow.  Skipping step, loss scaler 0 reducing loss scale to 4194304.0\n"
     ]
    },
    {
     "name": "stderr",
     "output_type": "stream",
     "text": [
      "Epoch 1:  47%|████▋     | 85606/182400 [2:24:13<2:42:57,  9.90batch/s, batch_nb=82725, gpu=0, loss=0.069, v_nb=55]"
     ]
    },
    {
     "name": "stdout",
     "output_type": "stream",
     "text": [
      "Gradient overflow.  Skipping step, loss scaler 0 reducing loss scale to 4194304.0\n"
     ]
    },
    {
     "name": "stderr",
     "output_type": "stream",
     "text": [
      "Epoch 1:  48%|████▊     | 87621/182400 [2:27:45<2:37:39, 10.02batch/s, batch_nb=84740, gpu=0, loss=0.067, v_nb=55]"
     ]
    },
    {
     "name": "stdout",
     "output_type": "stream",
     "text": [
      "Gradient overflow.  Skipping step, loss scaler 0 reducing loss scale to 4194304.0\n"
     ]
    },
    {
     "name": "stderr",
     "output_type": "stream",
     "text": [
      "Epoch 1:  49%|████▉     | 89670/182400 [2:31:22<2:33:27, 10.07batch/s, batch_nb=86789, gpu=0, loss=0.068, v_nb=55]"
     ]
    },
    {
     "name": "stdout",
     "output_type": "stream",
     "text": [
      "Gradient overflow.  Skipping step, loss scaler 0 reducing loss scale to 4194304.0\n"
     ]
    },
    {
     "name": "stderr",
     "output_type": "stream",
     "text": [
      "Epoch 1:  50%|████▉     | 90880/182400 [2:33:30<2:35:31,  9.81batch/s, batch_nb=87999, gpu=0, loss=0.067, v_nb=55]\n",
      "Validating:   0%|          | 0/320 [00:00<?, ?batch/s]\u001b[A\n",
      "Epoch 1:  50%|████▉     | 90883/182400 [2:33:30<2:09:41, 11.76batch/s, batch_nb=87999, gpu=0, loss=0.067, v_nb=55]\n",
      "Epoch 1:  50%|████▉     | 90886/182400 [2:33:31<1:50:20, 13.82batch/s, batch_nb=87999, gpu=0, loss=0.067, v_nb=55]\n",
      "Epoch 1:  50%|████▉     | 90889/182400 [2:33:31<1:36:50, 15.75batch/s, batch_nb=87999, gpu=0, loss=0.067, v_nb=55]\n",
      "Epoch 1:  50%|████▉     | 90892/182400 [2:33:31<1:27:23, 17.45batch/s, batch_nb=87999, gpu=0, loss=0.067, v_nb=55]\n",
      "Epoch 1:  50%|████▉     | 90895/182400 [2:33:31<1:20:44, 18.89batch/s, batch_nb=87999, gpu=0, loss=0.067, v_nb=55]\n",
      "Epoch 1:  50%|████▉     | 90898/182400 [2:33:31<1:16:07, 20.03batch/s, batch_nb=87999, gpu=0, loss=0.067, v_nb=55]\n",
      "Epoch 1:  50%|████▉     | 90901/182400 [2:33:31<1:13:05, 20.86batch/s, batch_nb=87999, gpu=0, loss=0.067, v_nb=55]\n",
      "Epoch 1:  50%|████▉     | 90904/182400 [2:33:31<1:10:42, 21.57batch/s, batch_nb=87999, gpu=0, loss=0.067, v_nb=55]\n",
      "Epoch 1:  50%|████▉     | 90907/182400 [2:33:31<1:09:08, 22.05batch/s, batch_nb=87999, gpu=0, loss=0.067, v_nb=55]\n",
      "Epoch 1:  50%|████▉     | 90910/182400 [2:33:32<1:08:00, 22.42batch/s, batch_nb=87999, gpu=0, loss=0.067, v_nb=55]\n",
      "Epoch 1:  50%|████▉     | 90913/182400 [2:33:32<1:07:07, 22.71batch/s, batch_nb=87999, gpu=0, loss=0.067, v_nb=55]\n",
      "Epoch 1:  50%|████▉     | 90916/182400 [2:33:32<1:06:33, 22.91batch/s, batch_nb=87999, gpu=0, loss=0.067, v_nb=55]\n",
      "Epoch 1:  50%|████▉     | 90919/182400 [2:33:32<1:06:12, 23.03batch/s, batch_nb=87999, gpu=0, loss=0.067, v_nb=55]\n",
      "Epoch 1:  50%|████▉     | 90922/182400 [2:33:32<1:06:02, 23.09batch/s, batch_nb=87999, gpu=0, loss=0.067, v_nb=55]\n",
      "Epoch 1:  50%|████▉     | 90925/182400 [2:33:32<1:05:55, 23.12batch/s, batch_nb=87999, gpu=0, loss=0.067, v_nb=55]\n",
      "Epoch 1:  50%|████▉     | 90928/182400 [2:33:32<1:06:11, 23.03batch/s, batch_nb=87999, gpu=0, loss=0.067, v_nb=55]\n",
      "Epoch 1:  50%|████▉     | 90931/182400 [2:33:32<1:06:08, 23.05batch/s, batch_nb=87999, gpu=0, loss=0.067, v_nb=55]\n",
      "Epoch 1:  50%|████▉     | 90934/182400 [2:33:33<1:06:14, 23.01batch/s, batch_nb=87999, gpu=0, loss=0.067, v_nb=55]\n",
      "Epoch 1:  50%|████▉     | 90937/182400 [2:33:33<1:06:13, 23.02batch/s, batch_nb=87999, gpu=0, loss=0.067, v_nb=55]\n",
      "Epoch 1:  50%|████▉     | 90940/182400 [2:33:33<1:06:14, 23.01batch/s, batch_nb=87999, gpu=0, loss=0.067, v_nb=55]\n",
      "Epoch 1:  50%|████▉     | 90943/182400 [2:33:33<1:06:15, 23.00batch/s, batch_nb=87999, gpu=0, loss=0.067, v_nb=55]\n",
      "Epoch 1:  50%|████▉     | 90946/182400 [2:33:33<1:06:12, 23.02batch/s, batch_nb=87999, gpu=0, loss=0.067, v_nb=55]\n",
      "Epoch 1:  50%|████▉     | 90949/182400 [2:33:33<1:06:05, 23.06batch/s, batch_nb=87999, gpu=0, loss=0.067, v_nb=55]\n",
      "Epoch 1:  50%|████▉     | 90952/182400 [2:33:33<1:05:56, 23.12batch/s, batch_nb=87999, gpu=0, loss=0.067, v_nb=55]\n",
      "Epoch 1:  50%|████▉     | 90955/182400 [2:33:34<1:05:56, 23.11batch/s, batch_nb=87999, gpu=0, loss=0.067, v_nb=55]\n",
      "Epoch 1:  50%|████▉     | 90958/182400 [2:33:34<1:06:10, 23.03batch/s, batch_nb=87999, gpu=0, loss=0.067, v_nb=55]\n",
      "Epoch 1:  50%|████▉     | 90961/182400 [2:33:34<1:06:20, 22.97batch/s, batch_nb=87999, gpu=0, loss=0.067, v_nb=55]\n",
      "Epoch 1:  50%|████▉     | 90964/182400 [2:33:34<1:06:20, 22.97batch/s, batch_nb=87999, gpu=0, loss=0.067, v_nb=55]\n",
      "Epoch 1:  50%|████▉     | 90967/182400 [2:33:34<1:06:19, 22.98batch/s, batch_nb=87999, gpu=0, loss=0.067, v_nb=55]\n",
      "Epoch 1:  50%|████▉     | 90970/182400 [2:33:34<1:06:36, 22.88batch/s, batch_nb=87999, gpu=0, loss=0.067, v_nb=55]\n",
      "Epoch 1:  50%|████▉     | 90973/182400 [2:33:34<1:07:12, 22.67batch/s, batch_nb=87999, gpu=0, loss=0.067, v_nb=55]\n",
      "Epoch 1:  50%|████▉     | 90976/182400 [2:33:34<1:06:47, 22.81batch/s, batch_nb=87999, gpu=0, loss=0.067, v_nb=55]\n",
      "Epoch 1:  50%|████▉     | 90979/182400 [2:33:35<1:06:49, 22.80batch/s, batch_nb=87999, gpu=0, loss=0.067, v_nb=55]\n",
      "Epoch 1:  50%|████▉     | 90982/182400 [2:33:35<1:06:35, 22.88batch/s, batch_nb=87999, gpu=0, loss=0.067, v_nb=55]\n",
      "Epoch 1:  50%|████▉     | 90985/182400 [2:33:35<1:06:09, 23.03batch/s, batch_nb=87999, gpu=0, loss=0.067, v_nb=55]\n",
      "Epoch 1:  50%|████▉     | 90988/182400 [2:33:35<1:06:01, 23.07batch/s, batch_nb=87999, gpu=0, loss=0.067, v_nb=55]\n",
      "Epoch 1:  50%|████▉     | 90991/182400 [2:33:35<1:06:08, 23.04batch/s, batch_nb=87999, gpu=0, loss=0.067, v_nb=55]\n",
      "Epoch 1:  50%|████▉     | 90994/182400 [2:33:35<1:06:29, 22.91batch/s, batch_nb=87999, gpu=0, loss=0.067, v_nb=55]\n",
      "Epoch 1:  50%|████▉     | 90997/182400 [2:33:35<1:06:41, 22.84batch/s, batch_nb=87999, gpu=0, loss=0.067, v_nb=55]\n",
      "Epoch 1:  50%|████▉     | 91000/182400 [2:33:35<1:06:50, 22.79batch/s, batch_nb=87999, gpu=0, loss=0.067, v_nb=55]\n",
      "Epoch 1:  50%|████▉     | 91003/182400 [2:33:36<1:07:01, 22.73batch/s, batch_nb=87999, gpu=0, loss=0.067, v_nb=55]\n",
      "Epoch 1:  50%|████▉     | 91006/182400 [2:33:36<1:06:39, 22.85batch/s, batch_nb=87999, gpu=0, loss=0.067, v_nb=55]\n",
      "Epoch 1:  50%|████▉     | 91009/182400 [2:33:36<1:06:22, 22.95batch/s, batch_nb=87999, gpu=0, loss=0.067, v_nb=55]\n",
      "Epoch 1:  50%|████▉     | 91012/182400 [2:33:36<1:06:21, 22.96batch/s, batch_nb=87999, gpu=0, loss=0.067, v_nb=55]\n",
      "Epoch 1:  50%|████▉     | 91015/182400 [2:33:36<1:07:05, 22.70batch/s, batch_nb=87999, gpu=0, loss=0.067, v_nb=55]\n",
      "Epoch 1:  50%|████▉     | 91018/182400 [2:33:36<1:07:49, 22.45batch/s, batch_nb=87999, gpu=0, loss=0.067, v_nb=55]\n",
      "Epoch 1:  50%|████▉     | 91021/182400 [2:33:36<1:07:24, 22.59batch/s, batch_nb=87999, gpu=0, loss=0.067, v_nb=55]\n",
      "Epoch 1:  50%|████▉     | 91024/182400 [2:33:37<1:06:58, 22.74batch/s, batch_nb=87999, gpu=0, loss=0.067, v_nb=55]\n",
      "Epoch 1:  50%|████▉     | 91027/182400 [2:33:37<1:06:41, 22.84batch/s, batch_nb=87999, gpu=0, loss=0.067, v_nb=55]\n",
      "Epoch 1:  50%|████▉     | 91030/182400 [2:33:37<1:06:40, 22.84batch/s, batch_nb=87999, gpu=0, loss=0.067, v_nb=55]\n",
      "Epoch 1:  50%|████▉     | 91033/182400 [2:33:37<1:06:36, 22.86batch/s, batch_nb=87999, gpu=0, loss=0.067, v_nb=55]\n",
      "Epoch 1:  50%|████▉     | 91036/182400 [2:33:37<1:06:25, 22.93batch/s, batch_nb=87999, gpu=0, loss=0.067, v_nb=55]\n",
      "Epoch 1:  50%|████▉     | 91039/182400 [2:33:37<1:06:11, 23.01batch/s, batch_nb=87999, gpu=0, loss=0.067, v_nb=55]\n",
      "Epoch 1:  50%|████▉     | 91042/182400 [2:33:37<1:06:06, 23.03batch/s, batch_nb=87999, gpu=0, loss=0.067, v_nb=55]\n",
      "Epoch 1:  50%|████▉     | 91045/182400 [2:33:37<1:06:17, 22.97batch/s, batch_nb=87999, gpu=0, loss=0.067, v_nb=55]\n",
      "Epoch 1:  50%|████▉     | 91048/182400 [2:33:38<1:06:08, 23.02batch/s, batch_nb=87999, gpu=0, loss=0.067, v_nb=55]\n",
      "Epoch 1:  50%|████▉     | 91051/182400 [2:33:38<1:06:06, 23.03batch/s, batch_nb=87999, gpu=0, loss=0.067, v_nb=55]\n",
      "Epoch 1:  50%|████▉     | 91054/182400 [2:33:38<1:06:13, 22.99batch/s, batch_nb=87999, gpu=0, loss=0.067, v_nb=55]\n",
      "Epoch 1:  50%|████▉     | 91057/182400 [2:33:38<1:06:06, 23.03batch/s, batch_nb=87999, gpu=0, loss=0.067, v_nb=55]\n",
      "Epoch 1:  50%|████▉     | 91060/182400 [2:33:38<1:06:01, 23.06batch/s, batch_nb=87999, gpu=0, loss=0.067, v_nb=55]\n",
      "Epoch 1:  50%|████▉     | 91063/182400 [2:33:38<1:06:14, 22.98batch/s, batch_nb=87999, gpu=0, loss=0.067, v_nb=55]\n",
      "Epoch 1:  50%|████▉     | 91066/182400 [2:33:38<1:06:15, 22.98batch/s, batch_nb=87999, gpu=0, loss=0.067, v_nb=55]\n",
      "Epoch 1:  50%|████▉     | 91069/182400 [2:33:38<1:06:16, 22.96batch/s, batch_nb=87999, gpu=0, loss=0.067, v_nb=55]\n",
      "Epoch 1:  50%|████▉     | 91072/182400 [2:33:39<1:06:00, 23.06batch/s, batch_nb=87999, gpu=0, loss=0.067, v_nb=55]\n",
      "Epoch 1:  50%|████▉     | 91075/182400 [2:33:39<1:05:57, 23.08batch/s, batch_nb=87999, gpu=0, loss=0.067, v_nb=55]\n",
      "Epoch 1:  50%|████▉     | 91078/182400 [2:33:39<1:05:51, 23.11batch/s, batch_nb=87999, gpu=0, loss=0.067, v_nb=55]\n",
      "Epoch 1:  50%|████▉     | 91081/182400 [2:33:39<1:05:51, 23.11batch/s, batch_nb=87999, gpu=0, loss=0.067, v_nb=55]\n",
      "Epoch 1:  50%|████▉     | 91084/182400 [2:33:39<1:06:03, 23.04batch/s, batch_nb=87999, gpu=0, loss=0.067, v_nb=55]\n",
      "Epoch 1:  50%|████▉     | 91087/182400 [2:33:39<1:06:01, 23.05batch/s, batch_nb=87999, gpu=0, loss=0.067, v_nb=55]\n"
     ]
    },
    {
     "name": "stderr",
     "output_type": "stream",
     "text": [
      "Epoch 1:  50%|████▉     | 91090/182400 [2:33:39<1:05:49, 23.12batch/s, batch_nb=87999, gpu=0, loss=0.067, v_nb=55]\n",
      "Epoch 1:  50%|████▉     | 91093/182400 [2:33:40<1:05:47, 23.13batch/s, batch_nb=87999, gpu=0, loss=0.067, v_nb=55]\n",
      "Epoch 1:  50%|████▉     | 91096/182400 [2:33:40<1:05:45, 23.14batch/s, batch_nb=87999, gpu=0, loss=0.067, v_nb=55]\n",
      "Epoch 1:  50%|████▉     | 91099/182400 [2:33:40<1:05:59, 23.06batch/s, batch_nb=87999, gpu=0, loss=0.067, v_nb=55]\n",
      "Epoch 1:  50%|████▉     | 91102/182400 [2:33:40<1:06:01, 23.05batch/s, batch_nb=87999, gpu=0, loss=0.067, v_nb=55]\n",
      "Epoch 1:  50%|████▉     | 91105/182400 [2:33:40<1:05:59, 23.06batch/s, batch_nb=87999, gpu=0, loss=0.067, v_nb=55]\n",
      "Epoch 1:  50%|████▉     | 91108/182400 [2:33:40<1:06:07, 23.01batch/s, batch_nb=87999, gpu=0, loss=0.067, v_nb=55]\n",
      "Epoch 1:  50%|████▉     | 91111/182400 [2:33:40<1:06:15, 22.96batch/s, batch_nb=87999, gpu=0, loss=0.067, v_nb=55]\n",
      "Epoch 1:  50%|████▉     | 91114/182400 [2:33:40<1:06:08, 23.00batch/s, batch_nb=87999, gpu=0, loss=0.067, v_nb=55]\n",
      "Epoch 1:  50%|████▉     | 91117/182400 [2:33:41<1:06:11, 22.99batch/s, batch_nb=87999, gpu=0, loss=0.067, v_nb=55]\n",
      "Epoch 1:  50%|████▉     | 91120/182400 [2:33:41<1:06:21, 22.93batch/s, batch_nb=87999, gpu=0, loss=0.067, v_nb=55]\n",
      "Epoch 1:  50%|████▉     | 91123/182400 [2:33:41<1:06:14, 22.96batch/s, batch_nb=87999, gpu=0, loss=0.067, v_nb=55]\n",
      "Epoch 1:  50%|████▉     | 91126/182400 [2:33:41<1:06:23, 22.91batch/s, batch_nb=87999, gpu=0, loss=0.067, v_nb=55]\n",
      "Epoch 1:  50%|████▉     | 91129/182400 [2:33:41<1:06:14, 22.97batch/s, batch_nb=87999, gpu=0, loss=0.067, v_nb=55]\n",
      "Epoch 1:  50%|████▉     | 91132/182400 [2:33:41<1:06:01, 23.04batch/s, batch_nb=87999, gpu=0, loss=0.067, v_nb=55]\n",
      "Epoch 1:  50%|████▉     | 91135/182400 [2:33:41<1:05:50, 23.10batch/s, batch_nb=87999, gpu=0, loss=0.067, v_nb=55]\n",
      "Epoch 1:  50%|████▉     | 91138/182400 [2:33:41<1:05:43, 23.14batch/s, batch_nb=87999, gpu=0, loss=0.067, v_nb=55]\n",
      "Epoch 1:  50%|████▉     | 91141/182400 [2:33:42<1:05:43, 23.14batch/s, batch_nb=87999, gpu=0, loss=0.067, v_nb=55]\n",
      "Epoch 1:  50%|████▉     | 91144/182400 [2:33:42<1:05:35, 23.19batch/s, batch_nb=87999, gpu=0, loss=0.067, v_nb=55]\n",
      "Epoch 1:  50%|████▉     | 91147/182400 [2:33:42<1:05:55, 23.07batch/s, batch_nb=87999, gpu=0, loss=0.067, v_nb=55]\n",
      "Epoch 1:  50%|████▉     | 91150/182400 [2:33:42<1:06:07, 23.00batch/s, batch_nb=87999, gpu=0, loss=0.067, v_nb=55]\n",
      "Epoch 1:  50%|████▉     | 91153/182400 [2:33:42<1:05:54, 23.08batch/s, batch_nb=87999, gpu=0, loss=0.067, v_nb=55]\n",
      "Epoch 1:  50%|████▉     | 91156/182400 [2:33:42<1:05:45, 23.12batch/s, batch_nb=87999, gpu=0, loss=0.067, v_nb=55]\n",
      "Epoch 1:  50%|████▉     | 91159/182400 [2:33:42<1:05:58, 23.05batch/s, batch_nb=87999, gpu=0, loss=0.067, v_nb=55]\n",
      "Epoch 1:  50%|████▉     | 91162/182400 [2:33:43<1:05:55, 23.07batch/s, batch_nb=87999, gpu=0, loss=0.067, v_nb=55]\n",
      "Epoch 1:  50%|████▉     | 91165/182400 [2:33:43<1:06:07, 22.99batch/s, batch_nb=87999, gpu=0, loss=0.067, v_nb=55]\n",
      "Epoch 1:  50%|████▉     | 91168/182400 [2:33:43<1:06:06, 23.00batch/s, batch_nb=87999, gpu=0, loss=0.067, v_nb=55]\n",
      "Epoch 1:  50%|████▉     | 91171/182400 [2:33:43<1:06:01, 23.03batch/s, batch_nb=87999, gpu=0, loss=0.067, v_nb=55]\n",
      "Epoch 1:  50%|████▉     | 91174/182400 [2:33:43<1:06:07, 22.99batch/s, batch_nb=87999, gpu=0, loss=0.067, v_nb=55]\n",
      "Epoch 1:  50%|████▉     | 91177/182400 [2:33:43<1:05:56, 23.06batch/s, batch_nb=87999, gpu=0, loss=0.067, v_nb=55]\n",
      "Epoch 1:  50%|████▉     | 91180/182400 [2:33:43<1:05:54, 23.07batch/s, batch_nb=87999, gpu=0, loss=0.067, v_nb=55]\n",
      "Epoch 1:  50%|████▉     | 91183/182400 [2:33:43<1:05:51, 23.08batch/s, batch_nb=87999, gpu=0, loss=0.067, v_nb=55]\n",
      "Epoch 1:  50%|████▉     | 91186/182400 [2:33:44<1:05:51, 23.08batch/s, batch_nb=87999, gpu=0, loss=0.067, v_nb=55]\n",
      "Epoch 1:  50%|████▉     | 91189/182400 [2:33:44<1:06:02, 23.02batch/s, batch_nb=87999, gpu=0, loss=0.067, v_nb=55]\n",
      "Epoch 1:  50%|████▉     | 91192/182400 [2:33:44<1:05:56, 23.05batch/s, batch_nb=87999, gpu=0, loss=0.067, v_nb=55]\n",
      "Epoch 1:  50%|████▉     | 91195/182400 [2:33:44<1:05:52, 23.07batch/s, batch_nb=87999, gpu=0, loss=0.067, v_nb=55]\n",
      "Epoch 1:  50%|█████     | 91200/182400 [2:33:46<1:05:39, 23.15batch/s, batch_nb=87999, gpu=0, loss=0.067, v_nb=55]\n",
      "Epoch 1:  51%|█████     | 92198/182400 [2:35:35<2:32:34,  9.85batch/s, batch_nb=88997, gpu=0, loss=0.067, v_nb=55] "
     ]
    },
    {
     "name": "stdout",
     "output_type": "stream",
     "text": [
      "Gradient overflow.  Skipping step, loss scaler 0 reducing loss scale to 4194304.0\n"
     ]
    },
    {
     "name": "stderr",
     "output_type": "stream",
     "text": [
      "Epoch 1:  52%|█████▏    | 94370/182400 [2:39:26<2:25:52, 10.06batch/s, batch_nb=91169, gpu=0, loss=0.068, v_nb=55]"
     ]
    },
    {
     "name": "stdout",
     "output_type": "stream",
     "text": [
      "Gradient overflow.  Skipping step, loss scaler 0 reducing loss scale to 4194304.0\n"
     ]
    },
    {
     "name": "stderr",
     "output_type": "stream",
     "text": [
      "Epoch 1:  53%|█████▎    | 96810/182400 [2:43:45<2:28:22,  9.61batch/s, batch_nb=93609, gpu=0, loss=0.065, v_nb=55]"
     ]
    },
    {
     "name": "stdout",
     "output_type": "stream",
     "text": [
      "Gradient overflow.  Skipping step, loss scaler 0 reducing loss scale to 4194304.0\n"
     ]
    },
    {
     "name": "stderr",
     "output_type": "stream",
     "text": [
      "Epoch 1:  54%|█████▍    | 98898/182400 [2:47:28<2:19:46,  9.96batch/s, batch_nb=95697, gpu=0, loss=0.067, v_nb=55]"
     ]
    },
    {
     "name": "stdout",
     "output_type": "stream",
     "text": [
      "Gradient overflow.  Skipping step, loss scaler 0 reducing loss scale to 4194304.0\n"
     ]
    },
    {
     "name": "stderr",
     "output_type": "stream",
     "text": [
      "Epoch 1:  55%|█████▍    | 100000/182400 [2:49:26<2:20:50,  9.75batch/s, batch_nb=96799, gpu=0, loss=0.065, v_nb=55]\n",
      "Validating:   0%|          | 0/320 [00:00<?, ?batch/s]\u001b[A\n",
      "Epoch 1:  55%|█████▍    | 100003/182400 [2:49:26<1:57:15, 11.71batch/s, batch_nb=96799, gpu=0, loss=0.065, v_nb=55]\n",
      "Epoch 1:  55%|█████▍    | 100006/182400 [2:49:26<1:39:44, 13.77batch/s, batch_nb=96799, gpu=0, loss=0.065, v_nb=55]\n",
      "Epoch 1:  55%|█████▍    | 100009/182400 [2:49:26<1:27:32, 15.68batch/s, batch_nb=96799, gpu=0, loss=0.065, v_nb=55]\n",
      "Epoch 1:  55%|█████▍    | 100012/182400 [2:49:26<1:19:17, 17.32batch/s, batch_nb=96799, gpu=0, loss=0.065, v_nb=55]\n",
      "Epoch 1:  55%|█████▍    | 100015/182400 [2:49:27<1:13:25, 18.70batch/s, batch_nb=96799, gpu=0, loss=0.065, v_nb=55]\n",
      "Epoch 1:  55%|█████▍    | 100018/182400 [2:49:27<1:09:08, 19.86batch/s, batch_nb=96799, gpu=0, loss=0.065, v_nb=55]\n",
      "Epoch 1:  55%|█████▍    | 100021/182400 [2:49:27<1:06:15, 20.72batch/s, batch_nb=96799, gpu=0, loss=0.065, v_nb=55]\n",
      "Epoch 1:  55%|█████▍    | 100024/182400 [2:49:27<1:04:12, 21.38batch/s, batch_nb=96799, gpu=0, loss=0.065, v_nb=55]\n",
      "Epoch 1:  55%|█████▍    | 100027/182400 [2:49:27<1:02:57, 21.80batch/s, batch_nb=96799, gpu=0, loss=0.065, v_nb=55]\n",
      "Epoch 1:  55%|█████▍    | 100030/182400 [2:49:27<1:02:08, 22.09batch/s, batch_nb=96799, gpu=0, loss=0.065, v_nb=55]\n",
      "Epoch 1:  55%|█████▍    | 100033/182400 [2:49:27<1:01:16, 22.40batch/s, batch_nb=96799, gpu=0, loss=0.065, v_nb=55]\n",
      "Epoch 1:  55%|█████▍    | 100036/182400 [2:49:27<1:00:44, 22.60batch/s, batch_nb=96799, gpu=0, loss=0.065, v_nb=55]\n",
      "Epoch 1:  55%|█████▍    | 100039/182400 [2:49:28<1:00:29, 22.69batch/s, batch_nb=96799, gpu=0, loss=0.065, v_nb=55]\n",
      "Epoch 1:  55%|█████▍    | 100042/182400 [2:49:28<1:00:03, 22.85batch/s, batch_nb=96799, gpu=0, loss=0.065, v_nb=55]\n",
      "Epoch 1:  55%|█████▍    | 100045/182400 [2:49:28<59:40, 23.00batch/s, batch_nb=96799, gpu=0, loss=0.065, v_nb=55]  \n",
      "Epoch 1:  55%|█████▍    | 100048/182400 [2:49:28<59:23, 23.11batch/s, batch_nb=96799, gpu=0, loss=0.065, v_nb=55]\n",
      "Epoch 1:  55%|█████▍    | 100051/182400 [2:49:28<59:30, 23.07batch/s, batch_nb=96799, gpu=0, loss=0.065, v_nb=55]\n",
      "Epoch 1:  55%|█████▍    | 100054/182400 [2:49:28<59:41, 22.99batch/s, batch_nb=96799, gpu=0, loss=0.065, v_nb=55]\n",
      "Epoch 1:  55%|█████▍    | 100057/182400 [2:49:28<59:35, 23.03batch/s, batch_nb=96799, gpu=0, loss=0.065, v_nb=55]\n",
      "Epoch 1:  55%|█████▍    | 100060/182400 [2:49:28<59:50, 22.93batch/s, batch_nb=96799, gpu=0, loss=0.065, v_nb=55]\n",
      "Epoch 1:  55%|█████▍    | 100063/182400 [2:49:29<59:48, 22.95batch/s, batch_nb=96799, gpu=0, loss=0.065, v_nb=55]\n",
      "Epoch 1:  55%|█████▍    | 100066/182400 [2:49:29<59:49, 22.94batch/s, batch_nb=96799, gpu=0, loss=0.065, v_nb=55]\n",
      "Epoch 1:  55%|█████▍    | 100069/182400 [2:49:29<59:34, 23.03batch/s, batch_nb=96799, gpu=0, loss=0.065, v_nb=55]\n",
      "Epoch 1:  55%|█████▍    | 100072/182400 [2:49:29<59:32, 23.04batch/s, batch_nb=96799, gpu=0, loss=0.065, v_nb=55]\n",
      "Epoch 1:  55%|█████▍    | 100075/182400 [2:49:29<59:28, 23.07batch/s, batch_nb=96799, gpu=0, loss=0.065, v_nb=55]\n",
      "Epoch 1:  55%|█████▍    | 100078/182400 [2:49:29<59:35, 23.02batch/s, batch_nb=96799, gpu=0, loss=0.065, v_nb=55]\n",
      "Epoch 1:  55%|█████▍    | 100081/182400 [2:49:29<59:35, 23.02batch/s, batch_nb=96799, gpu=0, loss=0.065, v_nb=55]\n",
      "Epoch 1:  55%|█████▍    | 100084/182400 [2:49:30<59:28, 23.07batch/s, batch_nb=96799, gpu=0, loss=0.065, v_nb=55]\n",
      "Epoch 1:  55%|█████▍    | 100087/182400 [2:49:30<59:22, 23.11batch/s, batch_nb=96799, gpu=0, loss=0.065, v_nb=55]\n",
      "Epoch 1:  55%|█████▍    | 100090/182400 [2:49:30<59:28, 23.06batch/s, batch_nb=96799, gpu=0, loss=0.065, v_nb=55]\n",
      "Epoch 1:  55%|█████▍    | 100093/182400 [2:49:30<59:18, 23.13batch/s, batch_nb=96799, gpu=0, loss=0.065, v_nb=55]\n",
      "Epoch 1:  55%|█████▍    | 100096/182400 [2:49:30<59:26, 23.08batch/s, batch_nb=96799, gpu=0, loss=0.065, v_nb=55]\n",
      "Epoch 1:  55%|█████▍    | 100099/182400 [2:49:30<59:21, 23.11batch/s, batch_nb=96799, gpu=0, loss=0.065, v_nb=55]\n",
      "Epoch 1:  55%|█████▍    | 100102/182400 [2:49:30<59:33, 23.03batch/s, batch_nb=96799, gpu=0, loss=0.065, v_nb=55]\n",
      "Epoch 1:  55%|█████▍    | 100105/182400 [2:49:30<59:20, 23.11batch/s, batch_nb=96799, gpu=0, loss=0.065, v_nb=55]\n",
      "Epoch 1:  55%|█████▍    | 100108/182400 [2:49:31<59:21, 23.11batch/s, batch_nb=96799, gpu=0, loss=0.065, v_nb=55]\n",
      "Epoch 1:  55%|█████▍    | 100111/182400 [2:49:31<59:12, 23.16batch/s, batch_nb=96799, gpu=0, loss=0.065, v_nb=55]\n",
      "Epoch 1:  55%|█████▍    | 100114/182400 [2:49:31<59:03, 23.22batch/s, batch_nb=96799, gpu=0, loss=0.065, v_nb=55]\n",
      "Epoch 1:  55%|█████▍    | 100117/182400 [2:49:31<58:59, 23.25batch/s, batch_nb=96799, gpu=0, loss=0.065, v_nb=55]\n",
      "Epoch 1:  55%|█████▍    | 100120/182400 [2:49:31<59:08, 23.19batch/s, batch_nb=96799, gpu=0, loss=0.065, v_nb=55]\n",
      "Epoch 1:  55%|█████▍    | 100123/182400 [2:49:31<59:26, 23.07batch/s, batch_nb=96799, gpu=0, loss=0.065, v_nb=55]\n",
      "Epoch 1:  55%|█████▍    | 100126/182400 [2:49:31<59:19, 23.11batch/s, batch_nb=96799, gpu=0, loss=0.065, v_nb=55]\n",
      "Epoch 1:  55%|█████▍    | 100129/182400 [2:49:31<59:18, 23.12batch/s, batch_nb=96799, gpu=0, loss=0.065, v_nb=55]\n",
      "Epoch 1:  55%|█████▍    | 100132/182400 [2:49:32<59:16, 23.13batch/s, batch_nb=96799, gpu=0, loss=0.065, v_nb=55]\n",
      "Epoch 1:  55%|█████▍    | 100135/182400 [2:49:32<59:15, 23.14batch/s, batch_nb=96799, gpu=0, loss=0.065, v_nb=55]\n",
      "Epoch 1:  55%|█████▍    | 100138/182400 [2:49:32<59:17, 23.12batch/s, batch_nb=96799, gpu=0, loss=0.065, v_nb=55]\n",
      "Epoch 1:  55%|█████▍    | 100141/182400 [2:49:32<59:17, 23.13batch/s, batch_nb=96799, gpu=0, loss=0.065, v_nb=55]\n",
      "Epoch 1:  55%|█████▍    | 100144/182400 [2:49:32<59:05, 23.20batch/s, batch_nb=96799, gpu=0, loss=0.065, v_nb=55]\n",
      "Epoch 1:  55%|█████▍    | 100147/182400 [2:49:32<58:55, 23.26batch/s, batch_nb=96799, gpu=0, loss=0.065, v_nb=55]\n",
      "Epoch 1:  55%|█████▍    | 100150/182400 [2:49:32<59:04, 23.21batch/s, batch_nb=96799, gpu=0, loss=0.065, v_nb=55]\n",
      "Epoch 1:  55%|█████▍    | 100153/182400 [2:49:33<59:08, 23.18batch/s, batch_nb=96799, gpu=0, loss=0.065, v_nb=55]\n",
      "Epoch 1:  55%|█████▍    | 100156/182400 [2:49:33<58:58, 23.24batch/s, batch_nb=96799, gpu=0, loss=0.065, v_nb=55]\n",
      "Epoch 1:  55%|█████▍    | 100159/182400 [2:49:33<58:52, 23.28batch/s, batch_nb=96799, gpu=0, loss=0.065, v_nb=55]\n",
      "Epoch 1:  55%|█████▍    | 100162/182400 [2:49:33<58:50, 23.29batch/s, batch_nb=96799, gpu=0, loss=0.065, v_nb=55]\n",
      "Epoch 1:  55%|█████▍    | 100165/182400 [2:49:33<59:00, 23.23batch/s, batch_nb=96799, gpu=0, loss=0.065, v_nb=55]\n",
      "Epoch 1:  55%|█████▍    | 100168/182400 [2:49:33<59:03, 23.21batch/s, batch_nb=96799, gpu=0, loss=0.065, v_nb=55]\n",
      "Epoch 1:  55%|█████▍    | 100171/182400 [2:49:33<59:12, 23.15batch/s, batch_nb=96799, gpu=0, loss=0.065, v_nb=55]\n",
      "Epoch 1:  55%|█████▍    | 100174/182400 [2:49:33<59:35, 23.00batch/s, batch_nb=96799, gpu=0, loss=0.065, v_nb=55]\n",
      "Epoch 1:  55%|█████▍    | 100177/182400 [2:49:34<59:36, 22.99batch/s, batch_nb=96799, gpu=0, loss=0.065, v_nb=55]\n",
      "Epoch 1:  55%|█████▍    | 100180/182400 [2:49:34<59:20, 23.09batch/s, batch_nb=96799, gpu=0, loss=0.065, v_nb=55]\n",
      "Epoch 1:  55%|█████▍    | 100183/182400 [2:49:34<59:12, 23.15batch/s, batch_nb=96799, gpu=0, loss=0.065, v_nb=55]\n",
      "Epoch 1:  55%|█████▍    | 100186/182400 [2:49:34<58:59, 23.22batch/s, batch_nb=96799, gpu=0, loss=0.065, v_nb=55]\n",
      "Epoch 1:  55%|█████▍    | 100189/182400 [2:49:34<58:51, 23.28batch/s, batch_nb=96799, gpu=0, loss=0.065, v_nb=55]\n",
      "Epoch 1:  55%|█████▍    | 100192/182400 [2:49:34<59:16, 23.11batch/s, batch_nb=96799, gpu=0, loss=0.065, v_nb=55]\n",
      "Epoch 1:  55%|█████▍    | 100195/182400 [2:49:34<59:32, 23.01batch/s, batch_nb=96799, gpu=0, loss=0.065, v_nb=55]\n",
      "Epoch 1:  55%|█████▍    | 100198/182400 [2:49:34<59:18, 23.10batch/s, batch_nb=96799, gpu=0, loss=0.065, v_nb=55]\n",
      "Epoch 1:  55%|█████▍    | 100201/182400 [2:49:35<59:05, 23.18batch/s, batch_nb=96799, gpu=0, loss=0.065, v_nb=55]\n",
      "Epoch 1:  55%|█████▍    | 100204/182400 [2:49:35<59:00, 23.22batch/s, batch_nb=96799, gpu=0, loss=0.065, v_nb=55]\n",
      "Epoch 1:  55%|█████▍    | 100207/182400 [2:49:35<59:03, 23.19batch/s, batch_nb=96799, gpu=0, loss=0.065, v_nb=55]\n",
      "Epoch 1:  55%|█████▍    | 100210/182400 [2:49:35<59:11, 23.14batch/s, batch_nb=96799, gpu=0, loss=0.065, v_nb=55]\n"
     ]
    },
    {
     "name": "stderr",
     "output_type": "stream",
     "text": [
      "Epoch 1:  55%|█████▍    | 100213/182400 [2:49:35<59:27, 23.04batch/s, batch_nb=96799, gpu=0, loss=0.065, v_nb=55]\n",
      "Epoch 1:  55%|█████▍    | 100216/182400 [2:49:35<59:35, 22.99batch/s, batch_nb=96799, gpu=0, loss=0.065, v_nb=55]\n",
      "Epoch 1:  55%|█████▍    | 100219/182400 [2:49:35<59:43, 22.93batch/s, batch_nb=96799, gpu=0, loss=0.065, v_nb=55]\n",
      "Epoch 1:  55%|█████▍    | 100222/182400 [2:49:35<59:30, 23.02batch/s, batch_nb=96799, gpu=0, loss=0.065, v_nb=55]\n",
      "Epoch 1:  55%|█████▍    | 100225/182400 [2:49:36<59:22, 23.06batch/s, batch_nb=96799, gpu=0, loss=0.065, v_nb=55]\n",
      "Epoch 1:  55%|█████▍    | 100228/182400 [2:49:36<59:13, 23.12batch/s, batch_nb=96799, gpu=0, loss=0.065, v_nb=55]\n",
      "Epoch 1:  55%|█████▍    | 100231/182400 [2:49:36<59:14, 23.12batch/s, batch_nb=96799, gpu=0, loss=0.065, v_nb=55]\n",
      "Epoch 1:  55%|█████▍    | 100234/182400 [2:49:36<59:03, 23.19batch/s, batch_nb=96799, gpu=0, loss=0.065, v_nb=55]\n",
      "Epoch 1:  55%|█████▍    | 100237/182400 [2:49:36<1:00:04, 22.80batch/s, batch_nb=96799, gpu=0, loss=0.065, v_nb=55]\n",
      "Epoch 1:  55%|█████▍    | 100240/182400 [2:49:36<1:00:38, 22.58batch/s, batch_nb=96799, gpu=0, loss=0.065, v_nb=55]\n",
      "Epoch 1:  55%|█████▍    | 100243/182400 [2:49:36<1:00:29, 22.63batch/s, batch_nb=96799, gpu=0, loss=0.065, v_nb=55]\n",
      "Epoch 1:  55%|█████▍    | 100246/182400 [2:49:37<1:00:21, 22.68batch/s, batch_nb=96799, gpu=0, loss=0.065, v_nb=55]\n",
      "Epoch 1:  55%|█████▍    | 100249/182400 [2:49:37<1:00:08, 22.77batch/s, batch_nb=96799, gpu=0, loss=0.065, v_nb=55]\n",
      "Epoch 1:  55%|█████▍    | 100252/182400 [2:49:37<59:57, 22.84batch/s, batch_nb=96799, gpu=0, loss=0.065, v_nb=55]  \n",
      "Epoch 1:  55%|█████▍    | 100255/182400 [2:49:37<59:52, 22.87batch/s, batch_nb=96799, gpu=0, loss=0.065, v_nb=55]\n",
      "Epoch 1:  55%|█████▍    | 100258/182400 [2:49:37<59:43, 22.92batch/s, batch_nb=96799, gpu=0, loss=0.065, v_nb=55]\n",
      "Epoch 1:  55%|█████▍    | 100261/182400 [2:49:37<59:28, 23.02batch/s, batch_nb=96799, gpu=0, loss=0.065, v_nb=55]\n",
      "Epoch 1:  55%|█████▍    | 100264/182400 [2:49:37<59:36, 22.97batch/s, batch_nb=96799, gpu=0, loss=0.065, v_nb=55]\n",
      "Epoch 1:  55%|█████▍    | 100267/182400 [2:49:37<59:28, 23.01batch/s, batch_nb=96799, gpu=0, loss=0.065, v_nb=55]\n",
      "Epoch 1:  55%|█████▍    | 100270/182400 [2:49:38<59:20, 23.07batch/s, batch_nb=96799, gpu=0, loss=0.065, v_nb=55]\n",
      "Epoch 1:  55%|█████▍    | 100273/182400 [2:49:38<59:25, 23.03batch/s, batch_nb=96799, gpu=0, loss=0.065, v_nb=55]\n",
      "Epoch 1:  55%|█████▍    | 100276/182400 [2:49:38<59:17, 23.09batch/s, batch_nb=96799, gpu=0, loss=0.065, v_nb=55]\n",
      "Epoch 1:  55%|█████▍    | 100279/182400 [2:49:38<59:19, 23.07batch/s, batch_nb=96799, gpu=0, loss=0.065, v_nb=55]\n",
      "Epoch 1:  55%|█████▍    | 100282/182400 [2:49:38<59:22, 23.05batch/s, batch_nb=96799, gpu=0, loss=0.065, v_nb=55]\n",
      "Epoch 1:  55%|█████▍    | 100285/182400 [2:49:38<59:23, 23.04batch/s, batch_nb=96799, gpu=0, loss=0.065, v_nb=55]\n",
      "Epoch 1:  55%|█████▍    | 100288/182400 [2:49:38<59:25, 23.03batch/s, batch_nb=96799, gpu=0, loss=0.065, v_nb=55]\n",
      "Epoch 1:  55%|█████▍    | 100291/182400 [2:49:38<59:25, 23.03batch/s, batch_nb=96799, gpu=0, loss=0.065, v_nb=55]\n",
      "Epoch 1:  55%|█████▍    | 100294/182400 [2:49:39<59:23, 23.04batch/s, batch_nb=96799, gpu=0, loss=0.065, v_nb=55]\n",
      "Epoch 1:  55%|█████▍    | 100297/182400 [2:49:39<59:24, 23.04batch/s, batch_nb=96799, gpu=0, loss=0.065, v_nb=55]\n",
      "Epoch 1:  55%|█████▍    | 100300/182400 [2:49:39<59:40, 22.93batch/s, batch_nb=96799, gpu=0, loss=0.065, v_nb=55]\n",
      "Epoch 1:  55%|█████▍    | 100303/182400 [2:49:39<59:46, 22.89batch/s, batch_nb=96799, gpu=0, loss=0.065, v_nb=55]\n",
      "Epoch 1:  55%|█████▍    | 100306/182400 [2:49:39<1:00:02, 22.79batch/s, batch_nb=96799, gpu=0, loss=0.065, v_nb=55]\n",
      "Epoch 1:  55%|█████▍    | 100309/182400 [2:49:39<59:46, 22.89batch/s, batch_nb=96799, gpu=0, loss=0.065, v_nb=55]  \n",
      "Epoch 1:  55%|█████▍    | 100312/182400 [2:49:39<59:32, 22.98batch/s, batch_nb=96799, gpu=0, loss=0.065, v_nb=55]\n",
      "Epoch 1:  55%|█████▍    | 100315/182400 [2:49:40<59:10, 23.12batch/s, batch_nb=96799, gpu=0, loss=0.065, v_nb=55]\n",
      "Epoch 1:  55%|█████▌    | 100320/182400 [2:49:41<59:02, 23.17batch/s, batch_nb=96799, gpu=0, loss=0.065, v_nb=55]\n",
      "Epoch 1:  56%|█████▌    | 101298/182400 [2:51:26<2:15:40,  9.96batch/s, batch_nb=97777, gpu=0, loss=0.067, v_nb=55]"
     ]
    },
    {
     "name": "stdout",
     "output_type": "stream",
     "text": [
      "Gradient overflow.  Skipping step, loss scaler 0 reducing loss scale to 4194304.0\n"
     ]
    },
    {
     "name": "stderr",
     "output_type": "stream",
     "text": [
      "Epoch 1:  57%|█████▋    | 103358/182400 [2:55:06<2:13:33,  9.86batch/s, batch_nb=99837, gpu=0, loss=0.066, v_nb=55]"
     ]
    },
    {
     "name": "stdout",
     "output_type": "stream",
     "text": [
      "Gradient overflow.  Skipping step, loss scaler 0 reducing loss scale to 4194304.0\n"
     ]
    },
    {
     "name": "stderr",
     "output_type": "stream",
     "text": [
      "Epoch 1:  58%|█████▊    | 105521/182400 [2:58:59<2:21:42,  9.04batch/s, batch_nb=102000, gpu=0, loss=0.065, v_nb=55]"
     ]
    },
    {
     "name": "stdout",
     "output_type": "stream",
     "text": [
      "Gradient overflow.  Skipping step, loss scaler 0 reducing loss scale to 4194304.0\n"
     ]
    },
    {
     "name": "stderr",
     "output_type": "stream",
     "text": [
      "Epoch 1:  59%|█████▉    | 107578/182400 [3:02:39<2:05:35,  9.93batch/s, batch_nb=104057, gpu=0, loss=0.066, v_nb=55]"
     ]
    },
    {
     "name": "stdout",
     "output_type": "stream",
     "text": [
      "Gradient overflow.  Skipping step, loss scaler 0 reducing loss scale to 4194304.0\n"
     ]
    },
    {
     "name": "stderr",
     "output_type": "stream",
     "text": [
      "Epoch 1:  60%|█████▉    | 109120/182400 [3:05:25<2:05:00,  9.77batch/s, batch_nb=105599, gpu=0, loss=0.067, v_nb=55]\n",
      "Validating:   0%|          | 0/320 [00:00<?, ?batch/s]\u001b[A\n",
      "Epoch 1:  60%|█████▉    | 109123/182400 [3:05:25<1:44:12, 11.72batch/s, batch_nb=105599, gpu=0, loss=0.067, v_nb=55]\n",
      "Epoch 1:  60%|█████▉    | 109126/182400 [3:05:26<1:28:46, 13.76batch/s, batch_nb=105599, gpu=0, loss=0.067, v_nb=55]\n",
      "Epoch 1:  60%|█████▉    | 109129/182400 [3:05:26<1:17:54, 15.68batch/s, batch_nb=105599, gpu=0, loss=0.067, v_nb=55]\n",
      "Epoch 1:  60%|█████▉    | 109132/182400 [3:05:26<1:10:30, 17.32batch/s, batch_nb=105599, gpu=0, loss=0.067, v_nb=55]\n",
      "Epoch 1:  60%|█████▉    | 109135/182400 [3:05:26<1:05:14, 18.71batch/s, batch_nb=105599, gpu=0, loss=0.067, v_nb=55]\n",
      "Epoch 1:  60%|█████▉    | 109138/182400 [3:05:26<1:01:29, 19.86batch/s, batch_nb=105599, gpu=0, loss=0.067, v_nb=55]\n",
      "Epoch 1:  60%|█████▉    | 109141/182400 [3:05:26<58:59, 20.70batch/s, batch_nb=105599, gpu=0, loss=0.067, v_nb=55]  \n",
      "Epoch 1:  60%|█████▉    | 109144/182400 [3:05:26<56:58, 21.43batch/s, batch_nb=105599, gpu=0, loss=0.067, v_nb=55]\n",
      "Epoch 1:  60%|█████▉    | 109147/182400 [3:05:26<55:27, 22.01batch/s, batch_nb=105599, gpu=0, loss=0.067, v_nb=55]\n",
      "Epoch 1:  60%|█████▉    | 109150/182400 [3:05:27<54:31, 22.39batch/s, batch_nb=105599, gpu=0, loss=0.067, v_nb=55]\n",
      "Epoch 1:  60%|█████▉    | 109153/182400 [3:05:27<54:00, 22.61batch/s, batch_nb=105599, gpu=0, loss=0.067, v_nb=55]\n",
      "Epoch 1:  60%|█████▉    | 109156/182400 [3:05:27<53:29, 22.82batch/s, batch_nb=105599, gpu=0, loss=0.067, v_nb=55]\n",
      "Epoch 1:  60%|█████▉    | 109159/182400 [3:05:27<53:16, 22.91batch/s, batch_nb=105599, gpu=0, loss=0.067, v_nb=55]\n",
      "Epoch 1:  60%|█████▉    | 109162/182400 [3:05:27<53:00, 23.03batch/s, batch_nb=105599, gpu=0, loss=0.067, v_nb=55]\n",
      "Epoch 1:  60%|█████▉    | 109165/182400 [3:05:27<52:58, 23.04batch/s, batch_nb=105599, gpu=0, loss=0.067, v_nb=55]\n",
      "Epoch 1:  60%|█████▉    | 109168/182400 [3:05:27<52:46, 23.12batch/s, batch_nb=105599, gpu=0, loss=0.067, v_nb=55]\n",
      "Epoch 1:  60%|█████▉    | 109171/182400 [3:05:28<52:44, 23.14batch/s, batch_nb=105599, gpu=0, loss=0.067, v_nb=55]\n",
      "Epoch 1:  60%|█████▉    | 109174/182400 [3:05:28<52:48, 23.11batch/s, batch_nb=105599, gpu=0, loss=0.067, v_nb=55]\n",
      "Epoch 1:  60%|█████▉    | 109177/182400 [3:05:28<52:34, 23.21batch/s, batch_nb=105599, gpu=0, loss=0.067, v_nb=55]\n",
      "Epoch 1:  60%|█████▉    | 109180/182400 [3:05:28<52:37, 23.19batch/s, batch_nb=105599, gpu=0, loss=0.067, v_nb=55]\n",
      "Epoch 1:  60%|█████▉    | 109183/182400 [3:05:28<52:31, 23.23batch/s, batch_nb=105599, gpu=0, loss=0.067, v_nb=55]\n",
      "Epoch 1:  60%|█████▉    | 109186/182400 [3:05:28<52:33, 23.21batch/s, batch_nb=105599, gpu=0, loss=0.067, v_nb=55]\n",
      "Epoch 1:  60%|█████▉    | 109189/182400 [3:05:28<52:35, 23.20batch/s, batch_nb=105599, gpu=0, loss=0.067, v_nb=55]\n",
      "Epoch 1:  60%|█████▉    | 109192/182400 [3:05:28<52:25, 23.27batch/s, batch_nb=105599, gpu=0, loss=0.067, v_nb=55]\n",
      "Epoch 1:  60%|█████▉    | 109195/182400 [3:05:29<52:26, 23.26batch/s, batch_nb=105599, gpu=0, loss=0.067, v_nb=55]\n",
      "Epoch 1:  60%|█████▉    | 109198/182400 [3:05:29<52:30, 23.24batch/s, batch_nb=105599, gpu=0, loss=0.067, v_nb=55]\n",
      "Epoch 1:  60%|█████▉    | 109201/182400 [3:05:29<52:21, 23.30batch/s, batch_nb=105599, gpu=0, loss=0.067, v_nb=55]\n",
      "Epoch 1:  60%|█████▉    | 109204/182400 [3:05:29<52:22, 23.29batch/s, batch_nb=105599, gpu=0, loss=0.067, v_nb=55]\n",
      "Epoch 1:  60%|█████▉    | 109207/182400 [3:05:29<52:19, 23.32batch/s, batch_nb=105599, gpu=0, loss=0.067, v_nb=55]\n",
      "Epoch 1:  60%|█████▉    | 109210/182400 [3:05:29<52:25, 23.27batch/s, batch_nb=105599, gpu=0, loss=0.067, v_nb=55]\n",
      "Epoch 1:  60%|█████▉    | 109213/182400 [3:05:29<52:19, 23.31batch/s, batch_nb=105599, gpu=0, loss=0.067, v_nb=55]\n",
      "Epoch 1:  60%|█████▉    | 109216/182400 [3:05:29<52:18, 23.32batch/s, batch_nb=105599, gpu=0, loss=0.067, v_nb=55]\n",
      "Epoch 1:  60%|█████▉    | 109219/182400 [3:05:30<52:27, 23.25batch/s, batch_nb=105599, gpu=0, loss=0.067, v_nb=55]\n",
      "Epoch 1:  60%|█████▉    | 109222/182400 [3:05:30<52:33, 23.21batch/s, batch_nb=105599, gpu=0, loss=0.067, v_nb=55]\n",
      "Epoch 1:  60%|█████▉    | 109225/182400 [3:05:30<52:27, 23.25batch/s, batch_nb=105599, gpu=0, loss=0.067, v_nb=55]\n",
      "Epoch 1:  60%|█████▉    | 109228/182400 [3:05:30<52:21, 23.29batch/s, batch_nb=105599, gpu=0, loss=0.067, v_nb=55]\n",
      "Epoch 1:  60%|█████▉    | 109231/182400 [3:05:30<52:28, 23.24batch/s, batch_nb=105599, gpu=0, loss=0.067, v_nb=55]\n",
      "Epoch 1:  60%|█████▉    | 109234/182400 [3:05:30<52:25, 23.26batch/s, batch_nb=105599, gpu=0, loss=0.067, v_nb=55]\n",
      "Epoch 1:  60%|█████▉    | 109237/182400 [3:05:30<52:30, 23.22batch/s, batch_nb=105599, gpu=0, loss=0.067, v_nb=55]\n",
      "Epoch 1:  60%|█████▉    | 109240/182400 [3:05:30<52:17, 23.32batch/s, batch_nb=105599, gpu=0, loss=0.067, v_nb=55]\n",
      "Epoch 1:  60%|█████▉    | 109243/182400 [3:05:31<52:24, 23.27batch/s, batch_nb=105599, gpu=0, loss=0.067, v_nb=55]\n",
      "Epoch 1:  60%|█████▉    | 109246/182400 [3:05:31<52:18, 23.31batch/s, batch_nb=105599, gpu=0, loss=0.067, v_nb=55]\n",
      "Epoch 1:  60%|█████▉    | 109249/182400 [3:05:31<52:16, 23.32batch/s, batch_nb=105599, gpu=0, loss=0.067, v_nb=55]\n",
      "Epoch 1:  60%|█████▉    | 109252/182400 [3:05:31<52:18, 23.30batch/s, batch_nb=105599, gpu=0, loss=0.067, v_nb=55]\n",
      "Epoch 1:  60%|█████▉    | 109255/182400 [3:05:31<52:16, 23.32batch/s, batch_nb=105599, gpu=0, loss=0.067, v_nb=55]\n",
      "Epoch 1:  60%|█████▉    | 109258/182400 [3:05:31<52:14, 23.34batch/s, batch_nb=105599, gpu=0, loss=0.067, v_nb=55]\n",
      "Epoch 1:  60%|█████▉    | 109261/182400 [3:05:31<52:06, 23.39batch/s, batch_nb=105599, gpu=0, loss=0.067, v_nb=55]\n",
      "Epoch 1:  60%|█████▉    | 109264/182400 [3:05:31<52:10, 23.36batch/s, batch_nb=105599, gpu=0, loss=0.067, v_nb=55]\n",
      "Epoch 1:  60%|█████▉    | 109267/182400 [3:05:32<52:10, 23.36batch/s, batch_nb=105599, gpu=0, loss=0.067, v_nb=55]\n",
      "Epoch 1:  60%|█████▉    | 109270/182400 [3:05:32<51:59, 23.44batch/s, batch_nb=105599, gpu=0, loss=0.067, v_nb=55]\n",
      "Epoch 1:  60%|█████▉    | 109273/182400 [3:05:32<51:59, 23.44batch/s, batch_nb=105599, gpu=0, loss=0.067, v_nb=55]\n",
      "Epoch 1:  60%|█████▉    | 109276/182400 [3:05:32<52:03, 23.41batch/s, batch_nb=105599, gpu=0, loss=0.067, v_nb=55]\n",
      "Epoch 1:  60%|█████▉    | 109279/182400 [3:05:32<51:56, 23.46batch/s, batch_nb=105599, gpu=0, loss=0.067, v_nb=55]\n",
      "Epoch 1:  60%|█████▉    | 109282/182400 [3:05:32<51:59, 23.44batch/s, batch_nb=105599, gpu=0, loss=0.067, v_nb=55]\n",
      "Epoch 1:  60%|█████▉    | 109285/182400 [3:05:32<52:02, 23.42batch/s, batch_nb=105599, gpu=0, loss=0.067, v_nb=55]\n",
      "Epoch 1:  60%|█████▉    | 109288/182400 [3:05:33<51:59, 23.44batch/s, batch_nb=105599, gpu=0, loss=0.067, v_nb=55]\n",
      "Epoch 1:  60%|█████▉    | 109291/182400 [3:05:33<52:09, 23.36batch/s, batch_nb=105599, gpu=0, loss=0.067, v_nb=55]\n",
      "Epoch 1:  60%|█████▉    | 109294/182400 [3:05:33<52:11, 23.34batch/s, batch_nb=105599, gpu=0, loss=0.067, v_nb=55]\n",
      "Epoch 1:  60%|█████▉    | 109297/182400 [3:05:33<52:10, 23.35batch/s, batch_nb=105599, gpu=0, loss=0.067, v_nb=55]\n",
      "Epoch 1:  60%|█████▉    | 109300/182400 [3:05:33<52:04, 23.39batch/s, batch_nb=105599, gpu=0, loss=0.067, v_nb=55]\n",
      "Epoch 1:  60%|█████▉    | 109303/182400 [3:05:33<52:03, 23.41batch/s, batch_nb=105599, gpu=0, loss=0.067, v_nb=55]\n",
      "Epoch 1:  60%|█████▉    | 109306/182400 [3:05:33<52:10, 23.35batch/s, batch_nb=105599, gpu=0, loss=0.067, v_nb=55]\n",
      "Epoch 1:  60%|█████▉    | 109309/182400 [3:05:33<52:07, 23.37batch/s, batch_nb=105599, gpu=0, loss=0.067, v_nb=55]\n",
      "Epoch 1:  60%|█████▉    | 109312/182400 [3:05:34<52:10, 23.34batch/s, batch_nb=105599, gpu=0, loss=0.067, v_nb=55]\n",
      "Epoch 1:  60%|█████▉    | 109315/182400 [3:05:34<52:12, 23.33batch/s, batch_nb=105599, gpu=0, loss=0.067, v_nb=55]\n",
      "Epoch 1:  60%|█████▉    | 109318/182400 [3:05:34<52:14, 23.32batch/s, batch_nb=105599, gpu=0, loss=0.067, v_nb=55]\n",
      "Epoch 1:  60%|█████▉    | 109321/182400 [3:05:34<52:08, 23.36batch/s, batch_nb=105599, gpu=0, loss=0.067, v_nb=55]\n",
      "Epoch 1:  60%|█████▉    | 109324/182400 [3:05:34<52:17, 23.29batch/s, batch_nb=105599, gpu=0, loss=0.067, v_nb=55]\n",
      "Epoch 1:  60%|█████▉    | 109327/182400 [3:05:34<52:36, 23.15batch/s, batch_nb=105599, gpu=0, loss=0.067, v_nb=55]\n"
     ]
    },
    {
     "name": "stderr",
     "output_type": "stream",
     "text": [
      "Epoch 1:  60%|█████▉    | 109330/182400 [3:05:34<52:50, 23.05batch/s, batch_nb=105599, gpu=0, loss=0.067, v_nb=55]\n",
      "Epoch 1:  60%|█████▉    | 109333/182400 [3:05:34<52:35, 23.16batch/s, batch_nb=105599, gpu=0, loss=0.067, v_nb=55]\n",
      "Epoch 1:  60%|█████▉    | 109336/182400 [3:05:35<52:26, 23.22batch/s, batch_nb=105599, gpu=0, loss=0.067, v_nb=55]\n",
      "Epoch 1:  60%|█████▉    | 109339/182400 [3:05:35<52:22, 23.25batch/s, batch_nb=105599, gpu=0, loss=0.067, v_nb=55]\n",
      "Epoch 1:  60%|█████▉    | 109342/182400 [3:05:35<52:17, 23.28batch/s, batch_nb=105599, gpu=0, loss=0.067, v_nb=55]\n",
      "Epoch 1:  60%|█████▉    | 109345/182400 [3:05:35<52:12, 23.32batch/s, batch_nb=105599, gpu=0, loss=0.067, v_nb=55]\n",
      "Epoch 1:  60%|█████▉    | 109348/182400 [3:05:35<52:10, 23.33batch/s, batch_nb=105599, gpu=0, loss=0.067, v_nb=55]\n",
      "Epoch 1:  60%|█████▉    | 109351/182400 [3:05:35<52:17, 23.28batch/s, batch_nb=105599, gpu=0, loss=0.067, v_nb=55]\n",
      "Epoch 1:  60%|█████▉    | 109354/182400 [3:05:35<52:21, 23.25batch/s, batch_nb=105599, gpu=0, loss=0.067, v_nb=55]\n",
      "Epoch 1:  60%|█████▉    | 109357/182400 [3:05:35<52:14, 23.30batch/s, batch_nb=105599, gpu=0, loss=0.067, v_nb=55]\n",
      "Epoch 1:  60%|█████▉    | 109360/182400 [3:05:36<52:11, 23.33batch/s, batch_nb=105599, gpu=0, loss=0.067, v_nb=55]\n",
      "Epoch 1:  60%|█████▉    | 109363/182400 [3:05:36<52:06, 23.36batch/s, batch_nb=105599, gpu=0, loss=0.067, v_nb=55]\n",
      "Epoch 1:  60%|█████▉    | 109366/182400 [3:05:36<52:06, 23.36batch/s, batch_nb=105599, gpu=0, loss=0.067, v_nb=55]\n",
      "Epoch 1:  60%|█████▉    | 109369/182400 [3:05:36<52:04, 23.37batch/s, batch_nb=105599, gpu=0, loss=0.067, v_nb=55]\n",
      "Epoch 1:  60%|█████▉    | 109372/182400 [3:05:36<52:05, 23.37batch/s, batch_nb=105599, gpu=0, loss=0.067, v_nb=55]\n",
      "Epoch 1:  60%|█████▉    | 109375/182400 [3:05:36<53:08, 22.91batch/s, batch_nb=105599, gpu=0, loss=0.067, v_nb=55]\n",
      "Epoch 1:  60%|█████▉    | 109378/182400 [3:05:36<53:09, 22.89batch/s, batch_nb=105599, gpu=0, loss=0.067, v_nb=55]\n",
      "Epoch 1:  60%|█████▉    | 109381/182400 [3:05:37<52:51, 23.03batch/s, batch_nb=105599, gpu=0, loss=0.067, v_nb=55]\n",
      "Epoch 1:  60%|█████▉    | 109384/182400 [3:05:37<52:38, 23.12batch/s, batch_nb=105599, gpu=0, loss=0.067, v_nb=55]\n",
      "Epoch 1:  60%|█████▉    | 109387/182400 [3:05:37<52:34, 23.15batch/s, batch_nb=105599, gpu=0, loss=0.067, v_nb=55]\n",
      "Epoch 1:  60%|█████▉    | 109390/182400 [3:05:37<52:24, 23.22batch/s, batch_nb=105599, gpu=0, loss=0.067, v_nb=55]\n",
      "Epoch 1:  60%|█████▉    | 109393/182400 [3:05:37<52:19, 23.26batch/s, batch_nb=105599, gpu=0, loss=0.067, v_nb=55]\n",
      "Epoch 1:  60%|█████▉    | 109396/182400 [3:05:37<52:13, 23.29batch/s, batch_nb=105599, gpu=0, loss=0.067, v_nb=55]\n",
      "Epoch 1:  60%|█████▉    | 109399/182400 [3:05:37<52:14, 23.29batch/s, batch_nb=105599, gpu=0, loss=0.067, v_nb=55]\n",
      "Epoch 1:  60%|█████▉    | 109402/182400 [3:05:37<52:06, 23.35batch/s, batch_nb=105599, gpu=0, loss=0.067, v_nb=55]\n",
      "Epoch 1:  60%|█████▉    | 109405/182400 [3:05:38<52:21, 23.23batch/s, batch_nb=105599, gpu=0, loss=0.067, v_nb=55]\n",
      "Epoch 1:  60%|█████▉    | 109408/182400 [3:05:38<52:36, 23.13batch/s, batch_nb=105599, gpu=0, loss=0.067, v_nb=55]\n",
      "Epoch 1:  60%|█████▉    | 109411/182400 [3:05:38<52:24, 23.21batch/s, batch_nb=105599, gpu=0, loss=0.067, v_nb=55]\n",
      "Epoch 1:  60%|█████▉    | 109414/182400 [3:05:38<52:24, 23.21batch/s, batch_nb=105599, gpu=0, loss=0.067, v_nb=55]\n",
      "Epoch 1:  60%|█████▉    | 109417/182400 [3:05:38<52:19, 23.25batch/s, batch_nb=105599, gpu=0, loss=0.067, v_nb=55]\n",
      "Epoch 1:  60%|█████▉    | 109420/182400 [3:05:38<52:17, 23.26batch/s, batch_nb=105599, gpu=0, loss=0.067, v_nb=55]\n",
      "Epoch 1:  60%|█████▉    | 109423/182400 [3:05:38<52:14, 23.28batch/s, batch_nb=105599, gpu=0, loss=0.067, v_nb=55]\n",
      "Epoch 1:  60%|█████▉    | 109426/182400 [3:05:38<52:07, 23.33batch/s, batch_nb=105599, gpu=0, loss=0.067, v_nb=55]\n",
      "Epoch 1:  60%|█████▉    | 109429/182400 [3:05:39<52:10, 23.31batch/s, batch_nb=105599, gpu=0, loss=0.067, v_nb=55]\n",
      "Epoch 1:  60%|█████▉    | 109432/182400 [3:05:39<52:16, 23.27batch/s, batch_nb=105599, gpu=0, loss=0.067, v_nb=55]\n",
      "Epoch 1:  60%|█████▉    | 109435/182400 [3:05:39<52:11, 23.30batch/s, batch_nb=105599, gpu=0, loss=0.067, v_nb=55]\n",
      "Epoch 1:  60%|██████    | 109440/182400 [3:05:41<52:09, 23.32batch/s, batch_nb=105599, gpu=0, loss=0.067, v_nb=55]\n",
      "Epoch 1:  60%|██████    | 109938/182400 [3:06:37<2:01:19,  9.95batch/s, batch_nb=106097, gpu=0, loss=0.067, v_nb=55] "
     ]
    },
    {
     "name": "stdout",
     "output_type": "stream",
     "text": [
      "Gradient overflow.  Skipping step, loss scaler 0 reducing loss scale to 4194304.0\n"
     ]
    },
    {
     "name": "stderr",
     "output_type": "stream",
     "text": [
      "Epoch 1:  60%|██████    | 110221/182400 [3:07:08<2:00:30,  9.98batch/s, batch_nb=106380, gpu=0, loss=0.066, v_nb=55]"
     ]
    },
    {
     "name": "stdout",
     "output_type": "stream",
     "text": [
      "Gradient overflow.  Skipping step, loss scaler 0 reducing loss scale to 2097152.0\n"
     ]
    },
    {
     "name": "stderr",
     "output_type": "stream",
     "text": [
      "Epoch 1:  63%|██████▎   | 114241/182400 [3:14:21<1:53:33, 10.00batch/s, batch_nb=110400, gpu=0, loss=0.066, v_nb=55]"
     ]
    },
    {
     "name": "stdout",
     "output_type": "stream",
     "text": [
      "Gradient overflow.  Skipping step, loss scaler 0 reducing loss scale to 4194304.0\n"
     ]
    },
    {
     "name": "stderr",
     "output_type": "stream",
     "text": [
      "Epoch 1:  64%|██████▍   | 116361/182400 [3:18:09<1:52:02,  9.82batch/s, batch_nb=112520, gpu=0, loss=0.064, v_nb=55]"
     ]
    },
    {
     "name": "stdout",
     "output_type": "stream",
     "text": [
      "Gradient overflow.  Skipping step, loss scaler 0 reducing loss scale to 4194304.0\n"
     ]
    },
    {
     "name": "stderr",
     "output_type": "stream",
     "text": [
      "Epoch 1:  65%|██████▍   | 118240/182400 [3:21:33<1:50:03,  9.72batch/s, batch_nb=114399, gpu=0, loss=0.066, v_nb=55]\n",
      "Validating:   0%|          | 0/320 [00:00<?, ?batch/s]\u001b[A\n",
      "Epoch 1:  65%|██████▍   | 118243/182400 [3:21:33<1:31:40, 11.66batch/s, batch_nb=114399, gpu=0, loss=0.066, v_nb=55]\n",
      "Epoch 1:  65%|██████▍   | 118246/182400 [3:21:33<1:18:09, 13.68batch/s, batch_nb=114399, gpu=0, loss=0.066, v_nb=55]\n",
      "Epoch 1:  65%|██████▍   | 118249/182400 [3:21:33<1:08:43, 15.56batch/s, batch_nb=114399, gpu=0, loss=0.066, v_nb=55]\n",
      "Epoch 1:  65%|██████▍   | 118252/182400 [3:21:33<1:02:00, 17.24batch/s, batch_nb=114399, gpu=0, loss=0.066, v_nb=55]\n",
      "Epoch 1:  65%|██████▍   | 118255/182400 [3:21:33<57:14, 18.68batch/s, batch_nb=114399, gpu=0, loss=0.066, v_nb=55]  \n",
      "Epoch 1:  65%|██████▍   | 118258/182400 [3:21:33<54:01, 19.79batch/s, batch_nb=114399, gpu=0, loss=0.066, v_nb=55]\n",
      "Epoch 1:  65%|██████▍   | 118261/182400 [3:21:34<51:36, 20.72batch/s, batch_nb=114399, gpu=0, loss=0.066, v_nb=55]\n",
      "Epoch 1:  65%|██████▍   | 118264/182400 [3:21:34<50:09, 21.31batch/s, batch_nb=114399, gpu=0, loss=0.066, v_nb=55]\n",
      "Epoch 1:  65%|██████▍   | 118267/182400 [3:21:34<48:55, 21.85batch/s, batch_nb=114399, gpu=0, loss=0.066, v_nb=55]\n",
      "Epoch 1:  65%|██████▍   | 118270/182400 [3:21:34<48:04, 22.23batch/s, batch_nb=114399, gpu=0, loss=0.066, v_nb=55]\n",
      "Epoch 1:  65%|██████▍   | 118273/182400 [3:21:34<47:46, 22.37batch/s, batch_nb=114399, gpu=0, loss=0.066, v_nb=55]\n",
      "Epoch 1:  65%|██████▍   | 118276/182400 [3:21:34<47:46, 22.37batch/s, batch_nb=114399, gpu=0, loss=0.066, v_nb=55]\n",
      "Epoch 1:  65%|██████▍   | 118279/182400 [3:21:34<47:59, 22.27batch/s, batch_nb=114399, gpu=0, loss=0.066, v_nb=55]\n",
      "Epoch 1:  65%|██████▍   | 118282/182400 [3:21:34<47:38, 22.43batch/s, batch_nb=114399, gpu=0, loss=0.066, v_nb=55]\n",
      "Epoch 1:  65%|██████▍   | 118285/182400 [3:21:35<47:23, 22.55batch/s, batch_nb=114399, gpu=0, loss=0.066, v_nb=55]\n",
      "Epoch 1:  65%|██████▍   | 118288/182400 [3:21:35<47:02, 22.72batch/s, batch_nb=114399, gpu=0, loss=0.066, v_nb=55]\n",
      "Epoch 1:  65%|██████▍   | 118291/182400 [3:21:35<46:36, 22.92batch/s, batch_nb=114399, gpu=0, loss=0.066, v_nb=55]\n",
      "Epoch 1:  65%|██████▍   | 118294/182400 [3:21:35<46:33, 22.95batch/s, batch_nb=114399, gpu=0, loss=0.066, v_nb=55]\n",
      "Epoch 1:  65%|██████▍   | 118297/182400 [3:21:35<46:24, 23.02batch/s, batch_nb=114399, gpu=0, loss=0.066, v_nb=55]\n",
      "Epoch 1:  65%|██████▍   | 118300/182400 [3:21:35<46:21, 23.05batch/s, batch_nb=114399, gpu=0, loss=0.066, v_nb=55]\n",
      "Epoch 1:  65%|██████▍   | 118303/182400 [3:21:35<46:09, 23.14batch/s, batch_nb=114399, gpu=0, loss=0.066, v_nb=55]\n",
      "Epoch 1:  65%|██████▍   | 118306/182400 [3:21:36<46:01, 23.21batch/s, batch_nb=114399, gpu=0, loss=0.066, v_nb=55]\n",
      "Epoch 1:  65%|██████▍   | 118309/182400 [3:21:36<46:05, 23.18batch/s, batch_nb=114399, gpu=0, loss=0.066, v_nb=55]\n",
      "Epoch 1:  65%|██████▍   | 118312/182400 [3:21:36<46:01, 23.21batch/s, batch_nb=114399, gpu=0, loss=0.066, v_nb=55]\n",
      "Epoch 1:  65%|██████▍   | 118315/182400 [3:21:36<45:58, 23.23batch/s, batch_nb=114399, gpu=0, loss=0.066, v_nb=55]\n",
      "Epoch 1:  65%|██████▍   | 118318/182400 [3:21:36<46:01, 23.20batch/s, batch_nb=114399, gpu=0, loss=0.066, v_nb=55]\n",
      "Epoch 1:  65%|██████▍   | 118321/182400 [3:21:36<46:27, 22.99batch/s, batch_nb=114399, gpu=0, loss=0.066, v_nb=55]\n",
      "Epoch 1:  65%|██████▍   | 118324/182400 [3:21:36<46:51, 22.79batch/s, batch_nb=114399, gpu=0, loss=0.066, v_nb=55]\n",
      "Epoch 1:  65%|██████▍   | 118327/182400 [3:21:36<46:36, 22.91batch/s, batch_nb=114399, gpu=0, loss=0.066, v_nb=55]\n",
      "Epoch 1:  65%|██████▍   | 118330/182400 [3:21:37<46:27, 22.98batch/s, batch_nb=114399, gpu=0, loss=0.066, v_nb=55]\n",
      "Epoch 1:  65%|██████▍   | 118333/182400 [3:21:37<46:11, 23.12batch/s, batch_nb=114399, gpu=0, loss=0.066, v_nb=55]\n",
      "Epoch 1:  65%|██████▍   | 118336/182400 [3:21:37<46:32, 22.94batch/s, batch_nb=114399, gpu=0, loss=0.066, v_nb=55]\n",
      "Epoch 1:  65%|██████▍   | 118339/182400 [3:21:37<46:33, 22.93batch/s, batch_nb=114399, gpu=0, loss=0.066, v_nb=55]\n",
      "Epoch 1:  65%|██████▍   | 118342/182400 [3:21:37<46:15, 23.08batch/s, batch_nb=114399, gpu=0, loss=0.066, v_nb=55]\n",
      "Epoch 1:  65%|██████▍   | 118345/182400 [3:21:37<46:07, 23.15batch/s, batch_nb=114399, gpu=0, loss=0.066, v_nb=55]\n",
      "Epoch 1:  65%|██████▍   | 118348/182400 [3:21:37<46:14, 23.09batch/s, batch_nb=114399, gpu=0, loss=0.066, v_nb=55]\n",
      "Epoch 1:  65%|██████▍   | 118351/182400 [3:21:37<46:15, 23.08batch/s, batch_nb=114399, gpu=0, loss=0.066, v_nb=55]\n",
      "Epoch 1:  65%|██████▍   | 118354/182400 [3:21:38<46:20, 23.03batch/s, batch_nb=114399, gpu=0, loss=0.066, v_nb=55]\n",
      "Epoch 1:  65%|██████▍   | 118357/182400 [3:21:38<46:05, 23.16batch/s, batch_nb=114399, gpu=0, loss=0.066, v_nb=55]\n",
      "Epoch 1:  65%|██████▍   | 118360/182400 [3:21:38<46:00, 23.20batch/s, batch_nb=114399, gpu=0, loss=0.066, v_nb=55]\n",
      "Epoch 1:  65%|██████▍   | 118363/182400 [3:21:38<45:58, 23.21batch/s, batch_nb=114399, gpu=0, loss=0.066, v_nb=55]\n",
      "Epoch 1:  65%|██████▍   | 118366/182400 [3:21:38<45:59, 23.21batch/s, batch_nb=114399, gpu=0, loss=0.066, v_nb=55]\n",
      "Epoch 1:  65%|██████▍   | 118369/182400 [3:21:38<46:15, 23.07batch/s, batch_nb=114399, gpu=0, loss=0.066, v_nb=55]\n",
      "Epoch 1:  65%|██████▍   | 118372/182400 [3:21:38<46:33, 22.92batch/s, batch_nb=114399, gpu=0, loss=0.066, v_nb=55]\n",
      "Epoch 1:  65%|██████▍   | 118375/182400 [3:21:39<46:30, 22.94batch/s, batch_nb=114399, gpu=0, loss=0.066, v_nb=55]\n",
      "Epoch 1:  65%|██████▍   | 118378/182400 [3:21:39<46:29, 22.95batch/s, batch_nb=114399, gpu=0, loss=0.066, v_nb=55]\n",
      "Epoch 1:  65%|██████▍   | 118381/182400 [3:21:39<46:30, 22.94batch/s, batch_nb=114399, gpu=0, loss=0.066, v_nb=55]\n",
      "Epoch 1:  65%|██████▍   | 118384/182400 [3:21:39<46:33, 22.92batch/s, batch_nb=114399, gpu=0, loss=0.066, v_nb=55]\n",
      "Epoch 1:  65%|██████▍   | 118387/182400 [3:21:39<46:28, 22.96batch/s, batch_nb=114399, gpu=0, loss=0.066, v_nb=55]\n",
      "Epoch 1:  65%|██████▍   | 118390/182400 [3:21:39<46:22, 23.01batch/s, batch_nb=114399, gpu=0, loss=0.066, v_nb=55]\n",
      "Epoch 1:  65%|██████▍   | 118393/182400 [3:21:39<46:34, 22.90batch/s, batch_nb=114399, gpu=0, loss=0.066, v_nb=55]\n",
      "Epoch 1:  65%|██████▍   | 118396/182400 [3:21:39<46:27, 22.96batch/s, batch_nb=114399, gpu=0, loss=0.066, v_nb=55]\n",
      "Epoch 1:  65%|██████▍   | 118399/182400 [3:21:40<46:20, 23.02batch/s, batch_nb=114399, gpu=0, loss=0.066, v_nb=55]\n",
      "Epoch 1:  65%|██████▍   | 118402/182400 [3:21:40<46:11, 23.09batch/s, batch_nb=114399, gpu=0, loss=0.066, v_nb=55]\n",
      "Epoch 1:  65%|██████▍   | 118405/182400 [3:21:40<46:26, 22.97batch/s, batch_nb=114399, gpu=0, loss=0.066, v_nb=55]\n",
      "Epoch 1:  65%|██████▍   | 118408/182400 [3:21:40<46:28, 22.95batch/s, batch_nb=114399, gpu=0, loss=0.066, v_nb=55]\n",
      "Epoch 1:  65%|██████▍   | 118411/182400 [3:21:40<46:23, 22.99batch/s, batch_nb=114399, gpu=0, loss=0.066, v_nb=55]\n",
      "Epoch 1:  65%|██████▍   | 118414/182400 [3:21:40<46:35, 22.89batch/s, batch_nb=114399, gpu=0, loss=0.066, v_nb=55]\n",
      "Epoch 1:  65%|██████▍   | 118417/182400 [3:21:40<46:26, 22.97batch/s, batch_nb=114399, gpu=0, loss=0.066, v_nb=55]\n",
      "Epoch 1:  65%|██████▍   | 118420/182400 [3:21:40<46:14, 23.06batch/s, batch_nb=114399, gpu=0, loss=0.066, v_nb=55]\n",
      "Epoch 1:  65%|██████▍   | 118423/182400 [3:21:41<46:14, 23.06batch/s, batch_nb=114399, gpu=0, loss=0.066, v_nb=55]\n",
      "Epoch 1:  65%|██████▍   | 118426/182400 [3:21:41<46:14, 23.06batch/s, batch_nb=114399, gpu=0, loss=0.066, v_nb=55]\n",
      "Epoch 1:  65%|██████▍   | 118429/182400 [3:21:41<46:26, 22.95batch/s, batch_nb=114399, gpu=0, loss=0.066, v_nb=55]\n",
      "Epoch 1:  65%|██████▍   | 118432/182400 [3:21:41<46:16, 23.04batch/s, batch_nb=114399, gpu=0, loss=0.066, v_nb=55]\n",
      "Epoch 1:  65%|██████▍   | 118435/182400 [3:21:41<46:04, 23.14batch/s, batch_nb=114399, gpu=0, loss=0.066, v_nb=55]\n",
      "Epoch 1:  65%|██████▍   | 118438/182400 [3:21:41<46:03, 23.15batch/s, batch_nb=114399, gpu=0, loss=0.066, v_nb=55]\n",
      "Epoch 1:  65%|██████▍   | 118441/182400 [3:21:41<46:02, 23.15batch/s, batch_nb=114399, gpu=0, loss=0.066, v_nb=55]\n",
      "Epoch 1:  65%|██████▍   | 118444/182400 [3:21:42<45:54, 23.22batch/s, batch_nb=114399, gpu=0, loss=0.066, v_nb=55]\n",
      "Epoch 1:  65%|██████▍   | 118447/182400 [3:21:42<45:56, 23.20batch/s, batch_nb=114399, gpu=0, loss=0.066, v_nb=55]\n"
     ]
    },
    {
     "name": "stderr",
     "output_type": "stream",
     "text": [
      "Epoch 1:  65%|██████▍   | 118450/182400 [3:21:42<45:52, 23.23batch/s, batch_nb=114399, gpu=0, loss=0.066, v_nb=55]\n",
      "Epoch 1:  65%|██████▍   | 118453/182400 [3:21:42<45:56, 23.20batch/s, batch_nb=114399, gpu=0, loss=0.066, v_nb=55]\n",
      "Epoch 1:  65%|██████▍   | 118456/182400 [3:21:42<45:51, 23.24batch/s, batch_nb=114399, gpu=0, loss=0.066, v_nb=55]\n",
      "Epoch 1:  65%|██████▍   | 118459/182400 [3:21:42<45:44, 23.30batch/s, batch_nb=114399, gpu=0, loss=0.066, v_nb=55]\n",
      "Epoch 1:  65%|██████▍   | 118462/182400 [3:21:42<45:42, 23.31batch/s, batch_nb=114399, gpu=0, loss=0.066, v_nb=55]\n",
      "Epoch 1:  65%|██████▍   | 118465/182400 [3:21:42<45:42, 23.31batch/s, batch_nb=114399, gpu=0, loss=0.066, v_nb=55]\n",
      "Epoch 1:  65%|██████▍   | 118468/182400 [3:21:43<45:44, 23.30batch/s, batch_nb=114399, gpu=0, loss=0.066, v_nb=55]\n",
      "Epoch 1:  65%|██████▍   | 118471/182400 [3:21:43<45:44, 23.30batch/s, batch_nb=114399, gpu=0, loss=0.066, v_nb=55]\n",
      "Epoch 1:  65%|██████▍   | 118474/182400 [3:21:43<46:01, 23.14batch/s, batch_nb=114399, gpu=0, loss=0.066, v_nb=55]\n",
      "Epoch 1:  65%|██████▍   | 118477/182400 [3:21:43<46:02, 23.14batch/s, batch_nb=114399, gpu=0, loss=0.066, v_nb=55]\n",
      "Epoch 1:  65%|██████▍   | 118480/182400 [3:21:43<46:17, 23.01batch/s, batch_nb=114399, gpu=0, loss=0.066, v_nb=55]\n",
      "Epoch 1:  65%|██████▍   | 118483/182400 [3:21:43<46:32, 22.89batch/s, batch_nb=114399, gpu=0, loss=0.066, v_nb=55]\n",
      "Epoch 1:  65%|██████▍   | 118486/182400 [3:21:43<46:35, 22.87batch/s, batch_nb=114399, gpu=0, loss=0.066, v_nb=55]\n",
      "Epoch 1:  65%|██████▍   | 118489/182400 [3:21:43<46:23, 22.96batch/s, batch_nb=114399, gpu=0, loss=0.066, v_nb=55]\n",
      "Epoch 1:  65%|██████▍   | 118492/182400 [3:21:44<46:18, 23.00batch/s, batch_nb=114399, gpu=0, loss=0.066, v_nb=55]\n",
      "Epoch 1:  65%|██████▍   | 118495/182400 [3:21:44<46:03, 23.13batch/s, batch_nb=114399, gpu=0, loss=0.066, v_nb=55]\n",
      "Epoch 1:  65%|██████▍   | 118498/182400 [3:21:44<46:04, 23.12batch/s, batch_nb=114399, gpu=0, loss=0.066, v_nb=55]\n",
      "Epoch 1:  65%|██████▍   | 118501/182400 [3:21:44<45:56, 23.18batch/s, batch_nb=114399, gpu=0, loss=0.066, v_nb=55]\n",
      "Epoch 1:  65%|██████▍   | 118504/182400 [3:21:44<45:54, 23.19batch/s, batch_nb=114399, gpu=0, loss=0.066, v_nb=55]\n",
      "Epoch 1:  65%|██████▍   | 118507/182400 [3:21:44<45:50, 23.23batch/s, batch_nb=114399, gpu=0, loss=0.066, v_nb=55]\n",
      "Epoch 1:  65%|██████▍   | 118510/182400 [3:21:44<45:59, 23.15batch/s, batch_nb=114399, gpu=0, loss=0.066, v_nb=55]\n",
      "Epoch 1:  65%|██████▍   | 118513/182400 [3:21:44<46:06, 23.09batch/s, batch_nb=114399, gpu=0, loss=0.066, v_nb=55]\n",
      "Epoch 1:  65%|██████▍   | 118516/182400 [3:21:45<46:08, 23.07batch/s, batch_nb=114399, gpu=0, loss=0.066, v_nb=55]\n",
      "Epoch 1:  65%|██████▍   | 118519/182400 [3:21:45<46:21, 22.97batch/s, batch_nb=114399, gpu=0, loss=0.066, v_nb=55]\n",
      "Epoch 1:  65%|██████▍   | 118522/182400 [3:21:45<46:31, 22.88batch/s, batch_nb=114399, gpu=0, loss=0.066, v_nb=55]\n",
      "Epoch 1:  65%|██████▍   | 118525/182400 [3:21:45<46:42, 22.79batch/s, batch_nb=114399, gpu=0, loss=0.066, v_nb=55]\n",
      "Epoch 1:  65%|██████▍   | 118528/182400 [3:21:45<46:31, 22.88batch/s, batch_nb=114399, gpu=0, loss=0.066, v_nb=55]\n",
      "Epoch 1:  65%|██████▍   | 118531/182400 [3:21:45<46:36, 22.84batch/s, batch_nb=114399, gpu=0, loss=0.066, v_nb=55]\n",
      "Epoch 1:  65%|██████▍   | 118534/182400 [3:21:45<46:31, 22.88batch/s, batch_nb=114399, gpu=0, loss=0.066, v_nb=55]\n",
      "Epoch 1:  65%|██████▍   | 118537/182400 [3:21:46<46:29, 22.89batch/s, batch_nb=114399, gpu=0, loss=0.066, v_nb=55]\n",
      "Epoch 1:  65%|██████▍   | 118540/182400 [3:21:46<46:29, 22.89batch/s, batch_nb=114399, gpu=0, loss=0.066, v_nb=55]\n",
      "Epoch 1:  65%|██████▍   | 118543/182400 [3:21:46<46:40, 22.80batch/s, batch_nb=114399, gpu=0, loss=0.066, v_nb=55]\n",
      "Epoch 1:  65%|██████▍   | 118546/182400 [3:21:46<46:43, 22.78batch/s, batch_nb=114399, gpu=0, loss=0.066, v_nb=55]\n",
      "Epoch 1:  65%|██████▍   | 118549/182400 [3:21:46<46:35, 22.84batch/s, batch_nb=114399, gpu=0, loss=0.066, v_nb=55]\n",
      "Epoch 1:  65%|██████▍   | 118552/182400 [3:21:46<46:42, 22.78batch/s, batch_nb=114399, gpu=0, loss=0.066, v_nb=55]\n",
      "Epoch 1:  65%|██████▍   | 118555/182400 [3:21:46<46:40, 22.80batch/s, batch_nb=114399, gpu=0, loss=0.066, v_nb=55]\n",
      "Epoch 1:  65%|██████▌   | 118560/182400 [3:21:48<46:39, 22.81batch/s, batch_nb=114399, gpu=0, loss=0.066, v_nb=55]\n",
      "Epoch 1:  65%|██████▌   | 118701/182400 [3:22:07<2:17:49,  7.70batch/s, batch_nb=114540, gpu=0, loss=0.066, v_nb=55]"
     ]
    },
    {
     "name": "stdout",
     "output_type": "stream",
     "text": [
      "Gradient overflow.  Skipping step, loss scaler 0 reducing loss scale to 4194304.0\n"
     ]
    },
    {
     "name": "stderr",
     "output_type": "stream",
     "text": [
      "Epoch 1:  66%|██████▌   | 120670/182400 [3:25:41<1:50:02,  9.35batch/s, batch_nb=116509, gpu=0, loss=0.065, v_nb=55]"
     ]
    },
    {
     "name": "stdout",
     "output_type": "stream",
     "text": [
      "Gradient overflow.  Skipping step, loss scaler 0 reducing loss scale to 2097152.0\n"
     ]
    },
    {
     "name": "stderr",
     "output_type": "stream",
     "text": [
      "Epoch 1:  69%|██████▊   | 125121/182400 [3:33:44<1:36:37,  9.88batch/s, batch_nb=120960, gpu=0, loss=0.066, v_nb=55]"
     ]
    },
    {
     "name": "stdout",
     "output_type": "stream",
     "text": [
      "Gradient overflow.  Skipping step, loss scaler 0 reducing loss scale to 4194304.0\n"
     ]
    },
    {
     "name": "stderr",
     "output_type": "stream",
     "text": [
      "Epoch 1:  70%|██████▉   | 127141/182400 [3:37:24<1:33:01,  9.90batch/s, batch_nb=122980, gpu=0, loss=0.066, v_nb=55]"
     ]
    },
    {
     "name": "stdout",
     "output_type": "stream",
     "text": [
      "Gradient overflow.  Skipping step, loss scaler 0 reducing loss scale to 4194304.0\n"
     ]
    },
    {
     "name": "stderr",
     "output_type": "stream",
     "text": [
      "Epoch 1:  70%|██████▉   | 127360/182400 [3:37:48<1:34:31,  9.70batch/s, batch_nb=123199, gpu=0, loss=0.064, v_nb=55]\n",
      "Validating:   0%|          | 0/320 [00:00<?, ?batch/s]\u001b[A\n",
      "Epoch 1:  70%|██████▉   | 127363/182400 [3:37:48<1:19:04, 11.60batch/s, batch_nb=123199, gpu=0, loss=0.064, v_nb=55]\n",
      "Epoch 1:  70%|██████▉   | 127366/182400 [3:37:48<1:07:16, 13.63batch/s, batch_nb=123199, gpu=0, loss=0.064, v_nb=55]\n",
      "Epoch 1:  70%|██████▉   | 127369/182400 [3:37:48<58:59, 15.55batch/s, batch_nb=123199, gpu=0, loss=0.064, v_nb=55]  \n",
      "Epoch 1:  70%|██████▉   | 127372/182400 [3:37:49<53:15, 17.22batch/s, batch_nb=123199, gpu=0, loss=0.064, v_nb=55]\n",
      "Epoch 1:  70%|██████▉   | 127375/182400 [3:37:49<49:19, 18.59batch/s, batch_nb=123199, gpu=0, loss=0.064, v_nb=55]\n",
      "Epoch 1:  70%|██████▉   | 127378/182400 [3:37:49<46:27, 19.74batch/s, batch_nb=123199, gpu=0, loss=0.064, v_nb=55]\n",
      "Epoch 1:  70%|██████▉   | 127381/182400 [3:37:49<44:26, 20.63batch/s, batch_nb=123199, gpu=0, loss=0.064, v_nb=55]\n",
      "Epoch 1:  70%|██████▉   | 127384/182400 [3:37:49<43:09, 21.24batch/s, batch_nb=123199, gpu=0, loss=0.064, v_nb=55]\n",
      "Epoch 1:  70%|██████▉   | 127387/182400 [3:37:49<42:14, 21.71batch/s, batch_nb=123199, gpu=0, loss=0.064, v_nb=55]\n",
      "Epoch 1:  70%|██████▉   | 127390/182400 [3:37:49<41:34, 22.06batch/s, batch_nb=123199, gpu=0, loss=0.064, v_nb=55]\n",
      "Epoch 1:  70%|██████▉   | 127393/182400 [3:37:50<41:08, 22.28batch/s, batch_nb=123199, gpu=0, loss=0.064, v_nb=55]\n",
      "Epoch 1:  70%|██████▉   | 127396/182400 [3:37:50<40:50, 22.44batch/s, batch_nb=123199, gpu=0, loss=0.064, v_nb=55]\n",
      "Epoch 1:  70%|██████▉   | 127399/182400 [3:37:50<40:33, 22.60batch/s, batch_nb=123199, gpu=0, loss=0.064, v_nb=55]\n",
      "Epoch 1:  70%|██████▉   | 127402/182400 [3:37:50<40:30, 22.63batch/s, batch_nb=123199, gpu=0, loss=0.064, v_nb=55]\n",
      "Epoch 1:  70%|██████▉   | 127405/182400 [3:37:50<40:21, 22.71batch/s, batch_nb=123199, gpu=0, loss=0.064, v_nb=55]\n",
      "Epoch 1:  70%|██████▉   | 127408/182400 [3:37:50<40:22, 22.70batch/s, batch_nb=123199, gpu=0, loss=0.064, v_nb=55]\n",
      "Epoch 1:  70%|██████▉   | 127411/182400 [3:37:50<40:19, 22.73batch/s, batch_nb=123199, gpu=0, loss=0.064, v_nb=55]\n",
      "Epoch 1:  70%|██████▉   | 127414/182400 [3:37:50<40:07, 22.84batch/s, batch_nb=123199, gpu=0, loss=0.064, v_nb=55]\n",
      "Epoch 1:  70%|██████▉   | 127417/182400 [3:37:51<39:57, 22.93batch/s, batch_nb=123199, gpu=0, loss=0.064, v_nb=55]\n",
      "Epoch 1:  70%|██████▉   | 127420/182400 [3:37:51<39:51, 22.99batch/s, batch_nb=123199, gpu=0, loss=0.064, v_nb=55]\n",
      "Epoch 1:  70%|██████▉   | 127423/182400 [3:37:51<39:58, 22.92batch/s, batch_nb=123199, gpu=0, loss=0.064, v_nb=55]\n",
      "Epoch 1:  70%|██████▉   | 127426/182400 [3:37:51<40:09, 22.81batch/s, batch_nb=123199, gpu=0, loss=0.064, v_nb=55]\n",
      "Epoch 1:  70%|██████▉   | 127429/182400 [3:37:51<40:01, 22.89batch/s, batch_nb=123199, gpu=0, loss=0.064, v_nb=55]\n",
      "Epoch 1:  70%|██████▉   | 127432/182400 [3:37:51<40:04, 22.86batch/s, batch_nb=123199, gpu=0, loss=0.064, v_nb=55]\n",
      "Epoch 1:  70%|██████▉   | 127435/182400 [3:37:51<40:07, 22.83batch/s, batch_nb=123199, gpu=0, loss=0.064, v_nb=55]\n",
      "Epoch 1:  70%|██████▉   | 127438/182400 [3:37:52<39:58, 22.92batch/s, batch_nb=123199, gpu=0, loss=0.064, v_nb=55]\n",
      "Epoch 1:  70%|██████▉   | 127441/182400 [3:37:52<39:51, 22.98batch/s, batch_nb=123199, gpu=0, loss=0.064, v_nb=55]\n",
      "Epoch 1:  70%|██████▉   | 127444/182400 [3:37:52<39:49, 23.00batch/s, batch_nb=123199, gpu=0, loss=0.064, v_nb=55]\n",
      "Epoch 1:  70%|██████▉   | 127447/182400 [3:37:52<39:48, 23.01batch/s, batch_nb=123199, gpu=0, loss=0.064, v_nb=55]\n",
      "Epoch 1:  70%|██████▉   | 127450/182400 [3:37:52<39:46, 23.03batch/s, batch_nb=123199, gpu=0, loss=0.064, v_nb=55]\n",
      "Epoch 1:  70%|██████▉   | 127453/182400 [3:37:52<39:54, 22.95batch/s, batch_nb=123199, gpu=0, loss=0.064, v_nb=55]\n",
      "Epoch 1:  70%|██████▉   | 127456/182400 [3:37:52<39:57, 22.91batch/s, batch_nb=123199, gpu=0, loss=0.064, v_nb=55]\n",
      "Epoch 1:  70%|██████▉   | 127459/182400 [3:37:52<40:01, 22.88batch/s, batch_nb=123199, gpu=0, loss=0.064, v_nb=55]\n",
      "Epoch 1:  70%|██████▉   | 127462/182400 [3:37:53<39:53, 22.95batch/s, batch_nb=123199, gpu=0, loss=0.064, v_nb=55]\n",
      "Epoch 1:  70%|██████▉   | 127465/182400 [3:37:53<39:55, 22.93batch/s, batch_nb=123199, gpu=0, loss=0.064, v_nb=55]\n",
      "Epoch 1:  70%|██████▉   | 127468/182400 [3:37:53<39:54, 22.95batch/s, batch_nb=123199, gpu=0, loss=0.064, v_nb=55]\n",
      "Epoch 1:  70%|██████▉   | 127471/182400 [3:37:53<39:47, 23.00batch/s, batch_nb=123199, gpu=0, loss=0.064, v_nb=55]\n",
      "Epoch 1:  70%|██████▉   | 127474/182400 [3:37:53<39:55, 22.93batch/s, batch_nb=123199, gpu=0, loss=0.064, v_nb=55]\n",
      "Epoch 1:  70%|██████▉   | 127477/182400 [3:37:53<39:51, 22.97batch/s, batch_nb=123199, gpu=0, loss=0.064, v_nb=55]\n",
      "Epoch 1:  70%|██████▉   | 127480/182400 [3:37:53<39:54, 22.94batch/s, batch_nb=123199, gpu=0, loss=0.064, v_nb=55]\n",
      "Epoch 1:  70%|██████▉   | 127483/182400 [3:37:53<39:52, 22.95batch/s, batch_nb=123199, gpu=0, loss=0.064, v_nb=55]\n",
      "Epoch 1:  70%|██████▉   | 127486/182400 [3:37:54<39:51, 22.96batch/s, batch_nb=123199, gpu=0, loss=0.064, v_nb=55]\n",
      "Epoch 1:  70%|██████▉   | 127489/182400 [3:37:54<39:54, 22.94batch/s, batch_nb=123199, gpu=0, loss=0.064, v_nb=55]\n",
      "Epoch 1:  70%|██████▉   | 127492/182400 [3:37:54<39:49, 22.98batch/s, batch_nb=123199, gpu=0, loss=0.064, v_nb=55]\n",
      "Epoch 1:  70%|██████▉   | 127495/182400 [3:37:54<39:46, 23.01batch/s, batch_nb=123199, gpu=0, loss=0.064, v_nb=55]\n",
      "Epoch 1:  70%|██████▉   | 127498/182400 [3:37:54<39:44, 23.03batch/s, batch_nb=123199, gpu=0, loss=0.064, v_nb=55]\n",
      "Epoch 1:  70%|██████▉   | 127501/182400 [3:37:54<39:44, 23.02batch/s, batch_nb=123199, gpu=0, loss=0.064, v_nb=55]\n",
      "Epoch 1:  70%|██████▉   | 127504/182400 [3:37:54<39:45, 23.01batch/s, batch_nb=123199, gpu=0, loss=0.064, v_nb=55]\n",
      "Epoch 1:  70%|██████▉   | 127507/182400 [3:37:55<39:53, 22.93batch/s, batch_nb=123199, gpu=0, loss=0.064, v_nb=55]\n",
      "Epoch 1:  70%|██████▉   | 127510/182400 [3:37:55<39:55, 22.91batch/s, batch_nb=123199, gpu=0, loss=0.064, v_nb=55]\n",
      "Epoch 1:  70%|██████▉   | 127513/182400 [3:37:55<39:50, 22.96batch/s, batch_nb=123199, gpu=0, loss=0.064, v_nb=55]\n",
      "Epoch 1:  70%|██████▉   | 127516/182400 [3:37:55<39:53, 22.93batch/s, batch_nb=123199, gpu=0, loss=0.064, v_nb=55]\n",
      "Epoch 1:  70%|██████▉   | 127519/182400 [3:37:55<39:45, 23.01batch/s, batch_nb=123199, gpu=0, loss=0.064, v_nb=55]\n",
      "Epoch 1:  70%|██████▉   | 127522/182400 [3:37:55<39:35, 23.10batch/s, batch_nb=123199, gpu=0, loss=0.064, v_nb=55]\n",
      "Epoch 1:  70%|██████▉   | 127525/182400 [3:37:55<39:28, 23.17batch/s, batch_nb=123199, gpu=0, loss=0.064, v_nb=55]\n",
      "Epoch 1:  70%|██████▉   | 127528/182400 [3:37:55<39:26, 23.18batch/s, batch_nb=123199, gpu=0, loss=0.064, v_nb=55]\n",
      "Epoch 1:  70%|██████▉   | 127531/182400 [3:37:56<39:28, 23.17batch/s, batch_nb=123199, gpu=0, loss=0.064, v_nb=55]\n",
      "Epoch 1:  70%|██████▉   | 127534/182400 [3:37:56<39:23, 23.22batch/s, batch_nb=123199, gpu=0, loss=0.064, v_nb=55]\n",
      "Epoch 1:  70%|██████▉   | 127537/182400 [3:37:56<39:18, 23.26batch/s, batch_nb=123199, gpu=0, loss=0.064, v_nb=55]\n",
      "Epoch 1:  70%|██████▉   | 127540/182400 [3:37:56<39:11, 23.33batch/s, batch_nb=123199, gpu=0, loss=0.064, v_nb=55]\n",
      "Epoch 1:  70%|██████▉   | 127543/182400 [3:37:56<39:21, 23.23batch/s, batch_nb=123199, gpu=0, loss=0.064, v_nb=55]\n",
      "Epoch 1:  70%|██████▉   | 127546/182400 [3:37:56<39:15, 23.29batch/s, batch_nb=123199, gpu=0, loss=0.064, v_nb=55]\n",
      "Epoch 1:  70%|██████▉   | 127549/182400 [3:37:56<39:19, 23.24batch/s, batch_nb=123199, gpu=0, loss=0.064, v_nb=55]\n",
      "Epoch 1:  70%|██████▉   | 127552/182400 [3:37:56<39:17, 23.27batch/s, batch_nb=123199, gpu=0, loss=0.064, v_nb=55]\n",
      "Epoch 1:  70%|██████▉   | 127555/182400 [3:37:57<39:14, 23.29batch/s, batch_nb=123199, gpu=0, loss=0.064, v_nb=55]\n",
      "Epoch 1:  70%|██████▉   | 127558/182400 [3:37:57<39:15, 23.28batch/s, batch_nb=123199, gpu=0, loss=0.064, v_nb=55]\n",
      "Epoch 1:  70%|██████▉   | 127561/182400 [3:37:57<39:08, 23.35batch/s, batch_nb=123199, gpu=0, loss=0.064, v_nb=55]\n",
      "Epoch 1:  70%|██████▉   | 127564/182400 [3:37:57<39:12, 23.31batch/s, batch_nb=123199, gpu=0, loss=0.064, v_nb=55]\n",
      "Epoch 1:  70%|██████▉   | 127567/182400 [3:37:57<39:17, 23.26batch/s, batch_nb=123199, gpu=0, loss=0.064, v_nb=55]\n"
     ]
    },
    {
     "name": "stderr",
     "output_type": "stream",
     "text": [
      "Epoch 1:  70%|██████▉   | 127570/182400 [3:37:57<39:20, 23.23batch/s, batch_nb=123199, gpu=0, loss=0.064, v_nb=55]\n",
      "Epoch 1:  70%|██████▉   | 127573/182400 [3:37:57<39:23, 23.20batch/s, batch_nb=123199, gpu=0, loss=0.064, v_nb=55]\n",
      "Epoch 1:  70%|██████▉   | 127576/182400 [3:37:57<39:24, 23.19batch/s, batch_nb=123199, gpu=0, loss=0.064, v_nb=55]\n",
      "Epoch 1:  70%|██████▉   | 127579/182400 [3:37:58<39:33, 23.09batch/s, batch_nb=123199, gpu=0, loss=0.064, v_nb=55]\n",
      "Epoch 1:  70%|██████▉   | 127582/182400 [3:37:58<39:41, 23.01batch/s, batch_nb=123199, gpu=0, loss=0.064, v_nb=55]\n",
      "Epoch 1:  70%|██████▉   | 127585/182400 [3:37:58<39:45, 22.97batch/s, batch_nb=123199, gpu=0, loss=0.064, v_nb=55]\n",
      "Epoch 1:  70%|██████▉   | 127588/182400 [3:37:58<39:40, 23.02batch/s, batch_nb=123199, gpu=0, loss=0.064, v_nb=55]\n",
      "Epoch 1:  70%|██████▉   | 127591/182400 [3:37:58<40:05, 22.79batch/s, batch_nb=123199, gpu=0, loss=0.064, v_nb=55]\n",
      "Epoch 1:  70%|██████▉   | 127594/182400 [3:37:58<40:02, 22.81batch/s, batch_nb=123199, gpu=0, loss=0.064, v_nb=55]\n",
      "Epoch 1:  70%|██████▉   | 127597/182400 [3:37:58<39:40, 23.02batch/s, batch_nb=123199, gpu=0, loss=0.064, v_nb=55]\n",
      "Epoch 1:  70%|██████▉   | 127600/182400 [3:37:59<39:30, 23.12batch/s, batch_nb=123199, gpu=0, loss=0.064, v_nb=55]\n",
      "Epoch 1:  70%|██████▉   | 127603/182400 [3:37:59<39:22, 23.19batch/s, batch_nb=123199, gpu=0, loss=0.064, v_nb=55]\n",
      "Epoch 1:  70%|██████▉   | 127606/182400 [3:37:59<39:30, 23.11batch/s, batch_nb=123199, gpu=0, loss=0.064, v_nb=55]\n",
      "Epoch 1:  70%|██████▉   | 127609/182400 [3:37:59<39:36, 23.05batch/s, batch_nb=123199, gpu=0, loss=0.064, v_nb=55]\n",
      "Epoch 1:  70%|██████▉   | 127612/182400 [3:37:59<39:40, 23.01batch/s, batch_nb=123199, gpu=0, loss=0.064, v_nb=55]\n",
      "Epoch 1:  70%|██████▉   | 127615/182400 [3:37:59<39:49, 22.93batch/s, batch_nb=123199, gpu=0, loss=0.064, v_nb=55]\n",
      "Epoch 1:  70%|██████▉   | 127618/182400 [3:37:59<39:45, 22.97batch/s, batch_nb=123199, gpu=0, loss=0.064, v_nb=55]\n",
      "Epoch 1:  70%|██████▉   | 127621/182400 [3:37:59<39:49, 22.93batch/s, batch_nb=123199, gpu=0, loss=0.064, v_nb=55]\n",
      "Epoch 1:  70%|██████▉   | 127624/182400 [3:38:00<39:47, 22.95batch/s, batch_nb=123199, gpu=0, loss=0.064, v_nb=55]\n",
      "Epoch 1:  70%|██████▉   | 127627/182400 [3:38:00<39:51, 22.90batch/s, batch_nb=123199, gpu=0, loss=0.064, v_nb=55]\n",
      "Epoch 1:  70%|██████▉   | 127630/182400 [3:38:00<39:53, 22.88batch/s, batch_nb=123199, gpu=0, loss=0.064, v_nb=55]\n",
      "Epoch 1:  70%|██████▉   | 127633/182400 [3:38:00<39:52, 22.89batch/s, batch_nb=123199, gpu=0, loss=0.064, v_nb=55]\n",
      "Epoch 1:  70%|██████▉   | 127636/182400 [3:38:00<39:47, 22.93batch/s, batch_nb=123199, gpu=0, loss=0.064, v_nb=55]\n",
      "Epoch 1:  70%|██████▉   | 127639/182400 [3:38:00<39:49, 22.92batch/s, batch_nb=123199, gpu=0, loss=0.064, v_nb=55]\n",
      "Epoch 1:  70%|██████▉   | 127642/182400 [3:38:00<39:43, 22.97batch/s, batch_nb=123199, gpu=0, loss=0.064, v_nb=55]\n",
      "Epoch 1:  70%|██████▉   | 127645/182400 [3:38:00<39:49, 22.92batch/s, batch_nb=123199, gpu=0, loss=0.064, v_nb=55]\n",
      "Epoch 1:  70%|██████▉   | 127648/182400 [3:38:01<39:53, 22.87batch/s, batch_nb=123199, gpu=0, loss=0.064, v_nb=55]\n",
      "Epoch 1:  70%|██████▉   | 127651/182400 [3:38:01<39:46, 22.94batch/s, batch_nb=123199, gpu=0, loss=0.064, v_nb=55]\n",
      "Epoch 1:  70%|██████▉   | 127654/182400 [3:38:01<39:47, 22.93batch/s, batch_nb=123199, gpu=0, loss=0.064, v_nb=55]\n",
      "Epoch 1:  70%|██████▉   | 127657/182400 [3:38:01<39:44, 22.96batch/s, batch_nb=123199, gpu=0, loss=0.064, v_nb=55]\n",
      "Epoch 1:  70%|██████▉   | 127660/182400 [3:38:01<39:43, 22.97batch/s, batch_nb=123199, gpu=0, loss=0.064, v_nb=55]\n",
      "Epoch 1:  70%|██████▉   | 127663/182400 [3:38:01<39:50, 22.90batch/s, batch_nb=123199, gpu=0, loss=0.064, v_nb=55]\n",
      "Epoch 1:  70%|██████▉   | 127666/182400 [3:38:01<39:44, 22.95batch/s, batch_nb=123199, gpu=0, loss=0.064, v_nb=55]\n",
      "Epoch 1:  70%|██████▉   | 127669/182400 [3:38:02<39:51, 22.89batch/s, batch_nb=123199, gpu=0, loss=0.064, v_nb=55]\n",
      "Epoch 1:  70%|██████▉   | 127672/182400 [3:38:02<39:54, 22.86batch/s, batch_nb=123199, gpu=0, loss=0.064, v_nb=55]\n",
      "Epoch 1:  70%|██████▉   | 127675/182400 [3:38:02<39:52, 22.87batch/s, batch_nb=123199, gpu=0, loss=0.064, v_nb=55]\n",
      "Epoch 1:  70%|███████   | 127680/182400 [3:38:04<39:54, 22.85batch/s, batch_nb=123199, gpu=0, loss=0.064, v_nb=55]\n",
      "Epoch 1:  71%|███████   | 129534/182400 [3:41:27<1:35:13,  9.25batch/s, batch_nb=125053, gpu=0, loss=0.066, v_nb=55]"
     ]
    },
    {
     "name": "stdout",
     "output_type": "stream",
     "text": [
      "Gradient overflow.  Skipping step, loss scaler 0 reducing loss scale to 4194304.0\n"
     ]
    },
    {
     "name": "stderr",
     "output_type": "stream",
     "text": [
      "Epoch 1:  71%|███████   | 129926/182400 [3:42:10<1:31:34,  9.55batch/s, batch_nb=125445, gpu=0, loss=0.065, v_nb=55]"
     ]
    },
    {
     "name": "stdout",
     "output_type": "stream",
     "text": [
      "Gradient overflow.  Skipping step, loss scaler 0 reducing loss scale to 2097152.0\n"
     ]
    },
    {
     "name": "stderr",
     "output_type": "stream",
     "text": [
      "Epoch 1:  74%|███████▎  | 134121/182400 [3:49:48<1:21:17,  9.90batch/s, batch_nb=129640, gpu=0, loss=0.066, v_nb=55]"
     ]
    },
    {
     "name": "stdout",
     "output_type": "stream",
     "text": [
      "Gradient overflow.  Skipping step, loss scaler 0 reducing loss scale to 4194304.0\n"
     ]
    },
    {
     "name": "stderr",
     "output_type": "stream",
     "text": [
      "Epoch 1:  75%|███████▍  | 136480/182400 [3:54:07<1:19:36,  9.61batch/s, batch_nb=131999, gpu=0, loss=0.065, v_nb=55]\n",
      "Validating:   0%|          | 0/320 [00:00<?, ?batch/s]\u001b[A\n",
      "Epoch 1:  75%|███████▍  | 136483/182400 [3:54:07<1:06:06, 11.58batch/s, batch_nb=131999, gpu=0, loss=0.065, v_nb=55]\n",
      "Epoch 1:  75%|███████▍  | 136486/182400 [3:54:08<56:04, 13.65batch/s, batch_nb=131999, gpu=0, loss=0.065, v_nb=55]  \n",
      "Epoch 1:  75%|███████▍  | 136489/182400 [3:54:08<49:00, 15.61batch/s, batch_nb=131999, gpu=0, loss=0.065, v_nb=55]\n",
      "Epoch 1:  75%|███████▍  | 136492/182400 [3:54:08<44:05, 17.35batch/s, batch_nb=131999, gpu=0, loss=0.065, v_nb=55]\n",
      "Epoch 1:  75%|███████▍  | 136495/182400 [3:54:08<40:40, 18.81batch/s, batch_nb=131999, gpu=0, loss=0.065, v_nb=55]\n",
      "Epoch 1:  75%|███████▍  | 136498/182400 [3:54:08<38:22, 19.93batch/s, batch_nb=131999, gpu=0, loss=0.065, v_nb=55]\n",
      "Epoch 1:  75%|███████▍  | 136501/182400 [3:54:08<36:41, 20.85batch/s, batch_nb=131999, gpu=0, loss=0.065, v_nb=55]\n",
      "Epoch 1:  75%|███████▍  | 136504/182400 [3:54:08<35:31, 21.53batch/s, batch_nb=131999, gpu=0, loss=0.065, v_nb=55]\n",
      "Epoch 1:  75%|███████▍  | 136507/182400 [3:54:08<34:39, 22.07batch/s, batch_nb=131999, gpu=0, loss=0.065, v_nb=55]\n",
      "Epoch 1:  75%|███████▍  | 136510/182400 [3:54:09<34:04, 22.45batch/s, batch_nb=131999, gpu=0, loss=0.065, v_nb=55]\n",
      "Epoch 1:  75%|███████▍  | 136513/182400 [3:54:09<33:33, 22.78batch/s, batch_nb=131999, gpu=0, loss=0.065, v_nb=55]\n",
      "Epoch 1:  75%|███████▍  | 136516/182400 [3:54:09<33:18, 22.96batch/s, batch_nb=131999, gpu=0, loss=0.065, v_nb=55]\n",
      "Epoch 1:  75%|███████▍  | 136519/182400 [3:54:09<33:06, 23.10batch/s, batch_nb=131999, gpu=0, loss=0.065, v_nb=55]\n",
      "Epoch 1:  75%|███████▍  | 136522/182400 [3:54:09<32:54, 23.23batch/s, batch_nb=131999, gpu=0, loss=0.065, v_nb=55]\n",
      "Epoch 1:  75%|███████▍  | 136525/182400 [3:54:09<32:50, 23.28batch/s, batch_nb=131999, gpu=0, loss=0.065, v_nb=55]\n",
      "Epoch 1:  75%|███████▍  | 136528/182400 [3:54:09<32:46, 23.33batch/s, batch_nb=131999, gpu=0, loss=0.065, v_nb=55]\n",
      "Epoch 1:  75%|███████▍  | 136531/182400 [3:54:09<32:42, 23.37batch/s, batch_nb=131999, gpu=0, loss=0.065, v_nb=55]\n",
      "Epoch 1:  75%|███████▍  | 136534/182400 [3:54:10<32:42, 23.38batch/s, batch_nb=131999, gpu=0, loss=0.065, v_nb=55]\n",
      "Epoch 1:  75%|███████▍  | 136537/182400 [3:54:10<32:45, 23.34batch/s, batch_nb=131999, gpu=0, loss=0.065, v_nb=55]\n",
      "Epoch 1:  75%|███████▍  | 136540/182400 [3:54:10<32:48, 23.30batch/s, batch_nb=131999, gpu=0, loss=0.065, v_nb=55]\n",
      "Epoch 1:  75%|███████▍  | 136543/182400 [3:54:10<32:48, 23.30batch/s, batch_nb=131999, gpu=0, loss=0.065, v_nb=55]\n",
      "Epoch 1:  75%|███████▍  | 136546/182400 [3:54:10<32:50, 23.27batch/s, batch_nb=131999, gpu=0, loss=0.065, v_nb=55]\n",
      "Epoch 1:  75%|███████▍  | 136549/182400 [3:54:10<32:53, 23.24batch/s, batch_nb=131999, gpu=0, loss=0.065, v_nb=55]\n",
      "Epoch 1:  75%|███████▍  | 136552/182400 [3:54:10<32:49, 23.27batch/s, batch_nb=131999, gpu=0, loss=0.065, v_nb=55]\n",
      "Epoch 1:  75%|███████▍  | 136555/182400 [3:54:10<32:46, 23.31batch/s, batch_nb=131999, gpu=0, loss=0.065, v_nb=55]\n",
      "Epoch 1:  75%|███████▍  | 136558/182400 [3:54:11<32:43, 23.34batch/s, batch_nb=131999, gpu=0, loss=0.065, v_nb=55]\n",
      "Epoch 1:  75%|███████▍  | 136561/182400 [3:54:11<32:42, 23.36batch/s, batch_nb=131999, gpu=0, loss=0.065, v_nb=55]\n",
      "Epoch 1:  75%|███████▍  | 136564/182400 [3:54:11<32:43, 23.35batch/s, batch_nb=131999, gpu=0, loss=0.065, v_nb=55]\n",
      "Epoch 1:  75%|███████▍  | 136567/182400 [3:54:11<32:41, 23.37batch/s, batch_nb=131999, gpu=0, loss=0.065, v_nb=55]\n",
      "Epoch 1:  75%|███████▍  | 136570/182400 [3:54:11<32:42, 23.35batch/s, batch_nb=131999, gpu=0, loss=0.065, v_nb=55]\n",
      "Epoch 1:  75%|███████▍  | 136573/182400 [3:54:11<32:40, 23.37batch/s, batch_nb=131999, gpu=0, loss=0.065, v_nb=55]\n",
      "Epoch 1:  75%|███████▍  | 136576/182400 [3:54:11<32:40, 23.38batch/s, batch_nb=131999, gpu=0, loss=0.065, v_nb=55]\n",
      "Epoch 1:  75%|███████▍  | 136579/182400 [3:54:11<32:45, 23.32batch/s, batch_nb=131999, gpu=0, loss=0.065, v_nb=55]\n",
      "Epoch 1:  75%|███████▍  | 136582/182400 [3:54:12<32:44, 23.32batch/s, batch_nb=131999, gpu=0, loss=0.065, v_nb=55]\n",
      "Epoch 1:  75%|███████▍  | 136585/182400 [3:54:12<32:45, 23.31batch/s, batch_nb=131999, gpu=0, loss=0.065, v_nb=55]\n",
      "Epoch 1:  75%|███████▍  | 136588/182400 [3:54:12<32:44, 23.32batch/s, batch_nb=131999, gpu=0, loss=0.065, v_nb=55]\n",
      "Epoch 1:  75%|███████▍  | 136591/182400 [3:54:12<32:48, 23.27batch/s, batch_nb=131999, gpu=0, loss=0.065, v_nb=55]\n",
      "Epoch 1:  75%|███████▍  | 136594/182400 [3:54:12<32:42, 23.34batch/s, batch_nb=131999, gpu=0, loss=0.065, v_nb=55]\n",
      "Epoch 1:  75%|███████▍  | 136597/182400 [3:54:12<32:42, 23.34batch/s, batch_nb=131999, gpu=0, loss=0.065, v_nb=55]\n",
      "Epoch 1:  75%|███████▍  | 136600/182400 [3:54:12<32:41, 23.35batch/s, batch_nb=131999, gpu=0, loss=0.065, v_nb=55]\n",
      "Epoch 1:  75%|███████▍  | 136603/182400 [3:54:13<32:40, 23.36batch/s, batch_nb=131999, gpu=0, loss=0.065, v_nb=55]\n",
      "Epoch 1:  75%|███████▍  | 136606/182400 [3:54:13<32:39, 23.37batch/s, batch_nb=131999, gpu=0, loss=0.065, v_nb=55]\n",
      "Epoch 1:  75%|███████▍  | 136609/182400 [3:54:13<32:38, 23.38batch/s, batch_nb=131999, gpu=0, loss=0.065, v_nb=55]\n",
      "Epoch 1:  75%|███████▍  | 136612/182400 [3:54:13<32:44, 23.31batch/s, batch_nb=131999, gpu=0, loss=0.065, v_nb=55]\n",
      "Epoch 1:  75%|███████▍  | 136615/182400 [3:54:13<32:41, 23.34batch/s, batch_nb=131999, gpu=0, loss=0.065, v_nb=55]\n",
      "Epoch 1:  75%|███████▍  | 136618/182400 [3:54:13<32:41, 23.34batch/s, batch_nb=131999, gpu=0, loss=0.065, v_nb=55]\n",
      "Epoch 1:  75%|███████▍  | 136621/182400 [3:54:13<32:41, 23.34batch/s, batch_nb=131999, gpu=0, loss=0.065, v_nb=55]\n",
      "Epoch 1:  75%|███████▍  | 136624/182400 [3:54:13<32:47, 23.27batch/s, batch_nb=131999, gpu=0, loss=0.065, v_nb=55]\n",
      "Epoch 1:  75%|███████▍  | 136627/182400 [3:54:14<32:49, 23.25batch/s, batch_nb=131999, gpu=0, loss=0.065, v_nb=55]\n",
      "Epoch 1:  75%|███████▍  | 136630/182400 [3:54:14<32:52, 23.21batch/s, batch_nb=131999, gpu=0, loss=0.065, v_nb=55]\n",
      "Epoch 1:  75%|███████▍  | 136633/182400 [3:54:14<32:58, 23.13batch/s, batch_nb=131999, gpu=0, loss=0.065, v_nb=55]\n",
      "Epoch 1:  75%|███████▍  | 136636/182400 [3:54:14<32:55, 23.16batch/s, batch_nb=131999, gpu=0, loss=0.065, v_nb=55]\n",
      "Epoch 1:  75%|███████▍  | 136639/182400 [3:54:14<32:50, 23.22batch/s, batch_nb=131999, gpu=0, loss=0.065, v_nb=55]\n",
      "Epoch 1:  75%|███████▍  | 136642/182400 [3:54:14<32:49, 23.23batch/s, batch_nb=131999, gpu=0, loss=0.065, v_nb=55]\n",
      "Epoch 1:  75%|███████▍  | 136645/182400 [3:54:14<32:47, 23.25batch/s, batch_nb=131999, gpu=0, loss=0.065, v_nb=55]\n",
      "Epoch 1:  75%|███████▍  | 136648/182400 [3:54:14<32:42, 23.31batch/s, batch_nb=131999, gpu=0, loss=0.065, v_nb=55]\n",
      "Epoch 1:  75%|███████▍  | 136651/182400 [3:54:15<32:35, 23.39batch/s, batch_nb=131999, gpu=0, loss=0.065, v_nb=55]\n",
      "Epoch 1:  75%|███████▍  | 136654/182400 [3:54:15<32:46, 23.26batch/s, batch_nb=131999, gpu=0, loss=0.065, v_nb=55]\n",
      "Epoch 1:  75%|███████▍  | 136657/182400 [3:54:15<32:50, 23.22batch/s, batch_nb=131999, gpu=0, loss=0.065, v_nb=55]\n",
      "Epoch 1:  75%|███████▍  | 136660/182400 [3:54:15<32:46, 23.26batch/s, batch_nb=131999, gpu=0, loss=0.065, v_nb=55]\n",
      "Epoch 1:  75%|███████▍  | 136663/182400 [3:54:15<32:39, 23.34batch/s, batch_nb=131999, gpu=0, loss=0.065, v_nb=55]\n",
      "Epoch 1:  75%|███████▍  | 136666/182400 [3:54:15<32:41, 23.32batch/s, batch_nb=131999, gpu=0, loss=0.065, v_nb=55]\n",
      "Epoch 1:  75%|███████▍  | 136669/182400 [3:54:15<32:47, 23.25batch/s, batch_nb=131999, gpu=0, loss=0.065, v_nb=55]\n",
      "Epoch 1:  75%|███████▍  | 136672/182400 [3:54:15<32:51, 23.19batch/s, batch_nb=131999, gpu=0, loss=0.065, v_nb=55]\n",
      "Epoch 1:  75%|███████▍  | 136675/182400 [3:54:16<32:47, 23.24batch/s, batch_nb=131999, gpu=0, loss=0.065, v_nb=55]\n",
      "Epoch 1:  75%|███████▍  | 136678/182400 [3:54:16<32:53, 23.16batch/s, batch_nb=131999, gpu=0, loss=0.065, v_nb=55]\n",
      "Epoch 1:  75%|███████▍  | 136681/182400 [3:54:16<33:01, 23.07batch/s, batch_nb=131999, gpu=0, loss=0.065, v_nb=55]\n",
      "Epoch 1:  75%|███████▍  | 136684/182400 [3:54:16<33:03, 23.04batch/s, batch_nb=131999, gpu=0, loss=0.065, v_nb=55]\n",
      "Epoch 1:  75%|███████▍  | 136687/182400 [3:54:16<33:07, 23.00batch/s, batch_nb=131999, gpu=0, loss=0.065, v_nb=55]\n"
     ]
    },
    {
     "name": "stderr",
     "output_type": "stream",
     "text": [
      "Epoch 1:  75%|███████▍  | 136690/182400 [3:54:16<33:10, 22.96batch/s, batch_nb=131999, gpu=0, loss=0.065, v_nb=55]\n",
      "Epoch 1:  75%|███████▍  | 136693/182400 [3:54:16<33:06, 23.01batch/s, batch_nb=131999, gpu=0, loss=0.065, v_nb=55]\n",
      "Epoch 1:  75%|███████▍  | 136696/182400 [3:54:17<33:06, 23.01batch/s, batch_nb=131999, gpu=0, loss=0.065, v_nb=55]\n",
      "Epoch 1:  75%|███████▍  | 136699/182400 [3:54:17<33:08, 22.99batch/s, batch_nb=131999, gpu=0, loss=0.065, v_nb=55]\n",
      "Epoch 1:  75%|███████▍  | 136702/182400 [3:54:17<33:09, 22.97batch/s, batch_nb=131999, gpu=0, loss=0.065, v_nb=55]\n",
      "Epoch 1:  75%|███████▍  | 136705/182400 [3:54:17<33:11, 22.94batch/s, batch_nb=131999, gpu=0, loss=0.065, v_nb=55]\n",
      "Epoch 1:  75%|███████▍  | 136708/182400 [3:54:17<33:08, 22.98batch/s, batch_nb=131999, gpu=0, loss=0.065, v_nb=55]\n",
      "Epoch 1:  75%|███████▍  | 136711/182400 [3:54:17<33:01, 23.06batch/s, batch_nb=131999, gpu=0, loss=0.065, v_nb=55]\n",
      "Epoch 1:  75%|███████▍  | 136714/182400 [3:54:17<32:56, 23.12batch/s, batch_nb=131999, gpu=0, loss=0.065, v_nb=55]\n",
      "Epoch 1:  75%|███████▍  | 136717/182400 [3:54:17<32:55, 23.12batch/s, batch_nb=131999, gpu=0, loss=0.065, v_nb=55]\n",
      "Epoch 1:  75%|███████▍  | 136720/182400 [3:54:18<32:52, 23.15batch/s, batch_nb=131999, gpu=0, loss=0.065, v_nb=55]\n",
      "Epoch 1:  75%|███████▍  | 136723/182400 [3:54:18<32:50, 23.18batch/s, batch_nb=131999, gpu=0, loss=0.065, v_nb=55]\n",
      "Epoch 1:  75%|███████▍  | 136726/182400 [3:54:18<32:48, 23.20batch/s, batch_nb=131999, gpu=0, loss=0.065, v_nb=55]\n",
      "Epoch 1:  75%|███████▍  | 136729/182400 [3:54:18<32:45, 23.24batch/s, batch_nb=131999, gpu=0, loss=0.065, v_nb=55]\n",
      "Epoch 1:  75%|███████▍  | 136732/182400 [3:54:18<32:49, 23.19batch/s, batch_nb=131999, gpu=0, loss=0.065, v_nb=55]\n",
      "Epoch 1:  75%|███████▍  | 136735/182400 [3:54:18<32:45, 23.23batch/s, batch_nb=131999, gpu=0, loss=0.065, v_nb=55]\n",
      "Epoch 1:  75%|███████▍  | 136738/182400 [3:54:18<32:42, 23.26batch/s, batch_nb=131999, gpu=0, loss=0.065, v_nb=55]\n",
      "Epoch 1:  75%|███████▍  | 136741/182400 [3:54:18<32:41, 23.28batch/s, batch_nb=131999, gpu=0, loss=0.065, v_nb=55]\n",
      "Epoch 1:  75%|███████▍  | 136744/182400 [3:54:19<32:46, 23.22batch/s, batch_nb=131999, gpu=0, loss=0.065, v_nb=55]\n",
      "Epoch 1:  75%|███████▍  | 136747/182400 [3:54:19<32:41, 23.27batch/s, batch_nb=131999, gpu=0, loss=0.065, v_nb=55]\n",
      "Epoch 1:  75%|███████▍  | 136750/182400 [3:54:19<32:48, 23.19batch/s, batch_nb=131999, gpu=0, loss=0.065, v_nb=55]\n",
      "Epoch 1:  75%|███████▍  | 136753/182400 [3:54:19<32:50, 23.16batch/s, batch_nb=131999, gpu=0, loss=0.065, v_nb=55]\n",
      "Epoch 1:  75%|███████▍  | 136756/182400 [3:54:19<32:54, 23.12batch/s, batch_nb=131999, gpu=0, loss=0.065, v_nb=55]\n",
      "Epoch 1:  75%|███████▍  | 136759/182400 [3:54:19<32:50, 23.17batch/s, batch_nb=131999, gpu=0, loss=0.065, v_nb=55]\n",
      "Epoch 1:  75%|███████▍  | 136762/182400 [3:54:19<32:52, 23.13batch/s, batch_nb=131999, gpu=0, loss=0.065, v_nb=55]\n",
      "Epoch 1:  75%|███████▍  | 136765/182400 [3:54:20<32:58, 23.06batch/s, batch_nb=131999, gpu=0, loss=0.065, v_nb=55]\n",
      "Epoch 1:  75%|███████▍  | 136768/182400 [3:54:20<32:58, 23.07batch/s, batch_nb=131999, gpu=0, loss=0.065, v_nb=55]\n",
      "Epoch 1:  75%|███████▍  | 136771/182400 [3:54:20<32:53, 23.12batch/s, batch_nb=131999, gpu=0, loss=0.065, v_nb=55]\n",
      "Epoch 1:  75%|███████▍  | 136774/182400 [3:54:20<32:48, 23.18batch/s, batch_nb=131999, gpu=0, loss=0.065, v_nb=55]\n",
      "Epoch 1:  75%|███████▍  | 136777/182400 [3:54:20<32:52, 23.13batch/s, batch_nb=131999, gpu=0, loss=0.065, v_nb=55]\n",
      "Epoch 1:  75%|███████▍  | 136780/182400 [3:54:20<32:55, 23.09batch/s, batch_nb=131999, gpu=0, loss=0.065, v_nb=55]\n",
      "Epoch 1:  75%|███████▍  | 136783/182400 [3:54:20<32:50, 23.15batch/s, batch_nb=131999, gpu=0, loss=0.065, v_nb=55]\n",
      "Epoch 1:  75%|███████▍  | 136786/182400 [3:54:20<32:54, 23.11batch/s, batch_nb=131999, gpu=0, loss=0.065, v_nb=55]\n",
      "Epoch 1:  75%|███████▍  | 136789/182400 [3:54:21<32:46, 23.19batch/s, batch_nb=131999, gpu=0, loss=0.065, v_nb=55]\n",
      "Epoch 1:  75%|███████▍  | 136792/182400 [3:54:21<32:53, 23.11batch/s, batch_nb=131999, gpu=0, loss=0.065, v_nb=55]\n",
      "Epoch 1:  75%|███████▍  | 136795/182400 [3:54:21<33:12, 22.88batch/s, batch_nb=131999, gpu=0, loss=0.065, v_nb=55]\n",
      "Epoch 1:  75%|███████▌  | 136800/182400 [3:54:23<33:15, 22.85batch/s, batch_nb=131999, gpu=0, loss=0.065, v_nb=55]\n",
      "Epoch 1:  75%|███████▌  | 137046/182400 [3:54:50<1:19:13,  9.54batch/s, batch_nb=132245, gpu=0, loss=0.065, v_nb=55]"
     ]
    },
    {
     "name": "stdout",
     "output_type": "stream",
     "text": [
      "Gradient overflow.  Skipping step, loss scaler 0 reducing loss scale to 4194304.0\n"
     ]
    },
    {
     "name": "stderr",
     "output_type": "stream",
     "text": [
      "Epoch 1:  76%|███████▋  | 139090/182400 [3:58:34<1:12:36,  9.94batch/s, batch_nb=134289, gpu=0, loss=0.064, v_nb=55]"
     ]
    },
    {
     "name": "stdout",
     "output_type": "stream",
     "text": [
      "Gradient overflow.  Skipping step, loss scaler 0 reducing loss scale to 4194304.0\n"
     ]
    },
    {
     "name": "stderr",
     "output_type": "stream",
     "text": [
      "Epoch 1:  77%|███████▋  | 141341/182400 [4:02:42<1:09:33,  9.84batch/s, batch_nb=136540, gpu=0, loss=0.064, v_nb=55]"
     ]
    },
    {
     "name": "stdout",
     "output_type": "stream",
     "text": [
      "Gradient overflow.  Skipping step, loss scaler 0 reducing loss scale to 4194304.0\n"
     ]
    },
    {
     "name": "stderr",
     "output_type": "stream",
     "text": [
      "Epoch 1:  79%|███████▊  | 143430/182400 [4:06:32<1:05:32,  9.91batch/s, batch_nb=138629, gpu=0, loss=0.065, v_nb=55]"
     ]
    },
    {
     "name": "stdout",
     "output_type": "stream",
     "text": [
      "Gradient overflow.  Skipping step, loss scaler 0 reducing loss scale to 4194304.0\n"
     ]
    },
    {
     "name": "stderr",
     "output_type": "stream",
     "text": [
      "Epoch 1:  80%|███████▉  | 145458/182400 [4:10:16<1:03:08,  9.75batch/s, batch_nb=140657, gpu=0, loss=0.065, v_nb=55]"
     ]
    },
    {
     "name": "stdout",
     "output_type": "stream",
     "text": [
      "Gradient overflow.  Skipping step, loss scaler 0 reducing loss scale to 4194304.0\n"
     ]
    },
    {
     "name": "stderr",
     "output_type": "stream",
     "text": [
      "Epoch 1:  80%|███████▉  | 145600/182400 [4:10:31<1:03:11,  9.71batch/s, batch_nb=140799, gpu=0, loss=0.064, v_nb=55]\n",
      "Validating:   0%|          | 0/320 [00:00<?, ?batch/s]\u001b[A\n",
      "Epoch 1:  80%|███████▉  | 145603/182400 [4:10:32<52:29, 11.68batch/s, batch_nb=140799, gpu=0, loss=0.064, v_nb=55]  \n",
      "Epoch 1:  80%|███████▉  | 145606/182400 [4:10:32<44:36, 13.75batch/s, batch_nb=140799, gpu=0, loss=0.064, v_nb=55]\n",
      "Epoch 1:  80%|███████▉  | 145609/182400 [4:10:32<39:07, 15.67batch/s, batch_nb=140799, gpu=0, loss=0.064, v_nb=55]\n",
      "Epoch 1:  80%|███████▉  | 145612/182400 [4:10:32<35:18, 17.36batch/s, batch_nb=140799, gpu=0, loss=0.064, v_nb=55]\n",
      "Epoch 1:  80%|███████▉  | 145615/182400 [4:10:32<32:48, 18.69batch/s, batch_nb=140799, gpu=0, loss=0.064, v_nb=55]\n",
      "Epoch 1:  80%|███████▉  | 145618/182400 [4:10:32<30:58, 19.79batch/s, batch_nb=140799, gpu=0, loss=0.064, v_nb=55]\n",
      "Epoch 1:  80%|███████▉  | 145621/182400 [4:10:32<29:35, 20.71batch/s, batch_nb=140799, gpu=0, loss=0.064, v_nb=55]\n",
      "Epoch 1:  80%|███████▉  | 145624/182400 [4:10:32<28:37, 21.41batch/s, batch_nb=140799, gpu=0, loss=0.064, v_nb=55]\n",
      "Epoch 1:  80%|███████▉  | 145627/182400 [4:10:33<27:53, 21.97batch/s, batch_nb=140799, gpu=0, loss=0.064, v_nb=55]\n",
      "Epoch 1:  80%|███████▉  | 145630/182400 [4:10:33<27:22, 22.39batch/s, batch_nb=140799, gpu=0, loss=0.064, v_nb=55]\n",
      "Epoch 1:  80%|███████▉  | 145633/182400 [4:10:33<27:02, 22.66batch/s, batch_nb=140799, gpu=0, loss=0.064, v_nb=55]\n",
      "Epoch 1:  80%|███████▉  | 145636/182400 [4:10:33<26:47, 22.87batch/s, batch_nb=140799, gpu=0, loss=0.064, v_nb=55]\n",
      "Epoch 1:  80%|███████▉  | 145639/182400 [4:10:33<26:36, 23.02batch/s, batch_nb=140799, gpu=0, loss=0.064, v_nb=55]\n",
      "Epoch 1:  80%|███████▉  | 145642/182400 [4:10:33<26:27, 23.16batch/s, batch_nb=140799, gpu=0, loss=0.064, v_nb=55]\n",
      "Epoch 1:  80%|███████▉  | 145645/182400 [4:10:33<26:22, 23.23batch/s, batch_nb=140799, gpu=0, loss=0.064, v_nb=55]\n",
      "Epoch 1:  80%|███████▉  | 145648/182400 [4:10:33<26:18, 23.28batch/s, batch_nb=140799, gpu=0, loss=0.064, v_nb=55]\n",
      "Epoch 1:  80%|███████▉  | 145651/182400 [4:10:34<26:19, 23.26batch/s, batch_nb=140799, gpu=0, loss=0.064, v_nb=55]\n",
      "Epoch 1:  80%|███████▉  | 145654/182400 [4:10:34<26:17, 23.29batch/s, batch_nb=140799, gpu=0, loss=0.064, v_nb=55]\n",
      "Epoch 1:  80%|███████▉  | 145657/182400 [4:10:34<26:15, 23.33batch/s, batch_nb=140799, gpu=0, loss=0.064, v_nb=55]\n",
      "Epoch 1:  80%|███████▉  | 145660/182400 [4:10:34<26:17, 23.29batch/s, batch_nb=140799, gpu=0, loss=0.064, v_nb=55]\n",
      "Epoch 1:  80%|███████▉  | 145663/182400 [4:10:34<26:12, 23.36batch/s, batch_nb=140799, gpu=0, loss=0.064, v_nb=55]\n",
      "Epoch 1:  80%|███████▉  | 145666/182400 [4:10:34<26:18, 23.28batch/s, batch_nb=140799, gpu=0, loss=0.064, v_nb=55]\n",
      "Epoch 1:  80%|███████▉  | 145669/182400 [4:10:34<26:14, 23.32batch/s, batch_nb=140799, gpu=0, loss=0.064, v_nb=55]\n",
      "Epoch 1:  80%|███████▉  | 145672/182400 [4:10:35<26:11, 23.37batch/s, batch_nb=140799, gpu=0, loss=0.064, v_nb=55]\n",
      "Epoch 1:  80%|███████▉  | 145675/182400 [4:10:35<26:12, 23.36batch/s, batch_nb=140799, gpu=0, loss=0.064, v_nb=55]\n",
      "Epoch 1:  80%|███████▉  | 145678/182400 [4:10:35<26:11, 23.37batch/s, batch_nb=140799, gpu=0, loss=0.064, v_nb=55]\n",
      "Epoch 1:  80%|███████▉  | 145681/182400 [4:10:35<26:10, 23.38batch/s, batch_nb=140799, gpu=0, loss=0.064, v_nb=55]\n",
      "Epoch 1:  80%|███████▉  | 145684/182400 [4:10:35<26:12, 23.34batch/s, batch_nb=140799, gpu=0, loss=0.064, v_nb=55]\n",
      "Epoch 1:  80%|███████▉  | 145687/182400 [4:10:35<26:11, 23.36batch/s, batch_nb=140799, gpu=0, loss=0.064, v_nb=55]\n",
      "Epoch 1:  80%|███████▉  | 145690/182400 [4:10:35<26:10, 23.37batch/s, batch_nb=140799, gpu=0, loss=0.064, v_nb=55]\n",
      "Epoch 1:  80%|███████▉  | 145693/182400 [4:10:35<26:07, 23.42batch/s, batch_nb=140799, gpu=0, loss=0.064, v_nb=55]\n",
      "Epoch 1:  80%|███████▉  | 145696/182400 [4:10:36<26:08, 23.41batch/s, batch_nb=140799, gpu=0, loss=0.064, v_nb=55]\n",
      "Epoch 1:  80%|███████▉  | 145699/182400 [4:10:36<26:11, 23.35batch/s, batch_nb=140799, gpu=0, loss=0.064, v_nb=55]\n",
      "Epoch 1:  80%|███████▉  | 145702/182400 [4:10:36<26:16, 23.28batch/s, batch_nb=140799, gpu=0, loss=0.064, v_nb=55]\n",
      "Epoch 1:  80%|███████▉  | 145705/182400 [4:10:36<26:15, 23.30batch/s, batch_nb=140799, gpu=0, loss=0.064, v_nb=55]\n",
      "Epoch 1:  80%|███████▉  | 145708/182400 [4:10:36<26:17, 23.26batch/s, batch_nb=140799, gpu=0, loss=0.064, v_nb=55]\n",
      "Epoch 1:  80%|███████▉  | 145711/182400 [4:10:36<26:16, 23.28batch/s, batch_nb=140799, gpu=0, loss=0.064, v_nb=55]\n",
      "Epoch 1:  80%|███████▉  | 145714/182400 [4:10:36<26:12, 23.33batch/s, batch_nb=140799, gpu=0, loss=0.064, v_nb=55]\n",
      "Epoch 1:  80%|███████▉  | 145717/182400 [4:10:36<26:12, 23.33batch/s, batch_nb=140799, gpu=0, loss=0.064, v_nb=55]\n",
      "Epoch 1:  80%|███████▉  | 145720/182400 [4:10:37<26:10, 23.36batch/s, batch_nb=140799, gpu=0, loss=0.064, v_nb=55]\n",
      "Epoch 1:  80%|███████▉  | 145723/182400 [4:10:37<26:10, 23.35batch/s, batch_nb=140799, gpu=0, loss=0.064, v_nb=55]\n",
      "Epoch 1:  80%|███████▉  | 145726/182400 [4:10:37<26:06, 23.42batch/s, batch_nb=140799, gpu=0, loss=0.064, v_nb=55]\n",
      "Epoch 1:  80%|███████▉  | 145729/182400 [4:10:37<26:09, 23.37batch/s, batch_nb=140799, gpu=0, loss=0.064, v_nb=55]\n",
      "Epoch 1:  80%|███████▉  | 145732/182400 [4:10:37<26:08, 23.38batch/s, batch_nb=140799, gpu=0, loss=0.064, v_nb=55]\n",
      "Epoch 1:  80%|███████▉  | 145735/182400 [4:10:37<26:09, 23.36batch/s, batch_nb=140799, gpu=0, loss=0.064, v_nb=55]\n",
      "Epoch 1:  80%|███████▉  | 145738/182400 [4:10:37<26:09, 23.36batch/s, batch_nb=140799, gpu=0, loss=0.064, v_nb=55]\n",
      "Epoch 1:  80%|███████▉  | 145741/182400 [4:10:37<26:08, 23.38batch/s, batch_nb=140799, gpu=0, loss=0.064, v_nb=55]\n",
      "Epoch 1:  80%|███████▉  | 145744/182400 [4:10:38<26:07, 23.38batch/s, batch_nb=140799, gpu=0, loss=0.064, v_nb=55]\n",
      "Epoch 1:  80%|███████▉  | 145747/182400 [4:10:38<26:08, 23.37batch/s, batch_nb=140799, gpu=0, loss=0.064, v_nb=55]\n",
      "Epoch 1:  80%|███████▉  | 145750/182400 [4:10:38<26:07, 23.39batch/s, batch_nb=140799, gpu=0, loss=0.064, v_nb=55]\n",
      "Epoch 1:  80%|███████▉  | 145753/182400 [4:10:38<26:07, 23.38batch/s, batch_nb=140799, gpu=0, loss=0.064, v_nb=55]\n",
      "Epoch 1:  80%|███████▉  | 145756/182400 [4:10:38<26:04, 23.42batch/s, batch_nb=140799, gpu=0, loss=0.064, v_nb=55]\n",
      "Epoch 1:  80%|███████▉  | 145759/182400 [4:10:38<26:06, 23.39batch/s, batch_nb=140799, gpu=0, loss=0.064, v_nb=55]\n",
      "Epoch 1:  80%|███████▉  | 145762/182400 [4:10:38<26:06, 23.39batch/s, batch_nb=140799, gpu=0, loss=0.064, v_nb=55]\n",
      "Epoch 1:  80%|███████▉  | 145765/182400 [4:10:38<26:03, 23.43batch/s, batch_nb=140799, gpu=0, loss=0.064, v_nb=55]\n",
      "Epoch 1:  80%|███████▉  | 145768/182400 [4:10:39<26:05, 23.39batch/s, batch_nb=140799, gpu=0, loss=0.064, v_nb=55]\n",
      "Epoch 1:  80%|███████▉  | 145771/182400 [4:10:39<26:12, 23.29batch/s, batch_nb=140799, gpu=0, loss=0.064, v_nb=55]\n",
      "Epoch 1:  80%|███████▉  | 145774/182400 [4:10:39<26:20, 23.18batch/s, batch_nb=140799, gpu=0, loss=0.064, v_nb=55]\n",
      "Epoch 1:  80%|███████▉  | 145777/182400 [4:10:39<26:19, 23.19batch/s, batch_nb=140799, gpu=0, loss=0.064, v_nb=55]\n",
      "Epoch 1:  80%|███████▉  | 145780/182400 [4:10:39<26:20, 23.17batch/s, batch_nb=140799, gpu=0, loss=0.064, v_nb=55]\n",
      "Epoch 1:  80%|███████▉  | 145783/182400 [4:10:39<26:30, 23.02batch/s, batch_nb=140799, gpu=0, loss=0.064, v_nb=55]\n",
      "Epoch 1:  80%|███████▉  | 145786/182400 [4:10:39<26:31, 23.01batch/s, batch_nb=140799, gpu=0, loss=0.064, v_nb=55]\n",
      "Epoch 1:  80%|███████▉  | 145789/182400 [4:10:40<26:36, 22.94batch/s, batch_nb=140799, gpu=0, loss=0.064, v_nb=55]\n",
      "Epoch 1:  80%|███████▉  | 145792/182400 [4:10:40<26:33, 22.97batch/s, batch_nb=140799, gpu=0, loss=0.064, v_nb=55]\n",
      "Epoch 1:  80%|███████▉  | 145795/182400 [4:10:40<26:32, 22.99batch/s, batch_nb=140799, gpu=0, loss=0.064, v_nb=55]\n",
      "Epoch 1:  80%|███████▉  | 145798/182400 [4:10:40<26:35, 22.95batch/s, batch_nb=140799, gpu=0, loss=0.064, v_nb=55]\n",
      "Epoch 1:  80%|███████▉  | 145801/182400 [4:10:40<26:37, 22.91batch/s, batch_nb=140799, gpu=0, loss=0.064, v_nb=55]\n",
      "Epoch 1:  80%|███████▉  | 145804/182400 [4:10:40<26:41, 22.85batch/s, batch_nb=140799, gpu=0, loss=0.064, v_nb=55]\n",
      "Epoch 1:  80%|███████▉  | 145807/182400 [4:10:40<26:41, 22.85batch/s, batch_nb=140799, gpu=0, loss=0.064, v_nb=55]\n"
     ]
    },
    {
     "name": "stderr",
     "output_type": "stream",
     "text": [
      "Epoch 1:  80%|███████▉  | 145810/182400 [4:10:40<26:33, 22.97batch/s, batch_nb=140799, gpu=0, loss=0.064, v_nb=55]\n",
      "Epoch 1:  80%|███████▉  | 145813/182400 [4:10:41<26:33, 22.97batch/s, batch_nb=140799, gpu=0, loss=0.064, v_nb=55]\n",
      "Epoch 1:  80%|███████▉  | 145816/182400 [4:10:41<26:28, 23.03batch/s, batch_nb=140799, gpu=0, loss=0.064, v_nb=55]\n",
      "Epoch 1:  80%|███████▉  | 145819/182400 [4:10:41<26:24, 23.08batch/s, batch_nb=140799, gpu=0, loss=0.064, v_nb=55]\n",
      "Epoch 1:  80%|███████▉  | 145822/182400 [4:10:41<26:22, 23.12batch/s, batch_nb=140799, gpu=0, loss=0.064, v_nb=55]\n",
      "Epoch 1:  80%|███████▉  | 145825/182400 [4:10:41<26:24, 23.08batch/s, batch_nb=140799, gpu=0, loss=0.064, v_nb=55]\n",
      "Epoch 1:  80%|███████▉  | 145828/182400 [4:10:41<26:20, 23.13batch/s, batch_nb=140799, gpu=0, loss=0.064, v_nb=55]\n",
      "Epoch 1:  80%|███████▉  | 145831/182400 [4:10:41<26:20, 23.14batch/s, batch_nb=140799, gpu=0, loss=0.064, v_nb=55]\n",
      "Epoch 1:  80%|███████▉  | 145834/182400 [4:10:41<26:24, 23.07batch/s, batch_nb=140799, gpu=0, loss=0.064, v_nb=55]\n",
      "Epoch 1:  80%|███████▉  | 145837/182400 [4:10:42<26:26, 23.05batch/s, batch_nb=140799, gpu=0, loss=0.064, v_nb=55]\n",
      "Epoch 1:  80%|███████▉  | 145840/182400 [4:10:42<26:28, 23.02batch/s, batch_nb=140799, gpu=0, loss=0.064, v_nb=55]\n",
      "Epoch 1:  80%|███████▉  | 145843/182400 [4:10:42<26:20, 23.13batch/s, batch_nb=140799, gpu=0, loss=0.064, v_nb=55]\n",
      "Epoch 1:  80%|███████▉  | 145846/182400 [4:10:42<26:18, 23.16batch/s, batch_nb=140799, gpu=0, loss=0.064, v_nb=55]\n",
      "Epoch 1:  80%|███████▉  | 145849/182400 [4:10:42<26:16, 23.19batch/s, batch_nb=140799, gpu=0, loss=0.064, v_nb=55]\n",
      "Epoch 1:  80%|███████▉  | 145852/182400 [4:10:42<26:22, 23.09batch/s, batch_nb=140799, gpu=0, loss=0.064, v_nb=55]\n",
      "Epoch 1:  80%|███████▉  | 145855/182400 [4:10:42<26:22, 23.09batch/s, batch_nb=140799, gpu=0, loss=0.064, v_nb=55]\n",
      "Epoch 1:  80%|███████▉  | 145858/182400 [4:10:43<26:25, 23.05batch/s, batch_nb=140799, gpu=0, loss=0.064, v_nb=55]\n",
      "Epoch 1:  80%|███████▉  | 145861/182400 [4:10:43<26:22, 23.09batch/s, batch_nb=140799, gpu=0, loss=0.064, v_nb=55]\n",
      "Epoch 1:  80%|███████▉  | 145864/182400 [4:10:43<26:25, 23.05batch/s, batch_nb=140799, gpu=0, loss=0.064, v_nb=55]\n",
      "Epoch 1:  80%|███████▉  | 145867/182400 [4:10:43<26:21, 23.11batch/s, batch_nb=140799, gpu=0, loss=0.064, v_nb=55]\n",
      "Epoch 1:  80%|███████▉  | 145870/182400 [4:10:43<26:17, 23.16batch/s, batch_nb=140799, gpu=0, loss=0.064, v_nb=55]\n",
      "Epoch 1:  80%|███████▉  | 145873/182400 [4:10:43<26:24, 23.05batch/s, batch_nb=140799, gpu=0, loss=0.064, v_nb=55]\n",
      "Epoch 1:  80%|███████▉  | 145876/182400 [4:10:43<26:18, 23.14batch/s, batch_nb=140799, gpu=0, loss=0.064, v_nb=55]\n",
      "Epoch 1:  80%|███████▉  | 145879/182400 [4:10:43<26:11, 23.25batch/s, batch_nb=140799, gpu=0, loss=0.064, v_nb=55]\n",
      "Epoch 1:  80%|███████▉  | 145882/182400 [4:10:44<26:07, 23.29batch/s, batch_nb=140799, gpu=0, loss=0.064, v_nb=55]\n",
      "Epoch 1:  80%|███████▉  | 145885/182400 [4:10:44<26:10, 23.25batch/s, batch_nb=140799, gpu=0, loss=0.064, v_nb=55]\n",
      "Epoch 1:  80%|███████▉  | 145888/182400 [4:10:44<26:15, 23.18batch/s, batch_nb=140799, gpu=0, loss=0.064, v_nb=55]\n",
      "Epoch 1:  80%|███████▉  | 145891/182400 [4:10:44<26:13, 23.21batch/s, batch_nb=140799, gpu=0, loss=0.064, v_nb=55]\n",
      "Epoch 1:  80%|███████▉  | 145894/182400 [4:10:44<26:08, 23.28batch/s, batch_nb=140799, gpu=0, loss=0.064, v_nb=55]\n",
      "Epoch 1:  80%|███████▉  | 145897/182400 [4:10:44<26:09, 23.26batch/s, batch_nb=140799, gpu=0, loss=0.064, v_nb=55]\n",
      "Epoch 1:  80%|███████▉  | 145900/182400 [4:10:44<26:09, 23.26batch/s, batch_nb=140799, gpu=0, loss=0.064, v_nb=55]\n",
      "Epoch 1:  80%|███████▉  | 145903/182400 [4:10:44<26:11, 23.22batch/s, batch_nb=140799, gpu=0, loss=0.064, v_nb=55]\n",
      "Epoch 1:  80%|███████▉  | 145906/182400 [4:10:45<26:08, 23.26batch/s, batch_nb=140799, gpu=0, loss=0.064, v_nb=55]\n",
      "Epoch 1:  80%|███████▉  | 145909/182400 [4:10:45<26:21, 23.08batch/s, batch_nb=140799, gpu=0, loss=0.064, v_nb=55]\n",
      "Epoch 1:  80%|███████▉  | 145912/182400 [4:10:45<26:23, 23.05batch/s, batch_nb=140799, gpu=0, loss=0.064, v_nb=55]\n",
      "Epoch 1:  80%|███████▉  | 145915/182400 [4:10:45<26:22, 23.06batch/s, batch_nb=140799, gpu=0, loss=0.064, v_nb=55]\n",
      "Epoch 1:  80%|████████  | 145920/182400 [4:10:47<26:15, 23.15batch/s, batch_nb=140799, gpu=0, loss=0.064, v_nb=55]\n",
      "Epoch 1:  81%|████████  | 147870/182400 [4:14:26<57:58,  9.93batch/s, batch_nb=142749, gpu=0, loss=0.065, v_nb=55]  "
     ]
    },
    {
     "name": "stdout",
     "output_type": "stream",
     "text": [
      "Gradient overflow.  Skipping step, loss scaler 0 reducing loss scale to 4194304.0\n"
     ]
    },
    {
     "name": "stderr",
     "output_type": "stream",
     "text": [
      "Epoch 1:  82%|████████▏ | 149926/182400 [4:18:13<1:07:05,  8.07batch/s, batch_nb=144805, gpu=0, loss=0.064, v_nb=55]"
     ]
    },
    {
     "name": "stdout",
     "output_type": "stream",
     "text": [
      "Gradient overflow.  Skipping step, loss scaler 0 reducing loss scale to 4194304.0\n"
     ]
    },
    {
     "name": "stderr",
     "output_type": "stream",
     "text": [
      "Epoch 1:  84%|████████▎ | 152310/182400 [4:22:38<50:14,  9.98batch/s, batch_nb=147189, gpu=0, loss=0.063, v_nb=55]  "
     ]
    },
    {
     "name": "stdout",
     "output_type": "stream",
     "text": [
      "Gradient overflow.  Skipping step, loss scaler 0 reducing loss scale to 4194304.0\n"
     ]
    },
    {
     "name": "stderr",
     "output_type": "stream",
     "text": [
      "Epoch 1:  84%|████████▍ | 153434/182400 [4:24:43<55:19,  8.73batch/s, batch_nb=148313, gpu=0, loss=0.064, v_nb=55]  "
     ]
    },
    {
     "name": "stdout",
     "output_type": "stream",
     "text": [
      "Gradient overflow.  Skipping step, loss scaler 0 reducing loss scale to 2097152.0\n"
     ]
    },
    {
     "name": "stderr",
     "output_type": "stream",
     "text": [
      "Epoch 1:  85%|████████▍ | 154720/182400 [4:27:06<47:27,  9.72batch/s, batch_nb=149599, gpu=0, loss=0.062, v_nb=55]  \n",
      "Validating:   0%|          | 0/320 [00:00<?, ?batch/s]\u001b[A\n",
      "Epoch 1:  85%|████████▍ | 154723/182400 [4:27:06<39:26, 11.70batch/s, batch_nb=149599, gpu=0, loss=0.062, v_nb=55]\n",
      "Epoch 1:  85%|████████▍ | 154726/182400 [4:27:06<33:34, 13.74batch/s, batch_nb=149599, gpu=0, loss=0.062, v_nb=55]\n",
      "Epoch 1:  85%|████████▍ | 154729/182400 [4:27:06<29:27, 15.66batch/s, batch_nb=149599, gpu=0, loss=0.062, v_nb=55]\n",
      "Epoch 1:  85%|████████▍ | 154732/182400 [4:27:06<26:34, 17.36batch/s, batch_nb=149599, gpu=0, loss=0.062, v_nb=55]\n",
      "Epoch 1:  85%|████████▍ | 154735/182400 [4:27:07<24:31, 18.80batch/s, batch_nb=149599, gpu=0, loss=0.062, v_nb=55]\n",
      "Epoch 1:  85%|████████▍ | 154738/182400 [4:27:07<23:07, 19.94batch/s, batch_nb=149599, gpu=0, loss=0.062, v_nb=55]\n",
      "Epoch 1:  85%|████████▍ | 154741/182400 [4:27:07<22:11, 20.78batch/s, batch_nb=149599, gpu=0, loss=0.062, v_nb=55]\n",
      "Epoch 1:  85%|████████▍ | 154744/182400 [4:27:07<21:32, 21.41batch/s, batch_nb=149599, gpu=0, loss=0.062, v_nb=55]\n",
      "Epoch 1:  85%|████████▍ | 154747/182400 [4:27:07<21:00, 21.94batch/s, batch_nb=149599, gpu=0, loss=0.062, v_nb=55]\n",
      "Epoch 1:  85%|████████▍ | 154750/182400 [4:27:07<20:39, 22.31batch/s, batch_nb=149599, gpu=0, loss=0.062, v_nb=55]\n",
      "Epoch 1:  85%|████████▍ | 154753/182400 [4:27:07<20:23, 22.59batch/s, batch_nb=149599, gpu=0, loss=0.062, v_nb=55]\n",
      "Epoch 1:  85%|████████▍ | 154756/182400 [4:27:08<20:11, 22.82batch/s, batch_nb=149599, gpu=0, loss=0.062, v_nb=55]\n",
      "Epoch 1:  85%|████████▍ | 154759/182400 [4:27:08<20:01, 23.01batch/s, batch_nb=149599, gpu=0, loss=0.062, v_nb=55]\n",
      "Epoch 1:  85%|████████▍ | 154762/182400 [4:27:08<19:53, 23.15batch/s, batch_nb=149599, gpu=0, loss=0.062, v_nb=55]\n",
      "Epoch 1:  85%|████████▍ | 154765/182400 [4:27:08<19:48, 23.25batch/s, batch_nb=149599, gpu=0, loss=0.062, v_nb=55]\n",
      "Epoch 1:  85%|████████▍ | 154768/182400 [4:27:08<19:45, 23.31batch/s, batch_nb=149599, gpu=0, loss=0.062, v_nb=55]\n",
      "Epoch 1:  85%|████████▍ | 154771/182400 [4:27:08<19:43, 23.35batch/s, batch_nb=149599, gpu=0, loss=0.062, v_nb=55]\n",
      "Epoch 1:  85%|████████▍ | 154774/182400 [4:27:08<19:45, 23.31batch/s, batch_nb=149599, gpu=0, loss=0.062, v_nb=55]\n",
      "Epoch 1:  85%|████████▍ | 154777/182400 [4:27:08<19:42, 23.36batch/s, batch_nb=149599, gpu=0, loss=0.062, v_nb=55]\n",
      "Epoch 1:  85%|████████▍ | 154780/182400 [4:27:09<19:39, 23.41batch/s, batch_nb=149599, gpu=0, loss=0.062, v_nb=55]\n",
      "Epoch 1:  85%|████████▍ | 154783/182400 [4:27:09<19:43, 23.33batch/s, batch_nb=149599, gpu=0, loss=0.062, v_nb=55]\n",
      "Epoch 1:  85%|████████▍ | 154786/182400 [4:27:09<19:42, 23.35batch/s, batch_nb=149599, gpu=0, loss=0.062, v_nb=55]\n",
      "Epoch 1:  85%|████████▍ | 154789/182400 [4:27:09<19:39, 23.41batch/s, batch_nb=149599, gpu=0, loss=0.062, v_nb=55]\n",
      "Epoch 1:  85%|████████▍ | 154792/182400 [4:27:09<19:42, 23.35batch/s, batch_nb=149599, gpu=0, loss=0.062, v_nb=55]\n",
      "Epoch 1:  85%|████████▍ | 154795/182400 [4:27:09<19:46, 23.27batch/s, batch_nb=149599, gpu=0, loss=0.062, v_nb=55]\n",
      "Epoch 1:  85%|████████▍ | 154798/182400 [4:27:09<19:47, 23.24batch/s, batch_nb=149599, gpu=0, loss=0.062, v_nb=55]\n",
      "Epoch 1:  85%|████████▍ | 154801/182400 [4:27:09<19:45, 23.28batch/s, batch_nb=149599, gpu=0, loss=0.062, v_nb=55]\n",
      "Epoch 1:  85%|████████▍ | 154804/182400 [4:27:10<19:48, 23.22batch/s, batch_nb=149599, gpu=0, loss=0.062, v_nb=55]\n",
      "Epoch 1:  85%|████████▍ | 154807/182400 [4:27:10<19:46, 23.25batch/s, batch_nb=149599, gpu=0, loss=0.062, v_nb=55]\n",
      "Epoch 1:  85%|████████▍ | 154810/182400 [4:27:10<19:48, 23.21batch/s, batch_nb=149599, gpu=0, loss=0.062, v_nb=55]\n",
      "Epoch 1:  85%|████████▍ | 154813/182400 [4:27:10<19:46, 23.24batch/s, batch_nb=149599, gpu=0, loss=0.062, v_nb=55]\n",
      "Epoch 1:  85%|████████▍ | 154816/182400 [4:27:10<19:49, 23.19batch/s, batch_nb=149599, gpu=0, loss=0.062, v_nb=55]\n",
      "Epoch 1:  85%|████████▍ | 154819/182400 [4:27:10<19:51, 23.15batch/s, batch_nb=149599, gpu=0, loss=0.062, v_nb=55]\n",
      "Epoch 1:  85%|████████▍ | 154822/182400 [4:27:10<19:51, 23.15batch/s, batch_nb=149599, gpu=0, loss=0.062, v_nb=55]\n",
      "Epoch 1:  85%|████████▍ | 154825/182400 [4:27:10<19:49, 23.18batch/s, batch_nb=149599, gpu=0, loss=0.062, v_nb=55]\n",
      "Epoch 1:  85%|████████▍ | 154828/182400 [4:27:11<19:48, 23.19batch/s, batch_nb=149599, gpu=0, loss=0.062, v_nb=55]\n",
      "Epoch 1:  85%|████████▍ | 154831/182400 [4:27:11<19:47, 23.21batch/s, batch_nb=149599, gpu=0, loss=0.062, v_nb=55]\n",
      "Epoch 1:  85%|████████▍ | 154834/182400 [4:27:11<19:48, 23.19batch/s, batch_nb=149599, gpu=0, loss=0.062, v_nb=55]\n",
      "Epoch 1:  85%|████████▍ | 154837/182400 [4:27:11<19:48, 23.19batch/s, batch_nb=149599, gpu=0, loss=0.062, v_nb=55]\n",
      "Epoch 1:  85%|████████▍ | 154840/182400 [4:27:11<19:50, 23.15batch/s, batch_nb=149599, gpu=0, loss=0.062, v_nb=55]\n",
      "Epoch 1:  85%|████████▍ | 154843/182400 [4:27:11<19:51, 23.13batch/s, batch_nb=149599, gpu=0, loss=0.062, v_nb=55]\n",
      "Epoch 1:  85%|████████▍ | 154846/182400 [4:27:11<19:55, 23.06batch/s, batch_nb=149599, gpu=0, loss=0.062, v_nb=55]\n",
      "Epoch 1:  85%|████████▍ | 154849/182400 [4:27:12<19:59, 22.97batch/s, batch_nb=149599, gpu=0, loss=0.062, v_nb=55]\n",
      "Epoch 1:  85%|████████▍ | 154852/182400 [4:27:12<20:02, 22.92batch/s, batch_nb=149599, gpu=0, loss=0.062, v_nb=55]\n",
      "Epoch 1:  85%|████████▍ | 154855/182400 [4:27:12<20:03, 22.89batch/s, batch_nb=149599, gpu=0, loss=0.062, v_nb=55]\n",
      "Epoch 1:  85%|████████▍ | 154858/182400 [4:27:12<20:05, 22.85batch/s, batch_nb=149599, gpu=0, loss=0.062, v_nb=55]\n",
      "Epoch 1:  85%|████████▍ | 154861/182400 [4:27:12<19:59, 22.96batch/s, batch_nb=149599, gpu=0, loss=0.062, v_nb=55]\n",
      "Epoch 1:  85%|████████▍ | 154864/182400 [4:27:12<19:58, 22.97batch/s, batch_nb=149599, gpu=0, loss=0.062, v_nb=55]\n",
      "Epoch 1:  85%|████████▍ | 154867/182400 [4:27:12<19:59, 22.96batch/s, batch_nb=149599, gpu=0, loss=0.062, v_nb=55]\n",
      "Epoch 1:  85%|████████▍ | 154870/182400 [4:27:12<19:57, 23.00batch/s, batch_nb=149599, gpu=0, loss=0.062, v_nb=55]\n",
      "Epoch 1:  85%|████████▍ | 154873/182400 [4:27:13<19:59, 22.96batch/s, batch_nb=149599, gpu=0, loss=0.062, v_nb=55]\n",
      "Epoch 1:  85%|████████▍ | 154876/182400 [4:27:13<19:59, 22.95batch/s, batch_nb=149599, gpu=0, loss=0.062, v_nb=55]\n",
      "Epoch 1:  85%|████████▍ | 154879/182400 [4:27:13<19:49, 23.14batch/s, batch_nb=149599, gpu=0, loss=0.062, v_nb=55]\n",
      "Epoch 1:  85%|████████▍ | 154882/182400 [4:27:13<19:46, 23.20batch/s, batch_nb=149599, gpu=0, loss=0.062, v_nb=55]\n",
      "Epoch 1:  85%|████████▍ | 154885/182400 [4:27:13<19:44, 23.23batch/s, batch_nb=149599, gpu=0, loss=0.062, v_nb=55]\n",
      "Epoch 1:  85%|████████▍ | 154888/182400 [4:27:13<19:39, 23.32batch/s, batch_nb=149599, gpu=0, loss=0.062, v_nb=55]\n",
      "Epoch 1:  85%|████████▍ | 154891/182400 [4:27:13<19:39, 23.31batch/s, batch_nb=149599, gpu=0, loss=0.062, v_nb=55]\n",
      "Epoch 1:  85%|████████▍ | 154894/182400 [4:27:13<19:45, 23.20batch/s, batch_nb=149599, gpu=0, loss=0.062, v_nb=55]\n",
      "Epoch 1:  85%|████████▍ | 154897/182400 [4:27:14<19:43, 23.25batch/s, batch_nb=149599, gpu=0, loss=0.062, v_nb=55]\n",
      "Epoch 1:  85%|████████▍ | 154900/182400 [4:27:14<19:39, 23.31batch/s, batch_nb=149599, gpu=0, loss=0.062, v_nb=55]\n",
      "Epoch 1:  85%|████████▍ | 154903/182400 [4:27:14<19:43, 23.23batch/s, batch_nb=149599, gpu=0, loss=0.062, v_nb=55]\n",
      "Epoch 1:  85%|████████▍ | 154906/182400 [4:27:14<19:42, 23.25batch/s, batch_nb=149599, gpu=0, loss=0.062, v_nb=55]\n",
      "Epoch 1:  85%|████████▍ | 154909/182400 [4:27:14<19:40, 23.30batch/s, batch_nb=149599, gpu=0, loss=0.062, v_nb=55]\n",
      "Epoch 1:  85%|████████▍ | 154912/182400 [4:27:14<19:39, 23.31batch/s, batch_nb=149599, gpu=0, loss=0.062, v_nb=55]\n",
      "Epoch 1:  85%|████████▍ | 154915/182400 [4:27:14<19:42, 23.25batch/s, batch_nb=149599, gpu=0, loss=0.062, v_nb=55]\n",
      "Epoch 1:  85%|████████▍ | 154918/182400 [4:27:14<19:43, 23.22batch/s, batch_nb=149599, gpu=0, loss=0.062, v_nb=55]\n",
      "Epoch 1:  85%|████████▍ | 154921/182400 [4:27:15<19:39, 23.30batch/s, batch_nb=149599, gpu=0, loss=0.062, v_nb=55]\n",
      "Epoch 1:  85%|████████▍ | 154924/182400 [4:27:15<19:40, 23.28batch/s, batch_nb=149599, gpu=0, loss=0.062, v_nb=55]\n",
      "Epoch 1:  85%|████████▍ | 154927/182400 [4:27:15<19:38, 23.31batch/s, batch_nb=149599, gpu=0, loss=0.062, v_nb=55]\n"
     ]
    },
    {
     "name": "stderr",
     "output_type": "stream",
     "text": [
      "Epoch 1:  85%|████████▍ | 154930/182400 [4:27:15<19:41, 23.25batch/s, batch_nb=149599, gpu=0, loss=0.062, v_nb=55]\n",
      "Epoch 1:  85%|████████▍ | 154933/182400 [4:27:15<19:39, 23.28batch/s, batch_nb=149599, gpu=0, loss=0.062, v_nb=55]\n",
      "Epoch 1:  85%|████████▍ | 154936/182400 [4:27:15<19:41, 23.24batch/s, batch_nb=149599, gpu=0, loss=0.062, v_nb=55]\n",
      "Epoch 1:  85%|████████▍ | 154939/182400 [4:27:15<19:39, 23.28batch/s, batch_nb=149599, gpu=0, loss=0.062, v_nb=55]\n",
      "Epoch 1:  85%|████████▍ | 154942/182400 [4:27:16<19:39, 23.28batch/s, batch_nb=149599, gpu=0, loss=0.062, v_nb=55]\n",
      "Epoch 1:  85%|████████▍ | 154945/182400 [4:27:16<19:42, 23.23batch/s, batch_nb=149599, gpu=0, loss=0.062, v_nb=55]\n",
      "Epoch 1:  85%|████████▍ | 154948/182400 [4:27:16<19:45, 23.17batch/s, batch_nb=149599, gpu=0, loss=0.062, v_nb=55]\n",
      "Epoch 1:  85%|████████▍ | 154951/182400 [4:27:16<19:47, 23.11batch/s, batch_nb=149599, gpu=0, loss=0.062, v_nb=55]\n",
      "Epoch 1:  85%|████████▍ | 154954/182400 [4:27:16<19:49, 23.08batch/s, batch_nb=149599, gpu=0, loss=0.062, v_nb=55]\n",
      "Epoch 1:  85%|████████▍ | 154957/182400 [4:27:16<19:44, 23.16batch/s, batch_nb=149599, gpu=0, loss=0.062, v_nb=55]\n",
      "Epoch 1:  85%|████████▍ | 154960/182400 [4:27:16<19:42, 23.21batch/s, batch_nb=149599, gpu=0, loss=0.062, v_nb=55]\n",
      "Epoch 1:  85%|████████▍ | 154963/182400 [4:27:16<19:39, 23.27batch/s, batch_nb=149599, gpu=0, loss=0.062, v_nb=55]\n",
      "Epoch 1:  85%|████████▍ | 154966/182400 [4:27:17<19:37, 23.30batch/s, batch_nb=149599, gpu=0, loss=0.062, v_nb=55]\n",
      "Epoch 1:  85%|████████▍ | 154969/182400 [4:27:17<19:40, 23.24batch/s, batch_nb=149599, gpu=0, loss=0.062, v_nb=55]\n",
      "Epoch 1:  85%|████████▍ | 154972/182400 [4:27:17<19:38, 23.27batch/s, batch_nb=149599, gpu=0, loss=0.062, v_nb=55]\n",
      "Epoch 1:  85%|████████▍ | 154975/182400 [4:27:17<19:47, 23.10batch/s, batch_nb=149599, gpu=0, loss=0.062, v_nb=55]\n",
      "Epoch 1:  85%|████████▍ | 154978/182400 [4:27:17<19:49, 23.05batch/s, batch_nb=149599, gpu=0, loss=0.062, v_nb=55]\n",
      "Epoch 1:  85%|████████▍ | 154981/182400 [4:27:17<19:45, 23.13batch/s, batch_nb=149599, gpu=0, loss=0.062, v_nb=55]\n",
      "Epoch 1:  85%|████████▍ | 154984/182400 [4:27:17<19:46, 23.11batch/s, batch_nb=149599, gpu=0, loss=0.062, v_nb=55]\n",
      "Epoch 1:  85%|████████▍ | 154987/182400 [4:27:17<19:48, 23.07batch/s, batch_nb=149599, gpu=0, loss=0.062, v_nb=55]\n",
      "Epoch 1:  85%|████████▍ | 154990/182400 [4:27:18<19:51, 23.01batch/s, batch_nb=149599, gpu=0, loss=0.062, v_nb=55]\n",
      "Epoch 1:  85%|████████▍ | 154993/182400 [4:27:18<19:51, 23.00batch/s, batch_nb=149599, gpu=0, loss=0.062, v_nb=55]\n",
      "Epoch 1:  85%|████████▍ | 154996/182400 [4:27:18<19:56, 22.89batch/s, batch_nb=149599, gpu=0, loss=0.062, v_nb=55]\n",
      "Epoch 1:  85%|████████▍ | 154999/182400 [4:27:18<19:54, 22.94batch/s, batch_nb=149599, gpu=0, loss=0.062, v_nb=55]\n",
      "Epoch 1:  85%|████████▍ | 155002/182400 [4:27:18<19:54, 22.95batch/s, batch_nb=149599, gpu=0, loss=0.062, v_nb=55]\n",
      "Epoch 1:  85%|████████▍ | 155005/182400 [4:27:18<19:58, 22.86batch/s, batch_nb=149599, gpu=0, loss=0.062, v_nb=55]\n",
      "Epoch 1:  85%|████████▍ | 155008/182400 [4:27:18<20:00, 22.81batch/s, batch_nb=149599, gpu=0, loss=0.062, v_nb=55]\n",
      "Epoch 1:  85%|████████▍ | 155011/182400 [4:27:19<19:58, 22.85batch/s, batch_nb=149599, gpu=0, loss=0.062, v_nb=55]\n",
      "Epoch 1:  85%|████████▍ | 155014/182400 [4:27:19<19:57, 22.88batch/s, batch_nb=149599, gpu=0, loss=0.062, v_nb=55]\n",
      "Epoch 1:  85%|████████▍ | 155017/182400 [4:27:19<19:55, 22.91batch/s, batch_nb=149599, gpu=0, loss=0.062, v_nb=55]\n",
      "Epoch 1:  85%|████████▍ | 155020/182400 [4:27:19<19:54, 22.92batch/s, batch_nb=149599, gpu=0, loss=0.062, v_nb=55]\n",
      "Epoch 1:  85%|████████▍ | 155023/182400 [4:27:19<19:51, 22.97batch/s, batch_nb=149599, gpu=0, loss=0.062, v_nb=55]\n",
      "Epoch 1:  85%|████████▍ | 155026/182400 [4:27:19<19:50, 23.00batch/s, batch_nb=149599, gpu=0, loss=0.062, v_nb=55]\n",
      "Epoch 1:  85%|████████▍ | 155029/182400 [4:27:19<19:49, 23.02batch/s, batch_nb=149599, gpu=0, loss=0.062, v_nb=55]\n",
      "Epoch 1:  85%|████████▍ | 155032/182400 [4:27:19<19:44, 23.10batch/s, batch_nb=149599, gpu=0, loss=0.062, v_nb=55]\n",
      "Epoch 1:  85%|████████▍ | 155035/182400 [4:27:20<19:41, 23.15batch/s, batch_nb=149599, gpu=0, loss=0.062, v_nb=55]\n",
      "Epoch 1:  85%|████████▌ | 155040/182400 [4:27:22<19:42, 23.13batch/s, batch_nb=149599, gpu=0, loss=0.062, v_nb=55]\n",
      "Epoch 1:  87%|████████▋ | 157981/182400 [4:32:53<41:28,  9.81batch/s, batch_nb=152540, gpu=0, loss=0.064, v_nb=55]  "
     ]
    },
    {
     "name": "stdout",
     "output_type": "stream",
     "text": [
      "Gradient overflow.  Skipping step, loss scaler 0 reducing loss scale to 4194304.0\n"
     ]
    },
    {
     "name": "stderr",
     "output_type": "stream",
     "text": [
      "Epoch 1:  88%|████████▊ | 160026/182400 [4:36:42<39:48,  9.37batch/s, batch_nb=154585, gpu=0, loss=0.063, v_nb=55]  "
     ]
    },
    {
     "name": "stdout",
     "output_type": "stream",
     "text": [
      "Gradient overflow.  Skipping step, loss scaler 0 reducing loss scale to 4194304.0\n"
     ]
    },
    {
     "name": "stderr",
     "output_type": "stream",
     "text": [
      "Epoch 1:  89%|████████▉ | 162170/182400 [4:40:42<34:25,  9.79batch/s, batch_nb=156729, gpu=0, loss=0.064, v_nb=55]  "
     ]
    },
    {
     "name": "stdout",
     "output_type": "stream",
     "text": [
      "Gradient overflow.  Skipping step, loss scaler 0 reducing loss scale to 4194304.0\n"
     ]
    },
    {
     "name": "stderr",
     "output_type": "stream",
     "text": [
      "Epoch 1:  90%|████████▉ | 163840/182400 [4:43:48<32:12,  9.60batch/s, batch_nb=158399, gpu=0, loss=0.064, v_nb=55]\n",
      "Validating:   0%|          | 0/320 [00:00<?, ?batch/s]\u001b[A\n",
      "Epoch 1:  90%|████████▉ | 163843/182400 [4:43:49<26:43, 11.57batch/s, batch_nb=158399, gpu=0, loss=0.064, v_nb=55]\n",
      "Epoch 1:  90%|████████▉ | 163846/182400 [4:43:49<22:45, 13.59batch/s, batch_nb=158399, gpu=0, loss=0.064, v_nb=55]\n",
      "Epoch 1:  90%|████████▉ | 163849/182400 [4:43:49<19:55, 15.51batch/s, batch_nb=158399, gpu=0, loss=0.064, v_nb=55]\n",
      "Epoch 1:  90%|████████▉ | 163852/182400 [4:43:49<17:57, 17.22batch/s, batch_nb=158399, gpu=0, loss=0.064, v_nb=55]\n",
      "Epoch 1:  90%|████████▉ | 163855/182400 [4:43:49<16:35, 18.62batch/s, batch_nb=158399, gpu=0, loss=0.064, v_nb=55]\n",
      "Epoch 1:  90%|████████▉ | 163858/182400 [4:43:49<15:35, 19.81batch/s, batch_nb=158399, gpu=0, loss=0.064, v_nb=55]\n",
      "Epoch 1:  90%|████████▉ | 163861/182400 [4:43:49<14:56, 20.69batch/s, batch_nb=158399, gpu=0, loss=0.064, v_nb=55]\n",
      "Epoch 1:  90%|████████▉ | 163864/182400 [4:43:50<14:23, 21.46batch/s, batch_nb=158399, gpu=0, loss=0.064, v_nb=55]\n",
      "Epoch 1:  90%|████████▉ | 163867/182400 [4:43:50<14:05, 21.92batch/s, batch_nb=158399, gpu=0, loss=0.064, v_nb=55]\n",
      "Epoch 1:  90%|████████▉ | 163870/182400 [4:43:50<13:53, 22.24batch/s, batch_nb=158399, gpu=0, loss=0.064, v_nb=55]\n",
      "Epoch 1:  90%|████████▉ | 163873/182400 [4:43:50<13:41, 22.56batch/s, batch_nb=158399, gpu=0, loss=0.064, v_nb=55]\n",
      "Epoch 1:  90%|████████▉ | 163876/182400 [4:43:50<13:34, 22.75batch/s, batch_nb=158399, gpu=0, loss=0.064, v_nb=55]\n",
      "Epoch 1:  90%|████████▉ | 163879/182400 [4:43:50<13:28, 22.90batch/s, batch_nb=158399, gpu=0, loss=0.064, v_nb=55]\n",
      "Epoch 1:  90%|████████▉ | 163882/182400 [4:43:50<13:24, 23.01batch/s, batch_nb=158399, gpu=0, loss=0.064, v_nb=55]\n",
      "Epoch 1:  90%|████████▉ | 163885/182400 [4:43:50<13:20, 23.13batch/s, batch_nb=158399, gpu=0, loss=0.064, v_nb=55]\n",
      "Epoch 1:  90%|████████▉ | 163888/182400 [4:43:51<13:19, 23.16batch/s, batch_nb=158399, gpu=0, loss=0.064, v_nb=55]\n",
      "Epoch 1:  90%|████████▉ | 163891/182400 [4:43:51<13:18, 23.18batch/s, batch_nb=158399, gpu=0, loss=0.064, v_nb=55]\n",
      "Epoch 1:  90%|████████▉ | 163894/182400 [4:43:51<13:19, 23.14batch/s, batch_nb=158399, gpu=0, loss=0.064, v_nb=55]\n",
      "Epoch 1:  90%|████████▉ | 163897/182400 [4:43:51<13:19, 23.16batch/s, batch_nb=158399, gpu=0, loss=0.064, v_nb=55]\n",
      "Epoch 1:  90%|████████▉ | 163900/182400 [4:43:51<13:20, 23.10batch/s, batch_nb=158399, gpu=0, loss=0.064, v_nb=55]\n",
      "Epoch 1:  90%|████████▉ | 163903/182400 [4:43:51<13:17, 23.19batch/s, batch_nb=158399, gpu=0, loss=0.064, v_nb=55]\n",
      "Epoch 1:  90%|████████▉ | 163906/182400 [4:43:51<13:18, 23.15batch/s, batch_nb=158399, gpu=0, loss=0.064, v_nb=55]\n",
      "Epoch 1:  90%|████████▉ | 163909/182400 [4:43:51<13:23, 23.01batch/s, batch_nb=158399, gpu=0, loss=0.064, v_nb=55]\n",
      "Epoch 1:  90%|████████▉ | 163912/182400 [4:43:52<13:22, 23.05batch/s, batch_nb=158399, gpu=0, loss=0.064, v_nb=55]\n",
      "Epoch 1:  90%|████████▉ | 163915/182400 [4:43:52<13:33, 22.72batch/s, batch_nb=158399, gpu=0, loss=0.064, v_nb=55]\n",
      "Epoch 1:  90%|████████▉ | 163918/182400 [4:43:52<13:35, 22.68batch/s, batch_nb=158399, gpu=0, loss=0.064, v_nb=55]\n",
      "Epoch 1:  90%|████████▉ | 163921/182400 [4:43:52<13:36, 22.63batch/s, batch_nb=158399, gpu=0, loss=0.064, v_nb=55]\n",
      "Epoch 1:  90%|████████▉ | 163924/182400 [4:43:52<13:36, 22.62batch/s, batch_nb=158399, gpu=0, loss=0.064, v_nb=55]\n",
      "Epoch 1:  90%|████████▉ | 163927/182400 [4:43:52<13:35, 22.65batch/s, batch_nb=158399, gpu=0, loss=0.064, v_nb=55]\n",
      "Epoch 1:  90%|████████▉ | 163930/182400 [4:43:52<13:31, 22.76batch/s, batch_nb=158399, gpu=0, loss=0.064, v_nb=55]\n",
      "Epoch 1:  90%|████████▉ | 163933/182400 [4:43:53<13:30, 22.80batch/s, batch_nb=158399, gpu=0, loss=0.064, v_nb=55]\n",
      "Epoch 1:  90%|████████▉ | 163936/182400 [4:43:53<13:29, 22.81batch/s, batch_nb=158399, gpu=0, loss=0.064, v_nb=55]\n",
      "Epoch 1:  90%|████████▉ | 163939/182400 [4:43:53<13:31, 22.76batch/s, batch_nb=158399, gpu=0, loss=0.064, v_nb=55]\n",
      "Epoch 1:  90%|████████▉ | 163942/182400 [4:43:53<13:28, 22.82batch/s, batch_nb=158399, gpu=0, loss=0.064, v_nb=55]\n",
      "Epoch 1:  90%|████████▉ | 163945/182400 [4:43:53<13:28, 22.81batch/s, batch_nb=158399, gpu=0, loss=0.064, v_nb=55]\n",
      "Epoch 1:  90%|████████▉ | 163948/182400 [4:43:53<13:25, 22.90batch/s, batch_nb=158399, gpu=0, loss=0.064, v_nb=55]\n",
      "Epoch 1:  90%|████████▉ | 163951/182400 [4:43:53<13:23, 22.97batch/s, batch_nb=158399, gpu=0, loss=0.064, v_nb=55]\n",
      "Epoch 1:  90%|████████▉ | 163954/182400 [4:43:53<13:21, 23.01batch/s, batch_nb=158399, gpu=0, loss=0.064, v_nb=55]\n",
      "Epoch 1:  90%|████████▉ | 163957/182400 [4:43:54<13:20, 23.03batch/s, batch_nb=158399, gpu=0, loss=0.064, v_nb=55]\n",
      "Epoch 1:  90%|████████▉ | 163960/182400 [4:43:54<13:21, 22.99batch/s, batch_nb=158399, gpu=0, loss=0.064, v_nb=55]\n",
      "Epoch 1:  90%|████████▉ | 163963/182400 [4:43:54<13:19, 23.05batch/s, batch_nb=158399, gpu=0, loss=0.064, v_nb=55]\n",
      "Epoch 1:  90%|████████▉ | 163966/182400 [4:43:54<13:17, 23.13batch/s, batch_nb=158399, gpu=0, loss=0.064, v_nb=55]\n",
      "Epoch 1:  90%|████████▉ | 163969/182400 [4:43:54<13:17, 23.11batch/s, batch_nb=158399, gpu=0, loss=0.064, v_nb=55]\n",
      "Epoch 1:  90%|████████▉ | 163972/182400 [4:43:54<13:16, 23.13batch/s, batch_nb=158399, gpu=0, loss=0.064, v_nb=55]\n",
      "Epoch 1:  90%|████████▉ | 163975/182400 [4:43:54<13:19, 23.06batch/s, batch_nb=158399, gpu=0, loss=0.064, v_nb=55]\n",
      "Epoch 1:  90%|████████▉ | 163978/182400 [4:43:54<13:21, 23.00batch/s, batch_nb=158399, gpu=0, loss=0.064, v_nb=55]\n",
      "Epoch 1:  90%|████████▉ | 163981/182400 [4:43:55<13:24, 22.91batch/s, batch_nb=158399, gpu=0, loss=0.064, v_nb=55]\n",
      "Epoch 1:  90%|████████▉ | 163984/182400 [4:43:55<13:20, 23.00batch/s, batch_nb=158399, gpu=0, loss=0.064, v_nb=55]\n",
      "Epoch 1:  90%|████████▉ | 163987/182400 [4:43:55<13:22, 22.95batch/s, batch_nb=158399, gpu=0, loss=0.064, v_nb=55]\n",
      "Epoch 1:  90%|████████▉ | 163990/182400 [4:43:55<13:22, 22.95batch/s, batch_nb=158399, gpu=0, loss=0.064, v_nb=55]\n",
      "Epoch 1:  90%|████████▉ | 163993/182400 [4:43:55<13:18, 23.05batch/s, batch_nb=158399, gpu=0, loss=0.064, v_nb=55]\n",
      "Epoch 1:  90%|████████▉ | 163996/182400 [4:43:55<13:20, 22.99batch/s, batch_nb=158399, gpu=0, loss=0.064, v_nb=55]\n",
      "Epoch 1:  90%|████████▉ | 163999/182400 [4:43:55<13:18, 23.04batch/s, batch_nb=158399, gpu=0, loss=0.064, v_nb=55]\n",
      "Epoch 1:  90%|████████▉ | 164002/182400 [4:43:56<13:18, 23.05batch/s, batch_nb=158399, gpu=0, loss=0.064, v_nb=55]\n",
      "Epoch 1:  90%|████████▉ | 164005/182400 [4:43:56<13:17, 23.06batch/s, batch_nb=158399, gpu=0, loss=0.064, v_nb=55]\n",
      "Epoch 1:  90%|████████▉ | 164008/182400 [4:43:56<13:21, 22.95batch/s, batch_nb=158399, gpu=0, loss=0.064, v_nb=55]\n",
      "Epoch 1:  90%|████████▉ | 164011/182400 [4:43:56<13:19, 22.99batch/s, batch_nb=158399, gpu=0, loss=0.064, v_nb=55]\n",
      "Epoch 1:  90%|████████▉ | 164014/182400 [4:43:56<13:18, 23.02batch/s, batch_nb=158399, gpu=0, loss=0.064, v_nb=55]\n",
      "Epoch 1:  90%|████████▉ | 164017/182400 [4:43:56<13:19, 22.99batch/s, batch_nb=158399, gpu=0, loss=0.064, v_nb=55]\n",
      "Epoch 1:  90%|████████▉ | 164020/182400 [4:43:56<13:17, 23.05batch/s, batch_nb=158399, gpu=0, loss=0.064, v_nb=55]\n",
      "Epoch 1:  90%|████████▉ | 164023/182400 [4:43:56<13:17, 23.04batch/s, batch_nb=158399, gpu=0, loss=0.064, v_nb=55]\n",
      "Epoch 1:  90%|████████▉ | 164026/182400 [4:43:57<13:16, 23.08batch/s, batch_nb=158399, gpu=0, loss=0.064, v_nb=55]\n",
      "Epoch 1:  90%|████████▉ | 164029/182400 [4:43:57<13:14, 23.13batch/s, batch_nb=158399, gpu=0, loss=0.064, v_nb=55]\n",
      "Epoch 1:  90%|████████▉ | 164032/182400 [4:43:57<13:13, 23.15batch/s, batch_nb=158399, gpu=0, loss=0.064, v_nb=55]\n",
      "Epoch 1:  90%|████████▉ | 164035/182400 [4:43:57<13:13, 23.15batch/s, batch_nb=158399, gpu=0, loss=0.064, v_nb=55]\n",
      "Epoch 1:  90%|████████▉ | 164038/182400 [4:43:57<13:15, 23.08batch/s, batch_nb=158399, gpu=0, loss=0.064, v_nb=55]\n",
      "Epoch 1:  90%|████████▉ | 164041/182400 [4:43:57<13:14, 23.10batch/s, batch_nb=158399, gpu=0, loss=0.064, v_nb=55]\n",
      "Epoch 1:  90%|████████▉ | 164044/182400 [4:43:57<13:15, 23.09batch/s, batch_nb=158399, gpu=0, loss=0.064, v_nb=55]\n",
      "Epoch 1:  90%|████████▉ | 164047/182400 [4:43:57<13:14, 23.11batch/s, batch_nb=158399, gpu=0, loss=0.064, v_nb=55]\n"
     ]
    },
    {
     "name": "stderr",
     "output_type": "stream",
     "text": [
      "Epoch 1:  90%|████████▉ | 164050/182400 [4:43:58<13:16, 23.03batch/s, batch_nb=158399, gpu=0, loss=0.064, v_nb=55]\n",
      "Epoch 1:  90%|████████▉ | 164053/182400 [4:43:58<13:18, 22.98batch/s, batch_nb=158399, gpu=0, loss=0.064, v_nb=55]\n",
      "Epoch 1:  90%|████████▉ | 164056/182400 [4:43:58<13:18, 22.96batch/s, batch_nb=158399, gpu=0, loss=0.064, v_nb=55]\n",
      "Epoch 1:  90%|████████▉ | 164059/182400 [4:43:58<13:19, 22.94batch/s, batch_nb=158399, gpu=0, loss=0.064, v_nb=55]\n",
      "Epoch 1:  90%|████████▉ | 164062/182400 [4:43:58<13:23, 22.83batch/s, batch_nb=158399, gpu=0, loss=0.064, v_nb=55]\n",
      "Epoch 1:  90%|████████▉ | 164065/182400 [4:43:58<13:22, 22.84batch/s, batch_nb=158399, gpu=0, loss=0.064, v_nb=55]\n",
      "Epoch 1:  90%|████████▉ | 164068/182400 [4:43:58<13:20, 22.90batch/s, batch_nb=158399, gpu=0, loss=0.064, v_nb=55]\n",
      "Epoch 1:  90%|████████▉ | 164071/182400 [4:43:59<13:17, 22.97batch/s, batch_nb=158399, gpu=0, loss=0.064, v_nb=55]\n",
      "Epoch 1:  90%|████████▉ | 164074/182400 [4:43:59<13:15, 23.03batch/s, batch_nb=158399, gpu=0, loss=0.064, v_nb=55]\n",
      "Epoch 1:  90%|████████▉ | 164077/182400 [4:43:59<13:17, 22.97batch/s, batch_nb=158399, gpu=0, loss=0.064, v_nb=55]\n",
      "Epoch 1:  90%|████████▉ | 164080/182400 [4:43:59<13:19, 22.92batch/s, batch_nb=158399, gpu=0, loss=0.064, v_nb=55]\n",
      "Epoch 1:  90%|████████▉ | 164083/182400 [4:43:59<13:15, 23.01batch/s, batch_nb=158399, gpu=0, loss=0.064, v_nb=55]\n",
      "Epoch 1:  90%|████████▉ | 164086/182400 [4:43:59<13:17, 22.96batch/s, batch_nb=158399, gpu=0, loss=0.064, v_nb=55]\n",
      "Epoch 1:  90%|████████▉ | 164089/182400 [4:43:59<13:15, 23.02batch/s, batch_nb=158399, gpu=0, loss=0.064, v_nb=55]\n",
      "Epoch 1:  90%|████████▉ | 164092/182400 [4:43:59<13:13, 23.06batch/s, batch_nb=158399, gpu=0, loss=0.064, v_nb=55]\n",
      "Epoch 1:  90%|████████▉ | 164095/182400 [4:44:00<13:12, 23.09batch/s, batch_nb=158399, gpu=0, loss=0.064, v_nb=55]\n",
      "Epoch 1:  90%|████████▉ | 164098/182400 [4:44:00<13:09, 23.18batch/s, batch_nb=158399, gpu=0, loss=0.064, v_nb=55]\n",
      "Epoch 1:  90%|████████▉ | 164101/182400 [4:44:00<13:10, 23.15batch/s, batch_nb=158399, gpu=0, loss=0.064, v_nb=55]\n",
      "Epoch 1:  90%|████████▉ | 164104/182400 [4:44:00<13:10, 23.16batch/s, batch_nb=158399, gpu=0, loss=0.064, v_nb=55]\n",
      "Epoch 1:  90%|████████▉ | 164107/182400 [4:44:00<13:12, 23.10batch/s, batch_nb=158399, gpu=0, loss=0.064, v_nb=55]\n",
      "Epoch 1:  90%|████████▉ | 164110/182400 [4:44:00<13:10, 23.13batch/s, batch_nb=158399, gpu=0, loss=0.064, v_nb=55]\n",
      "Epoch 1:  90%|████████▉ | 164113/182400 [4:44:00<13:10, 23.13batch/s, batch_nb=158399, gpu=0, loss=0.064, v_nb=55]\n",
      "Epoch 1:  90%|████████▉ | 164116/182400 [4:44:00<13:10, 23.13batch/s, batch_nb=158399, gpu=0, loss=0.064, v_nb=55]\n",
      "Epoch 1:  90%|████████▉ | 164119/182400 [4:44:01<13:09, 23.15batch/s, batch_nb=158399, gpu=0, loss=0.064, v_nb=55]\n",
      "Epoch 1:  90%|████████▉ | 164122/182400 [4:44:01<13:09, 23.15batch/s, batch_nb=158399, gpu=0, loss=0.064, v_nb=55]\n",
      "Epoch 1:  90%|████████▉ | 164125/182400 [4:44:01<13:09, 23.14batch/s, batch_nb=158399, gpu=0, loss=0.064, v_nb=55]\n",
      "Epoch 1:  90%|████████▉ | 164128/182400 [4:44:01<13:10, 23.11batch/s, batch_nb=158399, gpu=0, loss=0.064, v_nb=55]\n",
      "Epoch 1:  90%|████████▉ | 164131/182400 [4:44:01<13:11, 23.08batch/s, batch_nb=158399, gpu=0, loss=0.064, v_nb=55]\n",
      "Epoch 1:  90%|████████▉ | 164134/182400 [4:44:01<13:13, 23.03batch/s, batch_nb=158399, gpu=0, loss=0.064, v_nb=55]\n",
      "Epoch 1:  90%|████████▉ | 164137/182400 [4:44:01<13:11, 23.07batch/s, batch_nb=158399, gpu=0, loss=0.064, v_nb=55]\n",
      "Epoch 1:  90%|████████▉ | 164140/182400 [4:44:02<13:09, 23.14batch/s, batch_nb=158399, gpu=0, loss=0.064, v_nb=55]\n",
      "Epoch 1:  90%|████████▉ | 164143/182400 [4:44:02<13:08, 23.15batch/s, batch_nb=158399, gpu=0, loss=0.064, v_nb=55]\n",
      "Epoch 1:  90%|████████▉ | 164146/182400 [4:44:02<13:11, 23.07batch/s, batch_nb=158399, gpu=0, loss=0.064, v_nb=55]\n",
      "Epoch 1:  90%|████████▉ | 164149/182400 [4:44:02<13:09, 23.11batch/s, batch_nb=158399, gpu=0, loss=0.064, v_nb=55]\n",
      "Epoch 1:  90%|████████▉ | 164152/182400 [4:44:02<13:08, 23.14batch/s, batch_nb=158399, gpu=0, loss=0.064, v_nb=55]\n",
      "Epoch 1:  90%|████████▉ | 164155/182400 [4:44:02<13:06, 23.18batch/s, batch_nb=158399, gpu=0, loss=0.064, v_nb=55]\n",
      "Epoch 1:  90%|█████████ | 164160/182400 [4:44:04<13:06, 23.20batch/s, batch_nb=158399, gpu=0, loss=0.064, v_nb=55]\n",
      "Epoch 1:  90%|█████████ | 164560/182400 [4:44:52<30:37,  9.71batch/s, batch_nb=158799, gpu=0, loss=0.064, v_nb=55]  "
     ]
    },
    {
     "name": "stdout",
     "output_type": "stream",
     "text": [
      "Gradient overflow.  Skipping step, loss scaler 0 reducing loss scale to 4194304.0\n"
     ]
    },
    {
     "name": "stderr",
     "output_type": "stream",
     "text": [
      "Epoch 1:  91%|█████████▏| 166686/182400 [4:48:51<28:11,  9.29batch/s, batch_nb=160925, gpu=0, loss=0.064, v_nb=55]"
     ]
    },
    {
     "name": "stdout",
     "output_type": "stream",
     "text": [
      "Gradient overflow.  Skipping step, loss scaler 0 reducing loss scale to 4194304.0\n"
     ]
    },
    {
     "name": "stderr",
     "output_type": "stream",
     "text": [
      "Epoch 1:  93%|█████████▎| 168938/182400 [4:53:05<22:46,  9.85batch/s, batch_nb=163177, gpu=0, loss=0.065, v_nb=55]"
     ]
    },
    {
     "name": "stdout",
     "output_type": "stream",
     "text": [
      "Gradient overflow.  Skipping step, loss scaler 0 reducing loss scale to 4194304.0\n"
     ]
    },
    {
     "name": "stderr",
     "output_type": "stream",
     "text": [
      "Epoch 1:  94%|█████████▎| 170957/182400 [4:57:02<21:45,  8.76batch/s, batch_nb=165196, gpu=0, loss=0.063, v_nb=55]"
     ]
    },
    {
     "name": "stdout",
     "output_type": "stream",
     "text": [
      "Gradient overflow.  Skipping step, loss scaler 0 reducing loss scale to 4194304.0\n"
     ]
    },
    {
     "name": "stderr",
     "output_type": "stream",
     "text": [
      "Epoch 1:  95%|█████████▍| 172960/182400 [5:01:12<17:20,  9.07batch/s, batch_nb=167199, gpu=0, loss=0.064, v_nb=55]\n",
      "Epoch 1:  95%|█████████▍| 172962/182400 [5:01:12<14:32, 10.81batch/s, batch_nb=167199, gpu=0, loss=0.064, v_nb=55]\n",
      "Epoch 1:  95%|█████████▍| 172965/182400 [5:01:12<12:25, 12.65batch/s, batch_nb=167199, gpu=0, loss=0.064, v_nb=55]\n",
      "Epoch 1:  95%|█████████▍| 172967/182400 [5:01:12<11:06, 14.16batch/s, batch_nb=167199, gpu=0, loss=0.064, v_nb=55]\n",
      "Epoch 1:  95%|█████████▍| 172970/182400 [5:01:12<10:00, 15.72batch/s, batch_nb=167199, gpu=0, loss=0.064, v_nb=55]\n",
      "Epoch 1:  95%|█████████▍| 172973/182400 [5:01:12<09:14, 17.01batch/s, batch_nb=167199, gpu=0, loss=0.064, v_nb=55]\n",
      "Epoch 1:  95%|█████████▍| 172976/182400 [5:01:13<08:40, 18.11batch/s, batch_nb=167199, gpu=0, loss=0.064, v_nb=55]\n",
      "Epoch 1:  95%|█████████▍| 172979/182400 [5:01:13<08:18, 18.91batch/s, batch_nb=167199, gpu=0, loss=0.064, v_nb=55]\n",
      "Epoch 1:  95%|█████████▍| 172982/182400 [5:01:13<08:00, 19.59batch/s, batch_nb=167199, gpu=0, loss=0.064, v_nb=55]\n",
      "Epoch 1:  95%|█████████▍| 172985/182400 [5:01:13<07:49, 20.07batch/s, batch_nb=167199, gpu=0, loss=0.064, v_nb=55]\n",
      "Epoch 1:  95%|█████████▍| 172988/182400 [5:01:13<07:41, 20.41batch/s, batch_nb=167199, gpu=0, loss=0.064, v_nb=55]\n",
      "Epoch 1:  95%|█████████▍| 172991/182400 [5:01:13<07:36, 20.59batch/s, batch_nb=167199, gpu=0, loss=0.064, v_nb=55]\n",
      "Epoch 1:  95%|█████████▍| 172994/182400 [5:01:13<07:35, 20.66batch/s, batch_nb=167199, gpu=0, loss=0.064, v_nb=55]\n",
      "Epoch 1:  95%|█████████▍| 172997/182400 [5:01:14<07:33, 20.74batch/s, batch_nb=167199, gpu=0, loss=0.064, v_nb=55]\n",
      "Epoch 1:  95%|█████████▍| 173000/182400 [5:01:14<07:33, 20.73batch/s, batch_nb=167199, gpu=0, loss=0.064, v_nb=55]\n",
      "Epoch 1:  95%|█████████▍| 173003/182400 [5:01:14<07:33, 20.74batch/s, batch_nb=167199, gpu=0, loss=0.064, v_nb=55]\n",
      "Epoch 1:  95%|█████████▍| 173006/182400 [5:01:14<07:28, 20.97batch/s, batch_nb=167199, gpu=0, loss=0.064, v_nb=55]\n",
      "Epoch 1:  95%|█████████▍| 173009/182400 [5:01:14<07:25, 21.06batch/s, batch_nb=167199, gpu=0, loss=0.064, v_nb=55]\n",
      "Epoch 1:  95%|█████████▍| 173012/182400 [5:01:14<07:23, 21.19batch/s, batch_nb=167199, gpu=0, loss=0.064, v_nb=55]\n",
      "Epoch 1:  95%|█████████▍| 173015/182400 [5:01:14<07:23, 21.14batch/s, batch_nb=167199, gpu=0, loss=0.064, v_nb=55]\n",
      "Epoch 1:  95%|█████████▍| 173018/182400 [5:01:15<07:26, 21.03batch/s, batch_nb=167199, gpu=0, loss=0.064, v_nb=55]\n",
      "Epoch 1:  95%|█████████▍| 173021/182400 [5:01:15<07:24, 21.11batch/s, batch_nb=167199, gpu=0, loss=0.064, v_nb=55]\n",
      "Epoch 1:  95%|█████████▍| 173024/182400 [5:01:15<07:24, 21.10batch/s, batch_nb=167199, gpu=0, loss=0.064, v_nb=55]\n",
      "Epoch 1:  95%|█████████▍| 173027/182400 [5:01:15<07:25, 21.03batch/s, batch_nb=167199, gpu=0, loss=0.064, v_nb=55]\n",
      "Epoch 1:  95%|█████████▍| 173030/182400 [5:01:15<07:30, 20.79batch/s, batch_nb=167199, gpu=0, loss=0.064, v_nb=55]\n",
      "Epoch 1:  95%|█████████▍| 173033/182400 [5:01:15<07:26, 20.96batch/s, batch_nb=167199, gpu=0, loss=0.064, v_nb=55]\n",
      "Epoch 1:  95%|█████████▍| 173036/182400 [5:01:15<07:28, 20.89batch/s, batch_nb=167199, gpu=0, loss=0.064, v_nb=55]\n",
      "Epoch 1:  95%|█████████▍| 173039/182400 [5:01:16<07:31, 20.71batch/s, batch_nb=167199, gpu=0, loss=0.064, v_nb=55]\n",
      "Epoch 1:  95%|█████████▍| 173042/182400 [5:01:16<07:31, 20.74batch/s, batch_nb=167199, gpu=0, loss=0.064, v_nb=55]\n",
      "Epoch 1:  95%|█████████▍| 173045/182400 [5:01:16<07:31, 20.74batch/s, batch_nb=167199, gpu=0, loss=0.064, v_nb=55]\n",
      "Epoch 1:  95%|█████████▍| 173048/182400 [5:01:16<07:26, 20.92batch/s, batch_nb=167199, gpu=0, loss=0.064, v_nb=55]\n",
      "Epoch 1:  95%|█████████▍| 173051/182400 [5:01:16<07:29, 20.80batch/s, batch_nb=167199, gpu=0, loss=0.064, v_nb=55]\n",
      "Epoch 1:  95%|█████████▍| 173054/182400 [5:01:16<07:25, 20.99batch/s, batch_nb=167199, gpu=0, loss=0.064, v_nb=55]\n",
      "Epoch 1:  95%|█████████▍| 173057/182400 [5:01:16<07:22, 21.09batch/s, batch_nb=167199, gpu=0, loss=0.064, v_nb=55]\n",
      "Epoch 1:  95%|█████████▍| 173060/182400 [5:01:17<07:22, 21.08batch/s, batch_nb=167199, gpu=0, loss=0.064, v_nb=55]\n",
      "Epoch 1:  95%|█████████▍| 173063/182400 [5:01:17<07:30, 20.72batch/s, batch_nb=167199, gpu=0, loss=0.064, v_nb=55]\n",
      "Epoch 1:  95%|█████████▍| 173066/182400 [5:01:17<07:27, 20.85batch/s, batch_nb=167199, gpu=0, loss=0.064, v_nb=55]\n",
      "Epoch 1:  95%|█████████▍| 173069/182400 [5:01:17<07:23, 21.06batch/s, batch_nb=167199, gpu=0, loss=0.064, v_nb=55]\n",
      "Epoch 1:  95%|█████████▍| 173072/182400 [5:01:17<07:27, 20.85batch/s, batch_nb=167199, gpu=0, loss=0.064, v_nb=55]\n",
      "Epoch 1:  95%|█████████▍| 173075/182400 [5:01:17<07:24, 20.99batch/s, batch_nb=167199, gpu=0, loss=0.064, v_nb=55]\n",
      "Epoch 1:  95%|█████████▍| 173078/182400 [5:01:17<07:24, 20.96batch/s, batch_nb=167199, gpu=0, loss=0.064, v_nb=55]\n",
      "Epoch 1:  95%|█████████▍| 173081/182400 [5:01:18<07:26, 20.89batch/s, batch_nb=167199, gpu=0, loss=0.064, v_nb=55]\n",
      "Epoch 1:  95%|█████████▍| 173084/182400 [5:01:18<07:24, 20.95batch/s, batch_nb=167199, gpu=0, loss=0.064, v_nb=55]\n",
      "Epoch 1:  95%|█████████▍| 173087/182400 [5:01:18<07:26, 20.85batch/s, batch_nb=167199, gpu=0, loss=0.064, v_nb=55]\n",
      "Epoch 1:  95%|█████████▍| 173090/182400 [5:01:18<07:28, 20.77batch/s, batch_nb=167199, gpu=0, loss=0.064, v_nb=55]\n",
      "Epoch 1:  95%|█████████▍| 173093/182400 [5:01:18<07:26, 20.84batch/s, batch_nb=167199, gpu=0, loss=0.064, v_nb=55]\n",
      "Epoch 1:  95%|█████████▍| 173096/182400 [5:01:18<07:24, 20.95batch/s, batch_nb=167199, gpu=0, loss=0.064, v_nb=55]\n",
      "Epoch 1:  95%|█████████▍| 173099/182400 [5:01:18<07:24, 20.91batch/s, batch_nb=167199, gpu=0, loss=0.064, v_nb=55]\n",
      "Epoch 1:  95%|█████████▍| 173102/182400 [5:01:19<07:21, 21.06batch/s, batch_nb=167199, gpu=0, loss=0.064, v_nb=55]\n",
      "Epoch 1:  95%|█████████▍| 173105/182400 [5:01:19<07:19, 21.13batch/s, batch_nb=167199, gpu=0, loss=0.064, v_nb=55]\n",
      "Epoch 1:  95%|█████████▍| 173108/182400 [5:01:19<07:18, 21.20batch/s, batch_nb=167199, gpu=0, loss=0.064, v_nb=55]\n",
      "Epoch 1:  95%|█████████▍| 173111/182400 [5:01:19<07:16, 21.30batch/s, batch_nb=167199, gpu=0, loss=0.064, v_nb=55]\n",
      "Epoch 1:  95%|█████████▍| 173114/182400 [5:01:19<07:18, 21.16batch/s, batch_nb=167199, gpu=0, loss=0.064, v_nb=55]\n",
      "Epoch 1:  95%|█████████▍| 173117/182400 [5:01:19<07:21, 21.01batch/s, batch_nb=167199, gpu=0, loss=0.064, v_nb=55]\n",
      "Epoch 1:  95%|█████████▍| 173120/182400 [5:01:19<07:19, 21.13batch/s, batch_nb=167199, gpu=0, loss=0.064, v_nb=55]\n",
      "Epoch 1:  95%|█████████▍| 173123/182400 [5:01:20<07:18, 21.16batch/s, batch_nb=167199, gpu=0, loss=0.064, v_nb=55]\n",
      "Epoch 1:  95%|█████████▍| 173126/182400 [5:01:20<07:18, 21.13batch/s, batch_nb=167199, gpu=0, loss=0.064, v_nb=55]\n",
      "Epoch 1:  95%|█████████▍| 173129/182400 [5:01:20<07:18, 21.12batch/s, batch_nb=167199, gpu=0, loss=0.064, v_nb=55]\n",
      "Epoch 1:  95%|█████████▍| 173132/182400 [5:01:20<07:17, 21.19batch/s, batch_nb=167199, gpu=0, loss=0.064, v_nb=55]\n",
      "Epoch 1:  95%|█████████▍| 173135/182400 [5:01:20<07:19, 21.10batch/s, batch_nb=167199, gpu=0, loss=0.064, v_nb=55]\n",
      "Epoch 1:  95%|█████████▍| 173138/182400 [5:01:20<07:18, 21.11batch/s, batch_nb=167199, gpu=0, loss=0.064, v_nb=55]\n",
      "Epoch 1:  95%|█████████▍| 173141/182400 [5:01:20<07:19, 21.08batch/s, batch_nb=167199, gpu=0, loss=0.064, v_nb=55]\n",
      "Epoch 1:  95%|█████████▍| 173144/182400 [5:01:21<07:15, 21.26batch/s, batch_nb=167199, gpu=0, loss=0.064, v_nb=55]\n",
      "Epoch 1:  95%|█████████▍| 173147/182400 [5:01:21<07:15, 21.26batch/s, batch_nb=167199, gpu=0, loss=0.064, v_nb=55]\n",
      "Epoch 1:  95%|█████████▍| 173150/182400 [5:01:21<07:15, 21.24batch/s, batch_nb=167199, gpu=0, loss=0.064, v_nb=55]\n",
      "Epoch 1:  95%|█████████▍| 173153/182400 [5:01:21<07:13, 21.31batch/s, batch_nb=167199, gpu=0, loss=0.064, v_nb=55]\n",
      "Epoch 1:  95%|█████████▍| 173156/182400 [5:01:21<07:13, 21.33batch/s, batch_nb=167199, gpu=0, loss=0.064, v_nb=55]\n",
      "Epoch 1:  95%|█████████▍| 173159/182400 [5:01:21<07:12, 21.36batch/s, batch_nb=167199, gpu=0, loss=0.064, v_nb=55]\n",
      "Epoch 1:  95%|█████████▍| 173162/182400 [5:01:21<07:12, 21.38batch/s, batch_nb=167199, gpu=0, loss=0.064, v_nb=55]\n",
      "Epoch 1:  95%|█████████▍| 173165/182400 [5:01:22<07:15, 21.20batch/s, batch_nb=167199, gpu=0, loss=0.064, v_nb=55]\n",
      "Epoch 1:  95%|█████████▍| 173168/182400 [5:01:22<07:15, 21.21batch/s, batch_nb=167199, gpu=0, loss=0.064, v_nb=55]\n"
     ]
    },
    {
     "name": "stderr",
     "output_type": "stream",
     "text": [
      "Epoch 1:  95%|█████████▍| 173171/182400 [5:01:22<07:15, 21.19batch/s, batch_nb=167199, gpu=0, loss=0.064, v_nb=55]\n",
      "Epoch 1:  95%|█████████▍| 173174/182400 [5:01:22<07:19, 20.97batch/s, batch_nb=167199, gpu=0, loss=0.064, v_nb=55]\n",
      "Epoch 1:  95%|█████████▍| 173177/182400 [5:01:22<07:19, 20.97batch/s, batch_nb=167199, gpu=0, loss=0.064, v_nb=55]\n",
      "Epoch 1:  95%|█████████▍| 173180/182400 [5:01:22<07:20, 20.95batch/s, batch_nb=167199, gpu=0, loss=0.064, v_nb=55]\n",
      "Epoch 1:  95%|█████████▍| 173183/182400 [5:01:22<07:18, 21.02batch/s, batch_nb=167199, gpu=0, loss=0.064, v_nb=55]\n",
      "Epoch 1:  95%|█████████▍| 173186/182400 [5:01:23<07:26, 20.63batch/s, batch_nb=167199, gpu=0, loss=0.064, v_nb=55]\n",
      "Epoch 1:  95%|█████████▍| 173189/182400 [5:01:23<07:30, 20.44batch/s, batch_nb=167199, gpu=0, loss=0.064, v_nb=55]\n",
      "Epoch 1:  95%|█████████▍| 173192/182400 [5:01:23<07:23, 20.76batch/s, batch_nb=167199, gpu=0, loss=0.064, v_nb=55]\n",
      "Epoch 1:  95%|█████████▍| 173195/182400 [5:01:23<07:23, 20.75batch/s, batch_nb=167199, gpu=0, loss=0.064, v_nb=55]\n",
      "Epoch 1:  95%|█████████▍| 173198/182400 [5:01:23<07:36, 20.16batch/s, batch_nb=167199, gpu=0, loss=0.064, v_nb=55]\n",
      "Epoch 1:  95%|█████████▍| 173201/182400 [5:01:23<07:38, 20.07batch/s, batch_nb=167199, gpu=0, loss=0.064, v_nb=55]\n",
      "Epoch 1:  95%|█████████▍| 173204/182400 [5:01:23<07:53, 19.44batch/s, batch_nb=167199, gpu=0, loss=0.064, v_nb=55]\n",
      "Epoch 1:  95%|█████████▍| 173206/182400 [5:01:24<08:05, 18.92batch/s, batch_nb=167199, gpu=0, loss=0.064, v_nb=55]\n",
      "Epoch 1:  95%|█████████▍| 173208/182400 [5:01:24<08:10, 18.74batch/s, batch_nb=167199, gpu=0, loss=0.064, v_nb=55]\n",
      "Epoch 1:  95%|█████████▍| 173210/182400 [5:01:24<08:06, 18.91batch/s, batch_nb=167199, gpu=0, loss=0.064, v_nb=55]\n",
      "Epoch 1:  95%|█████████▍| 173213/182400 [5:01:24<07:50, 19.51batch/s, batch_nb=167199, gpu=0, loss=0.064, v_nb=55]\n",
      "Epoch 1:  95%|█████████▍| 173215/182400 [5:01:24<07:56, 19.28batch/s, batch_nb=167199, gpu=0, loss=0.064, v_nb=55]\n",
      "Epoch 1:  95%|█████████▍| 173217/182400 [5:01:24<08:03, 18.98batch/s, batch_nb=167199, gpu=0, loss=0.064, v_nb=55]\n",
      "Epoch 1:  95%|█████████▍| 173219/182400 [5:01:24<08:11, 18.68batch/s, batch_nb=167199, gpu=0, loss=0.064, v_nb=55]\n",
      "Epoch 1:  95%|█████████▍| 173221/182400 [5:01:24<08:17, 18.45batch/s, batch_nb=167199, gpu=0, loss=0.064, v_nb=55]\n",
      "Epoch 1:  95%|█████████▍| 173223/182400 [5:01:24<08:19, 18.38batch/s, batch_nb=167199, gpu=0, loss=0.064, v_nb=55]\n",
      "Epoch 1:  95%|█████████▍| 173225/182400 [5:01:25<08:28, 18.04batch/s, batch_nb=167199, gpu=0, loss=0.064, v_nb=55]\n",
      "Epoch 1:  95%|█████████▍| 173227/182400 [5:01:25<08:30, 17.97batch/s, batch_nb=167199, gpu=0, loss=0.064, v_nb=55]\n",
      "Epoch 1:  95%|█████████▍| 173229/182400 [5:01:25<08:31, 17.93batch/s, batch_nb=167199, gpu=0, loss=0.064, v_nb=55]\n",
      "Epoch 1:  95%|█████████▍| 173231/182400 [5:01:25<08:28, 18.02batch/s, batch_nb=167199, gpu=0, loss=0.064, v_nb=55]\n",
      "Epoch 1:  95%|█████████▍| 173233/182400 [5:01:25<08:26, 18.11batch/s, batch_nb=167199, gpu=0, loss=0.064, v_nb=55]\n",
      "Epoch 1:  95%|█████████▍| 173235/182400 [5:01:25<08:31, 17.91batch/s, batch_nb=167199, gpu=0, loss=0.064, v_nb=55]\n",
      "Epoch 1:  95%|█████████▍| 173237/182400 [5:01:25<08:28, 18.03batch/s, batch_nb=167199, gpu=0, loss=0.064, v_nb=55]\n",
      "Epoch 1:  95%|█████████▍| 173239/182400 [5:01:25<08:26, 18.09batch/s, batch_nb=167199, gpu=0, loss=0.064, v_nb=55]\n",
      "Epoch 1:  95%|█████████▍| 173241/182400 [5:01:25<08:29, 17.99batch/s, batch_nb=167199, gpu=0, loss=0.064, v_nb=55]\n",
      "Epoch 1:  95%|█████████▍| 173243/182400 [5:01:26<08:27, 18.05batch/s, batch_nb=167199, gpu=0, loss=0.064, v_nb=55]\n",
      "Epoch 1:  95%|█████████▍| 173245/182400 [5:01:26<08:30, 17.94batch/s, batch_nb=167199, gpu=0, loss=0.064, v_nb=55]\n",
      "Epoch 1:  95%|█████████▍| 173247/182400 [5:01:26<08:37, 17.70batch/s, batch_nb=167199, gpu=0, loss=0.064, v_nb=55]\n",
      "Epoch 1:  95%|█████████▍| 173249/182400 [5:01:26<08:36, 17.71batch/s, batch_nb=167199, gpu=0, loss=0.064, v_nb=55]\n",
      "Epoch 1:  95%|█████████▍| 173251/182400 [5:01:26<08:33, 17.83batch/s, batch_nb=167199, gpu=0, loss=0.064, v_nb=55]\n",
      "Epoch 1:  95%|█████████▍| 173253/182400 [5:01:26<08:30, 17.92batch/s, batch_nb=167199, gpu=0, loss=0.064, v_nb=55]\n",
      "Epoch 1:  95%|█████████▍| 173256/182400 [5:01:26<08:06, 18.79batch/s, batch_nb=167199, gpu=0, loss=0.064, v_nb=55]\n",
      "Epoch 1:  95%|█████████▍| 173259/182400 [5:01:26<07:45, 19.64batch/s, batch_nb=167199, gpu=0, loss=0.064, v_nb=55]\n",
      "Epoch 1:  95%|█████████▍| 173262/182400 [5:01:27<07:30, 20.29batch/s, batch_nb=167199, gpu=0, loss=0.064, v_nb=55]\n",
      "Epoch 1:  95%|█████████▍| 173265/182400 [5:01:27<07:19, 20.76batch/s, batch_nb=167199, gpu=0, loss=0.064, v_nb=55]\n",
      "Epoch 1:  95%|█████████▍| 173268/182400 [5:01:27<07:13, 21.09batch/s, batch_nb=167199, gpu=0, loss=0.064, v_nb=55]\n",
      "Epoch 1:  95%|█████████▍| 173271/182400 [5:01:27<07:17, 20.89batch/s, batch_nb=167199, gpu=0, loss=0.064, v_nb=55]\n",
      "Epoch 1:  95%|█████████▍| 173274/182400 [5:01:27<07:41, 19.76batch/s, batch_nb=167199, gpu=0, loss=0.064, v_nb=55]\n",
      "Epoch 1:  95%|█████████▍| 173276/182400 [5:01:27<07:57, 19.10batch/s, batch_nb=167199, gpu=0, loss=0.064, v_nb=55]\n",
      "Epoch 1:  95%|█████████▍| 173278/182400 [5:01:27<08:10, 18.61batch/s, batch_nb=167199, gpu=0, loss=0.064, v_nb=55]\n",
      "Epoch 1:  95%|█████████▌| 173280/182400 [5:01:30<08:18, 18.28batch/s, batch_nb=167199, gpu=0, loss=0.064, v_nb=55]\n",
      "Epoch 1:  95%|█████████▌| 173813/182400 [5:02:40<20:11,  7.09batch/s, batch_nb=167732, gpu=0, loss=0.064, v_nb=55]  "
     ]
    },
    {
     "name": "stdout",
     "output_type": "stream",
     "text": [
      "Gradient overflow.  Skipping step, loss scaler 0 reducing loss scale to 4194304.0\n"
     ]
    },
    {
     "name": "stderr",
     "output_type": "stream",
     "text": [
      "Epoch 1:  95%|█████████▌| 173865/182400 [5:02:46<17:21,  8.20batch/s, batch_nb=167784, gpu=0, loss=0.065, v_nb=55]"
     ]
    },
    {
     "name": "stdout",
     "output_type": "stream",
     "text": [
      "Gradient overflow.  Skipping step, loss scaler 0 reducing loss scale to 2097152.0\n"
     ]
    },
    {
     "name": "stderr",
     "output_type": "stream",
     "text": [
      "Epoch 1:  98%|█████████▊| 178180/182400 [5:11:30<07:53,  8.91batch/s, batch_nb=172099, gpu=0, loss=0.063, v_nb=55]"
     ]
    },
    {
     "name": "stdout",
     "output_type": "stream",
     "text": [
      "Gradient overflow.  Skipping step, loss scaler 0 reducing loss scale to 4194304.0\n"
     ]
    },
    {
     "name": "stderr",
     "output_type": "stream",
     "text": [
      "Epoch 1:  99%|█████████▉| 180505/182400 [5:16:10<03:50,  8.23batch/s, batch_nb=174424, gpu=0, loss=0.063, v_nb=55]"
     ]
    },
    {
     "name": "stdout",
     "output_type": "stream",
     "text": [
      "Gradient overflow.  Skipping step, loss scaler 0 reducing loss scale to 4194304.0\n"
     ]
    },
    {
     "name": "stderr",
     "output_type": "stream",
     "text": [
      "Epoch 1: 100%|█████████▉| 182080/182400 [5:19:13<00:32,  9.77batch/s, batch_nb=175999, gpu=0, loss=0.064, v_nb=55]\n",
      "Validating:   0%|          | 0/320 [00:00<?, ?batch/s]\u001b[A\n",
      "Epoch 1: 100%|█████████▉| 182083/182400 [5:19:13<00:26, 11.78batch/s, batch_nb=175999, gpu=0, loss=0.064, v_nb=55]\n",
      "Epoch 1: 100%|█████████▉| 182086/182400 [5:19:13<00:22, 13.87batch/s, batch_nb=175999, gpu=0, loss=0.064, v_nb=55]\n",
      "Epoch 1: 100%|█████████▉| 182089/182400 [5:19:14<00:19, 15.81batch/s, batch_nb=175999, gpu=0, loss=0.064, v_nb=55]\n",
      "Epoch 1: 100%|█████████▉| 182092/182400 [5:19:14<00:17, 17.49batch/s, batch_nb=175999, gpu=0, loss=0.064, v_nb=55]\n",
      "Epoch 1: 100%|█████████▉| 182095/182400 [5:19:14<00:16, 18.93batch/s, batch_nb=175999, gpu=0, loss=0.064, v_nb=55]\n",
      "Epoch 1: 100%|█████████▉| 182098/182400 [5:19:14<00:15, 20.07batch/s, batch_nb=175999, gpu=0, loss=0.064, v_nb=55]\n",
      "Epoch 1: 100%|█████████▉| 182101/182400 [5:19:14<00:14, 20.96batch/s, batch_nb=175999, gpu=0, loss=0.064, v_nb=55]\n",
      "Epoch 1: 100%|█████████▉| 182104/182400 [5:19:14<00:13, 21.63batch/s, batch_nb=175999, gpu=0, loss=0.064, v_nb=55]\n",
      "Epoch 1: 100%|█████████▉| 182107/182400 [5:19:14<00:13, 22.15batch/s, batch_nb=175999, gpu=0, loss=0.064, v_nb=55]\n",
      "Epoch 1: 100%|█████████▉| 182110/182400 [5:19:14<00:12, 22.56batch/s, batch_nb=175999, gpu=0, loss=0.064, v_nb=55]\n",
      "Epoch 1: 100%|█████████▉| 182113/182400 [5:19:15<00:12, 22.82batch/s, batch_nb=175999, gpu=0, loss=0.064, v_nb=55]\n",
      "Epoch 1: 100%|█████████▉| 182116/182400 [5:19:15<00:12, 23.04batch/s, batch_nb=175999, gpu=0, loss=0.064, v_nb=55]\n",
      "Epoch 1: 100%|█████████▉| 182119/182400 [5:19:15<00:12, 23.18batch/s, batch_nb=175999, gpu=0, loss=0.064, v_nb=55]\n",
      "Epoch 1: 100%|█████████▉| 182122/182400 [5:19:15<00:11, 23.26batch/s, batch_nb=175999, gpu=0, loss=0.064, v_nb=55]\n",
      "Epoch 1: 100%|█████████▉| 182125/182400 [5:19:15<00:11, 23.35batch/s, batch_nb=175999, gpu=0, loss=0.064, v_nb=55]\n",
      "Epoch 1: 100%|█████████▉| 182128/182400 [5:19:15<00:11, 23.39batch/s, batch_nb=175999, gpu=0, loss=0.064, v_nb=55]\n",
      "Epoch 1: 100%|█████████▉| 182131/182400 [5:19:15<00:11, 23.37batch/s, batch_nb=175999, gpu=0, loss=0.064, v_nb=55]\n",
      "Epoch 1: 100%|█████████▉| 182134/182400 [5:19:15<00:11, 23.43batch/s, batch_nb=175999, gpu=0, loss=0.064, v_nb=55]\n",
      "Epoch 1: 100%|█████████▉| 182137/182400 [5:19:16<00:11, 23.44batch/s, batch_nb=175999, gpu=0, loss=0.064, v_nb=55]\n",
      "Epoch 1: 100%|█████████▉| 182140/182400 [5:19:16<00:11, 23.45batch/s, batch_nb=175999, gpu=0, loss=0.064, v_nb=55]\n",
      "Epoch 1: 100%|█████████▉| 182143/182400 [5:19:16<00:10, 23.48batch/s, batch_nb=175999, gpu=0, loss=0.064, v_nb=55]\n",
      "Epoch 1: 100%|█████████▉| 182146/182400 [5:19:16<00:10, 23.50batch/s, batch_nb=175999, gpu=0, loss=0.064, v_nb=55]\n",
      "Epoch 1: 100%|█████████▉| 182149/182400 [5:19:16<00:10, 23.52batch/s, batch_nb=175999, gpu=0, loss=0.064, v_nb=55]\n",
      "Epoch 1: 100%|█████████▉| 182152/182400 [5:19:16<00:10, 23.51batch/s, batch_nb=175999, gpu=0, loss=0.064, v_nb=55]\n",
      "Epoch 1: 100%|█████████▉| 182155/182400 [5:19:16<00:10, 23.52batch/s, batch_nb=175999, gpu=0, loss=0.064, v_nb=55]\n",
      "Epoch 1: 100%|█████████▉| 182158/182400 [5:19:16<00:10, 23.53batch/s, batch_nb=175999, gpu=0, loss=0.064, v_nb=55]\n",
      "Epoch 1: 100%|█████████▉| 182161/182400 [5:19:17<00:10, 23.52batch/s, batch_nb=175999, gpu=0, loss=0.064, v_nb=55]\n",
      "Epoch 1: 100%|█████████▉| 182164/182400 [5:19:17<00:10, 23.54batch/s, batch_nb=175999, gpu=0, loss=0.064, v_nb=55]\n",
      "Epoch 1: 100%|█████████▉| 182167/182400 [5:19:17<00:09, 23.53batch/s, batch_nb=175999, gpu=0, loss=0.064, v_nb=55]\n",
      "Epoch 1: 100%|█████████▉| 182170/182400 [5:19:17<00:09, 23.55batch/s, batch_nb=175999, gpu=0, loss=0.064, v_nb=55]\n",
      "Epoch 1: 100%|█████████▉| 182173/182400 [5:19:17<00:09, 23.51batch/s, batch_nb=175999, gpu=0, loss=0.064, v_nb=55]\n",
      "Epoch 1: 100%|█████████▉| 182176/182400 [5:19:17<00:09, 23.47batch/s, batch_nb=175999, gpu=0, loss=0.064, v_nb=55]\n",
      "Epoch 1: 100%|█████████▉| 182179/182400 [5:19:17<00:09, 23.44batch/s, batch_nb=175999, gpu=0, loss=0.064, v_nb=55]\n",
      "Epoch 1: 100%|█████████▉| 182182/182400 [5:19:18<00:09, 23.40batch/s, batch_nb=175999, gpu=0, loss=0.064, v_nb=55]\n",
      "Epoch 1: 100%|█████████▉| 182185/182400 [5:19:18<00:09, 23.36batch/s, batch_nb=175999, gpu=0, loss=0.064, v_nb=55]\n",
      "Epoch 1: 100%|█████████▉| 182188/182400 [5:19:18<00:09, 23.46batch/s, batch_nb=175999, gpu=0, loss=0.064, v_nb=55]\n",
      "Epoch 1: 100%|█████████▉| 182191/182400 [5:19:18<00:08, 23.53batch/s, batch_nb=175999, gpu=0, loss=0.064, v_nb=55]\n",
      "Epoch 1: 100%|█████████▉| 182194/182400 [5:19:18<00:08, 23.60batch/s, batch_nb=175999, gpu=0, loss=0.064, v_nb=55]\n",
      "Epoch 1: 100%|█████████▉| 182197/182400 [5:19:18<00:08, 23.57batch/s, batch_nb=175999, gpu=0, loss=0.064, v_nb=55]\n",
      "Epoch 1: 100%|█████████▉| 182200/182400 [5:19:18<00:08, 23.48batch/s, batch_nb=175999, gpu=0, loss=0.064, v_nb=55]\n",
      "Epoch 1: 100%|█████████▉| 182203/182400 [5:19:18<00:08, 23.53batch/s, batch_nb=175999, gpu=0, loss=0.064, v_nb=55]\n",
      "Epoch 1: 100%|█████████▉| 182206/182400 [5:19:19<00:08, 23.57batch/s, batch_nb=175999, gpu=0, loss=0.064, v_nb=55]\n",
      "Epoch 1: 100%|█████████▉| 182209/182400 [5:19:19<00:08, 23.59batch/s, batch_nb=175999, gpu=0, loss=0.064, v_nb=55]\n",
      "Epoch 1: 100%|█████████▉| 182212/182400 [5:19:19<00:07, 23.63batch/s, batch_nb=175999, gpu=0, loss=0.064, v_nb=55]\n",
      "Epoch 1: 100%|█████████▉| 182215/182400 [5:19:19<00:07, 23.67batch/s, batch_nb=175999, gpu=0, loss=0.064, v_nb=55]\n",
      "Epoch 1: 100%|█████████▉| 182218/182400 [5:19:19<00:07, 23.67batch/s, batch_nb=175999, gpu=0, loss=0.064, v_nb=55]\n",
      "Epoch 1: 100%|█████████▉| 182221/182400 [5:19:19<00:07, 23.63batch/s, batch_nb=175999, gpu=0, loss=0.064, v_nb=55]\n",
      "Epoch 1: 100%|█████████▉| 182224/182400 [5:19:19<00:07, 23.63batch/s, batch_nb=175999, gpu=0, loss=0.064, v_nb=55]\n",
      "Epoch 1: 100%|█████████▉| 182227/182400 [5:19:19<00:07, 23.61batch/s, batch_nb=175999, gpu=0, loss=0.064, v_nb=55]\n",
      "Epoch 1: 100%|█████████▉| 182230/182400 [5:19:20<00:07, 23.61batch/s, batch_nb=175999, gpu=0, loss=0.064, v_nb=55]\n",
      "Epoch 1: 100%|█████████▉| 182233/182400 [5:19:20<00:07, 23.63batch/s, batch_nb=175999, gpu=0, loss=0.064, v_nb=55]\n",
      "Epoch 1: 100%|█████████▉| 182236/182400 [5:19:20<00:06, 23.63batch/s, batch_nb=175999, gpu=0, loss=0.064, v_nb=55]\n",
      "Epoch 1: 100%|█████████▉| 182239/182400 [5:19:20<00:06, 23.53batch/s, batch_nb=175999, gpu=0, loss=0.064, v_nb=55]\n",
      "Epoch 1: 100%|█████████▉| 182242/182400 [5:19:20<00:06, 23.45batch/s, batch_nb=175999, gpu=0, loss=0.064, v_nb=55]\n",
      "Epoch 1: 100%|█████████▉| 182245/182400 [5:19:20<00:06, 23.42batch/s, batch_nb=175999, gpu=0, loss=0.064, v_nb=55]\n",
      "Epoch 1: 100%|█████████▉| 182248/182400 [5:19:20<00:06, 23.34batch/s, batch_nb=175999, gpu=0, loss=0.064, v_nb=55]\n",
      "Epoch 1: 100%|█████████▉| 182251/182400 [5:19:20<00:06, 23.43batch/s, batch_nb=175999, gpu=0, loss=0.064, v_nb=55]\n",
      "Epoch 1: 100%|█████████▉| 182254/182400 [5:19:21<00:06, 23.51batch/s, batch_nb=175999, gpu=0, loss=0.064, v_nb=55]\n",
      "Epoch 1: 100%|█████████▉| 182257/182400 [5:19:21<00:06, 23.56batch/s, batch_nb=175999, gpu=0, loss=0.064, v_nb=55]\n",
      "Epoch 1: 100%|█████████▉| 182260/182400 [5:19:21<00:05, 23.57batch/s, batch_nb=175999, gpu=0, loss=0.064, v_nb=55]\n",
      "Epoch 1: 100%|█████████▉| 182263/182400 [5:19:21<00:05, 23.47batch/s, batch_nb=175999, gpu=0, loss=0.064, v_nb=55]\n",
      "Epoch 1: 100%|█████████▉| 182266/182400 [5:19:21<00:05, 23.30batch/s, batch_nb=175999, gpu=0, loss=0.064, v_nb=55]\n",
      "Epoch 1: 100%|█████████▉| 182269/182400 [5:19:21<00:05, 23.31batch/s, batch_nb=175999, gpu=0, loss=0.064, v_nb=55]\n",
      "Epoch 1: 100%|█████████▉| 182272/182400 [5:19:21<00:05, 23.29batch/s, batch_nb=175999, gpu=0, loss=0.064, v_nb=55]\n",
      "Epoch 1: 100%|█████████▉| 182275/182400 [5:19:21<00:05, 23.31batch/s, batch_nb=175999, gpu=0, loss=0.064, v_nb=55]\n",
      "Epoch 1: 100%|█████████▉| 182278/182400 [5:19:22<00:05, 23.40batch/s, batch_nb=175999, gpu=0, loss=0.064, v_nb=55]\n",
      "Epoch 1: 100%|█████████▉| 182281/182400 [5:19:22<00:05, 23.43batch/s, batch_nb=175999, gpu=0, loss=0.064, v_nb=55]\n",
      "Epoch 1: 100%|█████████▉| 182284/182400 [5:19:22<00:04, 23.46batch/s, batch_nb=175999, gpu=0, loss=0.064, v_nb=55]\n",
      "Epoch 1: 100%|█████████▉| 182287/182400 [5:19:22<00:04, 23.48batch/s, batch_nb=175999, gpu=0, loss=0.064, v_nb=55]\n"
     ]
    },
    {
     "name": "stderr",
     "output_type": "stream",
     "text": [
      "Epoch 1: 100%|█████████▉| 182290/182400 [5:19:22<00:04, 23.49batch/s, batch_nb=175999, gpu=0, loss=0.064, v_nb=55]\n",
      "Epoch 1: 100%|█████████▉| 182293/182400 [5:19:22<00:04, 23.50batch/s, batch_nb=175999, gpu=0, loss=0.064, v_nb=55]\n",
      "Epoch 1: 100%|█████████▉| 182296/182400 [5:19:22<00:04, 23.51batch/s, batch_nb=175999, gpu=0, loss=0.064, v_nb=55]\n",
      "Epoch 1: 100%|█████████▉| 182299/182400 [5:19:22<00:04, 23.54batch/s, batch_nb=175999, gpu=0, loss=0.064, v_nb=55]\n",
      "Epoch 1: 100%|█████████▉| 182302/182400 [5:19:23<00:04, 23.54batch/s, batch_nb=175999, gpu=0, loss=0.064, v_nb=55]\n",
      "Epoch 1: 100%|█████████▉| 182305/182400 [5:19:23<00:04, 23.56batch/s, batch_nb=175999, gpu=0, loss=0.064, v_nb=55]\n",
      "Epoch 1: 100%|█████████▉| 182308/182400 [5:19:23<00:03, 23.55batch/s, batch_nb=175999, gpu=0, loss=0.064, v_nb=55]\n",
      "Epoch 1: 100%|█████████▉| 182311/182400 [5:19:23<00:03, 23.57batch/s, batch_nb=175999, gpu=0, loss=0.064, v_nb=55]\n",
      "Epoch 1: 100%|█████████▉| 182314/182400 [5:19:23<00:03, 23.58batch/s, batch_nb=175999, gpu=0, loss=0.064, v_nb=55]\n",
      "Epoch 1: 100%|█████████▉| 182317/182400 [5:19:23<00:03, 23.59batch/s, batch_nb=175999, gpu=0, loss=0.064, v_nb=55]\n",
      "Epoch 1: 100%|█████████▉| 182320/182400 [5:19:23<00:03, 23.56batch/s, batch_nb=175999, gpu=0, loss=0.064, v_nb=55]\n",
      "Epoch 1: 100%|█████████▉| 182323/182400 [5:19:24<00:03, 23.55batch/s, batch_nb=175999, gpu=0, loss=0.064, v_nb=55]\n",
      "Epoch 1: 100%|█████████▉| 182326/182400 [5:19:24<00:03, 23.57batch/s, batch_nb=175999, gpu=0, loss=0.064, v_nb=55]\n",
      "Epoch 1: 100%|█████████▉| 182329/182400 [5:19:24<00:03, 23.57batch/s, batch_nb=175999, gpu=0, loss=0.064, v_nb=55]\n",
      "Epoch 1: 100%|█████████▉| 182332/182400 [5:19:24<00:02, 23.58batch/s, batch_nb=175999, gpu=0, loss=0.064, v_nb=55]\n",
      "Epoch 1: 100%|█████████▉| 182335/182400 [5:19:24<00:02, 23.59batch/s, batch_nb=175999, gpu=0, loss=0.064, v_nb=55]\n",
      "Epoch 1: 100%|█████████▉| 182338/182400 [5:19:24<00:02, 23.58batch/s, batch_nb=175999, gpu=0, loss=0.064, v_nb=55]\n",
      "Epoch 1: 100%|█████████▉| 182341/182400 [5:19:24<00:02, 23.57batch/s, batch_nb=175999, gpu=0, loss=0.064, v_nb=55]\n",
      "Epoch 1: 100%|█████████▉| 182344/182400 [5:19:24<00:02, 23.56batch/s, batch_nb=175999, gpu=0, loss=0.064, v_nb=55]\n",
      "Epoch 1: 100%|█████████▉| 182347/182400 [5:19:25<00:02, 23.54batch/s, batch_nb=175999, gpu=0, loss=0.064, v_nb=55]\n",
      "Epoch 1: 100%|█████████▉| 182350/182400 [5:19:25<00:02, 23.53batch/s, batch_nb=175999, gpu=0, loss=0.064, v_nb=55]\n",
      "Epoch 1: 100%|█████████▉| 182353/182400 [5:19:25<00:01, 23.53batch/s, batch_nb=175999, gpu=0, loss=0.064, v_nb=55]\n",
      "Epoch 1: 100%|█████████▉| 182356/182400 [5:19:25<00:01, 23.56batch/s, batch_nb=175999, gpu=0, loss=0.064, v_nb=55]\n",
      "Epoch 1: 100%|█████████▉| 182359/182400 [5:19:25<00:01, 23.59batch/s, batch_nb=175999, gpu=0, loss=0.064, v_nb=55]\n",
      "Epoch 1: 100%|█████████▉| 182362/182400 [5:19:25<00:01, 23.60batch/s, batch_nb=175999, gpu=0, loss=0.064, v_nb=55]\n",
      "Epoch 1: 100%|█████████▉| 182365/182400 [5:19:25<00:01, 23.63batch/s, batch_nb=175999, gpu=0, loss=0.064, v_nb=55]\n",
      "Epoch 1: 100%|█████████▉| 182368/182400 [5:19:25<00:01, 23.61batch/s, batch_nb=175999, gpu=0, loss=0.064, v_nb=55]\n",
      "Epoch 1: 100%|█████████▉| 182371/182400 [5:19:26<00:01, 23.61batch/s, batch_nb=175999, gpu=0, loss=0.064, v_nb=55]\n",
      "Epoch 1: 100%|█████████▉| 182374/182400 [5:19:26<00:01, 23.63batch/s, batch_nb=175999, gpu=0, loss=0.064, v_nb=55]\n",
      "Epoch 1: 100%|█████████▉| 182377/182400 [5:19:26<00:00, 23.62batch/s, batch_nb=175999, gpu=0, loss=0.064, v_nb=55]\n",
      "Epoch 1: 100%|█████████▉| 182380/182400 [5:19:26<00:00, 23.64batch/s, batch_nb=175999, gpu=0, loss=0.064, v_nb=55]\n",
      "Epoch 1: 100%|█████████▉| 182383/182400 [5:19:26<00:00, 23.66batch/s, batch_nb=175999, gpu=0, loss=0.064, v_nb=55]\n",
      "Epoch 1: 100%|█████████▉| 182386/182400 [5:19:26<00:00, 23.64batch/s, batch_nb=175999, gpu=0, loss=0.064, v_nb=55]\n",
      "Epoch 1: 100%|█████████▉| 182389/182400 [5:19:26<00:00, 23.64batch/s, batch_nb=175999, gpu=0, loss=0.064, v_nb=55]\n",
      "Epoch 1: 100%|█████████▉| 182392/182400 [5:19:26<00:00, 23.61batch/s, batch_nb=175999, gpu=0, loss=0.064, v_nb=55]\n",
      "Epoch 1: 100%|█████████▉| 182395/182400 [5:19:27<00:00, 23.64batch/s, batch_nb=175999, gpu=0, loss=0.064, v_nb=55]\n",
      "Epoch 1: 100%|██████████| 182400/182400 [5:19:29<00:00, 23.67batch/s, batch_nb=175999, gpu=0, loss=0.064, v_nb=55]\n",
      "Epoch 2:   0%|          | 450/182400 [00:52<5:02:58, 10.01batch/s, batch_nb=449, gpu=0, loss=0.062, v_nb=55]      "
     ]
    },
    {
     "name": "stdout",
     "output_type": "stream",
     "text": [
      "Gradient overflow.  Skipping step, loss scaler 0 reducing loss scale to 4194304.0\n"
     ]
    },
    {
     "name": "stderr",
     "output_type": "stream",
     "text": [
      "Epoch 2:   1%|▏         | 2530/182400 [05:01<5:33:19,  8.99batch/s, batch_nb=2529, gpu=0, loss=0.063, v_nb=55]"
     ]
    },
    {
     "name": "stdout",
     "output_type": "stream",
     "text": [
      "Gradient overflow.  Skipping step, loss scaler 0 reducing loss scale to 4194304.0\n"
     ]
    },
    {
     "name": "stderr",
     "output_type": "stream",
     "text": [
      "Epoch 2:   3%|▎         | 4577/182400 [09:13<5:40:32,  8.70batch/s, batch_nb=4576, gpu=0, loss=0.062, v_nb=55]"
     ]
    },
    {
     "name": "stdout",
     "output_type": "stream",
     "text": [
      "Gradient overflow.  Skipping step, loss scaler 0 reducing loss scale to 4194304.0\n"
     ]
    },
    {
     "name": "stderr",
     "output_type": "stream",
     "text": [
      "Epoch 2:   4%|▍         | 7094/182400 [14:20<5:44:56,  8.47batch/s, batch_nb=7093, gpu=0, loss=0.063, v_nb=55] "
     ]
    },
    {
     "name": "stdout",
     "output_type": "stream",
     "text": [
      "Gradient overflow.  Skipping step, loss scaler 0 reducing loss scale to 4194304.0\n"
     ]
    },
    {
     "name": "stderr",
     "output_type": "stream",
     "text": [
      "Epoch 2:   5%|▍         | 8800/182400 [17:48<5:26:33,  8.86batch/s, batch_nb=8799, gpu=0, loss=0.062, v_nb=55]\n",
      "Validating:   0%|          | 0/320 [00:00<?, ?batch/s]\u001b[A\n",
      "Epoch 2:   5%|▍         | 8802/182400 [17:48<4:40:41, 10.31batch/s, batch_nb=8799, gpu=0, loss=0.062, v_nb=55]\n",
      "Epoch 2:   5%|▍         | 8805/182400 [17:49<3:56:12, 12.25batch/s, batch_nb=8799, gpu=0, loss=0.062, v_nb=55]\n",
      "Epoch 2:   5%|▍         | 8808/182400 [17:49<3:24:50, 14.12batch/s, batch_nb=8799, gpu=0, loss=0.062, v_nb=55]\n",
      "Epoch 2:   5%|▍         | 8811/182400 [17:49<3:02:54, 15.82batch/s, batch_nb=8799, gpu=0, loss=0.062, v_nb=55]\n",
      "Epoch 2:   5%|▍         | 8814/182400 [17:49<2:48:24, 17.18batch/s, batch_nb=8799, gpu=0, loss=0.062, v_nb=55]\n",
      "Epoch 2:   5%|▍         | 8817/182400 [17:49<2:37:20, 18.39batch/s, batch_nb=8799, gpu=0, loss=0.062, v_nb=55]\n",
      "Epoch 2:   5%|▍         | 8820/182400 [17:49<2:29:28, 19.35batch/s, batch_nb=8799, gpu=0, loss=0.062, v_nb=55]\n",
      "Epoch 2:   5%|▍         | 8823/182400 [17:49<2:24:19, 20.05batch/s, batch_nb=8799, gpu=0, loss=0.062, v_nb=55]\n",
      "Epoch 2:   5%|▍         | 8826/182400 [17:50<2:20:41, 20.56batch/s, batch_nb=8799, gpu=0, loss=0.062, v_nb=55]\n",
      "Epoch 2:   5%|▍         | 8829/182400 [17:50<2:18:10, 20.94batch/s, batch_nb=8799, gpu=0, loss=0.062, v_nb=55]\n",
      "Epoch 2:   5%|▍         | 8832/182400 [17:50<2:16:43, 21.16batch/s, batch_nb=8799, gpu=0, loss=0.062, v_nb=55]\n",
      "Epoch 2:   5%|▍         | 8835/182400 [17:50<2:16:15, 21.23batch/s, batch_nb=8799, gpu=0, loss=0.062, v_nb=55]\n",
      "Epoch 2:   5%|▍         | 8838/182400 [17:50<2:14:49, 21.46batch/s, batch_nb=8799, gpu=0, loss=0.062, v_nb=55]\n",
      "Epoch 2:   5%|▍         | 8841/182400 [17:50<2:14:11, 21.56batch/s, batch_nb=8799, gpu=0, loss=0.062, v_nb=55]\n",
      "Epoch 2:   5%|▍         | 8844/182400 [17:50<2:13:46, 21.62batch/s, batch_nb=8799, gpu=0, loss=0.062, v_nb=55]\n",
      "Epoch 2:   5%|▍         | 8847/182400 [17:50<2:13:53, 21.60batch/s, batch_nb=8799, gpu=0, loss=0.062, v_nb=55]\n",
      "Epoch 2:   5%|▍         | 8850/182400 [17:51<2:13:57, 21.59batch/s, batch_nb=8799, gpu=0, loss=0.062, v_nb=55]\n",
      "Epoch 2:   5%|▍         | 8853/182400 [17:51<2:13:53, 21.60batch/s, batch_nb=8799, gpu=0, loss=0.062, v_nb=55]\n",
      "Epoch 2:   5%|▍         | 8856/182400 [17:51<2:13:21, 21.69batch/s, batch_nb=8799, gpu=0, loss=0.062, v_nb=55]\n",
      "Epoch 2:   5%|▍         | 8859/182400 [17:51<2:13:07, 21.73batch/s, batch_nb=8799, gpu=0, loss=0.062, v_nb=55]\n",
      "Epoch 2:   5%|▍         | 8862/182400 [17:51<2:12:44, 21.79batch/s, batch_nb=8799, gpu=0, loss=0.062, v_nb=55]\n",
      "Epoch 2:   5%|▍         | 8865/182400 [17:51<2:12:07, 21.89batch/s, batch_nb=8799, gpu=0, loss=0.062, v_nb=55]\n",
      "Epoch 2:   5%|▍         | 8868/182400 [17:51<2:12:34, 21.82batch/s, batch_nb=8799, gpu=0, loss=0.062, v_nb=55]\n",
      "Epoch 2:   5%|▍         | 8871/182400 [17:52<2:12:35, 21.81batch/s, batch_nb=8799, gpu=0, loss=0.062, v_nb=55]\n",
      "Epoch 2:   5%|▍         | 8874/182400 [17:52<2:12:29, 21.83batch/s, batch_nb=8799, gpu=0, loss=0.062, v_nb=55]\n",
      "Epoch 2:   5%|▍         | 8877/182400 [17:52<2:12:49, 21.77batch/s, batch_nb=8799, gpu=0, loss=0.062, v_nb=55]\n",
      "Epoch 2:   5%|▍         | 8880/182400 [17:52<2:12:49, 21.77batch/s, batch_nb=8799, gpu=0, loss=0.062, v_nb=55]\n",
      "Epoch 2:   5%|▍         | 8883/182400 [17:52<2:13:12, 21.71batch/s, batch_nb=8799, gpu=0, loss=0.062, v_nb=55]\n",
      "Epoch 2:   5%|▍         | 8886/182400 [17:52<2:13:01, 21.74batch/s, batch_nb=8799, gpu=0, loss=0.062, v_nb=55]\n",
      "Epoch 2:   5%|▍         | 8889/182400 [17:52<2:13:09, 21.72batch/s, batch_nb=8799, gpu=0, loss=0.062, v_nb=55]\n",
      "Epoch 2:   5%|▍         | 8892/182400 [17:53<2:13:27, 21.67batch/s, batch_nb=8799, gpu=0, loss=0.062, v_nb=55]\n",
      "Epoch 2:   5%|▍         | 8895/182400 [17:53<2:13:37, 21.64batch/s, batch_nb=8799, gpu=0, loss=0.062, v_nb=55]\n",
      "Epoch 2:   5%|▍         | 8898/182400 [17:53<2:13:17, 21.69batch/s, batch_nb=8799, gpu=0, loss=0.062, v_nb=55]\n",
      "Epoch 2:   5%|▍         | 8901/182400 [17:53<2:13:04, 21.73batch/s, batch_nb=8799, gpu=0, loss=0.062, v_nb=55]\n",
      "Epoch 2:   5%|▍         | 8904/182400 [17:53<2:12:09, 21.88batch/s, batch_nb=8799, gpu=0, loss=0.062, v_nb=55]\n",
      "Epoch 2:   5%|▍         | 8907/182400 [17:53<2:12:15, 21.86batch/s, batch_nb=8799, gpu=0, loss=0.062, v_nb=55]\n",
      "Epoch 2:   5%|▍         | 8910/182400 [17:53<2:12:20, 21.85batch/s, batch_nb=8799, gpu=0, loss=0.062, v_nb=55]\n",
      "Epoch 2:   5%|▍         | 8913/182400 [17:54<2:12:44, 21.78batch/s, batch_nb=8799, gpu=0, loss=0.062, v_nb=55]\n",
      "Epoch 2:   5%|▍         | 8916/182400 [17:54<2:13:09, 21.71batch/s, batch_nb=8799, gpu=0, loss=0.062, v_nb=55]\n",
      "Epoch 2:   5%|▍         | 8919/182400 [17:54<2:13:38, 21.64batch/s, batch_nb=8799, gpu=0, loss=0.062, v_nb=55]\n",
      "Epoch 2:   5%|▍         | 8922/182400 [17:54<2:13:37, 21.64batch/s, batch_nb=8799, gpu=0, loss=0.062, v_nb=55]\n",
      "Epoch 2:   5%|▍         | 8925/182400 [17:54<2:13:11, 21.71batch/s, batch_nb=8799, gpu=0, loss=0.062, v_nb=55]\n",
      "Epoch 2:   5%|▍         | 8928/182400 [17:54<2:12:40, 21.79batch/s, batch_nb=8799, gpu=0, loss=0.062, v_nb=55]\n",
      "Epoch 2:   5%|▍         | 8931/182400 [17:54<2:12:44, 21.78batch/s, batch_nb=8799, gpu=0, loss=0.062, v_nb=55]\n",
      "Epoch 2:   5%|▍         | 8934/182400 [17:54<2:12:36, 21.80batch/s, batch_nb=8799, gpu=0, loss=0.062, v_nb=55]\n",
      "Epoch 2:   5%|▍         | 8937/182400 [17:55<2:12:23, 21.84batch/s, batch_nb=8799, gpu=0, loss=0.062, v_nb=55]\n",
      "Epoch 2:   5%|▍         | 8940/182400 [17:55<2:12:18, 21.85batch/s, batch_nb=8799, gpu=0, loss=0.062, v_nb=55]\n",
      "Epoch 2:   5%|▍         | 8943/182400 [17:55<2:12:58, 21.74batch/s, batch_nb=8799, gpu=0, loss=0.062, v_nb=55]\n",
      "Epoch 2:   5%|▍         | 8946/182400 [17:55<2:12:37, 21.80batch/s, batch_nb=8799, gpu=0, loss=0.062, v_nb=55]\n",
      "Epoch 2:   5%|▍         | 8949/182400 [17:55<2:13:07, 21.71batch/s, batch_nb=8799, gpu=0, loss=0.062, v_nb=55]\n",
      "Epoch 2:   5%|▍         | 8952/182400 [17:55<2:12:35, 21.80batch/s, batch_nb=8799, gpu=0, loss=0.062, v_nb=55]\n",
      "Epoch 2:   5%|▍         | 8955/182400 [17:55<2:12:28, 21.82batch/s, batch_nb=8799, gpu=0, loss=0.062, v_nb=55]\n",
      "Epoch 2:   5%|▍         | 8958/182400 [17:56<2:12:26, 21.82batch/s, batch_nb=8799, gpu=0, loss=0.062, v_nb=55]\n",
      "Epoch 2:   5%|▍         | 8961/182400 [17:56<2:11:49, 21.93batch/s, batch_nb=8799, gpu=0, loss=0.062, v_nb=55]\n",
      "Epoch 2:   5%|▍         | 8964/182400 [17:56<2:11:41, 21.95batch/s, batch_nb=8799, gpu=0, loss=0.062, v_nb=55]\n",
      "Epoch 2:   5%|▍         | 8967/182400 [17:56<2:13:04, 21.72batch/s, batch_nb=8799, gpu=0, loss=0.062, v_nb=55]\n",
      "Epoch 2:   5%|▍         | 8970/182400 [17:56<2:13:54, 21.59batch/s, batch_nb=8799, gpu=0, loss=0.062, v_nb=55]\n",
      "Epoch 2:   5%|▍         | 8973/182400 [17:56<2:13:55, 21.58batch/s, batch_nb=8799, gpu=0, loss=0.062, v_nb=55]\n",
      "Epoch 2:   5%|▍         | 8976/182400 [17:56<2:12:26, 21.82batch/s, batch_nb=8799, gpu=0, loss=0.062, v_nb=55]\n",
      "Epoch 2:   5%|▍         | 8979/182400 [17:57<2:12:37, 21.79batch/s, batch_nb=8799, gpu=0, loss=0.062, v_nb=55]\n",
      "Epoch 2:   5%|▍         | 8982/182400 [17:57<2:15:59, 21.25batch/s, batch_nb=8799, gpu=0, loss=0.062, v_nb=55]\n",
      "Epoch 2:   5%|▍         | 8985/182400 [17:57<2:14:32, 21.48batch/s, batch_nb=8799, gpu=0, loss=0.062, v_nb=55]\n",
      "Epoch 2:   5%|▍         | 8988/182400 [17:57<2:14:09, 21.54batch/s, batch_nb=8799, gpu=0, loss=0.062, v_nb=55]\n",
      "Epoch 2:   5%|▍         | 8991/182400 [17:57<2:13:01, 21.73batch/s, batch_nb=8799, gpu=0, loss=0.062, v_nb=55]\n",
      "Epoch 2:   5%|▍         | 8994/182400 [17:57<2:12:45, 21.77batch/s, batch_nb=8799, gpu=0, loss=0.062, v_nb=55]\n",
      "Epoch 2:   5%|▍         | 8997/182400 [17:57<2:12:04, 21.88batch/s, batch_nb=8799, gpu=0, loss=0.062, v_nb=55]\n",
      "Epoch 2:   5%|▍         | 9000/182400 [17:58<2:11:53, 21.91batch/s, batch_nb=8799, gpu=0, loss=0.062, v_nb=55]\n",
      "Epoch 2:   5%|▍         | 9003/182400 [17:58<2:11:58, 21.90batch/s, batch_nb=8799, gpu=0, loss=0.062, v_nb=55]\n",
      "Epoch 2:   5%|▍         | 9006/182400 [17:58<2:11:56, 21.90batch/s, batch_nb=8799, gpu=0, loss=0.062, v_nb=55]\n",
      "Epoch 2:   5%|▍         | 9009/182400 [17:58<2:11:54, 21.91batch/s, batch_nb=8799, gpu=0, loss=0.062, v_nb=55]\n",
      "Epoch 2:   5%|▍         | 9012/182400 [17:58<2:11:50, 21.92batch/s, batch_nb=8799, gpu=0, loss=0.062, v_nb=55]\n",
      "Epoch 2:   5%|▍         | 9015/182400 [17:58<2:11:41, 21.94batch/s, batch_nb=8799, gpu=0, loss=0.062, v_nb=55]\n"
     ]
    },
    {
     "name": "stderr",
     "output_type": "stream",
     "text": [
      "Epoch 2:   5%|▍         | 9018/182400 [17:58<2:11:32, 21.97batch/s, batch_nb=8799, gpu=0, loss=0.062, v_nb=55]\n",
      "Epoch 2:   5%|▍         | 9021/182400 [17:58<2:11:45, 21.93batch/s, batch_nb=8799, gpu=0, loss=0.062, v_nb=55]\n",
      "Epoch 2:   5%|▍         | 9024/182400 [17:59<2:11:45, 21.93batch/s, batch_nb=8799, gpu=0, loss=0.062, v_nb=55]\n",
      "Epoch 2:   5%|▍         | 9027/182400 [17:59<2:11:39, 21.95batch/s, batch_nb=8799, gpu=0, loss=0.062, v_nb=55]\n",
      "Epoch 2:   5%|▍         | 9030/182400 [17:59<2:11:41, 21.94batch/s, batch_nb=8799, gpu=0, loss=0.062, v_nb=55]\n",
      "Epoch 2:   5%|▍         | 9033/182400 [17:59<2:11:29, 21.97batch/s, batch_nb=8799, gpu=0, loss=0.062, v_nb=55]\n",
      "Epoch 2:   5%|▍         | 9036/182400 [17:59<2:11:54, 21.90batch/s, batch_nb=8799, gpu=0, loss=0.062, v_nb=55]\n",
      "Epoch 2:   5%|▍         | 9039/182400 [17:59<2:11:57, 21.90batch/s, batch_nb=8799, gpu=0, loss=0.062, v_nb=55]\n",
      "Epoch 2:   5%|▍         | 9042/182400 [17:59<2:11:51, 21.91batch/s, batch_nb=8799, gpu=0, loss=0.062, v_nb=55]\n",
      "Epoch 2:   5%|▍         | 9045/182400 [18:00<2:12:21, 21.83batch/s, batch_nb=8799, gpu=0, loss=0.062, v_nb=55]\n",
      "Epoch 2:   5%|▍         | 9048/182400 [18:00<2:12:10, 21.86batch/s, batch_nb=8799, gpu=0, loss=0.062, v_nb=55]\n",
      "Epoch 2:   5%|▍         | 9051/182400 [18:00<2:12:19, 21.83batch/s, batch_nb=8799, gpu=0, loss=0.062, v_nb=55]\n",
      "Epoch 2:   5%|▍         | 9054/182400 [18:00<2:12:04, 21.87batch/s, batch_nb=8799, gpu=0, loss=0.062, v_nb=55]\n",
      "Epoch 2:   5%|▍         | 9057/182400 [18:00<2:11:38, 21.95batch/s, batch_nb=8799, gpu=0, loss=0.062, v_nb=55]\n",
      "Epoch 2:   5%|▍         | 9060/182400 [18:00<2:11:11, 22.02batch/s, batch_nb=8799, gpu=0, loss=0.062, v_nb=55]\n",
      "Epoch 2:   5%|▍         | 9063/182400 [18:00<2:11:42, 21.93batch/s, batch_nb=8799, gpu=0, loss=0.062, v_nb=55]\n",
      "Epoch 2:   5%|▍         | 9066/182400 [18:01<2:11:23, 21.99batch/s, batch_nb=8799, gpu=0, loss=0.062, v_nb=55]\n",
      "Epoch 2:   5%|▍         | 9069/182400 [18:01<2:10:59, 22.05batch/s, batch_nb=8799, gpu=0, loss=0.062, v_nb=55]\n",
      "Epoch 2:   5%|▍         | 9072/182400 [18:01<2:11:27, 21.97batch/s, batch_nb=8799, gpu=0, loss=0.062, v_nb=55]\n",
      "Epoch 2:   5%|▍         | 9075/182400 [18:01<2:11:00, 22.05batch/s, batch_nb=8799, gpu=0, loss=0.062, v_nb=55]\n",
      "Epoch 2:   5%|▍         | 9078/182400 [18:01<2:10:58, 22.05batch/s, batch_nb=8799, gpu=0, loss=0.062, v_nb=55]\n",
      "Epoch 2:   5%|▍         | 9081/182400 [18:01<2:10:43, 22.10batch/s, batch_nb=8799, gpu=0, loss=0.062, v_nb=55]\n",
      "Epoch 2:   5%|▍         | 9084/182400 [18:01<2:10:59, 22.05batch/s, batch_nb=8799, gpu=0, loss=0.062, v_nb=55]\n",
      "Epoch 2:   5%|▍         | 9087/182400 [18:01<2:11:16, 22.00batch/s, batch_nb=8799, gpu=0, loss=0.062, v_nb=55]\n",
      "Epoch 2:   5%|▍         | 9090/182400 [18:02<2:11:10, 22.02batch/s, batch_nb=8799, gpu=0, loss=0.062, v_nb=55]\n",
      "Epoch 2:   5%|▍         | 9093/182400 [18:02<2:12:37, 21.78batch/s, batch_nb=8799, gpu=0, loss=0.062, v_nb=55]\n",
      "Epoch 2:   5%|▍         | 9096/182400 [18:02<2:12:22, 21.82batch/s, batch_nb=8799, gpu=0, loss=0.062, v_nb=55]\n",
      "Epoch 2:   5%|▍         | 9099/182400 [18:02<2:12:55, 21.73batch/s, batch_nb=8799, gpu=0, loss=0.062, v_nb=55]\n",
      "Epoch 2:   5%|▍         | 9102/182400 [18:02<2:12:43, 21.76batch/s, batch_nb=8799, gpu=0, loss=0.062, v_nb=55]\n",
      "Epoch 2:   5%|▍         | 9105/182400 [18:02<2:12:49, 21.75batch/s, batch_nb=8799, gpu=0, loss=0.062, v_nb=55]\n",
      "Epoch 2:   5%|▍         | 9108/182400 [18:02<2:12:43, 21.76batch/s, batch_nb=8799, gpu=0, loss=0.062, v_nb=55]\n",
      "Epoch 2:   5%|▍         | 9111/182400 [18:03<2:12:10, 21.85batch/s, batch_nb=8799, gpu=0, loss=0.062, v_nb=55]\n",
      "Epoch 2:   5%|▍         | 9114/182400 [18:03<2:11:54, 21.90batch/s, batch_nb=8799, gpu=0, loss=0.062, v_nb=55]\n",
      "Epoch 2:   5%|▍         | 9117/182400 [18:03<2:12:06, 21.86batch/s, batch_nb=8799, gpu=0, loss=0.062, v_nb=55]\n",
      "Epoch 2:   5%|▌         | 9120/182400 [18:05<2:12:18, 21.83batch/s, batch_nb=8799, gpu=0, loss=0.062, v_nb=55]\n",
      "Epoch 2:   5%|▌         | 9620/182400 [19:06<5:23:42,  8.90batch/s, batch_nb=9299, gpu=0, loss=0.063, v_nb=55] "
     ]
    },
    {
     "name": "stdout",
     "output_type": "stream",
     "text": [
      "Gradient overflow.  Skipping step, loss scaler 0 reducing loss scale to 4194304.0\n"
     ]
    },
    {
     "name": "stderr",
     "output_type": "stream",
     "text": [
      "Epoch 2:   6%|▋         | 11649/182400 [23:23<5:24:45,  8.76batch/s, batch_nb=11328, gpu=0, loss=0.063, v_nb=55] "
     ]
    },
    {
     "name": "stdout",
     "output_type": "stream",
     "text": [
      "Gradient overflow.  Skipping step, loss scaler 0 reducing loss scale to 4194304.0\n"
     ]
    },
    {
     "name": "stderr",
     "output_type": "stream",
     "text": [
      "Epoch 2:   8%|▊         | 13905/182400 [28:14<6:07:48,  7.63batch/s, batch_nb=13584, gpu=0, loss=0.063, v_nb=55]"
     ]
    },
    {
     "name": "stdout",
     "output_type": "stream",
     "text": [
      "Gradient overflow.  Skipping step, loss scaler 0 reducing loss scale to 4194304.0\n"
     ]
    },
    {
     "name": "stderr",
     "output_type": "stream",
     "text": [
      "Epoch 2:   8%|▊         | 15146/182400 [30:44<5:35:43,  8.30batch/s, batch_nb=14825, gpu=0, loss=0.062, v_nb=55]"
     ]
    },
    {
     "name": "stdout",
     "output_type": "stream",
     "text": [
      "Gradient overflow.  Skipping step, loss scaler 0 reducing loss scale to 2097152.0\n"
     ]
    },
    {
     "name": "stderr",
     "output_type": "stream",
     "text": [
      "Epoch 2:  10%|▉         | 17920/182400 [36:07<4:49:12,  9.48batch/s, batch_nb=17599, gpu=0, loss=0.062, v_nb=55] \n",
      "Validating:   0%|          | 0/320 [00:00<?, ?batch/s]\u001b[A\n",
      "Epoch 2:  10%|▉         | 17923/182400 [36:07<3:59:46, 11.43batch/s, batch_nb=17599, gpu=0, loss=0.062, v_nb=55]\n",
      "Epoch 2:  10%|▉         | 17926/182400 [36:07<3:23:16, 13.49batch/s, batch_nb=17599, gpu=0, loss=0.062, v_nb=55]\n",
      "Epoch 2:  10%|▉         | 17929/182400 [36:08<2:57:41, 15.43batch/s, batch_nb=17599, gpu=0, loss=0.062, v_nb=55]\n",
      "Epoch 2:  10%|▉         | 17932/182400 [36:08<2:40:12, 17.11batch/s, batch_nb=17599, gpu=0, loss=0.062, v_nb=55]\n",
      "Epoch 2:  10%|▉         | 17935/182400 [36:08<2:27:34, 18.57batch/s, batch_nb=17599, gpu=0, loss=0.062, v_nb=55]\n",
      "Epoch 2:  10%|▉         | 17938/182400 [36:08<2:19:00, 19.72batch/s, batch_nb=17599, gpu=0, loss=0.062, v_nb=55]\n",
      "Epoch 2:  10%|▉         | 17941/182400 [36:08<2:12:43, 20.65batch/s, batch_nb=17599, gpu=0, loss=0.062, v_nb=55]\n",
      "Epoch 2:  10%|▉         | 17944/182400 [36:08<2:08:22, 21.35batch/s, batch_nb=17599, gpu=0, loss=0.062, v_nb=55]\n",
      "Epoch 2:  10%|▉         | 17947/182400 [36:08<2:05:20, 21.87batch/s, batch_nb=17599, gpu=0, loss=0.062, v_nb=55]\n",
      "Epoch 2:  10%|▉         | 17950/182400 [36:09<2:03:12, 22.24batch/s, batch_nb=17599, gpu=0, loss=0.062, v_nb=55]\n",
      "Epoch 2:  10%|▉         | 17953/182400 [36:09<2:02:09, 22.44batch/s, batch_nb=17599, gpu=0, loss=0.062, v_nb=55]\n",
      "Epoch 2:  10%|▉         | 17956/182400 [36:09<2:01:14, 22.61batch/s, batch_nb=17599, gpu=0, loss=0.062, v_nb=55]\n",
      "Epoch 2:  10%|▉         | 17959/182400 [36:09<2:00:21, 22.77batch/s, batch_nb=17599, gpu=0, loss=0.062, v_nb=55]\n",
      "Epoch 2:  10%|▉         | 17962/182400 [36:09<2:00:25, 22.76batch/s, batch_nb=17599, gpu=0, loss=0.062, v_nb=55]\n",
      "Epoch 2:  10%|▉         | 17965/182400 [36:09<1:59:44, 22.89batch/s, batch_nb=17599, gpu=0, loss=0.062, v_nb=55]\n",
      "Epoch 2:  10%|▉         | 17968/182400 [36:09<1:59:49, 22.87batch/s, batch_nb=17599, gpu=0, loss=0.062, v_nb=55]\n",
      "Epoch 2:  10%|▉         | 17971/182400 [36:09<1:59:24, 22.95batch/s, batch_nb=17599, gpu=0, loss=0.062, v_nb=55]\n",
      "Epoch 2:  10%|▉         | 17974/182400 [36:10<1:59:21, 22.96batch/s, batch_nb=17599, gpu=0, loss=0.062, v_nb=55]\n",
      "Epoch 2:  10%|▉         | 17977/182400 [36:10<1:58:44, 23.08batch/s, batch_nb=17599, gpu=0, loss=0.062, v_nb=55]\n",
      "Epoch 2:  10%|▉         | 17980/182400 [36:10<1:57:56, 23.24batch/s, batch_nb=17599, gpu=0, loss=0.062, v_nb=55]\n",
      "Epoch 2:  10%|▉         | 17983/182400 [36:10<1:57:37, 23.30batch/s, batch_nb=17599, gpu=0, loss=0.062, v_nb=55]\n",
      "Epoch 2:  10%|▉         | 17986/182400 [36:10<1:57:26, 23.33batch/s, batch_nb=17599, gpu=0, loss=0.062, v_nb=55]\n",
      "Epoch 2:  10%|▉         | 17989/182400 [36:10<1:57:30, 23.32batch/s, batch_nb=17599, gpu=0, loss=0.062, v_nb=55]\n",
      "Epoch 2:  10%|▉         | 17992/182400 [36:10<1:57:47, 23.26batch/s, batch_nb=17599, gpu=0, loss=0.062, v_nb=55]\n",
      "Epoch 2:  10%|▉         | 17995/182400 [36:10<1:57:44, 23.27batch/s, batch_nb=17599, gpu=0, loss=0.062, v_nb=55]\n",
      "Epoch 2:  10%|▉         | 17998/182400 [36:11<1:57:45, 23.27batch/s, batch_nb=17599, gpu=0, loss=0.062, v_nb=55]\n",
      "Epoch 2:  10%|▉         | 18001/182400 [36:11<1:57:42, 23.28batch/s, batch_nb=17599, gpu=0, loss=0.062, v_nb=55]\n",
      "Epoch 2:  10%|▉         | 18004/182400 [36:11<1:58:02, 23.21batch/s, batch_nb=17599, gpu=0, loss=0.062, v_nb=55]\n",
      "Epoch 2:  10%|▉         | 18007/182400 [36:11<1:57:51, 23.25batch/s, batch_nb=17599, gpu=0, loss=0.062, v_nb=55]\n",
      "Epoch 2:  10%|▉         | 18010/182400 [36:11<1:58:03, 23.21batch/s, batch_nb=17599, gpu=0, loss=0.062, v_nb=55]\n",
      "Epoch 2:  10%|▉         | 18013/182400 [36:11<1:57:40, 23.28batch/s, batch_nb=17599, gpu=0, loss=0.062, v_nb=55]\n",
      "Epoch 2:  10%|▉         | 18016/182400 [36:11<1:57:53, 23.24batch/s, batch_nb=17599, gpu=0, loss=0.062, v_nb=55]\n",
      "Epoch 2:  10%|▉         | 18019/182400 [36:11<1:58:06, 23.20batch/s, batch_nb=17599, gpu=0, loss=0.062, v_nb=55]\n",
      "Epoch 2:  10%|▉         | 18022/182400 [36:12<1:57:52, 23.24batch/s, batch_nb=17599, gpu=0, loss=0.062, v_nb=55]\n",
      "Epoch 2:  10%|▉         | 18025/182400 [36:12<1:57:55, 23.23batch/s, batch_nb=17599, gpu=0, loss=0.062, v_nb=55]\n",
      "Epoch 2:  10%|▉         | 18028/182400 [36:12<1:57:38, 23.29batch/s, batch_nb=17599, gpu=0, loss=0.062, v_nb=55]\n",
      "Epoch 2:  10%|▉         | 18031/182400 [36:12<1:57:55, 23.23batch/s, batch_nb=17599, gpu=0, loss=0.062, v_nb=55]\n",
      "Epoch 2:  10%|▉         | 18034/182400 [36:12<1:58:14, 23.17batch/s, batch_nb=17599, gpu=0, loss=0.062, v_nb=55]\n",
      "Epoch 2:  10%|▉         | 18037/182400 [36:12<1:57:44, 23.27batch/s, batch_nb=17599, gpu=0, loss=0.062, v_nb=55]\n",
      "Epoch 2:  10%|▉         | 18040/182400 [36:12<1:57:32, 23.31batch/s, batch_nb=17599, gpu=0, loss=0.062, v_nb=55]\n",
      "Epoch 2:  10%|▉         | 18043/182400 [36:13<1:57:30, 23.31batch/s, batch_nb=17599, gpu=0, loss=0.062, v_nb=55]\n",
      "Epoch 2:  10%|▉         | 18046/182400 [36:13<1:57:15, 23.36batch/s, batch_nb=17599, gpu=0, loss=0.062, v_nb=55]\n",
      "Epoch 2:  10%|▉         | 18049/182400 [36:13<1:57:25, 23.33batch/s, batch_nb=17599, gpu=0, loss=0.062, v_nb=55]\n",
      "Epoch 2:  10%|▉         | 18052/182400 [36:13<1:57:40, 23.28batch/s, batch_nb=17599, gpu=0, loss=0.062, v_nb=55]\n",
      "Epoch 2:  10%|▉         | 18055/182400 [36:13<1:57:48, 23.25batch/s, batch_nb=17599, gpu=0, loss=0.062, v_nb=55]\n",
      "Epoch 2:  10%|▉         | 18058/182400 [36:13<1:57:52, 23.24batch/s, batch_nb=17599, gpu=0, loss=0.062, v_nb=55]\n",
      "Epoch 2:  10%|▉         | 18061/182400 [36:13<1:57:53, 23.23batch/s, batch_nb=17599, gpu=0, loss=0.062, v_nb=55]\n",
      "Epoch 2:  10%|▉         | 18064/182400 [36:13<1:57:39, 23.28batch/s, batch_nb=17599, gpu=0, loss=0.062, v_nb=55]\n",
      "Epoch 2:  10%|▉         | 18067/182400 [36:14<1:57:23, 23.33batch/s, batch_nb=17599, gpu=0, loss=0.062, v_nb=55]\n",
      "Epoch 2:  10%|▉         | 18070/182400 [36:14<1:57:17, 23.35batch/s, batch_nb=17599, gpu=0, loss=0.062, v_nb=55]\n",
      "Epoch 2:  10%|▉         | 18073/182400 [36:14<1:57:16, 23.35batch/s, batch_nb=17599, gpu=0, loss=0.062, v_nb=55]\n",
      "Epoch 2:  10%|▉         | 18076/182400 [36:14<1:57:13, 23.36batch/s, batch_nb=17599, gpu=0, loss=0.062, v_nb=55]\n",
      "Epoch 2:  10%|▉         | 18079/182400 [36:14<1:57:18, 23.34batch/s, batch_nb=17599, gpu=0, loss=0.062, v_nb=55]\n",
      "Epoch 2:  10%|▉         | 18082/182400 [36:14<1:57:39, 23.27batch/s, batch_nb=17599, gpu=0, loss=0.062, v_nb=55]\n",
      "Epoch 2:  10%|▉         | 18085/182400 [36:14<1:57:27, 23.32batch/s, batch_nb=17599, gpu=0, loss=0.062, v_nb=55]\n",
      "Epoch 2:  10%|▉         | 18088/182400 [36:14<1:57:13, 23.36batch/s, batch_nb=17599, gpu=0, loss=0.062, v_nb=55]\n",
      "Epoch 2:  10%|▉         | 18091/182400 [36:15<1:57:14, 23.36batch/s, batch_nb=17599, gpu=0, loss=0.062, v_nb=55]\n",
      "Epoch 2:  10%|▉         | 18094/182400 [36:15<1:57:50, 23.24batch/s, batch_nb=17599, gpu=0, loss=0.062, v_nb=55]\n",
      "Epoch 2:  10%|▉         | 18097/182400 [36:15<1:57:41, 23.27batch/s, batch_nb=17599, gpu=0, loss=0.062, v_nb=55]\n",
      "Epoch 2:  10%|▉         | 18100/182400 [36:15<1:57:16, 23.35batch/s, batch_nb=17599, gpu=0, loss=0.062, v_nb=55]\n",
      "Epoch 2:  10%|▉         | 18103/182400 [36:15<1:57:38, 23.28batch/s, batch_nb=17599, gpu=0, loss=0.062, v_nb=55]\n",
      "Epoch 2:  10%|▉         | 18106/182400 [36:15<1:57:33, 23.29batch/s, batch_nb=17599, gpu=0, loss=0.062, v_nb=55]\n",
      "Epoch 2:  10%|▉         | 18109/182400 [36:15<1:57:46, 23.25batch/s, batch_nb=17599, gpu=0, loss=0.062, v_nb=55]\n",
      "Epoch 2:  10%|▉         | 18112/182400 [36:15<1:57:45, 23.25batch/s, batch_nb=17599, gpu=0, loss=0.062, v_nb=55]\n",
      "Epoch 2:  10%|▉         | 18115/182400 [36:16<1:57:39, 23.27batch/s, batch_nb=17599, gpu=0, loss=0.062, v_nb=55]\n",
      "Epoch 2:  10%|▉         | 18118/182400 [36:16<1:57:56, 23.21batch/s, batch_nb=17599, gpu=0, loss=0.062, v_nb=55]\n",
      "Epoch 2:  10%|▉         | 18121/182400 [36:16<1:57:55, 23.22batch/s, batch_nb=17599, gpu=0, loss=0.062, v_nb=55]\n",
      "Epoch 2:  10%|▉         | 18124/182400 [36:16<1:57:47, 23.24batch/s, batch_nb=17599, gpu=0, loss=0.062, v_nb=55]\n",
      "Epoch 2:  10%|▉         | 18127/182400 [36:16<1:58:16, 23.15batch/s, batch_nb=17599, gpu=0, loss=0.062, v_nb=55]\n",
      "Epoch 2:  10%|▉         | 18130/182400 [36:16<1:58:07, 23.18batch/s, batch_nb=17599, gpu=0, loss=0.062, v_nb=55]\n"
     ]
    },
    {
     "name": "stderr",
     "output_type": "stream",
     "text": [
      "Epoch 2:  10%|▉         | 18133/182400 [36:16<1:58:06, 23.18batch/s, batch_nb=17599, gpu=0, loss=0.062, v_nb=55]\n",
      "Epoch 2:  10%|▉         | 18136/182400 [36:17<1:57:32, 23.29batch/s, batch_nb=17599, gpu=0, loss=0.062, v_nb=55]\n",
      "Epoch 2:  10%|▉         | 18139/182400 [36:17<1:57:20, 23.33batch/s, batch_nb=17599, gpu=0, loss=0.062, v_nb=55]\n",
      "Epoch 2:  10%|▉         | 18142/182400 [36:17<1:57:22, 23.32batch/s, batch_nb=17599, gpu=0, loss=0.062, v_nb=55]\n",
      "Epoch 2:  10%|▉         | 18145/182400 [36:17<1:57:29, 23.30batch/s, batch_nb=17599, gpu=0, loss=0.062, v_nb=55]\n",
      "Epoch 2:  10%|▉         | 18148/182400 [36:17<1:57:22, 23.32batch/s, batch_nb=17599, gpu=0, loss=0.062, v_nb=55]\n",
      "Epoch 2:  10%|▉         | 18151/182400 [36:17<1:57:30, 23.29batch/s, batch_nb=17599, gpu=0, loss=0.062, v_nb=55]\n",
      "Epoch 2:  10%|▉         | 18154/182400 [36:17<1:57:20, 23.33batch/s, batch_nb=17599, gpu=0, loss=0.062, v_nb=55]\n",
      "Epoch 2:  10%|▉         | 18157/182400 [36:17<1:57:20, 23.33batch/s, batch_nb=17599, gpu=0, loss=0.062, v_nb=55]\n",
      "Epoch 2:  10%|▉         | 18160/182400 [36:18<1:57:22, 23.32batch/s, batch_nb=17599, gpu=0, loss=0.062, v_nb=55]\n",
      "Epoch 2:  10%|▉         | 18163/182400 [36:18<1:57:57, 23.20batch/s, batch_nb=17599, gpu=0, loss=0.062, v_nb=55]\n",
      "Epoch 2:  10%|▉         | 18166/182400 [36:18<1:58:20, 23.13batch/s, batch_nb=17599, gpu=0, loss=0.062, v_nb=55]\n",
      "Epoch 2:  10%|▉         | 18169/182400 [36:18<1:58:17, 23.14batch/s, batch_nb=17599, gpu=0, loss=0.062, v_nb=55]\n",
      "Epoch 2:  10%|▉         | 18172/182400 [36:18<1:58:01, 23.19batch/s, batch_nb=17599, gpu=0, loss=0.062, v_nb=55]\n",
      "Epoch 2:  10%|▉         | 18175/182400 [36:18<1:57:48, 23.23batch/s, batch_nb=17599, gpu=0, loss=0.062, v_nb=55]\n",
      "Epoch 2:  10%|▉         | 18178/182400 [36:18<1:57:30, 23.29batch/s, batch_nb=17599, gpu=0, loss=0.062, v_nb=55]\n",
      "Epoch 2:  10%|▉         | 18181/182400 [36:18<1:57:42, 23.25batch/s, batch_nb=17599, gpu=0, loss=0.062, v_nb=55]\n",
      "Epoch 2:  10%|▉         | 18184/182400 [36:19<1:57:40, 23.26batch/s, batch_nb=17599, gpu=0, loss=0.062, v_nb=55]\n",
      "Epoch 2:  10%|▉         | 18187/182400 [36:19<1:57:31, 23.29batch/s, batch_nb=17599, gpu=0, loss=0.062, v_nb=55]\n",
      "Epoch 2:  10%|▉         | 18190/182400 [36:19<1:57:32, 23.28batch/s, batch_nb=17599, gpu=0, loss=0.062, v_nb=55]\n",
      "Epoch 2:  10%|▉         | 18193/182400 [36:19<1:57:40, 23.26batch/s, batch_nb=17599, gpu=0, loss=0.062, v_nb=55]\n",
      "Epoch 2:  10%|▉         | 18196/182400 [36:19<1:57:55, 23.21batch/s, batch_nb=17599, gpu=0, loss=0.062, v_nb=55]\n",
      "Epoch 2:  10%|▉         | 18199/182400 [36:19<1:57:40, 23.26batch/s, batch_nb=17599, gpu=0, loss=0.062, v_nb=55]\n",
      "Epoch 2:  10%|▉         | 18202/182400 [36:19<1:57:55, 23.21batch/s, batch_nb=17599, gpu=0, loss=0.062, v_nb=55]\n",
      "Epoch 2:  10%|▉         | 18205/182400 [36:19<1:58:00, 23.19batch/s, batch_nb=17599, gpu=0, loss=0.062, v_nb=55]\n",
      "Epoch 2:  10%|▉         | 18208/182400 [36:20<1:58:08, 23.16batch/s, batch_nb=17599, gpu=0, loss=0.062, v_nb=55]\n",
      "Epoch 2:  10%|▉         | 18211/182400 [36:20<1:58:22, 23.12batch/s, batch_nb=17599, gpu=0, loss=0.062, v_nb=55]\n",
      "Epoch 2:  10%|▉         | 18214/182400 [36:20<1:57:59, 23.19batch/s, batch_nb=17599, gpu=0, loss=0.062, v_nb=55]\n",
      "Epoch 2:  10%|▉         | 18217/182400 [36:20<1:57:31, 23.28batch/s, batch_nb=17599, gpu=0, loss=0.062, v_nb=55]\n",
      "Epoch 2:  10%|▉         | 18220/182400 [36:20<1:57:19, 23.32batch/s, batch_nb=17599, gpu=0, loss=0.062, v_nb=55]\n",
      "Epoch 2:  10%|▉         | 18223/182400 [36:20<1:57:12, 23.35batch/s, batch_nb=17599, gpu=0, loss=0.062, v_nb=55]\n",
      "Epoch 2:  10%|▉         | 18226/182400 [36:20<1:57:17, 23.33batch/s, batch_nb=17599, gpu=0, loss=0.062, v_nb=55]\n",
      "Epoch 2:  10%|▉         | 18229/182400 [36:21<1:57:17, 23.33batch/s, batch_nb=17599, gpu=0, loss=0.062, v_nb=55]\n",
      "Epoch 2:  10%|▉         | 18232/182400 [36:21<1:57:13, 23.34batch/s, batch_nb=17599, gpu=0, loss=0.062, v_nb=55]\n",
      "Epoch 2:  10%|▉         | 18235/182400 [36:21<1:56:59, 23.39batch/s, batch_nb=17599, gpu=0, loss=0.062, v_nb=55]\n",
      "Epoch 2:  10%|█         | 18240/182400 [36:23<1:56:52, 23.41batch/s, batch_nb=17599, gpu=0, loss=0.062, v_nb=55]\n",
      "Epoch 2:  11%|█         | 19606/182400 [38:59<4:53:02,  9.26batch/s, batch_nb=18965, gpu=0, loss=0.062, v_nb=55] "
     ]
    },
    {
     "name": "stdout",
     "output_type": "stream",
     "text": [
      "Gradient overflow.  Skipping step, loss scaler 0 reducing loss scale to 4194304.0\n"
     ]
    },
    {
     "name": "stderr",
     "output_type": "stream",
     "text": [
      "Epoch 2:  11%|█         | 20238/182400 [40:11<4:42:50,  9.56batch/s, batch_nb=19597, gpu=0, loss=0.062, v_nb=55]"
     ]
    },
    {
     "name": "stdout",
     "output_type": "stream",
     "text": [
      "Gradient overflow.  Skipping step, loss scaler 0 reducing loss scale to 2097152.0\n"
     ]
    },
    {
     "name": "stderr",
     "output_type": "stream",
     "text": [
      "Epoch 2:  13%|█▎        | 24298/182400 [47:59<4:35:50,  9.55batch/s, batch_nb=23657, gpu=0, loss=0.063, v_nb=55]"
     ]
    },
    {
     "name": "stdout",
     "output_type": "stream",
     "text": [
      "Gradient overflow.  Skipping step, loss scaler 0 reducing loss scale to 4194304.0\n"
     ]
    },
    {
     "name": "stderr",
     "output_type": "stream",
     "text": [
      "Epoch 2:  14%|█▍        | 26366/182400 [51:58<4:48:11,  9.02batch/s, batch_nb=25725, gpu=0, loss=0.061, v_nb=55]"
     ]
    },
    {
     "name": "stdout",
     "output_type": "stream",
     "text": [
      "Gradient overflow.  Skipping step, loss scaler 0 reducing loss scale to 4194304.0\n"
     ]
    },
    {
     "name": "stderr",
     "output_type": "stream",
     "text": [
      "Epoch 2:  15%|█▍        | 27040/182400 [53:15<4:31:55,  9.52batch/s, batch_nb=26399, gpu=0, loss=0.063, v_nb=55]\n",
      "Validating:   0%|          | 0/320 [00:00<?, ?batch/s]\u001b[A\n",
      "Epoch 2:  15%|█▍        | 27043/182400 [53:15<3:45:04, 11.50batch/s, batch_nb=26399, gpu=0, loss=0.063, v_nb=55]\n",
      "Epoch 2:  15%|█▍        | 27046/182400 [53:16<3:10:39, 13.58batch/s, batch_nb=26399, gpu=0, loss=0.063, v_nb=55]\n",
      "Epoch 2:  15%|█▍        | 27049/182400 [53:16<2:46:29, 15.55batch/s, batch_nb=26399, gpu=0, loss=0.063, v_nb=55]\n",
      "Epoch 2:  15%|█▍        | 27052/182400 [53:16<2:29:52, 17.28batch/s, batch_nb=26399, gpu=0, loss=0.063, v_nb=55]\n",
      "Epoch 2:  15%|█▍        | 27055/182400 [53:16<2:18:23, 18.71batch/s, batch_nb=26399, gpu=0, loss=0.063, v_nb=55]\n",
      "Epoch 2:  15%|█▍        | 27058/182400 [53:16<2:10:12, 19.88batch/s, batch_nb=26399, gpu=0, loss=0.063, v_nb=55]\n",
      "Epoch 2:  15%|█▍        | 27061/182400 [53:16<2:04:33, 20.79batch/s, batch_nb=26399, gpu=0, loss=0.063, v_nb=55]\n",
      "Epoch 2:  15%|█▍        | 27064/182400 [53:16<2:00:32, 21.48batch/s, batch_nb=26399, gpu=0, loss=0.063, v_nb=55]\n",
      "Epoch 2:  15%|█▍        | 27067/182400 [53:16<1:57:40, 22.00batch/s, batch_nb=26399, gpu=0, loss=0.063, v_nb=55]\n",
      "Epoch 2:  15%|█▍        | 27070/182400 [53:17<1:55:39, 22.38batch/s, batch_nb=26399, gpu=0, loss=0.063, v_nb=55]\n",
      "Epoch 2:  15%|█▍        | 27073/182400 [53:17<1:54:20, 22.64batch/s, batch_nb=26399, gpu=0, loss=0.063, v_nb=55]\n",
      "Epoch 2:  15%|█▍        | 27076/182400 [53:17<1:53:13, 22.86batch/s, batch_nb=26399, gpu=0, loss=0.063, v_nb=55]\n",
      "Epoch 2:  15%|█▍        | 27079/182400 [53:17<1:52:36, 22.99batch/s, batch_nb=26399, gpu=0, loss=0.063, v_nb=55]\n",
      "Epoch 2:  15%|█▍        | 27082/182400 [53:17<1:52:10, 23.08batch/s, batch_nb=26399, gpu=0, loss=0.063, v_nb=55]\n",
      "Epoch 2:  15%|█▍        | 27085/182400 [53:17<1:52:01, 23.11batch/s, batch_nb=26399, gpu=0, loss=0.063, v_nb=55]\n",
      "Epoch 2:  15%|█▍        | 27088/182400 [53:17<1:51:50, 23.14batch/s, batch_nb=26399, gpu=0, loss=0.063, v_nb=55]\n",
      "Epoch 2:  15%|█▍        | 27091/182400 [53:17<1:51:32, 23.21batch/s, batch_nb=26399, gpu=0, loss=0.063, v_nb=55]\n",
      "Epoch 2:  15%|█▍        | 27094/182400 [53:18<1:51:01, 23.31batch/s, batch_nb=26399, gpu=0, loss=0.063, v_nb=55]\n",
      "Epoch 2:  15%|█▍        | 27097/182400 [53:18<1:51:07, 23.29batch/s, batch_nb=26399, gpu=0, loss=0.063, v_nb=55]\n",
      "Epoch 2:  15%|█▍        | 27100/182400 [53:18<1:50:50, 23.35batch/s, batch_nb=26399, gpu=0, loss=0.063, v_nb=55]\n",
      "Epoch 2:  15%|█▍        | 27103/182400 [53:18<1:50:36, 23.40batch/s, batch_nb=26399, gpu=0, loss=0.063, v_nb=55]\n",
      "Epoch 2:  15%|█▍        | 27106/182400 [53:18<1:50:46, 23.37batch/s, batch_nb=26399, gpu=0, loss=0.063, v_nb=55]\n",
      "Epoch 2:  15%|█▍        | 27109/182400 [53:18<1:50:39, 23.39batch/s, batch_nb=26399, gpu=0, loss=0.063, v_nb=55]\n",
      "Epoch 2:  15%|█▍        | 27112/182400 [53:18<1:50:22, 23.45batch/s, batch_nb=26399, gpu=0, loss=0.063, v_nb=55]\n",
      "Epoch 2:  15%|█▍        | 27115/182400 [53:18<1:50:40, 23.39batch/s, batch_nb=26399, gpu=0, loss=0.063, v_nb=55]\n",
      "Epoch 2:  15%|█▍        | 27118/182400 [53:19<1:50:33, 23.41batch/s, batch_nb=26399, gpu=0, loss=0.063, v_nb=55]\n",
      "Epoch 2:  15%|█▍        | 27121/182400 [53:19<1:50:27, 23.43batch/s, batch_nb=26399, gpu=0, loss=0.063, v_nb=55]\n",
      "Epoch 2:  15%|█▍        | 27124/182400 [53:19<1:50:27, 23.43batch/s, batch_nb=26399, gpu=0, loss=0.063, v_nb=55]\n",
      "Epoch 2:  15%|█▍        | 27127/182400 [53:19<1:50:19, 23.46batch/s, batch_nb=26399, gpu=0, loss=0.063, v_nb=55]\n",
      "Epoch 2:  15%|█▍        | 27130/182400 [53:19<1:50:21, 23.45batch/s, batch_nb=26399, gpu=0, loss=0.063, v_nb=55]\n",
      "Epoch 2:  15%|█▍        | 27133/182400 [53:19<1:50:31, 23.41batch/s, batch_nb=26399, gpu=0, loss=0.063, v_nb=55]\n",
      "Epoch 2:  15%|█▍        | 27136/182400 [53:19<1:50:49, 23.35batch/s, batch_nb=26399, gpu=0, loss=0.063, v_nb=55]\n",
      "Epoch 2:  15%|█▍        | 27139/182400 [53:20<1:51:05, 23.29batch/s, batch_nb=26399, gpu=0, loss=0.063, v_nb=55]\n",
      "Epoch 2:  15%|█▍        | 27142/182400 [53:20<1:51:33, 23.19batch/s, batch_nb=26399, gpu=0, loss=0.063, v_nb=55]\n",
      "Epoch 2:  15%|█▍        | 27145/182400 [53:20<1:51:23, 23.23batch/s, batch_nb=26399, gpu=0, loss=0.063, v_nb=55]\n",
      "Epoch 2:  15%|█▍        | 27148/182400 [53:20<1:51:40, 23.17batch/s, batch_nb=26399, gpu=0, loss=0.063, v_nb=55]\n",
      "Epoch 2:  15%|█▍        | 27151/182400 [53:20<1:51:46, 23.15batch/s, batch_nb=26399, gpu=0, loss=0.063, v_nb=55]\n",
      "Epoch 2:  15%|█▍        | 27154/182400 [53:20<1:51:22, 23.23batch/s, batch_nb=26399, gpu=0, loss=0.063, v_nb=55]\n",
      "Epoch 2:  15%|█▍        | 27157/182400 [53:20<1:51:07, 23.28batch/s, batch_nb=26399, gpu=0, loss=0.063, v_nb=55]\n",
      "Epoch 2:  15%|█▍        | 27160/182400 [53:20<1:51:03, 23.30batch/s, batch_nb=26399, gpu=0, loss=0.063, v_nb=55]\n",
      "Epoch 2:  15%|█▍        | 27163/182400 [53:21<1:51:11, 23.27batch/s, batch_nb=26399, gpu=0, loss=0.063, v_nb=55]\n",
      "Epoch 2:  15%|█▍        | 27166/182400 [53:21<1:51:19, 23.24batch/s, batch_nb=26399, gpu=0, loss=0.063, v_nb=55]\n",
      "Epoch 2:  15%|█▍        | 27169/182400 [53:21<1:51:36, 23.18batch/s, batch_nb=26399, gpu=0, loss=0.063, v_nb=55]\n",
      "Epoch 2:  15%|█▍        | 27172/182400 [53:21<1:51:52, 23.12batch/s, batch_nb=26399, gpu=0, loss=0.063, v_nb=55]\n",
      "Epoch 2:  15%|█▍        | 27175/182400 [53:21<1:51:47, 23.14batch/s, batch_nb=26399, gpu=0, loss=0.063, v_nb=55]\n",
      "Epoch 2:  15%|█▍        | 27178/182400 [53:21<1:52:09, 23.06batch/s, batch_nb=26399, gpu=0, loss=0.063, v_nb=55]\n",
      "Epoch 2:  15%|█▍        | 27181/182400 [53:21<1:51:51, 23.13batch/s, batch_nb=26399, gpu=0, loss=0.063, v_nb=55]\n",
      "Epoch 2:  15%|█▍        | 27184/182400 [53:21<1:51:41, 23.16batch/s, batch_nb=26399, gpu=0, loss=0.063, v_nb=55]\n",
      "Epoch 2:  15%|█▍        | 27187/182400 [53:22<1:51:17, 23.24batch/s, batch_nb=26399, gpu=0, loss=0.063, v_nb=55]\n",
      "Epoch 2:  15%|█▍        | 27190/182400 [53:22<1:51:20, 23.23batch/s, batch_nb=26399, gpu=0, loss=0.063, v_nb=55]\n",
      "Epoch 2:  15%|█▍        | 27193/182400 [53:22<1:50:59, 23.30batch/s, batch_nb=26399, gpu=0, loss=0.063, v_nb=55]\n",
      "Epoch 2:  15%|█▍        | 27196/182400 [53:22<1:50:57, 23.31batch/s, batch_nb=26399, gpu=0, loss=0.063, v_nb=55]\n",
      "Epoch 2:  15%|█▍        | 27199/182400 [53:22<1:50:49, 23.34batch/s, batch_nb=26399, gpu=0, loss=0.063, v_nb=55]\n",
      "Epoch 2:  15%|█▍        | 27202/182400 [53:22<1:50:59, 23.31batch/s, batch_nb=26399, gpu=0, loss=0.063, v_nb=55]\n",
      "Epoch 2:  15%|█▍        | 27205/182400 [53:22<1:51:05, 23.28batch/s, batch_nb=26399, gpu=0, loss=0.063, v_nb=55]\n",
      "Epoch 2:  15%|█▍        | 27208/182400 [53:22<1:51:24, 23.22batch/s, batch_nb=26399, gpu=0, loss=0.063, v_nb=55]\n",
      "Epoch 2:  15%|█▍        | 27211/182400 [53:23<1:51:38, 23.17batch/s, batch_nb=26399, gpu=0, loss=0.063, v_nb=55]\n",
      "Epoch 2:  15%|█▍        | 27214/182400 [53:23<1:51:31, 23.19batch/s, batch_nb=26399, gpu=0, loss=0.063, v_nb=55]\n",
      "Epoch 2:  15%|█▍        | 27217/182400 [53:23<1:51:12, 23.26batch/s, batch_nb=26399, gpu=0, loss=0.063, v_nb=55]\n",
      "Epoch 2:  15%|█▍        | 27220/182400 [53:23<1:51:37, 23.17batch/s, batch_nb=26399, gpu=0, loss=0.063, v_nb=55]\n",
      "Epoch 2:  15%|█▍        | 27223/182400 [53:23<1:51:36, 23.17batch/s, batch_nb=26399, gpu=0, loss=0.063, v_nb=55]\n",
      "Epoch 2:  15%|█▍        | 27226/182400 [53:23<1:51:22, 23.22batch/s, batch_nb=26399, gpu=0, loss=0.063, v_nb=55]\n",
      "Epoch 2:  15%|█▍        | 27229/182400 [53:23<1:51:38, 23.17batch/s, batch_nb=26399, gpu=0, loss=0.063, v_nb=55]\n",
      "Epoch 2:  15%|█▍        | 27232/182400 [53:24<1:52:01, 23.09batch/s, batch_nb=26399, gpu=0, loss=0.063, v_nb=55]\n",
      "Epoch 2:  15%|█▍        | 27235/182400 [53:24<1:51:36, 23.17batch/s, batch_nb=26399, gpu=0, loss=0.063, v_nb=55]\n",
      "Epoch 2:  15%|█▍        | 27238/182400 [53:24<1:51:37, 23.17batch/s, batch_nb=26399, gpu=0, loss=0.063, v_nb=55]\n",
      "Epoch 2:  15%|█▍        | 27241/182400 [53:24<1:51:21, 23.22batch/s, batch_nb=26399, gpu=0, loss=0.063, v_nb=55]\n",
      "Epoch 2:  15%|█▍        | 27244/182400 [53:24<1:51:24, 23.21batch/s, batch_nb=26399, gpu=0, loss=0.063, v_nb=55]\n",
      "Epoch 2:  15%|█▍        | 27247/182400 [53:24<1:51:33, 23.18batch/s, batch_nb=26399, gpu=0, loss=0.063, v_nb=55]\n",
      "Epoch 2:  15%|█▍        | 27250/182400 [53:24<1:51:22, 23.22batch/s, batch_nb=26399, gpu=0, loss=0.063, v_nb=55]\n"
     ]
    },
    {
     "name": "stderr",
     "output_type": "stream",
     "text": [
      "Epoch 2:  15%|█▍        | 27253/182400 [53:24<1:51:27, 23.20batch/s, batch_nb=26399, gpu=0, loss=0.063, v_nb=55]\n",
      "Epoch 2:  15%|█▍        | 27256/182400 [53:25<1:51:24, 23.21batch/s, batch_nb=26399, gpu=0, loss=0.063, v_nb=55]\n",
      "Epoch 2:  15%|█▍        | 27259/182400 [53:25<1:51:35, 23.17batch/s, batch_nb=26399, gpu=0, loss=0.063, v_nb=55]\n",
      "Epoch 2:  15%|█▍        | 27262/182400 [53:25<1:51:21, 23.22batch/s, batch_nb=26399, gpu=0, loss=0.063, v_nb=55]\n",
      "Epoch 2:  15%|█▍        | 27265/182400 [53:25<1:51:39, 23.16batch/s, batch_nb=26399, gpu=0, loss=0.063, v_nb=55]\n",
      "Epoch 2:  15%|█▍        | 27268/182400 [53:25<1:52:22, 23.01batch/s, batch_nb=26399, gpu=0, loss=0.063, v_nb=55]\n",
      "Epoch 2:  15%|█▍        | 27271/182400 [53:25<1:52:26, 22.99batch/s, batch_nb=26399, gpu=0, loss=0.063, v_nb=55]\n",
      "Epoch 2:  15%|█▍        | 27274/182400 [53:25<1:52:19, 23.02batch/s, batch_nb=26399, gpu=0, loss=0.063, v_nb=55]\n",
      "Epoch 2:  15%|█▍        | 27277/182400 [53:25<1:52:27, 22.99batch/s, batch_nb=26399, gpu=0, loss=0.063, v_nb=55]\n",
      "Epoch 2:  15%|█▍        | 27280/182400 [53:26<1:52:13, 23.04batch/s, batch_nb=26399, gpu=0, loss=0.063, v_nb=55]\n",
      "Epoch 2:  15%|█▍        | 27283/182400 [53:26<1:52:14, 23.03batch/s, batch_nb=26399, gpu=0, loss=0.063, v_nb=55]\n",
      "Epoch 2:  15%|█▍        | 27286/182400 [53:26<1:52:23, 23.00batch/s, batch_nb=26399, gpu=0, loss=0.063, v_nb=55]\n",
      "Epoch 2:  15%|█▍        | 27289/182400 [53:26<1:52:43, 22.93batch/s, batch_nb=26399, gpu=0, loss=0.063, v_nb=55]\n",
      "Epoch 2:  15%|█▍        | 27292/182400 [53:26<1:52:24, 23.00batch/s, batch_nb=26399, gpu=0, loss=0.063, v_nb=55]\n",
      "Epoch 2:  15%|█▍        | 27295/182400 [53:26<1:52:14, 23.03batch/s, batch_nb=26399, gpu=0, loss=0.063, v_nb=55]\n",
      "Epoch 2:  15%|█▍        | 27298/182400 [53:26<1:51:42, 23.14batch/s, batch_nb=26399, gpu=0, loss=0.063, v_nb=55]\n",
      "Epoch 2:  15%|█▍        | 27301/182400 [53:26<1:51:18, 23.22batch/s, batch_nb=26399, gpu=0, loss=0.063, v_nb=55]\n",
      "Epoch 2:  15%|█▍        | 27304/182400 [53:27<1:51:28, 23.19batch/s, batch_nb=26399, gpu=0, loss=0.063, v_nb=55]\n",
      "Epoch 2:  15%|█▍        | 27307/182400 [53:27<1:51:41, 23.14batch/s, batch_nb=26399, gpu=0, loss=0.063, v_nb=55]\n",
      "Epoch 2:  15%|█▍        | 27310/182400 [53:27<1:52:11, 23.04batch/s, batch_nb=26399, gpu=0, loss=0.063, v_nb=55]\n",
      "Epoch 2:  15%|█▍        | 27313/182400 [53:27<1:52:09, 23.05batch/s, batch_nb=26399, gpu=0, loss=0.063, v_nb=55]\n",
      "Epoch 2:  15%|█▍        | 27316/182400 [53:27<1:52:31, 22.97batch/s, batch_nb=26399, gpu=0, loss=0.063, v_nb=55]\n",
      "Epoch 2:  15%|█▍        | 27319/182400 [53:27<1:52:25, 22.99batch/s, batch_nb=26399, gpu=0, loss=0.063, v_nb=55]\n",
      "Epoch 2:  15%|█▍        | 27322/182400 [53:27<1:52:35, 22.96batch/s, batch_nb=26399, gpu=0, loss=0.063, v_nb=55]\n",
      "Epoch 2:  15%|█▍        | 27325/182400 [53:28<1:52:30, 22.97batch/s, batch_nb=26399, gpu=0, loss=0.063, v_nb=55]\n",
      "Epoch 2:  15%|█▍        | 27328/182400 [53:28<1:52:28, 22.98batch/s, batch_nb=26399, gpu=0, loss=0.063, v_nb=55]\n",
      "Epoch 2:  15%|█▍        | 27331/182400 [53:28<1:52:29, 22.98batch/s, batch_nb=26399, gpu=0, loss=0.063, v_nb=55]\n",
      "Epoch 2:  15%|█▍        | 27334/182400 [53:28<1:51:55, 23.09batch/s, batch_nb=26399, gpu=0, loss=0.063, v_nb=55]\n",
      "Epoch 2:  15%|█▍        | 27337/182400 [53:28<1:51:43, 23.13batch/s, batch_nb=26399, gpu=0, loss=0.063, v_nb=55]\n",
      "Epoch 2:  15%|█▍        | 27340/182400 [53:28<1:51:35, 23.16batch/s, batch_nb=26399, gpu=0, loss=0.063, v_nb=55]\n",
      "Epoch 2:  15%|█▍        | 27343/182400 [53:28<1:51:14, 23.23batch/s, batch_nb=26399, gpu=0, loss=0.063, v_nb=55]\n",
      "Epoch 2:  15%|█▍        | 27346/182400 [53:28<1:51:14, 23.23batch/s, batch_nb=26399, gpu=0, loss=0.063, v_nb=55]\n",
      "Epoch 2:  15%|█▍        | 27349/182400 [53:29<1:51:25, 23.19batch/s, batch_nb=26399, gpu=0, loss=0.063, v_nb=55]\n",
      "Epoch 2:  15%|█▍        | 27352/182400 [53:29<1:51:19, 23.21batch/s, batch_nb=26399, gpu=0, loss=0.063, v_nb=55]\n",
      "Epoch 2:  15%|█▍        | 27355/182400 [53:29<1:51:33, 23.16batch/s, batch_nb=26399, gpu=0, loss=0.063, v_nb=55]\n",
      "Epoch 2:  15%|█▌        | 27360/182400 [53:31<1:52:06, 23.05batch/s, batch_nb=26399, gpu=0, loss=0.063, v_nb=55]\n",
      "Epoch 2:  15%|█▌        | 27954/182400 [54:40<4:54:39,  8.74batch/s, batch_nb=26993, gpu=0, loss=0.062, v_nb=55] "
     ]
    },
    {
     "name": "stdout",
     "output_type": "stream",
     "text": [
      "Gradient overflow.  Skipping step, loss scaler 0 reducing loss scale to 2097152.0\n"
     ]
    },
    {
     "name": "stderr",
     "output_type": "stream",
     "text": [
      "Epoch 2:  18%|█▊        | 32026/182400 [1:02:30<4:33:03,  9.18batch/s, batch_nb=31065, gpu=0, loss=0.062, v_nb=55]"
     ]
    },
    {
     "name": "stdout",
     "output_type": "stream",
     "text": [
      "Gradient overflow.  Skipping step, loss scaler 0 reducing loss scale to 4194304.0\n"
     ]
    },
    {
     "name": "stderr",
     "output_type": "stream",
     "text": [
      "Epoch 2:  19%|█▉        | 34458/182400 [1:07:12<4:22:33,  9.39batch/s, batch_nb=33497, gpu=0, loss=0.062, v_nb=55]"
     ]
    },
    {
     "name": "stdout",
     "output_type": "stream",
     "text": [
      "Gradient overflow.  Skipping step, loss scaler 0 reducing loss scale to 4194304.0\n"
     ]
    },
    {
     "name": "stderr",
     "output_type": "stream",
     "text": [
      "Epoch 2:  20%|█▉        | 36160/182400 [1:10:33<4:41:12,  8.67batch/s, batch_nb=35199, gpu=0, loss=0.062, v_nb=55]\n",
      "Validating:   0%|          | 0/320 [00:00<?, ?batch/s]\u001b[A\n",
      "Epoch 2:  20%|█▉        | 36163/182400 [1:10:34<3:52:41, 10.47batch/s, batch_nb=35199, gpu=0, loss=0.062, v_nb=55]\n",
      "Epoch 2:  20%|█▉        | 36166/182400 [1:10:34<3:17:23, 12.35batch/s, batch_nb=35199, gpu=0, loss=0.062, v_nb=55]\n",
      "Epoch 2:  20%|█▉        | 36169/182400 [1:10:34<2:52:55, 14.09batch/s, batch_nb=35199, gpu=0, loss=0.062, v_nb=55]\n",
      "Epoch 2:  20%|█▉        | 36172/182400 [1:10:34<2:35:57, 15.63batch/s, batch_nb=35199, gpu=0, loss=0.062, v_nb=55]\n",
      "Epoch 2:  20%|█▉        | 36175/182400 [1:10:34<2:23:10, 17.02batch/s, batch_nb=35199, gpu=0, loss=0.062, v_nb=55]\n",
      "Epoch 2:  20%|█▉        | 36178/182400 [1:10:34<2:15:13, 18.02batch/s, batch_nb=35199, gpu=0, loss=0.062, v_nb=55]\n",
      "Epoch 2:  20%|█▉        | 36181/182400 [1:10:34<2:08:48, 18.92batch/s, batch_nb=35199, gpu=0, loss=0.062, v_nb=55]\n",
      "Epoch 2:  20%|█▉        | 36184/182400 [1:10:35<2:04:40, 19.55batch/s, batch_nb=35199, gpu=0, loss=0.062, v_nb=55]\n",
      "Epoch 2:  20%|█▉        | 36187/182400 [1:10:35<2:01:17, 20.09batch/s, batch_nb=35199, gpu=0, loss=0.062, v_nb=55]\n",
      "Epoch 2:  20%|█▉        | 36190/182400 [1:10:35<1:59:08, 20.45batch/s, batch_nb=35199, gpu=0, loss=0.062, v_nb=55]\n",
      "Epoch 2:  20%|█▉        | 36193/182400 [1:10:35<1:57:39, 20.71batch/s, batch_nb=35199, gpu=0, loss=0.062, v_nb=55]\n",
      "Epoch 2:  20%|█▉        | 36196/182400 [1:10:35<1:56:30, 20.91batch/s, batch_nb=35199, gpu=0, loss=0.062, v_nb=55]\n",
      "Epoch 2:  20%|█▉        | 36199/182400 [1:10:35<1:56:07, 20.98batch/s, batch_nb=35199, gpu=0, loss=0.062, v_nb=55]\n",
      "Epoch 2:  20%|█▉        | 36202/182400 [1:10:35<1:55:47, 21.04batch/s, batch_nb=35199, gpu=0, loss=0.062, v_nb=55]\n",
      "Epoch 2:  20%|█▉        | 36205/182400 [1:10:36<1:55:32, 21.09batch/s, batch_nb=35199, gpu=0, loss=0.062, v_nb=55]\n",
      "Epoch 2:  20%|█▉        | 36208/182400 [1:10:36<1:55:05, 21.17batch/s, batch_nb=35199, gpu=0, loss=0.062, v_nb=55]\n",
      "Epoch 2:  20%|█▉        | 36211/182400 [1:10:36<1:55:31, 21.09batch/s, batch_nb=35199, gpu=0, loss=0.062, v_nb=55]\n",
      "Epoch 2:  20%|█▉        | 36214/182400 [1:10:36<1:55:00, 21.19batch/s, batch_nb=35199, gpu=0, loss=0.062, v_nb=55]\n",
      "Epoch 2:  20%|█▉        | 36217/182400 [1:10:36<1:54:53, 21.21batch/s, batch_nb=35199, gpu=0, loss=0.062, v_nb=55]\n",
      "Epoch 2:  20%|█▉        | 36220/182400 [1:10:36<1:54:34, 21.27batch/s, batch_nb=35199, gpu=0, loss=0.062, v_nb=55]\n",
      "Epoch 2:  20%|█▉        | 36223/182400 [1:10:36<1:54:11, 21.33batch/s, batch_nb=35199, gpu=0, loss=0.062, v_nb=55]\n",
      "Epoch 2:  20%|█▉        | 36226/182400 [1:10:37<1:54:10, 21.34batch/s, batch_nb=35199, gpu=0, loss=0.062, v_nb=55]\n",
      "Epoch 2:  20%|█▉        | 36229/182400 [1:10:37<1:53:40, 21.43batch/s, batch_nb=35199, gpu=0, loss=0.062, v_nb=55]\n",
      "Epoch 2:  20%|█▉        | 36232/182400 [1:10:37<1:54:14, 21.32batch/s, batch_nb=35199, gpu=0, loss=0.062, v_nb=55]\n",
      "Epoch 2:  20%|█▉        | 36235/182400 [1:10:37<1:53:50, 21.40batch/s, batch_nb=35199, gpu=0, loss=0.062, v_nb=55]\n",
      "Epoch 2:  20%|█▉        | 36238/182400 [1:10:37<1:53:43, 21.42batch/s, batch_nb=35199, gpu=0, loss=0.062, v_nb=55]\n",
      "Epoch 2:  20%|█▉        | 36241/182400 [1:10:37<1:54:09, 21.34batch/s, batch_nb=35199, gpu=0, loss=0.062, v_nb=55]\n",
      "Epoch 2:  20%|█▉        | 36244/182400 [1:10:37<1:54:42, 21.24batch/s, batch_nb=35199, gpu=0, loss=0.062, v_nb=55]\n",
      "Epoch 2:  20%|█▉        | 36247/182400 [1:10:38<1:54:52, 21.20batch/s, batch_nb=35199, gpu=0, loss=0.062, v_nb=55]\n",
      "Epoch 2:  20%|█▉        | 36250/182400 [1:10:38<1:54:58, 21.19batch/s, batch_nb=35199, gpu=0, loss=0.062, v_nb=55]\n",
      "Epoch 2:  20%|█▉        | 36253/182400 [1:10:38<1:55:16, 21.13batch/s, batch_nb=35199, gpu=0, loss=0.062, v_nb=55]\n",
      "Epoch 2:  20%|█▉        | 36256/182400 [1:10:38<1:55:53, 21.02batch/s, batch_nb=35199, gpu=0, loss=0.062, v_nb=55]\n",
      "Epoch 2:  20%|█▉        | 36259/182400 [1:10:38<1:55:17, 21.13batch/s, batch_nb=35199, gpu=0, loss=0.062, v_nb=55]\n",
      "Epoch 2:  20%|█▉        | 36262/182400 [1:10:38<1:55:17, 21.13batch/s, batch_nb=35199, gpu=0, loss=0.062, v_nb=55]\n",
      "Epoch 2:  20%|█▉        | 36265/182400 [1:10:38<1:56:19, 20.94batch/s, batch_nb=35199, gpu=0, loss=0.062, v_nb=55]\n",
      "Epoch 2:  20%|█▉        | 36268/182400 [1:10:39<1:55:49, 21.03batch/s, batch_nb=35199, gpu=0, loss=0.062, v_nb=55]\n",
      "Epoch 2:  20%|█▉        | 36271/182400 [1:10:39<1:54:32, 21.26batch/s, batch_nb=35199, gpu=0, loss=0.062, v_nb=55]\n",
      "Epoch 2:  20%|█▉        | 36274/182400 [1:10:39<1:54:41, 21.23batch/s, batch_nb=35199, gpu=0, loss=0.062, v_nb=55]\n",
      "Epoch 2:  20%|█▉        | 36277/182400 [1:10:39<1:54:22, 21.29batch/s, batch_nb=35199, gpu=0, loss=0.062, v_nb=55]\n",
      "Epoch 2:  20%|█▉        | 36280/182400 [1:10:39<1:54:08, 21.34batch/s, batch_nb=35199, gpu=0, loss=0.062, v_nb=55]\n",
      "Epoch 2:  20%|█▉        | 36283/182400 [1:10:39<1:54:49, 21.21batch/s, batch_nb=35199, gpu=0, loss=0.062, v_nb=55]\n",
      "Epoch 2:  20%|█▉        | 36286/182400 [1:10:39<1:55:17, 21.12batch/s, batch_nb=35199, gpu=0, loss=0.062, v_nb=55]\n",
      "Epoch 2:  20%|█▉        | 36289/182400 [1:10:40<1:54:47, 21.21batch/s, batch_nb=35199, gpu=0, loss=0.062, v_nb=55]\n",
      "Epoch 2:  20%|█▉        | 36292/182400 [1:10:40<1:55:26, 21.09batch/s, batch_nb=35199, gpu=0, loss=0.062, v_nb=55]\n",
      "Epoch 2:  20%|█▉        | 36295/182400 [1:10:40<1:55:09, 21.15batch/s, batch_nb=35199, gpu=0, loss=0.062, v_nb=55]\n",
      "Epoch 2:  20%|█▉        | 36298/182400 [1:10:40<1:55:31, 21.08batch/s, batch_nb=35199, gpu=0, loss=0.062, v_nb=55]\n",
      "Epoch 2:  20%|█▉        | 36301/182400 [1:10:40<1:55:01, 21.17batch/s, batch_nb=35199, gpu=0, loss=0.062, v_nb=55]\n",
      "Epoch 2:  20%|█▉        | 36304/182400 [1:10:40<1:55:46, 21.03batch/s, batch_nb=35199, gpu=0, loss=0.062, v_nb=55]\n",
      "Epoch 2:  20%|█▉        | 36307/182400 [1:10:40<1:55:22, 21.10batch/s, batch_nb=35199, gpu=0, loss=0.062, v_nb=55]\n",
      "Epoch 2:  20%|█▉        | 36310/182400 [1:10:40<1:55:05, 21.15batch/s, batch_nb=35199, gpu=0, loss=0.062, v_nb=55]\n",
      "Epoch 2:  20%|█▉        | 36313/182400 [1:10:41<1:54:42, 21.23batch/s, batch_nb=35199, gpu=0, loss=0.062, v_nb=55]\n",
      "Epoch 2:  20%|█▉        | 36316/182400 [1:10:41<1:55:35, 21.06batch/s, batch_nb=35199, gpu=0, loss=0.062, v_nb=55]\n",
      "Epoch 2:  20%|█▉        | 36319/182400 [1:10:41<1:55:26, 21.09batch/s, batch_nb=35199, gpu=0, loss=0.062, v_nb=55]\n",
      "Epoch 2:  20%|█▉        | 36322/182400 [1:10:41<1:55:17, 21.12batch/s, batch_nb=35199, gpu=0, loss=0.062, v_nb=55]\n",
      "Epoch 2:  20%|█▉        | 36325/182400 [1:10:41<1:54:33, 21.25batch/s, batch_nb=35199, gpu=0, loss=0.062, v_nb=55]\n",
      "Epoch 2:  20%|█▉        | 36328/182400 [1:10:41<1:54:33, 21.25batch/s, batch_nb=35199, gpu=0, loss=0.062, v_nb=55]\n",
      "Epoch 2:  20%|█▉        | 36331/182400 [1:10:41<1:54:01, 21.35batch/s, batch_nb=35199, gpu=0, loss=0.062, v_nb=55]\n",
      "Epoch 2:  20%|█▉        | 36334/182400 [1:10:42<1:54:13, 21.31batch/s, batch_nb=35199, gpu=0, loss=0.062, v_nb=55]\n",
      "Epoch 2:  20%|█▉        | 36337/182400 [1:10:42<1:54:03, 21.34batch/s, batch_nb=35199, gpu=0, loss=0.062, v_nb=55]\n",
      "Epoch 2:  20%|█▉        | 36340/182400 [1:10:42<1:54:15, 21.31batch/s, batch_nb=35199, gpu=0, loss=0.062, v_nb=55]\n",
      "Epoch 2:  20%|█▉        | 36343/182400 [1:10:42<1:54:53, 21.19batch/s, batch_nb=35199, gpu=0, loss=0.062, v_nb=55]\n",
      "Epoch 2:  20%|█▉        | 36346/182400 [1:10:42<1:55:23, 21.10batch/s, batch_nb=35199, gpu=0, loss=0.062, v_nb=55]\n",
      "Epoch 2:  20%|█▉        | 36349/182400 [1:10:42<1:55:26, 21.08batch/s, batch_nb=35199, gpu=0, loss=0.062, v_nb=55]\n",
      "Epoch 2:  20%|█▉        | 36352/182400 [1:10:42<1:56:08, 20.96batch/s, batch_nb=35199, gpu=0, loss=0.062, v_nb=55]\n",
      "Epoch 2:  20%|█▉        | 36355/182400 [1:10:43<1:55:46, 21.02batch/s, batch_nb=35199, gpu=0, loss=0.062, v_nb=55]\n",
      "Epoch 2:  20%|█▉        | 36358/182400 [1:10:43<1:55:33, 21.06batch/s, batch_nb=35199, gpu=0, loss=0.062, v_nb=55]\n",
      "Epoch 2:  20%|█▉        | 36361/182400 [1:10:43<1:55:41, 21.04batch/s, batch_nb=35199, gpu=0, loss=0.062, v_nb=55]\n",
      "Epoch 2:  20%|█▉        | 36364/182400 [1:10:43<1:55:38, 21.05batch/s, batch_nb=35199, gpu=0, loss=0.062, v_nb=55]\n",
      "Epoch 2:  20%|█▉        | 36367/182400 [1:10:43<1:55:11, 21.13batch/s, batch_nb=35199, gpu=0, loss=0.062, v_nb=55]\n"
     ]
    },
    {
     "name": "stderr",
     "output_type": "stream",
     "text": [
      "Epoch 2:  20%|█▉        | 36370/182400 [1:10:43<1:54:36, 21.24batch/s, batch_nb=35199, gpu=0, loss=0.062, v_nb=55]\n",
      "Epoch 2:  20%|█▉        | 36373/182400 [1:10:43<1:54:25, 21.27batch/s, batch_nb=35199, gpu=0, loss=0.062, v_nb=55]\n",
      "Epoch 2:  20%|█▉        | 36376/182400 [1:10:44<1:54:24, 21.27batch/s, batch_nb=35199, gpu=0, loss=0.062, v_nb=55]\n",
      "Epoch 2:  20%|█▉        | 36379/182400 [1:10:44<1:53:48, 21.38batch/s, batch_nb=35199, gpu=0, loss=0.062, v_nb=55]\n",
      "Epoch 2:  20%|█▉        | 36382/182400 [1:10:44<1:54:04, 21.33batch/s, batch_nb=35199, gpu=0, loss=0.062, v_nb=55]\n",
      "Epoch 2:  20%|█▉        | 36385/182400 [1:10:44<1:53:45, 21.39batch/s, batch_nb=35199, gpu=0, loss=0.062, v_nb=55]\n",
      "Epoch 2:  20%|█▉        | 36388/182400 [1:10:44<1:53:34, 21.43batch/s, batch_nb=35199, gpu=0, loss=0.062, v_nb=55]\n",
      "Epoch 2:  20%|█▉        | 36391/182400 [1:10:44<1:53:46, 21.39batch/s, batch_nb=35199, gpu=0, loss=0.062, v_nb=55]\n",
      "Epoch 2:  20%|█▉        | 36394/182400 [1:10:44<1:53:29, 21.44batch/s, batch_nb=35199, gpu=0, loss=0.062, v_nb=55]\n",
      "Epoch 2:  20%|█▉        | 36397/182400 [1:10:45<1:53:51, 21.37batch/s, batch_nb=35199, gpu=0, loss=0.062, v_nb=55]\n",
      "Epoch 2:  20%|█▉        | 36400/182400 [1:10:45<1:54:37, 21.23batch/s, batch_nb=35199, gpu=0, loss=0.062, v_nb=55]\n",
      "Epoch 2:  20%|█▉        | 36403/182400 [1:10:45<1:55:40, 21.04batch/s, batch_nb=35199, gpu=0, loss=0.062, v_nb=55]\n",
      "Epoch 2:  20%|█▉        | 36406/182400 [1:10:45<1:56:12, 20.94batch/s, batch_nb=35199, gpu=0, loss=0.062, v_nb=55]\n",
      "Epoch 2:  20%|█▉        | 36409/182400 [1:10:45<1:55:38, 21.04batch/s, batch_nb=35199, gpu=0, loss=0.062, v_nb=55]\n",
      "Epoch 2:  20%|█▉        | 36412/182400 [1:10:45<1:55:21, 21.09batch/s, batch_nb=35199, gpu=0, loss=0.062, v_nb=55]\n",
      "Epoch 2:  20%|█▉        | 36415/182400 [1:10:45<1:54:51, 21.18batch/s, batch_nb=35199, gpu=0, loss=0.062, v_nb=55]\n",
      "Epoch 2:  20%|█▉        | 36418/182400 [1:10:46<1:55:23, 21.09batch/s, batch_nb=35199, gpu=0, loss=0.062, v_nb=55]\n",
      "Epoch 2:  20%|█▉        | 36421/182400 [1:10:46<1:54:40, 21.22batch/s, batch_nb=35199, gpu=0, loss=0.062, v_nb=55]\n",
      "Epoch 2:  20%|█▉        | 36424/182400 [1:10:46<1:54:52, 21.18batch/s, batch_nb=35199, gpu=0, loss=0.062, v_nb=55]\n",
      "Epoch 2:  20%|█▉        | 36427/182400 [1:10:46<1:55:16, 21.11batch/s, batch_nb=35199, gpu=0, loss=0.062, v_nb=55]\n",
      "Epoch 2:  20%|█▉        | 36430/182400 [1:10:46<1:55:33, 21.05batch/s, batch_nb=35199, gpu=0, loss=0.062, v_nb=55]\n",
      "Epoch 2:  20%|█▉        | 36433/182400 [1:10:46<1:55:02, 21.15batch/s, batch_nb=35199, gpu=0, loss=0.062, v_nb=55]\n",
      "Epoch 2:  20%|█▉        | 36436/182400 [1:10:46<1:55:09, 21.12batch/s, batch_nb=35199, gpu=0, loss=0.062, v_nb=55]\n",
      "Epoch 2:  20%|█▉        | 36439/182400 [1:10:47<1:54:48, 21.19batch/s, batch_nb=35199, gpu=0, loss=0.062, v_nb=55]\n",
      "Epoch 2:  20%|█▉        | 36442/182400 [1:10:47<1:55:23, 21.08batch/s, batch_nb=35199, gpu=0, loss=0.062, v_nb=55]\n",
      "Epoch 2:  20%|█▉        | 36445/182400 [1:10:47<1:55:01, 21.15batch/s, batch_nb=35199, gpu=0, loss=0.062, v_nb=55]\n",
      "Epoch 2:  20%|█▉        | 36448/182400 [1:10:47<1:55:28, 21.06batch/s, batch_nb=35199, gpu=0, loss=0.062, v_nb=55]\n",
      "Epoch 2:  20%|█▉        | 36451/182400 [1:10:47<1:55:08, 21.13batch/s, batch_nb=35199, gpu=0, loss=0.062, v_nb=55]\n",
      "Epoch 2:  20%|█▉        | 36454/182400 [1:10:47<1:55:43, 21.02batch/s, batch_nb=35199, gpu=0, loss=0.062, v_nb=55]\n",
      "Epoch 2:  20%|█▉        | 36457/182400 [1:10:47<1:55:34, 21.05batch/s, batch_nb=35199, gpu=0, loss=0.062, v_nb=55]\n",
      "Epoch 2:  20%|█▉        | 36460/182400 [1:10:48<1:55:21, 21.09batch/s, batch_nb=35199, gpu=0, loss=0.062, v_nb=55]\n",
      "Epoch 2:  20%|█▉        | 36463/182400 [1:10:48<1:55:57, 20.98batch/s, batch_nb=35199, gpu=0, loss=0.062, v_nb=55]\n",
      "Epoch 2:  20%|█▉        | 36466/182400 [1:10:48<1:56:11, 20.93batch/s, batch_nb=35199, gpu=0, loss=0.062, v_nb=55]\n",
      "Epoch 2:  20%|█▉        | 36469/182400 [1:10:48<1:57:02, 20.78batch/s, batch_nb=35199, gpu=0, loss=0.062, v_nb=55]\n",
      "Epoch 2:  20%|█▉        | 36472/182400 [1:10:48<1:57:52, 20.63batch/s, batch_nb=35199, gpu=0, loss=0.062, v_nb=55]\n",
      "Epoch 2:  20%|█▉        | 36475/182400 [1:10:48<1:58:27, 20.53batch/s, batch_nb=35199, gpu=0, loss=0.062, v_nb=55]\n",
      "Epoch 2:  20%|██        | 36480/182400 [1:10:51<1:57:50, 20.64batch/s, batch_nb=35199, gpu=0, loss=0.062, v_nb=55]\n",
      "Epoch 2:  20%|██        | 36834/182400 [1:11:37<5:27:15,  7.41batch/s, batch_nb=35553, gpu=0, loss=0.062, v_nb=55] "
     ]
    },
    {
     "name": "stdout",
     "output_type": "stream",
     "text": [
      "Gradient overflow.  Skipping step, loss scaler 0 reducing loss scale to 4194304.0\n"
     ]
    },
    {
     "name": "stderr",
     "output_type": "stream",
     "text": [
      "Epoch 2:  21%|██▏       | 38974/182400 [1:15:45<4:37:33,  8.61batch/s, batch_nb=37693, gpu=0, loss=0.061, v_nb=55]"
     ]
    },
    {
     "name": "stdout",
     "output_type": "stream",
     "text": [
      "Gradient overflow.  Skipping step, loss scaler 0 reducing loss scale to 4194304.0\n"
     ]
    },
    {
     "name": "stderr",
     "output_type": "stream",
     "text": [
      "Epoch 2:  23%|██▎       | 41118/182400 [1:19:51<4:04:31,  9.63batch/s, batch_nb=39837, gpu=0, loss=0.062, v_nb=55]"
     ]
    },
    {
     "name": "stdout",
     "output_type": "stream",
     "text": [
      "Gradient overflow.  Skipping step, loss scaler 0 reducing loss scale to 4194304.0\n"
     ]
    },
    {
     "name": "stderr",
     "output_type": "stream",
     "text": [
      "Epoch 2:  24%|██▎       | 42954/182400 [1:23:23<4:26:16,  8.73batch/s, batch_nb=41673, gpu=0, loss=0.061, v_nb=55]"
     ]
    },
    {
     "name": "stdout",
     "output_type": "stream",
     "text": [
      "Gradient overflow.  Skipping step, loss scaler 0 reducing loss scale to 2097152.0\n"
     ]
    },
    {
     "name": "stderr",
     "output_type": "stream",
     "text": [
      "Epoch 2:  25%|██▍       | 45280/182400 [1:27:51<3:56:35,  9.66batch/s, batch_nb=43999, gpu=0, loss=0.063, v_nb=55]\n",
      "Validating:   0%|          | 0/320 [00:00<?, ?batch/s]\u001b[A\n",
      "Epoch 2:  25%|██▍       | 45283/182400 [1:27:51<3:16:14, 11.65batch/s, batch_nb=43999, gpu=0, loss=0.063, v_nb=55]\n",
      "Epoch 2:  25%|██▍       | 45286/182400 [1:27:51<2:46:39, 13.71batch/s, batch_nb=43999, gpu=0, loss=0.063, v_nb=55]\n",
      "Epoch 2:  25%|██▍       | 45289/182400 [1:27:51<2:25:58, 15.65batch/s, batch_nb=43999, gpu=0, loss=0.063, v_nb=55]\n",
      "Epoch 2:  25%|██▍       | 45292/182400 [1:27:51<2:11:29, 17.38batch/s, batch_nb=43999, gpu=0, loss=0.063, v_nb=55]\n",
      "Epoch 2:  25%|██▍       | 45295/182400 [1:27:51<2:01:20, 18.83batch/s, batch_nb=43999, gpu=0, loss=0.063, v_nb=55]\n",
      "Epoch 2:  25%|██▍       | 45298/182400 [1:27:51<1:54:13, 20.00batch/s, batch_nb=43999, gpu=0, loss=0.063, v_nb=55]\n",
      "Epoch 2:  25%|██▍       | 45301/182400 [1:27:51<1:49:08, 20.94batch/s, batch_nb=43999, gpu=0, loss=0.063, v_nb=55]\n",
      "Epoch 2:  25%|██▍       | 45304/182400 [1:27:52<1:45:45, 21.60batch/s, batch_nb=43999, gpu=0, loss=0.063, v_nb=55]\n",
      "Epoch 2:  25%|██▍       | 45307/182400 [1:27:52<1:43:18, 22.12batch/s, batch_nb=43999, gpu=0, loss=0.063, v_nb=55]\n",
      "Epoch 2:  25%|██▍       | 45310/182400 [1:27:52<1:41:32, 22.50batch/s, batch_nb=43999, gpu=0, loss=0.063, v_nb=55]\n",
      "Epoch 2:  25%|██▍       | 45313/182400 [1:27:52<1:40:23, 22.76batch/s, batch_nb=43999, gpu=0, loss=0.063, v_nb=55]\n",
      "Epoch 2:  25%|██▍       | 45316/182400 [1:27:52<1:39:23, 22.99batch/s, batch_nb=43999, gpu=0, loss=0.063, v_nb=55]\n",
      "Epoch 2:  25%|██▍       | 45319/182400 [1:27:52<1:38:53, 23.10batch/s, batch_nb=43999, gpu=0, loss=0.063, v_nb=55]\n",
      "Epoch 2:  25%|██▍       | 45322/182400 [1:27:52<1:38:23, 23.22batch/s, batch_nb=43999, gpu=0, loss=0.063, v_nb=55]\n",
      "Epoch 2:  25%|██▍       | 45325/182400 [1:27:53<1:38:07, 23.28batch/s, batch_nb=43999, gpu=0, loss=0.063, v_nb=55]\n",
      "Epoch 2:  25%|██▍       | 45328/182400 [1:27:53<1:38:01, 23.31batch/s, batch_nb=43999, gpu=0, loss=0.063, v_nb=55]\n",
      "Epoch 2:  25%|██▍       | 45331/182400 [1:27:53<1:37:49, 23.35batch/s, batch_nb=43999, gpu=0, loss=0.063, v_nb=55]\n",
      "Epoch 2:  25%|██▍       | 45334/182400 [1:27:53<1:37:49, 23.35batch/s, batch_nb=43999, gpu=0, loss=0.063, v_nb=55]\n",
      "Epoch 2:  25%|██▍       | 45337/182400 [1:27:53<1:37:39, 23.39batch/s, batch_nb=43999, gpu=0, loss=0.063, v_nb=55]\n",
      "Epoch 2:  25%|██▍       | 45340/182400 [1:27:53<1:37:35, 23.41batch/s, batch_nb=43999, gpu=0, loss=0.063, v_nb=55]\n",
      "Epoch 2:  25%|██▍       | 45343/182400 [1:27:53<1:37:35, 23.41batch/s, batch_nb=43999, gpu=0, loss=0.063, v_nb=55]\n",
      "Epoch 2:  25%|██▍       | 45346/182400 [1:27:53<1:39:22, 22.99batch/s, batch_nb=43999, gpu=0, loss=0.063, v_nb=55]\n",
      "Epoch 2:  25%|██▍       | 45349/182400 [1:27:54<1:38:31, 23.19batch/s, batch_nb=43999, gpu=0, loss=0.063, v_nb=55]\n",
      "Epoch 2:  25%|██▍       | 45352/182400 [1:27:54<1:37:53, 23.33batch/s, batch_nb=43999, gpu=0, loss=0.063, v_nb=55]\n",
      "Epoch 2:  25%|██▍       | 45355/182400 [1:27:54<1:37:33, 23.41batch/s, batch_nb=43999, gpu=0, loss=0.063, v_nb=55]\n",
      "Epoch 2:  25%|██▍       | 45358/182400 [1:27:54<1:37:24, 23.45batch/s, batch_nb=43999, gpu=0, loss=0.063, v_nb=55]\n",
      "Epoch 2:  25%|██▍       | 45361/182400 [1:27:54<1:37:05, 23.53batch/s, batch_nb=43999, gpu=0, loss=0.063, v_nb=55]\n",
      "Epoch 2:  25%|██▍       | 45364/182400 [1:27:54<1:37:02, 23.54batch/s, batch_nb=43999, gpu=0, loss=0.063, v_nb=55]\n",
      "Epoch 2:  25%|██▍       | 45367/182400 [1:27:54<1:37:01, 23.54batch/s, batch_nb=43999, gpu=0, loss=0.063, v_nb=55]\n",
      "Epoch 2:  25%|██▍       | 45370/182400 [1:27:54<1:36:58, 23.55batch/s, batch_nb=43999, gpu=0, loss=0.063, v_nb=55]\n",
      "Epoch 2:  25%|██▍       | 45373/182400 [1:27:55<1:36:55, 23.56batch/s, batch_nb=43999, gpu=0, loss=0.063, v_nb=55]\n",
      "Epoch 2:  25%|██▍       | 45376/182400 [1:27:55<1:36:49, 23.59batch/s, batch_nb=43999, gpu=0, loss=0.063, v_nb=55]\n",
      "Epoch 2:  25%|██▍       | 45379/182400 [1:27:55<1:36:49, 23.59batch/s, batch_nb=43999, gpu=0, loss=0.063, v_nb=55]\n",
      "Epoch 2:  25%|██▍       | 45382/182400 [1:27:55<1:36:46, 23.60batch/s, batch_nb=43999, gpu=0, loss=0.063, v_nb=55]\n",
      "Epoch 2:  25%|██▍       | 45385/182400 [1:27:55<1:36:44, 23.60batch/s, batch_nb=43999, gpu=0, loss=0.063, v_nb=55]\n",
      "Epoch 2:  25%|██▍       | 45388/182400 [1:27:55<1:36:52, 23.57batch/s, batch_nb=43999, gpu=0, loss=0.063, v_nb=55]\n",
      "Epoch 2:  25%|██▍       | 45391/182400 [1:27:55<1:36:45, 23.60batch/s, batch_nb=43999, gpu=0, loss=0.063, v_nb=55]\n",
      "Epoch 2:  25%|██▍       | 45394/182400 [1:27:55<1:36:46, 23.59batch/s, batch_nb=43999, gpu=0, loss=0.063, v_nb=55]\n",
      "Epoch 2:  25%|██▍       | 45397/182400 [1:27:56<1:36:50, 23.58batch/s, batch_nb=43999, gpu=0, loss=0.063, v_nb=55]\n",
      "Epoch 2:  25%|██▍       | 45400/182400 [1:27:56<1:36:33, 23.65batch/s, batch_nb=43999, gpu=0, loss=0.063, v_nb=55]\n",
      "Epoch 2:  25%|██▍       | 45403/182400 [1:27:56<1:36:38, 23.63batch/s, batch_nb=43999, gpu=0, loss=0.063, v_nb=55]\n",
      "Epoch 2:  25%|██▍       | 45406/182400 [1:27:56<1:36:37, 23.63batch/s, batch_nb=43999, gpu=0, loss=0.063, v_nb=55]\n",
      "Epoch 2:  25%|██▍       | 45409/182400 [1:27:56<1:36:44, 23.60batch/s, batch_nb=43999, gpu=0, loss=0.063, v_nb=55]\n",
      "Epoch 2:  25%|██▍       | 45412/182400 [1:27:56<1:36:39, 23.62batch/s, batch_nb=43999, gpu=0, loss=0.063, v_nb=55]\n",
      "Epoch 2:  25%|██▍       | 45415/182400 [1:27:56<1:36:42, 23.61batch/s, batch_nb=43999, gpu=0, loss=0.063, v_nb=55]\n",
      "Epoch 2:  25%|██▍       | 45418/182400 [1:27:56<1:36:44, 23.60batch/s, batch_nb=43999, gpu=0, loss=0.063, v_nb=55]\n",
      "Epoch 2:  25%|██▍       | 45421/182400 [1:27:57<1:36:39, 23.62batch/s, batch_nb=43999, gpu=0, loss=0.063, v_nb=55]\n",
      "Epoch 2:  25%|██▍       | 45424/182400 [1:27:57<1:36:47, 23.59batch/s, batch_nb=43999, gpu=0, loss=0.063, v_nb=55]\n",
      "Epoch 2:  25%|██▍       | 45427/182400 [1:27:57<1:36:41, 23.61batch/s, batch_nb=43999, gpu=0, loss=0.063, v_nb=55]\n",
      "Epoch 2:  25%|██▍       | 45430/182400 [1:27:57<1:36:42, 23.61batch/s, batch_nb=43999, gpu=0, loss=0.063, v_nb=55]\n",
      "Epoch 2:  25%|██▍       | 45433/182400 [1:27:57<1:36:45, 23.59batch/s, batch_nb=43999, gpu=0, loss=0.063, v_nb=55]\n",
      "Epoch 2:  25%|██▍       | 45436/182400 [1:27:57<1:36:39, 23.62batch/s, batch_nb=43999, gpu=0, loss=0.063, v_nb=55]\n",
      "Epoch 2:  25%|██▍       | 45439/182400 [1:27:57<1:36:43, 23.60batch/s, batch_nb=43999, gpu=0, loss=0.063, v_nb=55]\n",
      "Epoch 2:  25%|██▍       | 45442/182400 [1:27:57<1:36:41, 23.61batch/s, batch_nb=43999, gpu=0, loss=0.063, v_nb=55]\n",
      "Epoch 2:  25%|██▍       | 45445/182400 [1:27:58<1:36:43, 23.60batch/s, batch_nb=43999, gpu=0, loss=0.063, v_nb=55]\n",
      "Epoch 2:  25%|██▍       | 45448/182400 [1:27:58<1:36:41, 23.61batch/s, batch_nb=43999, gpu=0, loss=0.063, v_nb=55]\n",
      "Epoch 2:  25%|██▍       | 45451/182400 [1:27:58<1:36:39, 23.61batch/s, batch_nb=43999, gpu=0, loss=0.063, v_nb=55]\n",
      "Epoch 2:  25%|██▍       | 45454/182400 [1:27:58<1:36:44, 23.59batch/s, batch_nb=43999, gpu=0, loss=0.063, v_nb=55]\n",
      "Epoch 2:  25%|██▍       | 45457/182400 [1:27:58<1:36:39, 23.61batch/s, batch_nb=43999, gpu=0, loss=0.063, v_nb=55]\n",
      "Epoch 2:  25%|██▍       | 45460/182400 [1:27:58<1:36:40, 23.61batch/s, batch_nb=43999, gpu=0, loss=0.063, v_nb=55]\n",
      "Epoch 2:  25%|██▍       | 45463/182400 [1:27:58<1:36:43, 23.60batch/s, batch_nb=43999, gpu=0, loss=0.063, v_nb=55]\n",
      "Epoch 2:  25%|██▍       | 45466/182400 [1:27:59<1:36:37, 23.62batch/s, batch_nb=43999, gpu=0, loss=0.063, v_nb=55]\n",
      "Epoch 2:  25%|██▍       | 45469/182400 [1:27:59<1:36:41, 23.60batch/s, batch_nb=43999, gpu=0, loss=0.063, v_nb=55]\n",
      "Epoch 2:  25%|██▍       | 45472/182400 [1:27:59<1:36:38, 23.61batch/s, batch_nb=43999, gpu=0, loss=0.063, v_nb=55]\n",
      "Epoch 2:  25%|██▍       | 45475/182400 [1:27:59<1:36:39, 23.61batch/s, batch_nb=43999, gpu=0, loss=0.063, v_nb=55]\n",
      "Epoch 2:  25%|██▍       | 45478/182400 [1:27:59<1:36:47, 23.58batch/s, batch_nb=43999, gpu=0, loss=0.063, v_nb=55]\n",
      "Epoch 2:  25%|██▍       | 45481/182400 [1:27:59<1:36:38, 23.61batch/s, batch_nb=43999, gpu=0, loss=0.063, v_nb=55]\n",
      "Epoch 2:  25%|██▍       | 45484/182400 [1:27:59<1:36:39, 23.61batch/s, batch_nb=43999, gpu=0, loss=0.063, v_nb=55]\n",
      "Epoch 2:  25%|██▍       | 45487/182400 [1:27:59<1:36:30, 23.64batch/s, batch_nb=43999, gpu=0, loss=0.063, v_nb=55]\n"
     ]
    },
    {
     "name": "stderr",
     "output_type": "stream",
     "text": [
      "Epoch 2:  25%|██▍       | 45490/182400 [1:28:00<1:36:19, 23.69batch/s, batch_nb=43999, gpu=0, loss=0.063, v_nb=55]\n",
      "Epoch 2:  25%|██▍       | 45493/182400 [1:28:00<1:36:27, 23.66batch/s, batch_nb=43999, gpu=0, loss=0.063, v_nb=55]\n",
      "Epoch 2:  25%|██▍       | 45496/182400 [1:28:00<1:36:25, 23.66batch/s, batch_nb=43999, gpu=0, loss=0.063, v_nb=55]\n",
      "Epoch 2:  25%|██▍       | 45499/182400 [1:28:00<1:36:30, 23.64batch/s, batch_nb=43999, gpu=0, loss=0.063, v_nb=55]\n",
      "Epoch 2:  25%|██▍       | 45502/182400 [1:28:00<1:36:33, 23.63batch/s, batch_nb=43999, gpu=0, loss=0.063, v_nb=55]\n",
      "Epoch 2:  25%|██▍       | 45505/182400 [1:28:00<1:36:35, 23.62batch/s, batch_nb=43999, gpu=0, loss=0.063, v_nb=55]\n",
      "Epoch 2:  25%|██▍       | 45508/182400 [1:28:00<1:36:41, 23.60batch/s, batch_nb=43999, gpu=0, loss=0.063, v_nb=55]\n",
      "Epoch 2:  25%|██▍       | 45511/182400 [1:28:00<1:36:37, 23.61batch/s, batch_nb=43999, gpu=0, loss=0.063, v_nb=55]\n",
      "Epoch 2:  25%|██▍       | 45514/182400 [1:28:01<1:36:41, 23.59batch/s, batch_nb=43999, gpu=0, loss=0.063, v_nb=55]\n",
      "Epoch 2:  25%|██▍       | 45517/182400 [1:28:01<1:36:37, 23.61batch/s, batch_nb=43999, gpu=0, loss=0.063, v_nb=55]\n",
      "Epoch 2:  25%|██▍       | 45520/182400 [1:28:01<1:36:37, 23.61batch/s, batch_nb=43999, gpu=0, loss=0.063, v_nb=55]\n",
      "Epoch 2:  25%|██▍       | 45523/182400 [1:28:01<1:36:29, 23.64batch/s, batch_nb=43999, gpu=0, loss=0.063, v_nb=55]\n",
      "Epoch 2:  25%|██▍       | 45526/182400 [1:28:01<1:36:14, 23.70batch/s, batch_nb=43999, gpu=0, loss=0.063, v_nb=55]\n",
      "Epoch 2:  25%|██▍       | 45529/182400 [1:28:01<1:36:12, 23.71batch/s, batch_nb=43999, gpu=0, loss=0.063, v_nb=55]\n",
      "Epoch 2:  25%|██▍       | 45532/182400 [1:28:01<1:36:08, 23.73batch/s, batch_nb=43999, gpu=0, loss=0.063, v_nb=55]\n",
      "Epoch 2:  25%|██▍       | 45535/182400 [1:28:01<1:36:04, 23.74batch/s, batch_nb=43999, gpu=0, loss=0.063, v_nb=55]\n",
      "Epoch 2:  25%|██▍       | 45538/182400 [1:28:02<1:35:58, 23.77batch/s, batch_nb=43999, gpu=0, loss=0.063, v_nb=55]\n",
      "Epoch 2:  25%|██▍       | 45541/182400 [1:28:02<1:35:52, 23.79batch/s, batch_nb=43999, gpu=0, loss=0.063, v_nb=55]\n",
      "Epoch 2:  25%|██▍       | 45544/182400 [1:28:02<1:35:56, 23.77batch/s, batch_nb=43999, gpu=0, loss=0.063, v_nb=55]\n",
      "Epoch 2:  25%|██▍       | 45547/182400 [1:28:02<1:35:57, 23.77batch/s, batch_nb=43999, gpu=0, loss=0.063, v_nb=55]\n",
      "Epoch 2:  25%|██▍       | 45550/182400 [1:28:02<1:35:57, 23.77batch/s, batch_nb=43999, gpu=0, loss=0.063, v_nb=55]\n",
      "Epoch 2:  25%|██▍       | 45553/182400 [1:28:02<1:35:55, 23.78batch/s, batch_nb=43999, gpu=0, loss=0.063, v_nb=55]\n",
      "Epoch 2:  25%|██▍       | 45556/182400 [1:28:02<1:35:46, 23.82batch/s, batch_nb=43999, gpu=0, loss=0.063, v_nb=55]\n",
      "Epoch 2:  25%|██▍       | 45559/182400 [1:28:02<1:35:56, 23.77batch/s, batch_nb=43999, gpu=0, loss=0.063, v_nb=55]\n",
      "Epoch 2:  25%|██▍       | 45562/182400 [1:28:03<1:35:50, 23.80batch/s, batch_nb=43999, gpu=0, loss=0.063, v_nb=55]\n",
      "Epoch 2:  25%|██▍       | 45565/182400 [1:28:03<1:35:52, 23.79batch/s, batch_nb=43999, gpu=0, loss=0.063, v_nb=55]\n",
      "Epoch 2:  25%|██▍       | 45568/182400 [1:28:03<1:36:01, 23.75batch/s, batch_nb=43999, gpu=0, loss=0.063, v_nb=55]\n",
      "Epoch 2:  25%|██▍       | 45571/182400 [1:28:03<1:36:31, 23.62batch/s, batch_nb=43999, gpu=0, loss=0.063, v_nb=55]\n",
      "Epoch 2:  25%|██▍       | 45574/182400 [1:28:03<1:36:24, 23.65batch/s, batch_nb=43999, gpu=0, loss=0.063, v_nb=55]\n",
      "Epoch 2:  25%|██▍       | 45577/182400 [1:28:03<1:36:14, 23.69batch/s, batch_nb=43999, gpu=0, loss=0.063, v_nb=55]\n",
      "Epoch 2:  25%|██▍       | 45580/182400 [1:28:03<1:36:05, 23.73batch/s, batch_nb=43999, gpu=0, loss=0.063, v_nb=55]\n",
      "Epoch 2:  25%|██▍       | 45583/182400 [1:28:03<1:36:11, 23.71batch/s, batch_nb=43999, gpu=0, loss=0.063, v_nb=55]\n",
      "Epoch 2:  25%|██▍       | 45586/182400 [1:28:04<1:35:55, 23.77batch/s, batch_nb=43999, gpu=0, loss=0.063, v_nb=55]\n",
      "Epoch 2:  25%|██▍       | 45589/182400 [1:28:04<1:36:01, 23.75batch/s, batch_nb=43999, gpu=0, loss=0.063, v_nb=55]\n",
      "Epoch 2:  25%|██▍       | 45592/182400 [1:28:04<1:35:53, 23.78batch/s, batch_nb=43999, gpu=0, loss=0.063, v_nb=55]\n",
      "Epoch 2:  25%|██▍       | 45595/182400 [1:28:04<1:35:56, 23.77batch/s, batch_nb=43999, gpu=0, loss=0.063, v_nb=55]\n",
      "Epoch 2:  25%|██▌       | 45600/182400 [1:28:06<1:35:57, 23.76batch/s, batch_nb=43999, gpu=0, loss=0.063, v_nb=55]\n",
      "Epoch 2:  26%|██▌       | 47714/182400 [1:32:10<4:31:50,  8.26batch/s, batch_nb=46113, gpu=0, loss=0.063, v_nb=55]"
     ]
    },
    {
     "name": "stdout",
     "output_type": "stream",
     "text": [
      "Gradient overflow.  Skipping step, loss scaler 0 reducing loss scale to 4194304.0\n"
     ]
    },
    {
     "name": "stderr",
     "output_type": "stream",
     "text": [
      "Epoch 2:  27%|██▋       | 49850/182400 [1:36:16<3:43:47,  9.87batch/s, batch_nb=48249, gpu=0, loss=0.061, v_nb=55]"
     ]
    },
    {
     "name": "stdout",
     "output_type": "stream",
     "text": [
      "Gradient overflow.  Skipping step, loss scaler 0 reducing loss scale to 4194304.0\n"
     ]
    },
    {
     "name": "stderr",
     "output_type": "stream",
     "text": [
      "Epoch 2:  28%|██▊       | 51826/182400 [1:40:05<3:59:15,  9.10batch/s, batch_nb=50225, gpu=0, loss=0.062, v_nb=55]"
     ]
    },
    {
     "name": "stdout",
     "output_type": "stream",
     "text": [
      "Gradient overflow.  Skipping step, loss scaler 0 reducing loss scale to 2097152.0\n"
     ]
    },
    {
     "name": "stderr",
     "output_type": "stream",
     "text": [
      "Epoch 2:  30%|██▉       | 54400/182400 [1:45:02<3:40:11,  9.69batch/s, batch_nb=52799, gpu=0, loss=0.063, v_nb=55]\n",
      "Validating:   0%|          | 0/320 [00:00<?, ?batch/s]\u001b[A\n",
      "Epoch 2:  30%|██▉       | 54403/182400 [1:45:02<3:02:18, 11.70batch/s, batch_nb=52799, gpu=0, loss=0.063, v_nb=55]\n",
      "Epoch 2:  30%|██▉       | 54406/182400 [1:45:02<2:34:23, 13.82batch/s, batch_nb=52799, gpu=0, loss=0.063, v_nb=55]\n",
      "Epoch 2:  30%|██▉       | 54409/182400 [1:45:03<2:14:55, 15.81batch/s, batch_nb=52799, gpu=0, loss=0.063, v_nb=55]\n",
      "Epoch 2:  30%|██▉       | 54412/182400 [1:45:03<2:01:24, 17.57batch/s, batch_nb=52799, gpu=0, loss=0.063, v_nb=55]\n",
      "Epoch 2:  30%|██▉       | 54415/182400 [1:45:03<1:51:50, 19.07batch/s, batch_nb=52799, gpu=0, loss=0.063, v_nb=55]\n",
      "Epoch 2:  30%|██▉       | 54418/182400 [1:45:03<1:45:15, 20.26batch/s, batch_nb=52799, gpu=0, loss=0.063, v_nb=55]\n",
      "Epoch 2:  30%|██▉       | 54421/182400 [1:45:03<1:40:40, 21.19batch/s, batch_nb=52799, gpu=0, loss=0.063, v_nb=55]\n",
      "Epoch 2:  30%|██▉       | 54424/182400 [1:45:03<1:37:20, 21.91batch/s, batch_nb=52799, gpu=0, loss=0.063, v_nb=55]\n",
      "Epoch 2:  30%|██▉       | 54427/182400 [1:45:03<1:35:05, 22.43batch/s, batch_nb=52799, gpu=0, loss=0.063, v_nb=55]\n",
      "Epoch 2:  30%|██▉       | 54430/182400 [1:45:03<1:33:31, 22.81batch/s, batch_nb=52799, gpu=0, loss=0.063, v_nb=55]\n",
      "Epoch 2:  30%|██▉       | 54433/182400 [1:45:04<1:32:23, 23.08batch/s, batch_nb=52799, gpu=0, loss=0.063, v_nb=55]\n",
      "Epoch 2:  30%|██▉       | 54436/182400 [1:45:04<1:31:30, 23.31batch/s, batch_nb=52799, gpu=0, loss=0.063, v_nb=55]\n",
      "Epoch 2:  30%|██▉       | 54439/182400 [1:45:04<1:30:55, 23.45batch/s, batch_nb=52799, gpu=0, loss=0.063, v_nb=55]\n",
      "Epoch 2:  30%|██▉       | 54442/182400 [1:45:04<1:30:37, 23.53batch/s, batch_nb=52799, gpu=0, loss=0.063, v_nb=55]\n",
      "Epoch 2:  30%|██▉       | 54445/182400 [1:45:04<1:30:22, 23.60batch/s, batch_nb=52799, gpu=0, loss=0.063, v_nb=55]\n",
      "Epoch 2:  30%|██▉       | 54448/182400 [1:45:04<1:30:14, 23.63batch/s, batch_nb=52799, gpu=0, loss=0.063, v_nb=55]\n",
      "Epoch 2:  30%|██▉       | 54451/182400 [1:45:04<1:30:20, 23.60batch/s, batch_nb=52799, gpu=0, loss=0.063, v_nb=55]\n",
      "Epoch 2:  30%|██▉       | 54454/182400 [1:45:04<1:30:09, 23.65batch/s, batch_nb=52799, gpu=0, loss=0.063, v_nb=55]\n",
      "Epoch 2:  30%|██▉       | 54457/182400 [1:45:05<1:30:02, 23.68batch/s, batch_nb=52799, gpu=0, loss=0.063, v_nb=55]\n",
      "Epoch 2:  30%|██▉       | 54460/182400 [1:45:05<1:29:53, 23.72batch/s, batch_nb=52799, gpu=0, loss=0.063, v_nb=55]\n",
      "Epoch 2:  30%|██▉       | 54463/182400 [1:45:05<1:29:49, 23.74batch/s, batch_nb=52799, gpu=0, loss=0.063, v_nb=55]\n",
      "Epoch 2:  30%|██▉       | 54466/182400 [1:45:05<1:29:45, 23.76batch/s, batch_nb=52799, gpu=0, loss=0.063, v_nb=55]\n",
      "Epoch 2:  30%|██▉       | 54469/182400 [1:45:05<1:29:40, 23.78batch/s, batch_nb=52799, gpu=0, loss=0.063, v_nb=55]\n",
      "Epoch 2:  30%|██▉       | 54472/182400 [1:45:05<1:29:39, 23.78batch/s, batch_nb=52799, gpu=0, loss=0.063, v_nb=55]\n",
      "Epoch 2:  30%|██▉       | 54475/182400 [1:45:05<1:29:45, 23.75batch/s, batch_nb=52799, gpu=0, loss=0.063, v_nb=55]\n",
      "Epoch 2:  30%|██▉       | 54478/182400 [1:45:05<1:29:38, 23.79batch/s, batch_nb=52799, gpu=0, loss=0.063, v_nb=55]\n",
      "Epoch 2:  30%|██▉       | 54481/182400 [1:45:06<1:29:43, 23.76batch/s, batch_nb=52799, gpu=0, loss=0.063, v_nb=55]\n",
      "Epoch 2:  30%|██▉       | 54484/182400 [1:45:06<1:30:11, 23.64batch/s, batch_nb=52799, gpu=0, loss=0.063, v_nb=55]\n",
      "Epoch 2:  30%|██▉       | 54487/182400 [1:45:06<1:30:23, 23.59batch/s, batch_nb=52799, gpu=0, loss=0.063, v_nb=55]\n",
      "Epoch 2:  30%|██▉       | 54490/182400 [1:45:06<1:31:10, 23.38batch/s, batch_nb=52799, gpu=0, loss=0.063, v_nb=55]\n",
      "Epoch 2:  30%|██▉       | 54493/182400 [1:45:06<1:32:55, 22.94batch/s, batch_nb=52799, gpu=0, loss=0.063, v_nb=55]\n",
      "Epoch 2:  30%|██▉       | 54496/182400 [1:45:06<1:34:29, 22.56batch/s, batch_nb=52799, gpu=0, loss=0.063, v_nb=55]\n",
      "Epoch 2:  30%|██▉       | 54499/182400 [1:45:06<1:35:31, 22.31batch/s, batch_nb=52799, gpu=0, loss=0.063, v_nb=55]\n",
      "Epoch 2:  30%|██▉       | 54502/182400 [1:45:06<1:33:50, 22.72batch/s, batch_nb=52799, gpu=0, loss=0.063, v_nb=55]\n",
      "Epoch 2:  30%|██▉       | 54505/182400 [1:45:07<1:32:34, 23.03batch/s, batch_nb=52799, gpu=0, loss=0.063, v_nb=55]\n",
      "Epoch 2:  30%|██▉       | 54508/182400 [1:45:07<1:31:39, 23.26batch/s, batch_nb=52799, gpu=0, loss=0.063, v_nb=55]\n",
      "Epoch 2:  30%|██▉       | 54511/182400 [1:45:07<1:31:12, 23.37batch/s, batch_nb=52799, gpu=0, loss=0.063, v_nb=55]\n",
      "Epoch 2:  30%|██▉       | 54514/182400 [1:45:07<1:30:42, 23.50batch/s, batch_nb=52799, gpu=0, loss=0.063, v_nb=55]\n",
      "Epoch 2:  30%|██▉       | 54517/182400 [1:45:07<1:30:38, 23.51batch/s, batch_nb=52799, gpu=0, loss=0.063, v_nb=55]\n",
      "Epoch 2:  30%|██▉       | 54520/182400 [1:45:07<1:30:36, 23.52batch/s, batch_nb=52799, gpu=0, loss=0.063, v_nb=55]\n",
      "Epoch 2:  30%|██▉       | 54523/182400 [1:45:07<1:30:30, 23.55batch/s, batch_nb=52799, gpu=0, loss=0.063, v_nb=55]\n",
      "Epoch 2:  30%|██▉       | 54526/182400 [1:45:08<1:30:25, 23.57batch/s, batch_nb=52799, gpu=0, loss=0.063, v_nb=55]\n",
      "Epoch 2:  30%|██▉       | 54529/182400 [1:45:08<1:30:20, 23.59batch/s, batch_nb=52799, gpu=0, loss=0.063, v_nb=55]\n",
      "Epoch 2:  30%|██▉       | 54532/182400 [1:45:08<1:30:17, 23.60batch/s, batch_nb=52799, gpu=0, loss=0.063, v_nb=55]\n",
      "Epoch 2:  30%|██▉       | 54535/182400 [1:45:08<1:30:17, 23.60batch/s, batch_nb=52799, gpu=0, loss=0.063, v_nb=55]\n",
      "Epoch 2:  30%|██▉       | 54538/182400 [1:45:08<1:30:14, 23.61batch/s, batch_nb=52799, gpu=0, loss=0.063, v_nb=55]\n",
      "Epoch 2:  30%|██▉       | 54541/182400 [1:45:08<1:30:15, 23.61batch/s, batch_nb=52799, gpu=0, loss=0.063, v_nb=55]\n",
      "Epoch 2:  30%|██▉       | 54544/182400 [1:45:08<1:30:15, 23.61batch/s, batch_nb=52799, gpu=0, loss=0.063, v_nb=55]\n",
      "Epoch 2:  30%|██▉       | 54547/182400 [1:45:08<1:30:19, 23.59batch/s, batch_nb=52799, gpu=0, loss=0.063, v_nb=55]\n",
      "Epoch 2:  30%|██▉       | 54550/182400 [1:45:09<1:30:17, 23.60batch/s, batch_nb=52799, gpu=0, loss=0.063, v_nb=55]\n",
      "Epoch 2:  30%|██▉       | 54553/182400 [1:45:09<1:30:13, 23.62batch/s, batch_nb=52799, gpu=0, loss=0.063, v_nb=55]\n",
      "Epoch 2:  30%|██▉       | 54556/182400 [1:45:09<1:30:14, 23.61batch/s, batch_nb=52799, gpu=0, loss=0.063, v_nb=55]\n",
      "Epoch 2:  30%|██▉       | 54559/182400 [1:45:09<1:30:38, 23.51batch/s, batch_nb=52799, gpu=0, loss=0.063, v_nb=55]\n",
      "Epoch 2:  30%|██▉       | 54562/182400 [1:45:09<1:30:25, 23.56batch/s, batch_nb=52799, gpu=0, loss=0.063, v_nb=55]\n",
      "Epoch 2:  30%|██▉       | 54565/182400 [1:45:09<1:30:09, 23.63batch/s, batch_nb=52799, gpu=0, loss=0.063, v_nb=55]\n",
      "Epoch 2:  30%|██▉       | 54568/182400 [1:45:09<1:29:56, 23.69batch/s, batch_nb=52799, gpu=0, loss=0.063, v_nb=55]\n",
      "Epoch 2:  30%|██▉       | 54571/182400 [1:45:09<1:29:54, 23.69batch/s, batch_nb=52799, gpu=0, loss=0.063, v_nb=55]\n",
      "Epoch 2:  30%|██▉       | 54574/182400 [1:45:10<1:29:44, 23.74batch/s, batch_nb=52799, gpu=0, loss=0.063, v_nb=55]\n",
      "Epoch 2:  30%|██▉       | 54577/182400 [1:45:10<1:29:42, 23.75batch/s, batch_nb=52799, gpu=0, loss=0.063, v_nb=55]\n",
      "Epoch 2:  30%|██▉       | 54580/182400 [1:45:10<1:29:50, 23.71batch/s, batch_nb=52799, gpu=0, loss=0.063, v_nb=55]\n",
      "Epoch 2:  30%|██▉       | 54583/182400 [1:45:10<1:29:52, 23.70batch/s, batch_nb=52799, gpu=0, loss=0.063, v_nb=55]\n",
      "Epoch 2:  30%|██▉       | 54586/182400 [1:45:10<1:29:49, 23.72batch/s, batch_nb=52799, gpu=0, loss=0.063, v_nb=55]\n",
      "Epoch 2:  30%|██▉       | 54589/182400 [1:45:10<1:29:41, 23.75batch/s, batch_nb=52799, gpu=0, loss=0.063, v_nb=55]\n",
      "Epoch 2:  30%|██▉       | 54592/182400 [1:45:10<1:29:39, 23.76batch/s, batch_nb=52799, gpu=0, loss=0.063, v_nb=55]\n",
      "Epoch 2:  30%|██▉       | 54595/182400 [1:45:10<1:29:38, 23.76batch/s, batch_nb=52799, gpu=0, loss=0.063, v_nb=55]\n",
      "Epoch 2:  30%|██▉       | 54598/182400 [1:45:11<1:29:35, 23.78batch/s, batch_nb=52799, gpu=0, loss=0.063, v_nb=55]\n",
      "Epoch 2:  30%|██▉       | 54601/182400 [1:45:11<1:29:37, 23.76batch/s, batch_nb=52799, gpu=0, loss=0.063, v_nb=55]\n",
      "Epoch 2:  30%|██▉       | 54604/182400 [1:45:11<1:29:30, 23.80batch/s, batch_nb=52799, gpu=0, loss=0.063, v_nb=55]\n",
      "Epoch 2:  30%|██▉       | 54607/182400 [1:45:11<1:29:33, 23.78batch/s, batch_nb=52799, gpu=0, loss=0.063, v_nb=55]\n"
     ]
    },
    {
     "name": "stderr",
     "output_type": "stream",
     "text": [
      "Epoch 2:  30%|██▉       | 54610/182400 [1:45:11<1:29:39, 23.76batch/s, batch_nb=52799, gpu=0, loss=0.063, v_nb=55]\n",
      "Epoch 2:  30%|██▉       | 54613/182400 [1:45:11<1:29:39, 23.76batch/s, batch_nb=52799, gpu=0, loss=0.063, v_nb=55]\n",
      "Epoch 2:  30%|██▉       | 54616/182400 [1:45:11<1:30:13, 23.61batch/s, batch_nb=52799, gpu=0, loss=0.063, v_nb=55]\n",
      "Epoch 2:  30%|██▉       | 54619/182400 [1:45:11<1:30:28, 23.54batch/s, batch_nb=52799, gpu=0, loss=0.063, v_nb=55]\n",
      "Epoch 2:  30%|██▉       | 54622/182400 [1:45:12<1:30:33, 23.52batch/s, batch_nb=52799, gpu=0, loss=0.063, v_nb=55]\n",
      "Epoch 2:  30%|██▉       | 54625/182400 [1:45:12<1:30:23, 23.56batch/s, batch_nb=52799, gpu=0, loss=0.063, v_nb=55]\n",
      "Epoch 2:  30%|██▉       | 54628/182400 [1:45:12<1:30:07, 23.63batch/s, batch_nb=52799, gpu=0, loss=0.063, v_nb=55]\n",
      "Epoch 2:  30%|██▉       | 54631/182400 [1:45:12<1:30:06, 23.63batch/s, batch_nb=52799, gpu=0, loss=0.063, v_nb=55]\n",
      "Epoch 2:  30%|██▉       | 54634/182400 [1:45:12<1:29:52, 23.69batch/s, batch_nb=52799, gpu=0, loss=0.063, v_nb=55]\n",
      "Epoch 2:  30%|██▉       | 54637/182400 [1:45:12<1:29:48, 23.71batch/s, batch_nb=52799, gpu=0, loss=0.063, v_nb=55]\n",
      "Epoch 2:  30%|██▉       | 54640/182400 [1:45:12<1:29:41, 23.74batch/s, batch_nb=52799, gpu=0, loss=0.063, v_nb=55]\n",
      "Epoch 2:  30%|██▉       | 54643/182400 [1:45:12<1:29:42, 23.73batch/s, batch_nb=52799, gpu=0, loss=0.063, v_nb=55]\n",
      "Epoch 2:  30%|██▉       | 54646/182400 [1:45:13<1:30:06, 23.63batch/s, batch_nb=52799, gpu=0, loss=0.063, v_nb=55]\n",
      "Epoch 2:  30%|██▉       | 54649/182400 [1:45:13<1:29:59, 23.66batch/s, batch_nb=52799, gpu=0, loss=0.063, v_nb=55]\n",
      "Epoch 2:  30%|██▉       | 54652/182400 [1:45:13<1:30:08, 23.62batch/s, batch_nb=52799, gpu=0, loss=0.063, v_nb=55]\n",
      "Epoch 2:  30%|██▉       | 54655/182400 [1:45:13<1:30:21, 23.56batch/s, batch_nb=52799, gpu=0, loss=0.063, v_nb=55]\n",
      "Epoch 2:  30%|██▉       | 54658/182400 [1:45:13<1:30:29, 23.53batch/s, batch_nb=52799, gpu=0, loss=0.063, v_nb=55]\n",
      "Epoch 2:  30%|██▉       | 54661/182400 [1:45:13<1:30:33, 23.51batch/s, batch_nb=52799, gpu=0, loss=0.063, v_nb=55]\n",
      "Epoch 2:  30%|██▉       | 54664/182400 [1:45:13<1:30:19, 23.57batch/s, batch_nb=52799, gpu=0, loss=0.063, v_nb=55]\n",
      "Epoch 2:  30%|██▉       | 54667/182400 [1:45:13<1:30:05, 23.63batch/s, batch_nb=52799, gpu=0, loss=0.063, v_nb=55]\n",
      "Epoch 2:  30%|██▉       | 54670/182400 [1:45:14<1:30:00, 23.65batch/s, batch_nb=52799, gpu=0, loss=0.063, v_nb=55]\n",
      "Epoch 2:  30%|██▉       | 54673/182400 [1:45:14<1:29:50, 23.70batch/s, batch_nb=52799, gpu=0, loss=0.063, v_nb=55]\n",
      "Epoch 2:  30%|██▉       | 54676/182400 [1:45:14<1:29:39, 23.74batch/s, batch_nb=52799, gpu=0, loss=0.063, v_nb=55]\n",
      "Epoch 2:  30%|██▉       | 54679/182400 [1:45:14<1:29:34, 23.76batch/s, batch_nb=52799, gpu=0, loss=0.063, v_nb=55]\n",
      "Epoch 2:  30%|██▉       | 54682/182400 [1:45:14<1:29:36, 23.76batch/s, batch_nb=52799, gpu=0, loss=0.063, v_nb=55]\n",
      "Epoch 2:  30%|██▉       | 54685/182400 [1:45:14<1:29:33, 23.77batch/s, batch_nb=52799, gpu=0, loss=0.063, v_nb=55]\n",
      "Epoch 2:  30%|██▉       | 54688/182400 [1:45:14<1:29:26, 23.80batch/s, batch_nb=52799, gpu=0, loss=0.063, v_nb=55]\n",
      "Epoch 2:  30%|██▉       | 54691/182400 [1:45:14<1:29:30, 23.78batch/s, batch_nb=52799, gpu=0, loss=0.063, v_nb=55]\n",
      "Epoch 2:  30%|██▉       | 54694/182400 [1:45:15<1:29:24, 23.81batch/s, batch_nb=52799, gpu=0, loss=0.063, v_nb=55]\n",
      "Epoch 2:  30%|██▉       | 54697/182400 [1:45:15<1:29:22, 23.81batch/s, batch_nb=52799, gpu=0, loss=0.063, v_nb=55]\n",
      "Epoch 2:  30%|██▉       | 54700/182400 [1:45:15<1:29:31, 23.77batch/s, batch_nb=52799, gpu=0, loss=0.063, v_nb=55]\n",
      "Epoch 2:  30%|██▉       | 54703/182400 [1:45:15<1:29:31, 23.77batch/s, batch_nb=52799, gpu=0, loss=0.063, v_nb=55]\n",
      "Epoch 2:  30%|██▉       | 54706/182400 [1:45:15<1:29:33, 23.76batch/s, batch_nb=52799, gpu=0, loss=0.063, v_nb=55]\n",
      "Epoch 2:  30%|██▉       | 54709/182400 [1:45:15<1:29:34, 23.76batch/s, batch_nb=52799, gpu=0, loss=0.063, v_nb=55]\n",
      "Epoch 2:  30%|██▉       | 54712/182400 [1:45:15<1:29:38, 23.74batch/s, batch_nb=52799, gpu=0, loss=0.063, v_nb=55]\n",
      "Epoch 2:  30%|██▉       | 54715/182400 [1:45:15<1:29:37, 23.74batch/s, batch_nb=52799, gpu=0, loss=0.063, v_nb=55]\n",
      "Epoch 2:  30%|███       | 54720/182400 [1:45:17<1:29:30, 23.78batch/s, batch_nb=52799, gpu=0, loss=0.063, v_nb=55]\n",
      "Epoch 2:  31%|███       | 56198/182400 [1:48:09<3:39:59,  9.56batch/s, batch_nb=54277, gpu=0, loss=0.062, v_nb=55]"
     ]
    },
    {
     "name": "stdout",
     "output_type": "stream",
     "text": [
      "Gradient overflow.  Skipping step, loss scaler 0 reducing loss scale to 4194304.0\n"
     ]
    },
    {
     "name": "stderr",
     "output_type": "stream",
     "text": [
      "Epoch 2:  32%|███▏      | 58914/182400 [1:53:24<3:58:01,  8.65batch/s, batch_nb=56993, gpu=0, loss=0.062, v_nb=55]"
     ]
    },
    {
     "name": "stdout",
     "output_type": "stream",
     "text": [
      "Gradient overflow.  Skipping step, loss scaler 0 reducing loss scale to 4194304.0\n"
     ]
    },
    {
     "name": "stderr",
     "output_type": "stream",
     "text": [
      "Epoch 2:  33%|███▎      | 60990/182400 [1:57:25<3:23:45,  9.93batch/s, batch_nb=59069, gpu=0, loss=0.063, v_nb=55]"
     ]
    },
    {
     "name": "stdout",
     "output_type": "stream",
     "text": [
      "Gradient overflow.  Skipping step, loss scaler 0 reducing loss scale to 4194304.0\n"
     ]
    },
    {
     "name": "stderr",
     "output_type": "stream",
     "text": [
      "Epoch 2:  34%|███▍      | 62454/182400 [2:00:15<3:53:15,  8.57batch/s, batch_nb=60533, gpu=0, loss=0.061, v_nb=55]"
     ]
    },
    {
     "name": "stdout",
     "output_type": "stream",
     "text": [
      "Gradient overflow.  Skipping step, loss scaler 0 reducing loss scale to 2097152.0\n"
     ]
    },
    {
     "name": "stderr",
     "output_type": "stream",
     "text": [
      "Epoch 2:  35%|███▍      | 63520/182400 [2:02:20<3:26:48,  9.58batch/s, batch_nb=61599, gpu=0, loss=0.061, v_nb=55]\n",
      "Validating:   0%|          | 0/320 [00:00<?, ?batch/s]\u001b[A\n",
      "Epoch 2:  35%|███▍      | 63523/182400 [2:02:20<2:50:59, 11.59batch/s, batch_nb=61599, gpu=0, loss=0.061, v_nb=55]\n",
      "Epoch 2:  35%|███▍      | 63526/182400 [2:02:20<2:25:03, 13.66batch/s, batch_nb=61599, gpu=0, loss=0.061, v_nb=55]\n",
      "Epoch 2:  35%|███▍      | 63529/182400 [2:02:20<2:06:49, 15.62batch/s, batch_nb=61599, gpu=0, loss=0.061, v_nb=55]\n",
      "Epoch 2:  35%|███▍      | 63532/182400 [2:02:20<1:54:07, 17.36batch/s, batch_nb=61599, gpu=0, loss=0.061, v_nb=55]\n",
      "Epoch 2:  35%|███▍      | 63535/182400 [2:02:20<1:45:08, 18.84batch/s, batch_nb=61599, gpu=0, loss=0.061, v_nb=55]\n",
      "Epoch 2:  35%|███▍      | 63538/182400 [2:02:20<1:38:57, 20.02batch/s, batch_nb=61599, gpu=0, loss=0.061, v_nb=55]\n",
      "Epoch 2:  35%|███▍      | 63541/182400 [2:02:20<1:34:40, 20.93batch/s, batch_nb=61599, gpu=0, loss=0.061, v_nb=55]\n",
      "Epoch 2:  35%|███▍      | 63544/182400 [2:02:21<1:31:35, 21.63batch/s, batch_nb=61599, gpu=0, loss=0.061, v_nb=55]\n",
      "Epoch 2:  35%|███▍      | 63547/182400 [2:02:21<1:29:24, 22.15batch/s, batch_nb=61599, gpu=0, loss=0.061, v_nb=55]\n",
      "Epoch 2:  35%|███▍      | 63550/182400 [2:02:21<1:27:53, 22.54batch/s, batch_nb=61599, gpu=0, loss=0.061, v_nb=55]\n",
      "Epoch 2:  35%|███▍      | 63553/182400 [2:02:21<1:26:46, 22.83batch/s, batch_nb=61599, gpu=0, loss=0.061, v_nb=55]\n",
      "Epoch 2:  35%|███▍      | 63556/182400 [2:02:21<1:26:00, 23.03batch/s, batch_nb=61599, gpu=0, loss=0.061, v_nb=55]\n",
      "Epoch 2:  35%|███▍      | 63559/182400 [2:02:21<1:25:27, 23.18batch/s, batch_nb=61599, gpu=0, loss=0.061, v_nb=55]\n",
      "Epoch 2:  35%|███▍      | 63562/182400 [2:02:21<1:24:55, 23.32batch/s, batch_nb=61599, gpu=0, loss=0.061, v_nb=55]\n",
      "Epoch 2:  35%|███▍      | 63565/182400 [2:02:21<1:24:29, 23.44batch/s, batch_nb=61599, gpu=0, loss=0.061, v_nb=55]\n",
      "Epoch 2:  35%|███▍      | 63568/182400 [2:02:22<1:24:15, 23.50batch/s, batch_nb=61599, gpu=0, loss=0.061, v_nb=55]\n",
      "Epoch 2:  35%|███▍      | 63571/182400 [2:02:22<1:24:06, 23.55batch/s, batch_nb=61599, gpu=0, loss=0.061, v_nb=55]\n",
      "Epoch 2:  35%|███▍      | 63574/182400 [2:02:22<1:23:59, 23.58batch/s, batch_nb=61599, gpu=0, loss=0.061, v_nb=55]\n",
      "Epoch 2:  35%|███▍      | 63577/182400 [2:02:22<1:23:55, 23.60batch/s, batch_nb=61599, gpu=0, loss=0.061, v_nb=55]\n",
      "Epoch 2:  35%|███▍      | 63580/182400 [2:02:22<1:23:53, 23.61batch/s, batch_nb=61599, gpu=0, loss=0.061, v_nb=55]\n",
      "Epoch 2:  35%|███▍      | 63583/182400 [2:02:22<1:23:49, 23.62batch/s, batch_nb=61599, gpu=0, loss=0.061, v_nb=55]\n",
      "Epoch 2:  35%|███▍      | 63586/182400 [2:02:22<1:23:47, 23.64batch/s, batch_nb=61599, gpu=0, loss=0.061, v_nb=55]\n",
      "Epoch 2:  35%|███▍      | 63589/182400 [2:02:22<1:23:45, 23.64batch/s, batch_nb=61599, gpu=0, loss=0.061, v_nb=55]\n",
      "Epoch 2:  35%|███▍      | 63592/182400 [2:02:23<1:23:48, 23.63batch/s, batch_nb=61599, gpu=0, loss=0.061, v_nb=55]\n",
      "Epoch 2:  35%|███▍      | 63595/182400 [2:02:23<1:23:48, 23.63batch/s, batch_nb=61599, gpu=0, loss=0.061, v_nb=55]\n",
      "Epoch 2:  35%|███▍      | 63598/182400 [2:02:23<1:23:46, 23.63batch/s, batch_nb=61599, gpu=0, loss=0.061, v_nb=55]\n",
      "Epoch 2:  35%|███▍      | 63601/182400 [2:02:23<1:23:43, 23.65batch/s, batch_nb=61599, gpu=0, loss=0.061, v_nb=55]\n",
      "Epoch 2:  35%|███▍      | 63604/182400 [2:02:23<1:23:40, 23.66batch/s, batch_nb=61599, gpu=0, loss=0.061, v_nb=55]\n",
      "Epoch 2:  35%|███▍      | 63607/182400 [2:02:23<1:23:41, 23.66batch/s, batch_nb=61599, gpu=0, loss=0.061, v_nb=55]\n",
      "Epoch 2:  35%|███▍      | 63610/182400 [2:02:23<1:23:40, 23.66batch/s, batch_nb=61599, gpu=0, loss=0.061, v_nb=55]\n",
      "Epoch 2:  35%|███▍      | 63613/182400 [2:02:23<1:23:54, 23.59batch/s, batch_nb=61599, gpu=0, loss=0.061, v_nb=55]\n",
      "Epoch 2:  35%|███▍      | 63616/182400 [2:02:24<1:23:46, 23.63batch/s, batch_nb=61599, gpu=0, loss=0.061, v_nb=55]\n",
      "Epoch 2:  35%|███▍      | 63619/182400 [2:02:24<1:23:35, 23.68batch/s, batch_nb=61599, gpu=0, loss=0.061, v_nb=55]\n",
      "Epoch 2:  35%|███▍      | 63622/182400 [2:02:24<1:23:29, 23.71batch/s, batch_nb=61599, gpu=0, loss=0.061, v_nb=55]\n",
      "Epoch 2:  35%|███▍      | 63625/182400 [2:02:24<1:23:27, 23.72batch/s, batch_nb=61599, gpu=0, loss=0.061, v_nb=55]\n",
      "Epoch 2:  35%|███▍      | 63628/182400 [2:02:24<1:23:29, 23.71batch/s, batch_nb=61599, gpu=0, loss=0.061, v_nb=55]\n",
      "Epoch 2:  35%|███▍      | 63631/182400 [2:02:24<1:23:44, 23.64batch/s, batch_nb=61599, gpu=0, loss=0.061, v_nb=55]\n",
      "Epoch 2:  35%|███▍      | 63634/182400 [2:02:24<1:23:53, 23.59batch/s, batch_nb=61599, gpu=0, loss=0.061, v_nb=55]\n",
      "Epoch 2:  35%|███▍      | 63637/182400 [2:02:24<1:24:01, 23.56batch/s, batch_nb=61599, gpu=0, loss=0.061, v_nb=55]\n",
      "Epoch 2:  35%|███▍      | 63640/182400 [2:02:25<1:24:04, 23.54batch/s, batch_nb=61599, gpu=0, loss=0.061, v_nb=55]\n",
      "Epoch 2:  35%|███▍      | 63643/182400 [2:02:25<1:24:07, 23.53batch/s, batch_nb=61599, gpu=0, loss=0.061, v_nb=55]\n",
      "Epoch 2:  35%|███▍      | 63646/182400 [2:02:25<1:24:08, 23.52batch/s, batch_nb=61599, gpu=0, loss=0.061, v_nb=55]\n",
      "Epoch 2:  35%|███▍      | 63649/182400 [2:02:25<1:24:08, 23.52batch/s, batch_nb=61599, gpu=0, loss=0.061, v_nb=55]\n",
      "Epoch 2:  35%|███▍      | 63652/182400 [2:02:25<1:24:07, 23.53batch/s, batch_nb=61599, gpu=0, loss=0.061, v_nb=55]\n",
      "Epoch 2:  35%|███▍      | 63655/182400 [2:02:25<1:24:03, 23.54batch/s, batch_nb=61599, gpu=0, loss=0.061, v_nb=55]\n",
      "Epoch 2:  35%|███▍      | 63658/182400 [2:02:25<1:24:08, 23.52batch/s, batch_nb=61599, gpu=0, loss=0.061, v_nb=55]\n",
      "Epoch 2:  35%|███▍      | 63661/182400 [2:02:26<1:24:12, 23.50batch/s, batch_nb=61599, gpu=0, loss=0.061, v_nb=55]\n",
      "Epoch 2:  35%|███▍      | 63664/182400 [2:02:26<1:24:10, 23.51batch/s, batch_nb=61599, gpu=0, loss=0.061, v_nb=55]\n",
      "Epoch 2:  35%|███▍      | 63667/182400 [2:02:26<1:24:11, 23.50batch/s, batch_nb=61599, gpu=0, loss=0.061, v_nb=55]\n",
      "Epoch 2:  35%|███▍      | 63670/182400 [2:02:26<1:24:16, 23.48batch/s, batch_nb=61599, gpu=0, loss=0.061, v_nb=55]\n",
      "Epoch 2:  35%|███▍      | 63673/182400 [2:02:26<1:24:12, 23.50batch/s, batch_nb=61599, gpu=0, loss=0.061, v_nb=55]\n",
      "Epoch 2:  35%|███▍      | 63676/182400 [2:02:26<1:24:27, 23.43batch/s, batch_nb=61599, gpu=0, loss=0.061, v_nb=55]\n",
      "Epoch 2:  35%|███▍      | 63679/182400 [2:02:26<1:24:13, 23.49batch/s, batch_nb=61599, gpu=0, loss=0.061, v_nb=55]\n",
      "Epoch 2:  35%|███▍      | 63682/182400 [2:02:26<1:24:00, 23.55batch/s, batch_nb=61599, gpu=0, loss=0.061, v_nb=55]\n",
      "Epoch 2:  35%|███▍      | 63685/182400 [2:02:27<1:23:55, 23.57batch/s, batch_nb=61599, gpu=0, loss=0.061, v_nb=55]\n",
      "Epoch 2:  35%|███▍      | 63688/182400 [2:02:27<1:23:51, 23.59batch/s, batch_nb=61599, gpu=0, loss=0.061, v_nb=55]\n",
      "Epoch 2:  35%|███▍      | 63691/182400 [2:02:27<1:23:51, 23.59batch/s, batch_nb=61599, gpu=0, loss=0.061, v_nb=55]\n",
      "Epoch 2:  35%|███▍      | 63694/182400 [2:02:27<1:23:58, 23.56batch/s, batch_nb=61599, gpu=0, loss=0.061, v_nb=55]\n",
      "Epoch 2:  35%|███▍      | 63697/182400 [2:02:27<1:24:01, 23.54batch/s, batch_nb=61599, gpu=0, loss=0.061, v_nb=55]\n",
      "Epoch 2:  35%|███▍      | 63700/182400 [2:02:27<1:24:03, 23.53batch/s, batch_nb=61599, gpu=0, loss=0.061, v_nb=55]\n",
      "Epoch 2:  35%|███▍      | 63703/182400 [2:02:27<1:24:12, 23.49batch/s, batch_nb=61599, gpu=0, loss=0.061, v_nb=55]\n",
      "Epoch 2:  35%|███▍      | 63706/182400 [2:02:27<1:24:09, 23.51batch/s, batch_nb=61599, gpu=0, loss=0.061, v_nb=55]\n",
      "Epoch 2:  35%|███▍      | 63709/182400 [2:02:28<1:23:49, 23.60batch/s, batch_nb=61599, gpu=0, loss=0.061, v_nb=55]\n",
      "Epoch 2:  35%|███▍      | 63712/182400 [2:02:28<1:23:44, 23.62batch/s, batch_nb=61599, gpu=0, loss=0.061, v_nb=55]\n",
      "Epoch 2:  35%|███▍      | 63715/182400 [2:02:28<1:23:31, 23.68batch/s, batch_nb=61599, gpu=0, loss=0.061, v_nb=55]\n",
      "Epoch 2:  35%|███▍      | 63718/182400 [2:02:28<1:23:29, 23.69batch/s, batch_nb=61599, gpu=0, loss=0.061, v_nb=55]\n",
      "Epoch 2:  35%|███▍      | 63721/182400 [2:02:28<1:23:31, 23.68batch/s, batch_nb=61599, gpu=0, loss=0.061, v_nb=55]\n",
      "Epoch 2:  35%|███▍      | 63724/182400 [2:02:28<1:23:21, 23.73batch/s, batch_nb=61599, gpu=0, loss=0.061, v_nb=55]\n",
      "Epoch 2:  35%|███▍      | 63727/182400 [2:02:28<1:23:15, 23.76batch/s, batch_nb=61599, gpu=0, loss=0.061, v_nb=55]\n"
     ]
    },
    {
     "name": "stderr",
     "output_type": "stream",
     "text": [
      "Epoch 2:  35%|███▍      | 63730/182400 [2:02:28<1:23:16, 23.75batch/s, batch_nb=61599, gpu=0, loss=0.061, v_nb=55]\n",
      "Epoch 2:  35%|███▍      | 63733/182400 [2:02:29<1:23:14, 23.76batch/s, batch_nb=61599, gpu=0, loss=0.061, v_nb=55]\n",
      "Epoch 2:  35%|███▍      | 63736/182400 [2:02:29<1:23:17, 23.74batch/s, batch_nb=61599, gpu=0, loss=0.061, v_nb=55]\n",
      "Epoch 2:  35%|███▍      | 63739/182400 [2:02:29<1:23:52, 23.58batch/s, batch_nb=61599, gpu=0, loss=0.061, v_nb=55]\n",
      "Epoch 2:  35%|███▍      | 63742/182400 [2:02:29<1:24:03, 23.53batch/s, batch_nb=61599, gpu=0, loss=0.061, v_nb=55]\n",
      "Epoch 2:  35%|███▍      | 63745/182400 [2:02:29<1:24:05, 23.52batch/s, batch_nb=61599, gpu=0, loss=0.061, v_nb=55]\n",
      "Epoch 2:  35%|███▍      | 63748/182400 [2:02:29<1:23:46, 23.61batch/s, batch_nb=61599, gpu=0, loss=0.061, v_nb=55]\n",
      "Epoch 2:  35%|███▍      | 63751/182400 [2:02:29<1:23:37, 23.65batch/s, batch_nb=61599, gpu=0, loss=0.061, v_nb=55]\n",
      "Epoch 2:  35%|███▍      | 63754/182400 [2:02:29<1:23:21, 23.72batch/s, batch_nb=61599, gpu=0, loss=0.061, v_nb=55]\n",
      "Epoch 2:  35%|███▍      | 63757/182400 [2:02:30<1:23:25, 23.70batch/s, batch_nb=61599, gpu=0, loss=0.061, v_nb=55]\n",
      "Epoch 2:  35%|███▍      | 63760/182400 [2:02:30<1:23:21, 23.72batch/s, batch_nb=61599, gpu=0, loss=0.061, v_nb=55]\n",
      "Epoch 2:  35%|███▍      | 63763/182400 [2:02:30<1:23:15, 23.75batch/s, batch_nb=61599, gpu=0, loss=0.061, v_nb=55]\n",
      "Epoch 2:  35%|███▍      | 63766/182400 [2:02:30<1:23:10, 23.77batch/s, batch_nb=61599, gpu=0, loss=0.061, v_nb=55]\n",
      "Epoch 2:  35%|███▍      | 63769/182400 [2:02:30<1:23:09, 23.78batch/s, batch_nb=61599, gpu=0, loss=0.061, v_nb=55]\n",
      "Epoch 2:  35%|███▍      | 63772/182400 [2:02:30<1:23:12, 23.76batch/s, batch_nb=61599, gpu=0, loss=0.061, v_nb=55]\n",
      "Epoch 2:  35%|███▍      | 63775/182400 [2:02:30<1:23:10, 23.77batch/s, batch_nb=61599, gpu=0, loss=0.061, v_nb=55]\n",
      "Epoch 2:  35%|███▍      | 63778/182400 [2:02:30<1:23:11, 23.77batch/s, batch_nb=61599, gpu=0, loss=0.061, v_nb=55]\n",
      "Epoch 2:  35%|███▍      | 63781/182400 [2:02:31<1:23:08, 23.78batch/s, batch_nb=61599, gpu=0, loss=0.061, v_nb=55]\n",
      "Epoch 2:  35%|███▍      | 63784/182400 [2:02:31<1:23:05, 23.79batch/s, batch_nb=61599, gpu=0, loss=0.061, v_nb=55]\n",
      "Epoch 2:  35%|███▍      | 63787/182400 [2:02:31<1:23:07, 23.78batch/s, batch_nb=61599, gpu=0, loss=0.061, v_nb=55]\n",
      "Epoch 2:  35%|███▍      | 63790/182400 [2:02:31<1:23:07, 23.78batch/s, batch_nb=61599, gpu=0, loss=0.061, v_nb=55]\n",
      "Epoch 2:  35%|███▍      | 63793/182400 [2:02:31<1:23:09, 23.77batch/s, batch_nb=61599, gpu=0, loss=0.061, v_nb=55]\n",
      "Epoch 2:  35%|███▍      | 63796/182400 [2:02:31<1:23:09, 23.77batch/s, batch_nb=61599, gpu=0, loss=0.061, v_nb=55]\n",
      "Epoch 2:  35%|███▍      | 63799/182400 [2:02:31<1:23:05, 23.79batch/s, batch_nb=61599, gpu=0, loss=0.061, v_nb=55]\n",
      "Epoch 2:  35%|███▍      | 63802/182400 [2:02:31<1:23:07, 23.78batch/s, batch_nb=61599, gpu=0, loss=0.061, v_nb=55]\n",
      "Epoch 2:  35%|███▍      | 63805/182400 [2:02:32<1:23:08, 23.77batch/s, batch_nb=61599, gpu=0, loss=0.061, v_nb=55]\n",
      "Epoch 2:  35%|███▍      | 63808/182400 [2:02:32<1:23:13, 23.75batch/s, batch_nb=61599, gpu=0, loss=0.061, v_nb=55]\n",
      "Epoch 2:  35%|███▍      | 63811/182400 [2:02:32<1:23:19, 23.72batch/s, batch_nb=61599, gpu=0, loss=0.061, v_nb=55]\n",
      "Epoch 2:  35%|███▍      | 63814/182400 [2:02:32<1:23:15, 23.74batch/s, batch_nb=61599, gpu=0, loss=0.061, v_nb=55]\n",
      "Epoch 2:  35%|███▍      | 63817/182400 [2:02:32<1:23:15, 23.74batch/s, batch_nb=61599, gpu=0, loss=0.061, v_nb=55]\n",
      "Epoch 2:  35%|███▍      | 63820/182400 [2:02:32<1:23:15, 23.74batch/s, batch_nb=61599, gpu=0, loss=0.061, v_nb=55]\n",
      "Epoch 2:  35%|███▍      | 63823/182400 [2:02:32<1:23:13, 23.75batch/s, batch_nb=61599, gpu=0, loss=0.061, v_nb=55]\n",
      "Epoch 2:  35%|███▍      | 63826/182400 [2:02:32<1:23:12, 23.75batch/s, batch_nb=61599, gpu=0, loss=0.061, v_nb=55]\n",
      "Epoch 2:  35%|███▍      | 63829/182400 [2:02:33<1:23:11, 23.76batch/s, batch_nb=61599, gpu=0, loss=0.061, v_nb=55]\n",
      "Epoch 2:  35%|███▍      | 63832/182400 [2:02:33<1:23:15, 23.74batch/s, batch_nb=61599, gpu=0, loss=0.061, v_nb=55]\n",
      "Epoch 2:  35%|███▍      | 63835/182400 [2:02:33<1:23:15, 23.73batch/s, batch_nb=61599, gpu=0, loss=0.061, v_nb=55]\n",
      "Epoch 2:  35%|███▌      | 63840/182400 [2:02:35<1:23:18, 23.72batch/s, batch_nb=61599, gpu=0, loss=0.061, v_nb=55]\n",
      "Epoch 2:  36%|███▋      | 66540/182400 [2:07:53<3:20:13,  9.64batch/s, batch_nb=64299, gpu=0, loss=0.061, v_nb=55] "
     ]
    },
    {
     "name": "stdout",
     "output_type": "stream",
     "text": [
      "Gradient overflow.  Skipping step, loss scaler 0 reducing loss scale to 2097152.0\n"
     ]
    },
    {
     "name": "stderr",
     "output_type": "stream",
     "text": [
      "Epoch 2:  39%|███▉      | 70814/182400 [2:16:19<3:38:55,  8.50batch/s, batch_nb=68573, gpu=0, loss=0.061, v_nb=55]"
     ]
    },
    {
     "name": "stdout",
     "output_type": "stream",
     "text": [
      "Gradient overflow.  Skipping step, loss scaler 0 reducing loss scale to 4194304.0\n"
     ]
    },
    {
     "name": "stderr",
     "output_type": "stream",
     "text": [
      "Epoch 2:  40%|███▉      | 72640/182400 [2:19:57<3:10:55,  9.58batch/s, batch_nb=70399, gpu=0, loss=0.062, v_nb=55]\n",
      "Validating:   0%|          | 0/320 [00:00<?, ?batch/s]\u001b[A\n",
      "Epoch 2:  40%|███▉      | 72643/182400 [2:19:57<2:37:51, 11.59batch/s, batch_nb=70399, gpu=0, loss=0.062, v_nb=55]\n",
      "Epoch 2:  40%|███▉      | 72646/182400 [2:19:57<2:13:42, 13.68batch/s, batch_nb=70399, gpu=0, loss=0.062, v_nb=55]\n",
      "Epoch 2:  40%|███▉      | 72649/182400 [2:19:57<1:56:43, 15.67batch/s, batch_nb=70399, gpu=0, loss=0.062, v_nb=55]\n",
      "Epoch 2:  40%|███▉      | 72652/182400 [2:19:57<1:44:56, 17.43batch/s, batch_nb=70399, gpu=0, loss=0.062, v_nb=55]\n",
      "Epoch 2:  40%|███▉      | 72655/182400 [2:19:57<1:36:37, 18.93batch/s, batch_nb=70399, gpu=0, loss=0.062, v_nb=55]\n",
      "Epoch 2:  40%|███▉      | 72658/182400 [2:19:58<1:30:46, 20.15batch/s, batch_nb=70399, gpu=0, loss=0.062, v_nb=55]\n",
      "Epoch 2:  40%|███▉      | 72661/182400 [2:19:58<1:26:38, 21.11batch/s, batch_nb=70399, gpu=0, loss=0.062, v_nb=55]\n",
      "Epoch 2:  40%|███▉      | 72664/182400 [2:19:58<1:23:51, 21.81batch/s, batch_nb=70399, gpu=0, loss=0.062, v_nb=55]\n",
      "Epoch 2:  40%|███▉      | 72667/182400 [2:19:58<1:21:55, 22.32batch/s, batch_nb=70399, gpu=0, loss=0.062, v_nb=55]\n",
      "Epoch 2:  40%|███▉      | 72670/182400 [2:19:58<1:20:32, 22.71batch/s, batch_nb=70399, gpu=0, loss=0.062, v_nb=55]\n",
      "Epoch 2:  40%|███▉      | 72673/182400 [2:19:58<1:19:36, 22.97batch/s, batch_nb=70399, gpu=0, loss=0.062, v_nb=55]\n",
      "Epoch 2:  40%|███▉      | 72676/182400 [2:19:58<1:18:42, 23.24batch/s, batch_nb=70399, gpu=0, loss=0.062, v_nb=55]\n",
      "Epoch 2:  40%|███▉      | 72679/182400 [2:19:58<1:18:05, 23.42batch/s, batch_nb=70399, gpu=0, loss=0.062, v_nb=55]\n",
      "Epoch 2:  40%|███▉      | 72682/182400 [2:19:59<1:17:45, 23.52batch/s, batch_nb=70399, gpu=0, loss=0.062, v_nb=55]\n",
      "Epoch 2:  40%|███▉      | 72685/182400 [2:19:59<1:17:40, 23.54batch/s, batch_nb=70399, gpu=0, loss=0.062, v_nb=55]\n",
      "Epoch 2:  40%|███▉      | 72688/182400 [2:19:59<1:17:31, 23.59batch/s, batch_nb=70399, gpu=0, loss=0.062, v_nb=55]\n",
      "Epoch 2:  40%|███▉      | 72691/182400 [2:19:59<1:17:33, 23.58batch/s, batch_nb=70399, gpu=0, loss=0.062, v_nb=55]\n",
      "Epoch 2:  40%|███▉      | 72694/182400 [2:19:59<1:17:34, 23.57batch/s, batch_nb=70399, gpu=0, loss=0.062, v_nb=55]\n",
      "Epoch 2:  40%|███▉      | 72697/182400 [2:19:59<1:17:29, 23.59batch/s, batch_nb=70399, gpu=0, loss=0.062, v_nb=55]\n",
      "Epoch 2:  40%|███▉      | 72700/182400 [2:19:59<1:17:26, 23.61batch/s, batch_nb=70399, gpu=0, loss=0.062, v_nb=55]\n",
      "Epoch 2:  40%|███▉      | 72703/182400 [2:19:59<1:17:23, 23.62batch/s, batch_nb=70399, gpu=0, loss=0.062, v_nb=55]\n",
      "Epoch 2:  40%|███▉      | 72706/182400 [2:20:00<1:17:20, 23.64batch/s, batch_nb=70399, gpu=0, loss=0.062, v_nb=55]\n",
      "Epoch 2:  40%|███▉      | 72709/182400 [2:20:00<1:17:16, 23.66batch/s, batch_nb=70399, gpu=0, loss=0.062, v_nb=55]\n",
      "Epoch 2:  40%|███▉      | 72712/182400 [2:20:00<1:17:37, 23.55batch/s, batch_nb=70399, gpu=0, loss=0.062, v_nb=55]\n",
      "Epoch 2:  40%|███▉      | 72715/182400 [2:20:00<1:17:36, 23.56batch/s, batch_nb=70399, gpu=0, loss=0.062, v_nb=55]\n",
      "Epoch 2:  40%|███▉      | 72718/182400 [2:20:00<1:17:30, 23.58batch/s, batch_nb=70399, gpu=0, loss=0.062, v_nb=55]\n",
      "Epoch 2:  40%|███▉      | 72721/182400 [2:20:00<1:17:27, 23.60batch/s, batch_nb=70399, gpu=0, loss=0.062, v_nb=55]\n",
      "Epoch 2:  40%|███▉      | 72724/182400 [2:20:00<1:17:32, 23.57batch/s, batch_nb=70399, gpu=0, loss=0.062, v_nb=55]\n",
      "Epoch 2:  40%|███▉      | 72727/182400 [2:20:01<1:17:33, 23.57batch/s, batch_nb=70399, gpu=0, loss=0.062, v_nb=55]\n",
      "Epoch 2:  40%|███▉      | 72730/182400 [2:20:01<1:17:27, 23.60batch/s, batch_nb=70399, gpu=0, loss=0.062, v_nb=55]\n",
      "Epoch 2:  40%|███▉      | 72733/182400 [2:20:01<1:17:27, 23.60batch/s, batch_nb=70399, gpu=0, loss=0.062, v_nb=55]\n",
      "Epoch 2:  40%|███▉      | 72736/182400 [2:20:01<1:17:23, 23.62batch/s, batch_nb=70399, gpu=0, loss=0.062, v_nb=55]\n",
      "Epoch 2:  40%|███▉      | 72739/182400 [2:20:01<1:17:16, 23.65batch/s, batch_nb=70399, gpu=0, loss=0.062, v_nb=55]\n",
      "Epoch 2:  40%|███▉      | 72742/182400 [2:20:01<1:17:19, 23.63batch/s, batch_nb=70399, gpu=0, loss=0.062, v_nb=55]\n",
      "Epoch 2:  40%|███▉      | 72745/182400 [2:20:01<1:17:12, 23.67batch/s, batch_nb=70399, gpu=0, loss=0.062, v_nb=55]\n",
      "Epoch 2:  40%|███▉      | 72748/182400 [2:20:01<1:17:02, 23.72batch/s, batch_nb=70399, gpu=0, loss=0.062, v_nb=55]\n",
      "Epoch 2:  40%|███▉      | 72751/182400 [2:20:02<1:16:50, 23.78batch/s, batch_nb=70399, gpu=0, loss=0.062, v_nb=55]\n",
      "Epoch 2:  40%|███▉      | 72754/182400 [2:20:02<1:16:49, 23.79batch/s, batch_nb=70399, gpu=0, loss=0.062, v_nb=55]\n",
      "Epoch 2:  40%|███▉      | 72757/182400 [2:20:02<1:16:45, 23.81batch/s, batch_nb=70399, gpu=0, loss=0.062, v_nb=55]\n",
      "Epoch 2:  40%|███▉      | 72760/182400 [2:20:02<1:16:46, 23.80batch/s, batch_nb=70399, gpu=0, loss=0.062, v_nb=55]\n",
      "Epoch 2:  40%|███▉      | 72763/182400 [2:20:02<1:17:05, 23.70batch/s, batch_nb=70399, gpu=0, loss=0.062, v_nb=55]\n",
      "Epoch 2:  40%|███▉      | 72766/182400 [2:20:02<1:17:11, 23.67batch/s, batch_nb=70399, gpu=0, loss=0.062, v_nb=55]\n",
      "Epoch 2:  40%|███▉      | 72769/182400 [2:20:02<1:17:14, 23.66batch/s, batch_nb=70399, gpu=0, loss=0.062, v_nb=55]\n",
      "Epoch 2:  40%|███▉      | 72772/182400 [2:20:02<1:17:17, 23.64batch/s, batch_nb=70399, gpu=0, loss=0.062, v_nb=55]\n",
      "Epoch 2:  40%|███▉      | 72775/182400 [2:20:03<1:17:20, 23.63batch/s, batch_nb=70399, gpu=0, loss=0.062, v_nb=55]\n",
      "Epoch 2:  40%|███▉      | 72778/182400 [2:20:03<1:17:18, 23.63batch/s, batch_nb=70399, gpu=0, loss=0.062, v_nb=55]\n",
      "Epoch 2:  40%|███▉      | 72781/182400 [2:20:03<1:17:20, 23.62batch/s, batch_nb=70399, gpu=0, loss=0.062, v_nb=55]\n",
      "Epoch 2:  40%|███▉      | 72784/182400 [2:20:03<1:17:23, 23.60batch/s, batch_nb=70399, gpu=0, loss=0.062, v_nb=55]\n",
      "Epoch 2:  40%|███▉      | 72787/182400 [2:20:03<1:17:14, 23.65batch/s, batch_nb=70399, gpu=0, loss=0.062, v_nb=55]\n",
      "Epoch 2:  40%|███▉      | 72790/182400 [2:20:03<1:17:15, 23.65batch/s, batch_nb=70399, gpu=0, loss=0.062, v_nb=55]\n",
      "Epoch 2:  40%|███▉      | 72793/182400 [2:20:03<1:17:19, 23.62batch/s, batch_nb=70399, gpu=0, loss=0.062, v_nb=55]\n",
      "Epoch 2:  40%|███▉      | 72796/182400 [2:20:03<1:17:16, 23.64batch/s, batch_nb=70399, gpu=0, loss=0.062, v_nb=55]\n",
      "Epoch 2:  40%|███▉      | 72799/182400 [2:20:04<1:17:17, 23.64batch/s, batch_nb=70399, gpu=0, loss=0.062, v_nb=55]\n",
      "Epoch 2:  40%|███▉      | 72802/182400 [2:20:04<1:17:20, 23.62batch/s, batch_nb=70399, gpu=0, loss=0.062, v_nb=55]\n",
      "Epoch 2:  40%|███▉      | 72805/182400 [2:20:04<1:17:23, 23.60batch/s, batch_nb=70399, gpu=0, loss=0.062, v_nb=55]\n",
      "Epoch 2:  40%|███▉      | 72808/182400 [2:20:04<1:17:25, 23.59batch/s, batch_nb=70399, gpu=0, loss=0.062, v_nb=55]\n",
      "Epoch 2:  40%|███▉      | 72811/182400 [2:20:04<1:17:20, 23.62batch/s, batch_nb=70399, gpu=0, loss=0.062, v_nb=55]\n",
      "Epoch 2:  40%|███▉      | 72814/182400 [2:20:04<1:17:26, 23.58batch/s, batch_nb=70399, gpu=0, loss=0.062, v_nb=55]\n",
      "Epoch 2:  40%|███▉      | 72817/182400 [2:20:04<1:17:27, 23.58batch/s, batch_nb=70399, gpu=0, loss=0.062, v_nb=55]\n",
      "Epoch 2:  40%|███▉      | 72820/182400 [2:20:04<1:17:21, 23.61batch/s, batch_nb=70399, gpu=0, loss=0.062, v_nb=55]\n",
      "Epoch 2:  40%|███▉      | 72823/182400 [2:20:05<1:17:30, 23.56batch/s, batch_nb=70399, gpu=0, loss=0.062, v_nb=55]\n",
      "Epoch 2:  40%|███▉      | 72826/182400 [2:20:05<1:17:28, 23.57batch/s, batch_nb=70399, gpu=0, loss=0.062, v_nb=55]\n",
      "Epoch 2:  40%|███▉      | 72829/182400 [2:20:05<1:17:24, 23.59batch/s, batch_nb=70399, gpu=0, loss=0.062, v_nb=55]\n",
      "Epoch 2:  40%|███▉      | 72832/182400 [2:20:05<1:17:22, 23.60batch/s, batch_nb=70399, gpu=0, loss=0.062, v_nb=55]\n",
      "Epoch 2:  40%|███▉      | 72835/182400 [2:20:05<1:17:24, 23.59batch/s, batch_nb=70399, gpu=0, loss=0.062, v_nb=55]\n",
      "Epoch 2:  40%|███▉      | 72838/182400 [2:20:05<1:17:18, 23.62batch/s, batch_nb=70399, gpu=0, loss=0.062, v_nb=55]\n",
      "Epoch 2:  40%|███▉      | 72841/182400 [2:20:05<1:17:18, 23.62batch/s, batch_nb=70399, gpu=0, loss=0.062, v_nb=55]\n",
      "Epoch 2:  40%|███▉      | 72844/182400 [2:20:05<1:17:20, 23.61batch/s, batch_nb=70399, gpu=0, loss=0.062, v_nb=55]\n",
      "Epoch 2:  40%|███▉      | 72847/182400 [2:20:06<1:17:19, 23.61batch/s, batch_nb=70399, gpu=0, loss=0.062, v_nb=55]\n"
     ]
    },
    {
     "name": "stderr",
     "output_type": "stream",
     "text": [
      "Epoch 2:  40%|███▉      | 72850/182400 [2:20:06<1:17:16, 23.63batch/s, batch_nb=70399, gpu=0, loss=0.062, v_nb=55]\n",
      "Epoch 2:  40%|███▉      | 72853/182400 [2:20:06<1:17:19, 23.61batch/s, batch_nb=70399, gpu=0, loss=0.062, v_nb=55]\n",
      "Epoch 2:  40%|███▉      | 72856/182400 [2:20:06<1:17:17, 23.62batch/s, batch_nb=70399, gpu=0, loss=0.062, v_nb=55]\n",
      "Epoch 2:  40%|███▉      | 72859/182400 [2:20:06<1:17:15, 23.63batch/s, batch_nb=70399, gpu=0, loss=0.062, v_nb=55]\n",
      "Epoch 2:  40%|███▉      | 72862/182400 [2:20:06<1:17:18, 23.61batch/s, batch_nb=70399, gpu=0, loss=0.062, v_nb=55]\n",
      "Epoch 2:  40%|███▉      | 72865/182400 [2:20:06<1:17:19, 23.61batch/s, batch_nb=70399, gpu=0, loss=0.062, v_nb=55]\n",
      "Epoch 2:  40%|███▉      | 72868/182400 [2:20:06<1:17:22, 23.59batch/s, batch_nb=70399, gpu=0, loss=0.062, v_nb=55]\n",
      "Epoch 2:  40%|███▉      | 72871/182400 [2:20:07<1:17:21, 23.60batch/s, batch_nb=70399, gpu=0, loss=0.062, v_nb=55]\n",
      "Epoch 2:  40%|███▉      | 72874/182400 [2:20:07<1:17:28, 23.56batch/s, batch_nb=70399, gpu=0, loss=0.062, v_nb=55]\n",
      "Epoch 2:  40%|███▉      | 72877/182400 [2:20:07<1:17:20, 23.60batch/s, batch_nb=70399, gpu=0, loss=0.062, v_nb=55]\n",
      "Epoch 2:  40%|███▉      | 72880/182400 [2:20:07<1:17:19, 23.61batch/s, batch_nb=70399, gpu=0, loss=0.062, v_nb=55]\n",
      "Epoch 2:  40%|███▉      | 72883/182400 [2:20:07<1:17:21, 23.59batch/s, batch_nb=70399, gpu=0, loss=0.062, v_nb=55]\n",
      "Epoch 2:  40%|███▉      | 72886/182400 [2:20:07<1:17:18, 23.61batch/s, batch_nb=70399, gpu=0, loss=0.062, v_nb=55]\n",
      "Epoch 2:  40%|███▉      | 72889/182400 [2:20:07<1:17:22, 23.59batch/s, batch_nb=70399, gpu=0, loss=0.062, v_nb=55]\n",
      "Epoch 2:  40%|███▉      | 72892/182400 [2:20:07<1:17:20, 23.60batch/s, batch_nb=70399, gpu=0, loss=0.062, v_nb=55]\n",
      "Epoch 2:  40%|███▉      | 72895/182400 [2:20:08<1:17:22, 23.59batch/s, batch_nb=70399, gpu=0, loss=0.062, v_nb=55]\n",
      "Epoch 2:  40%|███▉      | 72898/182400 [2:20:08<1:17:16, 23.62batch/s, batch_nb=70399, gpu=0, loss=0.062, v_nb=55]\n",
      "Epoch 2:  40%|███▉      | 72901/182400 [2:20:08<1:17:16, 23.62batch/s, batch_nb=70399, gpu=0, loss=0.062, v_nb=55]\n",
      "Epoch 2:  40%|███▉      | 72904/182400 [2:20:08<1:17:17, 23.61batch/s, batch_nb=70399, gpu=0, loss=0.062, v_nb=55]\n",
      "Epoch 2:  40%|███▉      | 72907/182400 [2:20:08<1:17:18, 23.61batch/s, batch_nb=70399, gpu=0, loss=0.062, v_nb=55]\n",
      "Epoch 2:  40%|███▉      | 72910/182400 [2:20:08<1:17:16, 23.61batch/s, batch_nb=70399, gpu=0, loss=0.062, v_nb=55]\n",
      "Epoch 2:  40%|███▉      | 72913/182400 [2:20:08<1:17:21, 23.59batch/s, batch_nb=70399, gpu=0, loss=0.062, v_nb=55]\n",
      "Epoch 2:  40%|███▉      | 72916/182400 [2:20:09<1:17:16, 23.61batch/s, batch_nb=70399, gpu=0, loss=0.062, v_nb=55]\n",
      "Epoch 2:  40%|███▉      | 72919/182400 [2:20:09<1:17:16, 23.61batch/s, batch_nb=70399, gpu=0, loss=0.062, v_nb=55]\n",
      "Epoch 2:  40%|███▉      | 72922/182400 [2:20:09<1:17:17, 23.61batch/s, batch_nb=70399, gpu=0, loss=0.062, v_nb=55]\n",
      "Epoch 2:  40%|███▉      | 72925/182400 [2:20:09<1:17:22, 23.58batch/s, batch_nb=70399, gpu=0, loss=0.062, v_nb=55]\n",
      "Epoch 2:  40%|███▉      | 72928/182400 [2:20:09<1:17:19, 23.60batch/s, batch_nb=70399, gpu=0, loss=0.062, v_nb=55]\n",
      "Epoch 2:  40%|███▉      | 72931/182400 [2:20:09<1:17:11, 23.64batch/s, batch_nb=70399, gpu=0, loss=0.062, v_nb=55]\n",
      "Epoch 2:  40%|███▉      | 72934/182400 [2:20:09<1:17:01, 23.68batch/s, batch_nb=70399, gpu=0, loss=0.062, v_nb=55]\n",
      "Epoch 2:  40%|███▉      | 72937/182400 [2:20:09<1:16:52, 23.73batch/s, batch_nb=70399, gpu=0, loss=0.062, v_nb=55]\n",
      "Epoch 2:  40%|███▉      | 72940/182400 [2:20:10<1:16:42, 23.78batch/s, batch_nb=70399, gpu=0, loss=0.062, v_nb=55]\n",
      "Epoch 2:  40%|███▉      | 72943/182400 [2:20:10<1:16:42, 23.78batch/s, batch_nb=70399, gpu=0, loss=0.062, v_nb=55]\n",
      "Epoch 2:  40%|███▉      | 72946/182400 [2:20:10<1:16:57, 23.70batch/s, batch_nb=70399, gpu=0, loss=0.062, v_nb=55]\n",
      "Epoch 2:  40%|███▉      | 72949/182400 [2:20:10<1:16:57, 23.70batch/s, batch_nb=70399, gpu=0, loss=0.062, v_nb=55]\n",
      "Epoch 2:  40%|███▉      | 72952/182400 [2:20:10<1:17:21, 23.58batch/s, batch_nb=70399, gpu=0, loss=0.062, v_nb=55]\n",
      "Epoch 2:  40%|███▉      | 72955/182400 [2:20:10<1:17:14, 23.62batch/s, batch_nb=70399, gpu=0, loss=0.062, v_nb=55]\n",
      "Epoch 2:  40%|████      | 72960/182400 [2:20:12<1:17:10, 23.64batch/s, batch_nb=70399, gpu=0, loss=0.062, v_nb=55]\n",
      "Epoch 2:  40%|████      | 73154/182400 [2:20:35<3:33:10,  8.54batch/s, batch_nb=70593, gpu=0, loss=0.061, v_nb=55]"
     ]
    },
    {
     "name": "stdout",
     "output_type": "stream",
     "text": [
      "Gradient overflow.  Skipping step, loss scaler 0 reducing loss scale to 4194304.0\n"
     ]
    },
    {
     "name": "stderr",
     "output_type": "stream",
     "text": [
      "Epoch 2:  41%|████      | 75177/182400 [2:24:32<3:33:40,  8.36batch/s, batch_nb=72616, gpu=0, loss=0.062, v_nb=55]"
     ]
    },
    {
     "name": "stdout",
     "output_type": "stream",
     "text": [
      "Gradient overflow.  Skipping step, loss scaler 0 reducing loss scale to 4194304.0\n"
     ]
    },
    {
     "name": "stderr",
     "output_type": "stream",
     "text": [
      "Epoch 2:  42%|████▏     | 76940/182400 [2:28:03<3:05:07,  9.49batch/s, batch_nb=74379, gpu=0, loss=0.063, v_nb=55]"
     ]
    }
   ],
   "source": [
    "seq_model = eval('models.'+ hparams['seq_model_name'])(**hparams['seq_model'])\n",
    "\n",
    "model = models.ResSeqLin(**hparams['emb'], seq_model=seq_model, \n",
    "                         **hparams['resnet'], **hparams['lin'])\n",
    "hparams['n_params'] = model.summary()\n",
    "hparams = Namespace(**hparams)\n",
    "\n",
    "exp = Experiment(model,hparams)\n",
    "\n",
    "if chpt_path:\n",
    "    exp.load_state_dict(torch.load(chpt_path)['state_dict'])\n",
    "\n",
    "trainer = pl.Trainer(gpus=1, fast_dev_run=False, max_nb_epochs=10, accumulate_grad_batches=hparams.train['batch_acum'],\n",
    "                     train_percent_check=1, val_check_interval=0.05, use_amp=seq_model.use_amp,\n",
    "                     default_save_path='../data')    \n",
    "trainer.fit(exp)"
   ]
  },
  {
   "cell_type": "code",
   "execution_count": null,
   "metadata": {},
   "outputs": [],
   "source": [
    "# TODO\n",
    "# convert emb dataset to hot on the fly\n",
    "# torch.optim.lr_scheduler.CosineAnnealingWarmRestarts\n",
    "# label smoothing\n",
    "# balanced valdiation\n",
    "# plot activations with tensorbaord \n",
    "# or efficient net(https://arxiv.org/abs/1905.11946) in 1D https://github.com/michael-1003/EfficientNet-1D\n",
    "# mish\n",
    "# treat input as 2d\n",
    "# lower seq len"
   ]
  },
  {
   "cell_type": "code",
   "execution_count": 14,
   "metadata": {
    "collapsed": true
   },
   "outputs": [
    {
     "data": {
      "image/png": "[encoded data removed]",
      "text/plain": [
       "<Figure size 1296x720 with 1 Axes>"
      ]
     },
     "metadata": {
      "needs_background": "light"
     },
     "output_type": "display_data"
    },
    {
     "data": {
      "image/png": "[encoded data removed]",
      "text/plain": [
       "<Figure size 1296x720 with 1 Axes>"
      ]
     },
     "metadata": {
      "needs_background": "light"
     },
     "output_type": "display_data"
    }
   ],
   "source": [
    "# loss_fn = nn.BCEWithLogitsLoss()\n",
    "# op = torch.optim.Adam(model.parameters(), lr=1e-4,betas=(0.5,0.999))\n",
    "# # plt.figure(figsize=(20,15))\n",
    "# for i,(x,y) in enumerate(exp.val_dataloader()[0]):\n",
    "#     op.zero_grad()\n",
    "#     x,y = x.cuda(),  y.cuda()\n",
    "#     y_hat, mem = model(x)\n",
    "#     loss = loss_fn(y_hat, y)\n",
    "#     loss.backward()\n",
    "# #     fig = plot_grad_flow(model.named_parameters())\n",
    "#     fig = plot_weight_mag(model.named_parameters(),bottom = -0.001, top=1.5)\n",
    "#     op.step()\n",
    "#     if i==1:break"
   ]
  },
  {
   "cell_type": "markdown",
   "metadata": {
    "heading_collapsed": true
   },
   "source": [
    "## Validation"
   ]
  },
  {
   "cell_type": "code",
   "execution_count": 12,
   "metadata": {
    "hidden": true,
    "scrolled": true
   },
   "outputs": [
    {
     "name": "stdout",
     "output_type": "stream",
     "text": [
      "Selected optimization level O1:  Insert automatic casts around Pytorch functions and Tensor methods.\n",
      "\n",
      "Defaults for this optimization level are:\n",
      "enabled                : True\n",
      "opt_level              : O1\n",
      "cast_model_type        : None\n",
      "patch_torch_functions  : True\n",
      "keep_batchnorm_fp32    : None\n",
      "master_weights         : None\n",
      "loss_scale             : dynamic\n",
      "Processing user overrides (additional kwargs that are not None)...\n",
      "After processing overrides, optimization options are:\n",
      "enabled                : True\n",
      "opt_level              : O1\n",
      "cast_model_type        : None\n",
      "patch_torch_functions  : True\n",
      "keep_batchnorm_fp32    : None\n",
      "master_weights         : None\n",
      "loss_scale             : dynamic\n",
      "Loading training dataset\n"
     ]
    },
    {
     "name": "stderr",
     "output_type": "stream",
     "text": [
      "Testing: 100%|██████████| 18201/18201 [03:42<00:00, 81.95batch/s]"
     ]
    },
    {
     "name": "stdout",
     "output_type": "stream",
     "text": [
      "Test ROC AUC: 0.895789623260498 Test PR AUC: 0.43330907821655273\n"
     ]
    },
    {
     "name": "stderr",
     "output_type": "stream",
     "text": [
      "\n"
     ]
    }
   ],
   "source": [
    "trainer.test(exp)"
   ]
  },
  {
   "cell_type": "code",
   "execution_count": null,
   "metadata": {
    "hidden": true
   },
   "outputs": [],
   "source": [
    "#TODO\n",
    "\n",
    "# https://arxiv.org/pdf/1912.01857.pdf\n",
    "# https://github.com/feidfoe/AdjustBnd4Imbalance/blob/master/cifar.py\n",
    "gamma = 0.1 # hparams for re_scaling https://arxiv.org/pdf/1912.01857.pdf\n",
    "if args.evaluate:\n",
    "    print('\\nEvaluation only')\n",
    "    test_loss, test_acc = test(testloader, model, criterion, \n",
    "                               start_epoch, use_cuda)\n",
    "    print('[w/o RS] Test Loss: %.8f, Test Acc: %.2f%%' % (test_loss, test_acc))\n",
    "\n",
    "    current_state = model.state_dict()\n",
    "    W = current_state['module.fc.weight']\n",
    "\n",
    "    imb_factor = 1. / args.imbalance\n",
    "    img_max = 50000/num_classes\n",
    "    num_sample = [img_max * (imb_factor**(i/(num_classes - 1))) \\\n",
    "                     for i in range(num_classes)]\n",
    "\n",
    "    ns = [ float(n) / max(num_sample) for n in num_sample ]\n",
    "    ns = [ n**gamma for n in ns ]\n",
    "    ns = torch.FloatTensor(ns).unsqueeze(-1).cuda()\n",
    "    new_W = W / ns\n",
    "\n",
    "    current_state['module.fc.weight'] = new_W\n",
    "    model.load_state_dict(current_state)\n",
    "\n",
    "    test_loss, test_acc = test(testloader, model, criterion, \n",
    "                               start_epoch, use_cuda)\n",
    "    print('[w/  RS] Test Loss: %.8f, Test Acc: %.2f%%' % (test_loss, test_acc))"
   ]
  }
 ],
 "metadata": {
  "kernelspec": {
   "display_name": "mlnd",
   "language": "python",
   "name": "mlnd"
  },
  "language_info": {
   "codemirror_mode": {
    "name": "ipython",
    "version": 3
   },
   "file_extension": ".py",
   "mimetype": "text/x-python",
   "name": "python",
   "nbconvert_exporter": "python",
   "pygments_lexer": "ipython3",
   "version": "3.6.10"
  }
 },
 "nbformat": 4,
 "nbformat_minor": 2
}
