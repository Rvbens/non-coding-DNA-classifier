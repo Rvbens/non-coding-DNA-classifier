{
 "cells": [
  {
   "cell_type": "code",
   "execution_count": 1,
   "metadata": {},
   "outputs": [],
   "source": [
    "# basic imports\n",
    "import numpy as np\n",
    "import sys,os,h5py,math\n",
    "import matplotlib.pyplot as plt\n",
    "from argparse import Namespace\n",
    "\n",
    "# PyTorch imports\n",
    "import torch\n",
    "import torch.nn as nn\n",
    "import torch.nn.functional as F\n",
    "from torch.utils.data import Dataset, DataLoader, Sampler\n",
    "import pytorch_lightning as pl\n",
    "\n",
    "# Personal imports\n",
    "sys.path.append(os.path.dirname(os.getcwd())) #add parent folder to PATH\n",
    "import lib.models as models\n",
    "from lib.metrics import accuracy,weighted_aucs\n",
    "\n",
    "chpt_path = None"
   ]
  },
  {
   "cell_type": "markdown",
   "metadata": {
    "heading_collapsed": true
   },
   "source": [
    "## DanQ"
   ]
  },
  {
   "cell_type": "code",
   "execution_count": 2,
   "metadata": {
    "hidden": true
   },
   "outputs": [],
   "source": [
    "class CustomDataset(Dataset):\n",
    "    def __init__(self,x,y):\n",
    "        super(CustomDataset,self).__init__()\n",
    "        self.x, self.y = x,y\n",
    "        \n",
    "    def __len__(self): return len(self.x)\n",
    "\n",
    "    def __getitem__(self, i): return self.x[i].long(), self.y[i].float()"
   ]
  },
  {
   "cell_type": "code",
   "execution_count": 3,
   "metadata": {
    "hidden": true
   },
   "outputs": [],
   "source": [
    "class Experiment(pl.LightningModule):\n",
    "\n",
    "    def __init__(self,bs):\n",
    "        super(Experiment, self).__init__()\n",
    "        self.model = models.DanQ()\n",
    "        self.bs = bs #batch size\n",
    "        self.loss_fn = nn.BCEWithLogitsLoss()\n",
    "        self.class_weights = torch.load('../data/Processed/class_weights')\n",
    "        \n",
    "    def forward(self, x):\n",
    "        return self.model(x)\n",
    "\n",
    "    def training_step(self, batch, batch_nb):\n",
    "        x, y = batch\n",
    "        y_hat = self.forward(x)\n",
    "        loss = self.loss_fn(y_hat, y)\n",
    "        tensorboard_logs = {}#{'train_loss': loss}\n",
    "        return {'loss': loss, 'log': tensorboard_logs}\n",
    "    \n",
    "    def validation_step(self, batch, batch_idx):\n",
    "        x, y = batch\n",
    "        y_hat = self.forward(x)\n",
    "        return {'val_loss': self.loss_fn(y_hat, y)}\n",
    "\n",
    "    def validation_end(self, outputs):\n",
    "        avg_loss = torch.stack([x['val_loss'] for x in outputs]).mean()\n",
    "        tensorboard_logs = {}#{'val_loss': avg_loss}\n",
    "        return {'avg_val_loss': avg_loss, 'log': tensorboard_logs}\n",
    "\n",
    "    def test_step(self, batch, batch_idx):\n",
    "        x, y = batch\n",
    "        y_hat = self.forward(x)\n",
    "        y_pred = F.softmax(y_hat,dim=1).detach().cpu()\n",
    "        return {'test_loss': self.loss_fn(y_hat, y),'y_pred':y_pred, 'y_true':y.cpu()}\n",
    "\n",
    "    def test_end(self, outputs):\n",
    "        avg_loss = torch.stack([x['test_loss'] for x in outputs]).mean()\n",
    "        y_preds = torch.cat([x['y_pred'] for x in outputs])\n",
    "        y_trues = torch.cat([x['y_true'] for x in outputs]).byte()\n",
    "        roc_auc = weighted_auc(y_preds,y_trues, self.class_weights)\n",
    "        \n",
    "        tensorboard_logs = {'test_loss': avg_loss,'roc_auc':roc_auc}\n",
    "        return {'avg_test_loss': avg_loss, 'log': tensorboard_logs}\n",
    "    \n",
    "    def configure_optimizers(self):\n",
    "        return torch.optim.Adam(self.parameters(), lr=1e-4)\n",
    "\n",
    "    @pl.data_loader\n",
    "    def train_dataloader(self):\n",
    "        print('Loading training dataset')\n",
    "        train_h5 = h5py.File('../data/Processed/train.hdf5')\n",
    "        X_train = torch.tensor(train_h5['X_train'][:])\n",
    "        y_train = torch.tensor(train_h5['y_train'][:])\n",
    "        train_h5.close()\n",
    "        trn_ds = CustomDataset(X_train,y_train)\n",
    "        trn_dl = DataLoader(trn_ds, batch_size=self.bs,shuffle=True, num_workers=6)\n",
    "        return trn_dl\n",
    "    \n",
    "    @pl.data_loader\n",
    "    def val_dataloader(self):\n",
    "        valid = np.load('../data/Processed/valid.npz')\n",
    "        X_valid = torch.tensor(valid['arr_0'][:])\n",
    "        y_valid = torch.tensor(valid['arr_1'][:])\n",
    "\n",
    "        vld_ds = CustomDataset(X_valid,y_valid)\n",
    "        vld_dl = DataLoader(vld_ds, batch_size=self.bs,shuffle=False, num_workers=6)\n",
    "        return vld_dl\n",
    "    \n",
    "    @pl.data_loader\n",
    "    def test_dataloader(self):\n",
    "        test = np.load('../data/Processed/test.npz')\n",
    "        X_test = torch.tensor(test['arr_0'][:])\n",
    "        y_test = torch.tensor(test['arr_1'][:])\n",
    "                              \n",
    "        tst_ds = CustomDataset(X_test,y_test)\n",
    "        tst_dl = DataLoader(tst_ds, batch_size=self.bs,shuffle=False, num_workers=6)\n",
    "        return tst_dl"
   ]
  },
  {
   "cell_type": "code",
   "execution_count": 4,
   "metadata": {
    "hidden": true
   },
   "outputs": [
    {
     "name": "stdout",
     "output_type": "stream",
     "text": [
      "Loading training dataset\n"
     ]
    },
    {
     "name": "stderr",
     "output_type": "stream",
     "text": [
      "\r",
      "Validation sanity check:   0%|          | 0/5 [00:00<?, ?batch/s]"
     ]
    },
    {
     "ename": "AttributeError",
     "evalue": "'tuple' object has no attribute 'size'",
     "output_type": "error",
     "traceback": [
      "\u001b[0;31m---------------------------------------------------------------------------\u001b[0m",
      "\u001b[0;31mAttributeError\u001b[0m                            Traceback (most recent call last)",
      "\u001b[0;32m<ipython-input-4-48c34e243480>\u001b[0m in \u001b[0;36m<module>\u001b[0;34m\u001b[0m\n\u001b[1;32m      3\u001b[0m trainer = pl.Trainer(gpus=1,max_nb_epochs=1, train_percent_check=0.01,val_percent_check=0.5,\n\u001b[1;32m      4\u001b[0m                      default_save_path='../data',log_gpu_memory='min_max')    \n\u001b[0;32m----> 5\u001b[0;31m \u001b[0mtrainer\u001b[0m\u001b[0;34m.\u001b[0m\u001b[0mfit\u001b[0m\u001b[0;34m(\u001b[0m\u001b[0mexp\u001b[0m\u001b[0;34m)\u001b[0m\u001b[0;34m\u001b[0m\u001b[0;34m\u001b[0m\u001b[0m\n\u001b[0m\u001b[1;32m      6\u001b[0m \u001b[0;31m# #trainer.test()\u001b[0m\u001b[0;34m\u001b[0m\u001b[0;34m\u001b[0m\u001b[0;34m\u001b[0m\u001b[0m\n",
      "\u001b[0;32m~/anaconda3/envs/mlnd/lib/python3.6/site-packages/pytorch_lightning/trainer/trainer.py\u001b[0m in \u001b[0;36mfit\u001b[0;34m(self, model)\u001b[0m\n\u001b[1;32m    349\u001b[0m \u001b[0;34m\u001b[0m\u001b[0m\n\u001b[1;32m    350\u001b[0m         \u001b[0;32melif\u001b[0m \u001b[0mself\u001b[0m\u001b[0;34m.\u001b[0m\u001b[0msingle_gpu\u001b[0m\u001b[0;34m:\u001b[0m\u001b[0;34m\u001b[0m\u001b[0;34m\u001b[0m\u001b[0m\n\u001b[0;32m--> 351\u001b[0;31m             \u001b[0mself\u001b[0m\u001b[0;34m.\u001b[0m\u001b[0msingle_gpu_train\u001b[0m\u001b[0;34m(\u001b[0m\u001b[0mmodel\u001b[0m\u001b[0;34m)\u001b[0m\u001b[0;34m\u001b[0m\u001b[0;34m\u001b[0m\u001b[0m\n\u001b[0m\u001b[1;32m    352\u001b[0m \u001b[0;34m\u001b[0m\u001b[0m\n\u001b[1;32m    353\u001b[0m         \u001b[0;31m# ON CPU\u001b[0m\u001b[0;34m\u001b[0m\u001b[0;34m\u001b[0m\u001b[0;34m\u001b[0m\u001b[0m\n",
      "\u001b[0;32m~/anaconda3/envs/mlnd/lib/python3.6/site-packages/pytorch_lightning/trainer/dp_mixin.py\u001b[0m in \u001b[0;36msingle_gpu_train\u001b[0;34m(self, model)\u001b[0m\n\u001b[1;32m     75\u001b[0m             \u001b[0mself\u001b[0m\u001b[0;34m.\u001b[0m\u001b[0moptimizers\u001b[0m \u001b[0;34m=\u001b[0m \u001b[0moptimizers\u001b[0m\u001b[0;34m\u001b[0m\u001b[0;34m\u001b[0m\u001b[0m\n\u001b[1;32m     76\u001b[0m \u001b[0;34m\u001b[0m\u001b[0m\n\u001b[0;32m---> 77\u001b[0;31m         \u001b[0mself\u001b[0m\u001b[0;34m.\u001b[0m\u001b[0mrun_pretrain_routine\u001b[0m\u001b[0;34m(\u001b[0m\u001b[0mmodel\u001b[0m\u001b[0;34m)\u001b[0m\u001b[0;34m\u001b[0m\u001b[0;34m\u001b[0m\u001b[0m\n\u001b[0m\u001b[1;32m     78\u001b[0m \u001b[0;34m\u001b[0m\u001b[0m\n\u001b[1;32m     79\u001b[0m     \u001b[0;32mdef\u001b[0m \u001b[0mdp_train\u001b[0m\u001b[0;34m(\u001b[0m\u001b[0mself\u001b[0m\u001b[0;34m,\u001b[0m \u001b[0mmodel\u001b[0m\u001b[0;34m)\u001b[0m\u001b[0;34m:\u001b[0m\u001b[0;34m\u001b[0m\u001b[0;34m\u001b[0m\u001b[0m\n",
      "\u001b[0;32m~/anaconda3/envs/mlnd/lib/python3.6/site-packages/pytorch_lightning/trainer/trainer.py\u001b[0m in \u001b[0;36mrun_pretrain_routine\u001b[0;34m(self, model)\u001b[0m\n\u001b[1;32m    453\u001b[0m             \u001b[0mself\u001b[0m\u001b[0;34m.\u001b[0m\u001b[0mval_progress_bar\u001b[0m \u001b[0;34m=\u001b[0m \u001b[0mtqdm\u001b[0m\u001b[0;34m.\u001b[0m\u001b[0mtqdm\u001b[0m\u001b[0;34m(\u001b[0m\u001b[0mdisable\u001b[0m\u001b[0;34m=\u001b[0m\u001b[0;32mTrue\u001b[0m\u001b[0;34m)\u001b[0m\u001b[0;34m\u001b[0m\u001b[0;34m\u001b[0m\u001b[0m\n\u001b[1;32m    454\u001b[0m \u001b[0;34m\u001b[0m\u001b[0m\n\u001b[0;32m--> 455\u001b[0;31m             \u001b[0mself\u001b[0m\u001b[0;34m.\u001b[0m\u001b[0mevaluate\u001b[0m\u001b[0;34m(\u001b[0m\u001b[0mmodel\u001b[0m\u001b[0;34m,\u001b[0m \u001b[0mself\u001b[0m\u001b[0;34m.\u001b[0m\u001b[0mget_val_dataloaders\u001b[0m\u001b[0;34m(\u001b[0m\u001b[0;34m)\u001b[0m\u001b[0;34m,\u001b[0m \u001b[0mself\u001b[0m\u001b[0;34m.\u001b[0m\u001b[0mnb_sanity_val_steps\u001b[0m\u001b[0;34m,\u001b[0m \u001b[0mself\u001b[0m\u001b[0;34m.\u001b[0m\u001b[0mtesting\u001b[0m\u001b[0;34m)\u001b[0m\u001b[0;34m\u001b[0m\u001b[0;34m\u001b[0m\u001b[0m\n\u001b[0m\u001b[1;32m    456\u001b[0m \u001b[0;34m\u001b[0m\u001b[0m\n\u001b[1;32m    457\u001b[0m             \u001b[0;31m# close progress bars\u001b[0m\u001b[0;34m\u001b[0m\u001b[0;34m\u001b[0m\u001b[0;34m\u001b[0m\u001b[0m\n",
      "\u001b[0;32m~/anaconda3/envs/mlnd/lib/python3.6/site-packages/pytorch_lightning/trainer/evaluation_loop_mixin.py\u001b[0m in \u001b[0;36mevaluate\u001b[0;34m(self, model, dataloaders, max_batches, test)\u001b[0m\n\u001b[1;32m     48\u001b[0m                                                  \u001b[0mbatch_idx\u001b[0m\u001b[0;34m,\u001b[0m\u001b[0;34m\u001b[0m\u001b[0;34m\u001b[0m\u001b[0m\n\u001b[1;32m     49\u001b[0m                                                  \u001b[0mdataloader_idx\u001b[0m\u001b[0;34m,\u001b[0m\u001b[0;34m\u001b[0m\u001b[0;34m\u001b[0m\u001b[0m\n\u001b[0;32m---> 50\u001b[0;31m                                                  test)\n\u001b[0m\u001b[1;32m     51\u001b[0m \u001b[0;34m\u001b[0m\u001b[0m\n\u001b[1;32m     52\u001b[0m                 \u001b[0;31m# track outputs for collation\u001b[0m\u001b[0;34m\u001b[0m\u001b[0;34m\u001b[0m\u001b[0;34m\u001b[0m\u001b[0m\n",
      "\u001b[0;32m~/anaconda3/envs/mlnd/lib/python3.6/site-packages/pytorch_lightning/trainer/evaluation_loop_mixin.py\u001b[0m in \u001b[0;36mevaluation_forward\u001b[0;34m(self, model, batch, batch_idx, dataloader_idx, test)\u001b[0m\n\u001b[1;32m    188\u001b[0m             \u001b[0moutput\u001b[0m \u001b[0;34m=\u001b[0m \u001b[0mmodel\u001b[0m\u001b[0;34m.\u001b[0m\u001b[0mtest_step\u001b[0m\u001b[0;34m(\u001b[0m\u001b[0;34m*\u001b[0m\u001b[0margs\u001b[0m\u001b[0;34m)\u001b[0m\u001b[0;34m\u001b[0m\u001b[0;34m\u001b[0m\u001b[0m\n\u001b[1;32m    189\u001b[0m         \u001b[0;32melse\u001b[0m\u001b[0;34m:\u001b[0m\u001b[0;34m\u001b[0m\u001b[0;34m\u001b[0m\u001b[0m\n\u001b[0;32m--> 190\u001b[0;31m             \u001b[0moutput\u001b[0m \u001b[0;34m=\u001b[0m \u001b[0mmodel\u001b[0m\u001b[0;34m.\u001b[0m\u001b[0mvalidation_step\u001b[0m\u001b[0;34m(\u001b[0m\u001b[0;34m*\u001b[0m\u001b[0margs\u001b[0m\u001b[0;34m)\u001b[0m\u001b[0;34m\u001b[0m\u001b[0;34m\u001b[0m\u001b[0m\n\u001b[0m\u001b[1;32m    191\u001b[0m \u001b[0;34m\u001b[0m\u001b[0m\n\u001b[1;32m    192\u001b[0m         \u001b[0;32mreturn\u001b[0m \u001b[0moutput\u001b[0m\u001b[0;34m\u001b[0m\u001b[0;34m\u001b[0m\u001b[0m\n",
      "\u001b[0;32m<ipython-input-3-4a010879fb08>\u001b[0m in \u001b[0;36mvalidation_step\u001b[0;34m(self, batch, batch_idx)\u001b[0m\n\u001b[1;32m     21\u001b[0m         \u001b[0mx\u001b[0m\u001b[0;34m,\u001b[0m \u001b[0my\u001b[0m \u001b[0;34m=\u001b[0m \u001b[0mbatch\u001b[0m\u001b[0;34m\u001b[0m\u001b[0;34m\u001b[0m\u001b[0m\n\u001b[1;32m     22\u001b[0m         \u001b[0my_hat\u001b[0m \u001b[0;34m=\u001b[0m \u001b[0mself\u001b[0m\u001b[0;34m.\u001b[0m\u001b[0mforward\u001b[0m\u001b[0;34m(\u001b[0m\u001b[0mx\u001b[0m\u001b[0;34m)\u001b[0m\u001b[0;34m\u001b[0m\u001b[0;34m\u001b[0m\u001b[0m\n\u001b[0;32m---> 23\u001b[0;31m         \u001b[0;32mreturn\u001b[0m \u001b[0;34m{\u001b[0m\u001b[0;34m'val_loss'\u001b[0m\u001b[0;34m:\u001b[0m \u001b[0mself\u001b[0m\u001b[0;34m.\u001b[0m\u001b[0mloss_fn\u001b[0m\u001b[0;34m(\u001b[0m\u001b[0my_hat\u001b[0m\u001b[0;34m,\u001b[0m \u001b[0my\u001b[0m\u001b[0;34m)\u001b[0m\u001b[0;34m}\u001b[0m\u001b[0;34m\u001b[0m\u001b[0;34m\u001b[0m\u001b[0m\n\u001b[0m\u001b[1;32m     24\u001b[0m \u001b[0;34m\u001b[0m\u001b[0m\n\u001b[1;32m     25\u001b[0m     \u001b[0;32mdef\u001b[0m \u001b[0mvalidation_end\u001b[0m\u001b[0;34m(\u001b[0m\u001b[0mself\u001b[0m\u001b[0;34m,\u001b[0m \u001b[0moutputs\u001b[0m\u001b[0;34m)\u001b[0m\u001b[0;34m:\u001b[0m\u001b[0;34m\u001b[0m\u001b[0;34m\u001b[0m\u001b[0m\n",
      "\u001b[0;32m~/anaconda3/envs/mlnd/lib/python3.6/site-packages/torch/nn/modules/module.py\u001b[0m in \u001b[0;36m__call__\u001b[0;34m(self, *input, **kwargs)\u001b[0m\n\u001b[1;32m    530\u001b[0m             \u001b[0mresult\u001b[0m \u001b[0;34m=\u001b[0m \u001b[0mself\u001b[0m\u001b[0;34m.\u001b[0m\u001b[0m_slow_forward\u001b[0m\u001b[0;34m(\u001b[0m\u001b[0;34m*\u001b[0m\u001b[0minput\u001b[0m\u001b[0;34m,\u001b[0m \u001b[0;34m**\u001b[0m\u001b[0mkwargs\u001b[0m\u001b[0;34m)\u001b[0m\u001b[0;34m\u001b[0m\u001b[0;34m\u001b[0m\u001b[0m\n\u001b[1;32m    531\u001b[0m         \u001b[0;32melse\u001b[0m\u001b[0;34m:\u001b[0m\u001b[0;34m\u001b[0m\u001b[0;34m\u001b[0m\u001b[0m\n\u001b[0;32m--> 532\u001b[0;31m             \u001b[0mresult\u001b[0m \u001b[0;34m=\u001b[0m \u001b[0mself\u001b[0m\u001b[0;34m.\u001b[0m\u001b[0mforward\u001b[0m\u001b[0;34m(\u001b[0m\u001b[0;34m*\u001b[0m\u001b[0minput\u001b[0m\u001b[0;34m,\u001b[0m \u001b[0;34m**\u001b[0m\u001b[0mkwargs\u001b[0m\u001b[0;34m)\u001b[0m\u001b[0;34m\u001b[0m\u001b[0;34m\u001b[0m\u001b[0m\n\u001b[0m\u001b[1;32m    533\u001b[0m         \u001b[0;32mfor\u001b[0m \u001b[0mhook\u001b[0m \u001b[0;32min\u001b[0m \u001b[0mself\u001b[0m\u001b[0;34m.\u001b[0m\u001b[0m_forward_hooks\u001b[0m\u001b[0;34m.\u001b[0m\u001b[0mvalues\u001b[0m\u001b[0;34m(\u001b[0m\u001b[0;34m)\u001b[0m\u001b[0;34m:\u001b[0m\u001b[0;34m\u001b[0m\u001b[0;34m\u001b[0m\u001b[0m\n\u001b[1;32m    534\u001b[0m             \u001b[0mhook_result\u001b[0m \u001b[0;34m=\u001b[0m \u001b[0mhook\u001b[0m\u001b[0;34m(\u001b[0m\u001b[0mself\u001b[0m\u001b[0;34m,\u001b[0m \u001b[0minput\u001b[0m\u001b[0;34m,\u001b[0m \u001b[0mresult\u001b[0m\u001b[0;34m)\u001b[0m\u001b[0;34m\u001b[0m\u001b[0;34m\u001b[0m\u001b[0m\n",
      "\u001b[0;32m~/anaconda3/envs/mlnd/lib/python3.6/site-packages/torch/nn/modules/loss.py\u001b[0m in \u001b[0;36mforward\u001b[0;34m(self, input, target)\u001b[0m\n\u001b[1;32m    599\u001b[0m                                                   \u001b[0mself\u001b[0m\u001b[0;34m.\u001b[0m\u001b[0mweight\u001b[0m\u001b[0;34m,\u001b[0m\u001b[0;34m\u001b[0m\u001b[0;34m\u001b[0m\u001b[0m\n\u001b[1;32m    600\u001b[0m                                                   \u001b[0mpos_weight\u001b[0m\u001b[0;34m=\u001b[0m\u001b[0mself\u001b[0m\u001b[0;34m.\u001b[0m\u001b[0mpos_weight\u001b[0m\u001b[0;34m,\u001b[0m\u001b[0;34m\u001b[0m\u001b[0;34m\u001b[0m\u001b[0m\n\u001b[0;32m--> 601\u001b[0;31m                                                   reduction=self.reduction)\n\u001b[0m\u001b[1;32m    602\u001b[0m \u001b[0;34m\u001b[0m\u001b[0m\n\u001b[1;32m    603\u001b[0m \u001b[0;34m\u001b[0m\u001b[0m\n",
      "\u001b[0;32m~/anaconda3/envs/mlnd/lib/python3.6/site-packages/torch/nn/functional.py\u001b[0m in \u001b[0;36mbinary_cross_entropy_with_logits\u001b[0;34m(input, target, weight, size_average, reduce, reduction, pos_weight)\u001b[0m\n\u001b[1;32m   2121\u001b[0m         \u001b[0mreduction_enum\u001b[0m \u001b[0;34m=\u001b[0m \u001b[0m_Reduction\u001b[0m\u001b[0;34m.\u001b[0m\u001b[0mget_enum\u001b[0m\u001b[0;34m(\u001b[0m\u001b[0mreduction\u001b[0m\u001b[0;34m)\u001b[0m\u001b[0;34m\u001b[0m\u001b[0;34m\u001b[0m\u001b[0m\n\u001b[1;32m   2122\u001b[0m \u001b[0;34m\u001b[0m\u001b[0m\n\u001b[0;32m-> 2123\u001b[0;31m     \u001b[0;32mif\u001b[0m \u001b[0;32mnot\u001b[0m \u001b[0;34m(\u001b[0m\u001b[0mtarget\u001b[0m\u001b[0;34m.\u001b[0m\u001b[0msize\u001b[0m\u001b[0;34m(\u001b[0m\u001b[0;34m)\u001b[0m \u001b[0;34m==\u001b[0m \u001b[0minput\u001b[0m\u001b[0;34m.\u001b[0m\u001b[0msize\u001b[0m\u001b[0;34m(\u001b[0m\u001b[0;34m)\u001b[0m\u001b[0;34m)\u001b[0m\u001b[0;34m:\u001b[0m\u001b[0;34m\u001b[0m\u001b[0;34m\u001b[0m\u001b[0m\n\u001b[0m\u001b[1;32m   2124\u001b[0m         \u001b[0;32mraise\u001b[0m \u001b[0mValueError\u001b[0m\u001b[0;34m(\u001b[0m\u001b[0;34m\"Target size ({}) must be the same as input size ({})\"\u001b[0m\u001b[0;34m.\u001b[0m\u001b[0mformat\u001b[0m\u001b[0;34m(\u001b[0m\u001b[0mtarget\u001b[0m\u001b[0;34m.\u001b[0m\u001b[0msize\u001b[0m\u001b[0;34m(\u001b[0m\u001b[0;34m)\u001b[0m\u001b[0;34m,\u001b[0m \u001b[0minput\u001b[0m\u001b[0;34m.\u001b[0m\u001b[0msize\u001b[0m\u001b[0;34m(\u001b[0m\u001b[0;34m)\u001b[0m\u001b[0;34m)\u001b[0m\u001b[0;34m)\u001b[0m\u001b[0;34m\u001b[0m\u001b[0;34m\u001b[0m\u001b[0m\n\u001b[1;32m   2125\u001b[0m \u001b[0;34m\u001b[0m\u001b[0m\n",
      "\u001b[0;31mAttributeError\u001b[0m: 'tuple' object has no attribute 'size'"
     ]
    }
   ],
   "source": [
    "exp = Experiment(bs=512)\n",
    "\n",
    "trainer = pl.Trainer(gpus=1,max_nb_epochs=1, train_percent_check=0.01,val_percent_check=0.5,\n",
    "                     default_save_path='../data',log_gpu_memory='min_max')    \n",
    "trainer.fit(exp) \n",
    "# #trainer.test()"
   ]
  },
  {
   "cell_type": "code",
   "execution_count": null,
   "metadata": {
    "hidden": true,
    "scrolled": true
   },
   "outputs": [],
   "source": [
    "exp = Experiment(bs=512)\n",
    "chpt_path = '../data/lightning_logs/version_4/checkpoints/_ckpt_epoch_1.ckpt'\n",
    "exp.load_state_dict(torch.load(chpt_path)['state_dict'])\n",
    "# exp.cuda()\n",
    "trainer = pl.Trainer(gpus=1,max_nb_epochs=1, train_percent_check=0.1,val_percent_check=0.5,\n",
    "                     test_percent_check=0.1, default_save_path='../data',log_gpu_memory='min_max')\n",
    "trainer.test(exp)"
   ]
  },
  {
   "cell_type": "markdown",
   "metadata": {
    "heading_collapsed": true
   },
   "source": [
    "## Transformer XL"
   ]
  },
  {
   "cell_type": "code",
   "execution_count": null,
   "metadata": {
    "hidden": true
   },
   "outputs": [],
   "source": [
    "import transformers as ts"
   ]
  },
  {
   "cell_type": "code",
   "execution_count": null,
   "metadata": {
    "hidden": true
   },
   "outputs": [],
   "source": [
    "class LMDataset(Dataset):\n",
    "    def __init__(self,x,y,mem_len):\n",
    "        super(LMDataset,self).__init__()\n",
    "        self.x, self.y = x,y\n",
    "        self.n = x.shape[0]*math.ceil(1000/mem_len)\n",
    "        \n",
    "    def __len__(self): return self.n\n",
    "    def __getitem__(self, i): \n",
    "        (b_idx,seq_idxs, seq_start) = i\n",
    "        x = self.x[b_idx,seq_idxs[0]:seq_idxs[1]].long()\n",
    "        inp,tgt = x[:-1], x[1:]\n",
    "        return inp,tgt,seq_start\n",
    "    \n",
    "class LMSampleR(Sampler):\n",
    "    def __init__(self, ds, bs,mem_len):\n",
    "        self.ds, self.bs = ds, bs\n",
    "        self.mem_len = mem_len\n",
    "        \n",
    "    def __len__(self): return len(self.ds)\n",
    "    \n",
    "    def __iter__(self):\n",
    "        for i in range(0,self.ds.x.shape[0],self.bs):\n",
    "            for j in range(0,1000,self.mem_len):\n",
    "                seq_idxs = (j,j+self.mem_len+1)\n",
    "                for k in range(self.bs):\n",
    "                    b_idx = i+k\n",
    "                    seq_start = j==0 \n",
    "                    yield (b_idx,seq_idxs, seq_start) # (bs,seq_len)"
   ]
  },
  {
   "cell_type": "code",
   "execution_count": null,
   "metadata": {
    "hidden": true
   },
   "outputs": [],
   "source": [
    "class TransXL_LM(nn.Module):\n",
    "    def __init__(self,cfg):\n",
    "        super(TransXL_LM, self).__init__()\n",
    "        self.cfg = cfg\n",
    "        self.core = ts.TransfoXLModel(cfg)\n",
    "        self.lm_head = nn.Linear(self.cfg.d_model,self.cfg.vocab_size)\n",
    "        \n",
    "    def forward(self,x,mems=None):\n",
    "        last_hidden_state,  mems = self.core(x,mems)\n",
    "        out = self.lm_head(last_hidden_state)\n",
    "        return out, mems"
   ]
  },
  {
   "cell_type": "code",
   "execution_count": null,
   "metadata": {
    "hidden": true
   },
   "outputs": [],
   "source": [
    "class Experiment(pl.LightningModule):\n",
    "\n",
    "    def __init__(self,bs):\n",
    "        super(Experiment, self).__init__()\n",
    "        self.cfg = ts.TransfoXLConfig(vocab_size=4, d_model=64, d_embed=8, n_head=4, d_head=16, d_inner=128, \n",
    "                             n_layer=6, tgt_len=0, ext_len=0, mem_len=512, cutoffs=[1], )\n",
    "        self.model = TransXL_LM(self.cfg)\n",
    "        self.bs = bs #batch size\n",
    "        self.loss_fn = nn.CrossEntropyLoss()\n",
    "        self.class_weights = torch.load('../data/Processed/class_weights')\n",
    "        \n",
    "    def forward(self, x):\n",
    "        return self.model(x)\n",
    "\n",
    "    def training_step(self, batch, batch_nb):\n",
    "        x, y, new_mem = batch\n",
    "        self.mem = None if new_mem[0] else self.mem\n",
    "        y_hat, self.mem = self.forward(x)\n",
    "        loss = self.loss_fn(y_hat.view(-1,self.cfg.vocab_size), y.view(-1))\n",
    "        tensorboard_logs = {'train_loss': loss}\n",
    "        return {'loss': loss, 'log': tensorboard_logs}\n",
    "    \n",
    "    def validation_step(self, batch, batch_idx):\n",
    "        x, y, new_mem = batch\n",
    "        self.mem = None if new_mem[0] else self.mem\n",
    "        y_hat, self.mem = self.forward(x)\n",
    "        return {'val_loss': self.loss_fn(y_hat.view(-1,self.cfg.vocab_size), y.view(-1))}\n",
    "\n",
    "    def validation_end(self, outputs):\n",
    "        avg_loss = torch.stack([x['val_loss'] for x in outputs]).mean()\n",
    "        tensorboard_logs = {'val_loss': avg_loss}\n",
    "        return {'avg_val_loss': avg_loss, 'log': tensorboard_logs}\n",
    "\n",
    "#     def test_step(self, batch, batch_idx):\n",
    "#         x, y, new_mem = batch\n",
    "#         self.mem = None if new_mem[0] else self.mem\n",
    "#         y_hat, self.mem = self.forward(x)\n",
    "#         y_pred = F.softmax(y_hat,dim=1).detach().cpu()\n",
    "#         return {'test_loss': self.loss_fn(y_hat, y),'y_pred':y_pred, 'y_true':y.cpu()}\n",
    "\n",
    "#     def test_end(self, outputs):\n",
    "#         avg_loss = torch.stack([x['test_loss'] for x in outputs]).mean()\n",
    "#         y_preds = torch.cat([x['y_pred'] for x in outputs])\n",
    "#         y_trues = torch.cat([x['y_true'] for x in outputs]).byte()\n",
    "#         roc_auc = weighted_auc(y_preds,y_trues, self.class_weights)\n",
    "        \n",
    "        tensorboard_logs = {'test_loss': avg_loss,'roc_auc':roc_auc}\n",
    "        return {'avg_test_loss': avg_loss, 'log': tensorboard_logs}\n",
    "    \n",
    "    def configure_optimizers(self):\n",
    "        return torch.optim.Adam(self.parameters(), lr=1e-4)\n",
    "\n",
    "    @pl.data_loader\n",
    "    def train_dataloader(self):\n",
    "        print('Loading training dataset')\n",
    "        train_h5 = h5py.File('../data/Processed/train.hdf5')\n",
    "        X_train = torch.tensor(train_h5['X_train'][:])\n",
    "        y_train = torch.tensor(train_h5['y_train'][:])\n",
    "        train_h5.close()\n",
    "        \n",
    "        trn_ds = LMDataset(X_train,y_train,self.cfg.mem_len)\n",
    "        splr   = LMSampleR(trn_ds,self.bs,self.cfg.mem_len)\n",
    "        trn_dl = DataLoader(trn_ds, self.bs,sampler=splr,pin_memory=True)\n",
    "        return trn_dl\n",
    "    \n",
    "    @pl.data_loader\n",
    "    def val_dataloader(self):\n",
    "        valid = np.load('../data/Processed/valid.npz')\n",
    "        X_valid = torch.tensor(valid['arr_0'][:])\n",
    "        y_valid = torch.tensor(valid['arr_1'][:])\n",
    "\n",
    "        vld_ds = LMDataset(X_valid,y_valid,self.cfg.mem_len)\n",
    "        splr   = LMSampleR(vld_ds,self.bs,self.cfg.mem_len)\n",
    "        vld_dl = DataLoader(vld_ds,self.bs,sampler=splr,pin_memory=True)\n",
    "        return vld_dl\n",
    "    \n",
    "#     @pl.data_loader\n",
    "#     def test_dataloader(self):\n",
    "#         test = np.load('../data/Processed/test.npz')\n",
    "#         X_test = torch.tensor(test['arr_0'][:])\n",
    "#         y_test = torch.tensor(test['arr_1'][:])\n",
    "                              \n",
    "#         tst_ds = LMDataset(X_test,y_test,self.cfg.mem_len)\n",
    "#         splr   = LMSampleR(tst_ds,self.bs,self.cfg.mem_len)\n",
    "#         tst_dl = DataLoader(tst_ds,self.bs,sampler=splr,pin_memory=True)\n",
    "#         return tst_dl"
   ]
  },
  {
   "cell_type": "code",
   "execution_count": null,
   "metadata": {
    "hidden": true
   },
   "outputs": [],
   "source": [
    "exp = Experiment(bs=32)\n",
    "\n",
    "trainer = pl.Trainer(gpus=1,max_nb_epochs=1, train_percent_check=0.01,val_percent_check=0.5,\n",
    "                     default_save_path='../data')    \n",
    "\n",
    "trainer.fit(exp)"
   ]
  },
  {
   "cell_type": "code",
   "execution_count": null,
   "metadata": {
    "hidden": true
   },
   "outputs": [],
   "source": [
    "#add acc\n",
    "#dataloader slow when num_workers>0\n",
    "#add shuffler to samplers\n",
    "#apex https://github.com/adityaiitb/pyprof2\n",
    "#resnet+transformerxl"
   ]
  },
  {
   "cell_type": "markdown",
   "metadata": {},
   "source": [
    "## Resnet + TransformerXL"
   ]
  },
  {
   "cell_type": "code",
   "execution_count": 2,
   "metadata": {},
   "outputs": [],
   "source": [
    "class CustomDataset(Dataset):\n",
    "    def __init__(self,x,y):\n",
    "        super(CustomDataset,self).__init__()\n",
    "        self.x, self.y = x,y\n",
    "        \n",
    "    def __len__(self): return len(self.x)\n",
    "\n",
    "    def __getitem__(self, i): return self.x[i].long(), self.y[i].float()"
   ]
  },
  {
   "cell_type": "code",
   "execution_count": 3,
   "metadata": {},
   "outputs": [],
   "source": [
    "# cyclic lr with restart\n",
    "def lr_i(step_i,cycle_len = 1000, lrs = (3e-4,1e-5),warm_pct = 4/20):\n",
    "    cycle_i = step_i%cycle_len\n",
    "    warm_len = int(cycle_len*warm_pct)\n",
    "    cool_len = cycle_len - warm_len\n",
    "    lr_range = lrs[0]-lrs[1]\n",
    "    \n",
    "    if cycle_i < warm_len:\n",
    "        return lrs[1] + lr_range*(cycle_i/warm_len)\n",
    "    else:\n",
    "        return lrs[0] - lr_range*((cycle_i-warm_len)/cool_len)\n",
    "    \n",
    "# import numpy as np\n",
    "# import matplotlib.pyplot as plt\n",
    "\n",
    "# x = np.linspace(0,50*30,10000)\n",
    "# y = list(map(lr_i,x))\n",
    "# plt.figure(figsize=(20,10))\n",
    "# plt.ylim([0,4e-4])\n",
    "# plt.scatter(x,y)"
   ]
  },
  {
   "cell_type": "code",
   "execution_count": 4,
   "metadata": {},
   "outputs": [],
   "source": [
    "# https://discuss.pytorch.org/t/check-gradient-flow-in-network/15063/8\n",
    "from matplotlib.lines import Line2D\n",
    "def plot_grad_flow(named_parameters,bottom = -0.0001, top=0.001):\n",
    "    '''Plots the gradients flowing through different layers in the net during training.\n",
    "    Can be used for checking for possible gradient vanishing / exploding problems.\n",
    "    \n",
    "    Usage: Plug this function in Trainer class after loss.backwards() as \n",
    "    \"plot_grad_flow(self.model.named_parameters())\" to visualize the gradient flow'''\n",
    "    ave_grads = []\n",
    "    max_grads= []\n",
    "    layers = []\n",
    "    for n, p in named_parameters:\n",
    "        if(p.requires_grad) and (\"bias\" not in n):\n",
    "            layers.append(n)\n",
    "#             print(n)\n",
    "            mean = p.grad.abs().mean()\n",
    "#             if mean.item() == 0: print(n)\n",
    "            ave_grads.append(mean)\n",
    "            max_grads.append(p.grad.abs().max())\n",
    "    fig = plt.figure(figsize=(18,10))       \n",
    "    plt.bar(np.arange(len(max_grads)), max_grads, alpha=0.1, lw=1, color=\"c\")\n",
    "    plt.bar(np.arange(len(max_grads)), ave_grads, alpha=0.1, lw=1, color=\"b\")\n",
    "    plt.hlines(0, 0, len(ave_grads)+1, lw=2, color=\"k\" )\n",
    "    plt.xticks(range(0,len(ave_grads), 1), layers, rotation=\"vertical\")\n",
    "    plt.xlim(left=0, right=len(ave_grads))\n",
    "    plt.ylim(bottom = bottom, top=top) # zoom in on the lower gradient regions\n",
    "    plt.xlabel(\"Layers\")\n",
    "    plt.ylabel(\"average gradient\")\n",
    "    plt.title(\"Gradient flow\")\n",
    "    plt.grid(True)\n",
    "    plt.legend([Line2D([0], [0], color=\"c\", lw=4),\n",
    "                Line2D([0], [0], color=\"b\", lw=4),\n",
    "                Line2D([0], [0], color=\"k\", lw=4)], ['max-gradient', 'mean-gradient', 'zero-gradient'])\n",
    "    return fig"
   ]
  },
  {
   "cell_type": "code",
   "execution_count": 5,
   "metadata": {},
   "outputs": [],
   "source": [
    "def plot_weight_mag(named_parameters,bottom = -0.001, top=1.5):\n",
    "    '''Plots the weight magnitude through different layers in the net during training.'''\n",
    "    ave_wgts = []\n",
    "    max_wgts = []\n",
    "    layers = []\n",
    "    for n, p in named_parameters:\n",
    "        if(p.requires_grad) and (\"bias\" not in n):\n",
    "            layers.append(n)\n",
    "            ave_wgts.append(p.abs().mean())\n",
    "            max_wgts.append(p.abs().max())\n",
    "    fig = plt.figure(figsize=(18,10))       \n",
    "    plt.bar(np.arange(len(max_wgts)), max_wgts, alpha=0.1, lw=1, color=\"c\")\n",
    "    plt.bar(np.arange(len(max_wgts)), ave_wgts, alpha=0.1, lw=1, color=\"b\")\n",
    "    plt.hlines(0, 0, len(ave_wgts)+1, lw=2, color=\"k\" )\n",
    "    plt.xticks(range(0,len(ave_wgts), 1), layers, rotation=\"vertical\")\n",
    "    plt.xlim(left=0, right=len(ave_wgts))\n",
    "    plt.ylim(bottom = bottom, top=top) # zoom in on the lower gradient regions\n",
    "    plt.xlabel(\"Layers\")\n",
    "    plt.ylabel(\"average weight\")\n",
    "    plt.title(\"Gradient flow\")\n",
    "    plt.grid(True)\n",
    "    plt.legend([Line2D([0], [0], color=\"c\", lw=4),\n",
    "                Line2D([0], [0], color=\"b\", lw=4),\n",
    "                Line2D([0], [0], color=\"k\", lw=4)], ['max-weight', 'mean-weight', 'zero-weight'])\n",
    "    return fig"
   ]
  },
  {
   "cell_type": "code",
   "execution_count": 6,
   "metadata": {},
   "outputs": [],
   "source": [
    "class Experiment(pl.LightningModule):\n",
    "\n",
    "    def __init__(self,model,hparams):\n",
    "        super(Experiment, self).__init__()\n",
    "        self.model = model\n",
    "        self.loss_fn = nn.BCEWithLogitsLoss()\n",
    "        self.class_weights = torch.load('../data/Processed/class_weights')\n",
    "        \n",
    "        self.bs = hparams.train['bs']\n",
    "        self.lr = hparams.optim['lr']\n",
    "        self.hparams = hparams\n",
    "        \n",
    "    def forward(self, x): return self.model(x)\n",
    "\n",
    "    def optimizer_step(self, current_epoch, batch_idx, optimizer, optimizer_idx, second_order_closure=None):\n",
    "        # warm up lr\n",
    "        if self.trainer.global_step < 500:\n",
    "            lr_scale = min(1., float(self.trainer.global_step + 1) / 200.)\n",
    "            for pg in optimizer.param_groups:\n",
    "                pg['lr'] = lr_scale * self.lr\n",
    "\n",
    "#         for pg in optimizer.param_groups:\n",
    "#             pg['lr'] = lr_i(self.trainer.global_step) \n",
    "        idx = batch_idx-self.hparams.train['batch_acum']+1\n",
    "        if idx%5000==0:\n",
    "            self.logger.experiment.add_figure('Gradients',plot_grad_flow(self.model.named_parameters()),idx)\n",
    "            with torch.no_grad():\n",
    "                self.logger.experiment.add_figure('Weights',plot_weight_mag(self.model.named_parameters()),idx)\n",
    "            \n",
    "        optimizer.step()\n",
    "        optimizer.zero_grad()\n",
    "    \n",
    "    def training_step(self, batch, batch_nb):\n",
    "        x, y = batch\n",
    "        y_hat, self.mem = self.forward(x)\n",
    "        loss = self.loss_fn(y_hat, y)\n",
    "        tensorboard_logs = {'train_loss': loss}\n",
    "        return {'loss': loss, 'log': tensorboard_logs}\n",
    "    \n",
    "    def validation_step(self, batch, batch_idx):\n",
    "        x, y = batch\n",
    "        y_hat, self.mem = self.forward(x)\n",
    "        y_pred = torch.sigmoid(y_hat)\n",
    "        return {'val_loss': self.loss_fn(y_hat, y),'y_pred':y_pred.cpu(), 'y_true':y.cpu()}\n",
    "\n",
    "    def validation_end(self, outputs):\n",
    "        avg_loss = torch.stack([x['val_loss'] for x in outputs]).mean()\n",
    "        y_preds = torch.cat([x['y_pred'] for x in outputs])\n",
    "        y_trues = torch.cat([x['y_true'] for x in outputs]).byte()\n",
    "\n",
    "        roc_auc, pr_auc = weighted_aucs(y_preds.cuda(),y_trues.cuda(), self.class_weights.cuda())\n",
    "        acc = accuracy(y_preds,y_trues)\n",
    "        tensorboard_logs = {'val_loss': avg_loss,'valid_roc_auc':roc_auc,'valid_pr_auc':pr_auc,'valid_acc':acc}\n",
    "        return {'avg_val_loss': avg_loss, 'log': tensorboard_logs}\n",
    "\n",
    "    def test_step(self, batch, batch_idx):\n",
    "        x, y = batch\n",
    "        y_hat, self.mem = self.forward(x)\n",
    "        y_pred = torch.sigmoid(y_hat)\n",
    "        return {'test_loss': self.loss_fn(y_hat, y),'y_pred':y_pred.cpu(), 'y_true':y.cpu()}\n",
    "\n",
    "    def test_end(self, outputs,save_preds=True):\n",
    "        avg_loss = torch.stack([x['test_loss'] for x in outputs]).mean()\n",
    "        y_preds = torch.cat([x['y_pred'] for x in outputs])\n",
    "        y_trues = torch.cat([x['y_true'] for x in outputs]).byte()\n",
    "        if save_preds: self.preds=[y_preds,y_trues]\n",
    "            \n",
    "        roc_auc, pr_auc = weighted_aucs(y_preds.cuda(),y_trues.cuda(), self.class_weights.cuda())\n",
    "        acc = accuracy(y_preds,y_trues)\n",
    "        print('Test ROC AUC:',roc_auc.item(),'Test PR AUC:',pr_auc.item())\n",
    "        tensorboard_logs = {'test_loss': avg_loss,'test_roc_auc':roc_auc,'test_pr_auc':pr_auc,'test_acc':acc}\n",
    "        return {'avg_test_loss': avg_loss, 'log': tensorboard_logs}\n",
    "    \n",
    "    def configure_optimizers(self):\n",
    "        return eval(self.hparams.optim_name)(self.parameters(), **self.hparams.optim)\n",
    "\n",
    "    @pl.data_loader\n",
    "    def train_dataloader(self):\n",
    "        print('Loading training dataset')\n",
    "        train_h5 = h5py.File('../data/Processed/train.hdf5')\n",
    "        X_train = torch.tensor(train_h5['X_train'][:])\n",
    "        y_train = torch.tensor(train_h5['y_train'][:])\n",
    "        train_h5.close()\n",
    "        \n",
    "        trn_ds = CustomDataset(X_train,y_train)\n",
    "        trn_dl = DataLoader(trn_ds, self.bs,pin_memory=True,shuffle=True)\n",
    "        return trn_dl\n",
    "    \n",
    "    @pl.data_loader\n",
    "    def val_dataloader(self):\n",
    "        valid = np.load('../data/Processed/valid.npz')\n",
    "        X_valid = torch.tensor(valid['arr_0'][:])\n",
    "        y_valid = torch.tensor(valid['arr_1'][:])\n",
    "\n",
    "        vld_ds = CustomDataset(X_valid,y_valid)\n",
    "        vld_dl = DataLoader(vld_ds,self.bs,pin_memory=True)\n",
    "        return vld_dl\n",
    "    \n",
    "    @pl.data_loader\n",
    "    def test_dataloader(self):\n",
    "        test = np.load('../data/Processed/test.npz')\n",
    "        X_test = torch.tensor(test['arr_0'][:])\n",
    "        y_test = torch.tensor(test['arr_1'][:])\n",
    "                              \n",
    "        tst_ds = CustomDataset(X_test,y_test)\n",
    "        tst_dl = DataLoader(tst_ds,self.bs,pin_memory=True)\n",
    "        return tst_dl"
   ]
  },
  {
   "cell_type": "code",
   "execution_count": 7,
   "metadata": {},
   "outputs": [],
   "source": [
    "#lstm\n",
    "hparams = {'emb': {'vocab_size':4, 'd_emb':64},\n",
    "           'resnet': {'n_res_blocks':3, 'res_k':32, 'res_p':0.01},\n",
    "           'seq_model_name': 'BiLSTM', \n",
    "           'seq_model': {'d_model':352,'p':0.01},\n",
    "           'lin': {'skip_cnt':True, 'fc_h_dim':512, 'lin_p':0.01},\n",
    "           'train': {'bs':25, 'batch_acum':4},\n",
    "           'optim_name':'torch.optim.AdamW',\n",
    "           'optim':{'lr':1e-4,'betas':(0.5,0.999),'weight_decay':0}\n",
    "          }\n",
    "# chpt_path = '../data/lightning_logs/version_19/checkpoints/_ckpt_epoch_8.ckpt'"
   ]
  },
  {
   "cell_type": "code",
   "execution_count": 7,
   "metadata": {},
   "outputs": [],
   "source": [
    "#BERT\n",
    "# hparams = {'emb': {'vocab_size':4, 'd_emb':64},\n",
    "#            'resnet': {'n_res_blocks':3, 'res_k':16, 'res_p':0.1},\n",
    "#            'seq_model_name': 'BERT', \n",
    "#            'seq_model': {'d_model':256, 'n_layer':4, 'n_head':4},\n",
    "#            'lin': {'skip_cnt':False, 'fc_h_dim':512, 'lin_p':0.05},\n",
    "#            'train': {'bs':25, 'batch_acum':4},\n",
    "#            'optim_name':'torch.optim.Adam',\n",
    "#            'optim':{'lr':1e-4,'betas':(0.5,0.999)}\n",
    "#           }"
   ]
  },
  {
   "cell_type": "code",
   "execution_count": 8,
   "metadata": {
    "scrolled": true
   },
   "outputs": [],
   "source": [
    "#t_xl model\n",
    "# hparams = {'emb': {'vocab_size':4, 'd_emb':64},\n",
    "#            'resnet': {'n_res_blocks':3, 'res_k':16},\n",
    "#            'seq_model_name': 'TransXL', \n",
    "#            'seq_model': {'d_model':352, 'n_layer':6, 'n_head':4, 'd_head':16, 'd_inner':256},\n",
    "#            'lin': {'skip_cnt':False, 'fc_h_dim':512, 'lin_p':0.5, 'WVN':True},\n",
    "#            'train': {'bs':25, 'batch_acum':4},\n",
    "#            'optim_name':'torch.optim.Adam',\n",
    "#            'optim':{'lr':1e-4,'betas':(0.5,0.999)}\n",
    "#           }"
   ]
  },
  {
   "cell_type": "code",
   "execution_count": null,
   "metadata": {
    "scrolled": true
   },
   "outputs": [
    {
     "name": "stdout",
     "output_type": "stream",
     "text": [
      "Model parameters:\t\t\t\t\n",
      "Resnet part:\t33297k\n",
      "Sequence part:\t2076k\n",
      "Linear part:\t45528k\n",
      "Total:\t\t81030k\n",
      "Selected optimization level O1:  Insert automatic casts around Pytorch functions and Tensor methods.\n",
      "\n",
      "Defaults for this optimization level are:\n",
      "enabled                : True\n",
      "opt_level              : O1\n",
      "cast_model_type        : None\n",
      "patch_torch_functions  : True\n",
      "keep_batchnorm_fp32    : None\n",
      "master_weights         : None\n",
      "loss_scale             : dynamic\n",
      "Processing user overrides (additional kwargs that are not None)...\n",
      "After processing overrides, optimization options are:\n",
      "enabled                : True\n",
      "opt_level              : O1\n",
      "cast_model_type        : None\n",
      "patch_torch_functions  : True\n",
      "keep_batchnorm_fp32    : None\n",
      "master_weights         : None\n",
      "loss_scale             : dynamic\n",
      "Loading training dataset\n"
     ]
    },
    {
     "name": "stderr",
     "output_type": "stream",
     "text": [
      "Epoch 1:   5%|▍         | 8800/182400 [15:55<5:10:07,  9.33batch/s, batch_nb=8799, gpu=0, loss=0.077, v_nb=26] \n",
      "Validating:   0%|          | 0/320 [00:00<?, ?batch/s]\u001b[A\n",
      "Epoch 1:   5%|▍         | 8805/182400 [15:55<3:55:51, 12.27batch/s, batch_nb=8799, gpu=0, loss=0.077, v_nb=26]\n",
      "Epoch 1:   5%|▍         | 8811/182400 [15:55<3:01:41, 15.92batch/s, batch_nb=8799, gpu=0, loss=0.077, v_nb=26]\n",
      "Epoch 1:   5%|▍         | 8817/182400 [15:55<2:23:46, 20.12batch/s, batch_nb=8799, gpu=0, loss=0.077, v_nb=26]\n",
      "Epoch 1:   5%|▍         | 8823/182400 [15:55<1:57:14, 24.67batch/s, batch_nb=8799, gpu=0, loss=0.077, v_nb=26]\n",
      "Epoch 1:   5%|▍         | 8829/182400 [15:55<1:38:40, 29.32batch/s, batch_nb=8799, gpu=0, loss=0.077, v_nb=26]\n",
      "Epoch 1:   5%|▍         | 8835/182400 [15:56<1:25:43, 33.75batch/s, batch_nb=8799, gpu=0, loss=0.077, v_nb=26]\n",
      "Epoch 1:   5%|▍         | 8841/182400 [15:56<1:16:36, 37.76batch/s, batch_nb=8799, gpu=0, loss=0.077, v_nb=26]\n",
      "Epoch 1:   5%|▍         | 8847/182400 [15:56<1:10:11, 41.21batch/s, batch_nb=8799, gpu=0, loss=0.077, v_nb=26]\n",
      "Epoch 1:   5%|▍         | 8853/182400 [15:56<1:05:42, 44.02batch/s, batch_nb=8799, gpu=0, loss=0.077, v_nb=26]\n",
      "Epoch 1:   5%|▍         | 8859/182400 [15:56<1:02:34, 46.22batch/s, batch_nb=8799, gpu=0, loss=0.077, v_nb=26]\n",
      "Epoch 1:   5%|▍         | 8865/182400 [15:56<1:00:35, 47.73batch/s, batch_nb=8799, gpu=0, loss=0.077, v_nb=26]\n",
      "Epoch 1:   5%|▍         | 8871/182400 [15:56<59:17, 48.78batch/s, batch_nb=8799, gpu=0, loss=0.077, v_nb=26]  \n",
      "Epoch 1:   5%|▍         | 8877/182400 [15:56<58:09, 49.73batch/s, batch_nb=8799, gpu=0, loss=0.077, v_nb=26]\n",
      "Epoch 1:   5%|▍         | 8883/182400 [15:56<57:18, 50.46batch/s, batch_nb=8799, gpu=0, loss=0.077, v_nb=26]\n",
      "Epoch 1:   5%|▍         | 8889/182400 [15:57<56:43, 50.98batch/s, batch_nb=8799, gpu=0, loss=0.077, v_nb=26]\n",
      "Epoch 1:   5%|▍         | 8895/182400 [15:57<56:17, 51.37batch/s, batch_nb=8799, gpu=0, loss=0.077, v_nb=26]\n",
      "Epoch 1:   5%|▍         | 8901/182400 [15:57<55:57, 51.67batch/s, batch_nb=8799, gpu=0, loss=0.077, v_nb=26]\n",
      "Epoch 1:   5%|▍         | 8907/182400 [15:57<55:45, 51.86batch/s, batch_nb=8799, gpu=0, loss=0.077, v_nb=26]\n",
      "Epoch 1:   5%|▍         | 8913/182400 [15:57<55:38, 51.97batch/s, batch_nb=8799, gpu=0, loss=0.077, v_nb=26]\n",
      "Epoch 1:   5%|▍         | 8919/182400 [15:57<55:33, 52.04batch/s, batch_nb=8799, gpu=0, loss=0.077, v_nb=26]\n",
      "Epoch 1:   5%|▍         | 8925/182400 [15:57<55:31, 52.08batch/s, batch_nb=8799, gpu=0, loss=0.077, v_nb=26]\n",
      "Epoch 1:   5%|▍         | 8931/182400 [15:57<55:25, 52.16batch/s, batch_nb=8799, gpu=0, loss=0.077, v_nb=26]\n",
      "Epoch 1:   5%|▍         | 8937/182400 [15:57<55:24, 52.18batch/s, batch_nb=8799, gpu=0, loss=0.077, v_nb=26]\n",
      "Epoch 1:   5%|▍         | 8943/182400 [15:58<55:25, 52.16batch/s, batch_nb=8799, gpu=0, loss=0.077, v_nb=26]\n",
      "Epoch 1:   5%|▍         | 8949/182400 [15:58<55:25, 52.17batch/s, batch_nb=8799, gpu=0, loss=0.077, v_nb=26]\n",
      "Epoch 1:   5%|▍         | 8955/182400 [15:58<55:26, 52.14batch/s, batch_nb=8799, gpu=0, loss=0.077, v_nb=26]\n",
      "Epoch 1:   5%|▍         | 8961/182400 [15:58<55:26, 52.15batch/s, batch_nb=8799, gpu=0, loss=0.077, v_nb=26]\n",
      "Epoch 1:   5%|▍         | 8967/182400 [15:58<55:27, 52.11batch/s, batch_nb=8799, gpu=0, loss=0.077, v_nb=26]\n",
      "Epoch 1:   5%|▍         | 8973/182400 [15:58<55:33, 52.03batch/s, batch_nb=8799, gpu=0, loss=0.077, v_nb=26]\n",
      "Epoch 1:   5%|▍         | 8979/182400 [15:58<55:31, 52.05batch/s, batch_nb=8799, gpu=0, loss=0.077, v_nb=26]\n",
      "Epoch 1:   5%|▍         | 8985/182400 [15:58<55:32, 52.04batch/s, batch_nb=8799, gpu=0, loss=0.077, v_nb=26]\n",
      "Epoch 1:   5%|▍         | 8991/182400 [15:59<55:33, 52.01batch/s, batch_nb=8799, gpu=0, loss=0.077, v_nb=26]\n",
      "Epoch 1:   5%|▍         | 8997/182400 [15:59<55:33, 52.02batch/s, batch_nb=8799, gpu=0, loss=0.077, v_nb=26]\n",
      "Epoch 1:   5%|▍         | 9003/182400 [15:59<55:33, 52.02batch/s, batch_nb=8799, gpu=0, loss=0.077, v_nb=26]\n",
      "Epoch 1:   5%|▍         | 9009/182400 [15:59<55:31, 52.05batch/s, batch_nb=8799, gpu=0, loss=0.077, v_nb=26]\n",
      "Epoch 1:   5%|▍         | 9015/182400 [15:59<55:31, 52.04batch/s, batch_nb=8799, gpu=0, loss=0.077, v_nb=26]\n",
      "Epoch 1:   5%|▍         | 9021/182400 [15:59<55:27, 52.10batch/s, batch_nb=8799, gpu=0, loss=0.077, v_nb=26]\n",
      "Epoch 1:   5%|▍         | 9027/182400 [15:59<55:23, 52.16batch/s, batch_nb=8799, gpu=0, loss=0.077, v_nb=26]\n",
      "Epoch 1:   5%|▍         | 9033/182400 [15:59<55:24, 52.15batch/s, batch_nb=8799, gpu=0, loss=0.077, v_nb=26]\n",
      "Epoch 1:   5%|▍         | 9039/182400 [15:59<55:25, 52.14batch/s, batch_nb=8799, gpu=0, loss=0.077, v_nb=26]\n",
      "Epoch 1:   5%|▍         | 9045/182400 [16:00<55:26, 52.12batch/s, batch_nb=8799, gpu=0, loss=0.077, v_nb=26]\n",
      "Epoch 1:   5%|▍         | 9051/182400 [16:00<55:24, 52.14batch/s, batch_nb=8799, gpu=0, loss=0.077, v_nb=26]\n",
      "Epoch 1:   5%|▍         | 9057/182400 [16:00<55:26, 52.11batch/s, batch_nb=8799, gpu=0, loss=0.077, v_nb=26]\n",
      "Epoch 1:   5%|▍         | 9063/182400 [16:00<55:26, 52.11batch/s, batch_nb=8799, gpu=0, loss=0.077, v_nb=26]\n",
      "Epoch 1:   5%|▍         | 9069/182400 [16:00<55:28, 52.08batch/s, batch_nb=8799, gpu=0, loss=0.077, v_nb=26]\n",
      "Epoch 1:   5%|▍         | 9075/182400 [16:00<55:29, 52.05batch/s, batch_nb=8799, gpu=0, loss=0.077, v_nb=26]\n",
      "Epoch 1:   5%|▍         | 9081/182400 [16:00<55:28, 52.07batch/s, batch_nb=8799, gpu=0, loss=0.077, v_nb=26]\n",
      "Epoch 1:   5%|▍         | 9087/182400 [16:00<55:28, 52.08batch/s, batch_nb=8799, gpu=0, loss=0.077, v_nb=26]\n",
      "Epoch 1:   5%|▍         | 9093/182400 [16:00<55:27, 52.08batch/s, batch_nb=8799, gpu=0, loss=0.077, v_nb=26]\n",
      "Epoch 1:   5%|▍         | 9099/182400 [16:01<55:25, 52.12batch/s, batch_nb=8799, gpu=0, loss=0.077, v_nb=26]\n",
      "Epoch 1:   5%|▍         | 9105/182400 [16:01<55:26, 52.09batch/s, batch_nb=8799, gpu=0, loss=0.077, v_nb=26]\n",
      "Epoch 1:   5%|▍         | 9111/182400 [16:01<55:24, 52.12batch/s, batch_nb=8799, gpu=0, loss=0.077, v_nb=26]\n",
      "Epoch 1:   5%|▌         | 9120/182400 [16:03<55:24, 52.13batch/s, batch_nb=8799, gpu=0, loss=0.077, v_nb=26]\n",
      "Epoch 1:   8%|▊         | 15310/182400 [27:39<4:48:09,  9.66batch/s, batch_nb=14988, gpu=0, loss=0.075, v_nb=26] "
     ]
    },
    {
     "name": "stdout",
     "output_type": "stream",
     "text": [
      "Gradient overflow.  Skipping step, loss scaler 0 reducing loss scale to 4194304.0\n"
     ]
    },
    {
     "name": "stderr",
     "output_type": "stream",
     "text": [
      "Epoch 1:  10%|▉         | 17801/182400 [32:23<5:24:42,  8.45batch/s, batch_nb=17480, gpu=0, loss=0.075, v_nb=26] "
     ]
    },
    {
     "name": "stdout",
     "output_type": "stream",
     "text": [
      "Gradient overflow.  Skipping step, loss scaler 0 reducing loss scale to 4194304.0\n"
     ]
    },
    {
     "name": "stderr",
     "output_type": "stream",
     "text": [
      "Epoch 1:  10%|▉         | 17920/182400 [32:37<5:12:58,  8.76batch/s, batch_nb=17599, gpu=0, loss=0.075, v_nb=26]\n",
      "Validating:   0%|          | 0/320 [00:00<?, ?batch/s]\u001b[A\n",
      "Epoch 1:  10%|▉         | 17925/182400 [32:38<3:59:01, 11.47batch/s, batch_nb=17599, gpu=0, loss=0.075, v_nb=26]\n",
      "Epoch 1:  10%|▉         | 17930/182400 [32:38<3:04:26, 14.86batch/s, batch_nb=17599, gpu=0, loss=0.075, v_nb=26]\n",
      "Epoch 1:  10%|▉         | 17935/182400 [32:38<2:26:31, 18.71batch/s, batch_nb=17599, gpu=0, loss=0.075, v_nb=26]\n",
      "Epoch 1:  10%|▉         | 17940/182400 [32:38<1:59:55, 22.86batch/s, batch_nb=17599, gpu=0, loss=0.075, v_nb=26]\n",
      "Epoch 1:  10%|▉         | 17945/182400 [32:38<1:40:38, 27.24batch/s, batch_nb=17599, gpu=0, loss=0.075, v_nb=26]\n",
      "Epoch 1:  10%|▉         | 17950/182400 [32:38<1:27:10, 31.44batch/s, batch_nb=17599, gpu=0, loss=0.075, v_nb=26]\n",
      "Epoch 1:  10%|▉         | 17956/182400 [32:38<1:17:15, 35.47batch/s, batch_nb=17599, gpu=0, loss=0.075, v_nb=26]\n",
      "Epoch 1:  10%|▉         | 17961/182400 [32:38<1:10:38, 38.79batch/s, batch_nb=17599, gpu=0, loss=0.075, v_nb=26]\n",
      "Epoch 1:  10%|▉         | 17967/182400 [32:38<1:05:28, 41.85batch/s, batch_nb=17599, gpu=0, loss=0.075, v_nb=26]\n",
      "Epoch 1:  10%|▉         | 17972/182400 [32:38<1:03:36, 43.08batch/s, batch_nb=17599, gpu=0, loss=0.075, v_nb=26]\n",
      "Epoch 1:  10%|▉         | 17977/182400 [32:39<1:03:35, 43.09batch/s, batch_nb=17599, gpu=0, loss=0.075, v_nb=26]\n",
      "Epoch 1:  10%|▉         | 17982/182400 [32:39<1:02:58, 43.51batch/s, batch_nb=17599, gpu=0, loss=0.075, v_nb=26]\n",
      "Epoch 1:  10%|▉         | 17987/182400 [32:39<1:02:12, 44.04batch/s, batch_nb=17599, gpu=0, loss=0.075, v_nb=26]\n",
      "Epoch 1:  10%|▉         | 17992/182400 [32:39<1:01:02, 44.88batch/s, batch_nb=17599, gpu=0, loss=0.075, v_nb=26]\n",
      "Epoch 1:  10%|▉         | 17997/182400 [32:39<1:00:06, 45.59batch/s, batch_nb=17599, gpu=0, loss=0.075, v_nb=26]\n",
      "Epoch 1:  10%|▉         | 18002/182400 [32:39<59:45, 45.85batch/s, batch_nb=17599, gpu=0, loss=0.075, v_nb=26]  \n",
      "Epoch 1:  10%|▉         | 18007/182400 [32:39<59:34, 45.98batch/s, batch_nb=17599, gpu=0, loss=0.075, v_nb=26]\n",
      "Epoch 1:  10%|▉         | 18012/182400 [32:39<59:09, 46.31batch/s, batch_nb=17599, gpu=0, loss=0.075, v_nb=26]\n",
      "Epoch 1:  10%|▉         | 18017/182400 [32:39<59:17, 46.20batch/s, batch_nb=17599, gpu=0, loss=0.075, v_nb=26]\n",
      "Epoch 1:  10%|▉         | 18022/182400 [32:40<59:38, 45.93batch/s, batch_nb=17599, gpu=0, loss=0.075, v_nb=26]\n",
      "Epoch 1:  10%|▉         | 18027/182400 [32:40<59:36, 45.96batch/s, batch_nb=17599, gpu=0, loss=0.075, v_nb=26]\n",
      "Epoch 1:  10%|▉         | 18032/182400 [32:40<1:00:05, 45.59batch/s, batch_nb=17599, gpu=0, loss=0.075, v_nb=26]\n",
      "Epoch 1:  10%|▉         | 18037/182400 [32:40<1:00:37, 45.18batch/s, batch_nb=17599, gpu=0, loss=0.075, v_nb=26]\n",
      "Epoch 1:  10%|▉         | 18042/182400 [32:40<1:00:52, 45.00batch/s, batch_nb=17599, gpu=0, loss=0.075, v_nb=26]\n",
      "Epoch 1:  10%|▉         | 18047/182400 [32:40<1:01:02, 44.87batch/s, batch_nb=17599, gpu=0, loss=0.075, v_nb=26]\n",
      "Epoch 1:  10%|▉         | 18052/182400 [32:40<1:01:02, 44.88batch/s, batch_nb=17599, gpu=0, loss=0.075, v_nb=26]\n",
      "Epoch 1:  10%|▉         | 18057/182400 [32:40<1:00:36, 45.20batch/s, batch_nb=17599, gpu=0, loss=0.075, v_nb=26]\n",
      "Epoch 1:  10%|▉         | 18062/182400 [32:40<1:00:39, 45.15batch/s, batch_nb=17599, gpu=0, loss=0.075, v_nb=26]\n",
      "Epoch 1:  10%|▉         | 18067/182400 [32:41<1:00:55, 44.95batch/s, batch_nb=17599, gpu=0, loss=0.075, v_nb=26]\n",
      "Epoch 1:  10%|▉         | 18072/182400 [32:41<1:00:44, 45.09batch/s, batch_nb=17599, gpu=0, loss=0.075, v_nb=26]\n",
      "Epoch 1:  10%|▉         | 18077/182400 [32:41<1:00:51, 45.00batch/s, batch_nb=17599, gpu=0, loss=0.075, v_nb=26]\n",
      "Epoch 1:  10%|▉         | 18082/182400 [32:41<1:01:00, 44.89batch/s, batch_nb=17599, gpu=0, loss=0.075, v_nb=26]\n",
      "Epoch 1:  10%|▉         | 18087/182400 [32:41<1:00:53, 44.97batch/s, batch_nb=17599, gpu=0, loss=0.075, v_nb=26]\n",
      "Epoch 1:  10%|▉         | 18092/182400 [32:41<1:00:51, 45.00batch/s, batch_nb=17599, gpu=0, loss=0.075, v_nb=26]\n",
      "Epoch 1:  10%|▉         | 18097/182400 [32:41<1:00:52, 44.99batch/s, batch_nb=17599, gpu=0, loss=0.075, v_nb=26]\n",
      "Epoch 1:  10%|▉         | 18102/182400 [32:41<1:00:53, 44.97batch/s, batch_nb=17599, gpu=0, loss=0.075, v_nb=26]\n",
      "Epoch 1:  10%|▉         | 18107/182400 [32:41<1:00:56, 44.93batch/s, batch_nb=17599, gpu=0, loss=0.075, v_nb=26]\n",
      "Epoch 1:  10%|▉         | 18112/182400 [32:42<1:01:01, 44.87batch/s, batch_nb=17599, gpu=0, loss=0.075, v_nb=26]\n",
      "Epoch 1:  10%|▉         | 18117/182400 [32:42<1:00:42, 45.11batch/s, batch_nb=17599, gpu=0, loss=0.075, v_nb=26]\n",
      "Epoch 1:  10%|▉         | 18122/182400 [32:42<1:00:48, 45.03batch/s, batch_nb=17599, gpu=0, loss=0.075, v_nb=26]\n",
      "Epoch 1:  10%|▉         | 18127/182400 [32:42<1:00:54, 44.95batch/s, batch_nb=17599, gpu=0, loss=0.075, v_nb=26]\n",
      "Epoch 1:  10%|▉         | 18132/182400 [32:42<1:00:37, 45.16batch/s, batch_nb=17599, gpu=0, loss=0.075, v_nb=26]\n",
      "Epoch 1:  10%|▉         | 18137/182400 [32:42<1:00:27, 45.28batch/s, batch_nb=17599, gpu=0, loss=0.075, v_nb=26]\n",
      "Epoch 1:  10%|▉         | 18142/182400 [32:42<1:00:06, 45.54batch/s, batch_nb=17599, gpu=0, loss=0.075, v_nb=26]\n",
      "Epoch 1:  10%|▉         | 18147/182400 [32:42<1:00:16, 45.42batch/s, batch_nb=17599, gpu=0, loss=0.075, v_nb=26]\n",
      "Epoch 1:  10%|▉         | 18152/182400 [32:42<1:00:26, 45.29batch/s, batch_nb=17599, gpu=0, loss=0.075, v_nb=26]\n",
      "Epoch 1:  10%|▉         | 18157/182400 [32:43<1:00:22, 45.34batch/s, batch_nb=17599, gpu=0, loss=0.075, v_nb=26]\n",
      "Epoch 1:  10%|▉         | 18162/182400 [32:43<1:00:20, 45.36batch/s, batch_nb=17599, gpu=0, loss=0.075, v_nb=26]\n",
      "Epoch 1:  10%|▉         | 18167/182400 [32:43<1:00:48, 45.02batch/s, batch_nb=17599, gpu=0, loss=0.075, v_nb=26]\n",
      "Epoch 1:  10%|▉         | 18172/182400 [32:43<1:00:40, 45.12batch/s, batch_nb=17599, gpu=0, loss=0.075, v_nb=26]\n",
      "Epoch 1:  10%|▉         | 18177/182400 [32:43<1:00:29, 45.25batch/s, batch_nb=17599, gpu=0, loss=0.075, v_nb=26]\n",
      "Epoch 1:  10%|▉         | 18182/182400 [32:43<1:00:54, 44.94batch/s, batch_nb=17599, gpu=0, loss=0.075, v_nb=26]\n",
      "Epoch 1:  10%|▉         | 18187/182400 [32:43<1:00:35, 45.17batch/s, batch_nb=17599, gpu=0, loss=0.075, v_nb=26]\n",
      "Epoch 1:  10%|▉         | 18192/182400 [32:43<1:00:43, 45.07batch/s, batch_nb=17599, gpu=0, loss=0.075, v_nb=26]\n",
      "Epoch 1:  10%|▉         | 18197/182400 [32:43<1:00:55, 44.92batch/s, batch_nb=17599, gpu=0, loss=0.075, v_nb=26]\n",
      "Epoch 1:  10%|▉         | 18202/182400 [32:44<1:00:34, 45.17batch/s, batch_nb=17599, gpu=0, loss=0.075, v_nb=26]\n",
      "Epoch 1:  10%|▉         | 18207/182400 [32:44<1:00:46, 45.03batch/s, batch_nb=17599, gpu=0, loss=0.075, v_nb=26]\n",
      "Epoch 1:  10%|▉         | 18212/182400 [32:44<1:00:28, 45.25batch/s, batch_nb=17599, gpu=0, loss=0.075, v_nb=26]\n",
      "Epoch 1:  10%|▉         | 18217/182400 [32:44<1:00:14, 45.42batch/s, batch_nb=17599, gpu=0, loss=0.075, v_nb=26]\n",
      "Epoch 1:  10%|▉         | 18222/182400 [32:44<1:00:17, 45.38batch/s, batch_nb=17599, gpu=0, loss=0.075, v_nb=26]\n",
      "Epoch 1:  10%|▉         | 18227/182400 [32:44<1:00:11, 45.46batch/s, batch_nb=17599, gpu=0, loss=0.075, v_nb=26]\n",
      "Epoch 1:  10%|▉         | 18232/182400 [32:44<1:00:24, 45.29batch/s, batch_nb=17599, gpu=0, loss=0.075, v_nb=26]\n",
      "Epoch 1:  10%|█         | 18240/182400 [32:46<1:00:17, 45.38batch/s, batch_nb=17599, gpu=0, loss=0.075, v_nb=26]\n",
      "Epoch 1:  11%|█▏        | 20697/182400 [37:47<5:14:30,  8.57batch/s, batch_nb=20056, gpu=0, loss=0.074, v_nb=26] "
     ]
    },
    {
     "name": "stdout",
     "output_type": "stream",
     "text": [
      "Gradient overflow.  Skipping step, loss scaler 0 reducing loss scale to 4194304.0\n"
     ]
    },
    {
     "name": "stderr",
     "output_type": "stream",
     "text": [
      "Epoch 1:  12%|█▏        | 22725/182400 [41:52<4:41:03,  9.47batch/s, batch_nb=22084, gpu=0, loss=0.072, v_nb=26]"
     ]
    },
    {
     "name": "stdout",
     "output_type": "stream",
     "text": [
      "Gradient overflow.  Skipping step, loss scaler 0 reducing loss scale to 4194304.0\n"
     ]
    },
    {
     "name": "stderr",
     "output_type": "stream",
     "text": [
      "Epoch 1:  14%|█▎        | 24985/182400 [46:18<5:02:58,  8.66batch/s, batch_nb=24344, gpu=0, loss=0.074, v_nb=26]"
     ]
    },
    {
     "name": "stdout",
     "output_type": "stream",
     "text": [
      "Gradient overflow.  Skipping step, loss scaler 0 reducing loss scale to 4194304.0\n"
     ]
    },
    {
     "name": "stderr",
     "output_type": "stream",
     "text": [
      "Epoch 1:  15%|█▍        | 27040/182400 [50:13<4:50:58,  8.90batch/s, batch_nb=26399, gpu=0, loss=0.071, v_nb=26] \n",
      "Validating:   0%|          | 0/320 [00:00<?, ?batch/s]\u001b[A\n",
      "Epoch 1:  15%|█▍        | 27045/182400 [50:13<3:41:09, 11.71batch/s, batch_nb=26399, gpu=0, loss=0.071, v_nb=26]\n",
      "Epoch 1:  15%|█▍        | 27051/182400 [50:13<2:49:53, 15.24batch/s, batch_nb=26399, gpu=0, loss=0.071, v_nb=26]\n",
      "Epoch 1:  15%|█▍        | 27056/182400 [50:14<2:14:35, 19.24batch/s, batch_nb=26399, gpu=0, loss=0.071, v_nb=26]\n",
      "Epoch 1:  15%|█▍        | 27061/182400 [50:14<1:50:15, 23.48batch/s, batch_nb=26399, gpu=0, loss=0.071, v_nb=26]\n",
      "Epoch 1:  15%|█▍        | 27066/182400 [50:14<1:33:13, 27.77batch/s, batch_nb=26399, gpu=0, loss=0.071, v_nb=26]\n",
      "Epoch 1:  15%|█▍        | 27072/182400 [50:14<1:20:14, 32.26batch/s, batch_nb=26399, gpu=0, loss=0.071, v_nb=26]\n",
      "Epoch 1:  15%|█▍        | 27078/182400 [50:14<1:11:10, 36.37batch/s, batch_nb=26399, gpu=0, loss=0.071, v_nb=26]\n",
      "Epoch 1:  15%|█▍        | 27084/182400 [50:14<1:04:51, 39.92batch/s, batch_nb=26399, gpu=0, loss=0.071, v_nb=26]\n",
      "Epoch 1:  15%|█▍        | 27090/182400 [50:14<1:00:41, 42.65batch/s, batch_nb=26399, gpu=0, loss=0.071, v_nb=26]\n",
      "Epoch 1:  15%|█▍        | 27095/182400 [50:14<58:07, 44.53batch/s, batch_nb=26399, gpu=0, loss=0.071, v_nb=26]  \n",
      "Epoch 1:  15%|█▍        | 27101/182400 [50:14<56:08, 46.10batch/s, batch_nb=26399, gpu=0, loss=0.071, v_nb=26]\n",
      "Epoch 1:  15%|█▍        | 27106/182400 [50:15<57:03, 45.36batch/s, batch_nb=26399, gpu=0, loss=0.071, v_nb=26]\n",
      "Epoch 1:  15%|█▍        | 27111/182400 [50:15<57:45, 44.81batch/s, batch_nb=26399, gpu=0, loss=0.071, v_nb=26]\n",
      "Epoch 1:  15%|█▍        | 27116/182400 [50:15<56:05, 46.14batch/s, batch_nb=26399, gpu=0, loss=0.071, v_nb=26]\n",
      "Epoch 1:  15%|█▍        | 27122/182400 [50:15<54:21, 47.61batch/s, batch_nb=26399, gpu=0, loss=0.071, v_nb=26]\n",
      "Epoch 1:  15%|█▍        | 27128/182400 [50:15<53:16, 48.58batch/s, batch_nb=26399, gpu=0, loss=0.071, v_nb=26]\n",
      "Epoch 1:  15%|█▍        | 27133/182400 [50:15<55:01, 47.02batch/s, batch_nb=26399, gpu=0, loss=0.071, v_nb=26]\n",
      "Epoch 1:  15%|█▍        | 27138/182400 [50:15<54:15, 47.69batch/s, batch_nb=26399, gpu=0, loss=0.071, v_nb=26]\n",
      "Epoch 1:  15%|█▍        | 27143/182400 [50:15<55:10, 46.91batch/s, batch_nb=26399, gpu=0, loss=0.071, v_nb=26]\n",
      "Epoch 1:  15%|█▍        | 27149/182400 [50:15<53:41, 48.18batch/s, batch_nb=26399, gpu=0, loss=0.071, v_nb=26]\n",
      "Epoch 1:  15%|█▍        | 27154/182400 [50:16<53:09, 48.68batch/s, batch_nb=26399, gpu=0, loss=0.071, v_nb=26]\n",
      "Epoch 1:  15%|█▍        | 27160/182400 [50:16<52:14, 49.53batch/s, batch_nb=26399, gpu=0, loss=0.071, v_nb=26]\n",
      "Epoch 1:  15%|█▍        | 27166/182400 [50:16<51:36, 50.13batch/s, batch_nb=26399, gpu=0, loss=0.071, v_nb=26]\n",
      "Epoch 1:  15%|█▍        | 27172/182400 [50:16<50:56, 50.79batch/s, batch_nb=26399, gpu=0, loss=0.071, v_nb=26]\n",
      "Epoch 1:  15%|█▍        | 27178/182400 [50:16<50:34, 51.16batch/s, batch_nb=26399, gpu=0, loss=0.071, v_nb=26]\n",
      "Epoch 1:  15%|█▍        | 27184/182400 [50:16<50:29, 51.24batch/s, batch_nb=26399, gpu=0, loss=0.071, v_nb=26]\n",
      "Epoch 1:  15%|█▍        | 27190/182400 [50:16<50:28, 51.25batch/s, batch_nb=26399, gpu=0, loss=0.071, v_nb=26]\n",
      "Epoch 1:  15%|█▍        | 27196/182400 [50:16<50:22, 51.35batch/s, batch_nb=26399, gpu=0, loss=0.071, v_nb=26]\n",
      "Epoch 1:  15%|█▍        | 27202/182400 [50:16<50:13, 51.50batch/s, batch_nb=26399, gpu=0, loss=0.071, v_nb=26]\n",
      "Epoch 1:  15%|█▍        | 27208/182400 [50:17<50:16, 51.45batch/s, batch_nb=26399, gpu=0, loss=0.071, v_nb=26]\n",
      "Epoch 1:  15%|█▍        | 27214/182400 [50:17<50:35, 51.13batch/s, batch_nb=26399, gpu=0, loss=0.071, v_nb=26]\n",
      "Epoch 1:  15%|█▍        | 27220/182400 [50:17<50:50, 50.87batch/s, batch_nb=26399, gpu=0, loss=0.071, v_nb=26]\n",
      "Epoch 1:  15%|█▍        | 27226/182400 [50:17<51:10, 50.54batch/s, batch_nb=26399, gpu=0, loss=0.071, v_nb=26]\n",
      "Epoch 1:  15%|█▍        | 27232/182400 [50:17<51:10, 50.54batch/s, batch_nb=26399, gpu=0, loss=0.071, v_nb=26]\n",
      "Epoch 1:  15%|█▍        | 27238/182400 [50:17<50:51, 50.85batch/s, batch_nb=26399, gpu=0, loss=0.071, v_nb=26]\n",
      "Epoch 1:  15%|█▍        | 27244/182400 [50:17<50:36, 51.10batch/s, batch_nb=26399, gpu=0, loss=0.071, v_nb=26]\n",
      "Epoch 1:  15%|█▍        | 27250/182400 [50:17<50:42, 51.00batch/s, batch_nb=26399, gpu=0, loss=0.071, v_nb=26]\n",
      "Epoch 1:  15%|█▍        | 27256/182400 [50:18<50:29, 51.22batch/s, batch_nb=26399, gpu=0, loss=0.071, v_nb=26]\n",
      "Epoch 1:  15%|█▍        | 27262/182400 [50:18<50:28, 51.22batch/s, batch_nb=26399, gpu=0, loss=0.071, v_nb=26]\n",
      "Epoch 1:  15%|█▍        | 27268/182400 [50:18<50:28, 51.22batch/s, batch_nb=26399, gpu=0, loss=0.071, v_nb=26]\n",
      "Epoch 1:  15%|█▍        | 27274/182400 [50:18<50:28, 51.22batch/s, batch_nb=26399, gpu=0, loss=0.071, v_nb=26]\n",
      "Epoch 1:  15%|█▍        | 27280/182400 [50:18<50:52, 50.81batch/s, batch_nb=26399, gpu=0, loss=0.071, v_nb=26]\n",
      "Epoch 1:  15%|█▍        | 27286/182400 [50:18<50:51, 50.82batch/s, batch_nb=26399, gpu=0, loss=0.071, v_nb=26]\n",
      "Epoch 1:  15%|█▍        | 27292/182400 [50:18<50:47, 50.90batch/s, batch_nb=26399, gpu=0, loss=0.071, v_nb=26]\n",
      "Epoch 1:  15%|█▍        | 27298/182400 [50:18<50:49, 50.87batch/s, batch_nb=26399, gpu=0, loss=0.071, v_nb=26]\n",
      "Epoch 1:  15%|█▍        | 27304/182400 [50:19<51:00, 50.68batch/s, batch_nb=26399, gpu=0, loss=0.071, v_nb=26]\n",
      "Epoch 1:  15%|█▍        | 27310/182400 [50:19<50:48, 50.88batch/s, batch_nb=26399, gpu=0, loss=0.071, v_nb=26]\n",
      "Epoch 1:  15%|█▍        | 27316/182400 [50:19<50:42, 50.97batch/s, batch_nb=26399, gpu=0, loss=0.071, v_nb=26]\n",
      "Epoch 1:  15%|█▍        | 27322/182400 [50:19<50:41, 50.98batch/s, batch_nb=26399, gpu=0, loss=0.071, v_nb=26]\n",
      "Epoch 1:  15%|█▍        | 27328/182400 [50:19<50:45, 50.91batch/s, batch_nb=26399, gpu=0, loss=0.071, v_nb=26]\n",
      "Epoch 1:  15%|█▍        | 27334/182400 [50:19<50:54, 50.76batch/s, batch_nb=26399, gpu=0, loss=0.071, v_nb=26]\n",
      "Epoch 1:  15%|█▍        | 27340/182400 [50:19<50:41, 50.98batch/s, batch_nb=26399, gpu=0, loss=0.071, v_nb=26]\n",
      "Epoch 1:  15%|█▍        | 27346/182400 [50:19<50:30, 51.16batch/s, batch_nb=26399, gpu=0, loss=0.071, v_nb=26]\n",
      "Epoch 1:  15%|█▍        | 27352/182400 [50:19<50:26, 51.23batch/s, batch_nb=26399, gpu=0, loss=0.071, v_nb=26]\n",
      "Epoch 1:  15%|█▌        | 27360/182400 [50:21<50:39, 51.00batch/s, batch_nb=26399, gpu=0, loss=0.071, v_nb=26]\n",
      "Epoch 1:  15%|█▌        | 27949/182400 [51:35<4:52:41,  8.79batch/s, batch_nb=26988, gpu=0, loss=0.072, v_nb=26] "
     ]
    },
    {
     "name": "stdout",
     "output_type": "stream",
     "text": [
      "Gradient overflow.  Skipping step, loss scaler 0 reducing loss scale to 4194304.0\n"
     ]
    },
    {
     "name": "stderr",
     "output_type": "stream",
     "text": [
      "Epoch 1:  17%|█▋        | 30185/182400 [56:05<4:59:48,  8.46batch/s, batch_nb=29224, gpu=0, loss=0.072, v_nb=26]"
     ]
    },
    {
     "name": "stdout",
     "output_type": "stream",
     "text": [
      "Gradient overflow.  Skipping step, loss scaler 0 reducing loss scale to 4194304.0\n"
     ]
    },
    {
     "name": "stderr",
     "output_type": "stream",
     "text": [
      "Epoch 1:  18%|█▊        | 32945/182400 [1:01:37<4:50:20,  8.58batch/s, batch_nb=31984, gpu=0, loss=0.071, v_nb=26]"
     ]
    },
    {
     "name": "stdout",
     "output_type": "stream",
     "text": [
      "Gradient overflow.  Skipping step, loss scaler 0 reducing loss scale to 4194304.0\n"
     ]
    },
    {
     "name": "stderr",
     "output_type": "stream",
     "text": [
      "Epoch 1:  19%|█▉        | 35261/182400 [1:06:15<5:05:57,  8.02batch/s, batch_nb=34300, gpu=0, loss=0.073, v_nb=26]"
     ]
    },
    {
     "name": "stdout",
     "output_type": "stream",
     "text": [
      "Gradient overflow.  Skipping step, loss scaler 0 reducing loss scale to 4194304.0\n"
     ]
    },
    {
     "name": "stderr",
     "output_type": "stream",
     "text": [
      "Epoch 1:  20%|█▉        | 36160/182400 [1:08:03<4:45:45,  8.53batch/s, batch_nb=35199, gpu=0, loss=0.071, v_nb=26] \n",
      "Validating:   0%|          | 0/320 [00:00<?, ?batch/s]\u001b[A\n",
      "Epoch 1:  20%|█▉        | 36165/182400 [1:08:03<3:37:51, 11.19batch/s, batch_nb=35199, gpu=0, loss=0.071, v_nb=26]\n",
      "Epoch 1:  20%|█▉        | 36170/182400 [1:08:04<2:47:40, 14.54batch/s, batch_nb=35199, gpu=0, loss=0.071, v_nb=26]\n",
      "Epoch 1:  20%|█▉        | 36175/182400 [1:08:04<2:12:31, 18.39batch/s, batch_nb=35199, gpu=0, loss=0.071, v_nb=26]\n",
      "Epoch 1:  20%|█▉        | 36180/182400 [1:08:04<1:48:16, 22.51batch/s, batch_nb=35199, gpu=0, loss=0.071, v_nb=26]\n",
      "Epoch 1:  20%|█▉        | 36185/182400 [1:08:04<1:31:17, 26.70batch/s, batch_nb=35199, gpu=0, loss=0.071, v_nb=26]\n",
      "Epoch 1:  20%|█▉        | 36190/182400 [1:08:04<1:19:11, 30.77batch/s, batch_nb=35199, gpu=0, loss=0.071, v_nb=26]\n",
      "Epoch 1:  20%|█▉        | 36195/182400 [1:08:04<1:10:37, 34.50batch/s, batch_nb=35199, gpu=0, loss=0.071, v_nb=26]\n",
      "Epoch 1:  20%|█▉        | 36200/182400 [1:08:04<1:04:37, 37.70batch/s, batch_nb=35199, gpu=0, loss=0.071, v_nb=26]\n",
      "Epoch 1:  20%|█▉        | 36205/182400 [1:08:04<1:00:22, 40.36batch/s, batch_nb=35199, gpu=0, loss=0.071, v_nb=26]\n",
      "Epoch 1:  20%|█▉        | 36210/182400 [1:08:04<57:55, 42.06batch/s, batch_nb=35199, gpu=0, loss=0.071, v_nb=26]  \n",
      "Epoch 1:  20%|█▉        | 36215/182400 [1:08:04<55:55, 43.57batch/s, batch_nb=35199, gpu=0, loss=0.071, v_nb=26]\n",
      "Epoch 1:  20%|█▉        | 36220/182400 [1:08:05<54:44, 44.51batch/s, batch_nb=35199, gpu=0, loss=0.071, v_nb=26]\n",
      "Epoch 1:  20%|█▉        | 36225/182400 [1:08:05<53:38, 45.42batch/s, batch_nb=35199, gpu=0, loss=0.071, v_nb=26]\n",
      "Epoch 1:  20%|█▉        | 36230/182400 [1:08:05<53:18, 45.69batch/s, batch_nb=35199, gpu=0, loss=0.071, v_nb=26]\n",
      "Epoch 1:  20%|█▉        | 36235/182400 [1:08:05<52:54, 46.05batch/s, batch_nb=35199, gpu=0, loss=0.071, v_nb=26]\n",
      "Epoch 1:  20%|█▉        | 36240/182400 [1:08:05<52:46, 46.15batch/s, batch_nb=35199, gpu=0, loss=0.071, v_nb=26]\n",
      "Epoch 1:  20%|█▉        | 36245/182400 [1:08:05<52:30, 46.39batch/s, batch_nb=35199, gpu=0, loss=0.071, v_nb=26]\n",
      "Epoch 1:  20%|█▉        | 36250/182400 [1:08:05<52:22, 46.51batch/s, batch_nb=35199, gpu=0, loss=0.071, v_nb=26]\n",
      "Epoch 1:  20%|█▉        | 36255/182400 [1:08:05<52:12, 46.65batch/s, batch_nb=35199, gpu=0, loss=0.071, v_nb=26]\n",
      "Epoch 1:  20%|█▉        | 36260/182400 [1:08:05<52:22, 46.50batch/s, batch_nb=35199, gpu=0, loss=0.071, v_nb=26]\n",
      "Epoch 1:  20%|█▉        | 36265/182400 [1:08:06<52:21, 46.51batch/s, batch_nb=35199, gpu=0, loss=0.071, v_nb=26]\n",
      "Epoch 1:  20%|█▉        | 36270/182400 [1:08:06<52:20, 46.53batch/s, batch_nb=35199, gpu=0, loss=0.071, v_nb=26]\n",
      "Epoch 1:  20%|█▉        | 36275/182400 [1:08:06<52:11, 46.66batch/s, batch_nb=35199, gpu=0, loss=0.071, v_nb=26]\n",
      "Epoch 1:  20%|█▉        | 36280/182400 [1:08:06<52:09, 46.69batch/s, batch_nb=35199, gpu=0, loss=0.071, v_nb=26]\n",
      "Epoch 1:  20%|█▉        | 36285/182400 [1:08:06<52:29, 46.39batch/s, batch_nb=35199, gpu=0, loss=0.071, v_nb=26]\n",
      "Epoch 1:  20%|█▉        | 36290/182400 [1:08:06<52:29, 46.39batch/s, batch_nb=35199, gpu=0, loss=0.071, v_nb=26]\n",
      "Epoch 1:  20%|█▉        | 36295/182400 [1:08:06<52:18, 46.56batch/s, batch_nb=35199, gpu=0, loss=0.071, v_nb=26]\n",
      "Epoch 1:  20%|█▉        | 36300/182400 [1:08:06<52:07, 46.71batch/s, batch_nb=35199, gpu=0, loss=0.071, v_nb=26]\n",
      "Epoch 1:  20%|█▉        | 36305/182400 [1:08:06<52:00, 46.81batch/s, batch_nb=35199, gpu=0, loss=0.071, v_nb=26]\n",
      "Epoch 1:  20%|█▉        | 36310/182400 [1:08:07<52:38, 46.25batch/s, batch_nb=35199, gpu=0, loss=0.071, v_nb=26]\n",
      "Epoch 1:  20%|█▉        | 36315/182400 [1:08:07<52:53, 46.03batch/s, batch_nb=35199, gpu=0, loss=0.071, v_nb=26]\n",
      "Epoch 1:  20%|█▉        | 36320/182400 [1:08:07<52:38, 46.25batch/s, batch_nb=35199, gpu=0, loss=0.071, v_nb=26]\n",
      "Epoch 1:  20%|█▉        | 36325/182400 [1:08:07<52:11, 46.64batch/s, batch_nb=35199, gpu=0, loss=0.071, v_nb=26]\n",
      "Epoch 1:  20%|█▉        | 36330/182400 [1:08:07<52:00, 46.81batch/s, batch_nb=35199, gpu=0, loss=0.071, v_nb=26]\n",
      "Epoch 1:  20%|█▉        | 36335/182400 [1:08:07<51:35, 47.18batch/s, batch_nb=35199, gpu=0, loss=0.071, v_nb=26]\n",
      "Epoch 1:  20%|█▉        | 36340/182400 [1:08:07<51:47, 47.00batch/s, batch_nb=35199, gpu=0, loss=0.071, v_nb=26]\n",
      "Epoch 1:  20%|█▉        | 36345/182400 [1:08:07<51:26, 47.33batch/s, batch_nb=35199, gpu=0, loss=0.071, v_nb=26]\n",
      "Epoch 1:  20%|█▉        | 36350/182400 [1:08:07<51:31, 47.24batch/s, batch_nb=35199, gpu=0, loss=0.071, v_nb=26]\n",
      "Epoch 1:  20%|█▉        | 36355/182400 [1:08:07<51:38, 47.14batch/s, batch_nb=35199, gpu=0, loss=0.071, v_nb=26]\n",
      "Epoch 1:  20%|█▉        | 36360/182400 [1:08:08<51:45, 47.02batch/s, batch_nb=35199, gpu=0, loss=0.071, v_nb=26]\n",
      "Epoch 1:  20%|█▉        | 36365/182400 [1:08:08<51:37, 47.14batch/s, batch_nb=35199, gpu=0, loss=0.071, v_nb=26]\n",
      "Epoch 1:  20%|█▉        | 36370/182400 [1:08:08<51:11, 47.54batch/s, batch_nb=35199, gpu=0, loss=0.071, v_nb=26]\n",
      "Epoch 1:  20%|█▉        | 36375/182400 [1:08:08<51:06, 47.62batch/s, batch_nb=35199, gpu=0, loss=0.071, v_nb=26]\n",
      "Epoch 1:  20%|█▉        | 36380/182400 [1:08:08<51:15, 47.48batch/s, batch_nb=35199, gpu=0, loss=0.071, v_nb=26]\n",
      "Epoch 1:  20%|█▉        | 36385/182400 [1:08:08<51:13, 47.52batch/s, batch_nb=35199, gpu=0, loss=0.071, v_nb=26]\n",
      "Epoch 1:  20%|█▉        | 36390/182400 [1:08:08<51:07, 47.61batch/s, batch_nb=35199, gpu=0, loss=0.071, v_nb=26]\n",
      "Epoch 1:  20%|█▉        | 36395/182400 [1:08:08<51:19, 47.41batch/s, batch_nb=35199, gpu=0, loss=0.071, v_nb=26]\n",
      "Epoch 1:  20%|█▉        | 36400/182400 [1:08:08<51:08, 47.58batch/s, batch_nb=35199, gpu=0, loss=0.071, v_nb=26]\n",
      "Epoch 1:  20%|█▉        | 36405/182400 [1:08:09<51:36, 47.15batch/s, batch_nb=35199, gpu=0, loss=0.071, v_nb=26]\n",
      "Epoch 1:  20%|█▉        | 36410/182400 [1:08:09<51:30, 47.24batch/s, batch_nb=35199, gpu=0, loss=0.071, v_nb=26]\n",
      "Epoch 1:  20%|█▉        | 36415/182400 [1:08:09<51:27, 47.28batch/s, batch_nb=35199, gpu=0, loss=0.071, v_nb=26]\n",
      "Epoch 1:  20%|█▉        | 36420/182400 [1:08:09<51:18, 47.42batch/s, batch_nb=35199, gpu=0, loss=0.071, v_nb=26]\n",
      "Epoch 1:  20%|█▉        | 36425/182400 [1:08:09<51:32, 47.21batch/s, batch_nb=35199, gpu=0, loss=0.071, v_nb=26]\n",
      "Epoch 1:  20%|█▉        | 36430/182400 [1:08:09<51:18, 47.41batch/s, batch_nb=35199, gpu=0, loss=0.071, v_nb=26]\n",
      "Epoch 1:  20%|█▉        | 36435/182400 [1:08:09<51:28, 47.26batch/s, batch_nb=35199, gpu=0, loss=0.071, v_nb=26]\n",
      "Epoch 1:  20%|█▉        | 36440/182400 [1:08:09<51:17, 47.43batch/s, batch_nb=35199, gpu=0, loss=0.071, v_nb=26]\n",
      "Epoch 1:  20%|█▉        | 36445/182400 [1:08:09<51:27, 47.28batch/s, batch_nb=35199, gpu=0, loss=0.071, v_nb=26]\n",
      "Epoch 1:  20%|█▉        | 36450/182400 [1:08:09<51:26, 47.28batch/s, batch_nb=35199, gpu=0, loss=0.071, v_nb=26]\n",
      "Epoch 1:  20%|█▉        | 36455/182400 [1:08:10<51:18, 47.41batch/s, batch_nb=35199, gpu=0, loss=0.071, v_nb=26]\n",
      "Epoch 1:  20%|█▉        | 36460/182400 [1:08:10<51:03, 47.64batch/s, batch_nb=35199, gpu=0, loss=0.071, v_nb=26]\n",
      "Epoch 1:  20%|█▉        | 36465/182400 [1:08:10<51:00, 47.68batch/s, batch_nb=35199, gpu=0, loss=0.071, v_nb=26]\n",
      "Epoch 1:  20%|█▉        | 36470/182400 [1:08:10<51:00, 47.69batch/s, batch_nb=35199, gpu=0, loss=0.071, v_nb=26]\n",
      "Epoch 1:  20%|█▉        | 36475/182400 [1:08:10<51:39, 47.08batch/s, batch_nb=35199, gpu=0, loss=0.071, v_nb=26]\n",
      "Epoch 1:  20%|██        | 36480/182400 [1:08:12<51:37, 47.11batch/s, batch_nb=35199, gpu=0, loss=0.071, v_nb=26]\n",
      "Epoch 1:  21%|██▏       | 39053/182400 [1:13:26<4:57:03,  8.04batch/s, batch_nb=37772, gpu=0, loss=0.070, v_nb=26] "
     ]
    },
    {
     "name": "stdout",
     "output_type": "stream",
     "text": [
      "Gradient overflow.  Skipping step, loss scaler 0 reducing loss scale to 4194304.0\n"
     ]
    },
    {
     "name": "stderr",
     "output_type": "stream",
     "text": [
      "Epoch 1:  23%|██▎       | 41385/182400 [1:17:58<4:17:08,  9.14batch/s, batch_nb=40104, gpu=0, loss=0.070, v_nb=26] "
     ]
    },
    {
     "name": "stdout",
     "output_type": "stream",
     "text": [
      "Gradient overflow.  Skipping step, loss scaler 0 reducing loss scale to 4194304.0\n"
     ]
    },
    {
     "name": "stderr",
     "output_type": "stream",
     "text": [
      "Epoch 1:  24%|██▍       | 43661/182400 [1:22:21<4:02:02,  9.55batch/s, batch_nb=42380, gpu=0, loss=0.069, v_nb=26]"
     ]
    },
    {
     "name": "stdout",
     "output_type": "stream",
     "text": [
      "Gradient overflow.  Skipping step, loss scaler 0 reducing loss scale to 4194304.0\n"
     ]
    },
    {
     "name": "stderr",
     "output_type": "stream",
     "text": [
      "Epoch 1:  25%|██▍       | 45280/182400 [1:25:24<4:11:07,  9.10batch/s, batch_nb=43999, gpu=0, loss=0.069, v_nb=26]\n",
      "Validating:   0%|          | 0/320 [00:00<?, ?batch/s]\u001b[A\n",
      "Epoch 1:  25%|██▍       | 45285/182400 [1:25:24<3:11:02, 11.96batch/s, batch_nb=43999, gpu=0, loss=0.069, v_nb=26]\n",
      "Epoch 1:  25%|██▍       | 45291/182400 [1:25:24<2:27:15, 15.52batch/s, batch_nb=43999, gpu=0, loss=0.069, v_nb=26]\n",
      "Epoch 1:  25%|██▍       | 45297/182400 [1:25:25<1:56:32, 19.61batch/s, batch_nb=43999, gpu=0, loss=0.069, v_nb=26]\n",
      "Epoch 1:  25%|██▍       | 45302/182400 [1:25:25<1:35:36, 23.90batch/s, batch_nb=43999, gpu=0, loss=0.069, v_nb=26]\n",
      "Epoch 1:  25%|██▍       | 45308/182400 [1:25:25<1:20:38, 28.33batch/s, batch_nb=43999, gpu=0, loss=0.069, v_nb=26]\n",
      "Epoch 1:  25%|██▍       | 45313/182400 [1:25:25<1:10:25, 32.44batch/s, batch_nb=43999, gpu=0, loss=0.069, v_nb=26]\n",
      "Epoch 1:  25%|██▍       | 45319/182400 [1:25:25<1:02:46, 36.39batch/s, batch_nb=43999, gpu=0, loss=0.069, v_nb=26]\n",
      "Epoch 1:  25%|██▍       | 45324/182400 [1:25:25<58:36, 38.98batch/s, batch_nb=43999, gpu=0, loss=0.069, v_nb=26]  \n",
      "Epoch 1:  25%|██▍       | 45330/182400 [1:25:25<54:20, 42.03batch/s, batch_nb=43999, gpu=0, loss=0.069, v_nb=26]\n",
      "Epoch 1:  25%|██▍       | 45336/182400 [1:25:25<51:30, 44.35batch/s, batch_nb=43999, gpu=0, loss=0.069, v_nb=26]\n",
      "Epoch 1:  25%|██▍       | 45342/182400 [1:25:25<49:18, 46.32batch/s, batch_nb=43999, gpu=0, loss=0.069, v_nb=26]\n",
      "Epoch 1:  25%|██▍       | 45348/182400 [1:25:26<47:46, 47.81batch/s, batch_nb=43999, gpu=0, loss=0.069, v_nb=26]\n",
      "Epoch 1:  25%|██▍       | 45354/182400 [1:25:26<46:41, 48.92batch/s, batch_nb=43999, gpu=0, loss=0.069, v_nb=26]\n",
      "Epoch 1:  25%|██▍       | 45360/182400 [1:25:26<45:54, 49.74batch/s, batch_nb=43999, gpu=0, loss=0.069, v_nb=26]\n",
      "Epoch 1:  25%|██▍       | 45366/182400 [1:25:26<45:23, 50.32batch/s, batch_nb=43999, gpu=0, loss=0.069, v_nb=26]\n",
      "Epoch 1:  25%|██▍       | 45372/182400 [1:25:26<45:34, 50.10batch/s, batch_nb=43999, gpu=0, loss=0.069, v_nb=26]\n",
      "Epoch 1:  25%|██▍       | 45378/182400 [1:25:26<45:23, 50.31batch/s, batch_nb=43999, gpu=0, loss=0.069, v_nb=26]\n",
      "Epoch 1:  25%|██▍       | 45384/182400 [1:25:26<45:07, 50.61batch/s, batch_nb=43999, gpu=0, loss=0.069, v_nb=26]\n",
      "Epoch 1:  25%|██▍       | 45390/182400 [1:25:26<46:06, 49.53batch/s, batch_nb=43999, gpu=0, loss=0.069, v_nb=26]\n",
      "Epoch 1:  25%|██▍       | 45395/182400 [1:25:27<47:21, 48.21batch/s, batch_nb=43999, gpu=0, loss=0.069, v_nb=26]\n",
      "Epoch 1:  25%|██▍       | 45401/182400 [1:25:27<46:37, 48.97batch/s, batch_nb=43999, gpu=0, loss=0.069, v_nb=26]\n",
      "Epoch 1:  25%|██▍       | 45406/182400 [1:25:27<46:39, 48.94batch/s, batch_nb=43999, gpu=0, loss=0.069, v_nb=26]\n",
      "Epoch 1:  25%|██▍       | 45412/182400 [1:25:27<46:02, 49.59batch/s, batch_nb=43999, gpu=0, loss=0.069, v_nb=26]\n",
      "Epoch 1:  25%|██▍       | 45417/182400 [1:25:27<46:00, 49.63batch/s, batch_nb=43999, gpu=0, loss=0.069, v_nb=26]\n",
      "Epoch 1:  25%|██▍       | 45423/182400 [1:25:27<45:32, 50.13batch/s, batch_nb=43999, gpu=0, loss=0.069, v_nb=26]\n",
      "Epoch 1:  25%|██▍       | 45429/182400 [1:25:27<45:30, 50.16batch/s, batch_nb=43999, gpu=0, loss=0.069, v_nb=26]\n",
      "Epoch 1:  25%|██▍       | 45435/182400 [1:25:27<45:08, 50.57batch/s, batch_nb=43999, gpu=0, loss=0.069, v_nb=26]\n",
      "Epoch 1:  25%|██▍       | 45441/182400 [1:25:27<45:01, 50.69batch/s, batch_nb=43999, gpu=0, loss=0.069, v_nb=26]\n",
      "Epoch 1:  25%|██▍       | 45447/182400 [1:25:28<44:54, 50.82batch/s, batch_nb=43999, gpu=0, loss=0.069, v_nb=26]\n",
      "Epoch 1:  25%|██▍       | 45453/182400 [1:25:28<45:05, 50.62batch/s, batch_nb=43999, gpu=0, loss=0.069, v_nb=26]\n",
      "Epoch 1:  25%|██▍       | 45459/182400 [1:25:28<44:46, 50.98batch/s, batch_nb=43999, gpu=0, loss=0.069, v_nb=26]\n",
      "Epoch 1:  25%|██▍       | 45465/182400 [1:25:28<44:33, 51.22batch/s, batch_nb=43999, gpu=0, loss=0.069, v_nb=26]\n",
      "Epoch 1:  25%|██▍       | 45471/182400 [1:25:28<44:40, 51.08batch/s, batch_nb=43999, gpu=0, loss=0.069, v_nb=26]\n",
      "Epoch 1:  25%|██▍       | 45477/182400 [1:25:28<44:30, 51.27batch/s, batch_nb=43999, gpu=0, loss=0.069, v_nb=26]\n",
      "Epoch 1:  25%|██▍       | 45483/182400 [1:25:28<44:24, 51.38batch/s, batch_nb=43999, gpu=0, loss=0.069, v_nb=26]\n",
      "Epoch 1:  25%|██▍       | 45489/182400 [1:25:28<44:22, 51.42batch/s, batch_nb=43999, gpu=0, loss=0.069, v_nb=26]\n",
      "Epoch 1:  25%|██▍       | 45495/182400 [1:25:29<44:23, 51.41batch/s, batch_nb=43999, gpu=0, loss=0.069, v_nb=26]\n",
      "Epoch 1:  25%|██▍       | 45501/182400 [1:25:29<44:33, 51.21batch/s, batch_nb=43999, gpu=0, loss=0.069, v_nb=26]\n",
      "Epoch 1:  25%|██▍       | 45507/182400 [1:25:29<44:23, 51.40batch/s, batch_nb=43999, gpu=0, loss=0.069, v_nb=26]\n",
      "Epoch 1:  25%|██▍       | 45513/182400 [1:25:29<44:12, 51.61batch/s, batch_nb=43999, gpu=0, loss=0.069, v_nb=26]\n",
      "Epoch 1:  25%|██▍       | 45519/182400 [1:25:29<44:05, 51.74batch/s, batch_nb=43999, gpu=0, loss=0.069, v_nb=26]\n",
      "Epoch 1:  25%|██▍       | 45525/182400 [1:25:29<44:21, 51.42batch/s, batch_nb=43999, gpu=0, loss=0.069, v_nb=26]\n",
      "Epoch 1:  25%|██▍       | 45531/182400 [1:25:29<44:15, 51.54batch/s, batch_nb=43999, gpu=0, loss=0.069, v_nb=26]\n",
      "Epoch 1:  25%|██▍       | 45537/182400 [1:25:29<44:12, 51.60batch/s, batch_nb=43999, gpu=0, loss=0.069, v_nb=26]\n",
      "Epoch 1:  25%|██▍       | 45543/182400 [1:25:29<44:06, 51.71batch/s, batch_nb=43999, gpu=0, loss=0.069, v_nb=26]\n",
      "Epoch 1:  25%|██▍       | 45549/182400 [1:25:30<44:05, 51.74batch/s, batch_nb=43999, gpu=0, loss=0.069, v_nb=26]\n",
      "Epoch 1:  25%|██▍       | 45555/182400 [1:25:30<44:20, 51.44batch/s, batch_nb=43999, gpu=0, loss=0.069, v_nb=26]\n",
      "Epoch 1:  25%|██▍       | 45561/182400 [1:25:30<44:15, 51.54batch/s, batch_nb=43999, gpu=0, loss=0.069, v_nb=26]\n",
      "Epoch 1:  25%|██▍       | 45567/182400 [1:25:30<44:11, 51.61batch/s, batch_nb=43999, gpu=0, loss=0.069, v_nb=26]\n",
      "Epoch 1:  25%|██▍       | 45573/182400 [1:25:30<44:07, 51.69batch/s, batch_nb=43999, gpu=0, loss=0.069, v_nb=26]\n",
      "Epoch 1:  25%|██▍       | 45579/182400 [1:25:30<44:21, 51.41batch/s, batch_nb=43999, gpu=0, loss=0.069, v_nb=26]\n",
      "Epoch 1:  25%|██▍       | 45585/182400 [1:25:30<44:14, 51.55batch/s, batch_nb=43999, gpu=0, loss=0.069, v_nb=26]\n",
      "Epoch 1:  25%|██▍       | 45591/182400 [1:25:30<44:11, 51.59batch/s, batch_nb=43999, gpu=0, loss=0.069, v_nb=26]\n",
      "Epoch 1:  25%|██▌       | 45600/182400 [1:25:32<44:10, 51.61batch/s, batch_nb=43999, gpu=0, loss=0.069, v_nb=26]\n",
      "Epoch 1:  25%|██▌       | 46421/182400 [1:27:11<3:59:35,  9.46batch/s, batch_nb=44820, gpu=0, loss=0.069, v_nb=26] "
     ]
    },
    {
     "name": "stdout",
     "output_type": "stream",
     "text": [
      "Gradient overflow.  Skipping step, loss scaler 0 reducing loss scale to 4194304.0\n"
     ]
    },
    {
     "name": "stderr",
     "output_type": "stream",
     "text": [
      "Epoch 1:  28%|██▊       | 50437/182400 [1:34:47<3:58:53,  9.21batch/s, batch_nb=48836, gpu=0, loss=0.069, v_nb=26]"
     ]
    },
    {
     "name": "stdout",
     "output_type": "stream",
     "text": [
      "Gradient overflow.  Skipping step, loss scaler 0 reducing loss scale to 8388608.0\n"
     ]
    },
    {
     "name": "stderr",
     "output_type": "stream",
     "text": [
      "Epoch 1:  29%|██▉       | 52485/182400 [1:38:40<3:59:20,  9.05batch/s, batch_nb=50884, gpu=0, loss=0.070, v_nb=26] "
     ]
    },
    {
     "name": "stdout",
     "output_type": "stream",
     "text": [
      "Gradient overflow.  Skipping step, loss scaler 0 reducing loss scale to 8388608.0\n"
     ]
    },
    {
     "name": "stderr",
     "output_type": "stream",
     "text": [
      "Epoch 1:  30%|██▉       | 53833/182400 [1:41:17<3:59:35,  8.94batch/s, batch_nb=52232, gpu=0, loss=0.071, v_nb=26]"
     ]
    },
    {
     "name": "stdout",
     "output_type": "stream",
     "text": [
      "Gradient overflow.  Skipping step, loss scaler 0 reducing loss scale to 4194304.0\n"
     ]
    },
    {
     "name": "stderr",
     "output_type": "stream",
     "text": [
      "Epoch 1:  30%|██▉       | 54400/182400 [1:42:21<3:55:23,  9.06batch/s, batch_nb=52799, gpu=0, loss=0.069, v_nb=26]\n",
      "Validating:   0%|          | 0/320 [00:00<?, ?batch/s]\u001b[A\n",
      "Epoch 1:  30%|██▉       | 54405/182400 [1:42:21<2:58:56, 11.92batch/s, batch_nb=52799, gpu=0, loss=0.069, v_nb=26]\n",
      "Epoch 1:  30%|██▉       | 54411/182400 [1:42:21<2:17:36, 15.50batch/s, batch_nb=52799, gpu=0, loss=0.069, v_nb=26]\n",
      "Epoch 1:  30%|██▉       | 54417/182400 [1:42:21<1:48:48, 19.60batch/s, batch_nb=52799, gpu=0, loss=0.069, v_nb=26]\n",
      "Epoch 1:  30%|██▉       | 54423/182400 [1:42:21<1:28:29, 24.10batch/s, batch_nb=52799, gpu=0, loss=0.069, v_nb=26]\n",
      "Epoch 1:  30%|██▉       | 54429/182400 [1:42:21<1:14:21, 28.69batch/s, batch_nb=52799, gpu=0, loss=0.069, v_nb=26]\n",
      "Epoch 1:  30%|██▉       | 54435/182400 [1:42:21<1:04:36, 33.01batch/s, batch_nb=52799, gpu=0, loss=0.069, v_nb=26]\n",
      "Epoch 1:  30%|██▉       | 54441/182400 [1:42:21<57:35, 37.03batch/s, batch_nb=52799, gpu=0, loss=0.069, v_nb=26]  \n",
      "Epoch 1:  30%|██▉       | 54447/182400 [1:42:22<52:42, 40.46batch/s, batch_nb=52799, gpu=0, loss=0.069, v_nb=26]\n",
      "Epoch 1:  30%|██▉       | 54453/182400 [1:42:22<49:13, 43.31batch/s, batch_nb=52799, gpu=0, loss=0.069, v_nb=26]\n",
      "Epoch 1:  30%|██▉       | 54459/182400 [1:42:22<47:11, 45.18batch/s, batch_nb=52799, gpu=0, loss=0.069, v_nb=26]\n",
      "Epoch 1:  30%|██▉       | 54465/182400 [1:42:22<45:37, 46.74batch/s, batch_nb=52799, gpu=0, loss=0.069, v_nb=26]\n",
      "Epoch 1:  30%|██▉       | 54471/182400 [1:42:22<44:26, 47.97batch/s, batch_nb=52799, gpu=0, loss=0.069, v_nb=26]\n",
      "Epoch 1:  30%|██▉       | 54477/182400 [1:42:22<43:29, 49.03batch/s, batch_nb=52799, gpu=0, loss=0.069, v_nb=26]\n",
      "Epoch 1:  30%|██▉       | 54483/182400 [1:42:22<42:46, 49.84batch/s, batch_nb=52799, gpu=0, loss=0.069, v_nb=26]\n",
      "Epoch 1:  30%|██▉       | 54489/182400 [1:42:22<42:29, 50.16batch/s, batch_nb=52799, gpu=0, loss=0.069, v_nb=26]\n",
      "Epoch 1:  30%|██▉       | 54495/182400 [1:42:23<42:06, 50.63batch/s, batch_nb=52799, gpu=0, loss=0.069, v_nb=26]\n",
      "Epoch 1:  30%|██▉       | 54501/182400 [1:42:23<41:48, 50.99batch/s, batch_nb=52799, gpu=0, loss=0.069, v_nb=26]\n",
      "Epoch 1:  30%|██▉       | 54507/182400 [1:42:23<41:33, 51.30batch/s, batch_nb=52799, gpu=0, loss=0.069, v_nb=26]\n",
      "Epoch 1:  30%|██▉       | 54513/182400 [1:42:23<41:37, 51.20batch/s, batch_nb=52799, gpu=0, loss=0.069, v_nb=26]\n",
      "Epoch 1:  30%|██▉       | 54519/182400 [1:42:23<41:26, 51.43batch/s, batch_nb=52799, gpu=0, loss=0.069, v_nb=26]\n",
      "Epoch 1:  30%|██▉       | 54525/182400 [1:42:23<41:29, 51.36batch/s, batch_nb=52799, gpu=0, loss=0.069, v_nb=26]\n",
      "Epoch 1:  30%|██▉       | 54531/182400 [1:42:23<41:23, 51.49batch/s, batch_nb=52799, gpu=0, loss=0.069, v_nb=26]\n",
      "Epoch 1:  30%|██▉       | 54537/182400 [1:42:23<41:10, 51.76batch/s, batch_nb=52799, gpu=0, loss=0.069, v_nb=26]\n",
      "Epoch 1:  30%|██▉       | 54543/182400 [1:42:23<41:30, 51.34batch/s, batch_nb=52799, gpu=0, loss=0.069, v_nb=26]\n",
      "Epoch 1:  30%|██▉       | 54549/182400 [1:42:24<41:51, 50.92batch/s, batch_nb=52799, gpu=0, loss=0.069, v_nb=26]\n",
      "Epoch 1:  30%|██▉       | 54555/182400 [1:42:24<41:32, 51.30batch/s, batch_nb=52799, gpu=0, loss=0.069, v_nb=26]\n",
      "Epoch 1:  30%|██▉       | 54561/182400 [1:42:24<41:44, 51.05batch/s, batch_nb=52799, gpu=0, loss=0.069, v_nb=26]\n",
      "Epoch 1:  30%|██▉       | 54567/182400 [1:42:24<41:51, 50.89batch/s, batch_nb=52799, gpu=0, loss=0.069, v_nb=26]\n",
      "Epoch 1:  30%|██▉       | 54573/182400 [1:42:24<41:38, 51.17batch/s, batch_nb=52799, gpu=0, loss=0.069, v_nb=26]\n",
      "Epoch 1:  30%|██▉       | 54579/182400 [1:42:24<41:25, 51.42batch/s, batch_nb=52799, gpu=0, loss=0.069, v_nb=26]\n",
      "Epoch 1:  30%|██▉       | 54585/182400 [1:42:24<41:17, 51.58batch/s, batch_nb=52799, gpu=0, loss=0.069, v_nb=26]\n",
      "Epoch 1:  30%|██▉       | 54591/182400 [1:42:24<41:13, 51.67batch/s, batch_nb=52799, gpu=0, loss=0.069, v_nb=26]\n",
      "Epoch 1:  30%|██▉       | 54597/182400 [1:42:25<41:28, 51.35batch/s, batch_nb=52799, gpu=0, loss=0.069, v_nb=26]\n",
      "Epoch 1:  30%|██▉       | 54603/182400 [1:42:25<41:20, 51.53batch/s, batch_nb=52799, gpu=0, loss=0.069, v_nb=26]\n",
      "Epoch 1:  30%|██▉       | 54609/182400 [1:42:25<41:32, 51.28batch/s, batch_nb=52799, gpu=0, loss=0.069, v_nb=26]\n",
      "Epoch 1:  30%|██▉       | 54615/182400 [1:42:25<41:48, 50.95batch/s, batch_nb=52799, gpu=0, loss=0.069, v_nb=26]\n",
      "Epoch 1:  30%|██▉       | 54621/182400 [1:42:25<41:47, 50.96batch/s, batch_nb=52799, gpu=0, loss=0.069, v_nb=26]\n",
      "Epoch 1:  30%|██▉       | 54627/182400 [1:42:25<41:57, 50.76batch/s, batch_nb=52799, gpu=0, loss=0.069, v_nb=26]\n",
      "Epoch 1:  30%|██▉       | 54633/182400 [1:42:25<41:59, 50.70batch/s, batch_nb=52799, gpu=0, loss=0.069, v_nb=26]\n",
      "Epoch 1:  30%|██▉       | 54639/182400 [1:42:25<41:43, 51.03batch/s, batch_nb=52799, gpu=0, loss=0.069, v_nb=26]\n",
      "Epoch 1:  30%|██▉       | 54645/182400 [1:42:25<41:32, 51.25batch/s, batch_nb=52799, gpu=0, loss=0.069, v_nb=26]\n",
      "Epoch 1:  30%|██▉       | 54651/182400 [1:42:26<41:47, 50.94batch/s, batch_nb=52799, gpu=0, loss=0.069, v_nb=26]\n",
      "Epoch 1:  30%|██▉       | 54657/182400 [1:42:26<41:36, 51.16batch/s, batch_nb=52799, gpu=0, loss=0.069, v_nb=26]\n",
      "Epoch 1:  30%|██▉       | 54663/182400 [1:42:26<41:24, 51.41batch/s, batch_nb=52799, gpu=0, loss=0.069, v_nb=26]\n",
      "Epoch 1:  30%|██▉       | 54669/182400 [1:42:26<41:22, 51.44batch/s, batch_nb=52799, gpu=0, loss=0.069, v_nb=26]\n",
      "Epoch 1:  30%|██▉       | 54675/182400 [1:42:26<41:23, 51.43batch/s, batch_nb=52799, gpu=0, loss=0.069, v_nb=26]\n",
      "Epoch 1:  30%|██▉       | 54681/182400 [1:42:26<41:16, 51.57batch/s, batch_nb=52799, gpu=0, loss=0.069, v_nb=26]\n",
      "Epoch 1:  30%|██▉       | 54687/182400 [1:42:26<41:10, 51.70batch/s, batch_nb=52799, gpu=0, loss=0.069, v_nb=26]\n",
      "Epoch 1:  30%|██▉       | 54693/182400 [1:42:26<41:01, 51.88batch/s, batch_nb=52799, gpu=0, loss=0.069, v_nb=26]\n",
      "Epoch 1:  30%|██▉       | 54699/182400 [1:42:26<40:56, 51.99batch/s, batch_nb=52799, gpu=0, loss=0.069, v_nb=26]\n",
      "Epoch 1:  30%|██▉       | 54705/182400 [1:42:27<41:11, 51.66batch/s, batch_nb=52799, gpu=0, loss=0.069, v_nb=26]\n",
      "Epoch 1:  30%|██▉       | 54711/182400 [1:42:27<41:03, 51.84batch/s, batch_nb=52799, gpu=0, loss=0.069, v_nb=26]\n",
      "Epoch 1:  30%|███       | 54720/182400 [1:42:29<40:59, 51.91batch/s, batch_nb=52799, gpu=0, loss=0.069, v_nb=26]\n",
      "Epoch 1:  31%|███       | 56873/182400 [1:46:43<4:00:27,  8.70batch/s, batch_nb=54952, gpu=0, loss=0.069, v_nb=26] "
     ]
    },
    {
     "name": "stdout",
     "output_type": "stream",
     "text": [
      "Gradient overflow.  Skipping step, loss scaler 0 reducing loss scale to 4194304.0\n"
     ]
    },
    {
     "name": "stderr",
     "output_type": "stream",
     "text": [
      "Epoch 1:  33%|███▎      | 60561/182400 [1:53:52<3:39:38,  9.25batch/s, batch_nb=58640, gpu=0, loss=0.070, v_nb=26]"
     ]
    },
    {
     "name": "stdout",
     "output_type": "stream",
     "text": [
      "Gradient overflow.  Skipping step, loss scaler 0 reducing loss scale to 4194304.0\n"
     ]
    },
    {
     "name": "stderr",
     "output_type": "stream",
     "text": [
      "Epoch 1:  34%|███▍      | 62681/182400 [1:58:03<3:41:29,  9.01batch/s, batch_nb=60760, gpu=0, loss=0.069, v_nb=26]"
     ]
    },
    {
     "name": "stdout",
     "output_type": "stream",
     "text": [
      "Gradient overflow.  Skipping step, loss scaler 0 reducing loss scale to 4194304.0\n"
     ]
    },
    {
     "name": "stderr",
     "output_type": "stream",
     "text": [
      "Epoch 1:  35%|███▍      | 63520/182400 [1:59:45<3:50:55,  8.58batch/s, batch_nb=61599, gpu=0, loss=0.070, v_nb=26]\n",
      "Validating:   0%|          | 0/320 [00:00<?, ?batch/s]\u001b[A\n",
      "Epoch 1:  35%|███▍      | 63525/182400 [1:59:45<2:54:59, 11.32batch/s, batch_nb=61599, gpu=0, loss=0.070, v_nb=26]\n",
      "Epoch 1:  35%|███▍      | 63531/182400 [1:59:45<2:14:14, 14.76batch/s, batch_nb=61599, gpu=0, loss=0.070, v_nb=26]\n",
      "Epoch 1:  35%|███▍      | 63537/182400 [1:59:45<1:45:43, 18.74batch/s, batch_nb=61599, gpu=0, loss=0.070, v_nb=26]\n",
      "Epoch 1:  35%|███▍      | 63543/182400 [1:59:45<1:25:42, 23.11batch/s, batch_nb=61599, gpu=0, loss=0.070, v_nb=26]\n",
      "Epoch 1:  35%|███▍      | 63549/182400 [1:59:45<1:11:45, 27.60batch/s, batch_nb=61599, gpu=0, loss=0.070, v_nb=26]\n",
      "Epoch 1:  35%|███▍      | 63555/182400 [1:59:45<1:02:04, 31.91batch/s, batch_nb=61599, gpu=0, loss=0.070, v_nb=26]\n",
      "Epoch 1:  35%|███▍      | 63561/182400 [1:59:46<55:16, 35.84batch/s, batch_nb=61599, gpu=0, loss=0.070, v_nb=26]  \n",
      "Epoch 1:  35%|███▍      | 63567/182400 [1:59:46<50:20, 39.34batch/s, batch_nb=61599, gpu=0, loss=0.070, v_nb=26]\n",
      "Epoch 1:  35%|███▍      | 63573/182400 [1:59:46<46:56, 42.20batch/s, batch_nb=61599, gpu=0, loss=0.070, v_nb=26]\n",
      "Epoch 1:  35%|███▍      | 63579/182400 [1:59:46<44:37, 44.38batch/s, batch_nb=61599, gpu=0, loss=0.070, v_nb=26]\n",
      "Epoch 1:  35%|███▍      | 63585/182400 [1:59:46<42:55, 46.14batch/s, batch_nb=61599, gpu=0, loss=0.070, v_nb=26]\n",
      "Epoch 1:  35%|███▍      | 63591/182400 [1:59:46<41:51, 47.30batch/s, batch_nb=61599, gpu=0, loss=0.070, v_nb=26]\n",
      "Epoch 1:  35%|███▍      | 63597/182400 [1:59:46<41:01, 48.26batch/s, batch_nb=61599, gpu=0, loss=0.070, v_nb=26]\n",
      "Epoch 1:  35%|███▍      | 63603/182400 [1:59:46<40:22, 49.04batch/s, batch_nb=61599, gpu=0, loss=0.070, v_nb=26]\n",
      "Epoch 1:  35%|███▍      | 63609/182400 [1:59:47<39:55, 49.58batch/s, batch_nb=61599, gpu=0, loss=0.070, v_nb=26]\n",
      "Epoch 1:  35%|███▍      | 63615/182400 [1:59:47<39:40, 49.90batch/s, batch_nb=61599, gpu=0, loss=0.070, v_nb=26]\n",
      "Epoch 1:  35%|███▍      | 63621/182400 [1:59:47<39:36, 49.99batch/s, batch_nb=61599, gpu=0, loss=0.070, v_nb=26]\n",
      "Epoch 1:  35%|███▍      | 63627/182400 [1:59:47<39:38, 49.94batch/s, batch_nb=61599, gpu=0, loss=0.070, v_nb=26]\n",
      "Epoch 1:  35%|███▍      | 63633/182400 [1:59:47<39:25, 50.21batch/s, batch_nb=61599, gpu=0, loss=0.070, v_nb=26]\n",
      "Epoch 1:  35%|███▍      | 63639/182400 [1:59:47<39:19, 50.34batch/s, batch_nb=61599, gpu=0, loss=0.070, v_nb=26]\n",
      "Epoch 1:  35%|███▍      | 63645/182400 [1:59:47<39:14, 50.43batch/s, batch_nb=61599, gpu=0, loss=0.070, v_nb=26]\n",
      "Epoch 1:  35%|███▍      | 63651/182400 [1:59:47<39:12, 50.47batch/s, batch_nb=61599, gpu=0, loss=0.070, v_nb=26]\n",
      "Epoch 1:  35%|███▍      | 63657/182400 [1:59:47<39:15, 50.42batch/s, batch_nb=61599, gpu=0, loss=0.070, v_nb=26]\n",
      "Epoch 1:  35%|███▍      | 63663/182400 [1:59:48<39:13, 50.45batch/s, batch_nb=61599, gpu=0, loss=0.070, v_nb=26]\n",
      "Epoch 1:  35%|███▍      | 63669/182400 [1:59:48<39:13, 50.46batch/s, batch_nb=61599, gpu=0, loss=0.070, v_nb=26]\n",
      "Epoch 1:  35%|███▍      | 63675/182400 [1:59:48<39:08, 50.55batch/s, batch_nb=61599, gpu=0, loss=0.070, v_nb=26]\n",
      "Epoch 1:  35%|███▍      | 63681/182400 [1:59:48<39:13, 50.44batch/s, batch_nb=61599, gpu=0, loss=0.070, v_nb=26]\n",
      "Epoch 1:  35%|███▍      | 63687/182400 [1:59:48<39:11, 50.48batch/s, batch_nb=61599, gpu=0, loss=0.070, v_nb=26]\n",
      "Epoch 1:  35%|███▍      | 63693/182400 [1:59:48<39:10, 50.51batch/s, batch_nb=61599, gpu=0, loss=0.070, v_nb=26]\n",
      "Epoch 1:  35%|███▍      | 63699/182400 [1:59:48<39:09, 50.52batch/s, batch_nb=61599, gpu=0, loss=0.070, v_nb=26]\n",
      "Epoch 1:  35%|███▍      | 63705/182400 [1:59:48<39:01, 50.69batch/s, batch_nb=61599, gpu=0, loss=0.070, v_nb=26]\n",
      "Epoch 1:  35%|███▍      | 63711/182400 [1:59:49<39:00, 50.71batch/s, batch_nb=61599, gpu=0, loss=0.070, v_nb=26]\n",
      "Epoch 1:  35%|███▍      | 63717/182400 [1:59:49<38:56, 50.80batch/s, batch_nb=61599, gpu=0, loss=0.070, v_nb=26]\n",
      "Epoch 1:  35%|███▍      | 63723/182400 [1:59:49<38:55, 50.82batch/s, batch_nb=61599, gpu=0, loss=0.070, v_nb=26]\n",
      "Epoch 1:  35%|███▍      | 63729/182400 [1:59:49<39:00, 50.71batch/s, batch_nb=61599, gpu=0, loss=0.070, v_nb=26]\n",
      "Epoch 1:  35%|███▍      | 63735/182400 [1:59:49<38:57, 50.77batch/s, batch_nb=61599, gpu=0, loss=0.070, v_nb=26]\n",
      "Epoch 1:  35%|███▍      | 63741/182400 [1:59:49<38:55, 50.80batch/s, batch_nb=61599, gpu=0, loss=0.070, v_nb=26]\n",
      "Epoch 1:  35%|███▍      | 63747/182400 [1:59:49<38:51, 50.89batch/s, batch_nb=61599, gpu=0, loss=0.070, v_nb=26]\n",
      "Epoch 1:  35%|███▍      | 63753/182400 [1:59:49<38:55, 50.81batch/s, batch_nb=61599, gpu=0, loss=0.070, v_nb=26]\n",
      "Epoch 1:  35%|███▍      | 63759/182400 [1:59:49<38:54, 50.83batch/s, batch_nb=61599, gpu=0, loss=0.070, v_nb=26]\n",
      "Epoch 1:  35%|███▍      | 63765/182400 [1:59:50<38:55, 50.80batch/s, batch_nb=61599, gpu=0, loss=0.070, v_nb=26]\n",
      "Epoch 1:  35%|███▍      | 63771/182400 [1:59:50<38:58, 50.72batch/s, batch_nb=61599, gpu=0, loss=0.070, v_nb=26]\n",
      "Epoch 1:  35%|███▍      | 63777/182400 [1:59:50<38:56, 50.78batch/s, batch_nb=61599, gpu=0, loss=0.070, v_nb=26]\n",
      "Epoch 1:  35%|███▍      | 63783/182400 [1:59:50<39:00, 50.69batch/s, batch_nb=61599, gpu=0, loss=0.070, v_nb=26]\n",
      "Epoch 1:  35%|███▍      | 63789/182400 [1:59:50<39:06, 50.55batch/s, batch_nb=61599, gpu=0, loss=0.070, v_nb=26]\n",
      "Epoch 1:  35%|███▍      | 63795/182400 [1:59:50<39:08, 50.51batch/s, batch_nb=61599, gpu=0, loss=0.070, v_nb=26]\n",
      "Epoch 1:  35%|███▍      | 63801/182400 [1:59:50<39:06, 50.54batch/s, batch_nb=61599, gpu=0, loss=0.070, v_nb=26]\n",
      "Epoch 1:  35%|███▍      | 63807/182400 [1:59:50<38:58, 50.72batch/s, batch_nb=61599, gpu=0, loss=0.070, v_nb=26]\n",
      "Epoch 1:  35%|███▍      | 63813/182400 [1:59:51<38:54, 50.80batch/s, batch_nb=61599, gpu=0, loss=0.070, v_nb=26]\n",
      "Epoch 1:  35%|███▍      | 63819/182400 [1:59:51<38:51, 50.87batch/s, batch_nb=61599, gpu=0, loss=0.070, v_nb=26]\n",
      "Epoch 1:  35%|███▍      | 63825/182400 [1:59:51<38:50, 50.87batch/s, batch_nb=61599, gpu=0, loss=0.070, v_nb=26]\n",
      "Epoch 1:  35%|███▍      | 63831/182400 [1:59:51<38:59, 50.69batch/s, batch_nb=61599, gpu=0, loss=0.070, v_nb=26]\n",
      "Epoch 1:  35%|███▌      | 63840/182400 [1:59:53<38:57, 50.71batch/s, batch_nb=61599, gpu=0, loss=0.070, v_nb=26]\n",
      "Epoch 1:  36%|███▌      | 65849/182400 [2:03:58<3:38:40,  8.88batch/s, batch_nb=63608, gpu=0, loss=0.070, v_nb=26] "
     ]
    },
    {
     "name": "stdout",
     "output_type": "stream",
     "text": [
      "Gradient overflow.  Skipping step, loss scaler 0 reducing loss scale to 4194304.0\n"
     ]
    },
    {
     "name": "stderr",
     "output_type": "stream",
     "text": [
      "Epoch 1:  36%|███▋      | 66183/182400 [2:04:39<3:58:13,  8.13batch/s, batch_nb=63941, gpu=0, loss=0.069, v_nb=26]"
     ]
    }
   ],
   "source": [
    "seq_model = eval('models.'+ hparams['seq_model_name'])(**hparams['seq_model'])\n",
    "\n",
    "model = models.ResSeqLin(**hparams['emb'], seq_model=seq_model, \n",
    "                         **hparams['resnet'], **hparams['lin'])\n",
    "model.summary()\n",
    "hparams = Namespace(**hparams)\n",
    "\n",
    "exp = Experiment(model,hparams)\n",
    "\n",
    "if chpt_path:\n",
    "    exp.load_state_dict(torch.load(chpt_path)['state_dict'])\n",
    "\n",
    "trainer = pl.Trainer(gpus=1, fast_dev_run=False, max_nb_epochs=10, accumulate_grad_batches=hparams.train['batch_acum'],\n",
    "                     train_percent_check=1, val_check_interval=0.05, use_amp=seq_model.use_amp,\n",
    "                     default_save_path='../data')    \n",
    "trainer.fit(exp)"
   ]
  },
  {
   "cell_type": "code",
   "execution_count": 14,
   "metadata": {
    "collapsed": true
   },
   "outputs": [
    {
     "data": {
      "image/png": "[encoded data removed]",
      "text/plain": [
       "<Figure size 1296x720 with 1 Axes>"
      ]
     },
     "metadata": {
      "needs_background": "light"
     },
     "output_type": "display_data"
    },
    {
     "data": {
      "image/png": "[encoded data removed]",
      "text/plain": [
       "<Figure size 1296x720 with 1 Axes>"
      ]
     },
     "metadata": {
      "needs_background": "light"
     },
     "output_type": "display_data"
    }
   ],
   "source": [
    "loss_fn = nn.BCEWithLogitsLoss()\n",
    "op = torch.optim.Adam(model.parameters(), lr=1e-4,betas=(0.5,0.999))\n",
    "# plt.figure(figsize=(20,15))\n",
    "for i,(x,y) in enumerate(exp.val_dataloader()[0]):\n",
    "    op.zero_grad()\n",
    "    x,y = x.cuda(),  y.cuda()\n",
    "    y_hat, mem = model(x)\n",
    "    loss = loss_fn(y_hat, y)\n",
    "    loss.backward()\n",
    "#     fig = plot_grad_flow(model.named_parameters())\n",
    "    fig = plot_weight_mag(model.named_parameters(),bottom = -0.001, top=1.5)\n",
    "    op.step()\n",
    "    if i==1:break"
   ]
  },
  {
   "cell_type": "code",
   "execution_count": null,
   "metadata": {},
   "outputs": [],
   "source": [
    "# TODO\n",
    "# find memory leak(loading train dataset on every run)\n",
    "# torch.optim.lr_scheduler.CosineAnnealingWarmRestarts\n",
    "# label smoothing\n",
    "# balanced valdiation\n",
    "# plot weights and activations with tensorbaord "
   ]
  },
  {
   "cell_type": "markdown",
   "metadata": {
    "heading_collapsed": true
   },
   "source": [
    "## Validation"
   ]
  },
  {
   "cell_type": "code",
   "execution_count": 12,
   "metadata": {
    "hidden": true,
    "scrolled": true
   },
   "outputs": [
    {
     "name": "stdout",
     "output_type": "stream",
     "text": [
      "Selected optimization level O1:  Insert automatic casts around Pytorch functions and Tensor methods.\n",
      "\n",
      "Defaults for this optimization level are:\n",
      "enabled                : True\n",
      "opt_level              : O1\n",
      "cast_model_type        : None\n",
      "patch_torch_functions  : True\n",
      "keep_batchnorm_fp32    : None\n",
      "master_weights         : None\n",
      "loss_scale             : dynamic\n",
      "Processing user overrides (additional kwargs that are not None)...\n",
      "After processing overrides, optimization options are:\n",
      "enabled                : True\n",
      "opt_level              : O1\n",
      "cast_model_type        : None\n",
      "patch_torch_functions  : True\n",
      "keep_batchnorm_fp32    : None\n",
      "master_weights         : None\n",
      "loss_scale             : dynamic\n",
      "Loading training dataset\n"
     ]
    },
    {
     "name": "stderr",
     "output_type": "stream",
     "text": [
      "Testing: 100%|██████████| 18201/18201 [03:42<00:00, 81.95batch/s]"
     ]
    },
    {
     "name": "stdout",
     "output_type": "stream",
     "text": [
      "Test ROC AUC: 0.895789623260498 Test PR AUC: 0.43330907821655273\n"
     ]
    },
    {
     "name": "stderr",
     "output_type": "stream",
     "text": [
      "\n"
     ]
    }
   ],
   "source": [
    "trainer.test(exp)"
   ]
  },
  {
   "cell_type": "code",
   "execution_count": null,
   "metadata": {
    "hidden": true
   },
   "outputs": [],
   "source": [
    "#TODO\n",
    "\n",
    "# https://arxiv.org/pdf/1912.01857.pdf\n",
    "# https://github.com/feidfoe/AdjustBnd4Imbalance/blob/master/cifar.py\n",
    "gamma = 0.1 # hparams for re_scaling https://arxiv.org/pdf/1912.01857.pdf\n",
    "if args.evaluate:\n",
    "    print('\\nEvaluation only')\n",
    "    test_loss, test_acc = test(testloader, model, criterion, \n",
    "                               start_epoch, use_cuda)\n",
    "    print('[w/o RS] Test Loss: %.8f, Test Acc: %.2f%%' % (test_loss, test_acc))\n",
    "\n",
    "    current_state = model.state_dict()\n",
    "    W = current_state['module.fc.weight']\n",
    "\n",
    "    imb_factor = 1. / args.imbalance\n",
    "    img_max = 50000/num_classes\n",
    "    num_sample = [img_max * (imb_factor**(i/(num_classes - 1))) \\\n",
    "                     for i in range(num_classes)]\n",
    "\n",
    "    ns = [ float(n) / max(num_sample) for n in num_sample ]\n",
    "    ns = [ n**gamma for n in ns ]\n",
    "    ns = torch.FloatTensor(ns).unsqueeze(-1).cuda()\n",
    "    new_W = W / ns\n",
    "\n",
    "    current_state['module.fc.weight'] = new_W\n",
    "    model.load_state_dict(current_state)\n",
    "\n",
    "    test_loss, test_acc = test(testloader, model, criterion, \n",
    "                               start_epoch, use_cuda)\n",
    "    print('[w/  RS] Test Loss: %.8f, Test Acc: %.2f%%' % (test_loss, test_acc))"
   ]
  }
 ],
 "metadata": {
  "kernelspec": {
   "display_name": "mlnd",
   "language": "python",
   "name": "mlnd"
  },
  "language_info": {
   "codemirror_mode": {
    "name": "ipython",
    "version": 3
   },
   "file_extension": ".py",
   "mimetype": "text/x-python",
   "name": "python",
   "nbconvert_exporter": "python",
   "pygments_lexer": "ipython3",
   "version": "3.6.10"
  }
 },
 "nbformat": 4,
 "nbformat_minor": 2
}
