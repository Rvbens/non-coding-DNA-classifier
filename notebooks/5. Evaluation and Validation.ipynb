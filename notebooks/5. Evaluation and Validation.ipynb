{
 "cells": [
  {
   "cell_type": "markdown",
   "metadata": {
    "heading_collapsed": true
   },
   "source": [
    "# implement PR AUC precision(tp/tp+fp) vs recall (tp/tp+fn)"
   ]
  },
  {
   "cell_type": "code",
   "execution_count": 1,
   "metadata": {
    "hidden": true
   },
   "outputs": [],
   "source": [
    "import torch\n",
    "import matplotlib.pyplot as plt\n",
    "import concurrent.futures as cf"
   ]
  },
  {
   "cell_type": "code",
   "execution_count": 56,
   "metadata": {
    "hidden": true
   },
   "outputs": [],
   "source": [
    "vld_pred = torch.load('../tmp/vld_pred')"
   ]
  },
  {
   "cell_type": "code",
   "execution_count": 4,
   "metadata": {
    "hidden": true
   },
   "outputs": [],
   "source": [
    "input, targ = vld_pred\n",
    "input, targ = input[:,0], targ[:,0]"
   ]
  },
  {
   "cell_type": "code",
   "execution_count": 5,
   "metadata": {
    "hidden": true
   },
   "outputs": [],
   "source": [
    "targ = (targ == 1)\n",
    "desc_score_indices = input.argsort(descending=True)\n",
    "input = input.gather(-1,desc_score_indices)\n",
    "targ  = targ.gather(-1,desc_score_indices)\n",
    "d = input[1:] - input[:-1] #[7999]\n",
    "distinct_value_indices = torch.nonzero(d).transpose(0,1)[0] #[7995]\n",
    "threshold_idxs = torch.cat((distinct_value_indices, torch.LongTensor([len(targ) - 1]).to(targ.device))) #[7996]\n",
    "\n",
    "\n",
    "tps = torch.cumsum(targ * 1, dim=-1)[threshold_idxs]\n",
    "fps = (1 + threshold_idxs - tps)\n",
    "if tps[0] != 0 or fps[0] != 0:\n",
    "    zer = fps.new_zeros(1)\n",
    "    fps = torch.cat((zer, fps))\n",
    "    tps = torch.cat((zer, tps))\n",
    "fpr, tpr = fps.float() / fps[-1], tps.float() / tps[-1]"
   ]
  },
  {
   "cell_type": "code",
   "execution_count": 52,
   "metadata": {
    "hidden": true
   },
   "outputs": [
    {
     "data": {
      "text/plain": [
       "tensor([0.0000, 0.0000, 0.5000,  ..., 0.0248, 0.0248, 0.0247])"
      ]
     },
     "execution_count": 52,
     "metadata": {},
     "output_type": "execute_result"
    }
   ],
   "source": [
    "ppv = tps.float()/(tps+fps).float()\n",
    "ppv[0]= 0 #0/0 = nan\n",
    "ppv"
   ]
  },
  {
   "cell_type": "code",
   "execution_count": 50,
   "metadata": {
    "hidden": true
   },
   "outputs": [
    {
     "data": {
      "text/plain": [
       "tensor([   0,    1,    2,  ..., 7998, 7999, 8000])"
      ]
     },
     "execution_count": 50,
     "metadata": {},
     "output_type": "execute_result"
    }
   ],
   "source": [
    "tps+fps"
   ]
  },
  {
   "cell_type": "code",
   "execution_count": 13,
   "metadata": {
    "hidden": true
   },
   "outputs": [
    {
     "data": {
      "text/plain": [
       "tensor(0.8222)"
      ]
     },
     "execution_count": 13,
     "metadata": {},
     "output_type": "execute_result"
    }
   ],
   "source": [
    "d = fpr[1:] - fpr[:-1]\n",
    "sl1, sl2 = [slice(None)], [slice(None)]\n",
    "sl1[-1], sl2[-1] = slice(1, None), slice(None, -1)\n",
    "(d * (tpr[tuple(sl1)] + tpr[tuple(sl2)]) / 2.).sum(-1)"
   ]
  },
  {
   "cell_type": "code",
   "execution_count": 45,
   "metadata": {
    "hidden": true
   },
   "outputs": [
    {
     "data": {
      "text/plain": [
       "[<matplotlib.lines.Line2D at 0x7fbdfe8efba8>]"
      ]
     },
     "execution_count": 45,
     "metadata": {},
     "output_type": "execute_result"
    },
    {
     "data": {
      "image/png": "[encoded data removed]",
      "text/plain": [
       "<Figure size 432x288 with 1 Axes>"
      ]
     },
     "metadata": {
      "needs_background": "light"
     },
     "output_type": "display_data"
    }
   ],
   "source": [
    "plt.plot(fpr.numpy(),tpr.numpy())"
   ]
  },
  {
   "cell_type": "code",
   "execution_count": 54,
   "metadata": {
    "hidden": true
   },
   "outputs": [
    {
     "data": {
      "text/plain": [
       "tensor(0.1135)"
      ]
     },
     "execution_count": 54,
     "metadata": {},
     "output_type": "execute_result"
    }
   ],
   "source": [
    "d = tpr[1:] - tpr[:-1]\n",
    "sl1, sl2 = [slice(None)], [slice(None)]\n",
    "sl1[-1], sl2[-1] = slice(1, None), slice(None, -1)\n",
    "(d * (ppv[tuple(sl1)] + ppv[tuple(sl2)]) / 2.).sum(-1)"
   ]
  },
  {
   "cell_type": "code",
   "execution_count": 53,
   "metadata": {
    "hidden": true
   },
   "outputs": [
    {
     "data": {
      "text/plain": [
       "[<matplotlib.lines.Line2D at 0x7fbdfe80a8d0>]"
      ]
     },
     "execution_count": 53,
     "metadata": {},
     "output_type": "execute_result"
    },
    {
     "data": {
      "image/png": "[encoded data removed]",
      "text/plain": [
       "<Figure size 432x288 with 1 Axes>"
      ]
     },
     "metadata": {
      "needs_background": "light"
     },
     "output_type": "display_data"
    }
   ],
   "source": [
    "plt.plot(tpr.numpy(),ppv.numpy())"
   ]
  },
  {
   "cell_type": "code",
   "execution_count": 47,
   "metadata": {
    "hidden": true
   },
   "outputs": [
    {
     "data": {
      "text/plain": [
       "tensor([0.0000, 0.0000, 0.0001,  ..., 0.0247, 0.0247, 0.0247])"
      ]
     },
     "execution_count": 47,
     "metadata": {},
     "output_type": "execute_result"
    }
   ],
   "source": [
    "ppv"
   ]
  },
  {
   "cell_type": "code",
   "execution_count": 2,
   "metadata": {
    "hidden": true
   },
   "outputs": [],
   "source": [
    "def roc_pr_curves(input, targ):\n",
    "    targ = (targ == 1)\n",
    "    desc_score_indices = input.argsort(descending=True)\n",
    "    input = input.gather(-1,desc_score_indices)\n",
    "    targ  = targ.gather(-1,desc_score_indices)\n",
    "    d = input[1:] - input[:-1]\n",
    "    distinct_value_indices = torch.nonzero(d).transpose(0,1)[0]\n",
    "    threshold_idxs = torch.cat((distinct_value_indices, torch.LongTensor([len(targ) - 1]).to(targ.device)))\n",
    "    tps = torch.cumsum(targ * 1, dim=-1)[threshold_idxs]\n",
    "    fps = (1 + threshold_idxs - tps)\n",
    "    if tps[0] != 0 or fps[0] != 0:\n",
    "        zer = fps.new_zeros(1)\n",
    "        fps = torch.cat((zer, fps))\n",
    "        tps = torch.cat((zer, tps))\n",
    "    fpr, tpr = fps.float() / fps[-1], tps.float() / tps[-1]\n",
    "    ppv = tps.float()/(tps+fps).float()\n",
    "    ppv[0]= 0 #0/0 = nan\n",
    "    return fpr, tpr, ppv\n",
    "\n",
    "def auc_scores(input, targ):\n",
    "    fpr, tpr, ppv = roc_pr_curves(input, targ)\n",
    "    d = fpr[1:] - fpr[:-1]\n",
    "    sl1, sl2 = [slice(None)], [slice(None)]\n",
    "    sl1[-1], sl2[-1] = slice(1, None), slice(None, -1)\n",
    "    roc_auc = (d * (tpr[tuple(sl1)] + tpr[tuple(sl2)]) / 2.).sum(-1)\n",
    "    \n",
    "    d = tpr[1:] - tpr[:-1]\n",
    "    sl1, sl2 = [slice(None)], [slice(None)]\n",
    "    sl1[-1], sl2[-1] = slice(1, None), slice(None, -1)\n",
    "    pr_auc = (d * (ppv[tuple(sl1)] + ppv[tuple(sl2)]) / 2.).sum(-1)\n",
    "    return roc_auc,pr_auc\n",
    "\n",
    "\n",
    "def weighted_aucs(inputs,targets, weights):\n",
    "    idxs = list(range(inputs.shape[1]))\n",
    "    auc_i = lambda i: auc_scores(inputs[:,i],targets[:,i])\n",
    "\n",
    "    with cf.ThreadPoolExecutor() as exc:\n",
    "        results = exc.map(auc_i,idxs)\n",
    "    results = torch.stack([torch.stack(i) for i in results])\n",
    "    \n",
    "    weight_aucs = results*weights[:,None]\n",
    "    weight_aucs[torch.isnan(weight_aucs)] = 0\n",
    "    return weight_aucs.sum(0)"
   ]
  },
  {
   "cell_type": "code",
   "execution_count": 3,
   "metadata": {
    "hidden": true
   },
   "outputs": [],
   "source": [
    "input, targ = torch.load('../tmp/vld_pred')\n",
    "class_weights = torch.load('../data/Processed/class_weights')"
   ]
  },
  {
   "cell_type": "code",
   "execution_count": 4,
   "metadata": {
    "hidden": true
   },
   "outputs": [
    {
     "data": {
      "text/plain": [
       "tensor([0.5981, 0.0970])"
      ]
     },
     "execution_count": 4,
     "metadata": {},
     "output_type": "execute_result"
    }
   ],
   "source": [
    "weighted_aucs(input, targ,class_weights)"
   ]
  },
  {
   "cell_type": "markdown",
   "metadata": {},
   "source": [
    "# https://github.com/HaebinShin/grad-cam-text"
   ]
  },
  {
   "cell_type": "code",
   "execution_count": null,
   "metadata": {},
   "outputs": [],
   "source": [
    "#https://arxiv.org/pdf/1610.02391.pdf"
   ]
  }
 ],
 "metadata": {
  "kernelspec": {
   "display_name": "mlnd",
   "language": "python",
   "name": "mlnd"
  },
  "language_info": {
   "codemirror_mode": {
    "name": "ipython",
    "version": 3
   },
   "file_extension": ".py",
   "mimetype": "text/x-python",
   "name": "python",
   "nbconvert_exporter": "python",
   "pygments_lexer": "ipython3",
   "version": "3.6.10"
  }
 },
 "nbformat": 4,
 "nbformat_minor": 2
}
