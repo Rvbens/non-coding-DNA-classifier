{
 "cells": [
  {
   "cell_type": "markdown",
   "metadata": {},
   "source": [
    "## Grad CAM"
   ]
  },
  {
   "cell_type": "code",
   "execution_count": 1,
   "metadata": {},
   "outputs": [
    {
     "name": "stderr",
     "output_type": "stream",
     "text": [
      "INFO:transformers.file_utils:PyTorch version 1.4.0 available.\n"
     ]
    }
   ],
   "source": [
    "import sys,os,h5py\n",
    "import matplotlib.pyplot as plt\n",
    "import numpy as np \n",
    "from argparse import Namespace\n",
    "\n",
    "import torch\n",
    "import torch.nn as nn\n",
    "import torch.nn.functional as F\n",
    "from torch.utils.data import Dataset, DataLoader\n",
    "import pytorch_lightning as pl\n",
    "\n",
    "sys.path.append(os.path.dirname(os.getcwd())) #add parent folder to PATH\n",
    "import lib.models as models\n",
    "import seqlogo\n",
    "from IPython.display import  display"
   ]
  },
  {
   "cell_type": "markdown",
   "metadata": {},
   "source": [
    "### instantiate model"
   ]
  },
  {
   "cell_type": "code",
   "execution_count": 2,
   "metadata": {},
   "outputs": [],
   "source": [
    "class Experiment(pl.LightningModule):\n",
    "    def __init__(self,model):\n",
    "        super(Experiment, self).__init__()\n",
    "        self.model = model\n",
    "    def configure_optimizers(): pass\n",
    "    def forward(): pass\n",
    "    def training_step(): pass"
   ]
  },
  {
   "cell_type": "code",
   "execution_count": 3,
   "metadata": {},
   "outputs": [],
   "source": [
    "hparams = {'emb': {'vocab_size':4, 'd_emb':4,'hot':True},\n",
    "           'resnet': {'n_res_blocks':6, 'res_k':0, 'res_p':0.01, \n",
    "                      'block_stride':[2,1]*3,'C':32,'d':4,'bn_ks':3},\n",
    "           'seq_model_name': None, \n",
    "           'seq_model': None,\n",
    "           'lin': {'skip_cnt':False, 'fc_h_dim':512, 'lin_p':0.01},\n",
    "           'train': {'bs':25, 'batch_acum':4},\n",
    "           'optim_name':'torch.optim.AdamW',\n",
    "           'optim':{'lr':1e-4,'betas':(0.5,0.999),'weight_decay':0}\n",
    "          }\n",
    "hparams['seq_model_name'] ='BiLSTM' \n",
    "hparams['seq_model'] = {'d_model':512,'p':0.01,'seq_len':125}\n",
    "chpt_path = '../data/lightning_logs/version_55/checkpoints/_ckpt_epoch_5.ckpt'"
   ]
  },
  {
   "cell_type": "code",
   "execution_count": 4,
   "metadata": {},
   "outputs": [],
   "source": [
    "seq_model = eval('models.'+ hparams['seq_model_name'])(**hparams['seq_model'])\n",
    "model = models.ResSeqLin(**hparams['emb'], seq_model=seq_model, \n",
    "                         **hparams['resnet'], **hparams['lin'])\n",
    "\n",
    "exp = Experiment(model)\n",
    "exp.load_state_dict(torch.load(chpt_path)['state_dict'])\n",
    "_ = model.eval()"
   ]
  },
  {
   "cell_type": "code",
   "execution_count": 5,
   "metadata": {},
   "outputs": [],
   "source": [
    "seq_model = eval('models.'+ hparams['seq_model_name'])(**hparams['seq_model'])\n",
    "guided_model = models.ResSeqLin(**hparams['emb'], seq_model=seq_model, \n",
    "                         **hparams['resnet'], **hparams['lin'])\n",
    "\n",
    "exp = Experiment(guided_model)\n",
    "exp.load_state_dict(torch.load(chpt_path)['state_dict'])\n",
    "_ = guided_model.eval()"
   ]
  },
  {
   "cell_type": "code",
   "execution_count": 119,
   "metadata": {},
   "outputs": [],
   "source": [
    "test = np.load('../data/Processed/test.npz')\n",
    "# X_test = torch.tensor(test['arr_0'][:])\n",
    "sample = torch.tensor(test['arr_0'][333]).long()\n",
    "\n",
    "if hparams['emb']['hot']:\n",
    "    x_hot = torch.zeros(4,1000)\n",
    "    x_hot[sample,np.arange(1000)]=1\n",
    "    x = x_hot[None] # add batch dim\n",
    "else:\n",
    "    x = sample[None] # add batch dim\n",
    "    \n",
    "seq_len = x.shape[-1]"
   ]
  },
  {
   "cell_type": "code",
   "execution_count": 107,
   "metadata": {},
   "outputs": [
    {
     "name": "stdout",
     "output_type": "stream",
     "text": [
      "40\n"
     ]
    }
   ],
   "source": [
    "tgt = 832 #target to find common motif\n",
    "tgt_idxs = test['arr_1'][:500][:,832]==1\n",
    "sample_batch = test['arr_0'][:500][tgt_idxs]\n",
    "\n",
    "bs = sample_batch.shape[0]\n",
    "print(bs)\n",
    "hot_batch = torch.zeros(bs,4,seq_len)\n",
    "for i in range(bs):\n",
    "    x = torch.LongTensor(sample_batch[i])\n",
    "    hot_batch[i,x,np.arange(seq_len)]=1"
   ]
  },
  {
   "cell_type": "markdown",
   "metadata": {
    "heading_collapsed": true
   },
   "source": [
    "### viz"
   ]
  },
  {
   "cell_type": "code",
   "execution_count": 115,
   "metadata": {
    "hidden": true,
    "scrolled": true
   },
   "outputs": [],
   "source": [
    "def plot_seq(seq,title=None):\n",
    "    ''' Arguments:\n",
    "        seq: (seq_len,)\n",
    "    '''\n",
    "    r=seq_len//seq.shape[0]\n",
    "    seq = seq[None,:]\n",
    "    extended = np.repeat(np.repeat(seq,r,1),50,0)\n",
    "    fig, ax = plt.subplots(figsize=(16,16))\n",
    "    ax.get_yaxis().set_ticks([])\n",
    "    ax.set_title(title)\n",
    "    ax.imshow(extended,cmap='jet')\n",
    "\n",
    "def topk_seq(grad_cam,k,back_grad):\n",
    "    r=1000//grad_cam.shape[0]\n",
    "    extended = np.repeat(grad_cam,r)\n",
    "    if back_grad!= None: extended *= back_grad.numpy()\n",
    "    max_i, max_v = 0, 0\n",
    "    for i in range(1000-k):\n",
    "        v = extended[i:i+7].sum()\n",
    "        if v > max_v: \n",
    "            max_i = i\n",
    "            max_v = v\n",
    "    return max_i  \n",
    "\n",
    "def arr2seq(arr):\n",
    "    bases = ('A','G','C','T')\n",
    "    sample = []\n",
    "    for i in arr:\n",
    "        sample.append(bases[i])\n",
    "    return sample   \n",
    "\n",
    "def relu_tensor(x): return F.relu(torch.tensor(x))"
   ]
  },
  {
   "cell_type": "code",
   "execution_count": 8,
   "metadata": {
    "hidden": true
   },
   "outputs": [
    {
     "data": {
      "text/plain": [
       "tensor([[0., 0., 0.,  ..., 1., 0., 0.],\n",
       "        [0., 0., 0.,  ..., 0., 1., 1.],\n",
       "        [0., 1., 0.,  ..., 0., 0., 0.],\n",
       "        [1., 0., 1.,  ..., 0., 0., 0.]], requires_grad=True)"
      ]
     },
     "execution_count": 8,
     "metadata": {},
     "output_type": "execute_result"
    }
   ],
   "source": [
    "# Guide backpropagation\n",
    "# https://arxiv.org/pdf/1412.6806.pdf\n",
    "# https://github.com/kazuto1011/grad-cam-pytorch/blob/master/grad_cam.py\n",
    "\n",
    "guided_handlers = []\n",
    "\n",
    "for i in guided_model.modules():\n",
    "    if isinstance(i, nn.ReLU):\n",
    "        def backward_hook(module, grad_in, grad_out):\n",
    "            return (F.relu(grad_in[0]),)\n",
    "        guided_handlers.append(i.register_backward_hook(backward_hook))\n",
    "\n",
    "x.requires_grad_(True)"
   ]
  },
  {
   "cell_type": "code",
   "execution_count": 9,
   "metadata": {
    "hidden": true
   },
   "outputs": [],
   "source": [
    "# https://arxiv.org/pdf/1610.02391.pdf\n",
    "# https://course.fast.ai/videos/?lesson=6\n",
    "\n",
    "global saved_acts\n",
    "global saves_grads\n",
    "\n",
    "saved_acts = {}\n",
    "saves_grads= {}\n",
    "handlers = []\n",
    "\n",
    "def layer_hooks(layer,id):\n",
    "\n",
    "    def save_activations(module, input, output):\n",
    "        global saved_acts\n",
    "        saved_acts[id] = output\n",
    "\n",
    "    def save_gradients(module, grad_input, grad_output):\n",
    "        global saves_grads\n",
    "        saves_grads[id] = grad_output[0] #grads are tuples\n",
    "        \n",
    "    fwd_handle = layer.register_forward_hook(save_activations)\n",
    "    bwd_handle = layer.register_backward_hook(save_gradients)\n",
    "    handlers.append(fwd_handle)\n",
    "    handlers.append(bwd_handle)\n",
    "    \n",
    "# Layer to visualize the activations from\n",
    "last_cv = model.res.layers[-1] # for high lvl features\n",
    "first_cv = model.res.layers[0] # for motifs\n",
    "\n",
    "layer_hooks(last_cv,'last_cv')\n",
    "layer_hooks(first_cv,'first_cv')"
   ]
  },
  {
   "cell_type": "code",
   "execution_count": 67,
   "metadata": {
    "hidden": true
   },
   "outputs": [
    {
     "data": {
      "text/plain": [
       "tensor([[0., 0., 0.,  ..., 0., 0., 0.],\n",
       "        [0., 0., 0.,  ..., 0., 0., 0.],\n",
       "        [0., 0., 0.,  ..., 0., 0., 0.],\n",
       "        [0., 0., 0.,  ..., 0., 0., 0.]])"
      ]
     },
     "execution_count": 67,
     "metadata": {},
     "output_type": "execute_result"
    }
   ],
   "source": [
    "# Forward pass\n",
    "y_hat = model(x)\n",
    "y_pred = torch.sigmoid(y_hat[0])\n",
    "y_hat2 = guided_model(x)\n",
    "# print(saved_acts.shape)\n",
    "\n",
    "# We choose the class with highest probability, can be a choosen label\n",
    "_, i = y_pred.topk(1)\n",
    "# i=888\n",
    "# gradient backpropagation\n",
    "guided_model.zero_grad()\n",
    "y_hat2[0][0,i].backward()\n",
    "back_grad = F.relu(x.grad.clone().sum(0))\n",
    "\n",
    "model.zero_grad()\n",
    "y_hat[0][0,i].backward()\n",
    "x.grad.zero_()\n",
    "# print(saved_acts[0].shape, saves_grads[0].shape)"
   ]
  },
  {
   "cell_type": "code",
   "execution_count": 75,
   "metadata": {
    "hidden": true
   },
   "outputs": [
    {
     "data": {
      "text/plain": [
       "torch.return_types.topk(\n",
       "values=tensor([[0.9693, 0.9472, 0.9457, 0.8755, 0.8680, 0.8638, 0.8523, 0.8475, 0.8411,\n",
       "         0.7883]], grad_fn=<TopkBackward>),\n",
       "indices=tensor([[832, 831, 870, 859, 915, 871, 893, 892, 916, 860]]))"
      ]
     },
     "execution_count": 75,
     "metadata": {},
     "output_type": "execute_result"
    }
   ],
   "source": [
    "y_pred.topk(10)"
   ]
  },
  {
   "cell_type": "code",
   "execution_count": 116,
   "metadata": {
    "hidden": true,
    "scrolled": false
   },
   "outputs": [
    {
     "data": {
      "image/png": "[encoded data removed]",
      "text/plain": [
       "<Figure size 1152x1152 with 1 Axes>"
      ]
     },
     "metadata": {
      "needs_background": "light"
     },
     "output_type": "display_data"
    },
    {
     "data": {
      "image/png": "[encoded data removed]",
      "text/plain": [
       "<Figure size 1152x1152 with 1 Axes>"
      ]
     },
     "metadata": {
      "needs_background": "light"
     },
     "output_type": "display_data"
    },
    {
     "data": {
      "image/png": "[encoded data removed]",
      "text/plain": [
       "<Figure size 1152x1152 with 1 Axes>"
      ]
     },
     "metadata": {
      "needs_background": "light"
     },
     "output_type": "display_data"
    },
    {
     "data": {
      "image/png": "[encoded data removed]",
      "text/plain": [
       "<Figure size 1152x1152 with 1 Axes>"
      ]
     },
     "metadata": {
      "needs_background": "light"
     },
     "output_type": "display_data"
    }
   ],
   "source": [
    "# Mean of the activation of every filter for every class\n",
    "act_avg = saved_acts['last_cv'][0].detach().mean(0).numpy()\n",
    "plot_seq(abs(act_avg),'Layer activations (abs)')\n",
    "\n",
    "alpha_c = saves_grads['last_cv'][0].mean(1,keepdim=True) #weight factor for every filter according to gradients, represent how much affect the choosen class\n",
    "# grad_cam = F.relu((alpha_c*saved_acts[0]).sum(0)).detach().numpy() #Grad-CAM over every filter\n",
    "grad_cam = F.relu(alpha_c*saved_acts['last_cv'][0]).sum(0).detach().numpy() # grad cam modified\n",
    "# print(alpha_c.shape, grad_cam.shape)\n",
    "gd_grad_cam = np.repeat(grad_cam,seq_len//grad_cam.shape[0])* back_grad.numpy()\n",
    "\n",
    "    \n",
    "plot_seq(grad_cam,'Grad CAM')\n",
    "plot_seq(back_grad,'Guided BackPropagation')\n",
    "plot_seq(gd_grad_cam,'Guided Grad CAM')"
   ]
  },
  {
   "cell_type": "code",
   "execution_count": 118,
   "metadata": {
    "hidden": true
   },
   "outputs": [
    {
     "data": {
      "image/png": "[encoded data removed]",
      "text/plain": [
       "<Figure size 1152x1152 with 1 Axes>"
      ]
     },
     "metadata": {
      "needs_background": "light"
     },
     "output_type": "display_data"
    },
    {
     "data": {
      "image/png": "[encoded data removed]",
      "text/plain": [
       "<Figure size 1152x1152 with 1 Axes>"
      ]
     },
     "metadata": {
      "needs_background": "light"
     },
     "output_type": "display_data"
    },
    {
     "data": {
      "image/png": "[encoded data removed]",
      "text/plain": [
       "<Figure size 1152x1152 with 1 Axes>"
      ]
     },
     "metadata": {
      "needs_background": "light"
     },
     "output_type": "display_data"
    },
    {
     "data": {
      "image/png": "[encoded data removed]",
      "text/plain": [
       "<Figure size 1152x1152 with 1 Axes>"
      ]
     },
     "metadata": {
      "needs_background": "light"
     },
     "output_type": "display_data"
    }
   ],
   "source": [
    "act_avg = saved_acts['first_cv'][0].detach().mean(0).numpy()\n",
    "plot_seq(abs(act_avg),'Layer activations (abs)')\n",
    "\n",
    "alpha_c1 = saves_grads['first_cv'][0].mean(1,keepdim=True) #weight factor for every filter according to gradients, represent how much affect the choosen class\n",
    "# grad_cam = F.relu((alpha_c1*saved_acts['first_cv'][0]).sum(0)).detach().numpy() #Grad-CAM over every filter\n",
    "grad_cam1 = F.relu(alpha_c1*saved_acts['first_cv'][0]).sum(0).detach().numpy() # grad cam modified\n",
    "gd_grad_cam1 = np.repeat(grad_cam1,seq_len//grad_cam1.shape[0])* back_grad.numpy()\n",
    "\n",
    "plot_seq(grad_cam1,'Grad CAM')\n",
    "plot_seq(back_grad,'Guided BackPropagation')\n",
    "plot_seq(gd_grad_cam1,'Guided Grad CAM')"
   ]
  },
  {
   "cell_type": "code",
   "execution_count": 41,
   "metadata": {
    "hidden": true,
    "scrolled": true
   },
   "outputs": [
    {
     "data": {
      "text/plain": [
       "(135, ['G', 'C', 'G', 'C', 'G', 'C', 'C'])"
      ]
     },
     "execution_count": 41,
     "metadata": {},
     "output_type": "execute_result"
    }
   ],
   "source": [
    "i = topk_seq(grad_cam,7,back_grad)\n",
    "i,arr2seq(sample[i:i+7])"
   ]
  },
  {
   "cell_type": "markdown",
   "metadata": {
    "heading_collapsed": true
   },
   "source": [
    "### first layer weigts"
   ]
  },
  {
   "cell_type": "code",
   "execution_count": 10,
   "metadata": {
    "hidden": true
   },
   "outputs": [],
   "source": [
    "assert hparams['emb']['hot']"
   ]
  },
  {
   "cell_type": "code",
   "execution_count": 50,
   "metadata": {
    "hidden": true
   },
   "outputs": [
    {
     "name": "stdout",
     "output_type": "stream",
     "text": [
      "29\n"
     ]
    }
   ],
   "source": [
    "first_layer = model.res.layers[0]\n",
    "\n",
    "filter_i = (alpha_c1*saved_acts['first_cv'][0]).sum(1).topk(1,0)[1].item() # most relevant filter for the class\n",
    "#filter_i = alpha_c1.topk(1,0)[1].item() \n",
    "print(filter_i)\n",
    "first_filter = first_layer.weight[filter_i].detach().numpy().astype('float64')"
   ]
  },
  {
   "cell_type": "code",
   "execution_count": 51,
   "metadata": {
    "hidden": true
   },
   "outputs": [],
   "source": [
    "min_zero = first_filter - first_filter.min()\n",
    "p = (min_zero/min_zero.sum(0))"
   ]
  },
  {
   "cell_type": "code",
   "execution_count": 54,
   "metadata": {
    "hidden": true
   },
   "outputs": [
    {
     "data": {
      "image/png": "[encoded data removed]",
      "text/plain": [
       "<Figure size 432x288 with 1 Axes>"
      ]
     },
     "metadata": {
      "needs_background": "light"
     },
     "output_type": "display_data"
    }
   ],
   "source": [
    "fig,ax = plt.subplots()\n",
    "ax.matshow(p)\n",
    "ax.set_yticklabels(['','A','G','C','T'])\n",
    "plt.show()"
   ]
  },
  {
   "cell_type": "code",
   "execution_count": 59,
   "metadata": {
    "hidden": true,
    "scrolled": true
   },
   "outputs": [
    {
     "data": {
      "image/svg+xml": [
       "<svg height=\"202pt\" version=\"1.1\" viewBox=\"0 0 292 202\" width=\"292pt\" xmlns=\"http://www.w3.org/2000/svg\" xmlns:xlink=\"http://www.w3.org/1999/xlink\">\n",
       "<defs>\n",
       "<g>\n",
       "<symbol id=\"glyph0-0 -2832316734783709435\" overflow=\"visible\">\n",
       "<path d=\"\" style=\"stroke:none;\"/>\n",
       "</symbol>\n",
       "<symbol id=\"glyph0-1 -2832316734783709435\" overflow=\"visible\">\n",
       "<path d=\"M 2.203125 -5.78125 C 1.671875 -5.78125 1.1875 -5.546875 0.890625 -5.15625 C 0.53125 -4.640625 0.34375 -3.875 0.34375 -2.796875 C 0.34375 -0.84375 0.984375 0.1875 2.203125 0.1875 C 3.40625 0.1875 4.0625 -0.84375 4.0625 -2.75 C 4.0625 -3.875 3.875 -4.625 3.5 -5.15625 C 3.203125 -5.546875 2.734375 -5.78125 2.203125 -5.78125 Z M 2.203125 -5.15625 C 2.953125 -5.15625 3.34375 -4.390625 3.34375 -2.8125 C 3.34375 -1.171875 2.96875 -0.40625 2.1875 -0.40625 C 1.4375 -0.40625 1.0625 -1.203125 1.0625 -2.796875 C 1.0625 -4.390625 1.4375 -5.15625 2.203125 -5.15625 Z M 2.203125 -5.15625 \" style=\"stroke:none;\"/>\n",
       "</symbol>\n",
       "<symbol id=\"glyph0-2 -2832316734783709435\" overflow=\"visible\">\n",
       "<path d=\"M 1.53125 -0.828125 L 0.703125 -0.828125 L 0.703125 0 L 1.53125 0 Z M 1.53125 -0.828125 \" style=\"stroke:none;\"/>\n",
       "</symbol>\n",
       "<symbol id=\"glyph0-3 -2832316734783709435\" overflow=\"visible\">\n",
       "<path d=\"M 3.8125 -5.671875 L 0.875 -5.671875 L 0.453125 -2.578125 L 1.109375 -2.578125 C 1.4375 -2.96875 1.703125 -3.109375 2.15625 -3.109375 C 2.90625 -3.109375 3.390625 -2.59375 3.390625 -1.75 C 3.390625 -0.9375 2.90625 -0.4375 2.140625 -0.4375 C 1.53125 -0.4375 1.15625 -0.75 0.984375 -1.390625 L 0.28125 -1.390625 C 0.375 -0.921875 0.453125 -0.703125 0.625 -0.5 C 0.9375 -0.0625 1.515625 0.1875 2.15625 0.1875 C 3.296875 0.1875 4.109375 -0.640625 4.109375 -1.84375 C 4.109375 -2.96875 3.359375 -3.734375 2.265625 -3.734375 C 1.875 -3.734375 1.546875 -3.625 1.21875 -3.390625 L 1.453125 -4.96875 L 3.8125 -4.96875 Z M 3.8125 -5.671875 \" style=\"stroke:none;\"/>\n",
       "</symbol>\n",
       "<symbol id=\"glyph0-4 -2832316734783709435\" overflow=\"visible\">\n",
       "<path d=\"M 2.078125 -4.125 L 2.078125 0 L 2.78125 0 L 2.78125 -5.78125 L 2.3125 -5.78125 C 2.0625 -4.890625 1.90625 -4.78125 0.8125 -4.625 L 0.8125 -4.125 Z M 2.078125 -4.125 \" style=\"stroke:none;\"/>\n",
       "</symbol>\n",
       "<symbol id=\"glyph1-0 -2832316734783709435\" overflow=\"visible\">\n",
       "<path d=\"\" style=\"stroke:none;\"/>\n",
       "</symbol>\n",
       "<symbol id=\"glyph1-1 -2832316734783709435\" overflow=\"visible\">\n",
       "<path d=\"M 2.1875 -0.546875 L 2.1875 -1.375 L -0.546875 -1.375 C -0.015625 -1.8125 0.234375 -2.3125 0.234375 -2.984375 C 0.234375 -4.34375 -0.859375 -5.234375 -2.53125 -5.234375 C -4.296875 -5.234375 -5.390625 -4.375 -5.390625 -2.984375 C -5.390625 -2.265625 -5.0625 -1.703125 -4.453125 -1.3125 L -5.234375 -1.3125 L -5.234375 -0.546875 Z M -4.609375 -2.84375 C -4.609375 -3.765625 -3.796875 -4.359375 -2.546875 -4.359375 C -1.359375 -4.359375 -0.546875 -3.75 -0.546875 -2.84375 C -0.546875 -1.953125 -1.34375 -1.375 -2.578125 -1.375 C -3.8125 -1.375 -4.609375 -1.953125 -4.609375 -2.84375 Z M -4.609375 -2.84375 \" style=\"stroke:none;\"/>\n",
       "</symbol>\n",
       "<symbol id=\"glyph1-2 -2832316734783709435\" overflow=\"visible\">\n",
       "<path d=\"M -5.234375 -0.6875 L 0 -0.6875 L 0 -1.53125 L -2.71875 -1.53125 C -3.984375 -1.546875 -4.546875 -2.0625 -4.515625 -3.203125 L -5.359375 -3.203125 C -5.375 -3.0625 -5.390625 -2.984375 -5.390625 -2.890625 C -5.390625 -2.34375 -5.0625 -1.9375 -4.296875 -1.453125 L -5.234375 -1.453125 Z M -5.234375 -0.6875 \" style=\"stroke:none;\"/>\n",
       "</symbol>\n",
       "<symbol id=\"glyph1-3 -2832316734783709435\" overflow=\"visible\">\n",
       "<path d=\"M -5.390625 -2.71875 C -5.390625 -1.234375 -4.34375 -0.359375 -2.578125 -0.359375 C -0.8125 -0.359375 0.234375 -1.234375 0.234375 -2.734375 C 0.234375 -4.203125 -0.8125 -5.09375 -2.546875 -5.09375 C -4.359375 -5.09375 -5.390625 -4.234375 -5.390625 -2.71875 Z M -4.625 -2.734375 C -4.625 -3.671875 -3.84375 -4.234375 -2.546875 -4.234375 C -1.3125 -4.234375 -0.546875 -3.65625 -0.546875 -2.734375 C -0.546875 -1.796875 -1.3125 -1.234375 -2.578125 -1.234375 C -3.84375 -1.234375 -4.625 -1.796875 -4.625 -2.734375 Z M -4.625 -2.734375 \" style=\"stroke:none;\"/>\n",
       "</symbol>\n",
       "<symbol id=\"glyph1-4 -2832316734783709435\" overflow=\"visible\">\n",
       "<path d=\"M -7.296875 -0.546875 L 0 -0.546875 L 0 -1.296875 L -0.671875 -1.296875 C -0.0625 -1.6875 0.234375 -2.21875 0.234375 -2.953125 C 0.234375 -4.328125 -0.90625 -5.234375 -2.640625 -5.234375 C -4.34375 -5.234375 -5.390625 -4.375 -5.390625 -2.984375 C -5.390625 -2.265625 -5.125 -1.765625 -4.53125 -1.375 L -7.296875 -1.375 Z M -4.609375 -2.828125 C -4.609375 -3.765625 -3.796875 -4.359375 -2.546875 -4.359375 C -1.359375 -4.359375 -0.546875 -3.734375 -0.546875 -2.828125 C -0.546875 -1.9375 -1.34375 -1.375 -2.578125 -1.375 C -3.8125 -1.375 -4.609375 -1.9375 -4.609375 -2.828125 Z M -4.609375 -2.828125 \" style=\"stroke:none;\"/>\n",
       "</symbol>\n",
       "<symbol id=\"glyph1-5 -2832316734783709435\" overflow=\"visible\">\n",
       "<path d=\"M -0.484375 -5.34375 C -0.46875 -5.265625 -0.46875 -5.21875 -0.46875 -5.171875 C -0.46875 -4.875 -0.625 -4.71875 -0.875 -4.71875 L -3.953125 -4.71875 C -4.890625 -4.71875 -5.390625 -4.046875 -5.390625 -2.75 C -5.390625 -1.984375 -5.171875 -1.375 -4.78125 -1.015625 C -4.515625 -0.765625 -4.203125 -0.671875 -3.6875 -0.65625 L -3.6875 -1.484375 C -4.328125 -1.5625 -4.625 -1.9375 -4.625 -2.71875 C -4.625 -3.484375 -4.34375 -3.890625 -3.84375 -3.890625 L -3.625 -3.890625 C -3.265625 -3.875 -3.125 -3.703125 -3.046875 -3.015625 C -2.890625 -1.84375 -2.84375 -1.65625 -2.71875 -1.34375 C -2.453125 -0.734375 -2 -0.421875 -1.3125 -0.421875 C -0.375 -0.421875 0.234375 -1.078125 0.234375 -2.140625 C 0.234375 -2.796875 0 -3.328125 -0.546875 -3.921875 C 0 -3.984375 0.234375 -4.234375 0.234375 -4.78125 C 0.234375 -4.953125 0.203125 -5.0625 0.140625 -5.34375 Z M -1.65625 -3.890625 C -1.375 -3.890625 -1.203125 -3.8125 -0.96875 -3.5625 C -0.65625 -3.21875 -0.5 -2.8125 -0.5 -2.3125 C -0.5 -1.671875 -0.8125 -1.296875 -1.34375 -1.296875 C -1.890625 -1.296875 -2.171875 -1.65625 -2.296875 -2.546875 C -2.421875 -3.4375 -2.453125 -3.609375 -2.59375 -3.890625 Z M -1.65625 -3.890625 \" style=\"stroke:none;\"/>\n",
       "</symbol>\n",
       "<symbol id=\"glyph1-6 -2832316734783709435\" overflow=\"visible\">\n",
       "<path d=\"M -5.234375 -1.5 L -5.234375 -0.671875 L 0 -0.671875 L 0 -1.5 Z M -7.296875 -1.5 L -7.296875 -0.65625 L -6.234375 -0.65625 L -6.234375 -1.5 Z M -7.296875 -1.5 \" style=\"stroke:none;\"/>\n",
       "</symbol>\n",
       "<symbol id=\"glyph1-7 -2832316734783709435\" overflow=\"visible\">\n",
       "<path d=\"M -7.296875 -1.515625 L -7.296875 -0.6875 L 0 -0.6875 L 0 -1.515625 Z M -7.296875 -1.515625 \" style=\"stroke:none;\"/>\n",
       "</symbol>\n",
       "<symbol id=\"glyph1-8 -2832316734783709435\" overflow=\"visible\">\n",
       "<path d=\"M -5.234375 -2.546875 L -5.234375 -1.6875 L -6.6875 -1.6875 L -6.6875 -0.84375 L -5.234375 -0.84375 L -5.234375 -0.140625 L -4.5625 -0.140625 L -4.5625 -0.84375 L -0.59375 -0.84375 C -0.0625 -0.84375 0.234375 -1.203125 0.234375 -1.859375 C 0.234375 -2.078125 0.203125 -2.265625 0.15625 -2.546875 L -0.546875 -2.546875 C -0.515625 -2.421875 -0.5 -2.3125 -0.5 -2.140625 C -0.5 -1.78125 -0.59375 -1.6875 -0.96875 -1.6875 L -4.5625 -1.6875 L -4.5625 -2.546875 Z M -5.234375 -2.546875 \" style=\"stroke:none;\"/>\n",
       "</symbol>\n",
       "<symbol id=\"glyph1-9 -2832316734783709435\" overflow=\"visible\">\n",
       "<path d=\"M -5.234375 -3.875 L -1.15625 -2.4375 L -5.234375 -1.09375 L -5.234375 -0.203125 L 0.015625 -1.96875 L 0.84375 -1.65625 C 1.21875 -1.515625 1.359375 -1.328125 1.359375 -0.984375 C 1.359375 -0.84375 1.34375 -0.71875 1.296875 -0.546875 L 2.046875 -0.546875 C 2.140625 -0.703125 2.1875 -0.875 2.1875 -1.09375 C 2.1875 -1.375 2.09375 -1.65625 1.9375 -1.875 C 1.734375 -2.140625 1.515625 -2.296875 1.09375 -2.453125 L -5.234375 -4.78125 Z M -5.234375 -3.875 \" style=\"stroke:none;\"/>\n",
       "</symbol>\n",
       "<symbol id=\"glyph2-0 -2832316734783709435\" overflow=\"visible\">\n",
       "<path d=\"\" style=\"stroke:none;\"/>\n",
       "</symbol>\n",
       "<symbol id=\"glyph2-1 -2832316734783709435\" overflow=\"visible\">\n",
       "<path d=\"M 37.609375 -17.84375 L 22.171875 -17.84375 L 22.171875 -12.15625 L 30.953125 -12.15625 C 30.734375 -10.28125 30.203125 -9.140625 29.046875 -7.96875 C 27.140625 -5.953125 24.171875 -4.78125 21.15625 -4.78125 C 14.703125 -4.78125 10.15625 -9.59375 10.15625 -16.421875 C 10.15625 -23.5625 14.171875 -27.890625 20.953125 -27.890625 C 23.703125 -27.890625 26.03125 -27.203125 27.78125 -25.890625 C 28.890625 -25.078125 29.46875 -24.296875 30.15625 -22.5625 L 37.609375 -22.5625 C 36.65625 -29.4375 30.203125 -33.71875 20.890625 -33.71875 C 9.78125 -33.71875 2.21875 -26.65625 2.21875 -16.328125 C 2.21875 -6.28125 9.84375 1.046875 20.265625 1.046875 C 25.453125 1.046875 28.9375 -0.546875 31.90625 -4.28125 L 32.859375 0.09375 L 37.609375 0.09375 Z M 37.609375 -17.84375 \" style=\"stroke:none;\"/>\n",
       "</symbol>\n",
       "<symbol id=\"glyph3-0 -2832316734783709435\" overflow=\"visible\">\n",
       "<path d=\"\" style=\"stroke:none;\"/>\n",
       "</symbol>\n",
       "<symbol id=\"glyph3-1 -2832316734783709435\" overflow=\"visible\">\n",
       "<path d=\"M 26.1875 -8.53125 L 28.703125 0 L 36.75 0 L 23.578125 -42.28125 L 14.90625 -42.28125 L 1.359375 0 L 9.359375 0 L 11.921875 -8.53125 Z M 24.046875 -15.78125 L 14.109375 -15.78125 L 19.078125 -32.3125 Z M 24.046875 -15.78125 \" style=\"stroke:none;\"/>\n",
       "</symbol>\n",
       "<symbol id=\"glyph4-0 -2832316734783709435\" overflow=\"visible\">\n",
       "<path d=\"\" style=\"stroke:none;\"/>\n",
       "</symbol>\n",
       "<symbol id=\"glyph4-1 -2832316734783709435\" overflow=\"visible\">\n",
       "<path d=\"M 23.359375 -42.65625 L 36.28125 -42.65625 L 36.28125 -51.484375 L 0.84375 -51.484375 L 0.84375 -42.65625 L 14.265625 -42.65625 L 14.265625 0 L 23.359375 0 Z M 23.359375 -42.65625 \" style=\"stroke:none;\"/>\n",
       "</symbol>\n",
       "<symbol id=\"glyph5-0 -2832316734783709435\" overflow=\"visible\">\n",
       "<path d=\"\" style=\"stroke:none;\"/>\n",
       "</symbol>\n",
       "<symbol id=\"glyph5-1 -2832316734783709435\" overflow=\"visible\">\n",
       "<path d=\"M 37.671875 -32.484375 C 37.390625 -36.734375 36.671875 -39.421875 34.96875 -42.1875 C 31.875 -47.171875 26.90625 -49.9375 20.875 -49.9375 C 9.5 -49.9375 2.4375 -40.03125 2.4375 -24.125 C 2.4375 -8.28125 9.4375 1.546875 20.65625 1.546875 C 30.703125 1.546875 37.34375 -5.53125 37.828125 -16.78125 L 29.765625 -16.78125 C 29.21875 -10.515625 26.015625 -6.9375 20.875 -6.9375 C 14.46875 -6.9375 10.71875 -13.28125 10.71875 -23.984375 C 10.71875 -34.84375 14.640625 -41.3125 21.15625 -41.3125 C 25.953125 -41.3125 28.671875 -38.484375 29.765625 -32.484375 Z M 37.671875 -32.484375 \" style=\"stroke:none;\"/>\n",
       "</symbol>\n",
       "<symbol id=\"glyph6-0 -2832316734783709435\" overflow=\"visible\">\n",
       "<path d=\"\" style=\"stroke:none;\"/>\n",
       "</symbol>\n",
       "<symbol id=\"glyph6-1 -2832316734783709435\" overflow=\"visible\">\n",
       "<path d=\"M 23.359375 -28.828125 L 36.28125 -28.828125 L 36.28125 -34.78125 L 0.84375 -34.78125 L 0.84375 -28.828125 L 14.265625 -28.828125 L 14.265625 0 L 23.359375 0 Z M 23.359375 -28.828125 \" style=\"stroke:none;\"/>\n",
       "</symbol>\n",
       "<symbol id=\"glyph7-0 -2832316734783709435\" overflow=\"visible\">\n",
       "<path d=\"\" style=\"stroke:none;\"/>\n",
       "</symbol>\n",
       "<symbol id=\"glyph7-1 -2832316734783709435\" overflow=\"visible\">\n",
       "<path d=\"M 37.609375 -33.09375 L 22.171875 -33.09375 L 22.171875 -22.546875 L 30.953125 -22.546875 C 30.734375 -19.078125 30.203125 -16.96875 29.046875 -14.78125 C 27.140625 -11.0625 24.171875 -8.859375 21.15625 -8.859375 C 14.703125 -8.859375 10.15625 -17.8125 10.15625 -30.484375 C 10.15625 -43.734375 14.171875 -51.765625 20.953125 -51.765625 C 23.703125 -51.765625 26.03125 -50.5 27.78125 -48.046875 C 28.890625 -46.53125 29.46875 -45.09375 30.15625 -41.875 L 37.609375 -41.875 C 36.65625 -54.625 30.203125 -62.5625 20.890625 -62.5625 C 9.78125 -62.5625 2.21875 -49.484375 2.21875 -30.3125 C 2.21875 -11.65625 9.84375 1.9375 20.265625 1.9375 C 25.453125 1.9375 28.9375 -1.015625 31.90625 -7.9375 L 32.859375 0.171875 L 37.609375 0.171875 Z M 37.609375 -33.09375 \" style=\"stroke:none;\"/>\n",
       "</symbol>\n",
       "<symbol id=\"glyph8-0 -2832316734783709435\" overflow=\"visible\">\n",
       "<path d=\"\" style=\"stroke:none;\"/>\n",
       "</symbol>\n",
       "<symbol id=\"glyph8-1 -2832316734783709435\" overflow=\"visible\">\n",
       "<path d=\"M 26.1875 -16.390625 L 28.703125 0 L 36.75 0 L 23.578125 -81.265625 L 14.90625 -81.265625 L 1.359375 0 L 9.359375 0 L 11.921875 -16.390625 Z M 24.046875 -30.3125 L 14.109375 -30.3125 L 19.078125 -62.09375 Z M 24.046875 -30.3125 \" style=\"stroke:none;\"/>\n",
       "</symbol>\n",
       "<symbol id=\"glyph9-0 -2832316734783709435\" overflow=\"visible\">\n",
       "<path d=\"\" style=\"stroke:none;\"/>\n",
       "</symbol>\n",
       "<symbol id=\"glyph9-1 -2832316734783709435\" overflow=\"visible\">\n",
       "<path d=\"M 23.359375 -2.703125 L 36.28125 -2.703125 L 36.28125 -3.265625 L 0.84375 -3.265625 L 0.84375 -2.703125 L 14.265625 -2.703125 L 14.265625 0 L 23.359375 0 Z M 23.359375 -2.703125 \" style=\"stroke:none;\"/>\n",
       "</symbol>\n",
       "<symbol id=\"glyph10-0 -2832316734783709435\" overflow=\"visible\">\n",
       "<path d=\"\" style=\"stroke:none;\"/>\n",
       "</symbol>\n",
       "<symbol id=\"glyph10-1 -2832316734783709435\" overflow=\"visible\">\n",
       "<path d=\"M 37.609375 -14.15625 L 22.171875 -14.15625 L 22.171875 -9.640625 L 30.953125 -9.640625 C 30.734375 -8.171875 30.203125 -7.265625 29.046875 -6.328125 C 27.140625 -4.734375 24.171875 -3.796875 21.15625 -3.796875 C 14.703125 -3.796875 10.15625 -7.625 10.15625 -13.046875 C 10.15625 -18.71875 14.171875 -22.140625 20.953125 -22.140625 C 23.703125 -22.140625 26.03125 -21.609375 27.78125 -20.5625 C 28.890625 -19.90625 29.46875 -19.296875 30.15625 -17.921875 L 37.609375 -17.921875 C 36.65625 -23.375 30.203125 -26.765625 20.890625 -26.765625 C 9.78125 -26.765625 2.21875 -21.171875 2.21875 -12.96875 C 2.21875 -4.984375 9.84375 0.828125 20.265625 0.828125 C 25.453125 0.828125 28.9375 -0.4375 31.90625 -3.390625 L 32.859375 0.078125 L 37.609375 0.078125 Z M 37.609375 -14.15625 \" style=\"stroke:none;\"/>\n",
       "</symbol>\n",
       "<symbol id=\"glyph11-0 -2832316734783709435\" overflow=\"visible\">\n",
       "<path d=\"\" style=\"stroke:none;\"/>\n",
       "</symbol>\n",
       "<symbol id=\"glyph11-1 -2832316734783709435\" overflow=\"visible\">\n",
       "<path d=\"M 26.1875 -12.375 L 28.703125 0 L 36.75 0 L 23.578125 -61.40625 L 14.90625 -61.40625 L 1.359375 0 L 9.359375 0 L 11.921875 -12.375 Z M 24.046875 -22.90625 L 14.109375 -22.90625 L 19.078125 -46.921875 Z M 24.046875 -22.90625 \" style=\"stroke:none;\"/>\n",
       "</symbol>\n",
       "<symbol id=\"glyph12-0 -2832316734783709435\" overflow=\"visible\">\n",
       "<path d=\"\" style=\"stroke:none;\"/>\n",
       "</symbol>\n",
       "<symbol id=\"glyph12-1 -2832316734783709435\" overflow=\"visible\">\n",
       "<path d=\"M 37.671875 -55.359375 C 37.390625 -62.59375 36.671875 -67.1875 34.96875 -71.90625 C 31.875 -80.40625 26.90625 -85.109375 20.875 -85.109375 C 9.5 -85.109375 2.4375 -68.21875 2.4375 -41.125 C 2.4375 -14.125 9.4375 2.640625 20.65625 2.640625 C 30.703125 2.640625 37.34375 -9.421875 37.828125 -28.59375 L 29.765625 -28.59375 C 29.21875 -17.921875 26.015625 -11.828125 20.875 -11.828125 C 14.46875 -11.828125 10.71875 -22.625 10.71875 -40.890625 C 10.71875 -59.375 14.640625 -70.40625 21.15625 -70.40625 C 25.953125 -70.40625 28.671875 -65.578125 29.765625 -55.359375 Z M 37.671875 -55.359375 \" style=\"stroke:none;\"/>\n",
       "</symbol>\n",
       "<symbol id=\"glyph13-0 -2832316734783709435\" overflow=\"visible\">\n",
       "<path d=\"\" style=\"stroke:none;\"/>\n",
       "</symbol>\n",
       "<symbol id=\"glyph13-1 -2832316734783709435\" overflow=\"visible\">\n",
       "<path d=\"M 23.359375 -15.109375 L 36.28125 -15.109375 L 36.28125 -18.234375 L 0.84375 -18.234375 L 0.84375 -15.109375 L 14.265625 -15.109375 L 14.265625 0 L 23.359375 0 Z M 23.359375 -15.109375 \" style=\"stroke:none;\"/>\n",
       "</symbol>\n",
       "<symbol id=\"glyph14-0 -2832316734783709435\" overflow=\"visible\">\n",
       "<path d=\"\" style=\"stroke:none;\"/>\n",
       "</symbol>\n",
       "<symbol id=\"glyph14-1 -2832316734783709435\" overflow=\"visible\">\n",
       "<path d=\"M 26.1875 -6.71875 L 28.703125 0 L 36.75 0 L 23.578125 -33.3125 L 14.90625 -33.3125 L 1.359375 0 L 9.359375 0 L 11.921875 -6.71875 Z M 24.046875 -12.4375 L 14.109375 -12.4375 L 19.078125 -25.453125 Z M 24.046875 -12.4375 \" style=\"stroke:none;\"/>\n",
       "</symbol>\n",
       "<symbol id=\"glyph15-0 -2832316734783709435\" overflow=\"visible\">\n",
       "<path d=\"\" style=\"stroke:none;\"/>\n",
       "</symbol>\n",
       "<symbol id=\"glyph15-1 -2832316734783709435\" overflow=\"visible\">\n",
       "<path d=\"M 37.609375 -29.625 L 22.171875 -29.625 L 22.171875 -20.171875 L 30.953125 -20.171875 C 30.734375 -17.078125 30.203125 -15.1875 29.046875 -13.21875 C 27.140625 -9.90625 24.171875 -7.9375 21.15625 -7.9375 C 14.703125 -7.9375 10.15625 -15.9375 10.15625 -27.28125 C 10.15625 -39.140625 14.171875 -46.3125 20.953125 -46.3125 C 23.703125 -46.3125 26.03125 -45.1875 27.78125 -43 C 28.890625 -41.640625 29.46875 -40.34375 30.15625 -37.484375 L 37.609375 -37.484375 C 36.65625 -48.890625 30.203125 -55.984375 20.890625 -55.984375 C 9.78125 -55.984375 2.21875 -44.28125 2.21875 -27.125 C 2.21875 -10.421875 9.84375 1.734375 20.265625 1.734375 C 25.453125 1.734375 28.9375 -0.90625 31.90625 -7.109375 L 32.859375 0.15625 L 37.609375 0.15625 Z M 37.609375 -29.625 \" style=\"stroke:none;\"/>\n",
       "</symbol>\n",
       "<symbol id=\"glyph16-0 -2832316734783709435\" overflow=\"visible\">\n",
       "<path d=\"\" style=\"stroke:none;\"/>\n",
       "</symbol>\n",
       "<symbol id=\"glyph16-1 -2832316734783709435\" overflow=\"visible\">\n",
       "<path d=\"M 37.671875 -44.671875 C 37.390625 -50.5 36.671875 -54.21875 34.96875 -58.015625 C 31.875 -64.875 26.90625 -68.671875 20.875 -68.671875 C 9.5 -68.671875 2.4375 -55.046875 2.4375 -33.171875 C 2.4375 -11.40625 9.4375 2.125 20.65625 2.125 C 30.703125 2.125 37.34375 -7.59375 37.828125 -23.078125 L 29.765625 -23.078125 C 29.21875 -14.453125 26.015625 -9.546875 20.875 -9.546875 C 14.46875 -9.546875 10.71875 -18.25 10.71875 -32.984375 C 10.71875 -47.90625 14.640625 -56.8125 21.15625 -56.8125 C 25.953125 -56.8125 28.671875 -52.921875 29.765625 -44.671875 Z M 37.671875 -44.671875 \" style=\"stroke:none;\"/>\n",
       "</symbol>\n",
       "<symbol id=\"glyph17-0 -2832316734783709435\" overflow=\"visible\">\n",
       "<path d=\"\" style=\"stroke:none;\"/>\n",
       "</symbol>\n",
       "<symbol id=\"glyph17-1 -2832316734783709435\" overflow=\"visible\">\n",
       "<path d=\"M 23.359375 -13.484375 L 36.28125 -13.484375 L 36.28125 -16.265625 L 0.84375 -16.265625 L 0.84375 -13.484375 L 14.265625 -13.484375 L 14.265625 0 L 23.359375 0 Z M 23.359375 -13.484375 \" style=\"stroke:none;\"/>\n",
       "</symbol>\n",
       "<symbol id=\"glyph18-0 -2832316734783709435\" overflow=\"visible\">\n",
       "<path d=\"\" style=\"stroke:none;\"/>\n",
       "</symbol>\n",
       "<symbol id=\"glyph18-1 -2832316734783709435\" overflow=\"visible\">\n",
       "<path d=\"M 37.671875 -21.9375 C 37.390625 -24.796875 36.671875 -26.625 34.96875 -28.484375 C 31.875 -31.84375 26.90625 -33.71875 20.875 -33.71875 C 9.5 -33.71875 2.4375 -27.03125 2.4375 -16.28125 C 2.4375 -5.59375 9.4375 1.046875 20.65625 1.046875 C 30.703125 1.046875 37.34375 -3.734375 37.828125 -11.328125 L 29.765625 -11.328125 C 29.21875 -7.09375 26.015625 -4.6875 20.875 -4.6875 C 14.46875 -4.6875 10.71875 -8.96875 10.71875 -16.203125 C 10.71875 -23.53125 14.640625 -27.890625 21.15625 -27.890625 C 25.953125 -27.890625 28.671875 -25.984375 29.765625 -21.9375 Z M 37.671875 -21.9375 \" style=\"stroke:none;\"/>\n",
       "</symbol>\n",
       "<symbol id=\"glyph19-0 -2832316734783709435\" overflow=\"visible\">\n",
       "<path d=\"\" style=\"stroke:none;\"/>\n",
       "</symbol>\n",
       "<symbol id=\"glyph19-1 -2832316734783709435\" overflow=\"visible\">\n",
       "<path d=\"M 26.1875 -11.140625 L 28.703125 0 L 36.75 0 L 23.578125 -55.25 L 14.90625 -55.25 L 1.359375 0 L 9.359375 0 L 11.921875 -11.140625 Z M 24.046875 -20.609375 L 14.109375 -20.609375 L 19.078125 -42.203125 Z M 24.046875 -20.609375 \" style=\"stroke:none;\"/>\n",
       "</symbol>\n",
       "<symbol id=\"glyph20-0 -2832316734783709435\" overflow=\"visible\">\n",
       "<path d=\"\" style=\"stroke:none;\"/>\n",
       "</symbol>\n",
       "<symbol id=\"glyph20-1 -2832316734783709435\" overflow=\"visible\">\n",
       "<path d=\"M 37.609375 -37.890625 L 22.171875 -37.890625 L 22.171875 -25.8125 L 30.953125 -25.8125 C 30.734375 -21.84375 30.203125 -19.4375 29.046875 -16.921875 C 27.140625 -12.65625 24.171875 -10.15625 21.15625 -10.15625 C 14.703125 -10.15625 10.15625 -20.390625 10.15625 -34.90625 C 10.15625 -50.078125 14.171875 -59.265625 20.953125 -59.265625 C 23.703125 -59.265625 26.03125 -57.8125 27.78125 -55 C 28.890625 -53.265625 29.46875 -51.625 30.15625 -47.953125 L 37.609375 -47.953125 C 36.65625 -62.546875 30.203125 -71.640625 20.890625 -71.640625 C 9.78125 -71.640625 2.21875 -56.65625 2.21875 -34.703125 C 2.21875 -13.34375 9.84375 2.21875 20.265625 2.21875 C 25.453125 2.21875 28.9375 -1.15625 31.90625 -9.09375 L 32.859375 0.1875 L 37.609375 0.1875 Z M 37.609375 -37.890625 \" style=\"stroke:none;\"/>\n",
       "</symbol>\n",
       "<symbol id=\"glyph21-0 -2832316734783709435\" overflow=\"visible\">\n",
       "<path d=\"\" style=\"stroke:none;\"/>\n",
       "</symbol>\n",
       "<symbol id=\"glyph21-1 -2832316734783709435\" overflow=\"visible\">\n",
       "<path d=\"M 26.1875 -6.265625 L 28.703125 0 L 36.75 0 L 23.578125 -31.046875 L 14.90625 -31.046875 L 1.359375 0 L 9.359375 0 L 11.921875 -6.265625 Z M 24.046875 -11.578125 L 14.109375 -11.578125 L 19.078125 -23.71875 Z M 24.046875 -11.578125 \" style=\"stroke:none;\"/>\n",
       "</symbol>\n",
       "<symbol id=\"glyph22-0 -2832316734783709435\" overflow=\"visible\">\n",
       "<path d=\"\" style=\"stroke:none;\"/>\n",
       "</symbol>\n",
       "<symbol id=\"glyph22-1 -2832316734783709435\" overflow=\"visible\">\n",
       "<path d=\"M 23.359375 -38.046875 L 36.28125 -38.046875 L 36.28125 -45.921875 L 0.84375 -45.921875 L 0.84375 -38.046875 L 14.265625 -38.046875 L 14.265625 0 L 23.359375 0 Z M 23.359375 -38.046875 \" style=\"stroke:none;\"/>\n",
       "</symbol>\n",
       "<symbol id=\"glyph23-0 -2832316734783709435\" overflow=\"visible\">\n",
       "<path d=\"\" style=\"stroke:none;\"/>\n",
       "</symbol>\n",
       "<symbol id=\"glyph23-1 -2832316734783709435\" overflow=\"visible\">\n",
       "<path d=\"M 37.671875 -28.984375 C 37.390625 -32.78125 36.671875 -35.1875 34.96875 -37.640625 C 31.875 -42.09375 26.90625 -44.5625 20.875 -44.5625 C 9.5 -44.5625 2.4375 -35.71875 2.4375 -21.53125 C 2.4375 -7.390625 9.4375 1.390625 20.65625 1.390625 C 30.703125 1.390625 37.34375 -4.9375 37.828125 -14.96875 L 29.765625 -14.96875 C 29.21875 -9.375 26.015625 -6.1875 20.875 -6.1875 C 14.46875 -6.1875 10.71875 -11.84375 10.71875 -21.40625 C 10.71875 -31.09375 14.640625 -36.859375 21.15625 -36.859375 C 25.953125 -36.859375 28.671875 -34.34375 29.765625 -28.984375 Z M 37.671875 -28.984375 \" style=\"stroke:none;\"/>\n",
       "</symbol>\n",
       "<symbol id=\"glyph24-0 -2832316734783709435\" overflow=\"visible\">\n",
       "<path d=\"\" style=\"stroke:none;\"/>\n",
       "</symbol>\n",
       "<symbol id=\"glyph24-1 -2832316734783709435\" overflow=\"visible\">\n",
       "<path d=\"M 37.609375 -29.3125 L 22.171875 -29.3125 L 22.171875 -19.96875 L 30.953125 -19.96875 C 30.734375 -16.90625 30.203125 -15.03125 29.046875 -13.09375 C 27.140625 -9.796875 24.171875 -7.859375 21.15625 -7.859375 C 14.703125 -7.859375 10.15625 -15.78125 10.15625 -27 C 10.15625 -38.734375 14.171875 -45.84375 20.953125 -45.84375 C 23.703125 -45.84375 26.03125 -44.71875 27.78125 -42.546875 C 28.890625 -41.203125 29.46875 -39.9375 30.15625 -37.09375 L 37.609375 -37.09375 C 36.65625 -48.390625 30.203125 -55.40625 20.890625 -55.40625 C 9.78125 -55.40625 2.21875 -43.828125 2.21875 -26.84375 C 2.21875 -10.3125 9.84375 1.71875 20.265625 1.71875 C 25.453125 1.71875 28.9375 -0.890625 31.90625 -7.03125 L 32.859375 0.15625 L 37.609375 0.15625 Z M 37.609375 -29.3125 \" style=\"stroke:none;\"/>\n",
       "</symbol>\n",
       "<symbol id=\"glyph25-0 -2832316734783709435\" overflow=\"visible\">\n",
       "<path d=\"\" style=\"stroke:none;\"/>\n",
       "</symbol>\n",
       "<symbol id=\"glyph25-1 -2832316734783709435\" overflow=\"visible\">\n",
       "<path d=\"M 37.609375 -4.515625 L 22.171875 -4.515625 L 22.171875 -3.078125 L 30.953125 -3.078125 C 30.734375 -2.609375 30.203125 -2.3125 29.046875 -2.015625 C 27.140625 -1.515625 24.171875 -1.203125 21.15625 -1.203125 C 14.703125 -1.203125 10.15625 -2.4375 10.15625 -4.15625 C 10.15625 -5.96875 14.171875 -7.0625 20.953125 -7.0625 C 23.703125 -7.0625 26.03125 -6.890625 27.78125 -6.5625 C 28.890625 -6.359375 29.46875 -6.15625 30.15625 -5.71875 L 37.609375 -5.71875 C 36.65625 -7.453125 30.203125 -8.546875 20.890625 -8.546875 C 9.78125 -8.546875 2.21875 -6.75 2.21875 -4.140625 C 2.21875 -1.59375 9.84375 0.265625 20.265625 0.265625 C 25.453125 0.265625 28.9375 -0.140625 31.90625 -1.078125 L 32.859375 0.015625 L 37.609375 0.015625 Z M 37.609375 -4.515625 \" style=\"stroke:none;\"/>\n",
       "</symbol>\n",
       "<symbol id=\"glyph26-0 -2832316734783709435\" overflow=\"visible\">\n",
       "<path d=\"\" style=\"stroke:none;\"/>\n",
       "</symbol>\n",
       "<symbol id=\"glyph26-1 -2832316734783709435\" overflow=\"visible\">\n",
       "<path d=\"M 37.671875 -37.203125 C 37.390625 -42.0625 36.671875 -45.15625 34.96875 -48.3125 C 31.875 -54.03125 26.90625 -57.203125 20.875 -57.203125 C 9.5 -57.203125 2.4375 -45.84375 2.4375 -27.640625 C 2.4375 -9.5 9.4375 1.78125 20.65625 1.78125 C 30.703125 1.78125 37.34375 -6.328125 37.828125 -19.21875 L 29.765625 -19.21875 C 29.21875 -12.046875 26.015625 -7.953125 20.875 -7.953125 C 14.46875 -7.953125 10.71875 -15.203125 10.71875 -27.484375 C 10.71875 -39.90625 14.640625 -47.3125 21.15625 -47.3125 C 25.953125 -47.3125 28.671875 -44.078125 29.765625 -37.203125 Z M 37.671875 -37.203125 \" style=\"stroke:none;\"/>\n",
       "</symbol>\n",
       "<symbol id=\"glyph27-0 -2832316734783709435\" overflow=\"visible\">\n",
       "<path d=\"\" style=\"stroke:none;\"/>\n",
       "</symbol>\n",
       "<symbol id=\"glyph27-1 -2832316734783709435\" overflow=\"visible\">\n",
       "<path d=\"M 23.359375 -58.09375 L 36.28125 -58.09375 L 36.28125 -70.125 L 0.84375 -70.125 L 0.84375 -58.09375 L 14.265625 -58.09375 L 14.265625 0 L 23.359375 0 Z M 23.359375 -58.09375 \" style=\"stroke:none;\"/>\n",
       "</symbol>\n",
       "</g>\n",
       "</defs>\n",
       "<g id=\"surface1\">\n",
       "<path d=\"M 110.416667 58.089193 L 131.25 58.089193 L 131.25 816.666667 \" style=\"fill:none;stroke-width:2.08333;stroke-linecap:butt;stroke-linejoin:miter;stroke:rgb(0%,0%,0%);stroke-opacity:1;stroke-miterlimit:10;\" transform=\"matrix(0.24,0,0,-0.24,0,202)\"/>\n",
       "<g style=\"fill:rgb(0%,0%,0%);fill-opacity:1;\">\n",
       "  <use x=\"14.880912\" xlink:href=\"#glyph0-1 -2832316734783709435\" y=\"191.021891\"/>\n",
       "  <use x=\"19.328915\" xlink:href=\"#glyph0-2 -2832316734783709435\" y=\"191.021891\"/>\n",
       "  <use x=\"21.552917\" xlink:href=\"#glyph0-1 -2832316734783709435\" y=\"191.021891\"/>\n",
       "</g>\n",
       "<path d=\"M 110.416667 58.089193 L 131.25 58.089193 \" style=\"fill:none;stroke-width:2.08333;stroke-linecap:butt;stroke-linejoin:miter;stroke:rgb(0%,0%,0%);stroke-opacity:1;stroke-miterlimit:10;\" transform=\"matrix(0.24,0,0,-0.24,0,202)\"/>\n",
       "<g style=\"fill:rgb(0%,0%,0%);fill-opacity:1;\">\n",
       "  <use x=\"14.880912\" xlink:href=\"#glyph0-1 -2832316734783709435\" y=\"99.992918\"/>\n",
       "  <use x=\"19.328915\" xlink:href=\"#glyph0-2 -2832316734783709435\" y=\"99.992918\"/>\n",
       "  <use x=\"21.552917\" xlink:href=\"#glyph0-3 -2832316734783709435\" y=\"99.992918\"/>\n",
       "</g>\n",
       "<path d=\"M 110.416667 437.386068 L 131.25 437.386068 \" style=\"fill:none;stroke-width:2.08333;stroke-linecap:butt;stroke-linejoin:miter;stroke:rgb(0%,0%,0%);stroke-opacity:1;stroke-miterlimit:10;\" transform=\"matrix(0.24,0,0,-0.24,0,202)\"/>\n",
       "<g style=\"fill:rgb(0%,0%,0%);fill-opacity:1;\">\n",
       "  <use x=\"14.880912\" xlink:href=\"#glyph0-4 -2832316734783709435\" y=\"8.963846\"/>\n",
       "  <use x=\"19.328915\" xlink:href=\"#glyph0-2 -2832316734783709435\" y=\"8.963846\"/>\n",
       "  <use x=\"21.552917\" xlink:href=\"#glyph0-1 -2832316734783709435\" y=\"8.963846\"/>\n",
       "</g>\n",
       "<path d=\"M 110.416667 816.666667 L 131.25 816.666667 \" style=\"fill:none;stroke-width:2.08333;stroke-linecap:butt;stroke-linejoin:miter;stroke:rgb(0%,0%,0%);stroke-opacity:1;stroke-miterlimit:10;\" transform=\"matrix(0.24,0,0,-0.24,0,202)\"/>\n",
       "<path d=\"M 131.25 58.089193 L 120.833333 58.089193 \" style=\"fill:none;stroke-width:2.08333;stroke-linecap:butt;stroke-linejoin:miter;stroke:rgb(0%,0%,0%);stroke-opacity:1;stroke-miterlimit:10;\" transform=\"matrix(0.24,0,0,-0.24,0,202)\"/>\n",
       "<path d=\"M 131.25 133.951823 L 120.833333 133.951823 \" style=\"fill:none;stroke-width:2.08333;stroke-linecap:butt;stroke-linejoin:miter;stroke:rgb(0%,0%,0%);stroke-opacity:1;stroke-miterlimit:10;\" transform=\"matrix(0.24,0,0,-0.24,0,202)\"/>\n",
       "<path d=\"M 131.25 209.814453 L 120.833333 209.814453 \" style=\"fill:none;stroke-width:2.08333;stroke-linecap:butt;stroke-linejoin:miter;stroke:rgb(0%,0%,0%);stroke-opacity:1;stroke-miterlimit:10;\" transform=\"matrix(0.24,0,0,-0.24,0,202)\"/>\n",
       "<path d=\"M 131.25 285.660807 L 120.833333 285.660807 \" style=\"fill:none;stroke-width:2.08333;stroke-linecap:butt;stroke-linejoin:miter;stroke:rgb(0%,0%,0%);stroke-opacity:1;stroke-miterlimit:10;\" transform=\"matrix(0.24,0,0,-0.24,0,202)\"/>\n",
       "<path d=\"M 131.25 361.523437 L 120.833333 361.523437 \" style=\"fill:none;stroke-width:2.08333;stroke-linecap:butt;stroke-linejoin:miter;stroke:rgb(0%,0%,0%);stroke-opacity:1;stroke-miterlimit:10;\" transform=\"matrix(0.24,0,0,-0.24,0,202)\"/>\n",
       "<path d=\"M 131.25 437.386068 L 120.833333 437.386068 \" style=\"fill:none;stroke-width:2.08333;stroke-linecap:butt;stroke-linejoin:miter;stroke:rgb(0%,0%,0%);stroke-opacity:1;stroke-miterlimit:10;\" transform=\"matrix(0.24,0,0,-0.24,0,202)\"/>\n",
       "<path d=\"M 131.25 513.232422 L 120.833333 513.232422 \" style=\"fill:none;stroke-width:2.08333;stroke-linecap:butt;stroke-linejoin:miter;stroke:rgb(0%,0%,0%);stroke-opacity:1;stroke-miterlimit:10;\" transform=\"matrix(0.24,0,0,-0.24,0,202)\"/>\n",
       "<path d=\"M 131.25 589.095052 L 120.833333 589.095052 \" style=\"fill:none;stroke-width:2.08333;stroke-linecap:butt;stroke-linejoin:miter;stroke:rgb(0%,0%,0%);stroke-opacity:1;stroke-miterlimit:10;\" transform=\"matrix(0.24,0,0,-0.24,0,202)\"/>\n",
       "<path d=\"M 131.25 664.957682 L 120.833333 664.957682 \" style=\"fill:none;stroke-width:2.08333;stroke-linecap:butt;stroke-linejoin:miter;stroke:rgb(0%,0%,0%);stroke-opacity:1;stroke-miterlimit:10;\" transform=\"matrix(0.24,0,0,-0.24,0,202)\"/>\n",
       "<path d=\"M 131.25 740.804036 L 120.833333 740.804036 \" style=\"fill:none;stroke-width:2.08333;stroke-linecap:butt;stroke-linejoin:miter;stroke:rgb(0%,0%,0%);stroke-opacity:1;stroke-miterlimit:10;\" transform=\"matrix(0.24,0,0,-0.24,0,202)\"/>\n",
       "<g style=\"fill:rgb(0%,0%,0%);fill-opacity:1;\">\n",
       "  <use x=\"11.851909\" xlink:href=\"#glyph1-1 -2832316734783709435\" y=\"119.811234\"/>\n",
       "  <use x=\"11.851909\" xlink:href=\"#glyph1-2 -2832316734783709435\" y=\"114.25123\"/>\n",
       "  <use x=\"11.851909\" xlink:href=\"#glyph1-3 -2832316734783709435\" y=\"110.921227\"/>\n",
       "  <use x=\"11.851909\" xlink:href=\"#glyph1-4 -2832316734783709435\" y=\"105.361223\"/>\n",
       "  <use x=\"11.851909\" xlink:href=\"#glyph1-5 -2832316734783709435\" y=\"99.801218\"/>\n",
       "  <use x=\"11.851909\" xlink:href=\"#glyph1-4 -2832316734783709435\" y=\"94.241214\"/>\n",
       "  <use x=\"11.851909\" xlink:href=\"#glyph1-6 -2832316734783709435\" y=\"88.681209\"/>\n",
       "  <use x=\"11.851909\" xlink:href=\"#glyph1-7 -2832316734783709435\" y=\"86.461208\"/>\n",
       "  <use x=\"11.851909\" xlink:href=\"#glyph1-6 -2832316734783709435\" y=\"84.241206\"/>\n",
       "  <use x=\"11.851909\" xlink:href=\"#glyph1-8 -2832316734783709435\" y=\"82.021204\"/>\n",
       "  <use x=\"11.851909\" xlink:href=\"#glyph1-9 -2832316734783709435\" y=\"79.241202\"/>\n",
       "</g>\n",
       "<path d=\"M 133.333333 58.089193 L 285.042318 58.089193 M 209.195964 58.089193 L 209.195964 52.880859 \" style=\"fill:none;stroke-width:2.08333;stroke-linecap:butt;stroke-linejoin:miter;stroke:rgb(0%,0%,0%);stroke-opacity:1;stroke-miterlimit:10;\" transform=\"matrix(0.24,0,0,-0.24,0,202)\"/>\n",
       "<g style=\"fill:rgb(100%,64.646912%,0%);fill-opacity:1;\">\n",
       "  <use x=\"30.280324\" xlink:href=\"#glyph2-1 -2832316734783709435\" y=\"186.510588\"/>\n",
       "</g>\n",
       "<g style=\"fill:rgb(0%,50.193787%,0%);fill-opacity:1;\">\n",
       "  <use x=\"31.142825\" xlink:href=\"#glyph3-1 -2832316734783709435\" y=\"152.25996\"/>\n",
       "</g>\n",
       "<g style=\"fill:rgb(100%,0%,0%);fill-opacity:1;\">\n",
       "  <use x=\"31.649125\" xlink:href=\"#glyph4-1 -2832316734783709435\" y=\"109.532426\"/>\n",
       "</g>\n",
       "<g style=\"fill:rgb(0%,0%,100%);fill-opacity:1;\">\n",
       "  <use x=\"30.074124\" xlink:href=\"#glyph5-1 -2832316734783709435\" y=\"55.967883\"/>\n",
       "</g>\n",
       "<path d=\"M 285.042318 58.089193 L 436.767578 58.089193 M 360.904948 58.089193 L 360.904948 52.880859 \" style=\"fill:none;stroke-width:2.08333;stroke-linecap:butt;stroke-linejoin:miter;stroke:rgb(0%,0%,0%);stroke-opacity:1;stroke-miterlimit:10;\" transform=\"matrix(0.24,0,0,-0.24,0,202)\"/>\n",
       "<g style=\"fill:rgb(100%,0%,0%);fill-opacity:1;\">\n",
       "  <use x=\"68.060654\" xlink:href=\"#glyph6-1 -2832316734783709435\" y=\"187.556888\"/>\n",
       "</g>\n",
       "<g style=\"fill:rgb(100%,64.646912%,0%);fill-opacity:1;\">\n",
       "  <use x=\"66.691953\" xlink:href=\"#glyph7-1 -2832316734783709435\" y=\"150.317459\"/>\n",
       "</g>\n",
       "<g style=\"fill:rgb(0%,50.193787%,0%);fill-opacity:1;\">\n",
       "  <use x=\"67.554454\" xlink:href=\"#glyph8-1 -2832316734783709435\" y=\"87.239908\"/>\n",
       "</g>\n",
       "<path d=\"M 436.767578 58.089193 L 588.476562 58.089193 M 512.613932 58.089193 L 512.613932 52.880859 \" style=\"fill:none;stroke-width:2.08333;stroke-linecap:butt;stroke-linejoin:miter;stroke:rgb(0%,0%,0%);stroke-opacity:1;stroke-miterlimit:10;\" transform=\"matrix(0.24,0,0,-0.24,0,202)\"/>\n",
       "<g style=\"fill:rgb(100%,0%,0%);fill-opacity:1;\">\n",
       "  <use x=\"104.471084\" xlink:href=\"#glyph9-1 -2832316734783709435\" y=\"187.556888\"/>\n",
       "</g>\n",
       "<g style=\"fill:rgb(100%,64.646912%,0%);fill-opacity:1;\">\n",
       "  <use x=\"103.102082\" xlink:href=\"#glyph10-1 -2832316734783709435\" y=\"182.974385\"/>\n",
       "</g>\n",
       "<g style=\"fill:rgb(0%,50.193787%,0%);fill-opacity:1;\">\n",
       "  <use x=\"103.965083\" xlink:href=\"#glyph11-1 -2832316734783709435\" y=\"155.649963\"/>\n",
       "</g>\n",
       "<g style=\"fill:rgb(0%,0%,100%);fill-opacity:1;\">\n",
       "  <use x=\"102.896082\" xlink:href=\"#glyph12-1 -2832316734783709435\" y=\"91.072911\"/>\n",
       "</g>\n",
       "<path d=\"M 588.476562 58.089193 L 740.185547 58.089193 M 664.339193 58.089193 L 664.339193 52.880859 \" style=\"fill:none;stroke-width:2.08333;stroke-linecap:butt;stroke-linejoin:miter;stroke:rgb(0%,0%,0%);stroke-opacity:1;stroke-miterlimit:10;\" transform=\"matrix(0.24,0,0,-0.24,0,202)\"/>\n",
       "<g style=\"fill:rgb(100%,0%,0%);fill-opacity:1;\">\n",
       "  <use x=\"140.883113\" xlink:href=\"#glyph13-1 -2832316734783709435\" y=\"187.556888\"/>\n",
       "</g>\n",
       "<g style=\"fill:rgb(0%,50.193787%,0%);fill-opacity:1;\">\n",
       "  <use x=\"140.377112\" xlink:href=\"#glyph14-1 -2832316734783709435\" y=\"168.788073\"/>\n",
       "</g>\n",
       "<g style=\"fill:rgb(100%,64.646912%,0%);fill-opacity:1;\">\n",
       "  <use x=\"139.514112\" xlink:href=\"#glyph15-1 -2832316734783709435\" y=\"133.268045\"/>\n",
       "</g>\n",
       "<g style=\"fill:rgb(0%,0%,100%);fill-opacity:1;\">\n",
       "  <use x=\"139.308111\" xlink:href=\"#glyph16-1 -2832316734783709435\" y=\"74.690898\"/>\n",
       "</g>\n",
       "<path d=\"M 740.185547 58.089193 L 891.910807 58.089193 M 816.048177 58.089193 L 816.048177 47.672526 \" style=\"fill:none;stroke-width:2.08333;stroke-linecap:butt;stroke-linejoin:miter;stroke:rgb(0%,0%,0%);stroke-opacity:1;stroke-miterlimit:10;\" transform=\"matrix(0.24,0,0,-0.24,0,202)\"/>\n",
       "<g style=\"fill:rgb(0%,0%,0%);fill-opacity:1;\">\n",
       "  <use x=\"193.627155\" xlink:href=\"#glyph0-3 -2832316734783709435\" y=\"198.557497\"/>\n",
       "</g>\n",
       "<g style=\"fill:rgb(100%,0%,0%);fill-opacity:1;\">\n",
       "  <use x=\"177.294142\" xlink:href=\"#glyph17-1 -2832316734783709435\" y=\"187.556888\"/>\n",
       "</g>\n",
       "<g style=\"fill:rgb(0%,0%,100%);fill-opacity:1;\">\n",
       "  <use x=\"175.719141\" xlink:href=\"#glyph18-1 -2832316734783709435\" y=\"169.791174\"/>\n",
       "</g>\n",
       "<g style=\"fill:rgb(0%,50.193787%,0%);fill-opacity:1;\">\n",
       "  <use x=\"176.788141\" xlink:href=\"#glyph19-1 -2832316734783709435\" y=\"135.540547\"/>\n",
       "</g>\n",
       "<g style=\"fill:rgb(100%,64.646912%,0%);fill-opacity:1;\">\n",
       "  <use x=\"175.926141\" xlink:href=\"#glyph20-1 -2832316734783709435\" y=\"77.5889\"/>\n",
       "</g>\n",
       "<path d=\"M 891.910807 58.089193 L 1043.619792 58.089193 M 967.757161 58.089193 L 967.757161 52.880859 \" style=\"fill:none;stroke-width:2.08333;stroke-linecap:butt;stroke-linejoin:miter;stroke:rgb(0%,0%,0%);stroke-opacity:1;stroke-miterlimit:10;\" transform=\"matrix(0.24,0,0,-0.24,0,202)\"/>\n",
       "<g style=\"fill:rgb(0%,50.193787%,0%);fill-opacity:1;\">\n",
       "  <use x=\"213.200171\" xlink:href=\"#glyph21-1 -2832316734783709435\" y=\"187.556888\"/>\n",
       "</g>\n",
       "<g style=\"fill:rgb(100%,0%,0%);fill-opacity:1;\">\n",
       "  <use x=\"213.706171\" xlink:href=\"#glyph22-1 -2832316734783709435\" y=\"155.976263\"/>\n",
       "</g>\n",
       "<g style=\"fill:rgb(0%,0%,100%);fill-opacity:1;\">\n",
       "  <use x=\"212.13117\" xlink:href=\"#glyph23-1 -2832316734783709435\" y=\"108.152425\"/>\n",
       "</g>\n",
       "<g style=\"fill:rgb(100%,64.646912%,0%);fill-opacity:1;\">\n",
       "  <use x=\"212.33717\" xlink:href=\"#glyph24-1 -2832316734783709435\" y=\"61.371887\"/>\n",
       "</g>\n",
       "<path d=\"M 1043.619792 58.089193 L 1195.328776 58.089193 M 1119.482422 58.089193 L 1119.482422 52.880859 \" style=\"fill:none;stroke-width:2.08333;stroke-linecap:butt;stroke-linejoin:miter;stroke:rgb(0%,0%,0%);stroke-opacity:1;stroke-miterlimit:10;\" transform=\"matrix(0.24,0,0,-0.24,0,202)\"/>\n",
       "<g style=\"fill:rgb(100%,64.646912%,0%);fill-opacity:1;\">\n",
       "  <use x=\"248.749199\" xlink:href=\"#glyph25-1 -2832316734783709435\" y=\"187.294388\"/>\n",
       "</g>\n",
       "<g style=\"fill:rgb(0%,50.193787%,0%);fill-opacity:1;\">\n",
       "  <use x=\"249.6112\" xlink:href=\"#glyph3-1 -2832316734783709435\" y=\"178.268081\"/>\n",
       "</g>\n",
       "<g style=\"fill:rgb(0%,0%,100%);fill-opacity:1;\">\n",
       "  <use x=\"248.542199\" xlink:href=\"#glyph26-1 -2832316734783709435\" y=\"133.766845\"/>\n",
       "</g>\n",
       "<g style=\"fill:rgb(100%,0%,0%);fill-opacity:1;\">\n",
       "  <use x=\"250.1172\" xlink:href=\"#glyph27-1 -2832316734783709435\" y=\"76.093899\"/>\n",
       "</g>\n",
       "</g>\n",
       "</svg>"
      ],
      "text/plain": [
       "<IPython.core.display.SVG object>"
      ]
     },
     "execution_count": 59,
     "metadata": {},
     "output_type": "execute_result"
    }
   ],
   "source": [
    "ppm = seqlogo.Ppm(p[[0,2,1,3],:])\n",
    "seqlogo.seqlogo(ppm, ic_scale = False, format = 'svg', size = 'small')"
   ]
  },
  {
   "cell_type": "markdown",
   "metadata": {
    "heading_collapsed": true
   },
   "source": [
    "### sintetic motif"
   ]
  },
  {
   "cell_type": "code",
   "execution_count": null,
   "metadata": {
    "hidden": true
   },
   "outputs": [],
   "source": [
    "# https://distill.pub/2017/feature-visualization/"
   ]
  },
  {
   "cell_type": "code",
   "execution_count": 179,
   "metadata": {
    "hidden": true
   },
   "outputs": [
    {
     "data": {
      "text/plain": [
       "tensor([[[0.9574, 0.5913, 0.8258,  ..., 0.6248, 0.6024, 0.1421],\n",
       "         [0.4424, 0.6179, 0.1395,  ..., 0.7997, 0.2130, 0.0871],\n",
       "         [0.4894, 0.6662, 0.0806,  ..., 0.0585, 0.2206, 0.6247],\n",
       "         [0.8293, 0.5889, 0.2734,  ..., 0.1713, 0.9539, 0.8046]]],\n",
       "       requires_grad=True)"
      ]
     },
     "execution_count": 179,
     "metadata": {},
     "output_type": "execute_result"
    }
   ],
   "source": [
    "rand_input = torch.rand(1,4,1000,requires_grad=True)\n",
    "rand_input"
   ]
  },
  {
   "cell_type": "code",
   "execution_count": 180,
   "metadata": {
    "hidden": true
   },
   "outputs": [],
   "source": [
    "opt = torch.optim.Adam([rand_input])"
   ]
  },
  {
   "cell_type": "code",
   "execution_count": 183,
   "metadata": {
    "hidden": true
   },
   "outputs": [],
   "source": [
    "for i in range(10):\n",
    "    y_hat = model(rand_input)\n",
    "    y_hat[0][0,888].backward()\n",
    "    opt.step()\n",
    "    model.zero_grad()\n",
    "    rand_input.grad.zero_()"
   ]
  },
  {
   "cell_type": "code",
   "execution_count": 184,
   "metadata": {
    "hidden": true
   },
   "outputs": [
    {
     "data": {
      "text/plain": [
       "tensor([[[0.9467, 0.5803, 0.8274,  ..., 0.6255, 0.5916, 0.1426],\n",
       "         [0.4315, 0.6288, 0.1505,  ..., 0.7973, 0.2036, 0.0963],\n",
       "         [0.4990, 0.6771, 0.0698,  ..., 0.0630, 0.2101, 0.6348],\n",
       "         [0.8186, 0.5993, 0.2626,  ..., 0.1606, 0.9649, 0.7968]]],\n",
       "       requires_grad=True)"
      ]
     },
     "execution_count": 184,
     "metadata": {},
     "output_type": "execute_result"
    }
   ],
   "source": [
    "rand_input"
   ]
  },
  {
   "cell_type": "code",
   "execution_count": null,
   "metadata": {
    "hidden": true
   },
   "outputs": [],
   "source": []
  },
  {
   "cell_type": "markdown",
   "metadata": {
    "heading_collapsed": true
   },
   "source": [
    "### high layer motifs WIP"
   ]
  },
  {
   "cell_type": "code",
   "execution_count": 113,
   "metadata": {
    "hidden": true
   },
   "outputs": [],
   "source": [
    "#avg motif:\n",
    "ms = 7 #take every input of size kernel size\n",
    "pad = torch.tensor([-1]*(ms//2))\n",
    "pad_sample = torch.cat((pad,sample,pad))\n",
    "\n",
    "positions = torch.zeros(seq_len,ms).fill_(-1) # -1 for padding\n",
    "for i in range(seq_len):\n",
    "    positions[i] = pad_sample[i:i+ms]"
   ]
  },
  {
   "cell_type": "code",
   "execution_count": 114,
   "metadata": {
    "hidden": true
   },
   "outputs": [
    {
     "data": {
      "text/plain": [
       "tensor([[-1., -1., -1.,  ...,  2.,  3.,  2.],\n",
       "        [-1., -1.,  3.,  ...,  3.,  2.,  3.],\n",
       "        [-1.,  3.,  2.,  ...,  2.,  3.,  2.],\n",
       "        ...,\n",
       "        [-1., -1., -1.,  ..., -1., -1., -1.],\n",
       "        [-1., -1., -1.,  ..., -1., -1., -1.],\n",
       "        [-1., -1., -1.,  ..., -1., -1., -1.]])"
      ]
     },
     "execution_count": 114,
     "metadata": {},
     "output_type": "execute_result"
    }
   ],
   "source": [
    "positions"
   ]
  },
  {
   "cell_type": "code",
   "execution_count": 25,
   "metadata": {
    "hidden": true
   },
   "outputs": [],
   "source": [
    "def plot_PWM(acts):\n",
    "    # count bases for each postion of ks and weight with grad cam\n",
    "    pos_weight_counts = np.zeros((5,ks))\n",
    "    for c in range(ks):\n",
    "        for n in range(-1,4):\n",
    "            weight_counts = acts[positions[:,c]==n].sum()\n",
    "            pos_weight_counts[n+1,c] = weight_counts\n",
    "            \n",
    "    # PWM graph\n",
    "#     fig,ax = plt.subplots()\n",
    "#     ax.matshow(pos_weight_counts)\n",
    "#     ax.set_yticklabels(['']+['PAD','A','G','C','T'])\n",
    "#     plt.show()\n",
    "    p = (pos_weight_counts[1:]/pos_weight_counts[1:].sum(0))\n",
    "    ppm = seqlogo.Ppm(p)\n",
    "    return seqlogo.seqlogo(ppm, ic_scale = False, format = 'svg', size = 'small')"
   ]
  },
  {
   "cell_type": "code",
   "execution_count": 26,
   "metadata": {
    "hidden": true,
    "scrolled": true
   },
   "outputs": [
    {
     "data": {
      "image/svg+xml": [
       "<svg height=\"202pt\" version=\"1.1\" viewBox=\"0 0 292 202\" width=\"292pt\" xmlns=\"http://www.w3.org/2000/svg\" xmlns:xlink=\"http://www.w3.org/1999/xlink\">\n",
       "<defs>\n",
       "<g>\n",
       "<symbol id=\"glyph0-0 2626163840685346296\" overflow=\"visible\">\n",
       "<path d=\"\" style=\"stroke:none;\"/>\n",
       "</symbol>\n",
       "<symbol id=\"glyph0-1 2626163840685346296\" overflow=\"visible\">\n",
       "<path d=\"M 2.203125 -5.78125 C 1.671875 -5.78125 1.1875 -5.546875 0.890625 -5.15625 C 0.53125 -4.640625 0.34375 -3.875 0.34375 -2.796875 C 0.34375 -0.84375 0.984375 0.1875 2.203125 0.1875 C 3.40625 0.1875 4.0625 -0.84375 4.0625 -2.75 C 4.0625 -3.875 3.875 -4.625 3.5 -5.15625 C 3.203125 -5.546875 2.734375 -5.78125 2.203125 -5.78125 Z M 2.203125 -5.15625 C 2.953125 -5.15625 3.34375 -4.390625 3.34375 -2.8125 C 3.34375 -1.171875 2.96875 -0.40625 2.1875 -0.40625 C 1.4375 -0.40625 1.0625 -1.203125 1.0625 -2.796875 C 1.0625 -4.390625 1.4375 -5.15625 2.203125 -5.15625 Z M 2.203125 -5.15625 \" style=\"stroke:none;\"/>\n",
       "</symbol>\n",
       "<symbol id=\"glyph0-2 2626163840685346296\" overflow=\"visible\">\n",
       "<path d=\"M 1.53125 -0.828125 L 0.703125 -0.828125 L 0.703125 0 L 1.53125 0 Z M 1.53125 -0.828125 \" style=\"stroke:none;\"/>\n",
       "</symbol>\n",
       "<symbol id=\"glyph0-3 2626163840685346296\" overflow=\"visible\">\n",
       "<path d=\"M 3.8125 -5.671875 L 0.875 -5.671875 L 0.453125 -2.578125 L 1.109375 -2.578125 C 1.4375 -2.96875 1.703125 -3.109375 2.15625 -3.109375 C 2.90625 -3.109375 3.390625 -2.59375 3.390625 -1.75 C 3.390625 -0.9375 2.90625 -0.4375 2.140625 -0.4375 C 1.53125 -0.4375 1.15625 -0.75 0.984375 -1.390625 L 0.28125 -1.390625 C 0.375 -0.921875 0.453125 -0.703125 0.625 -0.5 C 0.9375 -0.0625 1.515625 0.1875 2.15625 0.1875 C 3.296875 0.1875 4.109375 -0.640625 4.109375 -1.84375 C 4.109375 -2.96875 3.359375 -3.734375 2.265625 -3.734375 C 1.875 -3.734375 1.546875 -3.625 1.21875 -3.390625 L 1.453125 -4.96875 L 3.8125 -4.96875 Z M 3.8125 -5.671875 \" style=\"stroke:none;\"/>\n",
       "</symbol>\n",
       "<symbol id=\"glyph0-4 2626163840685346296\" overflow=\"visible\">\n",
       "<path d=\"M 2.078125 -4.125 L 2.078125 0 L 2.78125 0 L 2.78125 -5.78125 L 2.3125 -5.78125 C 2.0625 -4.890625 1.90625 -4.78125 0.8125 -4.625 L 0.8125 -4.125 Z M 2.078125 -4.125 \" style=\"stroke:none;\"/>\n",
       "</symbol>\n",
       "<symbol id=\"glyph1-0 2626163840685346296\" overflow=\"visible\">\n",
       "<path d=\"\" style=\"stroke:none;\"/>\n",
       "</symbol>\n",
       "<symbol id=\"glyph1-1 2626163840685346296\" overflow=\"visible\">\n",
       "<path d=\"M 2.1875 -0.546875 L 2.1875 -1.375 L -0.546875 -1.375 C -0.015625 -1.8125 0.234375 -2.3125 0.234375 -2.984375 C 0.234375 -4.34375 -0.859375 -5.234375 -2.53125 -5.234375 C -4.296875 -5.234375 -5.390625 -4.375 -5.390625 -2.984375 C -5.390625 -2.265625 -5.0625 -1.703125 -4.453125 -1.3125 L -5.234375 -1.3125 L -5.234375 -0.546875 Z M -4.609375 -2.84375 C -4.609375 -3.765625 -3.796875 -4.359375 -2.546875 -4.359375 C -1.359375 -4.359375 -0.546875 -3.75 -0.546875 -2.84375 C -0.546875 -1.953125 -1.34375 -1.375 -2.578125 -1.375 C -3.8125 -1.375 -4.609375 -1.953125 -4.609375 -2.84375 Z M -4.609375 -2.84375 \" style=\"stroke:none;\"/>\n",
       "</symbol>\n",
       "<symbol id=\"glyph1-2 2626163840685346296\" overflow=\"visible\">\n",
       "<path d=\"M -5.234375 -0.6875 L 0 -0.6875 L 0 -1.53125 L -2.71875 -1.53125 C -3.984375 -1.546875 -4.546875 -2.0625 -4.515625 -3.203125 L -5.359375 -3.203125 C -5.375 -3.0625 -5.390625 -2.984375 -5.390625 -2.890625 C -5.390625 -2.34375 -5.0625 -1.9375 -4.296875 -1.453125 L -5.234375 -1.453125 Z M -5.234375 -0.6875 \" style=\"stroke:none;\"/>\n",
       "</symbol>\n",
       "<symbol id=\"glyph1-3 2626163840685346296\" overflow=\"visible\">\n",
       "<path d=\"M -5.390625 -2.71875 C -5.390625 -1.234375 -4.34375 -0.359375 -2.578125 -0.359375 C -0.8125 -0.359375 0.234375 -1.234375 0.234375 -2.734375 C 0.234375 -4.203125 -0.8125 -5.09375 -2.546875 -5.09375 C -4.359375 -5.09375 -5.390625 -4.234375 -5.390625 -2.71875 Z M -4.625 -2.734375 C -4.625 -3.671875 -3.84375 -4.234375 -2.546875 -4.234375 C -1.3125 -4.234375 -0.546875 -3.65625 -0.546875 -2.734375 C -0.546875 -1.796875 -1.3125 -1.234375 -2.578125 -1.234375 C -3.84375 -1.234375 -4.625 -1.796875 -4.625 -2.734375 Z M -4.625 -2.734375 \" style=\"stroke:none;\"/>\n",
       "</symbol>\n",
       "<symbol id=\"glyph1-4 2626163840685346296\" overflow=\"visible\">\n",
       "<path d=\"M -7.296875 -0.546875 L 0 -0.546875 L 0 -1.296875 L -0.671875 -1.296875 C -0.0625 -1.6875 0.234375 -2.21875 0.234375 -2.953125 C 0.234375 -4.328125 -0.90625 -5.234375 -2.640625 -5.234375 C -4.34375 -5.234375 -5.390625 -4.375 -5.390625 -2.984375 C -5.390625 -2.265625 -5.125 -1.765625 -4.53125 -1.375 L -7.296875 -1.375 Z M -4.609375 -2.828125 C -4.609375 -3.765625 -3.796875 -4.359375 -2.546875 -4.359375 C -1.359375 -4.359375 -0.546875 -3.734375 -0.546875 -2.828125 C -0.546875 -1.9375 -1.34375 -1.375 -2.578125 -1.375 C -3.8125 -1.375 -4.609375 -1.9375 -4.609375 -2.828125 Z M -4.609375 -2.828125 \" style=\"stroke:none;\"/>\n",
       "</symbol>\n",
       "<symbol id=\"glyph1-5 2626163840685346296\" overflow=\"visible\">\n",
       "<path d=\"M -0.484375 -5.34375 C -0.46875 -5.265625 -0.46875 -5.21875 -0.46875 -5.171875 C -0.46875 -4.875 -0.625 -4.71875 -0.875 -4.71875 L -3.953125 -4.71875 C -4.890625 -4.71875 -5.390625 -4.046875 -5.390625 -2.75 C -5.390625 -1.984375 -5.171875 -1.375 -4.78125 -1.015625 C -4.515625 -0.765625 -4.203125 -0.671875 -3.6875 -0.65625 L -3.6875 -1.484375 C -4.328125 -1.5625 -4.625 -1.9375 -4.625 -2.71875 C -4.625 -3.484375 -4.34375 -3.890625 -3.84375 -3.890625 L -3.625 -3.890625 C -3.265625 -3.875 -3.125 -3.703125 -3.046875 -3.015625 C -2.890625 -1.84375 -2.84375 -1.65625 -2.71875 -1.34375 C -2.453125 -0.734375 -2 -0.421875 -1.3125 -0.421875 C -0.375 -0.421875 0.234375 -1.078125 0.234375 -2.140625 C 0.234375 -2.796875 0 -3.328125 -0.546875 -3.921875 C 0 -3.984375 0.234375 -4.234375 0.234375 -4.78125 C 0.234375 -4.953125 0.203125 -5.0625 0.140625 -5.34375 Z M -1.65625 -3.890625 C -1.375 -3.890625 -1.203125 -3.8125 -0.96875 -3.5625 C -0.65625 -3.21875 -0.5 -2.8125 -0.5 -2.3125 C -0.5 -1.671875 -0.8125 -1.296875 -1.34375 -1.296875 C -1.890625 -1.296875 -2.171875 -1.65625 -2.296875 -2.546875 C -2.421875 -3.4375 -2.453125 -3.609375 -2.59375 -3.890625 Z M -1.65625 -3.890625 \" style=\"stroke:none;\"/>\n",
       "</symbol>\n",
       "<symbol id=\"glyph1-6 2626163840685346296\" overflow=\"visible\">\n",
       "<path d=\"M -5.234375 -1.5 L -5.234375 -0.671875 L 0 -0.671875 L 0 -1.5 Z M -7.296875 -1.5 L -7.296875 -0.65625 L -6.234375 -0.65625 L -6.234375 -1.5 Z M -7.296875 -1.5 \" style=\"stroke:none;\"/>\n",
       "</symbol>\n",
       "<symbol id=\"glyph1-7 2626163840685346296\" overflow=\"visible\">\n",
       "<path d=\"M -7.296875 -1.515625 L -7.296875 -0.6875 L 0 -0.6875 L 0 -1.515625 Z M -7.296875 -1.515625 \" style=\"stroke:none;\"/>\n",
       "</symbol>\n",
       "<symbol id=\"glyph1-8 2626163840685346296\" overflow=\"visible\">\n",
       "<path d=\"M -5.234375 -2.546875 L -5.234375 -1.6875 L -6.6875 -1.6875 L -6.6875 -0.84375 L -5.234375 -0.84375 L -5.234375 -0.140625 L -4.5625 -0.140625 L -4.5625 -0.84375 L -0.59375 -0.84375 C -0.0625 -0.84375 0.234375 -1.203125 0.234375 -1.859375 C 0.234375 -2.078125 0.203125 -2.265625 0.15625 -2.546875 L -0.546875 -2.546875 C -0.515625 -2.421875 -0.5 -2.3125 -0.5 -2.140625 C -0.5 -1.78125 -0.59375 -1.6875 -0.96875 -1.6875 L -4.5625 -1.6875 L -4.5625 -2.546875 Z M -5.234375 -2.546875 \" style=\"stroke:none;\"/>\n",
       "</symbol>\n",
       "<symbol id=\"glyph1-9 2626163840685346296\" overflow=\"visible\">\n",
       "<path d=\"M -5.234375 -3.875 L -1.15625 -2.4375 L -5.234375 -1.09375 L -5.234375 -0.203125 L 0.015625 -1.96875 L 0.84375 -1.65625 C 1.21875 -1.515625 1.359375 -1.328125 1.359375 -0.984375 C 1.359375 -0.84375 1.34375 -0.71875 1.296875 -0.546875 L 2.046875 -0.546875 C 2.140625 -0.703125 2.1875 -0.875 2.1875 -1.09375 C 2.1875 -1.375 2.09375 -1.65625 1.9375 -1.875 C 1.734375 -2.140625 1.515625 -2.296875 1.09375 -2.453125 L -5.234375 -4.78125 Z M -5.234375 -3.875 \" style=\"stroke:none;\"/>\n",
       "</symbol>\n",
       "<symbol id=\"glyph2-0 2626163840685346296\" overflow=\"visible\">\n",
       "<path d=\"\" style=\"stroke:none;\"/>\n",
       "</symbol>\n",
       "<symbol id=\"glyph2-1 2626163840685346296\" overflow=\"visible\">\n",
       "<path d=\"M 26.1875 -4.015625 L 28.703125 0 L 36.75 0 L 23.578125 -19.90625 L 14.90625 -19.90625 L 1.359375 0 L 9.359375 0 L 11.921875 -4.015625 Z M 24.046875 -7.421875 L 14.109375 -7.421875 L 19.078125 -15.203125 Z M 24.046875 -7.421875 \" style=\"stroke:none;\"/>\n",
       "</symbol>\n",
       "<symbol id=\"glyph3-0 2626163840685346296\" overflow=\"visible\">\n",
       "<path d=\"\" style=\"stroke:none;\"/>\n",
       "</symbol>\n",
       "<symbol id=\"glyph3-1 2626163840685346296\" overflow=\"visible\">\n",
       "<path d=\"M 23.359375 -24.203125 L 36.28125 -24.203125 L 36.28125 -29.21875 L 0.84375 -29.21875 L 0.84375 -24.203125 L 14.265625 -24.203125 L 14.265625 0 L 23.359375 0 Z M 23.359375 -24.203125 \" style=\"stroke:none;\"/>\n",
       "</symbol>\n",
       "<symbol id=\"glyph4-0 2626163840685346296\" overflow=\"visible\">\n",
       "<path d=\"\" style=\"stroke:none;\"/>\n",
       "</symbol>\n",
       "<symbol id=\"glyph4-1 2626163840685346296\" overflow=\"visible\">\n",
       "<path d=\"M 37.671875 -24.328125 C 37.390625 -27.515625 36.671875 -29.53125 34.96875 -31.609375 C 31.875 -35.34375 26.90625 -37.40625 20.875 -37.40625 C 9.5 -37.40625 2.4375 -29.984375 2.4375 -18.078125 C 2.4375 -6.203125 9.4375 1.15625 20.65625 1.15625 C 30.703125 1.15625 37.34375 -4.140625 37.828125 -12.578125 L 29.765625 -12.578125 C 29.21875 -7.875 26.015625 -5.203125 20.875 -5.203125 C 14.46875 -5.203125 10.71875 -9.953125 10.71875 -17.96875 C 10.71875 -26.09375 14.640625 -30.953125 21.15625 -30.953125 C 25.953125 -30.953125 28.671875 -28.828125 29.765625 -24.328125 Z M 37.671875 -24.328125 \" style=\"stroke:none;\"/>\n",
       "</symbol>\n",
       "<symbol id=\"glyph5-0 2626163840685346296\" overflow=\"visible\">\n",
       "<path d=\"\" style=\"stroke:none;\"/>\n",
       "</symbol>\n",
       "<symbol id=\"glyph5-1 2626163840685346296\" overflow=\"visible\">\n",
       "<path d=\"M 37.609375 -47.421875 L 22.171875 -47.421875 L 22.171875 -32.296875 L 30.953125 -32.296875 C 30.734375 -27.34375 30.203125 -24.3125 29.046875 -21.171875 C 27.140625 -15.84375 24.171875 -12.703125 21.15625 -12.703125 C 14.703125 -12.703125 10.15625 -25.53125 10.15625 -43.671875 C 10.15625 -62.65625 14.171875 -74.15625 20.953125 -74.15625 C 23.703125 -74.15625 26.03125 -72.34375 27.78125 -68.828125 C 28.890625 -66.65625 29.46875 -64.59375 30.15625 -60 L 37.609375 -60 C 36.65625 -78.265625 30.203125 -89.640625 20.890625 -89.640625 C 9.78125 -89.640625 2.21875 -70.890625 2.21875 -43.421875 C 2.21875 -16.6875 9.84375 2.78125 20.265625 2.78125 C 25.453125 2.78125 28.9375 -1.453125 31.90625 -11.375 L 32.859375 0.234375 L 37.609375 0.234375 Z M 37.609375 -47.421875 \" style=\"stroke:none;\"/>\n",
       "</symbol>\n",
       "<symbol id=\"glyph6-0 2626163840685346296\" overflow=\"visible\">\n",
       "<path d=\"\" style=\"stroke:none;\"/>\n",
       "</symbol>\n",
       "<symbol id=\"glyph6-1 2626163840685346296\" overflow=\"visible\">\n",
       "<path d=\"M 26.1875 -3.640625 L 28.703125 0 L 36.75 0 L 23.578125 -18.078125 L 14.90625 -18.078125 L 1.359375 0 L 9.359375 0 L 11.921875 -3.640625 Z M 24.046875 -6.75 L 14.109375 -6.75 L 19.078125 -13.8125 Z M 24.046875 -6.75 \" style=\"stroke:none;\"/>\n",
       "</symbol>\n",
       "<symbol id=\"glyph7-0 2626163840685346296\" overflow=\"visible\">\n",
       "<path d=\"\" style=\"stroke:none;\"/>\n",
       "</symbol>\n",
       "<symbol id=\"glyph7-1 2626163840685346296\" overflow=\"visible\">\n",
       "<path d=\"M 23.359375 -27.3125 L 36.28125 -27.3125 L 36.28125 -32.96875 L 0.84375 -32.96875 L 0.84375 -27.3125 L 14.265625 -27.3125 L 14.265625 0 L 23.359375 0 Z M 23.359375 -27.3125 \" style=\"stroke:none;\"/>\n",
       "</symbol>\n",
       "<symbol id=\"glyph8-0 2626163840685346296\" overflow=\"visible\">\n",
       "<path d=\"\" style=\"stroke:none;\"/>\n",
       "</symbol>\n",
       "<symbol id=\"glyph8-1 2626163840685346296\" overflow=\"visible\">\n",
       "<path d=\"M 37.671875 -25.5 C 37.390625 -28.828125 36.671875 -30.9375 34.96875 -33.109375 C 31.875 -37.015625 26.90625 -39.1875 20.875 -39.1875 C 9.5 -39.1875 2.4375 -31.421875 2.4375 -18.9375 C 2.4375 -6.5 9.4375 1.21875 20.65625 1.21875 C 30.703125 1.21875 37.34375 -4.34375 37.828125 -13.171875 L 29.765625 -13.171875 C 29.21875 -8.25 26.015625 -5.453125 20.875 -5.453125 C 14.46875 -5.453125 10.71875 -10.421875 10.71875 -18.828125 C 10.71875 -27.34375 14.640625 -32.421875 21.15625 -32.421875 C 25.953125 -32.421875 28.671875 -30.203125 29.765625 -25.5 Z M 37.671875 -25.5 \" style=\"stroke:none;\"/>\n",
       "</symbol>\n",
       "<symbol id=\"glyph9-0 2626163840685346296\" overflow=\"visible\">\n",
       "<path d=\"\" style=\"stroke:none;\"/>\n",
       "</symbol>\n",
       "<symbol id=\"glyph9-1 2626163840685346296\" overflow=\"visible\">\n",
       "<path d=\"M 37.609375 -45.53125 L 22.171875 -45.53125 L 22.171875 -31.015625 L 30.953125 -31.015625 C 30.734375 -26.25 30.203125 -23.34375 29.046875 -20.328125 C 27.140625 -15.21875 24.171875 -12.1875 21.15625 -12.1875 C 14.703125 -12.1875 10.15625 -24.5 10.15625 -41.921875 C 10.15625 -60.15625 14.171875 -71.1875 20.953125 -71.1875 C 23.703125 -71.1875 26.03125 -69.453125 27.78125 -66.078125 C 28.890625 -64 29.46875 -62.015625 30.15625 -57.609375 L 37.609375 -57.609375 C 36.65625 -75.140625 30.203125 -86.0625 20.890625 -86.0625 C 9.78125 -86.0625 2.21875 -68.0625 2.21875 -41.6875 C 2.21875 -16.03125 9.84375 2.671875 20.265625 2.671875 C 25.453125 2.671875 28.9375 -1.390625 31.90625 -10.921875 L 32.859375 0.234375 L 37.609375 0.234375 Z M 37.609375 -45.53125 \" style=\"stroke:none;\"/>\n",
       "</symbol>\n",
       "<symbol id=\"glyph10-0 2626163840685346296\" overflow=\"visible\">\n",
       "<path d=\"\" style=\"stroke:none;\"/>\n",
       "</symbol>\n",
       "<symbol id=\"glyph10-1 2626163840685346296\" overflow=\"visible\">\n",
       "<path d=\"M 26.1875 -3.671875 L 28.703125 0 L 36.75 0 L 23.578125 -18.234375 L 14.90625 -18.234375 L 1.359375 0 L 9.359375 0 L 11.921875 -3.671875 Z M 24.046875 -6.796875 L 14.109375 -6.796875 L 19.078125 -13.9375 Z M 24.046875 -6.796875 \" style=\"stroke:none;\"/>\n",
       "</symbol>\n",
       "<symbol id=\"glyph11-0 2626163840685346296\" overflow=\"visible\">\n",
       "<path d=\"\" style=\"stroke:none;\"/>\n",
       "</symbol>\n",
       "<symbol id=\"glyph11-1 2626163840685346296\" overflow=\"visible\">\n",
       "<path d=\"M 23.359375 -22.90625 L 36.28125 -22.90625 L 36.28125 -27.640625 L 0.84375 -27.640625 L 0.84375 -22.90625 L 14.265625 -22.90625 L 14.265625 0 L 23.359375 0 Z M 23.359375 -22.90625 \" style=\"stroke:none;\"/>\n",
       "</symbol>\n",
       "<symbol id=\"glyph12-0 2626163840685346296\" overflow=\"visible\">\n",
       "<path d=\"\" style=\"stroke:none;\"/>\n",
       "</symbol>\n",
       "<symbol id=\"glyph12-1 2626163840685346296\" overflow=\"visible\">\n",
       "<path d=\"M 37.671875 -28.109375 C 37.390625 -31.78125 36.671875 -34.109375 34.96875 -36.5 C 31.875 -40.8125 26.90625 -43.203125 20.875 -43.203125 C 9.5 -43.203125 2.4375 -34.640625 2.4375 -20.875 C 2.4375 -7.171875 9.4375 1.34375 20.65625 1.34375 C 30.703125 1.34375 37.34375 -4.78125 37.828125 -14.515625 L 29.765625 -14.515625 C 29.21875 -9.09375 26.015625 -6 20.875 -6 C 14.46875 -6 10.71875 -11.484375 10.71875 -20.765625 C 10.71875 -30.140625 14.640625 -35.75 21.15625 -35.75 C 25.953125 -35.75 28.671875 -33.296875 29.765625 -28.109375 Z M 37.671875 -28.109375 \" style=\"stroke:none;\"/>\n",
       "</symbol>\n",
       "<symbol id=\"glyph13-0 2626163840685346296\" overflow=\"visible\">\n",
       "<path d=\"\" style=\"stroke:none;\"/>\n",
       "</symbol>\n",
       "<symbol id=\"glyph13-1 2626163840685346296\" overflow=\"visible\">\n",
       "<path d=\"M 37.609375 -46 L 22.171875 -46 L 22.171875 -31.328125 L 30.953125 -31.328125 C 30.734375 -26.515625 30.203125 -23.578125 29.046875 -20.53125 C 27.140625 -15.375 24.171875 -12.3125 21.15625 -12.3125 C 14.703125 -12.3125 10.15625 -24.75 10.15625 -42.359375 C 10.15625 -60.78125 14.171875 -71.921875 20.953125 -71.921875 C 23.703125 -71.921875 26.03125 -70.15625 27.78125 -66.765625 C 28.890625 -64.640625 29.46875 -62.65625 30.15625 -58.1875 L 37.609375 -58.1875 C 36.65625 -75.90625 30.203125 -86.9375 20.890625 -86.9375 C 9.78125 -86.9375 2.21875 -68.75 2.21875 -42.125 C 2.21875 -16.1875 9.84375 2.703125 20.265625 2.703125 C 25.453125 2.703125 28.9375 -1.40625 31.90625 -11.03125 L 32.859375 0.234375 L 37.609375 0.234375 Z M 37.609375 -46 \" style=\"stroke:none;\"/>\n",
       "</symbol>\n",
       "<symbol id=\"glyph14-0 2626163840685346296\" overflow=\"visible\">\n",
       "<path d=\"\" style=\"stroke:none;\"/>\n",
       "</symbol>\n",
       "<symbol id=\"glyph14-1 2626163840685346296\" overflow=\"visible\">\n",
       "<path d=\"M 26.1875 -3.28125 L 28.703125 0 L 36.75 0 L 23.578125 -16.265625 L 14.90625 -16.265625 L 1.359375 0 L 9.359375 0 L 11.921875 -3.28125 Z M 24.046875 -6.0625 L 14.109375 -6.0625 L 19.078125 -12.421875 Z M 24.046875 -6.0625 \" style=\"stroke:none;\"/>\n",
       "</symbol>\n",
       "<symbol id=\"glyph15-0 2626163840685346296\" overflow=\"visible\">\n",
       "<path d=\"\" style=\"stroke:none;\"/>\n",
       "</symbol>\n",
       "<symbol id=\"glyph15-1 2626163840685346296\" overflow=\"visible\">\n",
       "<path d=\"M 23.359375 -22.703125 L 36.28125 -22.703125 L 36.28125 -27.390625 L 0.84375 -27.390625 L 0.84375 -22.703125 L 14.265625 -22.703125 L 14.265625 0 L 23.359375 0 Z M 23.359375 -22.703125 \" style=\"stroke:none;\"/>\n",
       "</symbol>\n",
       "<symbol id=\"glyph16-0 2626163840685346296\" overflow=\"visible\">\n",
       "<path d=\"\" style=\"stroke:none;\"/>\n",
       "</symbol>\n",
       "<symbol id=\"glyph16-1 2626163840685346296\" overflow=\"visible\">\n",
       "<path d=\"M 37.671875 -27.828125 C 37.390625 -31.453125 36.671875 -33.765625 34.96875 -36.125 C 31.875 -40.40625 26.90625 -42.765625 20.875 -42.765625 C 9.5 -42.765625 2.4375 -34.28125 2.4375 -20.65625 C 2.4375 -7.09375 9.4375 1.328125 20.65625 1.328125 C 30.703125 1.328125 37.34375 -4.734375 37.828125 -14.375 L 29.765625 -14.375 C 29.21875 -9 26.015625 -5.9375 20.875 -5.9375 C 14.46875 -5.9375 10.71875 -11.375 10.71875 -20.546875 C 10.71875 -29.84375 14.640625 -35.375 21.15625 -35.375 C 25.953125 -35.375 28.671875 -32.953125 29.765625 -27.828125 Z M 37.671875 -27.828125 \" style=\"stroke:none;\"/>\n",
       "</symbol>\n",
       "<symbol id=\"glyph17-0 2626163840685346296\" overflow=\"visible\">\n",
       "<path d=\"\" style=\"stroke:none;\"/>\n",
       "</symbol>\n",
       "<symbol id=\"glyph17-1 2626163840685346296\" overflow=\"visible\">\n",
       "<path d=\"M 23.359375 -19.59375 L 36.28125 -19.59375 L 36.28125 -23.640625 L 0.84375 -23.640625 L 0.84375 -19.59375 L 14.265625 -19.59375 L 14.265625 0 L 23.359375 0 Z M 23.359375 -19.59375 \" style=\"stroke:none;\"/>\n",
       "</symbol>\n",
       "<symbol id=\"glyph18-0 2626163840685346296\" overflow=\"visible\">\n",
       "<path d=\"\" style=\"stroke:none;\"/>\n",
       "</symbol>\n",
       "<symbol id=\"glyph18-1 2626163840685346296\" overflow=\"visible\">\n",
       "<path d=\"M 37.671875 -26.65625 C 37.390625 -30.140625 36.671875 -32.359375 34.96875 -34.625 C 31.875 -38.71875 26.90625 -40.984375 20.875 -40.984375 C 9.5 -40.984375 2.4375 -32.859375 2.4375 -19.796875 C 2.4375 -6.796875 9.4375 1.265625 20.65625 1.265625 C 30.703125 1.265625 37.34375 -4.53125 37.828125 -13.765625 L 29.765625 -13.765625 C 29.21875 -8.625 26.015625 -5.703125 20.875 -5.703125 C 14.46875 -5.703125 10.71875 -10.890625 10.71875 -19.6875 C 10.71875 -28.59375 14.640625 -33.90625 21.15625 -33.90625 C 25.953125 -33.90625 28.671875 -31.578125 29.765625 -26.65625 Z M 37.671875 -26.65625 \" style=\"stroke:none;\"/>\n",
       "</symbol>\n",
       "<symbol id=\"glyph19-0 2626163840685346296\" overflow=\"visible\">\n",
       "<path d=\"\" style=\"stroke:none;\"/>\n",
       "</symbol>\n",
       "<symbol id=\"glyph19-1 2626163840685346296\" overflow=\"visible\">\n",
       "<path d=\"M 37.609375 -49.3125 L 22.171875 -49.3125 L 22.171875 -33.59375 L 30.953125 -33.59375 C 30.734375 -28.4375 30.203125 -25.28125 29.046875 -22.015625 C 27.140625 -16.484375 24.171875 -13.203125 21.15625 -13.203125 C 14.703125 -13.203125 10.15625 -26.546875 10.15625 -45.40625 C 10.15625 -65.15625 14.171875 -77.109375 20.953125 -77.109375 C 23.703125 -77.109375 26.03125 -75.21875 27.78125 -71.578125 C 28.890625 -69.3125 29.46875 -67.171875 30.15625 -62.390625 L 37.609375 -62.390625 C 36.65625 -81.390625 30.203125 -93.21875 20.890625 -93.21875 C 9.78125 -93.21875 2.21875 -73.71875 2.21875 -45.15625 C 2.21875 -17.359375 9.84375 2.890625 20.265625 2.890625 C 25.453125 2.890625 28.9375 -1.515625 31.90625 -11.828125 L 32.859375 0.25 L 37.609375 0.25 Z M 37.609375 -49.3125 \" style=\"stroke:none;\"/>\n",
       "</symbol>\n",
       "<symbol id=\"glyph20-0 2626163840685346296\" overflow=\"visible\">\n",
       "<path d=\"\" style=\"stroke:none;\"/>\n",
       "</symbol>\n",
       "<symbol id=\"glyph20-1 2626163840685346296\" overflow=\"visible\">\n",
       "<path d=\"M 37.609375 -48.359375 L 22.171875 -48.359375 L 22.171875 -32.9375 L 30.953125 -32.9375 C 30.734375 -27.875 30.203125 -24.796875 29.046875 -21.59375 C 27.140625 -16.15625 24.171875 -12.953125 21.15625 -12.953125 C 14.703125 -12.953125 10.15625 -26.03125 10.15625 -44.53125 C 10.15625 -63.90625 14.171875 -75.625 20.953125 -75.625 C 23.703125 -75.625 26.03125 -73.78125 27.78125 -70.203125 C 28.890625 -67.984375 29.46875 -65.875 30.15625 -61.1875 L 37.609375 -61.1875 C 36.65625 -79.828125 30.203125 -91.421875 20.890625 -91.421875 C 9.78125 -91.421875 2.21875 -72.296875 2.21875 -44.296875 C 2.21875 -17.03125 9.84375 2.84375 20.265625 2.84375 C 25.453125 2.84375 28.9375 -1.484375 31.90625 -11.59375 L 32.859375 0.25 L 37.609375 0.25 Z M 37.609375 -48.359375 \" style=\"stroke:none;\"/>\n",
       "</symbol>\n",
       "<symbol id=\"glyph21-0 2626163840685346296\" overflow=\"visible\">\n",
       "<path d=\"\" style=\"stroke:none;\"/>\n",
       "</symbol>\n",
       "<symbol id=\"glyph21-1 2626163840685346296\" overflow=\"visible\">\n",
       "<path d=\"M 26.1875 -4.765625 L 28.703125 0 L 36.75 0 L 23.578125 -23.640625 L 14.90625 -23.640625 L 1.359375 0 L 9.359375 0 L 11.921875 -4.765625 Z M 24.046875 -8.828125 L 14.109375 -8.828125 L 19.078125 -18.0625 Z M 24.046875 -8.828125 \" style=\"stroke:none;\"/>\n",
       "</symbol>\n",
       "</g>\n",
       "</defs>\n",
       "<g id=\"surface1\">\n",
       "<path d=\"M 110.416667 58.089193 L 131.25 58.089193 L 131.25 816.666667 \" style=\"fill:none;stroke-width:2.08333;stroke-linecap:butt;stroke-linejoin:miter;stroke:rgb(0%,0%,0%);stroke-opacity:1;stroke-miterlimit:10;\" transform=\"matrix(0.24,0,0,-0.24,0,202)\"/>\n",
       "<g style=\"fill:rgb(0%,0%,0%);fill-opacity:1;\">\n",
       "  <use x=\"14.880912\" xlink:href=\"#glyph0-1 2626163840685346296\" y=\"191.021891\"/>\n",
       "  <use x=\"19.328915\" xlink:href=\"#glyph0-2 2626163840685346296\" y=\"191.021891\"/>\n",
       "  <use x=\"21.552917\" xlink:href=\"#glyph0-1 2626163840685346296\" y=\"191.021891\"/>\n",
       "</g>\n",
       "<path d=\"M 110.416667 58.089193 L 131.25 58.089193 \" style=\"fill:none;stroke-width:2.08333;stroke-linecap:butt;stroke-linejoin:miter;stroke:rgb(0%,0%,0%);stroke-opacity:1;stroke-miterlimit:10;\" transform=\"matrix(0.24,0,0,-0.24,0,202)\"/>\n",
       "<g style=\"fill:rgb(0%,0%,0%);fill-opacity:1;\">\n",
       "  <use x=\"14.880912\" xlink:href=\"#glyph0-1 2626163840685346296\" y=\"99.992918\"/>\n",
       "  <use x=\"19.328915\" xlink:href=\"#glyph0-2 2626163840685346296\" y=\"99.992918\"/>\n",
       "  <use x=\"21.552917\" xlink:href=\"#glyph0-3 2626163840685346296\" y=\"99.992918\"/>\n",
       "</g>\n",
       "<path d=\"M 110.416667 437.386068 L 131.25 437.386068 \" style=\"fill:none;stroke-width:2.08333;stroke-linecap:butt;stroke-linejoin:miter;stroke:rgb(0%,0%,0%);stroke-opacity:1;stroke-miterlimit:10;\" transform=\"matrix(0.24,0,0,-0.24,0,202)\"/>\n",
       "<g style=\"fill:rgb(0%,0%,0%);fill-opacity:1;\">\n",
       "  <use x=\"14.880912\" xlink:href=\"#glyph0-4 2626163840685346296\" y=\"8.963846\"/>\n",
       "  <use x=\"19.328915\" xlink:href=\"#glyph0-2 2626163840685346296\" y=\"8.963846\"/>\n",
       "  <use x=\"21.552917\" xlink:href=\"#glyph0-1 2626163840685346296\" y=\"8.963846\"/>\n",
       "</g>\n",
       "<path d=\"M 110.416667 816.666667 L 131.25 816.666667 \" style=\"fill:none;stroke-width:2.08333;stroke-linecap:butt;stroke-linejoin:miter;stroke:rgb(0%,0%,0%);stroke-opacity:1;stroke-miterlimit:10;\" transform=\"matrix(0.24,0,0,-0.24,0,202)\"/>\n",
       "<path d=\"M 131.25 58.089193 L 120.833333 58.089193 \" style=\"fill:none;stroke-width:2.08333;stroke-linecap:butt;stroke-linejoin:miter;stroke:rgb(0%,0%,0%);stroke-opacity:1;stroke-miterlimit:10;\" transform=\"matrix(0.24,0,0,-0.24,0,202)\"/>\n",
       "<path d=\"M 131.25 133.951823 L 120.833333 133.951823 \" style=\"fill:none;stroke-width:2.08333;stroke-linecap:butt;stroke-linejoin:miter;stroke:rgb(0%,0%,0%);stroke-opacity:1;stroke-miterlimit:10;\" transform=\"matrix(0.24,0,0,-0.24,0,202)\"/>\n",
       "<path d=\"M 131.25 209.814453 L 120.833333 209.814453 \" style=\"fill:none;stroke-width:2.08333;stroke-linecap:butt;stroke-linejoin:miter;stroke:rgb(0%,0%,0%);stroke-opacity:1;stroke-miterlimit:10;\" transform=\"matrix(0.24,0,0,-0.24,0,202)\"/>\n",
       "<path d=\"M 131.25 285.660807 L 120.833333 285.660807 \" style=\"fill:none;stroke-width:2.08333;stroke-linecap:butt;stroke-linejoin:miter;stroke:rgb(0%,0%,0%);stroke-opacity:1;stroke-miterlimit:10;\" transform=\"matrix(0.24,0,0,-0.24,0,202)\"/>\n",
       "<path d=\"M 131.25 361.523437 L 120.833333 361.523437 \" style=\"fill:none;stroke-width:2.08333;stroke-linecap:butt;stroke-linejoin:miter;stroke:rgb(0%,0%,0%);stroke-opacity:1;stroke-miterlimit:10;\" transform=\"matrix(0.24,0,0,-0.24,0,202)\"/>\n",
       "<path d=\"M 131.25 437.386068 L 120.833333 437.386068 \" style=\"fill:none;stroke-width:2.08333;stroke-linecap:butt;stroke-linejoin:miter;stroke:rgb(0%,0%,0%);stroke-opacity:1;stroke-miterlimit:10;\" transform=\"matrix(0.24,0,0,-0.24,0,202)\"/>\n",
       "<path d=\"M 131.25 513.232422 L 120.833333 513.232422 \" style=\"fill:none;stroke-width:2.08333;stroke-linecap:butt;stroke-linejoin:miter;stroke:rgb(0%,0%,0%);stroke-opacity:1;stroke-miterlimit:10;\" transform=\"matrix(0.24,0,0,-0.24,0,202)\"/>\n",
       "<path d=\"M 131.25 589.095052 L 120.833333 589.095052 \" style=\"fill:none;stroke-width:2.08333;stroke-linecap:butt;stroke-linejoin:miter;stroke:rgb(0%,0%,0%);stroke-opacity:1;stroke-miterlimit:10;\" transform=\"matrix(0.24,0,0,-0.24,0,202)\"/>\n",
       "<path d=\"M 131.25 664.957682 L 120.833333 664.957682 \" style=\"fill:none;stroke-width:2.08333;stroke-linecap:butt;stroke-linejoin:miter;stroke:rgb(0%,0%,0%);stroke-opacity:1;stroke-miterlimit:10;\" transform=\"matrix(0.24,0,0,-0.24,0,202)\"/>\n",
       "<path d=\"M 131.25 740.804036 L 120.833333 740.804036 \" style=\"fill:none;stroke-width:2.08333;stroke-linecap:butt;stroke-linejoin:miter;stroke:rgb(0%,0%,0%);stroke-opacity:1;stroke-miterlimit:10;\" transform=\"matrix(0.24,0,0,-0.24,0,202)\"/>\n",
       "<g style=\"fill:rgb(0%,0%,0%);fill-opacity:1;\">\n",
       "  <use x=\"11.851909\" xlink:href=\"#glyph1-1 2626163840685346296\" y=\"119.811234\"/>\n",
       "  <use x=\"11.851909\" xlink:href=\"#glyph1-2 2626163840685346296\" y=\"114.25123\"/>\n",
       "  <use x=\"11.851909\" xlink:href=\"#glyph1-3 2626163840685346296\" y=\"110.921227\"/>\n",
       "  <use x=\"11.851909\" xlink:href=\"#glyph1-4 2626163840685346296\" y=\"105.361223\"/>\n",
       "  <use x=\"11.851909\" xlink:href=\"#glyph1-5 2626163840685346296\" y=\"99.801218\"/>\n",
       "  <use x=\"11.851909\" xlink:href=\"#glyph1-4 2626163840685346296\" y=\"94.241214\"/>\n",
       "  <use x=\"11.851909\" xlink:href=\"#glyph1-6 2626163840685346296\" y=\"88.681209\"/>\n",
       "  <use x=\"11.851909\" xlink:href=\"#glyph1-7 2626163840685346296\" y=\"86.461208\"/>\n",
       "  <use x=\"11.851909\" xlink:href=\"#glyph1-6 2626163840685346296\" y=\"84.241206\"/>\n",
       "  <use x=\"11.851909\" xlink:href=\"#glyph1-8 2626163840685346296\" y=\"82.021204\"/>\n",
       "  <use x=\"11.851909\" xlink:href=\"#glyph1-9 2626163840685346296\" y=\"79.241202\"/>\n",
       "</g>\n",
       "<path d=\"M 133.333333 58.089193 L 285.042318 58.089193 M 209.195964 58.089193 L 209.195964 52.880859 \" style=\"fill:none;stroke-width:2.08333;stroke-linecap:butt;stroke-linejoin:miter;stroke:rgb(0%,0%,0%);stroke-opacity:1;stroke-miterlimit:10;\" transform=\"matrix(0.24,0,0,-0.24,0,202)\"/>\n",
       "<g style=\"fill:rgb(0%,50.193787%,0%);fill-opacity:1;\">\n",
       "  <use x=\"31.142825\" xlink:href=\"#glyph2-1 2626163840685346296\" y=\"187.556888\"/>\n",
       "</g>\n",
       "<g style=\"fill:rgb(100%,0%,0%);fill-opacity:1;\">\n",
       "  <use x=\"31.649125\" xlink:href=\"#glyph3-1 2626163840685346296\" y=\"167.122172\"/>\n",
       "</g>\n",
       "<g style=\"fill:rgb(0%,0%,100%);fill-opacity:1;\">\n",
       "  <use x=\"30.074124\" xlink:href=\"#glyph4-1 2626163840685346296\" y=\"136.239947\"/>\n",
       "</g>\n",
       "<g style=\"fill:rgb(100%,64.646912%,0%);fill-opacity:1;\">\n",
       "  <use x=\"30.280324\" xlink:href=\"#glyph5-1 2626163840685346296\" y=\"95.603915\"/>\n",
       "</g>\n",
       "<path d=\"M 285.042318 58.089193 L 436.767578 58.089193 M 360.904948 58.089193 L 360.904948 52.880859 \" style=\"fill:none;stroke-width:2.08333;stroke-linecap:butt;stroke-linejoin:miter;stroke:rgb(0%,0%,0%);stroke-opacity:1;stroke-miterlimit:10;\" transform=\"matrix(0.24,0,0,-0.24,0,202)\"/>\n",
       "<g style=\"fill:rgb(0%,50.193787%,0%);fill-opacity:1;\">\n",
       "  <use x=\"67.554454\" xlink:href=\"#glyph6-1 2626163840685346296\" y=\"187.556888\"/>\n",
       "</g>\n",
       "<g style=\"fill:rgb(100%,0%,0%);fill-opacity:1;\">\n",
       "  <use x=\"68.060654\" xlink:href=\"#glyph7-1 2626163840685346296\" y=\"168.980274\"/>\n",
       "</g>\n",
       "<g style=\"fill:rgb(0%,0%,100%);fill-opacity:1;\">\n",
       "  <use x=\"66.485653\" xlink:href=\"#glyph8-1 2626163840685346296\" y=\"134.325546\"/>\n",
       "</g>\n",
       "<g style=\"fill:rgb(100%,64.646912%,0%);fill-opacity:1;\">\n",
       "  <use x=\"66.691953\" xlink:href=\"#glyph9-1 2626163840685346296\" y=\"92.000912\"/>\n",
       "</g>\n",
       "<path d=\"M 436.767578 58.089193 L 588.476562 58.089193 M 512.613932 58.089193 L 512.613932 52.880859 \" style=\"fill:none;stroke-width:2.08333;stroke-linecap:butt;stroke-linejoin:miter;stroke:rgb(0%,0%,0%);stroke-opacity:1;stroke-miterlimit:10;\" transform=\"matrix(0.24,0,0,-0.24,0,202)\"/>\n",
       "<g style=\"fill:rgb(0%,50.193787%,0%);fill-opacity:1;\">\n",
       "  <use x=\"103.965083\" xlink:href=\"#glyph10-1 2626163840685346296\" y=\"187.556888\"/>\n",
       "</g>\n",
       "<g style=\"fill:rgb(100%,0%,0%);fill-opacity:1;\">\n",
       "  <use x=\"104.471084\" xlink:href=\"#glyph11-1 2626163840685346296\" y=\"168.788073\"/>\n",
       "</g>\n",
       "<g style=\"fill:rgb(0%,0%,100%);fill-opacity:1;\">\n",
       "  <use x=\"102.896082\" xlink:href=\"#glyph12-1 2626163840685346296\" y=\"139.29245\"/>\n",
       "</g>\n",
       "<g style=\"fill:rgb(100%,64.646912%,0%);fill-opacity:1;\">\n",
       "  <use x=\"103.102082\" xlink:href=\"#glyph13-1 2626163840685346296\" y=\"92.889913\"/>\n",
       "</g>\n",
       "<path d=\"M 588.476562 58.089193 L 740.185547 58.089193 M 664.339193 58.089193 L 664.339193 52.880859 \" style=\"fill:none;stroke-width:2.08333;stroke-linecap:butt;stroke-linejoin:miter;stroke:rgb(0%,0%,0%);stroke-opacity:1;stroke-miterlimit:10;\" transform=\"matrix(0.24,0,0,-0.24,0,202)\"/>\n",
       "<g style=\"fill:rgb(0%,50.193787%,0%);fill-opacity:1;\">\n",
       "  <use x=\"140.377112\" xlink:href=\"#glyph14-1 2626163840685346296\" y=\"187.556888\"/>\n",
       "</g>\n",
       "<g style=\"fill:rgb(100%,0%,0%);fill-opacity:1;\">\n",
       "  <use x=\"140.883113\" xlink:href=\"#glyph15-1 2626163840685346296\" y=\"170.837475\"/>\n",
       "</g>\n",
       "<g style=\"fill:rgb(0%,0%,100%);fill-opacity:1;\">\n",
       "  <use x=\"139.308111\" xlink:href=\"#glyph16-1 2626163840685346296\" y=\"141.643752\"/>\n",
       "</g>\n",
       "<g style=\"fill:rgb(100%,64.646912%,0%);fill-opacity:1;\">\n",
       "  <use x=\"139.514112\" xlink:href=\"#glyph5-1 2626163840685346296\" y=\"95.603915\"/>\n",
       "</g>\n",
       "<path d=\"M 740.185547 58.089193 L 891.910807 58.089193 M 816.048177 58.089193 L 816.048177 47.672526 \" style=\"fill:none;stroke-width:2.08333;stroke-linecap:butt;stroke-linejoin:miter;stroke:rgb(0%,0%,0%);stroke-opacity:1;stroke-miterlimit:10;\" transform=\"matrix(0.24,0,0,-0.24,0,202)\"/>\n",
       "<g style=\"fill:rgb(0%,0%,0%);fill-opacity:1;\">\n",
       "  <use x=\"193.627155\" xlink:href=\"#glyph0-3 2626163840685346296\" y=\"198.557497\"/>\n",
       "</g>\n",
       "<g style=\"fill:rgb(0%,50.193787%,0%);fill-opacity:1;\">\n",
       "  <use x=\"176.788141\" xlink:href=\"#glyph6-1 2626163840685346296\" y=\"187.556888\"/>\n",
       "</g>\n",
       "<g style=\"fill:rgb(100%,0%,0%);fill-opacity:1;\">\n",
       "  <use x=\"177.294142\" xlink:href=\"#glyph17-1 2626163840685346296\" y=\"168.980274\"/>\n",
       "</g>\n",
       "<g style=\"fill:rgb(0%,0%,100%);fill-opacity:1;\">\n",
       "  <use x=\"175.719141\" xlink:href=\"#glyph18-1 2626163840685346296\" y=\"143.558053\"/>\n",
       "</g>\n",
       "<g style=\"fill:rgb(100%,64.646912%,0%);fill-opacity:1;\">\n",
       "  <use x=\"175.926141\" xlink:href=\"#glyph19-1 2626163840685346296\" y=\"99.210918\"/>\n",
       "</g>\n",
       "<path d=\"M 891.910807 58.089193 L 1043.619792 58.089193 M 967.757161 58.089193 L 967.757161 52.880859 \" style=\"fill:none;stroke-width:2.08333;stroke-linecap:butt;stroke-linejoin:miter;stroke:rgb(0%,0%,0%);stroke-opacity:1;stroke-miterlimit:10;\" transform=\"matrix(0.24,0,0,-0.24,0,202)\"/>\n",
       "<g style=\"fill:rgb(0%,50.193787%,0%);fill-opacity:1;\">\n",
       "  <use x=\"213.200171\" xlink:href=\"#glyph2-1 2626163840685346296\" y=\"187.556888\"/>\n",
       "</g>\n",
       "<g style=\"fill:rgb(100%,0%,0%);fill-opacity:1;\">\n",
       "  <use x=\"213.706171\" xlink:href=\"#glyph17-1 2626163840685346296\" y=\"167.122172\"/>\n",
       "</g>\n",
       "<g style=\"fill:rgb(0%,0%,100%);fill-opacity:1;\">\n",
       "  <use x=\"212.13117\" xlink:href=\"#glyph18-1 2626163840685346296\" y=\"141.699952\"/>\n",
       "</g>\n",
       "<g style=\"fill:rgb(100%,64.646912%,0%);fill-opacity:1;\">\n",
       "  <use x=\"212.33717\" xlink:href=\"#glyph20-1 2626163840685346296\" y=\"97.408916\"/>\n",
       "</g>\n",
       "<path d=\"M 1043.619792 58.089193 L 1195.328776 58.089193 M 1119.482422 58.089193 L 1119.482422 52.880859 \" style=\"fill:none;stroke-width:2.08333;stroke-linecap:butt;stroke-linejoin:miter;stroke:rgb(0%,0%,0%);stroke-opacity:1;stroke-miterlimit:10;\" transform=\"matrix(0.24,0,0,-0.24,0,202)\"/>\n",
       "<g style=\"fill:rgb(100%,0%,0%);fill-opacity:1;\">\n",
       "  <use x=\"250.1172\" xlink:href=\"#glyph17-1 2626163840685346296\" y=\"187.556888\"/>\n",
       "</g>\n",
       "<g style=\"fill:rgb(0%,50.193787%,0%);fill-opacity:1;\">\n",
       "  <use x=\"249.6112\" xlink:href=\"#glyph21-1 2626163840685346296\" y=\"163.406869\"/>\n",
       "</g>\n",
       "<g style=\"fill:rgb(0%,0%,100%);fill-opacity:1;\">\n",
       "  <use x=\"248.542199\" xlink:href=\"#glyph8-1 2626163840685346296\" y=\"138.040849\"/>\n",
       "</g>\n",
       "<g style=\"fill:rgb(100%,64.646912%,0%);fill-opacity:1;\">\n",
       "  <use x=\"248.749199\" xlink:href=\"#glyph5-1 2626163840685346296\" y=\"95.603915\"/>\n",
       "</g>\n",
       "</g>\n",
       "</svg>"
      ],
      "text/plain": [
       "<IPython.core.display.SVG object>"
      ]
     },
     "execution_count": 26,
     "metadata": {},
     "output_type": "execute_result"
    }
   ],
   "source": [
    "plot_PWM(grad_cam)"
   ]
  },
  {
   "cell_type": "markdown",
   "metadata": {},
   "source": [
    "###  remove handlers"
   ]
  },
  {
   "cell_type": "code",
   "execution_count": null,
   "metadata": {},
   "outputs": [],
   "source": [
    "for i in handlers+guided_handlers: i.remove()"
   ]
  },
  {
   "cell_type": "code",
   "execution_count": null,
   "metadata": {},
   "outputs": [],
   "source": [
    "# grad cam ++ https://arxiv.org/pdf/1710.11063.pdf\n",
    "# plot weight of first layer filters http://cs231n.github.io/understanding-cnn/\n",
    "# plot on the input local high level features separated\n",
    "# calculate population metrics of certain label with averaging over a set of samples and plot weights of first layer"
   ]
  },
  {
   "cell_type": "markdown",
   "metadata": {
    "heading_collapsed": true
   },
   "source": [
    "## loss graphs"
   ]
  },
  {
   "cell_type": "code",
   "execution_count": 1,
   "metadata": {
    "hidden": true
   },
   "outputs": [],
   "source": [
    "import pandas as pd\n",
    "import matplotlib.pyplot as plt"
   ]
  },
  {
   "cell_type": "code",
   "execution_count": 2,
   "metadata": {
    "hidden": true
   },
   "outputs": [],
   "source": [
    "chpt_lstm = '../data/lightning_logs/version_55/metrics.csv'\n",
    "chpt_txl  = '../data/lightning_logs/version_51/metrics.csv'"
   ]
  },
  {
   "cell_type": "code",
   "execution_count": 32,
   "metadata": {
    "hidden": true
   },
   "outputs": [
    {
     "data": {
      "text/html": [
       "<div>\n",
       "<style scoped>\n",
       "    .dataframe tbody tr th:only-of-type {\n",
       "        vertical-align: middle;\n",
       "    }\n",
       "\n",
       "    .dataframe tbody tr th {\n",
       "        vertical-align: top;\n",
       "    }\n",
       "\n",
       "    .dataframe thead th {\n",
       "        text-align: right;\n",
       "    }\n",
       "</style>\n",
       "<table border=\"1\" class=\"dataframe\">\n",
       "  <thead>\n",
       "    <tr style=\"text-align: right;\">\n",
       "      <th></th>\n",
       "      <th>train_loss</th>\n",
       "      <th>epoch</th>\n",
       "      <th>val_loss</th>\n",
       "      <th>valid_roc_auc</th>\n",
       "      <th>valid_acc</th>\n",
       "    </tr>\n",
       "    <tr>\n",
       "      <th>created_at</th>\n",
       "      <th></th>\n",
       "      <th></th>\n",
       "      <th></th>\n",
       "      <th></th>\n",
       "      <th></th>\n",
       "    </tr>\n",
       "  </thead>\n",
       "  <tbody>\n",
       "    <tr>\n",
       "      <th>0.000000</th>\n",
       "      <td>0.098585</td>\n",
       "      <td>0</td>\n",
       "      <td>NaN</td>\n",
       "      <td>NaN</td>\n",
       "      <td>NaN</td>\n",
       "    </tr>\n",
       "    <tr>\n",
       "      <th>0.620962</th>\n",
       "      <td>0.078722</td>\n",
       "      <td>0</td>\n",
       "      <td>NaN</td>\n",
       "      <td>NaN</td>\n",
       "      <td>NaN</td>\n",
       "    </tr>\n",
       "    <tr>\n",
       "      <th>1.192734</th>\n",
       "      <td>0.077337</td>\n",
       "      <td>0</td>\n",
       "      <td>NaN</td>\n",
       "      <td>NaN</td>\n",
       "      <td>NaN</td>\n",
       "    </tr>\n",
       "    <tr>\n",
       "      <th>1.758596</th>\n",
       "      <td>0.093673</td>\n",
       "      <td>0</td>\n",
       "      <td>NaN</td>\n",
       "      <td>NaN</td>\n",
       "      <td>NaN</td>\n",
       "    </tr>\n",
       "    <tr>\n",
       "      <th>2.333053</th>\n",
       "      <td>0.084425</td>\n",
       "      <td>0</td>\n",
       "      <td>NaN</td>\n",
       "      <td>NaN</td>\n",
       "      <td>NaN</td>\n",
       "    </tr>\n",
       "    <tr>\n",
       "      <th>...</th>\n",
       "      <td>...</td>\n",
       "      <td>...</td>\n",
       "      <td>...</td>\n",
       "      <td>...</td>\n",
       "      <td>...</td>\n",
       "    </tr>\n",
       "    <tr>\n",
       "      <th>90263.430217</th>\n",
       "      <td>0.076333</td>\n",
       "      <td>5</td>\n",
       "      <td>NaN</td>\n",
       "      <td>NaN</td>\n",
       "      <td>NaN</td>\n",
       "    </tr>\n",
       "    <tr>\n",
       "      <th>90264.674053</th>\n",
       "      <td>0.066951</td>\n",
       "      <td>5</td>\n",
       "      <td>NaN</td>\n",
       "      <td>NaN</td>\n",
       "      <td>NaN</td>\n",
       "    </tr>\n",
       "    <tr>\n",
       "      <th>90265.928700</th>\n",
       "      <td>0.055678</td>\n",
       "      <td>5</td>\n",
       "      <td>NaN</td>\n",
       "      <td>NaN</td>\n",
       "      <td>NaN</td>\n",
       "    </tr>\n",
       "    <tr>\n",
       "      <th>90267.181200</th>\n",
       "      <td>0.066318</td>\n",
       "      <td>5</td>\n",
       "      <td>NaN</td>\n",
       "      <td>NaN</td>\n",
       "      <td>NaN</td>\n",
       "    </tr>\n",
       "    <tr>\n",
       "      <th>90268.406594</th>\n",
       "      <td>0.049422</td>\n",
       "      <td>5</td>\n",
       "      <td>NaN</td>\n",
       "      <td>NaN</td>\n",
       "      <td>NaN</td>\n",
       "    </tr>\n",
       "  </tbody>\n",
       "</table>\n",
       "<p>97522 rows × 5 columns</p>\n",
       "</div>"
      ],
      "text/plain": [
       "              train_loss  epoch  val_loss  valid_roc_auc  valid_acc\n",
       "created_at                                                         \n",
       "0.000000        0.098585      0       NaN            NaN        NaN\n",
       "0.620962        0.078722      0       NaN            NaN        NaN\n",
       "1.192734        0.077337      0       NaN            NaN        NaN\n",
       "1.758596        0.093673      0       NaN            NaN        NaN\n",
       "2.333053        0.084425      0       NaN            NaN        NaN\n",
       "...                  ...    ...       ...            ...        ...\n",
       "90263.430217    0.076333      5       NaN            NaN        NaN\n",
       "90264.674053    0.066951      5       NaN            NaN        NaN\n",
       "90265.928700    0.055678      5       NaN            NaN        NaN\n",
       "90267.181200    0.066318      5       NaN            NaN        NaN\n",
       "90268.406594    0.049422      5       NaN            NaN        NaN\n",
       "\n",
       "[97522 rows x 5 columns]"
      ]
     },
     "execution_count": 32,
     "metadata": {},
     "output_type": "execute_result"
    }
   ],
   "source": [
    "csv = pd.read_csv(chpt_lstm)\n",
    "csv['created_at'] =  pd.to_datetime(csv['created_at'], format='%Y%m%d %H:%M:%S.%f')\n",
    "csv['created_at'] =  (csv['created_at'] - csv['created_at'][csv.first_valid_index()]).dt.total_seconds()\n",
    "csv = csv.set_index('created_at')\n",
    "csv"
   ]
  },
  {
   "cell_type": "code",
   "execution_count": 56,
   "metadata": {
    "hidden": true
   },
   "outputs": [],
   "source": [
    "def plot_losses(csv_path, ax,avg_win_sz=500,time=False):\n",
    "    csv = pd.read_csv(csv_path)\n",
    "    if time:\n",
    "        csv['created_at'] =  pd.to_datetime(csv['created_at'], format='%Y%m%d %H:%M:%S.%f')\n",
    "        csv['Seconds'] =  (csv['created_at'] - csv['created_at'][csv.first_valid_index()]).dt.total_seconds()\n",
    "        csv = csv.set_index('Seconds')\n",
    "\n",
    "    trn = csv[csv['train_loss'].notnull()]\n",
    "    trn['train_loss'].rolling(avg_win_sz).mean().plot(ax=ax)\n",
    "  \n",
    "    val = csv[csv['val_loss'].notnull()]\n",
    "    val['val_loss'].plot(ax=ax)"
   ]
  },
  {
   "cell_type": "code",
   "execution_count": 57,
   "metadata": {
    "hidden": true
   },
   "outputs": [],
   "source": [
    "def plot_roc_auc(csv_path,ax,time=False):\n",
    "    csv = pd.read_csv(csv_path)\n",
    "    if time:\n",
    "        csv['created_at'] =  pd.to_datetime(csv['created_at'], format='%Y%m%d %H:%M:%S.%f')\n",
    "        csv['Seconds'] =  (csv['created_at'] - csv['created_at'][csv.first_valid_index()]).dt.total_seconds()\n",
    "        csv = csv.set_index('Seconds')\n",
    "        \n",
    "    val = csv[csv['val_loss'].notnull()]\n",
    "    val['valid_roc_auc'].plot(ax=ax)"
   ]
  },
  {
   "cell_type": "code",
   "execution_count": 60,
   "metadata": {
    "hidden": true
   },
   "outputs": [
    {
     "data": {
      "text/plain": [
       "Text(0.5, 1.0, 'ROC AUC vs time')"
      ]
     },
     "execution_count": 60,
     "metadata": {},
     "output_type": "execute_result"
    },
    {
     "data": {
      "image/png": "[encoded data removed]",
      "text/plain": [
       "<Figure size 1080x864 with 4 Axes>"
      ]
     },
     "metadata": {
      "needs_background": "light"
     },
     "output_type": "display_data"
    }
   ],
   "source": [
    "fig, axs = plt.subplots(2,2,figsize=(15,12))\n",
    "\n",
    "plot_losses(chpt_lstm,axs[0,0])\n",
    "plot_losses(chpt_txl, axs[0,0])\n",
    "axs[0,0].set_title('Losses vs steps')\n",
    "\n",
    "plot_losses(chpt_lstm,axs[0,1],time=True)\n",
    "plot_losses(chpt_txl, axs[0,1],time=True)\n",
    "axs[0,1].legend(['LSTM train loss','LSTM valid loss','T-XL train loss','T-XL valid loss'])\n",
    "axs[0,1].set_title('Losses vs time')\n",
    "\n",
    "plot_roc_auc(chpt_lstm,axs[1,0])\n",
    "plot_roc_auc(chpt_txl, axs[1,0])\n",
    "axs[1,0].set_title('ROC AUC vs steps')\n",
    "\n",
    "plot_roc_auc(chpt_lstm,axs[1,1],time=True)\n",
    "plot_roc_auc(chpt_txl, axs[1,1] ,time=True)\n",
    "plt.legend(['LSTM AUC ROC','T-XL AUC ROC'],loc=\"center right\")\n",
    "axs[1,1].set_title('ROC AUC vs time')"
   ]
  }
 ],
 "metadata": {
  "kernelspec": {
   "display_name": "mlnd",
   "language": "python",
   "name": "mlnd"
  },
  "language_info": {
   "codemirror_mode": {
    "name": "ipython",
    "version": 3
   },
   "file_extension": ".py",
   "mimetype": "text/x-python",
   "name": "python",
   "nbconvert_exporter": "python",
   "pygments_lexer": "ipython3",
   "version": "3.6.10"
  }
 },
 "nbformat": 4,
 "nbformat_minor": 2
}
