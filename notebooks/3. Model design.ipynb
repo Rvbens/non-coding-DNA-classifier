{
 "cells": [
  {
   "cell_type": "code",
   "execution_count": 1,
   "metadata": {},
   "outputs": [],
   "source": [
    "import time\n",
    "import matplotlib.pyplot as plt\n",
    "import numpy as np\n",
    "\n",
    "import torch\n",
    "import torch.nn as nn\n",
    "import torch.nn.functional as F"
   ]
  },
  {
   "cell_type": "code",
   "execution_count": 2,
   "metadata": {},
   "outputs": [
    {
     "data": {
      "text/plain": [
       "torch.Size([32, 1000])"
      ]
     },
     "execution_count": 2,
     "metadata": {},
     "output_type": "execute_result"
    }
   ],
   "source": [
    "sample_batch = torch.randint(0,3,(32,1000))\n",
    "sample_batch.shape #(bs,seq_len)"
   ]
  },
  {
   "cell_type": "code",
   "execution_count": 3,
   "metadata": {},
   "outputs": [],
   "source": [
    "def count_parameters(model):\n",
    "    return sum(p.numel() for p in model.parameters() if p.requires_grad)"
   ]
  },
  {
   "cell_type": "markdown",
   "metadata": {
    "heading_collapsed": true
   },
   "source": [
    "## DanQ"
   ]
  },
  {
   "cell_type": "code",
   "execution_count": 4,
   "metadata": {
    "hidden": true
   },
   "outputs": [],
   "source": [
    "class DanQ(nn.Module):\n",
    "    def __init__(self):\n",
    "        super().__init__()\n",
    "        self.emb  = nn.Embedding(4,8) # in original DanQ the input is one-hot encoded, aka not learnable\n",
    "        self.conv = nn.Conv1d(8,320,26,padding=0)\n",
    "        self.pool = nn.MaxPool1d(13,13)\n",
    "        self.drop1= nn.Dropout(0.2)\n",
    "        \n",
    "        self.lstm = nn.LSTM(320,320,bidirectional=True)\n",
    "        self.drop2= nn.Dropout(0.5)\n",
    "        \n",
    "        self.fc1 = nn.Linear(640*75,928)\n",
    "        self.fc2 = nn.Linear(928,919)\n",
    "        \n",
    "    def forward(self,x):                  #(bs, 1000)\n",
    "        x = self.emb(x)                   #(bs, 1000, 8)\n",
    "        #Conv1d\n",
    "        x = x.permute(0,2,1).contiguous() #(bs, 8, 1000)\n",
    "        x = F.relu(self.conv(x))          #(bs, 320, 975)\n",
    "        x = self.drop1(self.pool(x))      #(bs, 320, 75)\n",
    "        #LSTM\n",
    "        x = x.permute(0,2,1).contiguous() #(bs, 75, 320)\n",
    "        x,h = self.lstm(x)                #(bs, 75, 640)\n",
    "        x = self.drop2(x)\n",
    "        #FC\n",
    "        x = x.view(x.shape[0],-1)         #(bs,75*640)\n",
    "        x = F.relu(self.fc1(x))           #(bs,928)\n",
    "        x = self.fc2(x)                   #(bs,919)\n",
    "        return x # return logits instead of sigmoid"
   ]
  },
  {
   "cell_type": "code",
   "execution_count": 20,
   "metadata": {
    "collapsed": true,
    "hidden": true
   },
   "outputs": [
    {
     "data": {
      "text/plain": [
       "tensor([[-0.0357, -0.0567,  0.0217,  ..., -0.0666,  0.0227, -0.0358],\n",
       "        [-0.0108, -0.0384, -0.0049,  ..., -0.0860,  0.0194,  0.0612],\n",
       "        [ 0.0052, -0.0615,  0.1294,  ..., -0.0312, -0.0188, -0.0219],\n",
       "        ...,\n",
       "        [-0.0814, -0.0535,  0.0219,  ..., -0.1294, -0.0508,  0.0013],\n",
       "        [ 0.0387, -0.0681,  0.0043,  ...,  0.0185,  0.0054,  0.0723],\n",
       "        [ 0.0109, -0.0565,  0.0481,  ..., -0.0467, -0.0712,  0.0494]],\n",
       "       grad_fn=<AddmmBackward>)"
      ]
     },
     "execution_count": 20,
     "metadata": {},
     "output_type": "execute_result"
    }
   ],
   "source": [
    "DanQ()(sample_batch)"
   ]
  },
  {
   "cell_type": "code",
   "execution_count": 5,
   "metadata": {
    "hidden": true
   },
   "outputs": [
    {
     "data": {
      "text/plain": [
       "47109111"
      ]
     },
     "execution_count": 5,
     "metadata": {},
     "output_type": "execute_result"
    }
   ],
   "source": [
    "count_parameters(DanQ())"
   ]
  },
  {
   "cell_type": "markdown",
   "metadata": {
    "heading_collapsed": true
   },
   "source": [
    "## Transformer XL"
   ]
  },
  {
   "cell_type": "code",
   "execution_count": 4,
   "metadata": {
    "hidden": true
   },
   "outputs": [],
   "source": [
    "import transformers as ts"
   ]
  },
  {
   "cell_type": "code",
   "execution_count": 12,
   "metadata": {
    "hidden": true
   },
   "outputs": [],
   "source": [
    "cfg = ts.TransfoXLConfig(vocab_size=4, d_model=64, d_embed=8, n_head=4, d_head=16, d_inner=128, \n",
    "                             n_layer=6, tgt_len=0, ext_len=0, mem_len=512, cutoffs=[1], )\n",
    "model = ts.TransfoXLModel(cfg)"
   ]
  },
  {
   "cell_type": "code",
   "execution_count": 13,
   "metadata": {
    "hidden": true
   },
   "outputs": [
    {
     "data": {
      "text/plain": [
       "225294"
      ]
     },
     "execution_count": 13,
     "metadata": {},
     "output_type": "execute_result"
    }
   ],
   "source": [
    "count_parameters(model)"
   ]
  },
  {
   "cell_type": "code",
   "execution_count": 7,
   "metadata": {
    "hidden": true
   },
   "outputs": [],
   "source": [
    "last_hidden_state,  mems = model(sample_batch)"
   ]
  },
  {
   "cell_type": "code",
   "execution_count": 15,
   "metadata": {
    "hidden": true
   },
   "outputs": [
    {
     "data": {
      "text/plain": [
       "(torch.Size([8, 1000, 64]), torch.Size([512, 8, 64]))"
      ]
     },
     "execution_count": 15,
     "metadata": {},
     "output_type": "execute_result"
    }
   ],
   "source": [
    "last_hidden_state.shape, mems[0].shape"
   ]
  },
  {
   "cell_type": "code",
   "execution_count": null,
   "metadata": {
    "hidden": true
   },
   "outputs": [],
   "source": [
    "def TransXL_LM(nn.Module):\n",
    "    def __init__(self,):\n",
    "        self.cfg = ts.TransfoXLConfig(vocab_size=4, d_model=512, d_embed=8, n_head=8, d_head=64, \n",
    "                                 d_inner=2048, n_layer=6, tgt_len=0, ext_len=0, mem_len=512, cutoffs=[1], )\n",
    "        self.core = ts.TransfoXLModel(cfg)\n",
    "        self.lm_head = nn.Linear(self.cfg.d_model,self.cfg.vocab_size)\n",
    "        \n",
    "    def forward(self,x,mems=None):\n",
    "        input = x[:-1]\n",
    "        target= x[1:]\n",
    "        for i in range(x.shape[1]//self.cfg.mem_len)\n",
    "            #todo break x\n",
    "            last_hidden_state,  mems = self.core(x,mems)\n",
    "            self.lm_head(last_hidden_state)"
   ]
  },
  {
   "cell_type": "markdown",
   "metadata": {},
   "source": [
    "## Resnet + TransformerXL"
   ]
  },
  {
   "cell_type": "code",
   "execution_count": 4,
   "metadata": {},
   "outputs": [],
   "source": [
    "import transformers as ts"
   ]
  },
  {
   "cell_type": "code",
   "execution_count": 5,
   "metadata": {},
   "outputs": [],
   "source": [
    "class ConvBN(nn.Module):\n",
    "    # https://arxiv.org/pdf/1603.05027.pdf \n",
    "    def __init__(self,inp_dim,out_dim,ks=1,pad=0,stride=1):\n",
    "        super().__init__()\n",
    "        self.bn = nn.BatchNorm1d(inp_dim)\n",
    "        self.cv = nn.Conv1d(inp_dim,out_dim, kernel_size=ks, padding=pad,stride=stride,bias=False)\n",
    "    def forward(self, x): return self.cv(F.relu(self.bn(x)))\n",
    "    \n",
    "    \n",
    "class ResBlock1D(nn.Module):\n",
    "    def __init__(self,out_dim,first_stride=2,k=1):\n",
    "        super().__init__()\n",
    "        width = int(k * out_dim//4) # https://arxiv.org/abs/1605.07146\n",
    "        self.cvbn1 = ConvBN(out_dim//2, width,stride=first_stride) #(bs,inp_dim,seq_len)\n",
    "        self.cvbn2 = ConvBN(width,      width,3,1)\n",
    "        self.cvbn3 = ConvBN(width,      out_dim)\n",
    "        self.id    = ConvBN(out_dim//2, out_dim,stride=first_stride)\n",
    "        \n",
    "    def forward(self,inp):\n",
    "        x = self.cvbn1(inp)\n",
    "        x = self.cvbn2(x)\n",
    "        x = self.cvbn3(x)\n",
    "        return x + self.id(inp)\n",
    "         \n",
    "    \n",
    "class Resnet1D(nn.Module):\n",
    "    def __init__(self,n_blocks,emb_dim,d_model,k=1):\n",
    "        super().__init__()\n",
    "        self.out_seq_len = int(1000/2**n_blocks)\n",
    "        assert d_model%2**n_blocks==0                           # n_blocks = 3\n",
    "                                                                # (bs,8,1000) input\n",
    "        layers =[nn.Conv1d(emb_dim,d_model//2**n_blocks,7,1,3,bias=False)] # (bs,64,1000)\n",
    "\n",
    "        for i in range(n_blocks,0,-1):\n",
    "            out_dim = d_model//2**(i-1)\n",
    "            layers.append(ResBlock1D(out_dim,k=k))                  # (bs, d_model//2**(i-1), seq_len/i)\n",
    "        self.layers = nn.Sequential(*layers)\n",
    "        self.RBN = nn.Sequential(nn.BatchNorm1d(d_model),nn.ReLU(inplace=True))\n",
    "    def forward(self, x): return self.RBN(self.layers(x))\n",
    "    \n",
    "    \n",
    "class ResTransXLHead(nn.Module):\n",
    "    def __init__(self,inp_dim,hid_dim=512,p=0.3,WVN=False):\n",
    "        super().__init__()\n",
    "        layers = []\n",
    "        if hid_dim!=0:\n",
    "            layers = [ \n",
    "                nn.Linear(inp_dim,hid_dim,bias=False),\n",
    "                nn.BatchNorm1d(hid_dim),\n",
    "                nn.ReLU(inplace=True),\n",
    "                nn.Dropout(p)\n",
    "            ]\n",
    "        else: hid_dim = inp_dim\n",
    "\n",
    "        self.fc_end = nn.Linear(hid_dim,919)\n",
    "        self.init_umbalanced()\n",
    "        layers.append(self.fc_end)\n",
    "        self.layers = nn.Sequential(*layers)\n",
    "        \n",
    "        if WVN:\n",
    "            #https://arxiv.org/pdf/1912.01857.pdf\n",
    "            self.fc_end.register_backward_hook(self.__WVN__)\n",
    "\n",
    "    def __WVN__(self, module, grad_input, grad_output):\n",
    "        W = module.weight.data\n",
    "        W_norm = W / torch.norm(W, p=2, dim=1, keepdim=True)\n",
    "        module.weight.data.copy_(W_norm)\n",
    "        \n",
    "    def init_umbalanced(self):\n",
    "        # https://arxiv.org/pdf/1901.05555.pdf\n",
    "        pi = torch.tensor(2/100) #prob of positive class\n",
    "        b = -torch.log((1-pi)/pi)\n",
    "        nn.init.constant_(self.fc_end.bias,b)\n",
    "        \n",
    "    def forward(self, x): return self.layers(x) \n",
    "    \n",
    "    \n",
    "class ResTransXL(nn.Module):\n",
    "    def __init__(self,vocab_size,d_emb, tsfm_cfg, n_res_blocks=3,res_k=1, res_p=0.2, \n",
    "                 skip_cnt=False, fc_h_dim=512,lin_p=0.3, WVN=False,LSTM=True,LSTM_p=0.5):\n",
    "        super(ResTransXL, self).__init__()\n",
    "        self.LSTM = LSTM\n",
    "        self.emb = nn.Embedding(vocab_size,d_emb)\n",
    "        self.res = Resnet1D(n_res_blocks,d_emb,tsfm_cfg.d_model,k=res_k)\n",
    "        self.res_drop = nn.Dropout(res_p)\n",
    "        self.cfg = tsfm_cfg\n",
    "        if LSTM: \n",
    "            self.core = nn.LSTM(tsfm_cfg.d_model,tsfm_cfg.d_model,bidirectional=True,batch_first=True)\n",
    "            self.core_drop = nn.Dropout(LSTM_p)\n",
    "        else: self.core = ts.TransfoXLModel(tsfm_cfg)\n",
    "        self.skip_cnt = skip_cnt\n",
    "        self.lin_inp_dim = self.res.out_seq_len * tsfm_cfg.d_model *(1 + skip_cnt + LSTM)\n",
    "        self.lm_head = ResTransXLHead(self.lin_inp_dim,fc_h_dim,p=lin_p,WVN=False)\n",
    "        \n",
    "    def summary(self):\n",
    "        print(f'Model parameters:\\t\\t\\t\\t')\n",
    "        print(f'Resnet part:\\t\\t{count_parameters(self.res)//1000}k')\n",
    "        print(f'Transformer-XL part:\\t{count_parameters(self.core)//1000}k')\n",
    "        print(f'Linear part:\\t\\t{count_parameters(self.lm_head)//1000}k')\n",
    "        print(f'Total:\\t\\t\\t{count_parameters(self)//1000}k')\n",
    "        \n",
    "    def forward(self,x,mems=None):\n",
    "        x = self.emb(x)                   #(bs, 1000, d_emb)\n",
    "        x = x.permute(0,2,1).contiguous() #(bs, d_emb, 1000)\n",
    "        \n",
    "        x = self.res(x)                   #(bs, d_model,125)\n",
    "        x = self.res_drop(x)\n",
    "        x = x.permute(0,2,1).contiguous() #(bs, 125, d_model)\n",
    "        \n",
    "        if self.LSTM: \n",
    "            last_h, _ = self.core(x)            # (bs, seq_len, num_directions * hidden_size)\n",
    "            last_h = self.core_drop(last_h)\n",
    "        else: last_h,  mems = self.core(inputs_embeds=x,mems=mems) #(bs, 125, d_model)\n",
    "            \n",
    "        if self.skip_cnt:\n",
    "            lin_inp = torch.cat([x,last_h],dim=-1)\n",
    "            lin_inp = lin_inp.view(-1, self.lin_inp_dim)\n",
    "        else:    \n",
    "            lin_inp = last_h.view(-1, self.lin_inp_dim)\n",
    "        out = self.lm_head(lin_inp)\n",
    "        return out, mems"
   ]
  },
  {
   "cell_type": "code",
   "execution_count": 6,
   "metadata": {
    "scrolled": true
   },
   "outputs": [
    {
     "data": {
      "text/plain": [
       "torch.Size([32, 919])"
      ]
     },
     "execution_count": 6,
     "metadata": {},
     "output_type": "execute_result"
    }
   ],
   "source": [
    "cfg = ts.TransfoXLConfig(vocab_size=4, d_embed=8,d_model=256, n_head=4, d_head=16, d_inner=256, \n",
    "                         n_layer=6, tgt_len=0, ext_len=0, mem_len=512, cutoffs=[1], )\n",
    "\n",
    "model = ResTransXL(vocab_size=4, d_emb=64, tsfm_cfg=cfg,skip_cnt=True,fc_h_dim=512,n_res_blocks=3,res_k=16)\n",
    "model(sample_batch.cpu())[0].shape"
   ]
  },
  {
   "cell_type": "code",
   "execution_count": 7,
   "metadata": {},
   "outputs": [
    {
     "name": "stdout",
     "output_type": "stream",
     "text": [
      "Model parameters:\t\t\t\t\n",
      "Resnet part:\t\t4710k\n",
      "Transformer-XL part:\t1052k\n",
      "Linear part:\t\t49624k\n",
      "Total:\t\t\t55388k\n"
     ]
    }
   ],
   "source": [
    "model.summary()"
   ]
  },
  {
   "cell_type": "code",
   "execution_count": 8,
   "metadata": {
    "collapsed": true
   },
   "outputs": [
    {
     "data": {
      "text/plain": [
       "ResTransXL(\n",
       "  (emb): Embedding(4, 64)\n",
       "  (res): Resnet1D(\n",
       "    (layers): Sequential(\n",
       "      (0): Conv1d(64, 32, kernel_size=(7,), stride=(1,), padding=(3,), bias=False)\n",
       "      (1): ResBlock1D(\n",
       "        (cvbn1): ConvBN(\n",
       "          (bn): BatchNorm1d(32, eps=1e-05, momentum=0.1, affine=True, track_running_stats=True)\n",
       "          (cv): Conv1d(32, 256, kernel_size=(1,), stride=(2,), bias=False)\n",
       "        )\n",
       "        (cvbn2): ConvBN(\n",
       "          (bn): BatchNorm1d(256, eps=1e-05, momentum=0.1, affine=True, track_running_stats=True)\n",
       "          (cv): Conv1d(256, 256, kernel_size=(3,), stride=(1,), padding=(1,), bias=False)\n",
       "        )\n",
       "        (cvbn3): ConvBN(\n",
       "          (bn): BatchNorm1d(256, eps=1e-05, momentum=0.1, affine=True, track_running_stats=True)\n",
       "          (cv): Conv1d(256, 64, kernel_size=(1,), stride=(1,), bias=False)\n",
       "        )\n",
       "        (id): ConvBN(\n",
       "          (bn): BatchNorm1d(32, eps=1e-05, momentum=0.1, affine=True, track_running_stats=True)\n",
       "          (cv): Conv1d(32, 64, kernel_size=(1,), stride=(2,), bias=False)\n",
       "        )\n",
       "      )\n",
       "      (2): ResBlock1D(\n",
       "        (cvbn1): ConvBN(\n",
       "          (bn): BatchNorm1d(64, eps=1e-05, momentum=0.1, affine=True, track_running_stats=True)\n",
       "          (cv): Conv1d(64, 512, kernel_size=(1,), stride=(2,), bias=False)\n",
       "        )\n",
       "        (cvbn2): ConvBN(\n",
       "          (bn): BatchNorm1d(512, eps=1e-05, momentum=0.1, affine=True, track_running_stats=True)\n",
       "          (cv): Conv1d(512, 512, kernel_size=(3,), stride=(1,), padding=(1,), bias=False)\n",
       "        )\n",
       "        (cvbn3): ConvBN(\n",
       "          (bn): BatchNorm1d(512, eps=1e-05, momentum=0.1, affine=True, track_running_stats=True)\n",
       "          (cv): Conv1d(512, 128, kernel_size=(1,), stride=(1,), bias=False)\n",
       "        )\n",
       "        (id): ConvBN(\n",
       "          (bn): BatchNorm1d(64, eps=1e-05, momentum=0.1, affine=True, track_running_stats=True)\n",
       "          (cv): Conv1d(64, 128, kernel_size=(1,), stride=(2,), bias=False)\n",
       "        )\n",
       "      )\n",
       "      (3): ResBlock1D(\n",
       "        (cvbn1): ConvBN(\n",
       "          (bn): BatchNorm1d(128, eps=1e-05, momentum=0.1, affine=True, track_running_stats=True)\n",
       "          (cv): Conv1d(128, 1024, kernel_size=(1,), stride=(2,), bias=False)\n",
       "        )\n",
       "        (cvbn2): ConvBN(\n",
       "          (bn): BatchNorm1d(1024, eps=1e-05, momentum=0.1, affine=True, track_running_stats=True)\n",
       "          (cv): Conv1d(1024, 1024, kernel_size=(3,), stride=(1,), padding=(1,), bias=False)\n",
       "        )\n",
       "        (cvbn3): ConvBN(\n",
       "          (bn): BatchNorm1d(1024, eps=1e-05, momentum=0.1, affine=True, track_running_stats=True)\n",
       "          (cv): Conv1d(1024, 256, kernel_size=(1,), stride=(1,), bias=False)\n",
       "        )\n",
       "        (id): ConvBN(\n",
       "          (bn): BatchNorm1d(128, eps=1e-05, momentum=0.1, affine=True, track_running_stats=True)\n",
       "          (cv): Conv1d(128, 256, kernel_size=(1,), stride=(2,), bias=False)\n",
       "        )\n",
       "      )\n",
       "    )\n",
       "    (RBN): Sequential(\n",
       "      (0): BatchNorm1d(256, eps=1e-05, momentum=0.1, affine=True, track_running_stats=True)\n",
       "      (1): ReLU(inplace=True)\n",
       "    )\n",
       "  )\n",
       "  (core): TransfoXLModel(\n",
       "    (word_emb): AdaptiveEmbedding(\n",
       "      (emb_layers): ModuleList(\n",
       "        (0): Embedding(1, 8)\n",
       "        (1): Embedding(3, 2)\n",
       "      )\n",
       "      (emb_projs): ParameterList(\n",
       "          (0): Parameter containing: [torch.FloatTensor of size 256x8]\n",
       "          (1): Parameter containing: [torch.FloatTensor of size 256x2]\n",
       "      )\n",
       "    )\n",
       "    (drop): Dropout(p=0.1, inplace=False)\n",
       "    (layers): ModuleList(\n",
       "      (0): RelPartialLearnableDecoderLayer(\n",
       "        (dec_attn): RelPartialLearnableMultiHeadAttn(\n",
       "          (qkv_net): Linear(in_features=256, out_features=192, bias=False)\n",
       "          (drop): Dropout(p=0.1, inplace=False)\n",
       "          (dropatt): Dropout(p=0.0, inplace=False)\n",
       "          (o_net): Linear(in_features=64, out_features=256, bias=False)\n",
       "          (layer_norm): LayerNorm((256,), eps=1e-05, elementwise_affine=True)\n",
       "          (r_net): Linear(in_features=256, out_features=64, bias=False)\n",
       "        )\n",
       "        (pos_ff): PositionwiseFF(\n",
       "          (CoreNet): Sequential(\n",
       "            (0): Linear(in_features=256, out_features=256, bias=True)\n",
       "            (1): ReLU(inplace=True)\n",
       "            (2): Dropout(p=0.1, inplace=False)\n",
       "            (3): Linear(in_features=256, out_features=256, bias=True)\n",
       "            (4): Dropout(p=0.1, inplace=False)\n",
       "          )\n",
       "          (layer_norm): LayerNorm((256,), eps=1e-05, elementwise_affine=True)\n",
       "        )\n",
       "      )\n",
       "      (1): RelPartialLearnableDecoderLayer(\n",
       "        (dec_attn): RelPartialLearnableMultiHeadAttn(\n",
       "          (qkv_net): Linear(in_features=256, out_features=192, bias=False)\n",
       "          (drop): Dropout(p=0.1, inplace=False)\n",
       "          (dropatt): Dropout(p=0.0, inplace=False)\n",
       "          (o_net): Linear(in_features=64, out_features=256, bias=False)\n",
       "          (layer_norm): LayerNorm((256,), eps=1e-05, elementwise_affine=True)\n",
       "          (r_net): Linear(in_features=256, out_features=64, bias=False)\n",
       "        )\n",
       "        (pos_ff): PositionwiseFF(\n",
       "          (CoreNet): Sequential(\n",
       "            (0): Linear(in_features=256, out_features=256, bias=True)\n",
       "            (1): ReLU(inplace=True)\n",
       "            (2): Dropout(p=0.1, inplace=False)\n",
       "            (3): Linear(in_features=256, out_features=256, bias=True)\n",
       "            (4): Dropout(p=0.1, inplace=False)\n",
       "          )\n",
       "          (layer_norm): LayerNorm((256,), eps=1e-05, elementwise_affine=True)\n",
       "        )\n",
       "      )\n",
       "      (2): RelPartialLearnableDecoderLayer(\n",
       "        (dec_attn): RelPartialLearnableMultiHeadAttn(\n",
       "          (qkv_net): Linear(in_features=256, out_features=192, bias=False)\n",
       "          (drop): Dropout(p=0.1, inplace=False)\n",
       "          (dropatt): Dropout(p=0.0, inplace=False)\n",
       "          (o_net): Linear(in_features=64, out_features=256, bias=False)\n",
       "          (layer_norm): LayerNorm((256,), eps=1e-05, elementwise_affine=True)\n",
       "          (r_net): Linear(in_features=256, out_features=64, bias=False)\n",
       "        )\n",
       "        (pos_ff): PositionwiseFF(\n",
       "          (CoreNet): Sequential(\n",
       "            (0): Linear(in_features=256, out_features=256, bias=True)\n",
       "            (1): ReLU(inplace=True)\n",
       "            (2): Dropout(p=0.1, inplace=False)\n",
       "            (3): Linear(in_features=256, out_features=256, bias=True)\n",
       "            (4): Dropout(p=0.1, inplace=False)\n",
       "          )\n",
       "          (layer_norm): LayerNorm((256,), eps=1e-05, elementwise_affine=True)\n",
       "        )\n",
       "      )\n",
       "      (3): RelPartialLearnableDecoderLayer(\n",
       "        (dec_attn): RelPartialLearnableMultiHeadAttn(\n",
       "          (qkv_net): Linear(in_features=256, out_features=192, bias=False)\n",
       "          (drop): Dropout(p=0.1, inplace=False)\n",
       "          (dropatt): Dropout(p=0.0, inplace=False)\n",
       "          (o_net): Linear(in_features=64, out_features=256, bias=False)\n",
       "          (layer_norm): LayerNorm((256,), eps=1e-05, elementwise_affine=True)\n",
       "          (r_net): Linear(in_features=256, out_features=64, bias=False)\n",
       "        )\n",
       "        (pos_ff): PositionwiseFF(\n",
       "          (CoreNet): Sequential(\n",
       "            (0): Linear(in_features=256, out_features=256, bias=True)\n",
       "            (1): ReLU(inplace=True)\n",
       "            (2): Dropout(p=0.1, inplace=False)\n",
       "            (3): Linear(in_features=256, out_features=256, bias=True)\n",
       "            (4): Dropout(p=0.1, inplace=False)\n",
       "          )\n",
       "          (layer_norm): LayerNorm((256,), eps=1e-05, elementwise_affine=True)\n",
       "        )\n",
       "      )\n",
       "      (4): RelPartialLearnableDecoderLayer(\n",
       "        (dec_attn): RelPartialLearnableMultiHeadAttn(\n",
       "          (qkv_net): Linear(in_features=256, out_features=192, bias=False)\n",
       "          (drop): Dropout(p=0.1, inplace=False)\n",
       "          (dropatt): Dropout(p=0.0, inplace=False)\n",
       "          (o_net): Linear(in_features=64, out_features=256, bias=False)\n",
       "          (layer_norm): LayerNorm((256,), eps=1e-05, elementwise_affine=True)\n",
       "          (r_net): Linear(in_features=256, out_features=64, bias=False)\n",
       "        )\n",
       "        (pos_ff): PositionwiseFF(\n",
       "          (CoreNet): Sequential(\n",
       "            (0): Linear(in_features=256, out_features=256, bias=True)\n",
       "            (1): ReLU(inplace=True)\n",
       "            (2): Dropout(p=0.1, inplace=False)\n",
       "            (3): Linear(in_features=256, out_features=256, bias=True)\n",
       "            (4): Dropout(p=0.1, inplace=False)\n",
       "          )\n",
       "          (layer_norm): LayerNorm((256,), eps=1e-05, elementwise_affine=True)\n",
       "        )\n",
       "      )\n",
       "      (5): RelPartialLearnableDecoderLayer(\n",
       "        (dec_attn): RelPartialLearnableMultiHeadAttn(\n",
       "          (qkv_net): Linear(in_features=256, out_features=192, bias=False)\n",
       "          (drop): Dropout(p=0.1, inplace=False)\n",
       "          (dropatt): Dropout(p=0.0, inplace=False)\n",
       "          (o_net): Linear(in_features=64, out_features=256, bias=False)\n",
       "          (layer_norm): LayerNorm((256,), eps=1e-05, elementwise_affine=True)\n",
       "          (r_net): Linear(in_features=256, out_features=64, bias=False)\n",
       "        )\n",
       "        (pos_ff): PositionwiseFF(\n",
       "          (CoreNet): Sequential(\n",
       "            (0): Linear(in_features=256, out_features=256, bias=True)\n",
       "            (1): ReLU(inplace=True)\n",
       "            (2): Dropout(p=0.1, inplace=False)\n",
       "            (3): Linear(in_features=256, out_features=256, bias=True)\n",
       "            (4): Dropout(p=0.1, inplace=False)\n",
       "          )\n",
       "          (layer_norm): LayerNorm((256,), eps=1e-05, elementwise_affine=True)\n",
       "        )\n",
       "      )\n",
       "    )\n",
       "    (pos_emb): PositionalEmbedding()\n",
       "  )\n",
       "  (lm_head): ResTransXLHead(\n",
       "    (fc_end): Linear(in_features=512, out_features=919, bias=True)\n",
       "    (layers): Sequential(\n",
       "      (0): Linear(in_features=64000, out_features=512, bias=False)\n",
       "      (1): BatchNorm1d(512, eps=1e-05, momentum=0.1, affine=True, track_running_stats=True)\n",
       "      (2): ReLU(inplace=True)\n",
       "      (3): Dropout(p=0.3, inplace=False)\n",
       "      (4): Linear(in_features=512, out_features=919, bias=True)\n",
       "    )\n",
       "  )\n",
       ")"
      ]
     },
     "execution_count": 8,
     "metadata": {},
     "output_type": "execute_result"
    }
   ],
   "source": [
    "model"
   ]
  },
  {
   "cell_type": "markdown",
   "metadata": {},
   "source": [
    "### bottleneck"
   ]
  },
  {
   "cell_type": "code",
   "execution_count": 40,
   "metadata": {},
   "outputs": [],
   "source": [
    "#break network in piece and pass random batches of difents size, time each part to find botleneck\n",
    "#calculate teorical total batch time too"
   ]
  },
  {
   "cell_type": "code",
   "execution_count": 34,
   "metadata": {},
   "outputs": [],
   "source": [
    "def profile(model,x):\n",
    "        t0 = time.time()\n",
    "        x = model.emb(x)                   #(bs, 1000, d_emb)\n",
    "        \n",
    "        t1 = time.time() - t0\n",
    "        x = x.permute(0,2,1).contiguous() #(bs, d_emb, 1000)\n",
    "        x = model.res(x)                   #(bs, d_model,125)\n",
    "        \n",
    "        t2 = time.time() - t0\n",
    "        x = x.permute(0,2,1).contiguous() #(bs, 125, d_model)\n",
    "        if model.LSTM: last_h, _ = model.core(x)            # (bs, seq_len, num_directions * hidden_size)\n",
    "        else: last_h,  mems = model.core(inputs_embeds=x,mems=mems) #(bs, 125, d_model)\n",
    "        \n",
    "        t3 = time.time() - t0\n",
    "        if model.skip_cnt:\n",
    "            lin_inp = torch.cat([x,last_h],dim=-1)\n",
    "            lin_inp = lin_inp.view(-1, model.lin_inp_dim)\n",
    "        else:    \n",
    "            lin_inp = last_h.view(-1, model.lin_inp_dim)\n",
    "        out = model.lm_head(lin_inp) \n",
    "        t4 = time.time() - t0\n",
    "        return [0,t1,t2,t3,t4]"
   ]
  },
  {
   "cell_type": "markdown",
   "metadata": {
    "heading_collapsed": true
   },
   "source": [
    "#### d_model=256"
   ]
  },
  {
   "cell_type": "code",
   "execution_count": 17,
   "metadata": {
    "hidden": true
   },
   "outputs": [
    {
     "name": "stdout",
     "output_type": "stream",
     "text": [
      "Model parameters:\t\t\t\t\n",
      "Resnet part:\t\t94k\n",
      "Transformer-XL part:\t896k\n",
      "Linear part:\t\t16855k\n",
      "Total:\t\t\t17847k\n"
     ]
    }
   ],
   "source": [
    "cfg = ts.TransfoXLConfig(vocab_size=4, d_embed=8,d_model=256, n_head=4, d_head=16, d_inner=128, \n",
    "                         n_layer=6, tgt_len=0, ext_len=0, mem_len=512, cutoffs=[1], )\n",
    "\n",
    "model = ResTransXL(vocab_size=4, d_emb=8, tsfm_cfg=cfg,fc_h_dim=512)\n",
    "model.cuda()\n",
    "model.summary()"
   ]
  },
  {
   "cell_type": "code",
   "execution_count": 18,
   "metadata": {
    "hidden": true
   },
   "outputs": [
    {
     "name": "stdout",
     "output_type": "stream",
     "text": [
      "41.2 ms ± 3.02 ms per loop (mean ± std. dev. of 7 runs, 10 loops each)\n"
     ]
    }
   ],
   "source": [
    "%timeit model(sample_batch.cuda())"
   ]
  },
  {
   "cell_type": "code",
   "execution_count": 70,
   "metadata": {
    "hidden": true
   },
   "outputs": [
    {
     "data": {
      "text/plain": [
       "[<matplotlib.lines.Line2D at 0x7fb8e4c13e80>]"
      ]
     },
     "execution_count": 70,
     "metadata": {},
     "output_type": "execute_result"
    },
    {
     "data": {
      "image/png": "[encoded data removed]",
      "text/plain": [
       "<Figure size 432x288 with 1 Axes>"
      ]
     },
     "metadata": {
      "needs_background": "light"
     },
     "output_type": "display_data"
    }
   ],
   "source": [
    "N = 4_400_000\n",
    "t_s = []\n",
    "t_ins = []\n",
    "bss=[1,2,4,8,16,32,64]\n",
    "\n",
    "for bs in bss:\n",
    "    sample_batch = torch.randint(0,3,(8,1000)).cuda()\n",
    "    start = time.time()\n",
    "    t_in = model(sample_batch.cuda(),profile=True)\n",
    "    end = time.time()\n",
    "    t = (end-start)/bs\n",
    "    t_s.append(t)\n",
    "    t_ins.append(t_in)\n",
    "    \n",
    "plt.plot(bss,t_s)"
   ]
  },
  {
   "cell_type": "code",
   "execution_count": 71,
   "metadata": {
    "hidden": true
   },
   "outputs": [
    {
     "data": {
      "text/plain": [
       "<matplotlib.legend.Legend at 0x7fb8e4dd86a0>"
      ]
     },
     "execution_count": 71,
     "metadata": {},
     "output_type": "execute_result"
    },
    {
     "data": {
      "image/png": "[encoded data removed]",
      "text/plain": [
       "<Figure size 432x288 with 1 Axes>"
      ]
     },
     "metadata": {
      "needs_background": "light"
     },
     "output_type": "display_data"
    }
   ],
   "source": [
    "min_t=[]\n",
    "max_t=[]\n",
    "for i in range(len(bss)):\n",
    "    plt.plot([0,1,2,3,4],t_ins[i])\n",
    "    \n",
    "plt.legend(bss)"
   ]
  },
  {
   "cell_type": "code",
   "execution_count": 72,
   "metadata": {
    "hidden": true
   },
   "outputs": [
    {
     "data": {
      "text/plain": [
       "array([ 2.82849061, 16.17382361, 80.45770121,  0.53998457])"
      ]
     },
     "execution_count": 72,
     "metadata": {},
     "output_type": "execute_result"
    }
   ],
   "source": [
    "np_t_ins = np.array(t_ins)\n",
    "np_t_ins_difs = np_t_ins[:,1:] - np_t_ins[:,:-1]\n",
    "\n",
    "t_max_dif = np_t_ins_difs.max(0)-np_t_ins_difs.min(0)\n",
    "t_max_dif/t_max_dif.sum() * 100 # % of time discrepancy(emb,res,t-xl,fc)"
   ]
  },
  {
   "cell_type": "markdown",
   "metadata": {
    "heading_collapsed": true
   },
   "source": [
    "#### d_model=32"
   ]
  },
  {
   "cell_type": "code",
   "execution_count": 19,
   "metadata": {
    "hidden": true
   },
   "outputs": [
    {
     "data": {
      "text/plain": [
       "(4843469, 50184, 225294, 4567959)"
      ]
     },
     "execution_count": 19,
     "metadata": {},
     "output_type": "execute_result"
    }
   ],
   "source": [
    "cfg = ts.TransfoXLConfig(vocab_size=4, d_embed=8,d_model=64, n_head=4, d_head=16, d_inner=128, \n",
    "                         n_layer=6, tgt_len=0, ext_len=0, mem_len=512, cutoffs=[1], )\n",
    "\n",
    "model = ResTransXL(vocab_size=4, d_emb=8, tsfm_cfg=cfg,fc_h_dim=512)\n",
    "model.cuda()\n",
    "count_parameters(model),count_parameters(model.res),count_parameters(model.core),count_parameters(model.lm_head)"
   ]
  },
  {
   "cell_type": "code",
   "execution_count": 20,
   "metadata": {
    "hidden": true
   },
   "outputs": [
    {
     "name": "stdout",
     "output_type": "stream",
     "text": [
      "14.2 ms ± 62.3 µs per loop (mean ± std. dev. of 7 runs, 100 loops each)\n"
     ]
    }
   ],
   "source": [
    "%timeit model(sample_batch.cuda())"
   ]
  },
  {
   "cell_type": "code",
   "execution_count": 21,
   "metadata": {
    "hidden": true
   },
   "outputs": [
    {
     "data": {
      "text/plain": [
       "[<matplotlib.lines.Line2D at 0x7f1fbe60aa58>]"
      ]
     },
     "execution_count": 21,
     "metadata": {},
     "output_type": "execute_result"
    },
    {
     "data": {
      "image/png": "[encoded data removed]",
      "text/plain": [
       "<Figure size 432x288 with 1 Axes>"
      ]
     },
     "metadata": {
      "needs_background": "light"
     },
     "output_type": "display_data"
    }
   ],
   "source": [
    "N = 4_400_000\n",
    "t_s = []\n",
    "t_ins = []\n",
    "bss=[1,2,4,8,16,32,64]\n",
    "\n",
    "for bs in bss:\n",
    "    sample_batch = torch.randint(0,3,(8,1000)).cuda()\n",
    "    start = time.time()\n",
    "    t_in = model(sample_batch.cuda(),profile=True)\n",
    "    end = time.time()\n",
    "    t = (end-start)/bs\n",
    "    t_s.append(t)\n",
    "    t_ins.append(t_in)\n",
    "    \n",
    "plt.plot(bss,t_s)"
   ]
  },
  {
   "cell_type": "code",
   "execution_count": 22,
   "metadata": {
    "hidden": true
   },
   "outputs": [
    {
     "data": {
      "text/plain": [
       "<matplotlib.legend.Legend at 0x7f1fbe5c25f8>"
      ]
     },
     "execution_count": 22,
     "metadata": {},
     "output_type": "execute_result"
    },
    {
     "data": {
      "image/png": "[encoded data removed]",
      "text/plain": [
       "<Figure size 432x288 with 1 Axes>"
      ]
     },
     "metadata": {
      "needs_background": "light"
     },
     "output_type": "display_data"
    }
   ],
   "source": [
    "min_t=[]\n",
    "max_t=[]\n",
    "for i in range(len(bss)):\n",
    "    plt.plot([0,1,2,3,4],t_ins[i])\n",
    "    \n",
    "plt.legend(bss)"
   ]
  },
  {
   "cell_type": "code",
   "execution_count": 23,
   "metadata": {
    "hidden": true
   },
   "outputs": [
    {
     "data": {
      "text/plain": [
       "array([ 1.17354687,  8.87063372, 89.31382024,  0.64199917])"
      ]
     },
     "execution_count": 23,
     "metadata": {},
     "output_type": "execute_result"
    }
   ],
   "source": [
    "np_t_ins = np.array(t_ins)\n",
    "np_t_ins_difs = np_t_ins[:,1:] - np_t_ins[:,:-1]\n",
    "\n",
    "t_max_dif = np_t_ins_difs.max(0)-np_t_ins_difs.min(0)\n",
    "t_max_dif/t_max_dif.sum() * 100  # % of time discrepancy(emb,res,t-xl,fc)"
   ]
  },
  {
   "cell_type": "markdown",
   "metadata": {},
   "source": [
    "#### "
   ]
  },
  {
   "cell_type": "code",
   "execution_count": 9,
   "metadata": {},
   "outputs": [
    {
     "name": "stdout",
     "output_type": "stream",
     "text": [
      "Model parameters:\t\t\t\t\n",
      "Resnet part:\t\t8894k\n",
      "Transformer-XL part:\t1988k\n",
      "Linear part:\t\t34028k\n",
      "Total:\t\t\t44911k\n"
     ]
    }
   ],
   "source": [
    "cfg = ts.TransfoXLConfig(vocab_size=4, d_embed=8,d_model=352, n_head=4, d_head=16, d_inner=256, \n",
    "                         n_layer=6, tgt_len=0, ext_len=0, mem_len=256, cutoffs=[1], )\n",
    "\n",
    "model = ResTransXL(vocab_size=4, d_emb=64, tsfm_cfg=cfg,skip_cnt=True,fc_h_dim=256,n_res_blocks=3, res_k=16\n",
    "                   ,LSTM=True)\n",
    "# model.cuda()\n",
    "model.summary()"
   ]
  },
  {
   "cell_type": "code",
   "execution_count": 10,
   "metadata": {},
   "outputs": [
    {
     "data": {
      "text/plain": [
       "ResTransXL(\n",
       "  (emb): Embedding(4, 64)\n",
       "  (res): Resnet1D(\n",
       "    (layers): Sequential(\n",
       "      (0): Conv1d(64, 44, kernel_size=(7,), stride=(1,), padding=(3,), bias=False)\n",
       "      (1): ResBlock1D(\n",
       "        (cvbn1): ConvBN(\n",
       "          (bn): BatchNorm1d(44, eps=1e-05, momentum=0.1, affine=True, track_running_stats=True)\n",
       "          (cv): Conv1d(44, 352, kernel_size=(1,), stride=(2,), bias=False)\n",
       "        )\n",
       "        (cvbn2): ConvBN(\n",
       "          (bn): BatchNorm1d(352, eps=1e-05, momentum=0.1, affine=True, track_running_stats=True)\n",
       "          (cv): Conv1d(352, 352, kernel_size=(3,), stride=(1,), padding=(1,), bias=False)\n",
       "        )\n",
       "        (cvbn3): ConvBN(\n",
       "          (bn): BatchNorm1d(352, eps=1e-05, momentum=0.1, affine=True, track_running_stats=True)\n",
       "          (cv): Conv1d(352, 88, kernel_size=(1,), stride=(1,), bias=False)\n",
       "        )\n",
       "        (id): ConvBN(\n",
       "          (bn): BatchNorm1d(44, eps=1e-05, momentum=0.1, affine=True, track_running_stats=True)\n",
       "          (cv): Conv1d(44, 88, kernel_size=(1,), stride=(2,), bias=False)\n",
       "        )\n",
       "      )\n",
       "      (2): ResBlock1D(\n",
       "        (cvbn1): ConvBN(\n",
       "          (bn): BatchNorm1d(88, eps=1e-05, momentum=0.1, affine=True, track_running_stats=True)\n",
       "          (cv): Conv1d(88, 704, kernel_size=(1,), stride=(2,), bias=False)\n",
       "        )\n",
       "        (cvbn2): ConvBN(\n",
       "          (bn): BatchNorm1d(704, eps=1e-05, momentum=0.1, affine=True, track_running_stats=True)\n",
       "          (cv): Conv1d(704, 704, kernel_size=(3,), stride=(1,), padding=(1,), bias=False)\n",
       "        )\n",
       "        (cvbn3): ConvBN(\n",
       "          (bn): BatchNorm1d(704, eps=1e-05, momentum=0.1, affine=True, track_running_stats=True)\n",
       "          (cv): Conv1d(704, 176, kernel_size=(1,), stride=(1,), bias=False)\n",
       "        )\n",
       "        (id): ConvBN(\n",
       "          (bn): BatchNorm1d(88, eps=1e-05, momentum=0.1, affine=True, track_running_stats=True)\n",
       "          (cv): Conv1d(88, 176, kernel_size=(1,), stride=(2,), bias=False)\n",
       "        )\n",
       "      )\n",
       "      (3): ResBlock1D(\n",
       "        (cvbn1): ConvBN(\n",
       "          (bn): BatchNorm1d(176, eps=1e-05, momentum=0.1, affine=True, track_running_stats=True)\n",
       "          (cv): Conv1d(176, 1408, kernel_size=(1,), stride=(2,), bias=False)\n",
       "        )\n",
       "        (cvbn2): ConvBN(\n",
       "          (bn): BatchNorm1d(1408, eps=1e-05, momentum=0.1, affine=True, track_running_stats=True)\n",
       "          (cv): Conv1d(1408, 1408, kernel_size=(3,), stride=(1,), padding=(1,), bias=False)\n",
       "        )\n",
       "        (cvbn3): ConvBN(\n",
       "          (bn): BatchNorm1d(1408, eps=1e-05, momentum=0.1, affine=True, track_running_stats=True)\n",
       "          (cv): Conv1d(1408, 352, kernel_size=(1,), stride=(1,), bias=False)\n",
       "        )\n",
       "        (id): ConvBN(\n",
       "          (bn): BatchNorm1d(176, eps=1e-05, momentum=0.1, affine=True, track_running_stats=True)\n",
       "          (cv): Conv1d(176, 352, kernel_size=(1,), stride=(2,), bias=False)\n",
       "        )\n",
       "      )\n",
       "    )\n",
       "    (RBN): Sequential(\n",
       "      (0): BatchNorm1d(352, eps=1e-05, momentum=0.1, affine=True, track_running_stats=True)\n",
       "      (1): ReLU(inplace=True)\n",
       "    )\n",
       "  )\n",
       "  (res_drop): Dropout(p=0.2, inplace=False)\n",
       "  (core): LSTM(352, 352, batch_first=True, bidirectional=True)\n",
       "  (core_drop): Dropout(p=0.5, inplace=False)\n",
       "  (lm_head): ResTransXLHead(\n",
       "    (fc_end): Linear(in_features=256, out_features=919, bias=True)\n",
       "    (layers): Sequential(\n",
       "      (0): Linear(in_features=132000, out_features=256, bias=False)\n",
       "      (1): BatchNorm1d(256, eps=1e-05, momentum=0.1, affine=True, track_running_stats=True)\n",
       "      (2): ReLU(inplace=True)\n",
       "      (3): Dropout(p=0.3, inplace=False)\n",
       "      (4): Linear(in_features=256, out_features=919, bias=True)\n",
       "    )\n",
       "  )\n",
       ")"
      ]
     },
     "execution_count": 10,
     "metadata": {},
     "output_type": "execute_result"
    }
   ],
   "source": [
    "model"
   ]
  },
  {
   "cell_type": "code",
   "execution_count": 58,
   "metadata": {
    "scrolled": true
   },
   "outputs": [
    {
     "name": "stdout",
     "output_type": "stream",
     "text": [
      "19.7 ms ± 132 µs per loop (mean ± std. dev. of 7 runs, 10 loops each)\n"
     ]
    }
   ],
   "source": [
    "%timeit model(sample_batch.cuda())"
   ]
  },
  {
   "cell_type": "code",
   "execution_count": 45,
   "metadata": {},
   "outputs": [
    {
     "data": {
      "text/plain": [
       "[<matplotlib.lines.Line2D at 0x7fe289125518>]"
      ]
     },
     "execution_count": 45,
     "metadata": {},
     "output_type": "execute_result"
    },
    {
     "data": {
      "image/png": "[encoded data removed]",
      "text/plain": [
       "<Figure size 432x288 with 1 Axes>"
      ]
     },
     "metadata": {
      "needs_background": "light"
     },
     "output_type": "display_data"
    }
   ],
   "source": [
    "N = 4_400_000\n",
    "t_s = []\n",
    "t_ins = []\n",
    "bss=[1,2,4,8,16,32,64]\n",
    "\n",
    "for bs in bss:\n",
    "    sample_batch = torch.randint(0,3,(8,1000))#.cuda()\n",
    "    start = time.time()\n",
    "    t_in = profile(model,sample_batch)\n",
    "    end = time.time()\n",
    "    t = (end-start)/bs\n",
    "    t_s.append(t)\n",
    "    t_ins.append(t_in)\n",
    "    \n",
    "plt.plot(bss,t_s)"
   ]
  },
  {
   "cell_type": "code",
   "execution_count": 46,
   "metadata": {},
   "outputs": [
    {
     "data": {
      "text/plain": [
       "<matplotlib.legend.Legend at 0x7fe2883d7ba8>"
      ]
     },
     "execution_count": 46,
     "metadata": {},
     "output_type": "execute_result"
    },
    {
     "data": {
      "image/png": "[encoded data removed]",
      "text/plain": [
       "<Figure size 432x288 with 1 Axes>"
      ]
     },
     "metadata": {
      "needs_background": "light"
     },
     "output_type": "display_data"
    }
   ],
   "source": [
    "min_t=[]\n",
    "max_t=[]\n",
    "for i in range(len(bss)):\n",
    "    plt.plot([0,1,2,3,4],t_ins[i])\n",
    "    \n",
    "plt.legend(bss)"
   ]
  },
  {
   "cell_type": "code",
   "execution_count": 37,
   "metadata": {},
   "outputs": [
    {
     "data": {
      "text/plain": [
       "<matplotlib.legend.Legend at 0x7fe2891eeeb8>"
      ]
     },
     "execution_count": 37,
     "metadata": {},
     "output_type": "execute_result"
    },
    {
     "data": {
      "image/png": "[encoded data removed]",
      "text/plain": [
       "<Figure size 432x288 with 1 Axes>"
      ]
     },
     "metadata": {
      "needs_background": "light"
     },
     "output_type": "display_data"
    }
   ],
   "source": [
    "min_t=[]\n",
    "max_t=[]\n",
    "for i in range(len(bss)):\n",
    "    plt.plot([0,1,2,3,4],t_ins[i])\n",
    "    \n",
    "plt.legend(bss)"
   ]
  },
  {
   "cell_type": "code",
   "execution_count": 38,
   "metadata": {},
   "outputs": [
    {
     "data": {
      "text/plain": [
       "array([ 0.24026492, 15.08206231, 75.82171086,  8.85596191])"
      ]
     },
     "execution_count": 38,
     "metadata": {},
     "output_type": "execute_result"
    }
   ],
   "source": [
    "np_t_ins = np.array(t_ins)\n",
    "np_t_ins_difs = np_t_ins[:,1:] - np_t_ins[:,:-1]\n",
    "\n",
    "t_max_dif = np_t_ins_difs.max(0)-np_t_ins_difs.min(0)\n",
    "t_max_dif/t_max_dif.sum() * 100  # % of time discrepancy(emb,res,t-xl,fc)"
   ]
  },
  {
   "cell_type": "code",
   "execution_count": null,
   "metadata": {},
   "outputs": [],
   "source": []
  },
  {
   "cell_type": "markdown",
   "metadata": {
    "heading_collapsed": true
   },
   "source": [
    "## Reformer"
   ]
  },
  {
   "cell_type": "code",
   "execution_count": 14,
   "metadata": {
    "hidden": true,
    "scrolled": true
   },
   "outputs": [
    {
     "data": {
      "text/plain": [
       "torch.Size([32, 1024, 128])"
      ]
     },
     "execution_count": 14,
     "metadata": {},
     "output_type": "execute_result"
    }
   ],
   "source": [
    "import torch\n",
    "from reformer_pytorch import Reformer\n",
    "\n",
    "model = Reformer(\n",
    "    emb = 128,\n",
    "    depth = 6,\n",
    "    max_seq_len = 1000,\n",
    "    heads = 8,\n",
    "    lsh_dropout = 0.1,\n",
    "    causal = True\n",
    ").cuda()\n",
    "\n",
    "x = torch.randn(32, 1024, 128).cuda()\n",
    "y = model(x) # (1, 1000, 512)\n",
    "y.shape"
   ]
  },
  {
   "cell_type": "code",
   "execution_count": 15,
   "metadata": {
    "hidden": true
   },
   "outputs": [
    {
     "data": {
      "text/plain": [
       "1089024"
      ]
     },
     "execution_count": 15,
     "metadata": {},
     "output_type": "execute_result"
    }
   ],
   "source": [
    "count_parameters(model)"
   ]
  },
  {
   "cell_type": "code",
   "execution_count": 16,
   "metadata": {
    "hidden": true
   },
   "outputs": [
    {
     "name": "stdout",
     "output_type": "stream",
     "text": [
      "710 ms ± 6.22 ms per loop (mean ± std. dev. of 7 runs, 1 loop each)\n"
     ]
    }
   ],
   "source": [
    "%timeit model(x)"
   ]
  },
  {
   "cell_type": "code",
   "execution_count": null,
   "metadata": {
    "hidden": true
   },
   "outputs": [],
   "source": []
  }
 ],
 "metadata": {
  "kernelspec": {
   "display_name": "mlnd",
   "language": "python",
   "name": "mlnd"
  },
  "language_info": {
   "codemirror_mode": {
    "name": "ipython",
    "version": 3
   },
   "file_extension": ".py",
   "mimetype": "text/x-python",
   "name": "python",
   "nbconvert_exporter": "python",
   "pygments_lexer": "ipython3",
   "version": "3.6.10"
  }
 },
 "nbformat": 4,
 "nbformat_minor": 2
}
